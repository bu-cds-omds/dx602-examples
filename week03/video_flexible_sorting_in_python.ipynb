{
  "cells": [
    {
      "cell_type": "markdown",
      "metadata": {
        "id": "iM1kBWoXpG5E"
      },
      "source": [
        "# Video: Flexible Sorting in Python\n",
        "\n",
        "This video shows how to use lambda functions and the reverse option to change the behavior of Python's built-in sorting."
      ]
    },
    {
      "cell_type": "code",
      "execution_count": 42,
      "metadata": {
        "id": "zq4NSlSsdIOI"
      },
      "outputs": [],
      "source": [
        "my_data = [{\"a\": 3}, {\"a\": 4}, {\"a\": 2}]"
      ]
    },
    {
      "cell_type": "code",
      "execution_count": 43,
      "metadata": {
        "colab": {
          "base_uri": "https://localhost:8080/",
          "height": 144
        },
        "id": "gYzGRE6DdJqI",
        "outputId": "1af1c0f2-5434-4023-85f6-64b6195ea6c6"
      },
      "outputs": [
        {
          "ename": "TypeError",
          "evalue": "'<' not supported between instances of 'dict' and 'dict'",
          "output_type": "error",
          "traceback": [
            "\u001b[0;31m---------------------------------------------------------------------------\u001b[0m",
            "\u001b[0;31mTypeError\u001b[0m                                 Traceback (most recent call last)",
            "\u001b[0;32m<ipython-input-43-7bfec3eb49fb>\u001b[0m in \u001b[0;36m<cell line: 1>\u001b[0;34m()\u001b[0m\n\u001b[0;32m----> 1\u001b[0;31m \u001b[0mmy_data\u001b[0m\u001b[0;34m.\u001b[0m\u001b[0msort\u001b[0m\u001b[0;34m(\u001b[0m\u001b[0;34m)\u001b[0m\u001b[0;34m\u001b[0m\u001b[0;34m\u001b[0m\u001b[0m\n\u001b[0m",
            "\u001b[0;31mTypeError\u001b[0m: '<' not supported between instances of 'dict' and 'dict'"
          ]
        }
      ],
      "source": [
        "my_data.sort()"
      ]
    },
    {
      "cell_type": "code",
      "execution_count": null,
      "metadata": {
        "id": "KEZz8wZ0dRzx"
      },
      "outputs": [],
      "source": [
        "my_data.sort(key = lambda r: r[\"a\"])"
      ]
    },
    {
      "cell_type": "code",
      "execution_count": 45,
      "metadata": {
        "id": "WA5RhM3HdYiz"
      },
      "outputs": [],
      "source": [
        "my_data.sort(key = lambda r: -r[\"a\"])"
      ]
    },
    {
      "cell_type": "code",
      "execution_count": null,
      "metadata": {
        "id": "eu88jE08dhkL"
      },
      "outputs": [],
      "source": [
        "my_data.sort(key = lambda r: r[\"a\"], reverse=True)"
      ]
    },
    {
      "cell_type": "code",
      "execution_count": 46,
      "metadata": {
        "id": "gjsk3rhMdqKQ"
      },
      "outputs": [],
      "source": [
        "def my_key_func(r):\n",
        "    return r[\"a\"]"
      ]
    },
    {
      "cell_type": "code",
      "execution_count": 47,
      "metadata": {
        "id": "3HlAQnffd0_j"
      },
      "outputs": [],
      "source": [
        "my_data.sort(key = my_key_func, reverse=True)"
      ]
    },
    {
      "cell_type": "code",
      "execution_count": 49,
      "metadata": {
        "colab": {
          "base_uri": "https://localhost:8080/"
        },
        "id": "96Z6DPkGeJua",
        "outputId": "ca6b06e6-9f5b-42b2-f895-dd3e7e84d98b"
      },
      "outputs": [
        {
          "data": {
            "text/plain": [
              "[{'a': 2}, {'a': 3}, {'a': 4}]"
            ]
          },
          "execution_count": 49,
          "metadata": {},
          "output_type": "execute_result"
        }
      ],
      "source": [
        "sorted(my_data, key = lambda r: r[\"a\"])"
      ]
    },
    {
      "cell_type": "code",
      "execution_count": 50,
      "metadata": {
        "id": "kI9wcz8WeUPU"
      },
      "outputs": [],
      "source": [
        "min(my_data, key = lambda r: r[\"a\"])"
      ]
    },
    {
      "cell_type": "code",
      "execution_count": 52,
      "metadata": {
        "colab": {
          "base_uri": "https://localhost:8080/"
        },
        "id": "LcHF-FP7erGn",
        "outputId": "002083d7-6fe6-4106-ea60-395af676e4a2"
      },
      "outputs": [
        {
          "data": {
            "text/plain": [
              "{'a': 4}"
            ]
          },
          "execution_count": 52,
          "metadata": {},
          "output_type": "execute_result"
        }
      ],
      "source": [
        "max(my_data, key = lambda r: r[\"a\"])"
      ]
    }
  ],
  "metadata": {
    "colab": {},
    "kernelspec": {
      "display_name": "Python 3",
      "name": "python3"
    },
    "language_info": {
      "codemirror_mode": {
        "name": "ipython",
        "version": 3
      },
      "file_extension": ".py",
      "mimetype": "text/x-python",
      "name": "python",
      "nbconvert_exporter": "python",
      "pygments_lexer": "ipython3",
      "version": "3.9.6"
    }
  },
  "nbformat": 4,
  "nbformat_minor": 0
}