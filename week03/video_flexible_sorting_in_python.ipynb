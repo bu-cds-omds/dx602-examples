{
  "cells": [
    {
      "cell_type": "markdown",
      "metadata": {
        "id": "iM1kBWoXpG5E"
      },
      "source": [
        "# Video: Flexible Sorting in Python\n",
        "\n",
        "This video shows how to use lambda functions and the reverse option to change the behavior of Python's built-in sorting."
      ]
    },
    {
      "cell_type": "code",
      "execution_count": null,
      "metadata": {
        "id": "zq4NSlSsdIOI"
      },
      "outputs": [],
      "source": [
        "my_data = [{\"a\": 3}, {\"a\": 4}, {\"a\": 2}]"
      ]
    },
    {
      "cell_type": "code",
      "execution_count": null,
      "metadata": {
        "colab": {
          "base_uri": "https://localhost:8080/",
          "height": 180
        },
        "id": "gYzGRE6DdJqI",
        "outputId": "9aa60285-600b-4800-c163-c99c0a476966"
      },
      "outputs": [
        {
          "ename": "TypeError",
          "evalue": "'<' not supported between instances of 'dict' and 'dict'",
          "output_type": "error",
          "traceback": [
            "\u001b[0;31m---------------------------------------------------------------------------\u001b[0m",
            "\u001b[0;31mTypeError\u001b[0m                                 Traceback (most recent call last)",
            "\u001b[0;32m<ipython-input-2-7bfec3eb49fb>\u001b[0m in \u001b[0;36m<cell line: 1>\u001b[0;34m()\u001b[0m\n\u001b[0;32m----> 1\u001b[0;31m \u001b[0mmy_data\u001b[0m\u001b[0;34m.\u001b[0m\u001b[0msort\u001b[0m\u001b[0;34m(\u001b[0m\u001b[0;34m)\u001b[0m\u001b[0;34m\u001b[0m\u001b[0;34m\u001b[0m\u001b[0m\n\u001b[0m",
            "\u001b[0;31mTypeError\u001b[0m: '<' not supported between instances of 'dict' and 'dict'"
          ]
        }
      ],
      "source": [
        "my_data.sort()"
      ]
    },
    {
      "cell_type": "code",
      "execution_count": null,
      "metadata": {
        "id": "KEZz8wZ0dRzx"
      },
      "outputs": [],
      "source": [
        "my_data.sort(key = lambda r: r[\"a\"])"
      ]
    },
    {
      "cell_type": "code",
      "execution_count": null,
      "metadata": {
        "colab": {
          "base_uri": "https://localhost:8080/"
        },
        "id": "F94OeMAPjYgh",
        "outputId": "72459d65-553e-4225-f612-d695acb06e88"
      },
      "outputs": [
        {
          "data": {
            "text/plain": [
              "[{'a': 2}, {'a': 3}, {'a': 4}]"
            ]
          },
          "execution_count": 4,
          "metadata": {},
          "output_type": "execute_result"
        }
      ],
      "source": [
        "my_data"
      ]
    },
    {
      "cell_type": "code",
      "execution_count": null,
      "metadata": {
        "id": "WA5RhM3HdYiz"
      },
      "outputs": [],
      "source": [
        "my_data.sort(key = lambda r: -r[\"a\"])"
      ]
    },
    {
      "cell_type": "code",
      "execution_count": null,
      "metadata": {
        "colab": {
          "base_uri": "https://localhost:8080/"
        },
        "id": "gVwSEaInjj3m",
        "outputId": "1aeac8f4-fa6b-42c9-8535-5390c1440be1"
      },
      "outputs": [
        {
          "data": {
            "text/plain": [
              "[{'a': 4}, {'a': 3}, {'a': 2}]"
            ]
          },
          "execution_count": 6,
          "metadata": {},
          "output_type": "execute_result"
        }
      ],
      "source": [
        "my_data"
      ]
    },
    {
      "cell_type": "code",
      "execution_count": null,
      "metadata": {
        "id": "eu88jE08dhkL"
      },
      "outputs": [],
      "source": [
        "my_data.sort(key = lambda r: r[\"a\"], reverse=True)"
      ]
    },
    {
      "cell_type": "code",
      "execution_count": null,
      "metadata": {
        "colab": {
          "base_uri": "https://localhost:8080/"
        },
        "id": "aCk-0AjEjlyj",
        "outputId": "c0443108-6ebe-4695-8ff4-d2d96aa88d76"
      },
      "outputs": [
        {
          "data": {
            "text/plain": [
              "[{'a': 4}, {'a': 3}, {'a': 2}]"
            ]
          },
          "execution_count": 8,
          "metadata": {},
          "output_type": "execute_result"
        }
      ],
      "source": [
        "my_data"
      ]
    },
    {
      "cell_type": "code",
      "execution_count": null,
      "metadata": {
        "id": "gjsk3rhMdqKQ"
      },
      "outputs": [],
      "source": [
        "def my_key_func(r):\n",
        "    return r[\"a\"]"
      ]
    },
    {
      "cell_type": "code",
      "execution_count": null,
      "metadata": {
        "id": "3HlAQnffd0_j"
      },
      "outputs": [],
      "source": [
        "my_data.sort(key = my_key_func, reverse=True)"
      ]
    },
    {
      "cell_type": "code",
      "execution_count": null,
      "metadata": {
        "colab": {
          "base_uri": "https://localhost:8080/"
        },
        "id": "h-tX_JkIjnxE",
        "outputId": "055728cd-1c66-42ed-cd56-191143b07b69"
      },
      "outputs": [
        {
          "data": {
            "text/plain": [
              "[{'a': 4}, {'a': 3}, {'a': 2}]"
            ]
          },
          "execution_count": 11,
          "metadata": {},
          "output_type": "execute_result"
        }
      ],
      "source": [
        "my_data"
      ]
    },
    {
      "cell_type": "code",
      "execution_count": null,
      "metadata": {
        "colab": {
          "base_uri": "https://localhost:8080/"
        },
        "id": "96Z6DPkGeJua",
        "outputId": "93555d8a-7f98-4743-9343-f24853aa447d"
      },
      "outputs": [
        {
          "data": {
            "text/plain": [
              "[{'a': 2}, {'a': 3}, {'a': 4}]"
            ]
          },
          "execution_count": 12,
          "metadata": {},
          "output_type": "execute_result"
        }
      ],
      "source": [
        "sorted(my_data, key = lambda r: r[\"a\"])"
      ]
    },
    {
      "cell_type": "code",
      "execution_count": null,
      "metadata": {
        "colab": {
          "base_uri": "https://localhost:8080/"
        },
        "id": "kI9wcz8WeUPU",
        "outputId": "5dcd61b3-5dc9-43bd-aba6-59189afd7736"
      },
      "outputs": [
        {
          "data": {
            "text/plain": [
              "{'a': 2}"
            ]
          },
          "execution_count": 13,
          "metadata": {},
          "output_type": "execute_result"
        }
      ],
      "source": [
        "min(my_data, key = lambda r: r[\"a\"])"
      ]
    },
    {
      "cell_type": "code",
      "execution_count": null,
      "metadata": {
        "colab": {
          "base_uri": "https://localhost:8080/"
        },
        "id": "LcHF-FP7erGn",
        "outputId": "60ae0e54-b403-420b-93ca-06443c53b193"
      },
      "outputs": [
        {
          "data": {
            "text/plain": [
              "{'a': 4}"
            ]
          },
          "execution_count": 14,
          "metadata": {},
          "output_type": "execute_result"
        }
      ],
      "source": [
        "max(my_data, key = lambda r: r[\"a\"])"
      ]
    }
  ],
  "metadata": {
    "colab": {},
    "kernelspec": {
      "display_name": "Python 3",
      "name": "python3"
    },
    "language_info": {
      "codemirror_mode": {
        "name": "ipython",
        "version": 3
      },
      "file_extension": ".py",
      "mimetype": "text/x-python",
      "name": "python",
      "nbconvert_exporter": "python",
      "pygments_lexer": "ipython3",
      "version": "3.9.6"
    }
  },
  "nbformat": 4,
  "nbformat_minor": 0
}