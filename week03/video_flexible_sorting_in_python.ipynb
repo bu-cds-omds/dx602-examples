{
  "cells": [
    {
      "cell_type": "markdown",
      "metadata": {
        "id": "iM1kBWoXpG5E"
      },
      "source": [
        "# Video: Flexible Sorting in Python\n",
        "\n",
        "This video shows how to use lambda functions and the reverse option to change the behavior of Python's built-in sorting."
      ]
    },
    {
      "cell_type": "markdown",
      "metadata": {
        "id": "i9kBqelrdDV_"
      },
      "source": [
        "Script:\n",
        "* If you ever studied computer science or took a programming class, you probably had to implement a sorting algorithm at least once.\n",
        "* Depending on which decade and language you studied, your sorting code may only have supported one kind of data, and probably one particular order too.\n",
        "* Python makes it very easy to sort data by different criteria, and you can use this to sort data that doesn't have a natural sort order."
      ]
    },
    {
      "cell_type": "code",
      "execution_count": null,
      "metadata": {
        "id": "zq4NSlSsdIOI"
      },
      "outputs": [],
      "source": [
        "my_data = [{\"a\": 3}, {\"a\": 4}, {\"a\": 2}]"
      ]
    },
    {
      "cell_type": "code",
      "execution_count": null,
      "metadata": {
        "colab": {
          "base_uri": "https://localhost:8080/",
          "height": 180
        },
        "id": "gYzGRE6DdJqI",
        "outputId": "9aa60285-600b-4800-c163-c99c0a476966"
      },
      "outputs": [
        {
          "ename": "TypeError",
          "evalue": "'<' not supported between instances of 'dict' and 'dict'",
          "execution_count": null,
          "output_type": "error",
          "traceback": [
            "\u001b[0;31m---------------------------------------------------------------------------\u001b[0m",
            "\u001b[0;31mTypeError\u001b[0m                                 Traceback (most recent call last)",
            "\u001b[0;32m<ipython-input-2-7bfec3eb49fb>\u001b[0m in \u001b[0;36m<cell line: 1>\u001b[0;34m()\u001b[0m\n\u001b[0;32m----> 1\u001b[0;31m \u001b[0mmy_data\u001b[0m\u001b[0;34m.\u001b[0m\u001b[0msort\u001b[0m\u001b[0;34m(\u001b[0m\u001b[0;34m)\u001b[0m\u001b[0;34m\u001b[0m\u001b[0;34m\u001b[0m\u001b[0m\n\u001b[0m",
            "\u001b[0;31mTypeError\u001b[0m: '<' not supported between instances of 'dict' and 'dict'"
          ]
        }
      ],
      "source": [
        "my_data.sort()"
      ]
    },
    {
      "cell_type": "markdown",
      "metadata": {
        "id": "odU2Jl6CdMzo"
      },
      "source": [
        "Script:\n",
        "* Why would I think dictionaries have a natural sort order?\n",
        "* Good question, but let's keep that rhetorical.\n",
        "* Lambda functions are an easy way to define a new sort order."
      ]
    },
    {
      "cell_type": "code",
      "execution_count": null,
      "metadata": {
        "id": "KEZz8wZ0dRzx"
      },
      "outputs": [],
      "source": [
        "my_data.sort(key = lambda r: r[\"a\"])"
      ]
    },
    {
      "cell_type": "code",
      "execution_count": null,
      "metadata": {
        "colab": {
          "base_uri": "https://localhost:8080/"
        },
        "id": "F94OeMAPjYgh",
        "outputId": "72459d65-553e-4225-f612-d695acb06e88"
      },
      "outputs": [
        {
          "data": {
            "text/plain": [
              "[{'a': 2}, {'a': 3}, {'a': 4}]"
            ]
          },
          "execution_count": null,
          "metadata": {},
          "output_type": "execute_result"
        }
      ],
      "source": [
        "my_data"
      ]
    },
    {
      "cell_type": "markdown",
      "metadata": {
        "id": "8zJX_3j8dV29"
      },
      "source": [
        "Script:\n",
        "* Let's reverse that."
      ]
    },
    {
      "cell_type": "code",
      "execution_count": null,
      "metadata": {
        "id": "WA5RhM3HdYiz"
      },
      "outputs": [],
      "source": [
        "my_data.sort(key = lambda r: -r[\"a\"])"
      ]
    },
    {
      "cell_type": "code",
      "execution_count": null,
      "metadata": {
        "colab": {
          "base_uri": "https://localhost:8080/"
        },
        "id": "gVwSEaInjj3m",
        "outputId": "1aeac8f4-fa6b-42c9-8535-5390c1440be1"
      },
      "outputs": [
        {
          "data": {
            "text/plain": [
              "[{'a': 4}, {'a': 3}, {'a': 2}]"
            ]
          },
          "execution_count": null,
          "metadata": {},
          "output_type": "execute_result"
        }
      ],
      "source": [
        "my_data"
      ]
    },
    {
      "cell_type": "markdown",
      "metadata": {
        "id": "MXSU8SOOdcug"
      },
      "source": [
        "Script:\n",
        "* Flipping the sign of the key output reverses the sort.\n",
        "* But there is an easier way to do that."
      ]
    },
    {
      "cell_type": "code",
      "execution_count": null,
      "metadata": {
        "id": "eu88jE08dhkL"
      },
      "outputs": [],
      "source": [
        "my_data.sort(key = lambda r: r[\"a\"], reverse=True)"
      ]
    },
    {
      "cell_type": "code",
      "execution_count": null,
      "metadata": {
        "colab": {
          "base_uri": "https://localhost:8080/"
        },
        "id": "aCk-0AjEjlyj",
        "outputId": "c0443108-6ebe-4695-8ff4-d2d96aa88d76"
      },
      "outputs": [
        {
          "data": {
            "text/plain": [
              "[{'a': 4}, {'a': 3}, {'a': 2}]"
            ]
          },
          "execution_count": null,
          "metadata": {},
          "output_type": "execute_result"
        }
      ],
      "source": [
        "my_data"
      ]
    },
    {
      "cell_type": "markdown",
      "metadata": {
        "id": "Pyus6ym-dlS2"
      },
      "source": [
        "Script:\n",
        "* That's actually longer, but it should be easier to read at a glance.\n",
        "* And you don't have to change the key function if you took that in as input earlier."
      ]
    },
    {
      "cell_type": "code",
      "execution_count": null,
      "metadata": {
        "id": "gjsk3rhMdqKQ"
      },
      "outputs": [],
      "source": [
        "def my_key_func(r):\n",
        "    return r[\"a\"]"
      ]
    },
    {
      "cell_type": "code",
      "execution_count": null,
      "metadata": {
        "id": "3HlAQnffd0_j"
      },
      "outputs": [],
      "source": [
        "my_data.sort(key = my_key_func, reverse=True)"
      ]
    },
    {
      "cell_type": "code",
      "execution_count": null,
      "metadata": {
        "colab": {
          "base_uri": "https://localhost:8080/"
        },
        "id": "h-tX_JkIjnxE",
        "outputId": "055728cd-1c66-42ed-cd56-191143b07b69"
      },
      "outputs": [
        {
          "data": {
            "text/plain": [
              "[{'a': 4}, {'a': 3}, {'a': 2}]"
            ]
          },
          "execution_count": null,
          "metadata": {},
          "output_type": "execute_result"
        }
      ],
      "source": [
        "my_data"
      ]
    },
    {
      "cell_type": "markdown",
      "metadata": {
        "id": "6daqU8m7d33c"
      },
      "source": [
        "Script:\n",
        "* That's a lot better than writing a lambda function that calls my_key_func and reverses the sign.\n",
        "* I'm going to avoid typing that bad example, and will instead say that typing in the word reverse makes it much more clear than one negative sign in a lambda function.\n",
        "* Let's look at a few more examples using these key functions.\n"
      ]
    },
    {
      "cell_type": "code",
      "execution_count": null,
      "metadata": {
        "colab": {
          "base_uri": "https://localhost:8080/"
        },
        "id": "96Z6DPkGeJua",
        "outputId": "93555d8a-7f98-4743-9343-f24853aa447d"
      },
      "outputs": [
        {
          "data": {
            "text/plain": [
              "[{'a': 2}, {'a': 3}, {'a': 4}]"
            ]
          },
          "execution_count": null,
          "metadata": {},
          "output_type": "execute_result"
        }
      ],
      "source": [
        "sorted(my_data, key = lambda r: r[\"a\"])"
      ]
    },
    {
      "cell_type": "markdown",
      "metadata": {
        "id": "qVPAbW6Xd-gT"
      },
      "source": [
        "Script:\n",
        "* That returns a sorted list with the same data from my_data, sorted by the \"a\" key.\n",
        "* The difference is that my_data.sort reorders my_data, and sorted makes a new list with the same data.\n",
        "* My_data.sort works for lists, and sorted works for any sequence.\n",
        "* If you already have your data in a list and don't care about the old order, use dot sort.\n",
        "* If it is not already in a list, or you want to save the old order or have two copies for some reason, then use sorted.\n",
        "* If you just want the first row when sorting by that key, then"
      ]
    },
    {
      "cell_type": "code",
      "execution_count": null,
      "metadata": {
        "colab": {
          "base_uri": "https://localhost:8080/"
        },
        "id": "kI9wcz8WeUPU",
        "outputId": "5dcd61b3-5dc9-43bd-aba6-59189afd7736"
      },
      "outputs": [
        {
          "data": {
            "text/plain": [
              "{'a': 2}"
            ]
          },
          "execution_count": null,
          "metadata": {},
          "output_type": "execute_result"
        }
      ],
      "source": [
        "min(my_data, key = lambda r: r[\"a\"])"
      ]
    },
    {
      "cell_type": "markdown",
      "metadata": {
        "id": "hz33CBnPpSt9"
      },
      "source": [
        "Script:\n",
        "* I wrote that function a few times before the Python developers added the key argument.\n",
        "* If you want the last one, then use max instead of min."
      ]
    },
    {
      "cell_type": "code",
      "execution_count": null,
      "metadata": {
        "colab": {
          "base_uri": "https://localhost:8080/"
        },
        "id": "LcHF-FP7erGn",
        "outputId": "60ae0e54-b403-420b-93ca-06443c53b193"
      },
      "outputs": [
        {
          "data": {
            "text/plain": [
              "{'a': 4}"
            ]
          },
          "execution_count": null,
          "metadata": {},
          "output_type": "execute_result"
        }
      ],
      "source": [
        "max(my_data, key = lambda r: r[\"a\"])"
      ]
    },
    {
      "cell_type": "markdown",
      "metadata": {
        "id": "rdWiFD6cewbM"
      },
      "source": [
        "Script:\n",
        "* That's it for custom sorting in Python.\n",
        "* The key, pun intended, is to map items in your list to whatever criteria you wish to sort by."
      ]
    }
  ],
  "metadata": {
    "colab": {},
    "kernelspec": {
      "display_name": "Python 3",
      "name": "python3"
    },
    "language_info": {
      "codemirror_mode": {
        "name": "ipython",
        "version": 3
      },
      "file_extension": ".py",
      "mimetype": "text/x-python",
      "name": "python",
      "nbconvert_exporter": "python",
      "pygments_lexer": "ipython3",
      "version": "3.9.6"
    }
  },
  "nbformat": 4,
  "nbformat_minor": 0
}