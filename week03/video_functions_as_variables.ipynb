{
  "cells": [
    {
      "cell_type": "markdown",
      "metadata": {
        "id": "xwABoFMfoTpV"
      },
      "source": [
        "# Video: Functions as Variables\n",
        "\n",
        "This video introduces the practice of storing function references in new variables."
      ]
    },
    {
      "cell_type": "markdown",
      "metadata": {
        "id": "8SqOgRtSbroB"
      },
      "source": [
        "Script:\n",
        "* The first thing you can do with functions as first class citizens is save them in variables and pass them around like everything else.\n",
        "* Let's do a few examples now."
      ]
    },
    {
      "cell_type": "code",
      "execution_count": null,
      "metadata": {
        "id": "myhmkzuqbszG"
      },
      "outputs": [],
      "source": [
        "import math"
      ]
    },
    {
      "cell_type": "code",
      "execution_count": null,
      "metadata": {
        "id": "GG08NKlXbtr2"
      },
      "outputs": [],
      "source": [
        "f = math.sin"
      ]
    },
    {
      "cell_type": "code",
      "execution_count": null,
      "metadata": {
        "colab": {
          "base_uri": "https://localhost:8080/"
        },
        "id": "LNkHomEbbutn",
        "outputId": "853ee0e8-8c9e-465e-fbaf-4b082236c943"
      },
      "outputs": [
        {
          "data": {
            "text/plain": [
              "<function math.sin(x, /)>"
            ]
          },
          "execution_count": null,
          "metadata": {},
          "output_type": "execute_result"
        }
      ],
      "source": [
        "f"
      ]
    },
    {
      "cell_type": "code",
      "execution_count": null,
      "metadata": {
        "colab": {
          "base_uri": "https://localhost:8080/"
        },
        "id": "GIaq5bDQbwf5",
        "outputId": "afff27c8-6f38-490d-e406-a6dad8b91ce2"
      },
      "outputs": [
        {
          "data": {
            "text/plain": [
              "builtin_function_or_method"
            ]
          },
          "execution_count": null,
          "metadata": {},
          "output_type": "execute_result"
        }
      ],
      "source": [
        "type(f)"
      ]
    },
    {
      "cell_type": "markdown",
      "metadata": {
        "id": "swJIKEB9oSe9"
      },
      "source": [
        "Script:\n",
        "* Using f now is just like using the sin function from the math library.\n",
        "* Because it is using that function.\n",
        "* F is just a new variable referring to the same function.\n"
      ]
    },
    {
      "cell_type": "code",
      "execution_count": null,
      "metadata": {
        "colab": {
          "base_uri": "https://localhost:8080/"
        },
        "id": "1e1fFuC0b1fs",
        "outputId": "5fb37fe5-b75c-41c6-e2cb-96b9e0aa4f8d"
      },
      "outputs": [
        {
          "data": {
            "text/plain": [
              "0.19866933079506122"
            ]
          },
          "execution_count": null,
          "metadata": {},
          "output_type": "execute_result"
        }
      ],
      "source": [
        "f(0.2)"
      ]
    },
    {
      "cell_type": "code",
      "execution_count": null,
      "metadata": {
        "colab": {
          "base_uri": "https://localhost:8080/"
        },
        "id": "yX34V-d0b2wT",
        "outputId": "64018add-e4d5-469b-f61e-524fd154e22e"
      },
      "outputs": [
        {
          "data": {
            "text/plain": [
              "0.19866933079506122"
            ]
          },
          "execution_count": null,
          "metadata": {},
          "output_type": "execute_result"
        }
      ],
      "source": [
        "math.sin(0.2)"
      ]
    },
    {
      "cell_type": "markdown",
      "metadata": {
        "id": "ccqDuQnMb9X0"
      },
      "source": [
        "Script:\n",
        "* See?\n",
        "* Calling f is the same as calling the original sine function."
      ]
    }
  ],
  "metadata": {
    "colab": {},
    "kernelspec": {
      "display_name": "Python 3",
      "name": "python3"
    },
    "language_info": {
      "codemirror_mode": {
        "name": "ipython",
        "version": 3
      },
      "file_extension": ".py",
      "mimetype": "text/x-python",
      "name": "python",
      "nbconvert_exporter": "python",
      "pygments_lexer": "ipython3",
      "version": "3.9.6"
    }
  },
  "nbformat": 4,
  "nbformat_minor": 0
}