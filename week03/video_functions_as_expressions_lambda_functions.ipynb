{
  "cells": [
    {
      "cell_type": "markdown",
      "metadata": {
        "id": "yaYLHyBXooTW"
      },
      "source": [
        "# Video: Functions as Expressions (Lambda Functions)\n",
        "\n",
        "This video shows how to create new functions using lambda functions.\n"
      ]
    },
    {
      "cell_type": "code",
      "execution_count": null,
      "metadata": {
        "id": "3VozjsBrcMH9"
      },
      "outputs": [],
      "source": [
        "f = lambda x: x + 1"
      ]
    },
    {
      "cell_type": "code",
      "execution_count": null,
      "metadata": {
        "id": "xwGhVteJcdNW"
      },
      "outputs": [],
      "source": [
        "def make_linear_function(m, b):\n",
        "    return lambda x: m * x + b"
      ]
    },
    {
      "cell_type": "code",
      "execution_count": null,
      "metadata": {
        "id": "V9J0WfQbci5h"
      },
      "outputs": [],
      "source": [
        "f = make_linear_function(3, 2)"
      ]
    },
    {
      "cell_type": "code",
      "execution_count": null,
      "metadata": {
        "colab": {
          "base_uri": "https://localhost:8080/"
        },
        "id": "rqTgu6Wwcjww",
        "outputId": "998a32ff-a94c-40a1-dce0-637afcba6edd"
      },
      "outputs": [
        {
          "data": {
            "text/plain": [
              "<function __main__.make_linear_function.<locals>.<lambda>(x)>"
            ]
          },
          "execution_count": 35,
          "metadata": {},
          "output_type": "execute_result"
        }
      ],
      "source": [
        "f"
      ]
    },
    {
      "cell_type": "code",
      "execution_count": null,
      "metadata": {
        "colab": {
          "base_uri": "https://localhost:8080/"
        },
        "id": "c1npimqQcljM",
        "outputId": "f0636f37-5b8a-488a-9c23-5be571795336"
      },
      "outputs": [
        {
          "data": {
            "text/plain": [
              "2"
            ]
          },
          "execution_count": 36,
          "metadata": {},
          "output_type": "execute_result"
        }
      ],
      "source": [
        "f(0)"
      ]
    },
    {
      "cell_type": "code",
      "execution_count": null,
      "metadata": {
        "colab": {
          "base_uri": "https://localhost:8080/"
        },
        "id": "5tSEtGLycm5d",
        "outputId": "89edb55e-eb47-4a61-f688-ed37bca30dfc"
      },
      "outputs": [
        {
          "data": {
            "text/plain": [
              "5"
            ]
          },
          "execution_count": 37,
          "metadata": {},
          "output_type": "execute_result"
        }
      ],
      "source": [
        "f(1)"
      ]
    },
    {
      "cell_type": "code",
      "execution_count": null,
      "metadata": {
        "id": "2sOcJyIhct8C"
      },
      "outputs": [],
      "source": [
        "f2 = make_linear_function(4, 3)"
      ]
    },
    {
      "cell_type": "code",
      "execution_count": null,
      "metadata": {
        "colab": {
          "base_uri": "https://localhost:8080/"
        },
        "id": "Kh3uqZHocuzB",
        "outputId": "103e321c-250d-41a7-cab0-e38c80c8fcf9"
      },
      "outputs": [
        {
          "data": {
            "text/plain": [
              "<function __main__.make_linear_function.<locals>.<lambda>(x)>"
            ]
          },
          "execution_count": 39,
          "metadata": {},
          "output_type": "execute_result"
        }
      ],
      "source": [
        "f2"
      ]
    },
    {
      "cell_type": "code",
      "execution_count": null,
      "metadata": {
        "colab": {
          "base_uri": "https://localhost:8080/"
        },
        "id": "gefCjpd-cv0P",
        "outputId": "5cdcb50b-9454-4436-923b-c3b52f84e673"
      },
      "outputs": [
        {
          "data": {
            "text/plain": [
              "3"
            ]
          },
          "execution_count": 40,
          "metadata": {},
          "output_type": "execute_result"
        }
      ],
      "source": [
        "f2(0)"
      ]
    },
    {
      "cell_type": "code",
      "execution_count": null,
      "metadata": {
        "colab": {
          "base_uri": "https://localhost:8080/"
        },
        "id": "PduiICWecwyG",
        "outputId": "a3407267-536c-4a3c-fdcb-2cc05a0311d0"
      },
      "outputs": [
        {
          "data": {
            "text/plain": [
              "2"
            ]
          },
          "execution_count": 41,
          "metadata": {},
          "output_type": "execute_result"
        }
      ],
      "source": [
        "f(0)"
      ]
    }
  ],
  "metadata": {
    "colab": {},
    "kernelspec": {
      "display_name": "Python 3",
      "name": "python3"
    },
    "language_info": {
      "codemirror_mode": {
        "name": "ipython",
        "version": 3
      },
      "file_extension": ".py",
      "mimetype": "text/x-python",
      "name": "python",
      "nbconvert_exporter": "python",
      "pygments_lexer": "ipython3",
      "version": "3.9.6"
    }
  },
  "nbformat": 4,
  "nbformat_minor": 0
}