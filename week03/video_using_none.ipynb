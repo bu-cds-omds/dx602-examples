{
  "cells": [
    {
      "cell_type": "markdown",
      "metadata": {
        "id": "eMBDaF-dji4F"
      },
      "source": [
        "# Video: Using None\n",
        "\n",
        "This video gives examples of looking at the special value None and seeing how it can be detected."
      ]
    },
    {
      "cell_type": "markdown",
      "metadata": {
        "id": "icuwQcfr_Kcw"
      },
      "source": [
        "Script:\n",
        "* In Python, the value \"None\" is a special value used to represent to nothing.\n",
        "* It is similar to null pointers in other programming languages, in that it refers to a case with no data, and is clearly distinct from cases with data.\n",
        "* If a function does not have a return statement, the function implicitly returns None.\n",
        "* If a function has a return statement, but no expression is after the return keyword, the function implicitly returns None.\n",
        "* Many functions are written to deliberately return None when the desired result was not found, or does not exist.\n",
        "* Later, you will see libraries using None to represent missing data.\n",
        "* In Jupyter notebooks, if the last expression returns None, then nothing will be printed."
      ]
    },
    {
      "cell_type": "code",
      "execution_count": null,
      "metadata": {
        "id": "rKgc8BUv_2Nn"
      },
      "outputs": [],
      "source": [
        "None"
      ]
    },
    {
      "cell_type": "markdown",
      "metadata": {
        "id": "YEgxHlJpWzqK"
      },
      "source": [
        "Script:\n",
        "* Sometimes in these notebooks, you will see me type in lines starting with underscore equals like this."
      ]
    },
    {
      "cell_type": "code",
      "execution_count": null,
      "metadata": {
        "id": "1AEQwXRAW0ZD"
      },
      "outputs": [],
      "source": [
        "_ = ..."
      ]
    },
    {
      "cell_type": "markdown",
      "metadata": {
        "id": "0U4uIhb5_1PG"
      },
      "source": [
        "Script:\n",
        "* I add the underscore equals to those lines to make them assignment statements using underscore as a dummy variable.\n",
        "* Assignment statements return None in the context of Jupyter notebooks, so the value on the right will not be printed.\n",
        "* I tend to use that trick with functions to plot charts, to avoid printing distracting chart object data.\n",
        "* If you are using the Python interpreter directly from the command line, it handles None values similarly, and will not print anything if the final result is None.\n",
        "* However, if you call print None, it will say None."
      ]
    },
    {
      "cell_type": "code",
      "execution_count": null,
      "metadata": {
        "colab": {
          "base_uri": "https://localhost:8080/"
        },
        "id": "j8zdGLLS_9pw",
        "outputId": "3164f1fa-e9ea-4375-b3c5-eccb720b620a"
      },
      "outputs": [
        {
          "name": "stdout",
          "output_type": "stream",
          "text": [
            "None\n"
          ]
        }
      ],
      "source": [
        "print(None)"
      ]
    },
    {
      "cell_type": "markdown",
      "metadata": {
        "id": "__rs4v8wAAqM"
      },
      "source": [
        "Script:\n",
        "* Technically, two things just happened there.\n",
        "* First, the print statement made the output N O N E.\n",
        "* There was no output from the print statement, so the final value from the cell was None.\n",
        "* So the cell's print behavior did nothing.\n",
        "* None has its own type called NoneType."
      ]
    },
    {
      "cell_type": "code",
      "execution_count": null,
      "metadata": {
        "colab": {
          "base_uri": "https://localhost:8080/"
        },
        "id": "zW1QNzcjAEWV",
        "outputId": "402c47f7-58ac-4dc7-a78c-ad5b78bf2854"
      },
      "outputs": [
        {
          "data": {
            "text/plain": [
              "NoneType"
            ]
          },
          "execution_count": null,
          "metadata": {},
          "output_type": "execute_result"
        }
      ],
      "source": [
        "type(None)"
      ]
    },
    {
      "cell_type": "markdown",
      "metadata": {
        "id": "luWk0EEOAL1K"
      },
      "source": [
        "Script:\n",
        "* You can check if a variable or another expression has the value None with the \"is\" operator."
      ]
    },
    {
      "cell_type": "code",
      "execution_count": null,
      "metadata": {
        "id": "2Im7PtTAAWIq"
      },
      "outputs": [],
      "source": [
        "x = 3"
      ]
    },
    {
      "cell_type": "code",
      "execution_count": null,
      "metadata": {
        "colab": {
          "base_uri": "https://localhost:8080/"
        },
        "id": "cFzZkj91ASc4",
        "outputId": "378a50c0-b77a-4e3b-9baf-539bd2f56877"
      },
      "outputs": [
        {
          "data": {
            "text/plain": [
              "False"
            ]
          },
          "execution_count": null,
          "metadata": {},
          "output_type": "execute_result"
        }
      ],
      "source": [
        "x is None"
      ]
    },
    {
      "cell_type": "code",
      "execution_count": null,
      "metadata": {
        "colab": {
          "base_uri": "https://localhost:8080/"
        },
        "id": "Wjl74gDQAYPg",
        "outputId": "c4d64377-619a-48e9-bb79-7899edfb3d2c"
      },
      "outputs": [
        {
          "data": {
            "text/plain": [
              "True"
            ]
          },
          "execution_count": null,
          "metadata": {},
          "output_type": "execute_result"
        }
      ],
      "source": [
        "None is None"
      ]
    },
    {
      "cell_type": "markdown",
      "metadata": {
        "id": "4svNOIsMAd1p"
      },
      "source": [
        "Script:\n",
        "* This \u201cis\u201d operator checks if two objects are the same.\n",
        "* And Python makes the None value a singleton, meaning that there can only be one None value."
      ]
    },
    {
      "cell_type": "code",
      "execution_count": null,
      "metadata": {
        "colab": {
          "base_uri": "https://localhost:8080/"
        },
        "id": "TxuRob8jTWAT",
        "outputId": "ebaad686-78fc-4e72-8e5f-726623e4cf85"
      },
      "outputs": [
        {
          "data": {
            "text/plain": [
              "94867447432160"
            ]
          },
          "execution_count": null,
          "metadata": {},
          "output_type": "execute_result"
        }
      ],
      "source": [
        "id(None)"
      ]
    },
    {
      "cell_type": "code",
      "execution_count": null,
      "metadata": {
        "colab": {
          "base_uri": "https://localhost:8080/"
        },
        "id": "7v8TtsLOTXEn",
        "outputId": "dbc4cfe3-ebb0-4666-8e46-460b62681d68"
      },
      "outputs": [
        {
          "data": {
            "text/plain": [
              "94867447432160"
            ]
          },
          "execution_count": null,
          "metadata": {},
          "output_type": "execute_result"
        }
      ],
      "source": [
        "id(None)"
      ]
    },
    {
      "cell_type": "markdown",
      "metadata": {
        "id": "M8gmhj5pTdMj"
      },
      "source": [
        "Script:\n",
        "* The \u201cis\u201d operator is a general comparator, but nearly all of its usage is for comparing with None.\n",
        "* It is possible to check if a value is None by using the normal equality check, but this can make mistakes with custom objects.\n",
        "* Checking with is None is faster, just comparing the ids, with no per-type comparison logic being involved.\n",
        "* The latter may not sound like a big deal, but is potentially expensive with custom objects managing a lot of data.\n",
        "* Finally, if you want to confirm that an item is not None, just write it that way."
      ]
    },
    {
      "cell_type": "code",
      "execution_count": null,
      "metadata": {
        "colab": {
          "base_uri": "https://localhost:8080/"
        },
        "id": "C1kGf0fiTjp_",
        "outputId": "b28aacd1-ba16-4711-f026-a29d92cc05aa"
      },
      "outputs": [
        {
          "data": {
            "text/plain": [
              "True"
            ]
          },
          "execution_count": null,
          "metadata": {},
          "output_type": "execute_result"
        }
      ],
      "source": [
        "x is not None"
      ]
    },
    {
      "cell_type": "code",
      "execution_count": null,
      "metadata": {
        "colab": {
          "base_uri": "https://localhost:8080/"
        },
        "id": "7YCSWMYXTnSb",
        "outputId": "22fbebfa-bffa-46ca-a660-b0ac6e6f6f1e"
      },
      "outputs": [
        {
          "data": {
            "text/plain": [
              "False"
            ]
          },
          "execution_count": null,
          "metadata": {},
          "output_type": "execute_result"
        }
      ],
      "source": [
        "None is not None"
      ]
    },
    {
      "cell_type": "markdown",
      "metadata": {
        "id": "07b4K3fZjhDN"
      },
      "source": [
        "Script:\n",
        "* You could say something like not x is None, but then you have to think about the precedence and parenthesis when you read it.\n",
        "* All that effort just to write it less clearly and less Pythonically.\n",
        "* I won't type it here to avoid giving you a bad example.\n"
      ]
    }
  ],
  "metadata": {
    "colab": {},
    "kernelspec": {
      "display_name": "Python 3",
      "name": "python3"
    },
    "language_info": {
      "codemirror_mode": {
        "name": "ipython",
        "version": 3
      },
      "file_extension": ".py",
      "mimetype": "text/x-python",
      "name": "python",
      "nbconvert_exporter": "python",
      "pygments_lexer": "ipython3",
      "version": "3.9.6"
    }
  },
  "nbformat": 4,
  "nbformat_minor": 0
}