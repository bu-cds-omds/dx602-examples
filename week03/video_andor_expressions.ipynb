{
  "cells": [
    {
      "cell_type": "markdown",
      "metadata": {
        "id": "0WMu8Bf8mGqn"
      },
      "source": [
        "# Video: And/Or expressions\n",
        "\n",
        "This video gives examples of how \"and\" and \"or\" expressions work, and explains their short-circuit evaluation behavior.\n"
      ]
    },
    {
      "cell_type": "markdown",
      "metadata": {
        "id": "-Pq8r-0DZnNj"
      },
      "source": [
        "Script:\n",
        "* Expressions using \"and\" and \"or\" are closely related to boolean expressions, but do not return booleans.\n",
        "* Instead, they return the last value checked while evaluating the \"and\" or \"or\" expression.\n",
        "* What are they doing?\n",
        "* An \"and\" expression returns a value that is true if both of its inputs are true."
      ]
    },
    {
      "cell_type": "code",
      "execution_count": null,
      "metadata": {
        "colab": {
          "base_uri": "https://localhost:8080/"
        },
        "id": "vT-w2XvtZzr4",
        "outputId": "a74aa66e-443b-4ec6-96f3-80a43303ac48"
      },
      "outputs": [
        {
          "data": {
            "text/plain": [
              "True"
            ]
          },
          "execution_count": null,
          "metadata": {},
          "output_type": "execute_result"
        }
      ],
      "source": [
        "True and True"
      ]
    },
    {
      "cell_type": "code",
      "execution_count": null,
      "metadata": {
        "colab": {
          "base_uri": "https://localhost:8080/"
        },
        "id": "3nD3CtgCZ1Af",
        "outputId": "efcdb9e6-8aba-4350-bd4f-33f3ff7ce69c"
      },
      "outputs": [
        {
          "data": {
            "text/plain": [
              "False"
            ]
          },
          "execution_count": null,
          "metadata": {},
          "output_type": "execute_result"
        }
      ],
      "source": [
        "True and False"
      ]
    },
    {
      "cell_type": "code",
      "execution_count": null,
      "metadata": {
        "colab": {
          "base_uri": "https://localhost:8080/"
        },
        "id": "p7_STDJ8Z2TX",
        "outputId": "caf05e9d-3f75-4291-c43a-58e644b5fd45"
      },
      "outputs": [
        {
          "data": {
            "text/plain": [
              "False"
            ]
          },
          "execution_count": null,
          "metadata": {},
          "output_type": "execute_result"
        }
      ],
      "source": [
        "False and True"
      ]
    },
    {
      "cell_type": "code",
      "execution_count": null,
      "metadata": {
        "colab": {
          "base_uri": "https://localhost:8080/"
        },
        "id": "iIT4cKhdZ3uA",
        "outputId": "c013b572-b2c8-4e71-eea5-26884b12b652"
      },
      "outputs": [
        {
          "data": {
            "text/plain": [
              "False"
            ]
          },
          "execution_count": null,
          "metadata": {},
          "output_type": "execute_result"
        }
      ],
      "source": [
        "False and False"
      ]
    },
    {
      "cell_type": "markdown",
      "metadata": {
        "id": "pr5p1iK7Z6dV"
      },
      "source": [
        "Script:\n",
        "* If you chain a number of ands together, you will get a value that is true if all the inputs are true."
      ]
    },
    {
      "cell_type": "code",
      "execution_count": null,
      "metadata": {
        "colab": {
          "base_uri": "https://localhost:8080/"
        },
        "id": "RPHk_bBmZ9im",
        "outputId": "54c7c480-0160-4101-de52-86d2fe514684"
      },
      "outputs": [
        {
          "data": {
            "text/plain": [
              "True"
            ]
          },
          "execution_count": null,
          "metadata": {},
          "output_type": "execute_result"
        }
      ],
      "source": [
        "True and True and True and True"
      ]
    },
    {
      "cell_type": "code",
      "execution_count": null,
      "metadata": {
        "colab": {
          "base_uri": "https://localhost:8080/"
        },
        "id": "xBcHvUgYZ_I8",
        "outputId": "3127b08c-453d-4f6b-d095-794fe3be4ae3"
      },
      "outputs": [
        {
          "data": {
            "text/plain": [
              "False"
            ]
          },
          "execution_count": null,
          "metadata": {},
          "output_type": "execute_result"
        }
      ],
      "source": [
        "False and True and True and True"
      ]
    },
    {
      "cell_type": "markdown",
      "metadata": {
        "id": "IxyFvwWzaD3H"
      },
      "source": [
        "Script:\n",
        "* Why do I keep saying \u201cyou will get a value that is true\u201d instead of just capital \u201cTrue\u201d?\n",
        "* These expressions still work if the input expressions are not boolean values."
      ]
    },
    {
      "cell_type": "code",
      "execution_count": null,
      "metadata": {
        "colab": {
          "base_uri": "https://localhost:8080/"
        },
        "id": "hKxCIaWHaKrZ",
        "outputId": "5a6afa81-fc4e-4f0a-bbf6-0ea51a1b19b3"
      },
      "outputs": [
        {
          "data": {
            "text/plain": [
              "4"
            ]
          },
          "execution_count": null,
          "metadata": {},
          "output_type": "execute_result"
        }
      ],
      "source": [
        "3 and 4"
      ]
    },
    {
      "cell_type": "code",
      "execution_count": null,
      "metadata": {
        "colab": {
          "base_uri": "https://localhost:8080/"
        },
        "id": "ubQaS3_4aLwB",
        "outputId": "ed46e135-6e7c-477d-a1c9-be05daa5652d"
      },
      "outputs": [
        {
          "data": {
            "text/plain": [
              "0"
            ]
          },
          "execution_count": null,
          "metadata": {},
          "output_type": "execute_result"
        }
      ],
      "source": [
        "0 and 2"
      ]
    },
    {
      "cell_type": "code",
      "execution_count": null,
      "metadata": {
        "colab": {
          "base_uri": "https://localhost:8080/"
        },
        "id": "LOt43CetaNL_",
        "outputId": "90a84511-32a2-4cbf-879b-c77c476d3927"
      },
      "outputs": [
        {
          "data": {
            "text/plain": [
              "[]"
            ]
          },
          "execution_count": null,
          "metadata": {},
          "output_type": "execute_result"
        }
      ],
      "source": [
        "[] and 2"
      ]
    },
    {
      "cell_type": "markdown",
      "metadata": {
        "id": "Zq8IPz8maRld"
      },
      "source": [
        "Script:\n",
        "* If all the input expressions convert to true, the and expressions will return the last one.\n",
        "* If any of the input expressions convert to false, then the first one that converts to false will be returned.\n",
        "* The later expressions will be skipped and not be evaluated at all.\n",
        "* This behavior where the later expressions are skipped is called short circuit logic.\n",
        "* It lets you write expressions that involve a number of potentially expensive checks, but they will stop once the whole expression is determined so you don't have to pay all the costs.\n",
        "* You only get this speedup if you write them all in one expression together.\n",
        "* If you save the parts into variables first, they have all run before you start the and expression.\n",
        "* You will get the same value back from the and expression, but it will have evaluated all the expressions first.\n",
        "* This short-circuit behavior also works with \"or\" expressions, except they stop at the first true input and return that.\n",
        "* So they are the opposite of \u201cand\u201d expressions in that regard.\n",
        "* Why does Python return the last input evaluated here?\n",
        "* So we can write expressions like this -"
      ]
    },
    {
      "cell_type": "code",
      "execution_count": null,
      "metadata": {
        "id": "1gsSx74DbAa0"
      },
      "outputs": [],
      "source": [
        "# choice = first_choice or second_choice (do not execute)"
      ]
    },
    {
      "cell_type": "markdown",
      "metadata": {
        "id": "L_3aqzkWmQAq"
      },
      "source": [
        "Script:\n",
        "* If the first choice is available and evaluates to true, go with that.\n",
        "* Otherwise, fall back to the second choice.\n",
        "* I recommend you avoid using those effects for now.\n",
        "* They generally make it harder to understand your code.\n",
        "* Some people like to be clever with them, but your priority should be writing code that you understand easily.\n",
        "* Just use \"and\" and \"or\" expressions in your boolean checks, and enjoy the short circuit speedups.\n"
      ]
    }
  ],
  "metadata": {
    "colab": {},
    "kernelspec": {
      "display_name": "Python 3",
      "name": "python3"
    },
    "language_info": {
      "codemirror_mode": {
        "name": "ipython",
        "version": 3
      },
      "file_extension": ".py",
      "mimetype": "text/x-python",
      "name": "python",
      "nbconvert_exporter": "python",
      "pygments_lexer": "ipython3",
      "version": "3.9.6"
    }
  },
  "nbformat": 4,
  "nbformat_minor": 0
}