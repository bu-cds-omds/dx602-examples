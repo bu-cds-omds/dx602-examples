{
  "cells": [
    {
      "cell_type": "markdown",
      "metadata": {
        "id": "v7Y5QRzb2Uii"
      },
      "source": [
        "# Video: Print JSON when Debugging\n",
        "\n",
        "This video shows off a debugging tip where the json module helps see more complex structures in your data.\n"
      ]
    },
    {
      "cell_type": "markdown",
      "metadata": {
        "id": "Zl1OuqzM3Uzg"
      },
      "source": [
        "Script:\n",
        "* When you're debugging, or just looking at some new data, `json.dumps` has a handy `indent` option that makes it easier to look at more complex structure in your data.\n",
        "* The default string conversion used by `print` usually generates one long line of text for complex objects."
      ]
    },
    {
      "cell_type": "code",
      "execution_count": null,
      "metadata": {
        "colab": {
          "base_uri": "https://localhost:8080/"
        },
        "id": "hTEZrFvf26ht",
        "outputId": "fb643a51-688c-4343-aa0b-19f9ac40b9cc"
      },
      "outputs": [
        {
          "name": "stdout",
          "output_type": "stream",
          "text": [
            "[{'x': {'hi': 'bye', 'hello': 'goodbye'}}, 0, 1, [{'weird': {'weirder': 'stuff'}}, 'some more stuff'], ['a', 'b', 'c']]\n"
          ]
        }
      ],
      "source": [
        "messy_data = [{\"x\": {\"hi\": \"bye\", \"hello\": \"goodbye\"}}, 0, 1, [{\"weird\": {\"weirder\": \"stuff\"}}, \"some more stuff\"], [\"a\", \"b\", \"c\"]]\n",
        "print(messy_data)"
      ]
    },
    {
      "cell_type": "markdown",
      "metadata": {
        "id": "QEHcijNQ3t8L"
      },
      "source": [
        "Script:\n",
        "* If you just use `json.dumps`, then the output is pretty similar to Python's default conversion to strings.\n",
        "* In this case, most of the change is just changing the quotes to double quotes."
      ]
    },
    {
      "cell_type": "code",
      "execution_count": null,
      "metadata": {
        "colab": {
          "base_uri": "https://localhost:8080/"
        },
        "id": "C8DPHf3S3nBh",
        "outputId": "b844d834-d091-4eb8-fed9-e4cae3a09b34"
      },
      "outputs": [
        {
          "name": "stdout",
          "output_type": "stream",
          "text": [
            "[{\"x\": {\"hi\": \"bye\"}}, 0, 1, [{\"weird\": {\"weirder\": \"stuff\"}}, \"some more stuff\"], [\"a\", \"b\", \"c\"]]\n"
          ]
        }
      ],
      "source": [
        "import json\n",
        "print(json.dumps(messy_data))"
      ]
    },
    {
      "cell_type": "markdown",
      "metadata": {
        "id": "mAhhF5xo4Bjc"
      },
      "source": [
        "Script:\n",
        "* But if you add the `indent=2` option, then it will add newlines and indentation to the output, and you'll be able to see the structure of the object much better."
      ]
    },
    {
      "cell_type": "code",
      "execution_count": null,
      "metadata": {
        "colab": {
          "base_uri": "https://localhost:8080/"
        },
        "id": "_zQStQLj2lMz",
        "outputId": "23c65d88-d9f2-4235-fb2a-8677422cdc93"
      },
      "outputs": [
        {
          "name": "stdout",
          "output_type": "stream",
          "text": [
            "[\n",
            "  {\n",
            "    \"x\": {\n",
            "      \"hi\": \"bye\",\n",
            "      \"hello\": \"goodbye\"\n",
            "    }\n",
            "  },\n",
            "  0,\n",
            "  1,\n",
            "  [\n",
            "    {\n",
            "      \"weird\": {\n",
            "        \"weirder\": \"stuff\"\n",
            "      }\n",
            "    },\n",
            "    \"some more stuff\"\n",
            "  ],\n",
            "  [\n",
            "    \"a\",\n",
            "    \"b\",\n",
            "    \"c\"\n",
            "  ]\n",
            "]\n"
          ]
        }
      ],
      "source": [
        "print(json.dumps(messy_data, indent=2))"
      ]
    },
    {
      "cell_type": "markdown",
      "metadata": {
        "id": "tTMAeTw4VbOm"
      },
      "source": [
        "Script:\n",
        "* With this view, you can see the layers of structure with the different levels of indentation.\n"
      ]
    }
  ],
  "metadata": {
    "colab": {},
    "kernelspec": {
      "display_name": "Python 3",
      "name": "python3"
    },
    "language_info": {
      "codemirror_mode": {
        "name": "ipython",
        "version": 3
      },
      "file_extension": ".py",
      "mimetype": "text/x-python",
      "name": "python",
      "nbconvert_exporter": "python",
      "pygments_lexer": "ipython3",
      "version": "3.9.6"
    }
  },
  "nbformat": 4,
  "nbformat_minor": 0
}