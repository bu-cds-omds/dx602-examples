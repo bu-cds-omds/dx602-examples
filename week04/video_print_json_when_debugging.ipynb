{
  "cells": [
    {
      "cell_type": "markdown",
      "metadata": {
        "id": "v7Y5QRzb2Uii"
      },
      "source": [
        "# Video: Print JSON when Debugging\n",
        "\n",
        "This video shows off a debugging tip where the json module helps see more complex structures in your data.\n"
      ]
    },
    {
      "cell_type": "code",
      "execution_count": null,
      "metadata": {
        "colab": {
          "base_uri": "https://localhost:8080/"
        },
        "id": "hTEZrFvf26ht",
        "outputId": "fb643a51-688c-4343-aa0b-19f9ac40b9cc"
      },
      "outputs": [
        {
          "execution_count": null,
          "name": "stdout",
          "output_type": "stream",
          "text": [
            "[{'x': {'hi': 'bye', 'hello': 'goodbye'}}, 0, 1, [{'weird': {'weirder': 'stuff'}}, 'some more stuff'], ['a', 'b', 'c']]\n"
          ]
        }
      ],
      "source": [
        "messy_data = [{\"x\": {\"hi\": \"bye\", \"hello\": \"goodbye\"}}, 0, 1, [{\"weird\": {\"weirder\": \"stuff\"}}, \"some more stuff\"], [\"a\", \"b\", \"c\"]]\n",
        "print(messy_data)"
      ]
    },
    {
      "cell_type": "code",
      "execution_count": null,
      "metadata": {
        "colab": {
          "base_uri": "https://localhost:8080/"
        },
        "id": "C8DPHf3S3nBh",
        "outputId": "b844d834-d091-4eb8-fed9-e4cae3a09b34"
      },
      "outputs": [
        {
          "execution_count": null,
          "name": "stdout",
          "output_type": "stream",
          "text": [
            "[{\"x\": {\"hi\": \"bye\"}}, 0, 1, [{\"weird\": {\"weirder\": \"stuff\"}}, \"some more stuff\"], [\"a\", \"b\", \"c\"]]\n"
          ]
        }
      ],
      "source": [
        "import json\n",
        "print(json.dumps(messy_data))"
      ]
    },
    {
      "cell_type": "code",
      "execution_count": null,
      "metadata": {
        "colab": {
          "base_uri": "https://localhost:8080/"
        },
        "id": "_zQStQLj2lMz",
        "outputId": "23c65d88-d9f2-4235-fb2a-8677422cdc93"
      },
      "outputs": [
        {
          "execution_count": null,
          "name": "stdout",
          "output_type": "stream",
          "text": [
            "[\n",
            "  {\n",
            "    \"x\": {\n",
            "      \"hi\": \"bye\",\n",
            "      \"hello\": \"goodbye\"\n",
            "    }\n",
            "  },\n",
            "  0,\n",
            "  1,\n",
            "  [\n",
            "    {\n",
            "      \"weird\": {\n",
            "        \"weirder\": \"stuff\"\n",
            "      }\n",
            "    },\n",
            "    \"some more stuff\"\n",
            "  ],\n",
            "  [\n",
            "    \"a\",\n",
            "    \"b\",\n",
            "    \"c\"\n",
            "  ]\n",
            "]\n"
          ]
        }
      ],
      "source": [
        "print(json.dumps(messy_data, indent=2))"
      ]
    }
  ],
  "metadata": {
    "colab": {},
    "kernelspec": {
      "display_name": "Python 3",
      "name": "python3"
    },
    "language_info": {
      "codemirror_mode": {
        "name": "ipython",
        "version": 3
      },
      "file_extension": ".py",
      "mimetype": "text/x-python",
      "name": "python",
      "nbconvert_exporter": "python",
      "pygments_lexer": "ipython3",
      "version": "3.9.6"
    }
  },
  "nbformat": 4,
  "nbformat_minor": 0
}