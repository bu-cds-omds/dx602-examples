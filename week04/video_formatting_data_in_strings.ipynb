{
  "cells": [
    {
      "cell_type": "markdown",
      "metadata": {
        "id": "bjLS8BJtXlkS"
      },
      "source": [
        "# Video: Formatting Data in Strings\n",
        "\n",
        "This video gives examples of using f-strings and the format function to easily include data in strings."
      ]
    },
    {
      "cell_type": "markdown",
      "metadata": {
        "id": "w4ezN-NuXp-H"
      },
      "source": [
        "* One of my favorite additions to Python is f-strings.\n",
        "* f-strings replaced a lot of clunky string formatting operations.\n",
        "* Let's look at an example."
      ]
    },
    {
      "cell_type": "code",
      "execution_count": null,
      "metadata": {
        "colab": {
          "base_uri": "https://localhost:8080/"
        },
        "id": "-dGitqDcV89Z",
        "outputId": "539edb6a-c3d9-4d5e-df62-358d8d8cda5f"
      },
      "outputs": [
        {
          "execution_count": null,
          "name": "stdout",
          "output_type": "stream",
          "text": [
            "hi! X = 3.14\n"
          ]
        }
      ],
      "source": [
        "x = 3.14\n",
        "print(f\"hi! X = {x}\")"
      ]
    },
    {
      "cell_type": "markdown",
      "metadata": {
        "id": "CfUw2-PuWMR3"
      },
      "source": [
        "* If you put an f before the string, Python will look for sections marked with braces, and read the insides for more Python expressions.\n",
        "* Mostly variables are used, but more complicated expressions can go in there."
      ]
    },
    {
      "cell_type": "code",
      "execution_count": null,
      "metadata": {
        "colab": {
          "base_uri": "https://localhost:8080/"
        },
        "id": "NYU5cBrUWRcm",
        "outputId": "dfcca1b3-476a-42ba-d677-7f5283a8977d"
      },
      "outputs": [
        {
          "execution_count": null,
          "name": "stdout",
          "output_type": "stream",
          "text": [
            "the answer is 13.375796178343949\n"
          ]
        }
      ],
      "source": [
        "y = 42\n",
        "print(f\"the answer is {y / x}\")"
      ]
    },
    {
      "cell_type": "markdown",
      "metadata": {
        "id": "sTswK0zHWXTr"
      },
      "source": [
        "* You can also specify details about how to format those expressions."
      ]
    },
    {
      "cell_type": "code",
      "execution_count": null,
      "metadata": {
        "colab": {
          "base_uri": "https://localhost:8080/"
        },
        "id": "jM-mFzhHWawT",
        "outputId": "c56582d7-20fa-4b43-bfec-bdadc0cf1da2"
      },
      "outputs": [
        {
          "execution_count": null,
          "name": "stdout",
          "output_type": "stream",
          "text": [
            "the answer is 13.38\n"
          ]
        }
      ],
      "source": [
        "print(f\"the answer is {y / x:.2f}\")"
      ]
    },
    {
      "cell_type": "markdown",
      "metadata": {
        "id": "NrDCo9p7Wg74"
      },
      "source": [
        "* The colon marks the beginning of the formatting.\n",
        "* The f stands for floating point, so a real number.\n",
        "* And the point two specifies two digits after the decimal point.\n",
        "* If you want to truncate a float to an integer, use point zero so there are no digits after the decimal point."
      ]
    },
    {
      "cell_type": "code",
      "execution_count": null,
      "metadata": {
        "colab": {
          "base_uri": "https://localhost:8080/"
        },
        "id": "umg0fw9xWoqn",
        "outputId": "a77e359e-f8c6-436c-aa21-0a9fa8aee059"
      },
      "outputs": [
        {
          "execution_count": null,
          "name": "stdout",
          "output_type": "stream",
          "text": [
            "the answer is 13\n"
          ]
        }
      ],
      "source": [
        "print(f\"the answer is {y // x:.0f}\")"
      ]
    },
    {
      "cell_type": "markdown",
      "metadata": {
        "id": "0fTPso3EXBSC"
      },
      "source": [
        "* If you have an integer, you can use colon d. Or just skip it."
      ]
    },
    {
      "cell_type": "code",
      "execution_count": null,
      "metadata": {
        "colab": {
          "base_uri": "https://localhost:8080/"
        },
        "id": "OBNbakm6XIB6",
        "outputId": "9b6353c2-c144-43d6-aa44-30fc287634ae"
      },
      "outputs": [
        {
          "execution_count": null,
          "name": "stdout",
          "output_type": "stream",
          "text": [
            "42\n"
          ]
        }
      ],
      "source": [
        "print(f\"{y:d}\")"
      ]
    },
    {
      "cell_type": "code",
      "execution_count": null,
      "metadata": {
        "colab": {
          "base_uri": "https://localhost:8080/"
        },
        "id": "0FBtrpYqXMw_",
        "outputId": "61de1f02-268f-4046-8754-8c3579aaba14"
      },
      "outputs": [
        {
          "execution_count": null,
          "name": "stdout",
          "output_type": "stream",
          "text": [
            "42\n"
          ]
        }
      ],
      "source": [
        "print(f\"{y}\")"
      ]
    },
    {
      "cell_type": "markdown",
      "metadata": {
        "id": "s4FYs2N2XRKR"
      },
      "source": [
        "* If you want to format the number with commas, add a comma before the format character."
      ]
    },
    {
      "cell_type": "code",
      "execution_count": null,
      "metadata": {
        "colab": {
          "base_uri": "https://localhost:8080/"
        },
        "id": "BTLbQVMyXPWv",
        "outputId": "a3f32cc1-6b02-44d4-8a19-020861ad8850"
      },
      "outputs": [
        {
          "execution_count": null,
          "name": "stdout",
          "output_type": "stream",
          "text": [
            "1,234,567\n"
          ]
        }
      ],
      "source": [
        "z=1234567\n",
        "print(f\"{z:,d}\")"
      ]
    },
    {
      "cell_type": "markdown",
      "metadata": {
        "id": "ONVqSKKuZr95"
      },
      "source": [
        "* And you can specify more than one expression to insert."
      ]
    },
    {
      "cell_type": "code",
      "execution_count": null,
      "metadata": {
        "colab": {
          "base_uri": "https://localhost:8080/"
        },
        "id": "qDKT_eRYZwSj",
        "outputId": "362f275c-e1cd-4828-eade-459aa403c2f6"
      },
      "outputs": [
        {
          "execution_count": null,
          "name": "stdout",
          "output_type": "stream",
          "text": [
            "The answer to 42 / 3.14 is 13.375796178343949\n"
          ]
        }
      ],
      "source": [
        "print(f\"The answer to {y} / {x} is {y/x}\")"
      ]
    },
    {
      "cell_type": "markdown",
      "metadata": {
        "id": "BzbYmR33Z1AR"
      },
      "source": [
        "* Before f strings, you would use the string format function like this -"
      ]
    },
    {
      "cell_type": "code",
      "execution_count": null,
      "metadata": {
        "colab": {
          "base_uri": "https://localhost:8080/"
        },
        "id": "uiDjvEMWZ6DA",
        "outputId": "308150aa-a79d-4e9a-81a2-1cd03f006f7b"
      },
      "outputs": [
        {
          "execution_count": null,
          "name": "stdout",
          "output_type": "stream",
          "text": [
            "the answer to 42 / 3.14 is 13.375796178343949\n"
          ]
        }
      ],
      "source": [
        "print(\"the answer to {0} / {1} is {2}\".format(y, x, y/x))"
      ]
    },
    {
      "cell_type": "markdown",
      "metadata": {
        "id": "mjA5MtYZZ_x_"
      },
      "source": [
        "* or"
      ]
    },
    {
      "cell_type": "code",
      "execution_count": null,
      "metadata": {
        "colab": {
          "base_uri": "https://localhost:8080/"
        },
        "id": "7reTcyVsaA51",
        "outputId": "05fd6d3d-ea4b-4885-f1c0-f54ea1fc4355"
      },
      "outputs": [
        {
          "execution_count": null,
          "name": "stdout",
          "output_type": "stream",
          "text": [
            "the answer to 42 / 3.14 is 13.38\n"
          ]
        }
      ],
      "source": [
        "print(\"the answer to {y} / {x} is {y_divided_by_x:.2f}\".format(y=y, x=x, y_divided_by_x=y/x))"
      ]
    },
    {
      "cell_type": "markdown",
      "metadata": {
        "id": "zhGDEoglaHhZ"
      },
      "source": [
        "* The latter one uses named arguments instead of the exact order passed in, but format only supports variables here, so you need to do the division as a separate argument.\n",
        "* There are still a few uses of format, but f strings are strongly preferred most of the time.\n",
        "* Both kinds of formatting have several options to tweak the formatting.\n",
        "* The d and f options are most commonly used, and there are links after the video for more documentation."
      ]
    }
  ],
  "metadata": {
    "colab": {},
    "kernelspec": {
      "display_name": "Python 3",
      "name": "python3"
    },
    "language_info": {
      "codemirror_mode": {
        "name": "ipython",
        "version": 3
      },
      "file_extension": ".py",
      "mimetype": "text/x-python",
      "name": "python",
      "nbconvert_exporter": "python",
      "pygments_lexer": "ipython3",
      "version": "3.9.6"
    }
  },
  "nbformat": 4,
  "nbformat_minor": 0
}