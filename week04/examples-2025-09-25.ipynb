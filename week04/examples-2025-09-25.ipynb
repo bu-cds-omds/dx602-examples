{
 "cells": [
  {
   "cell_type": "markdown",
   "id": "ff0cae9a",
   "metadata": {},
   "source": [
    "String processing:\n",
    "<li>Format strings\n",
    "<li>Parsing data from strings\n"
   ]
  },
  {
   "cell_type": "code",
   "execution_count": 53,
   "id": "4e078a31",
   "metadata": {},
   "outputs": [
    {
     "name": "stdout",
     "output_type": "stream",
     "text": [
      " Aaron Zvee Stevens had a time of 04:44:31.\n"
     ]
    }
   ],
   "source": [
    "# format string example:\n",
    "h = 4\n",
    "m = 44\n",
    "s = 31\n",
    "# # create a string like \"04:44:31\"\n",
    "s1 = f'{h:02}:{m:02}:{s:02}' \n",
    "# print(s1)\n",
    "# amount = 123456.789\n",
    "# s2 = f'{amount:,.02f}'\n",
    "# print(s2)\n",
    "\n",
    "# string parsing example\n",
    "name_country = 'Stevens, Aaron Zvee (USA)'\n",
    "# separate name from country\n",
    "country = name_country[-4:-1] # slice off the last 4 characters\n",
    "name = name_country[0:-5] # slice until character -5 (5 characters from end of string)\n",
    "#name.split(',') # specify the split character ','\n",
    "fields = name.strip().split(',')\n",
    "# split name into first/last\n",
    "# last = fields[0] # indexing\n",
    "# first = fields[1] # indexing\n",
    "last, first = fields # simultaneous assignment\n",
    "\n",
    "print(f'{first} {last} had a time of {s1}.')\n",
    "# country = name_country[-5:] # slice from -5 until the end of the string\n",
    "\n",
    "\n"
   ]
  },
  {
   "cell_type": "markdown",
   "id": "e0e0b848",
   "metadata": {},
   "source": [
    "Reading Text Files"
   ]
  },
  {
   "cell_type": "code",
   "execution_count": null,
   "id": "c1c50e02",
   "metadata": {},
   "outputs": [
    {
     "name": "stdout",
     "output_type": "stream",
     "text": [
      "A Man Doesn't Have Time In His Life\n",
      "by Yehuda Amichai\n",
      "\n",
      "A man doesn't have time in his life\n",
      "to have time for everything.\n",
      "He doesn't have seasons enough to have\n",
      "a season for every purpose.\n",
      "Ecclesiastes was wrong about that.\n",
      "\n",
      "A man needs to love and to hate at the same moment,\n",
      "to laugh and cry with the same eyes,\n",
      "with the same hands to throw stones and to gather them,\n",
      "to make love in war and war in love.\n",
      "And to hate and forgive and remember and forget,\n",
      "to arrange and confuse, to eat and to digest\n",
      "what history takes years and years to do.\n",
      "\n",
      "A man doesn't have time.\n",
      "When he loses he seeks, when he finds\n",
      "he forgets, when he forgets he loves, when he loves\n",
      "he begins to forget.\n",
      "\n",
      "And his soul is seasoned, his soul\n",
      "is very professional.\n",
      "Only his body remains forever\n",
      "an amateur. It tries and it misses,\n",
      "gets muddled, doesn't learn a thing,\n",
      "drunk and blind in its pleasures\n",
      "and its pains.\n",
      "\n",
      "He will die as figs die in autumn,\n",
      "Shriveled and full of himself and sweet,\n",
      "the leaves growing dry on the ground,\n",
      "the bare branches pointing to the place\n",
      "where there's time for everything.\n",
      "\n",
      "\n"
     ]
    }
   ],
   "source": [
    "# sample text file\n",
    "filename = 'time.txt'\n",
    "with open(filename) as f:\n",
    "\n",
    "    # print(f.readline().strip()) # read one line and print it out\n",
    "    # lines = f.readlines() # return a list\n",
    "    # print(lines)\n",
    "    # for line in lines:\n",
    "    #     print(line.strip())\n",
    "    for line in f:\n",
    "        print(line.strip())\n",
    "\n"
   ]
  },
  {
   "cell_type": "markdown",
   "id": "d3c1ccaf",
   "metadata": {},
   "source": [
    "Reading a TSV (tab separated values) structured file"
   ]
  },
  {
   "cell_type": "code",
   "execution_count": 83,
   "id": "0b0559c8",
   "metadata": {},
   "outputs": [
    {
     "name": "stdout",
     "output_type": "stream",
     "text": [
      "{'d': 6, 'e': None, 'f': 7}\n"
     ]
    }
   ],
   "source": [
    "# sample TSV file: \n",
    "filename = 'data7_c.tsv'\n",
    "with open(filename) as f:\n",
    "\n",
    "    # header (column names) come first\n",
    "    headers = f.readline().strip()\n",
    "    # split headers into a list of column names:\n",
    "    headers = headers.split('\\t') # '\\t' is the tab character\n",
    "    # print(headers)\n",
    "\n",
    "    # go through all remaining lines of the file:\n",
    "    for line in f:\n",
    "\n",
    "        # process one line of the file\n",
    "        values = line.strip().split('\\t')\n",
    "        # print(values)\n",
    "        # build into a dictionary\n",
    "        # d = { headers[i] : values[i] for i in range(len(headers)) }\n",
    "        # d = { headers[i] : int(values[i]) for i in range(len(headers)) }\n",
    "        \n",
    "        # build the dictionary the \"long\" way:\n",
    "        d = {} # an empty dictionary\n",
    "        for i in range(len(headers)):\n",
    "\n",
    "            # examine values[i] to see if it's null\n",
    "            if values[i] == '':\n",
    "                d[headers[i]] = None # assign value to the dictionary\n",
    "            # convert values[i] to int\n",
    "            else:\n",
    "                d[headers[i]] = int(values[i])\n",
    "\n",
    "        print(d)\n",
    "\n",
    "\n"
   ]
  },
  {
   "cell_type": "markdown",
   "id": "c5adda4a",
   "metadata": {},
   "source": [
    "Reading a CSV (comma-separated-values) structured file"
   ]
  },
  {
   "cell_type": "code",
   "execution_count": 90,
   "id": "e9f05ca9",
   "metadata": {},
   "outputs": [
    {
     "name": "stdout",
     "output_type": "stream",
     "text": [
      "{'foo': '1', 'bar': '2'}\n",
      "{'foo': '3', 'bar': '4'}\n",
      "{'foo': '13', 'bar': '7'}\n"
     ]
    }
   ],
   "source": [
    "# sample CSV file\n",
    "import csv\n",
    "filename = 'data13_a.csv'\n",
    "\n",
    "with open(filename) as f:\n",
    "\n",
    "    # # header (column names) come first\n",
    "    # headers = f.readline().strip()\n",
    "    # # split headers into a list of column names:\n",
    "    # headers = headers.split(',') # ',' is the tab character\n",
    "    # print(headers)\n",
    "\n",
    "    # # iterate over the rest of the file:\n",
    "    # for line in f:\n",
    "\n",
    "    #     # read a line, split into list of fields\n",
    "    #     values = line.strip().split(',')\n",
    "    #     print(values)\n",
    "\n",
    "    # # using the csv package\n",
    "    # reader = csv.reader(f)\n",
    "\n",
    "    # # process one line at a time:\n",
    "    # for row in reader:\n",
    "    #     print(row)\n",
    "\n",
    "    reader = csv.DictReader(f)\n",
    "    # process each line of the file as a dictionary\n",
    "    for d in reader:\n",
    "        print(d)"
   ]
  }
 ],
 "metadata": {
  "kernelspec": {
   "display_name": "base",
   "language": "python",
   "name": "python3"
  },
  "language_info": {
   "codemirror_mode": {
    "name": "ipython",
    "version": 3
   },
   "file_extension": ".py",
   "mimetype": "text/x-python",
   "name": "python",
   "nbconvert_exporter": "python",
   "pygments_lexer": "ipython3",
   "version": "3.9.12"
  }
 },
 "nbformat": 4,
 "nbformat_minor": 5
}
