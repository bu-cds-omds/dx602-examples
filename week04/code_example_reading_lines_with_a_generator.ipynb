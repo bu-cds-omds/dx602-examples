{
  "cells": [
    {
      "cell_type": "markdown",
      "metadata": {
        "id": "ymZ0U6A34O2l"
      },
      "source": [
        "# Code Example: Reading Lines with a Generator"
      ]
    },
    {
      "cell_type": "markdown",
      "metadata": {
        "id": "VVALSKVblOmZ"
      },
      "source": [
        "Here's an example of a function taking a filename as input, reading the whole file, and returning an iterator of from the file."
      ]
    },
    {
      "cell_type": "code",
      "execution_count": null,
      "metadata": {
        "id": "KX73EUyixKmS"
      },
      "outputs": [],
      "source": [
        "def read_file_with_generator(filename):\n",
        "    with open(filename) as fp:\n",
        "        for line in fp:\n",
        "            yield line"
      ]
    },
    {
      "cell_type": "markdown",
      "metadata": {
        "id": "CpEswG64xjxh"
      },
      "source": [
        "**Code Notes:**\n",
        "* This function uses a new `yield` statement which turns the function into a \"generator\" function returning an iterator.\n",
        "* The generator version does not need to maintain the output list, saving both code and memory.\n",
        "\n",
        "**Definition: generator function**\n",
        "> A Python function is a generator function if it contains a `yield` statement or expression.\n",
        "> A generator function immediately returns a \"coroutine\" which acts as an iterator.\n",
        "> Each time the next iterator output is requested, the coroutine runs the generator function's code until the next yield statement, or the function completes.\n",
        "> All expressions \"yielded\" are returned as iterator output.\n",
        "\n",
        "**TLDR:** `yield` turns your function output into an iterator.\n"
      ]
    }
  ],
  "metadata": {
    "colab": {},
    "kernelspec": {
      "display_name": "Python 3",
      "name": "python3"
    },
    "language_info": {
      "codemirror_mode": {
        "name": "ipython",
        "version": 3
      },
      "file_extension": ".py",
      "mimetype": "text/x-python",
      "name": "python",
      "nbconvert_exporter": "python",
      "pygments_lexer": "ipython3",
      "version": "3.9.6"
    }
  },
  "nbformat": 4,
  "nbformat_minor": 0
}