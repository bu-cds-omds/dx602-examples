{
  "cells": [
    {
      "cell_type": "markdown",
      "metadata": {
        "id": "HJ3AJxJYdiss"
      },
      "source": [
        "# Code Example: Catching Exceptions from Invalid Numbers"
      ]
    },
    {
      "cell_type": "markdown",
      "metadata": {
        "id": "DbrQNhkTfCH7"
      },
      "source": [
        "In the last video, you saw that calling `int` or `float` with bad number strings would throw an exception.\n",
        "If this happens, your program will stop with an error unless you have arranged to do so already.\n",
        "Here's an example of how to do that."
      ]
    },
    {
      "cell_type": "code",
      "execution_count": null,
      "metadata": {
        "id": "II3K5EFPvzKC"
      },
      "outputs": [],
      "source": [
        "def parse_int_with_default(s, default=None):\n",
        "    try:\n",
        "        return int(s)\n",
        "    except ValueError:\n",
        "        return default"
      ]
    },
    {
      "cell_type": "code",
      "execution_count": null,
      "metadata": {
        "id": "S6sLYY3DwAfn"
      },
      "outputs": [],
      "source": [
        "parse_int_with_default('3')"
      ]
    },
    {
      "cell_type": "code",
      "execution_count": null,
      "metadata": {
        "id": "By_N0JYxwD7p"
      },
      "outputs": [],
      "source": [
        "parse_int_with_default('abc')"
      ]
    },
    {
      "cell_type": "markdown",
      "metadata": {
        "id": "KqOUue41wL9d"
      },
      "source": [
        "That returned None."
      ]
    },
    {
      "cell_type": "code",
      "execution_count": null,
      "metadata": {
        "id": "oZCB1fonwPNP"
      },
      "outputs": [],
      "source": [
        "parse_int_with_default('abc', -9999)"
      ]
    },
    {
      "cell_type": "markdown",
      "metadata": {
        "id": "yGV9HwIxwVB9"
      },
      "source": [
        "What default should you use?\n",
        "Is it better to let the exception happen and expose the bad data?\n",
        "That depends entirely on the context that you are working in."
      ]
    }
  ],
  "metadata": {
    "colab": {},
    "kernelspec": {
      "display_name": "Python 3",
      "name": "python3"
    },
    "language_info": {
      "codemirror_mode": {
        "name": "ipython",
        "version": 3
      },
      "file_extension": ".py",
      "mimetype": "text/x-python",
      "name": "python",
      "nbconvert_exporter": "python",
      "pygments_lexer": "ipython3",
      "version": "3.9.6"
    }
  },
  "nbformat": 4,
  "nbformat_minor": 0
}