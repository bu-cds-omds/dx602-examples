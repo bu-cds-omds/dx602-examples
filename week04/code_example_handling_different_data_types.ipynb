{
  "cells": [
    {
      "cell_type": "markdown",
      "metadata": {
        "id": "kFfRI1E_fDca"
      },
      "source": [
        "# Code Example: Handling Different Data Types"
      ]
    },
    {
      "cell_type": "markdown",
      "metadata": {
        "id": "2t9MyhXafMwi"
      },
      "source": [
        "We will wrap up this example with a more full-featured parser that handles numeric types too.\n",
        "It will try to convert all fields except \"mango_id\" into numbers, and set the value to None if the parsing fails.\n",
        "None will not be a good input to most modeling code, but you will have to separately decide what to do in those cases."
      ]
    },
    {
      "cell_type": "code",
      "execution_count": null,
      "metadata": {
        "id": "3ITGutb0fM_0"
      },
      "outputs": [],
      "source": [
        "import csv\n",
        "\n",
        "def read_mango_data(filename):\n",
        "    with open(filename) as file:\n",
        "        reader = csv.DictReader(file, dialect=\"excel-tab\")\n",
        "        for row in reader:\n",
        "            for column_name in row:\n",
        "                if column_name != \"mango_id\":\n",
        "                    try:\n",
        "                        row[column_name] = float(row[column_name])\n",
        "                    except:\n",
        "                        row[column_name] = None\n",
        "\n",
        "            yield row"
      ]
    },
    {
      "cell_type": "markdown",
      "metadata": {
        "id": "LUjRSbaxARqm"
      },
      "source": [
        "**Code Notes:**\n",
        "* You may want to convert individual columns instead of looping over all columns, depending on what your data looks like.\n",
        "* `float` is a reasonable default for most numeric columns, but occasionally `int` will be preferred."
      ]
    }
  ],
  "metadata": {
    "colab": {},
    "kernelspec": {
      "display_name": "Python 3",
      "name": "python3"
    },
    "language_info": {
      "codemirror_mode": {
        "name": "ipython",
        "version": 3
      },
      "file_extension": ".py",
      "mimetype": "text/x-python",
      "name": "python",
      "nbconvert_exporter": "python",
      "pygments_lexer": "ipython3",
      "version": "3.9.6"
    }
  },
  "nbformat": 4,
  "nbformat_minor": 0
}