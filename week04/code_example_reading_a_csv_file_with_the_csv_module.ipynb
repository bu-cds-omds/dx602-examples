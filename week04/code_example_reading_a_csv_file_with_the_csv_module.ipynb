{
  "cells": [
    {
      "cell_type": "markdown",
      "metadata": {
        "id": "emVAQhIcfgRS"
      },
      "source": [
        "# Code Example: Reading a CSV File with the CSV Module"
      ]
    },
    {
      "cell_type": "code",
      "execution_count": null,
      "metadata": {
        "id": "sxdEBcRxz_0W"
      },
      "outputs": [],
      "source": [
        "import csv\n",
        "\n",
        "def read_csv_lists(filename):\n",
        "    with open(filename) as file:\n",
        "        reader = csv.reader(file)\n",
        "        for row in reader:\n",
        "            yield row"
      ]
    },
    {
      "cell_type": "markdown",
      "metadata": {
        "id": "wgILTozzfjZL"
      },
      "source": [
        "**Code Notes:**\n",
        "* If you compare this function with `read_tsv_lists` earlier, the addition of one reader object replaced stripping new lines and splitting the line into multiple values.\n",
        "  * The latter splitting functionality would have been much more complicated than the simple TSV case.\n",
        "* [csv.reader](https://docs.python.org/3/library/csv.html#csv.reader) has several options for tweaking the dialect read.\n",
        "  * Any changes to the dialect options will be made in the `csv.reader` call, and the following loop will be unchanged."
      ]
    },
    {
      "cell_type": "markdown",
      "metadata": {
        "id": "D6duaEEi2Bv2"
      },
      "source": []
    }
  ],
  "metadata": {
    "colab": {},
    "kernelspec": {
      "display_name": "Python 3",
      "name": "python3"
    },
    "language_info": {
      "codemirror_mode": {
        "name": "ipython",
        "version": 3
      },
      "file_extension": ".py",
      "mimetype": "text/x-python",
      "name": "python",
      "nbconvert_exporter": "python",
      "pygments_lexer": "ipython3",
      "version": "3.9.6"
    }
  },
  "nbformat": 4,
  "nbformat_minor": 0
}