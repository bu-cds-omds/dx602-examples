{
  "cells": [
    {
      "cell_type": "markdown",
      "metadata": {
        "id": "Z0zthsG8ahGV"
      },
      "source": [
        "# Video: Reading and Writing JSON in Python\n",
        "\n",
        "This video gives a quick introduction to reading and writing data in the common JSON format."
      ]
    },
    {
      "cell_type": "markdown",
      "metadata": {
        "id": "GD6HLpDjap4J"
      },
      "source": [
        "* Reading and writing JSON is so easy with the json library that we can do both in this short video."
      ]
    },
    {
      "cell_type": "code",
      "execution_count": null,
      "metadata": {
        "id": "avTmKe7kHGfy"
      },
      "outputs": [],
      "source": [
        "import json"
      ]
    },
    {
      "cell_type": "markdown",
      "metadata": {
        "id": "XX6f2xdQHWax"
      },
      "source": [
        "* Let's make some quick dummy data.\n",
        "* JSON supports strings, dictionaries, lists, ints, floats, and booleans.\n",
        "* Basically all the built-in types.\n",
        "* Tuples are supported too, but they will be turned into lists."
      ]
    },
    {
      "cell_type": "code",
      "execution_count": null,
      "metadata": {
        "id": "bEtWVAU_G2SC"
      },
      "outputs": [],
      "source": [
        "data = {\"config\": {\"important\": True, \"purple_factor\": 0.9, \"exceptions\": [\"brown\", \"red\"]}}"
      ]
    },
    {
      "cell_type": "markdown",
      "metadata": {
        "id": "WmBF2UGpHnu5"
      },
      "source": [
        "* To write a file, we just open the file for writing and call json dot dump."
      ]
    },
    {
      "cell_type": "code",
      "execution_count": null,
      "metadata": {
        "id": "EMTVj35BHIvS"
      },
      "outputs": [],
      "source": [
        "with open(\"test.json\", \"w\") as file:\n",
        "    json.dump(data, file)"
      ]
    },
    {
      "cell_type": "markdown",
      "metadata": {
        "id": "uZKjDwFfHvJm"
      },
      "source": [
        "* Let's look what that wrote out."
      ]
    },
    {
      "cell_type": "code",
      "execution_count": null,
      "metadata": {
        "colab": {
          "base_uri": "https://localhost:8080/"
        },
        "id": "v9K0pfMDHx4m",
        "outputId": "8ee3b8bf-c914-45df-ddc2-1b21dc8c6833"
      },
      "outputs": [
        {
          "execution_count": null,
          "name": "stdout",
          "output_type": "stream",
          "text": [
            "{\"config\": {\"important\": true, \"purple_factor\": 0.9, \"exceptions\": [\"brown\", \"red\"]}}\n"
          ]
        }
      ],
      "source": [
        "with open(\"test.json\") as file:\n",
        "    for line in file:\n",
        "        print(line)"
      ]
    },
    {
      "cell_type": "markdown",
      "metadata": {
        "id": "UVdsLjl8H493"
      },
      "source": [
        "* Now let us read it back."
      ]
    },
    {
      "cell_type": "code",
      "execution_count": null,
      "metadata": {
        "colab": {
          "base_uri": "https://localhost:8080/"
        },
        "id": "cMKpJhegH7Uj",
        "outputId": "96afa0af-2813-4ca6-fd43-4f32ff44b097"
      },
      "outputs": [
        {
          "data": {
            "text/plain": [
              "{'config': {'important': True,\n",
              "  'purple_factor': 0.9,\n",
              "  'exceptions': ['brown', 'red']}}"
            ]
          },
          "execution_count": null,
          "metadata": {},
          "output_type": "execute_result"
        }
      ],
      "source": [
        "with open(\"test.json\") as file:\n",
        "    new_data = json.load(file)\n",
        "new_data"
      ]
    },
    {
      "cell_type": "markdown",
      "metadata": {
        "id": "lyVLlbNvIDe1"
      },
      "source": [
        "* And that's it.\n",
        "* If you want to work with JSON in strings instead of files, there are similar functions json dot dumps and and json dot loads."
      ]
    },
    {
      "cell_type": "code",
      "execution_count": null,
      "metadata": {
        "colab": {
          "base_uri": "https://localhost:8080/"
        },
        "id": "z8sPGUgVIc9P",
        "outputId": "16f3dbca-9c32-4f6d-bc24-fcf4f30f6610"
      },
      "outputs": [
        {
          "execution_count": null,
          "name": "stdout",
          "output_type": "stream",
          "text": [
            "{\"config\": {\"important\": true, \"purple_factor\": 0.9, \"exceptions\": [\"brown\", \"red\"]}}\n"
          ]
        }
      ],
      "source": [
        "data_json = json.dumps(data)\n",
        "print(data_json)"
      ]
    },
    {
      "cell_type": "code",
      "execution_count": null,
      "metadata": {
        "colab": {
          "base_uri": "https://localhost:8080/"
        },
        "id": "lNjim4ZiIhoN",
        "outputId": "9e6763bd-a585-4346-feac-1b6a67f7cdef"
      },
      "outputs": [
        {
          "data": {
            "text/plain": [
              "{'config': {'important': True,\n",
              "  'purple_factor': 0.9,\n",
              "  'exceptions': ['brown', 'red']}}"
            ]
          },
          "execution_count": null,
          "metadata": {},
          "output_type": "execute_result"
        }
      ],
      "source": [
        "json.loads(data_json)"
      ]
    },
    {
      "cell_type": "markdown",
      "metadata": {
        "id": "1hOvUxMuIntu"
      },
      "source": [
        "* And that's it.\n",
        "* The JSON library makes it pretty easy."
      ]
    }
  ],
  "metadata": {
    "colab": {},
    "kernelspec": {
      "display_name": "Python 3",
      "name": "python3"
    },
    "language_info": {
      "codemirror_mode": {
        "name": "ipython",
        "version": 3
      },
      "file_extension": ".py",
      "mimetype": "text/x-python",
      "name": "python",
      "nbconvert_exporter": "python",
      "pygments_lexer": "ipython3",
      "version": "3.9.6"
    }
  },
  "nbformat": 4,
  "nbformat_minor": 0
}