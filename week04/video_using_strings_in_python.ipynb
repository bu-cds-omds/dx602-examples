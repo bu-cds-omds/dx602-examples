{
  "cells": [
    {
      "cell_type": "markdown",
      "metadata": {
        "id": "39EMGTPsT5F-"
      },
      "source": [
        "# Video: Using Strings in Python\n",
        "\n",
        "This video gives more examples of creating and printing strings."
      ]
    },
    {
      "cell_type": "markdown",
      "metadata": {
        "id": "dTHxNgR1UI2p"
      },
      "source": [
        "* Everything you print something in Python or any other programming language, it will be converted to a string and the characters in the string will be printed out."
      ]
    },
    {
      "cell_type": "code",
      "execution_count": null,
      "metadata": {
        "id": "Ml7ozhuyUE0Z"
      },
      "outputs": [],
      "source": [
        "x = \"Hello World\""
      ]
    },
    {
      "cell_type": "markdown",
      "metadata": {
        "id": "SKmkfjBoT_4t"
      },
      "source": [
        "* What's a string?\n",
        "* In computer science and programming, a string is a piece of text."
      ]
    },
    {
      "cell_type": "code",
      "execution_count": null,
      "metadata": {
        "colab": {
          "base_uri": "https://localhost:8080/"
        },
        "id": "Y8h2EvH8UT73",
        "outputId": "90528e31-73b4-4a6b-97c8-2cbaf0a6ffbf"
      },
      "outputs": [
        {
          "data": {
            "text/plain": [
              "3.0"
            ]
          },
          "execution_count": 22,
          "metadata": {},
          "output_type": "execute_result"
        }
      ],
      "source": [
        "3.0"
      ]
    },
    {
      "cell_type": "code",
      "execution_count": null,
      "metadata": {
        "colab": {
          "base_uri": "https://localhost:8080/"
        },
        "id": "nx6iV6ODUU-Y",
        "outputId": "f32a25bd-3b2b-4ce2-8ffb-d4625ec9014d"
      },
      "outputs": [
        {
          "name": "stdout",
          "output_type": "stream",
          "text": [
            "3.0\n"
          ]
        }
      ],
      "source": [
        "print(3.0)"
      ]
    },
    {
      "cell_type": "markdown",
      "metadata": {
        "id": "5mr5wOh9USmA"
      },
      "source": [
        "* s-t-r is the class for Python strings, and you can pass any object to str to convert into a string.\n",
        "* Another function you can use to turn objects in Python is repr"
      ]
    },
    {
      "cell_type": "code",
      "execution_count": null,
      "metadata": {
        "colab": {
          "base_uri": "https://localhost:8080/",
          "height": 35
        },
        "id": "vauZp4uyUmrG",
        "outputId": "701fbaa1-9440-41ae-9973-5067e1be1e37"
      },
      "outputs": [
        {
          "data": {
            "application/vnd.google.colaboratory.intrinsic+json": {
              "type": "string"
            },
            "text/plain": [
              "'3.0'"
            ]
          },
          "execution_count": 24,
          "metadata": {},
          "output_type": "execute_result"
        }
      ],
      "source": [
        "repr(3.0)"
      ]
    },
    {
      "cell_type": "code",
      "execution_count": null,
      "metadata": {
        "colab": {
          "base_uri": "https://localhost:8080/",
          "height": 35
        },
        "id": "5wTQ746nIq7i",
        "outputId": "39eb330b-1e57-4452-b9b6-4f5f98798ece"
      },
      "outputs": [
        {
          "data": {
            "application/vnd.google.colaboratory.intrinsic+json": {
              "type": "string"
            },
            "text/plain": [
              "'hello world'"
            ]
          },
          "execution_count": 25,
          "metadata": {},
          "output_type": "execute_result"
        }
      ],
      "source": [
        "\"hello world\""
      ]
    },
    {
      "cell_type": "code",
      "execution_count": null,
      "metadata": {
        "colab": {
          "base_uri": "https://localhost:8080/"
        },
        "id": "o-FvgEdnIq7i",
        "outputId": "7df46ea3-42b7-4aba-c593-bd644c48f3e0"
      },
      "outputs": [
        {
          "name": "stdout",
          "output_type": "stream",
          "text": [
            "'hello world'\n"
          ]
        }
      ],
      "source": [
        "print(repr(\"hello world\"))"
      ]
    },
    {
      "cell_type": "code",
      "execution_count": null,
      "metadata": {
        "colab": {
          "base_uri": "https://localhost:8080/",
          "height": 35
        },
        "id": "IGh9rQ33UpuS",
        "outputId": "9d63119e-0114-4d8a-d7f4-edbc56de1347"
      },
      "outputs": [
        {
          "data": {
            "application/vnd.google.colaboratory.intrinsic+json": {
              "type": "string"
            },
            "text/plain": [
              "\"'hello world'\""
            ]
          },
          "execution_count": 27,
          "metadata": {},
          "output_type": "execute_result"
        }
      ],
      "source": [
        "repr(\"hello world\")"
      ]
    },
    {
      "cell_type": "code",
      "execution_count": null,
      "metadata": {
        "colab": {
          "base_uri": "https://localhost:8080/",
          "height": 35
        },
        "id": "wt7l5VRDUvEY",
        "outputId": "a1ca0ed2-e412-4509-ccec-13413c3b6aeb"
      },
      "outputs": [
        {
          "data": {
            "application/vnd.google.colaboratory.intrinsic+json": {
              "type": "string"
            },
            "text/plain": [
              "'\\'the dog said \"hello\" to me.\\''"
            ]
          },
          "execution_count": 28,
          "metadata": {},
          "output_type": "execute_result"
        }
      ],
      "source": [
        "repr('the dog said \"hello\" to me.')"
      ]
    },
    {
      "cell_type": "markdown",
      "metadata": {
        "id": "DxBGdFBXU9NP"
      },
      "source": [
        "* The function repr tries to output a string that you can copy/paste to remake the object in Python code.\n",
        "* This generally works well for built-in object types, but custom types need code to support it well.\n",
        "* I find it particularly handy for debugging, and looking at non-visible or less common characters since it will generate the visible escape sequences for them.\n",
        "* An escape sequence is when you use a special character to specify other special characters that are difficult to type or see or have special meaning.\n",
        "* In Python, escape sequences start with a backslash, and the example above uses them for the single quotes which would otherwise end the string.\n",
        "* So what is a string?\n",
        "* In Python 3, a string is a sequence of Unicode characters.\n",
        "* Unicode is a standard for representing characters all over the world.\n",
        "* It used to be that computers would be limited to 256 or so different characters at a time, so you would have to change what characters were available to work in different countries.\n",
        "* It was pretty cumbersome.\n",
        "* Unicode handles all the different characters worldwide, and has since expanded to include emojis too.\n",
        "* Since strings are sequences, you can write a for loop over strings -"
      ]
    },
    {
      "cell_type": "code",
      "execution_count": null,
      "metadata": {
        "colab": {
          "base_uri": "https://localhost:8080/"
        },
        "id": "w9uejhMPVTQ7",
        "outputId": "3f5b70d5-4f57-4051-b124-cb8bae83e3fc"
      },
      "outputs": [
        {
          "name": "stdout",
          "output_type": "stream",
          "text": [
            "h\n",
            "e\n",
            "l\n",
            "l\n",
            "o\n",
            " \n",
            "w\n",
            "o\n",
            "r\n",
            "l\n",
            "d\n"
          ]
        }
      ],
      "source": [
        "for c in \"hello world\":\n",
        "    print(c)"
      ]
    },
    {
      "cell_type": "markdown",
      "metadata": {
        "id": "mBif77UjVeT_"
      },
      "source": [
        "* However, for students in this module, this is probably not something you ever want to do.\n",
        "* Nine out of the last ten times I did this, it was a bug where I put the wrong thing in the for loop.\n",
        "* The other one, I was debugging something and wanted to look at each individual character.\n",
        "* You probably won't even loop over individual characters for a large language model - that would be so ten years ago.\n",
        "* Nowadays, large language models break text up into tokens of one or more characters which makes some of the modeling easier.\n",
        "* You can use indexing with strings as if it was a list."
      ]
    },
    {
      "cell_type": "code",
      "execution_count": null,
      "metadata": {
        "colab": {
          "base_uri": "https://localhost:8080/",
          "height": 35
        },
        "id": "m5avz14eVdGw",
        "outputId": "49032edc-a425-495f-e97e-7e4d960d95da"
      },
      "outputs": [
        {
          "data": {
            "application/vnd.google.colaboratory.intrinsic+json": {
              "type": "string"
            },
            "text/plain": [
              "'h'"
            ]
          },
          "execution_count": 30,
          "metadata": {},
          "output_type": "execute_result"
        }
      ],
      "source": [
        "\"hello world\"[0]"
      ]
    },
    {
      "cell_type": "code",
      "execution_count": null,
      "metadata": {
        "colab": {
          "base_uri": "https://localhost:8080/",
          "height": 35
        },
        "id": "pP9pQD2AVs3e",
        "outputId": "0d209bc3-be50-485d-cc40-9e78789e283d"
      },
      "outputs": [
        {
          "data": {
            "application/vnd.google.colaboratory.intrinsic+json": {
              "type": "string"
            },
            "text/plain": [
              "'hello'"
            ]
          },
          "execution_count": 31,
          "metadata": {},
          "output_type": "execute_result"
        }
      ],
      "source": [
        "\"hello world\"[0:5]"
      ]
    },
    {
      "cell_type": "markdown",
      "metadata": {
        "id": "4bn55Z7wVyTn"
      },
      "source": [
        "* There's a good chance you are getting too into the weeds if you're writing code like that for a data science application.\n",
        "* The string class has a lot of built in functions to help you parse springs and break them into pieces.\n",
        "* There is a table with the most commonly used ones at the end of this lesson."
      ]
    }
  ],
  "metadata": {
    "colab": {},
    "kernelspec": {
      "display_name": "Python 3",
      "name": "python3"
    },
    "language_info": {
      "codemirror_mode": {
        "name": "ipython",
        "version": 3
      },
      "file_extension": ".py",
      "mimetype": "text/x-python",
      "name": "python",
      "nbconvert_exporter": "python",
      "pygments_lexer": "ipython3",
      "version": "3.9.6"
    }
  },
  "nbformat": 4,
  "nbformat_minor": 0
}