{
  "cells": [
    {
      "cell_type": "markdown",
      "metadata": {
        "id": "D2CsZg5Kdi6H"
      },
      "source": [
        "# Video: Parsing Numbers from Strings\n",
        "\n",
        "This video presents a very simple example of parsing integers from scratch, and shows how to use the built-in Python functionality."
      ]
    },
    {
      "cell_type": "code",
      "execution_count": null,
      "metadata": {
        "id": "j0lPTBa4oRI1"
      },
      "outputs": [],
      "source": [
        "def my_parse_int(s):\n",
        "    output = 0\n",
        "    for c in s:\n",
        "        output = output * 10 + ord(c) - ord('0')\n",
        "        print('TEMP', output)\n",
        "    return output"
      ]
    },
    {
      "cell_type": "markdown",
      "metadata": {
        "id": "h6MZciS3pZ59"
      },
      "source": [
        "* The print statement in the loop is so we can see how the output value is changing as each character is read.\n",
        "* Let's see it run now."
      ]
    },
    {
      "cell_type": "code",
      "execution_count": null,
      "metadata": {
        "colab": {
          "base_uri": "https://localhost:8080/"
        },
        "id": "XAr0-72QpEk7",
        "outputId": "cb8c1fac-6422-4d38-b2e5-dd69c60f3701"
      },
      "outputs": [
        {
          "execution_count": null,
          "name": "stdout",
          "output_type": "stream",
          "text": [
            "TEMP 1\n",
            "TEMP 12\n",
            "TEMP 123\n",
            "TEMP 1234\n"
          ]
        },
        {
          "data": {
            "text/plain": [
              "1234"
            ]
          },
          "execution_count": null,
          "metadata": {},
          "output_type": "execute_result"
        }
      ],
      "source": [
        "my_parse_int('1234')"
      ]
    },
    {
      "cell_type": "markdown",
      "metadata": {
        "id": "OfPybpETpR75"
      },
      "source": [
        "* You can see the function gradually building up the number by parsing from the beginning.\n",
        "* After each pass through the loop, it has computed the number as if there were no more digits to read.\n",
        "* And when another digit is read, the existing number is shifted a digit over by multiplying by ten.\n",
        "* Then the new digit is added.\n",
        "* But what is this `ord` function?"
      ]
    },
    {
      "cell_type": "code",
      "execution_count": null,
      "metadata": {
        "colab": {
          "base_uri": "https://localhost:8080/"
        },
        "id": "f6myx__VqEkJ",
        "outputId": "aac0bddb-2a69-4a5b-b744-ba27aadefe7f"
      },
      "outputs": [
        {
          "data": {
            "text/plain": [
              "48"
            ]
          },
          "execution_count": null,
          "metadata": {},
          "output_type": "execute_result"
        }
      ],
      "source": [
        "ord('0')"
      ]
    },
    {
      "cell_type": "code",
      "execution_count": null,
      "metadata": {
        "colab": {
          "base_uri": "https://localhost:8080/"
        },
        "id": "c_UJJXiQqGaV",
        "outputId": "e9befbdb-4893-4beb-ba1b-04b232d4c1b4"
      },
      "outputs": [
        {
          "data": {
            "text/plain": [
              "49"
            ]
          },
          "execution_count": null,
          "metadata": {},
          "output_type": "execute_result"
        }
      ],
      "source": [
        "ord('1')"
      ]
    },
    {
      "cell_type": "code",
      "execution_count": null,
      "metadata": {
        "colab": {
          "base_uri": "https://localhost:8080/"
        },
        "id": "px59ZCCGqIPP",
        "outputId": "a07f800e-2c78-40fa-d8b7-ba3ef4bf877f"
      },
      "outputs": [
        {
          "data": {
            "text/plain": [
              "50"
            ]
          },
          "execution_count": null,
          "metadata": {},
          "output_type": "execute_result"
        }
      ],
      "source": [
        "ord('2')"
      ]
    },
    {
      "cell_type": "markdown",
      "metadata": {
        "id": "B3ftK6XCfDJt"
      },
      "source": [
        "* We glossed over a lot of details earlier about what characters are, beyond being (usually) visible symbols.\n",
        "* Each character has its visible representation, and it also has a number assigned to it.\n",
        "* More or less the order that characters were added to Unicode.\n",
        "* `ord` returns the number of each character.\n",
        "* The digits zero through nine were added in that order, so their numbers were assigned in that order too.\n",
        "* (I'm glossing over some historical details, but the numbering of these digits has been consistent across standards.)\n",
        "* The trick with `ord` here is that if you call `ord` with the character of a digit, and you subtract `ord` with the zero character, you get the number represented by the digit."
      ]
    },
    {
      "cell_type": "code",
      "execution_count": null,
      "metadata": {
        "colab": {
          "base_uri": "https://localhost:8080/"
        },
        "id": "OtjCxqWFrUST",
        "outputId": "2105a57d-48ee-4bd3-ad7f-76937dffa985"
      },
      "outputs": [
        {
          "data": {
            "text/plain": [
              "9"
            ]
          },
          "execution_count": null,
          "metadata": {},
          "output_type": "execute_result"
        }
      ],
      "source": [
        "ord('9') - ord('0')"
      ]
    },
    {
      "cell_type": "markdown",
      "metadata": {
        "id": "0ej89r97rXqg"
      },
      "source": [
        "* This only works if you are actually passing in a digit character to ord.\n",
        "* What happens with the function that I just wrote?"
      ]
    },
    {
      "cell_type": "code",
      "execution_count": null,
      "metadata": {
        "colab": {
          "base_uri": "https://localhost:8080/"
        },
        "id": "brXiZLYMrlG2",
        "outputId": "453cd3a3-e7ff-4a1c-956c-8f12210433d8"
      },
      "outputs": [
        {
          "execution_count": null,
          "name": "stdout",
          "output_type": "stream",
          "text": [
            "TEMP 1\n",
            "TEMP 12\n",
            "TEMP 123\n",
            "TEMP 1279\n",
            "TEMP 12840\n",
            "TEMP 128451\n"
          ]
        },
        {
          "data": {
            "text/plain": [
              "128451"
            ]
          },
          "execution_count": null,
          "metadata": {},
          "output_type": "execute_result"
        }
      ],
      "source": [
        "my_parse_int('123abc')"
      ]
    },
    {
      "cell_type": "code",
      "execution_count": null,
      "metadata": {
        "colab": {
          "base_uri": "https://localhost:8080/"
        },
        "id": "77i7b9irrqdA",
        "outputId": "70a48a04-1356-4550-91bf-39de4630194d"
      },
      "outputs": [
        {
          "execution_count": null,
          "name": "stdout",
          "output_type": "stream",
          "text": [
            "TEMP 128245\n"
          ]
        },
        {
          "data": {
            "text/plain": [
              "128245"
            ]
          },
          "execution_count": null,
          "metadata": {},
          "output_type": "execute_result"
        }
      ],
      "source": [
        "my_parse_int('\ud83d\udd25')"
      ]
    },
    {
      "cell_type": "markdown",
      "metadata": {
        "id": "BElGk4Knryt7"
      },
      "source": [
        "* The results are bogus.\n",
        "* A real parser would throw an exception here."
      ]
    },
    {
      "cell_type": "code",
      "execution_count": null,
      "metadata": {
        "colab": {
          "base_uri": "https://localhost:8080/",
          "height": 141
        },
        "id": "PMFrZgCDsA86",
        "outputId": "440d4176-1a45-4581-8af4-ce685be39ce2"
      },
      "outputs": [
        {
          "ename": "ValueError",
          "evalue": "invalid literal for int() with base 10: '\ud83d\udd25'",
          "execution_count": null,
          "output_type": "error",
          "traceback": [
            "\u001b[0;31m---------------------------------------------------------------------------\u001b[0m",
            "\u001b[0;31mValueError\u001b[0m                                Traceback (most recent call last)",
            "\u001b[0;32m<ipython-input-50-00f6047e0334>\u001b[0m in \u001b[0;36m<cell line: 1>\u001b[0;34m()\u001b[0m\n\u001b[0;32m----> 1\u001b[0;31m \u001b[0mint\u001b[0m\u001b[0;34m(\u001b[0m\u001b[0;34m'\ud83d\udd25'\u001b[0m\u001b[0;34m)\u001b[0m\u001b[0;34m\u001b[0m\u001b[0;34m\u001b[0m\u001b[0m\n\u001b[0m",
            "\u001b[0;31mValueError\u001b[0m: invalid literal for int() with base 10: '\ud83d\udd25'"
          ]
        }
      ],
      "source": [
        "int('\ud83d\udd25')"
      ]
    },
    {
      "cell_type": "code",
      "execution_count": null,
      "metadata": {
        "id": "iEM05BKvsHCf"
      },
      "outputs": [],
      "source": [
        "float('\ud83d\udd25')"
      ]
    },
    {
      "cell_type": "markdown",
      "metadata": {
        "id": "Sg4YVoWUsERm"
      },
      "source": [
        "* Generally, you should just use `int` and `float` to parse numbers.\n",
        "* The simple parser that I just wrote here has no error checking, and does not even handle negative numbers.\n",
        "* A parser for floating point numbers is even more complicated, and has to handle both decimal points and the exponential notation."
      ]
    }
  ],
  "metadata": {
    "colab": {},
    "kernelspec": {
      "display_name": "Python 3",
      "name": "python3"
    },
    "language_info": {
      "codemirror_mode": {
        "name": "ipython",
        "version": 3
      },
      "file_extension": ".py",
      "mimetype": "text/x-python",
      "name": "python",
      "nbconvert_exporter": "python",
      "pygments_lexer": "ipython3",
      "version": "3.9.6"
    }
  },
  "nbformat": 4,
  "nbformat_minor": 0
}