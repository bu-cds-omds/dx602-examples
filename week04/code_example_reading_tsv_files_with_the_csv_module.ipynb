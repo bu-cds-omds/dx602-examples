{
  "cells": [
    {
      "cell_type": "markdown",
      "metadata": {
        "id": "R6nV1TIOfXjm"
      },
      "source": [
        "# Code Example: Reading TSV Files with the CSV Module"
      ]
    },
    {
      "cell_type": "markdown",
      "metadata": {
        "id": "J8-2kKT3feD8"
      },
      "source": [
        "Here is an example of using those options to read a TSV file using the CSV module."
      ]
    },
    {
      "cell_type": "code",
      "execution_count": null,
      "metadata": {
        "id": "U-3_MFtj5D5A"
      },
      "outputs": [],
      "source": [
        "import csv\n",
        "\n",
        "def read_tsv_dictionaries_2():\n",
        "    with open(filename) as file:\n",
        "        reader = csv.DictReader(file, dialect=\"excel-tab\")\n",
        "        for row in reader:\n",
        "            yield row"
      ]
    },
    {
      "cell_type": "markdown",
      "metadata": {
        "id": "1mpKCoxP5PpQ"
      },
      "source": [
        "**Code Notes:**\n",
        "* The only change is adding the `dialect=\"excel-tab\"` option.\n",
        "* You could also get this effect with `delimiter=\"\\t\"` since `\\t` is the tab character."
      ]
    },
    {
      "cell_type": "markdown",
      "metadata": {
        "id": "LKsKzEzl9pm4"
      },
      "source": [
        "But what exactly is this excel-tab dialect?"
      ]
    },
    {
      "cell_type": "code",
      "execution_count": null,
      "metadata": {
        "colab": {
          "base_uri": "https://localhost:8080/"
        },
        "id": "BVgVHD475abn",
        "outputId": "34d679ca-fa38-4491-f4ef-fd44e4d022da"
      },
      "outputs": [
        {
          "data": {
            "text/plain": [
              "['excel', 'excel-tab', 'unix']"
            ]
          },
          "execution_count": 19,
          "metadata": {},
          "output_type": "execute_result"
        }
      ],
      "source": [
        "import csv\n",
        "csv.list_dialects()"
      ]
    },
    {
      "cell_type": "code",
      "execution_count": null,
      "metadata": {
        "colab": {
          "base_uri": "https://localhost:8080/"
        },
        "id": "t9MeVrHJ8IuS",
        "outputId": "96cbd0e0-4e28-4dca-84db-3f86610d77fe"
      },
      "outputs": [
        {
          "data": {
            "text/plain": [
              "<_csv.Dialect at 0x7f2268afec40>"
            ]
          },
          "execution_count": 27,
          "metadata": {},
          "output_type": "execute_result"
        }
      ],
      "source": [
        "dialect = csv.get_dialect(\"excel-tab\")\n",
        "dialect"
      ]
    },
    {
      "cell_type": "code",
      "execution_count": null,
      "metadata": {
        "colab": {
          "base_uri": "https://localhost:8080/"
        },
        "id": "jO00-MZR8gpN",
        "outputId": "cf1eb893-e61f-463e-eb05-890cd43dee05"
      },
      "outputs": [
        {
          "data": {
            "text/plain": [
              "['__class__',\n",
              " '__delattr__',\n",
              " '__dir__',\n",
              " '__doc__',\n",
              " '__eq__',\n",
              " '__format__',\n",
              " '__ge__',\n",
              " '__getattribute__',\n",
              " '__gt__',\n",
              " '__hash__',\n",
              " '__init__',\n",
              " '__init_subclass__',\n",
              " '__le__',\n",
              " '__lt__',\n",
              " '__module__',\n",
              " '__ne__',\n",
              " '__new__',\n",
              " '__reduce__',\n",
              " '__reduce_ex__',\n",
              " '__repr__',\n",
              " '__setattr__',\n",
              " '__sizeof__',\n",
              " '__str__',\n",
              " '__subclasshook__',\n",
              " 'delimiter',\n",
              " 'doublequote',\n",
              " 'escapechar',\n",
              " 'lineterminator',\n",
              " 'quotechar',\n",
              " 'quoting',\n",
              " 'skipinitialspace',\n",
              " 'strict']"
            ]
          },
          "execution_count": 28,
          "metadata": {},
          "output_type": "execute_result"
        }
      ],
      "source": [
        "dir(dialect)"
      ]
    },
    {
      "cell_type": "code",
      "execution_count": null,
      "metadata": {
        "colab": {
          "base_uri": "https://localhost:8080/"
        },
        "id": "_ruYgzKm6JLd",
        "outputId": "572b164e-2aba-4ceb-8d1b-1454414dd0cc"
      },
      "outputs": [
        {
          "name": "stdout",
          "output_type": "stream",
          "text": [
            "delimiter '\\t'\n",
            "doublequote True\n",
            "escapechar None\n",
            "lineterminator '\\r\\n'\n",
            "quotechar '\"'\n",
            "quoting 0\n",
            "skipinitialspace False\n",
            "strict False\n"
          ]
        }
      ],
      "source": [
        "for attribute in dir(dialect):\n",
        "    if not attribute.startswith(\"_\"):\n",
        "        print(attribute, repr(getattr(dialect, attribute)))"
      ]
    },
    {
      "cell_type": "markdown",
      "metadata": {
        "id": "utC63ia66pjv"
      },
      "source": [
        "**Code Notes:**\n",
        "* [`csv.list_dialects`](https://docs.python.org/3/library/csv.html#csv.list_dialects) returns a list of the available dialects. \"excel-tab\" is included.\n",
        "* [`csv.get_dialect`](https://docs.python.org/3/library/csv.html#csv.get_dialect) gives us a dialect object, but converting it into a string is not very helpful.\n",
        "* The [built-in function `dir`](https://docs.python.org/3/library/functions.html#dir) was mentioned in week 1, but we have not used it since.\n",
        "  It returns a list of the attributes (including methods) of an object, and is handy when trying to learn about an unfamilar object.\n",
        "* The [built-in function `getattr`](https://docs.python.org/3/library/functions.html#getattr) returns an object's named attribute.\n",
        "  What's an attribute?\n",
        "  Anything you can access from the object using the dot notation.\n",
        "  So `getattr(o, \"foo\")` is the same as `o.foo`.\n",
        "  Here, it was used to programmatically look at an unfamiliar object where the attribute names weren't known beforehand.\n",
        "* `repr` was used for clarity since some of these attributes were non-visible characters. `repr` changed them to the backslashed expressions.\n",
        "* This dialect is a little fancier than a plain TSV file, but is probably fine for most purposes.\n",
        "  * Of particular note, it supports quoting fields with double quotes, and the same double doublequote behavior that we saw looking at example CSV encodings.\n",
        "  * Most of the time, these just do not come up at all.\n",
        "  * When they come up, you'll have to decide on a case by case basis whether you want this support or not."
      ]
    }
  ],
  "metadata": {
    "colab": {},
    "kernelspec": {
      "display_name": "Python 3",
      "name": "python3"
    },
    "language_info": {
      "codemirror_mode": {
        "name": "ipython",
        "version": 3
      },
      "file_extension": ".py",
      "mimetype": "text/x-python",
      "name": "python",
      "nbconvert_exporter": "python",
      "pygments_lexer": "ipython3",
      "version": "3.9.6"
    }
  },
  "nbformat": 4,
  "nbformat_minor": 0
}