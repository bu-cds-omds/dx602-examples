{
  "cells": [
    {
      "cell_type": "markdown",
      "metadata": {
        "id": "ZJrTK1izlEJx"
      },
      "source": [
        "# Code Example: Reading Lines from a File"
      ]
    },
    {
      "cell_type": "markdown",
      "metadata": {
        "id": "NnBoRN2I4Tys"
      },
      "source": [
        "The following example code reads all the lines of a file at once and returns them in a list."
      ]
    },
    {
      "cell_type": "code",
      "execution_count": null,
      "metadata": {
        "id": "nOear3YF4qsS"
      },
      "outputs": [],
      "source": [
        "def read_file_at once(filename):\n",
        "    output = []\n",
        "    with open(filename) as fp:\n",
        "        for line in fp:\n",
        "            output.append(line)\n",
        "\n",
        "    return output"
      ]
    },
    {
      "cell_type": "markdown",
      "metadata": {
        "id": "acv59DQR4tww"
      },
      "source": [
        "**Code Notes:**\n",
        "* This function uses a new `with` statement syntax.\n",
        "  * In this case, a new variable `fp` is created with the result of `open(filename)` which represents the open file.\n",
        "  * At the end of the `with` statement, the open file is closed automatically, even if an exception happened.\n",
        "  * This \"context manager\" pattern is often used to manage resource connections, and libraries supporting context managers will give you similar examples to follow.\n",
        "* The iterator of `fp` and other file handles returns lines from the file.\n"
      ]
    }
  ],
  "metadata": {
    "colab": {},
    "kernelspec": {
      "display_name": "Python 3",
      "name": "python3"
    },
    "language_info": {
      "codemirror_mode": {
        "name": "ipython",
        "version": 3
      },
      "file_extension": ".py",
      "mimetype": "text/x-python",
      "name": "python",
      "nbconvert_exporter": "python",
      "pygments_lexer": "ipython3",
      "version": "3.9.6"
    }
  },
  "nbformat": 4,
  "nbformat_minor": 0
}