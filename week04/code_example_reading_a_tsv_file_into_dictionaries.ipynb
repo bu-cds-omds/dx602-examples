{
  "cells": [
    {
      "cell_type": "markdown",
      "metadata": {
        "id": "RLCcRjKBEOYx"
      },
      "source": [
        "# Code Example: Reading a TSV File into Dictionaries"
      ]
    },
    {
      "cell_type": "markdown",
      "metadata": {
        "id": "ddFR_GjZEXLG"
      },
      "source": [
        "Here is another example of reading a tab-separated file with a header and yielding the contents as dictionaries.\n",
        "This version requires a header row in the file."
      ]
    },
    {
      "cell_type": "code",
      "execution_count": null,
      "metadata": {
        "id": "XM5Zt0mPEzJs"
      },
      "outputs": [],
      "source": [
        "def read_tsv_dictionaries(filename):\n",
        "    with open(filename) as fp:\n",
        "        def parse_line(line):\n",
        "            return line.rstrip(\"\\n\").split(\"\\t\")\n",
        "\n",
        "        header = parse_line(next(fp))\n",
        "        for line in fp:\n",
        "            line = parse_line(line)\n",
        "            yield dict(zip(header, line))"
      ]
    },
    {
      "cell_type": "markdown",
      "metadata": {
        "id": "crChMqhaFWub"
      },
      "source": [
        "**Code Notes:**\n",
        "* The nested function `parse_line` is for convenience to avoid repeating the logic for stripping newlines and splitting on tabs.\n",
        "It does not access any variables from the surrounding scope, but itself is scoped so only code inside the `with` statement can access it.\n",
        "* The `header` variable is a list populated by parsing the first line of the file.\n",
        "* This function uses three [built-in functions](https://docs.python.org/3/library/functions.html) that we haven't mentioned before.\n",
        "  * The [built-in function `next`](https://docs.python.org/3/library/functions.html#next) returns the next output from an iterator.\n",
        "  In this case, it was the first line from the file.\n",
        "  * The [built-in function `dict`](https://docs.python.org/3/library/functions.html#func-dict) takes in an iterable of pairs (sequences of length two) and populates a dictionary. The first value of each pair becomes a key, and the second value of each pair is that key's value.\n",
        "  * The [built-in function `zip`](https://docs.python.org/3/library/functions.html#func-zip) takes two or more iterables, repeatedly takes a value from each, and yields a tuple of those values.\n",
        "  The name is an analogy to zipping up a zipper - two sides are becoming paired together.\n",
        "  In this usage, the column names in the `header` variable are being paired with the values in the `line` variable.\n",
        "* This code will raise an exception when `next` is called if the file is empty.\n",
        "  * This means that the file does not even have a header row, and your assumptions about this being a valid data file were wrong. If you catch this exception, you should probably report which file the error, and then raise an exception again since your process is unlikely to work with this file empty.\n",
        "* If rows after the header have different numbers of values, this code will continue without an exception, but you may be surprised later since the dictionaries are not as expected.\n",
        "  * If there are fewer values than expected, then the code will implicitly assume that these values should be matched to the first column names in the header, and the dictionary will be missing the later keys. You will see the `KeyError` exception when trying to access those keys.\n",
        "  * If there are more values than expected, then they will be silently dropped by the `zip` function.\n",
        "  * If you want to catch these cases, you can add an explict length comparison (`len(header) != len(line)`) and coding your own response, or adding `strict=True` to the `zip` call which will make it raise a `ValueError` if the lengths do not match.\n"
      ]
    }
  ],
  "metadata": {
    "colab": {},
    "kernelspec": {
      "display_name": "Python 3",
      "name": "python3"
    },
    "language_info": {
      "codemirror_mode": {
        "name": "ipython",
        "version": 3
      },
      "file_extension": ".py",
      "mimetype": "text/x-python",
      "name": "python",
      "nbconvert_exporter": "python",
      "pygments_lexer": "ipython3",
      "version": "3.9.6"
    }
  },
  "nbformat": 4,
  "nbformat_minor": 0
}