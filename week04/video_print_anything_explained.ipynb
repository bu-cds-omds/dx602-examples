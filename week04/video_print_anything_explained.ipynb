{
  "cells": [
    {
      "cell_type": "markdown",
      "metadata": {
        "id": "9LDvboDdIq7J"
      },
      "source": [
        "# Video: Print Anything Explained\n",
        "\n",
        "This video explores different ways to print strings, and what the different ways highlight."
      ]
    },
    {
      "cell_type": "markdown",
      "metadata": {
        "id": "FPsdOvh2Iq7J"
      },
      "source": [
        "* Hello everybody!"
      ]
    },
    {
      "cell_type": "code",
      "execution_count": null,
      "metadata": {
        "colab": {
          "base_uri": "https://localhost:8080/",
          "height": 35
        },
        "id": "VjtvIsMkIq7K",
        "outputId": "575ee283-5fc5-4b23-e0ad-668bd4750e6d"
      },
      "outputs": [
        {
          "data": {
            "application/vnd.google.colaboratory.intrinsic+json": {
              "type": "string"
            },
            "text/plain": [
              "'Hello everybody!'"
            ]
          },
          "execution_count": null,
          "metadata": {},
          "output_type": "execute_result"
        }
      ],
      "source": [
        "\"Hello everybody!\""
      ]
    },
    {
      "cell_type": "markdown",
      "metadata": {
        "id": "7wdJh_LDIq7K"
      },
      "source": [
        "* That output there looks a little bit like code.\n",
        "* Also, the quotes changed.\n",
        "* :thinkingface:\n",
        "* If I use the print function, there are no quotes."
      ]
    },
    {
      "cell_type": "code",
      "execution_count": null,
      "metadata": {
        "colab": {
          "base_uri": "https://localhost:8080/"
        },
        "id": "iiV7CY0NIq7K",
        "outputId": "b582742c-d644-4ca9-c544-b3f191f8143c"
      },
      "outputs": [
        {
          "name": "stdout",
          "output_type": "stream",
          "text": [
            "Hello everybody!\n"
          ]
        }
      ],
      "source": [
        "print(\"Hello everybody!\")"
      ]
    },
    {
      "cell_type": "markdown",
      "metadata": {
        "id": "i8AlJKCSIq7L"
      },
      "source": [
        "* So what is going on here?\n",
        "* Why do these look different?\n",
        "* Let's start with the what the print function does.\n",
        "* If you call the print function with a string and nothing else, it prints out that string on a line by itself.\n",
        "* I'm ignoring some special cases like very long strings with line wrapping, and strings with special new line characters.\n",
        "* What about the quotes?\n",
        "* The quotes here are not part of the string.\n",
        "* The quotes here act as markers for Python to identify the beginning and end of the string.\n",
        "* In the previous video, when we checked the length of the string, the quotes were not counted.\n",
        "* Let's repeat that check."
      ]
    },
    {
      "cell_type": "code",
      "execution_count": null,
      "metadata": {
        "colab": {
          "base_uri": "https://localhost:8080/"
        },
        "id": "Hat8PMmgIq7L",
        "outputId": "d6c98f8d-2a52-4b3b-8740-bb8015417c98"
      },
      "outputs": [
        {
          "data": {
            "text/plain": [
              "16"
            ]
          },
          "execution_count": null,
          "metadata": {},
          "output_type": "execute_result"
        }
      ],
      "source": [
        "len(\"Hello everybody!\")"
      ]
    },
    {
      "cell_type": "markdown",
      "metadata": {
        "id": "YoakiKvYIq7L"
      },
      "source": [
        "* If you count those characters including the space, there are sixteen characters between the two double quotes.\n",
        "* And if we call print with that string, you can count out the same 16 characters shown."
      ]
    },
    {
      "cell_type": "code",
      "execution_count": null,
      "metadata": {
        "colab": {
          "base_uri": "https://localhost:8080/"
        },
        "id": "0HZQu8WTIq7N",
        "outputId": "fa2ade4e-317d-4a6a-aa29-d9295ce4623f"
      },
      "outputs": [
        {
          "name": "stdout",
          "output_type": "stream",
          "text": [
            "Hello everybody!\n"
          ]
        }
      ],
      "source": [
        "print(\"Hello everybody!\")"
      ]
    },
    {
      "cell_type": "markdown",
      "metadata": {
        "id": "Gk_-8IxvIq7N"
      },
      "source": [
        "* So my claim is that printing a string just shows the characters in the string.\n",
        "* No messing around.\n",
        "* So what happens when we type in the same string without print?"
      ]
    },
    {
      "cell_type": "code",
      "execution_count": null,
      "metadata": {
        "colab": {
          "base_uri": "https://localhost:8080/",
          "height": 35
        },
        "id": "J21vkRt_Iq7O",
        "outputId": "5084e5b0-6f0c-4dcf-eb6c-fbb5f8d8c2b0"
      },
      "outputs": [
        {
          "data": {
            "application/vnd.google.colaboratory.intrinsic+json": {
              "type": "string"
            },
            "text/plain": [
              "'Hello everybody!'"
            ]
          },
          "execution_count": null,
          "metadata": {},
          "output_type": "execute_result"
        }
      ],
      "source": [
        "\"Hello everybody!\""
      ]
    },
    {
      "cell_type": "markdown",
      "metadata": {
        "id": "fDz8cUc7Iq7O"
      },
      "source": [
        "* That does look like code for that string, just with single quotes instead of double quotes.\n",
        "* Did I mention that you can make strings with single quotes too?"
      ]
    },
    {
      "cell_type": "code",
      "execution_count": null,
      "metadata": {
        "colab": {
          "base_uri": "https://localhost:8080/"
        },
        "id": "Auska3JbIq7P",
        "outputId": "6b5b08f9-37e0-486a-a1ff-d6594f903a30"
      },
      "outputs": [
        {
          "name": "stdout",
          "output_type": "stream",
          "text": [
            "Hello everybody!\n"
          ]
        }
      ],
      "source": [
        "print('Hello everybody!')"
      ]
    },
    {
      "cell_type": "markdown",
      "metadata": {
        "id": "OpJ-U1x2Iq7Q"
      },
      "source": [
        "* That looks the same as with double quotes."
      ]
    },
    {
      "cell_type": "code",
      "execution_count": null,
      "metadata": {
        "colab": {
          "base_uri": "https://localhost:8080/",
          "height": 35
        },
        "id": "t_3Qbo40Iq7R",
        "outputId": "6be18265-4186-4152-c7d5-5724c325f9af"
      },
      "outputs": [
        {
          "data": {
            "application/vnd.google.colaboratory.intrinsic+json": {
              "type": "string"
            },
            "text/plain": [
              "'Hello everybody!'"
            ]
          },
          "execution_count": null,
          "metadata": {},
          "output_type": "execute_result"
        }
      ],
      "source": [
        "'Hello everybody!'"
      ]
    },
    {
      "cell_type": "markdown",
      "metadata": {
        "id": "vWaSKGxbIq7U"
      },
      "source": [
        "* That looks the same, and still has the single quotes.\n",
        "* This no print mode seems to prefer single quotes.\n",
        "* It turns out that what we are seeing here is the output of the \"repr\" function.\n",
        "* repr is a function that converts any Python object into a string.\n",
        "* repr tries to return a string that you can copy paste into Python code and get the original object or value back.\n",
        "* That's why the quotes shown are shown - these Jupyter notebooks are calling repr and then printing repr's output like this."
      ]
    },
    {
      "cell_type": "code",
      "execution_count": null,
      "metadata": {
        "colab": {
          "base_uri": "https://localhost:8080/"
        },
        "id": "JgDP8XtFIq7V",
        "outputId": "3890dbfc-afa1-422f-bbc3-bdbd6661d053"
      },
      "outputs": [
        {
          "name": "stdout",
          "output_type": "stream",
          "text": [
            "'Hello everybody!'\n"
          ]
        }
      ],
      "source": [
        "print(repr(\"Hello everybody!\"))"
      ]
    },
    {
      "cell_type": "markdown",
      "metadata": {
        "id": "54qOK9WNIq7V"
      },
      "source": [
        "* The actual notebook display logic is fancier; Jupyter has several ways to customize the output.\n",
        "* Charts in Jupyter work that way.\n",
        "* Anything without customization will use that repr then print combination.\n",
        "* What about numbers?"
      ]
    },
    {
      "cell_type": "code",
      "execution_count": null,
      "metadata": {
        "colab": {
          "base_uri": "https://localhost:8080/"
        },
        "id": "q8Chaw88Iq7W",
        "outputId": "b12206d2-5d17-4f58-ad60-77cdc519e277"
      },
      "outputs": [
        {
          "data": {
            "text/plain": [
              "42"
            ]
          },
          "execution_count": null,
          "metadata": {},
          "output_type": "execute_result"
        }
      ],
      "source": [
        "42"
      ]
    },
    {
      "cell_type": "code",
      "execution_count": null,
      "metadata": {
        "colab": {
          "base_uri": "https://localhost:8080/"
        },
        "id": "k7IQvseuIq7W",
        "outputId": "baea7db0-2555-4299-9278-00b921ef8386"
      },
      "outputs": [
        {
          "name": "stdout",
          "output_type": "stream",
          "text": [
            "42\n"
          ]
        }
      ],
      "source": [
        "print(42)"
      ]
    },
    {
      "cell_type": "code",
      "execution_count": null,
      "metadata": {
        "colab": {
          "base_uri": "https://localhost:8080/"
        },
        "id": "T59gfe_3Iq7Y",
        "outputId": "72abec74-1985-466e-c9c5-c400a785e2ea"
      },
      "outputs": [
        {
          "data": {
            "text/plain": [
              "42.0"
            ]
          },
          "execution_count": null,
          "metadata": {},
          "output_type": "execute_result"
        }
      ],
      "source": [
        "4.2e1"
      ]
    },
    {
      "cell_type": "code",
      "execution_count": null,
      "metadata": {
        "colab": {
          "base_uri": "https://localhost:8080/"
        },
        "id": "9rg2GYOLIq7Z",
        "outputId": "d44e369f-9c08-4949-8b59-e2200c75aefb"
      },
      "outputs": [
        {
          "name": "stdout",
          "output_type": "stream",
          "text": [
            "42.0\n"
          ]
        }
      ],
      "source": [
        "print(4.2e1)"
      ]
    },
    {
      "cell_type": "markdown",
      "metadata": {
        "id": "KRgfswwBIq7b"
      },
      "source": [
        "* For these examples, we see both versions showing the same output.\n",
        "* The last example was deliberately a little weird to emphasize the difference between how we can type numbers in Python and how Python will represent it as output.\n",
        "* So what is print doing with the number?\n",
        "* If print is called with a value that is not a string, print uses the str function to convert it to a string."
      ]
    },
    {
      "cell_type": "code",
      "execution_count": null,
      "metadata": {
        "colab": {
          "base_uri": "https://localhost:8080/",
          "height": 35
        },
        "id": "23opxAY-Iq7b",
        "outputId": "70fabbfb-1c83-49fa-919a-f81ba6f195be"
      },
      "outputs": [
        {
          "data": {
            "application/vnd.google.colaboratory.intrinsic+json": {
              "type": "string"
            },
            "text/plain": [
              "'42.0'"
            ]
          },
          "execution_count": null,
          "metadata": {},
          "output_type": "execute_result"
        }
      ],
      "source": [
        "str(4.2e1)"
      ]
    },
    {
      "cell_type": "code",
      "execution_count": null,
      "metadata": {
        "colab": {
          "base_uri": "https://localhost:8080/",
          "height": 35
        },
        "id": "pCaiJ_PEIq7b",
        "outputId": "9ecc7ba5-8cf3-4bff-9070-ce76fa9b3339"
      },
      "outputs": [
        {
          "data": {
            "application/vnd.google.colaboratory.intrinsic+json": {
              "type": "string"
            },
            "text/plain": [
              "'42.0'"
            ]
          },
          "execution_count": null,
          "metadata": {},
          "output_type": "execute_result"
        }
      ],
      "source": [
        "repr(4.2e1)"
      ]
    },
    {
      "cell_type": "markdown",
      "metadata": {
        "id": "Ze3Ta6qFIq7c"
      },
      "source": [
        "* You can think of the str function trying to return the most natural way to print out an object or value.\n",
        "* For numbers, that mostly lines up with how we would type the number as Python code.\n",
        "* So str and repr match up for numbers.\n",
        "* str and repr are different for strings because repr is adding the quotes for Python code.\n",
        "* Details may vary with custom types not built in to Python."
      ]
    },
    {
      "cell_type": "markdown",
      "metadata": {
        "id": "geQDd0ugIq7c"
      },
      "source": [
        "* Overall, I prefer and recommend using print for anything you will look at a lot since str tends to have more natural output.\n",
        "* For debugging, exploration, and other quick checks, I recommend sticking with the default output and repr for the extra information.\n",
        "* Repr is more verbose, but the extra detail can be surprisingly helpful while you are trying to figure out what is going on."
      ]
    },
    {
      "cell_type": "markdown",
      "metadata": {
        "id": "VBF62BLTIq7c"
      },
      "source": [
        "* One last thing before wrapping up this video - print can take multiple inputs."
      ]
    },
    {
      "cell_type": "code",
      "execution_count": null,
      "metadata": {
        "colab": {
          "base_uri": "https://localhost:8080/"
        },
        "id": "C1ksO8KiIq7c",
        "outputId": "1b5f5ef7-3e35-441f-f28b-580c34230aa2"
      },
      "outputs": [
        {
          "name": "stdout",
          "output_type": "stream",
          "text": [
            "ANSWER: 42 mangos\n"
          ]
        }
      ],
      "source": [
        "print(\"ANSWER:\", 42, \"mangos\")"
      ]
    },
    {
      "cell_type": "markdown",
      "metadata": {
        "id": "yXOh4x9oIq7d"
      },
      "source": [
        "* print will convert all its inputs to strings as needed, then output them separated by single spaces.\n",
        "* You can think of one call to print as generating one line of output formed by joining all the inputs together with spaces.\n",
        "* That should be enough about printing for now."
      ]
    }
  ],
  "metadata": {
    "colab": {},
    "kernelspec": {
      "display_name": "Python 3",
      "name": "python3"
    },
    "language_info": {
      "codemirror_mode": {
        "name": "ipython",
        "version": 3
      },
      "file_extension": ".py",
      "mimetype": "text/x-python",
      "name": "python",
      "nbconvert_exporter": "python",
      "pygments_lexer": "ipython3",
      "version": "3.9.6"
    }
  },
  "nbformat": 4,
  "nbformat_minor": 0
}