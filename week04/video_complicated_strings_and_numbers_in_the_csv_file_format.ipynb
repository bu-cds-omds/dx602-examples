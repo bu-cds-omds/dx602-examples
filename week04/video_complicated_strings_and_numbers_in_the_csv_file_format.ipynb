{
  "cells": [
    {
      "cell_type": "markdown",
      "metadata": {
        "id": "x1Dx01ySqhvT"
      },
      "source": [
        "# Video: Complicated Strings and Numbers in the CSV File Format\n",
        "\n"
      ]
    },
    {
      "cell_type": "markdown",
      "metadata": {
        "id": "7R46mOkIuUpO"
      },
      "source": [
        "* I am going to show you an example of using the csv module to write different types of data to a CSV file."
      ]
    },
    {
      "cell_type": "code",
      "execution_count": null,
      "metadata": {
        "id": "ZNidI4_0td6f"
      },
      "outputs": [],
      "source": [
        "import csv\n",
        "\n",
        "with open(\"test.csv\", \"w\") as test_fp:\n",
        "    test_writer = csv.writer(test_fp)\n",
        "    test_writer.writerow([\"hi\", \"hello, and goodbye\"])"
      ]
    },
    {
      "cell_type": "markdown",
      "metadata": {
        "id": "Lhc71lNHu4at"
      },
      "source": [
        "* This code uses csv dot writer to get an object specialized in writing CSV files.\n",
        "* This function has several options to change the dialect written.\n",
        "* The object returned by csv dot writer has a writerow method which we will use to write the data.\n",
        "* This writerow method takes in a sequence of data.\n",
        "* The data in this sequence does not need to be a string.\n",
        "* It will automatically call str to convert non-string data.\n",
        "* Let's look at what it wrote."
      ]
    },
    {
      "cell_type": "code",
      "execution_count": null,
      "metadata": {
        "colab": {
          "base_uri": "https://localhost:8080/"
        },
        "id": "-vrnXSovuHvN",
        "outputId": "f9a68c21-ed58-4d0e-c471-a144350cbdb3"
      },
      "outputs": [
        {
          "execution_count": null,
          "name": "stdout",
          "output_type": "stream",
          "text": [
            "hi,\"hello, and goodbye\"\n",
            "\n"
          ]
        }
      ],
      "source": [
        "with open(\"test.csv\") as test_fp:\n",
        "    for l in test_fp:\n",
        "        print(l)"
      ]
    },
    {
      "cell_type": "markdown",
      "metadata": {
        "id": "nj_dl77uvnvC"
      },
      "source": [
        "* The first value for the string hi was just written as is, with no special handling since there were no commas or quotes involved.\n",
        "* The next value was a string with a comma in it, so you can see the double quotes around it.\n",
        "* I would like to show you more examples, so I will write a function to repeat the code above for different rows of data."
      ]
    },
    {
      "cell_type": "code",
      "execution_count": null,
      "metadata": {
        "id": "MCEfe6xVwq8A"
      },
      "outputs": [],
      "source": [
        "def test_csv(row):\n",
        "    with open(\"test.csv\", \"w\") as test_fp:\n",
        "        test_writer = csv.writer(test_fp)\n",
        "        test_writer.writerow(row)\n",
        "    with open(\"test.csv\") as test_fp:\n",
        "        for l in test_fp:\n",
        "            print(l)"
      ]
    },
    {
      "cell_type": "markdown",
      "metadata": {
        "id": "e9H6lVGexlkR"
      },
      "source": [
        "* The next examples will show values that are not strings.\n",
        "* They will be automatically converted with the str function."
      ]
    },
    {
      "cell_type": "code",
      "execution_count": null,
      "metadata": {
        "colab": {
          "base_uri": "https://localhost:8080/"
        },
        "id": "LEipMABiw7no",
        "outputId": "99f3111c-4ee2-401a-92cd-b8e91d06d82d"
      },
      "outputs": [
        {
          "execution_count": null,
          "name": "stdout",
          "output_type": "stream",
          "text": [
            "hi,5,42.0,bye\n",
            "\n"
          ]
        }
      ],
      "source": [
        "test_csv([\"hi\",5,42.0,\"bye\"])"
      ]
    },
    {
      "cell_type": "markdown",
      "metadata": {
        "id": "lgKv7diiyB4-"
      },
      "source": [
        "* Now I will show you a more complicated example with double quotes inside one of the values.\n",
        "* We previously saw that double quotes were used to mark the beginning and end of some string values in a CSV.\n",
        "* What will happen when they are in the value too?"
      ]
    },
    {
      "cell_type": "code",
      "execution_count": null,
      "metadata": {
        "colab": {
          "base_uri": "https://localhost:8080/"
        },
        "id": "fxH22nmFxK8p",
        "outputId": "4a4081f1-1e38-4c34-ff0b-b6f08e2dccce"
      },
      "outputs": [
        {
          "execution_count": null,
          "name": "stdout",
          "output_type": "stream",
          "text": [
            "hi,\"this is a double quote \"\" in the middle and end\"\"\",done\n",
            "\n"
          ]
        }
      ],
      "source": [
        "test_csv([\"hi\", 'this is a double quote \" in the middle and end\"', \"done\"])"
      ]
    },
    {
      "cell_type": "markdown",
      "metadata": {
        "id": "GKPrlT6WyUNV"
      },
      "source": [
        "* Two double quotes in a row is the default encoding of a double quote in a string.\n",
        "* So if you were writing code to parse this yourself, and your code was parsing the middle of a string in double quotes, it would need to peek at the next character to tell if this was a double quote inside a string, or the string was being closed.\n",
        "* Each pair of two double quotes corresponds to double quote in the value.\n",
        "* If there is an odd double quote left at the end, then that marks the end of the string value."
      ]
    },
    {
      "cell_type": "code",
      "execution_count": null,
      "metadata": {
        "colab": {
          "base_uri": "https://localhost:8080/"
        },
        "id": "a0QgJMxyxTjr",
        "outputId": "ca2cd29d-656d-49cd-a81c-427c5bf2c840"
      },
      "outputs": [
        {
          "execution_count": null,
          "name": "stdout",
          "output_type": "stream",
          "text": [
            "\"lots of double quotes \"\"\"\"\"\"\"\"\"\"\"\"\"\n",
            "\n"
          ]
        }
      ],
      "source": [
        "test_csv(['lots of double quotes \"\"\"\"\"\"'])"
      ]
    },
    {
      "cell_type": "markdown",
      "metadata": {
        "id": "o7IWKLPFztkf"
      },
      "source": [
        "* And that is why I strongly recommend using the CSV module to read any and all CSV files."
      ]
    }
  ],
  "metadata": {
    "colab": {},
    "kernelspec": {
      "display_name": "Python 3",
      "name": "python3"
    },
    "language_info": {
      "codemirror_mode": {
        "name": "ipython",
        "version": 3
      },
      "file_extension": ".py",
      "mimetype": "text/x-python",
      "name": "python",
      "nbconvert_exporter": "python",
      "pygments_lexer": "ipython3",
      "version": "3.9.6"
    }
  },
  "nbformat": 4,
  "nbformat_minor": 0
}