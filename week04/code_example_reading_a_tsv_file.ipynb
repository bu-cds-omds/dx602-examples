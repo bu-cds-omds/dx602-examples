{
  "cells": [
    {
      "cell_type": "markdown",
      "metadata": {
        "id": "1B1GGy0PjR65"
      },
      "source": [
        "# Code Example: Reading a TSV File"
      ]
    },
    {
      "cell_type": "markdown",
      "metadata": {
        "id": "BU4BaiCrjVGT"
      },
      "source": [
        "Here is an example of reading a tab-separated file and yielding a list of values for each row.\n",
        "If there is a header row, it will be the first list returned."
      ]
    },
    {
      "cell_type": "code",
      "execution_count": null,
      "metadata": {
        "id": "EwvUaSY9BgSz"
      },
      "outputs": [],
      "source": [
        "def read_tsv_lists(filename):\n",
        "    with open(filename) as fp:\n",
        "        for line in fp:\n",
        "            # strip newline at end of the line\n",
        "            line = line.rstrip(\"\\n\")\n",
        "            yield line.split(\"\\t\")"
      ]
    },
    {
      "cell_type": "markdown",
      "metadata": {
        "id": "BYlLSZMGB7hK"
      },
      "source": [
        "**Code Notes:**\n",
        "* The [string method `str.rstrip`](https://docs.python.org/3/library/stdtypes.html#str.rstrip) removes the specified characters at the end of the line.\n",
        "  In this case, it is being used to strip the newline character `'\\n'` marking the end of the line.\n",
        "  Each line except maybe the last one will end with the newline character, but it is not really data, just a separator between lines.\n",
        "* The [string method `str.split`](https://docs.python.org/3/library/stdtypes.html#str.split) breaks up the original string and returns the pieces in a list. The original string is not actually changed.\n",
        "* Sometimes, functions like this are written to return tuples of data to discourage accidental changes.\n",
        "  This requires marginal extra code - just add `tuple()` to the yield statement.\n",
        "  However, this makes changes like parsing numbers from strings more inconvenient, so its probably better to leave it as a list.\n",
        "* All the values in the returned rows will be strings.\n",
        "  You will eventually want to convert them to other types.\n",
        "* This code is unlikely to have errors if the file exists and you can read it, but unexpected results may happen if the columns are inconsistent.\n",
        "  * This code has no checks if the number of columns in each row are the same. Usually, you should at least check if the number matches the header (first) row.\n"
      ]
    }
  ],
  "metadata": {
    "colab": {},
    "kernelspec": {
      "display_name": "Python 3",
      "name": "python3"
    },
    "language_info": {
      "codemirror_mode": {
        "name": "ipython",
        "version": 3
      },
      "file_extension": ".py",
      "mimetype": "text/x-python",
      "name": "python",
      "nbconvert_exporter": "python",
      "pygments_lexer": "ipython3",
      "version": "3.9.6"
    }
  },
  "nbformat": 4,
  "nbformat_minor": 0
}