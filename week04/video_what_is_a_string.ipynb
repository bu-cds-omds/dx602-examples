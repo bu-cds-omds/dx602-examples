{
  "cells": [
    {
      "cell_type": "markdown",
      "metadata": {
        "id": "njDMGoxwIq7B"
      },
      "source": [
        "# Video: What is a String?\n",
        "\n",
        "This video introduces common properties of strings shared across programming languages."
      ]
    },
    {
      "cell_type": "markdown",
      "metadata": {
        "id": "Pqj6653OIq7C"
      },
      "source": [
        "* There's a tradition in teaching programming languages to start with printing out the sentence \"Hello World\".\n",
        "* It's a little late, but let's do that now."
      ]
    },
    {
      "cell_type": "code",
      "execution_count": null,
      "metadata": {
        "colab": {
          "base_uri": "https://localhost:8080/"
        },
        "id": "uaE2VAoSIq7C",
        "outputId": "75312c3d-733d-459d-ee3b-49042b38a3db"
      },
      "outputs": [
        {
          "name": "stdout",
          "output_type": "stream",
          "text": [
            "hello world.\n"
          ]
        }
      ],
      "source": [
        "print(\"hello world.\")"
      ]
    },
    {
      "cell_type": "markdown",
      "metadata": {
        "id": "v7O6CaAKIq7F"
      },
      "source": [
        "* If you count the characters, there are twelve of them.\n",
        "* There are five letters for each word, so ten letters total, and one period.\n",
        "* That makes eleven visible characters.\n",
        "* There is also the space between hello and world.\n",
        "* You can't see it, but something happened when I hit the space bar, and you can infer its presence because world is not right next to hello.\n",
        "* Let's get a second opinion from Python."
      ]
    },
    {
      "cell_type": "code",
      "execution_count": null,
      "metadata": {
        "colab": {
          "base_uri": "https://localhost:8080/"
        },
        "id": "zVDo1b64Iq7F",
        "outputId": "a9511356-50ab-4a15-c937-8ddbd61c3cf6"
      },
      "outputs": [
        {
          "data": {
            "text/plain": [
              "11"
            ]
          },
          "execution_count": 2,
          "metadata": {},
          "output_type": "execute_result"
        }
      ],
      "source": [
        "len(\"hello world\")"
      ]
    },
    {
      "cell_type": "markdown",
      "metadata": {
        "id": "kR7TeYDCIq7G"
      },
      "source": [
        "* So this string hello world has eleven characters.\n",
        "* What can we do with them?\n",
        "* Since we said a string is a sequence of characters, we should be able to loop over it in Python."
      ]
    },
    {
      "cell_type": "code",
      "execution_count": null,
      "metadata": {
        "colab": {
          "base_uri": "https://localhost:8080/"
        },
        "id": "A-CfS--AIq7G",
        "outputId": "15b8e21e-37a8-4692-dfbe-47e2ff825450"
      },
      "outputs": [
        {
          "name": "stdout",
          "output_type": "stream",
          "text": [
            "h\n",
            "e\n",
            "l\n",
            "l\n",
            "o\n",
            " \n",
            "w\n",
            "o\n",
            "r\n",
            "l\n",
            "d\n"
          ]
        }
      ],
      "source": [
        "for c in \"hello world\":\n",
        "    print(c)"
      ]
    },
    {
      "cell_type": "markdown",
      "metadata": {
        "id": "3jGxY0_0Iq7H"
      },
      "source": [
        "* Maybe that is not so helpful right now, but you can see that the loop did run for each of the eleven characters.\n",
        "* Most of the time, you will not want to loop over characters in a string.\n",
        "* Usually it is a bug, a mistake, if I do this in my code.\n",
        "* There are some niche cases like parsing, where you do want to look at characters one at a time.\n",
        "* We will look at some of those this week, but most of the time someone else already wrote the code.\n",
        "* Supposing that it is one of those good times, you can access individual characters in the string.\n",
        "* This works just like the string was a list of characters."
      ]
    },
    {
      "cell_type": "code",
      "execution_count": null,
      "metadata": {
        "colab": {
          "base_uri": "https://localhost:8080/",
          "height": 35
        },
        "id": "3Ibsy_OVIq7H",
        "outputId": "56021436-e25c-437c-cea0-0c849aa2baba"
      },
      "outputs": [
        {
          "data": {
            "application/vnd.google.colaboratory.intrinsic+json": {
              "type": "string"
            },
            "text/plain": [
              "'h'"
            ]
          },
          "execution_count": 4,
          "metadata": {},
          "output_type": "execute_result"
        }
      ],
      "source": [
        "\"hello world\"[0]"
      ]
    },
    {
      "cell_type": "markdown",
      "metadata": {
        "id": "pPf7dtVCIq7H"
      },
      "source": [
        "* Or a subsequence of the characters, also called a substring.\n",
        "* The syntax here is the same as with a list, but you get a string back."
      ]
    },
    {
      "cell_type": "code",
      "execution_count": null,
      "metadata": {
        "colab": {
          "base_uri": "https://localhost:8080/",
          "height": 35
        },
        "id": "vbPTxumlIq7I",
        "outputId": "b0012714-c0ef-4c04-a332-5f4b30b4d128"
      },
      "outputs": [
        {
          "data": {
            "application/vnd.google.colaboratory.intrinsic+json": {
              "type": "string"
            },
            "text/plain": [
              "'lo wo'"
            ]
          },
          "execution_count": 5,
          "metadata": {},
          "output_type": "execute_result"
        }
      ],
      "source": [
        "\"hello world\"[3:8]"
      ]
    },
    {
      "cell_type": "markdown",
      "metadata": {
        "id": "eA9DHs3kIq7I"
      },
      "source": [
        "* So those are the core operations common to strings across all programming languages.\n",
        "* We will cover more Python specific functionality next."
      ]
    }
  ],
  "metadata": {
    "colab": {},
    "kernelspec": {
      "display_name": "Python 3",
      "name": "python3"
    },
    "language_info": {
      "codemirror_mode": {
        "name": "ipython",
        "version": 3
      },
      "file_extension": ".py",
      "mimetype": "text/x-python",
      "name": "python",
      "nbconvert_exporter": "python",
      "pygments_lexer": "ipython3",
      "version": "3.9.6"
    }
  },
  "nbformat": 4,
  "nbformat_minor": 0
}