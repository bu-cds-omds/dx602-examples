{
  "cells": [
    {
      "cell_type": "markdown",
      "metadata": {
        "id": "E_Ir4VjJ2Efv"
      },
      "source": [
        "# Code Example: Writing a TSV File in Python"
      ]
    },
    {
      "cell_type": "markdown",
      "metadata": {
        "id": "ESWFLx6u2H0W"
      },
      "source": [
        "Here is a function to write a simple TSV file.\n",
        "It takes in the target filename, a sequence of column_names for the header, and a sequence of rows of data with each row being a sequence."
      ]
    },
    {
      "cell_type": "code",
      "execution_count": null,
      "metadata": {
        "id": "PYyJ_cTQIDdc"
      },
      "outputs": [],
      "source": [
        "def write_tsv(filename, column_names, rows):\n",
        "    with open(filename, \"w\") as fp:\n",
        "        def write_line(row):\n",
        "            fp.write(\"\\t\".join(str(v) for v in row) + \"\\n\")\n",
        "\n",
        "        write_line(column_names)\n",
        "        for row in rows:\n",
        "            write_line(row)"
      ]
    },
    {
      "cell_type": "markdown",
      "metadata": {
        "id": "WBAZSCpkIQPK"
      },
      "source": [
        "**Code Notes:**\n",
        "* This function assumes that `str` is adequate to convert all of the values to strings.\n",
        "* The nested function `write_line` writes one line to the file with its input row converted to strings.\n",
        "  * Unlike the previous nested function example, it uses the variable `fp` from the surrounding scope.\n",
        "  * The file object `fp`'s method `.write` takes in a string and writes it to the file.\n",
        "    Unlike the `print` function, it does not automatically add a newline at the end, so it needs to be explicitly included.\n",
        "* The [string method `str.split`](https://docs.python.org/3/library/stdtypes.html#str.join) takes in a sequence of strings, and joins them together separated by the original string.\n",
        "  * `\"\\t\".join([\"a\", \"b\", \"c\"])` returns `\"a+b+c\"`.\n",
        "* This function could be modified to handle dictionary rows by changing the `write_line(row)` line to pass a list or generator comprehension to `write_line` to fetch the values in the right order.\n",
        "  * If you make that modification, you should \"freeze\" column_names as a list so that you can iterate over it multiple times."
      ]
    }
  ],
  "metadata": {
    "colab": {},
    "kernelspec": {
      "display_name": "Python 3",
      "name": "python3"
    },
    "language_info": {
      "codemirror_mode": {
        "name": "ipython",
        "version": 3
      },
      "file_extension": ".py",
      "mimetype": "text/x-python",
      "name": "python",
      "nbconvert_exporter": "python",
      "pygments_lexer": "ipython3",
      "version": "3.9.6"
    }
  },
  "nbformat": 4,
  "nbformat_minor": 0
}