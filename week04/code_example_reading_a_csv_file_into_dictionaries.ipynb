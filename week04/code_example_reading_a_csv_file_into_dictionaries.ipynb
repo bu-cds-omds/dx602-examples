{
  "cells": [
    {
      "cell_type": "markdown",
      "metadata": {
        "id": "rJwKlSKK0YKu"
      },
      "source": [
        "# Code Example: Reading a CSV File into Dictionaries"
      ]
    },
    {
      "cell_type": "markdown",
      "metadata": {
        "id": "HH7HeC_I1w6-"
      },
      "source": [
        "Here is another version of the file reading code that returns dictionaries instead of lists.\n",
        "Note how brief the change is; this is a common pattern that they wanted to be easy to express."
      ]
    },
    {
      "cell_type": "code",
      "execution_count": null,
      "metadata": {
        "id": "OwRldY_20boi"
      },
      "outputs": [],
      "source": [
        "import csv\n",
        "\n",
        "def read_csv_dictionaries():\n",
        "    with open(filename) as file:\n",
        "        reader = csv.DictReader(file)\n",
        "        for row in reader:\n",
        "            yield row"
      ]
    },
    {
      "cell_type": "markdown",
      "metadata": {
        "id": "Tcs-7tiH1Xbw"
      },
      "source": [
        "**Code Notes:**\n",
        "* The only change from the previous `read_csv` function is changing the call from `csv.reader` to `csv.DictReader`.\n",
        "* [`csv.DictReader`](https://docs.python.org/3/library/csv.html#csv.DictReader) can be similarly configured with options to read different dialects."
      ]
    }
  ],
  "metadata": {
    "colab": {},
    "kernelspec": {
      "display_name": "Python 3",
      "name": "python3"
    },
    "language_info": {
      "codemirror_mode": {
        "name": "ipython",
        "version": 3
      },
      "file_extension": ".py",
      "mimetype": "text/x-python",
      "name": "python",
      "nbconvert_exporter": "python",
      "pygments_lexer": "ipython3",
      "version": "3.9.6"
    }
  },
  "nbformat": 4,
  "nbformat_minor": 0
}