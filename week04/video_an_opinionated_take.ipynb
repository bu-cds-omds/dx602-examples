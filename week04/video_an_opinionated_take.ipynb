{
  "cells": [
    {
      "cell_type": "markdown",
      "metadata": {
        "id": "Qqnx5SxikabJ"
      },
      "source": [
        "# Video: An Opinionated Take\n",
        "\n",
        "This video argues for using the list of dictionaries representation when first investigating a new file or source of data."
      ]
    },
    {
      "cell_type": "code",
      "execution_count": null,
      "metadata": {
        "colab": {
          "base_uri": "https://localhost:8080/"
        },
        "id": "jX_ub-uo7quO",
        "outputId": "8ae33ecb-6feb-420b-f964-9a7d6d8f85e2"
      },
      "outputs": [
        {
          "execution_count": null,
          "name": "stdout",
          "output_type": "stream",
          "text": [
            "--2024-08-13 13:30:30--  https://raw.githubusercontent.com/bu-cds-omds/dx601-examples/main/data/mango-tiny.tsv\n",
            "Resolving raw.githubusercontent.com (raw.githubusercontent.com)... 185.199.109.133, 185.199.108.133, 185.199.111.133, ...\n",
            "Connecting to raw.githubusercontent.com (raw.githubusercontent.com)|185.199.109.133|:443... connected.\n",
            "HTTP request sent, awaiting response... 200 OK\n",
            "Length: 151 [text/plain]\n",
            "Saving to: \u2018mango-tiny.tsv\u2019\n",
            "\n",
            "\rmango-tiny.tsv        0%[                    ]       0  --.-KB/s               \rmango-tiny.tsv      100%[===================>]     151  --.-KB/s    in 0s      \n",
            "\n",
            "2024-08-13 13:30:31 (1000 KB/s) - \u2018mango-tiny.tsv\u2019 saved [151/151]\n",
            "\n"
          ]
        }
      ],
      "source": [
        "!wget https://raw.githubusercontent.com/bu-cds-omds/dx601-examples/main/data/mango-tiny.tsv"
      ]
    },
    {
      "cell_type": "code",
      "execution_count": null,
      "metadata": {
        "colab": {
          "base_uri": "https://localhost:8080/"
        },
        "id": "pBc87xSb7-uo",
        "outputId": "cd5d1a15-1f34-4085-9d6d-87bb230e6e1d"
      },
      "outputs": [
        {
          "execution_count": null,
          "name": "stdout",
          "output_type": "stream",
          "text": [
            "green_rating\tyellow_rating\tsoftness\twrinkles\testimated_flavor\testimated_sweetness\trated_flavor\n",
            "1\t5\t4\t0\t4\t4\t5\n",
            "1\t5\t5\t1\t5\t5\t1\n",
            "2\t4\t3\t1\t3\t3\t3\n",
            "3\t3\t2\t0\t2\t1\t2\n"
          ]
        }
      ],
      "source": [
        "!head mango-tiny.tsv"
      ]
    },
    {
      "cell_type": "code",
      "execution_count": null,
      "metadata": {
        "id": "Fng59Aig7uX_"
      },
      "outputs": [],
      "source": [
        "import csv"
      ]
    },
    {
      "cell_type": "code",
      "execution_count": null,
      "metadata": {
        "id": "eQITTc117v2X"
      },
      "outputs": [],
      "source": [
        "with open(\"mango-tiny.tsv\") as mango_fp:\n",
        "    reader = csv.DictReader(mango_fp, dialect=\"excel-tab\")\n",
        "    data = list(reader)"
      ]
    },
    {
      "cell_type": "code",
      "execution_count": null,
      "metadata": {
        "colab": {
          "base_uri": "https://localhost:8080/"
        },
        "id": "ACej8NsB79X-",
        "outputId": "4554f33b-c8b8-4158-f34a-2a13aaa6c31a"
      },
      "outputs": [
        {
          "data": {
            "text/plain": [
              "{'green_rating': '1',\n",
              " 'yellow_rating': '5',\n",
              " 'softness': '4',\n",
              " 'wrinkles': '0',\n",
              " 'estimated_flavor': '4',\n",
              " 'estimated_sweetness': '4',\n",
              " 'rated_flavor': '5'}"
            ]
          },
          "execution_count": null,
          "metadata": {},
          "output_type": "execute_result"
        }
      ],
      "source": [
        "data[0]"
      ]
    },
    {
      "cell_type": "code",
      "execution_count": null,
      "metadata": {
        "id": "8Fiv7oVg8OmQ"
      },
      "outputs": [],
      "source": [
        "import random"
      ]
    },
    {
      "cell_type": "code",
      "execution_count": null,
      "metadata": {
        "colab": {
          "base_uri": "https://localhost:8080/"
        },
        "id": "rzK13giC8P89",
        "outputId": "1ad00eb8-1603-49d0-a55d-2b6319fd78cb"
      },
      "outputs": [
        {
          "data": {
            "text/plain": [
              "{'green_rating': '1',\n",
              " 'yellow_rating': '5',\n",
              " 'softness': '4',\n",
              " 'wrinkles': '0',\n",
              " 'estimated_flavor': '4',\n",
              " 'estimated_sweetness': '4',\n",
              " 'rated_flavor': '5'}"
            ]
          },
          "execution_count": null,
          "metadata": {},
          "output_type": "execute_result"
        }
      ],
      "source": [
        "random.choice(data)"
      ]
    },
    {
      "cell_type": "code",
      "execution_count": null,
      "metadata": {
        "colab": {
          "base_uri": "https://localhost:8080/"
        },
        "id": "zpQAdy0A8TlA",
        "outputId": "fc76a8e4-4865-4752-a30e-64816e56ba96"
      },
      "outputs": [
        {
          "data": {
            "text/plain": [
              "2.75"
            ]
          },
          "execution_count": null,
          "metadata": {},
          "output_type": "execute_result"
        }
      ],
      "source": [
        "sum(float(row['rated_flavor']) for row in data) / len(data)"
      ]
    }
  ],
  "metadata": {
    "colab": {},
    "kernelspec": {
      "display_name": "Python 3",
      "name": "python3"
    },
    "language_info": {
      "codemirror_mode": {
        "name": "ipython",
        "version": 3
      },
      "file_extension": ".py",
      "mimetype": "text/x-python",
      "name": "python",
      "nbconvert_exporter": "python",
      "pygments_lexer": "ipython3",
      "version": "3.9.6"
    }
  },
  "nbformat": 4,
  "nbformat_minor": 0
}