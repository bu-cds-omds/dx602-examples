{
  "cells": [
    {
      "cell_type": "markdown",
      "metadata": {
        "id": "Qqnx5SxikabJ"
      },
      "source": [
        "# Video: An Opinionated Take\n",
        "\n",
        "This video argues for using the list of dictionaries representation when first investigating a new file or source of data."
      ]
    },
    {
      "cell_type": "markdown",
      "metadata": {
        "id": "f-NmlLzg5Ueo"
      },
      "source": [
        "Script:\n",
        "* This may be the most opinionated video of this module.\n",
        "* The question I'd like to pontificate on now is, what data structure should be used when you first read a file?\n",
        "* To be clear, I am talking about reading in a text-based files with a header, and rows and columns of data that would look totally at home in a spreadsheet.\n",
        "* But other than that, you don't know much about what is in the file.\n",
        "* In that case, in my not so humble opinion, you should read it into a list of dictionaries.\n",
        "* Why?\n",
        "* You can do this in just a few lines of code using the csv module."
      ]
    },
    {
      "cell_type": "code",
      "execution_count": null,
      "metadata": {
        "colab": {
          "base_uri": "https://localhost:8080/"
        },
        "id": "jX_ub-uo7quO",
        "outputId": "8ae33ecb-6feb-420b-f964-9a7d6d8f85e2"
      },
      "outputs": [
        {
          "name": "stdout",
          "output_type": "stream",
          "text": [
            "--2024-08-13 13:30:30--  https://raw.githubusercontent.com/bu-cds-omds/dx601-examples/main/data/mango-tiny.tsv\n",
            "Resolving raw.githubusercontent.com (raw.githubusercontent.com)... 185.199.109.133, 185.199.108.133, 185.199.111.133, ...\n",
            "Connecting to raw.githubusercontent.com (raw.githubusercontent.com)|185.199.109.133|:443... connected.\n",
            "HTTP request sent, awaiting response... 200 OK\n",
            "Length: 151 [text/plain]\n",
            "Saving to: \u2018mango-tiny.tsv\u2019\n",
            "\n",
            "\rmango-tiny.tsv        0%[                    ]       0  --.-KB/s               \rmango-tiny.tsv      100%[===================>]     151  --.-KB/s    in 0s      \n",
            "\n",
            "2024-08-13 13:30:31 (1000 KB/s) - \u2018mango-tiny.tsv\u2019 saved [151/151]\n",
            "\n"
          ]
        }
      ],
      "source": [
        "!wget https://raw.githubusercontent.com/bu-cds-omds/dx601-examples/main/data/mango-tiny.tsv"
      ]
    },
    {
      "cell_type": "code",
      "execution_count": null,
      "metadata": {
        "colab": {
          "base_uri": "https://localhost:8080/"
        },
        "id": "pBc87xSb7-uo",
        "outputId": "cd5d1a15-1f34-4085-9d6d-87bb230e6e1d"
      },
      "outputs": [
        {
          "name": "stdout",
          "output_type": "stream",
          "text": [
            "green_rating\tyellow_rating\tsoftness\twrinkles\testimated_flavor\testimated_sweetness\trated_flavor\n",
            "1\t5\t4\t0\t4\t4\t5\n",
            "1\t5\t5\t1\t5\t5\t1\n",
            "2\t4\t3\t1\t3\t3\t3\n",
            "3\t3\t2\t0\t2\t1\t2\n"
          ]
        }
      ],
      "source": [
        "!head mango-tiny.tsv"
      ]
    },
    {
      "cell_type": "code",
      "execution_count": null,
      "metadata": {
        "id": "Fng59Aig7uX_"
      },
      "outputs": [],
      "source": [
        "import csv"
      ]
    },
    {
      "cell_type": "code",
      "execution_count": null,
      "metadata": {
        "id": "eQITTc117v2X"
      },
      "outputs": [],
      "source": [
        "with open(\"mango-tiny.tsv\") as mango_fp:\n",
        "    reader = csv.DictReader(mango_fp, dialect=\"excel-tab\")\n",
        "    data = list(reader)"
      ]
    },
    {
      "cell_type": "markdown",
      "metadata": {
        "id": "xqf0w3jv5d0f"
      },
      "source": [
        "Script:\n",
        "* You've already seen them earlier this week.\n",
        "* And they'll run in a second unless your file is huge.\n",
        "* Then you can look at one row trivially, and see what kind of data is in the file.\n"
      ]
    },
    {
      "cell_type": "code",
      "execution_count": null,
      "metadata": {
        "colab": {
          "base_uri": "https://localhost:8080/"
        },
        "id": "ACej8NsB79X-",
        "outputId": "4554f33b-c8b8-4158-f34a-2a13aaa6c31a"
      },
      "outputs": [
        {
          "data": {
            "text/plain": [
              "{'green_rating': '1',\n",
              " 'yellow_rating': '5',\n",
              " 'softness': '4',\n",
              " 'wrinkles': '0',\n",
              " 'estimated_flavor': '4',\n",
              " 'estimated_sweetness': '4',\n",
              " 'rated_flavor': '5'}"
            ]
          },
          "execution_count": null,
          "metadata": {},
          "output_type": "execute_result"
        }
      ],
      "source": [
        "data[0]"
      ]
    },
    {
      "cell_type": "markdown",
      "metadata": {
        "id": "cJL-Vjx26mvc"
      },
      "source": [
        "Script:\n",
        "* The dictionary form gives you the columns front and center.\n",
        "* Those are the keys.\n",
        "* And right next to those keys, you can see the values.\n",
        "* And while those values will probably be strings at this point, you can probably guess what types should be parsed from those strings after you look at them.\n",
        "* Now that you have looked at a row, you can check whether it matches your expectations about the file.\n",
        "* Are all the columns that you expected in there?\n",
        "* You can randomly sample the rows, and check for common weird values in the data.\n",
        "\n"
      ]
    },
    {
      "cell_type": "code",
      "execution_count": null,
      "metadata": {
        "id": "8Fiv7oVg8OmQ"
      },
      "outputs": [],
      "source": [
        "import random"
      ]
    },
    {
      "cell_type": "code",
      "execution_count": null,
      "metadata": {
        "colab": {
          "base_uri": "https://localhost:8080/"
        },
        "id": "rzK13giC8P89",
        "outputId": "1ad00eb8-1603-49d0-a55d-2b6319fd78cb"
      },
      "outputs": [
        {
          "data": {
            "text/plain": [
              "{'green_rating': '1',\n",
              " 'yellow_rating': '5',\n",
              " 'softness': '4',\n",
              " 'wrinkles': '0',\n",
              " 'estimated_flavor': '4',\n",
              " 'estimated_sweetness': '4',\n",
              " 'rated_flavor': '5'}"
            ]
          },
          "execution_count": null,
          "metadata": {},
          "output_type": "execute_result"
        }
      ],
      "source": [
        "random.choice(data)"
      ]
    },
    {
      "cell_type": "markdown",
      "metadata": {
        "id": "csT2nadv55Fg"
      },
      "source": [
        "Script:\n",
        "* If relevant, you can do some quick summary statistics using this data structure.\n"
      ]
    },
    {
      "cell_type": "code",
      "execution_count": null,
      "metadata": {
        "colab": {
          "base_uri": "https://localhost:8080/"
        },
        "id": "zpQAdy0A8TlA",
        "outputId": "fc76a8e4-4865-4752-a30e-64816e56ba96"
      },
      "outputs": [
        {
          "data": {
            "text/plain": [
              "2.75"
            ]
          },
          "execution_count": null,
          "metadata": {},
          "output_type": "execute_result"
        }
      ],
      "source": [
        "sum(float(row['rated_flavor']) for row in data) / len(data)"
      ]
    },
    {
      "cell_type": "markdown",
      "metadata": {
        "id": "rC6MSJbO5_H_"
      },
      "source": [
        "Script:\n",
        "* After you've taken a look at the data, you may have a better idea what to do with it.\n",
        "* You may have identified something that needs cleanup in the data.\n",
        "* Some use cases prefer a specific format, like a list of tuples to load into a database.\n",
        "* You may want to use a Numpy array for efficiency, or a Pandas dataframe to get both the Numpy efficiency and dictionary convenience.\n",
        "* Both of those will come later in this course.\n",
        "* Later on in this course, the pandas library will take over this role from the csv library, for essentially the same reasons.\n",
        "* You can read a file very easily, and see sample data quickly.\n",
        "* Occasionally, if you receive a broken file, you will want to switch back to the CSV module to debug issues if pandas has trouble parsing the file, since the CSV module does less processing.\n",
        "* With either module, it is important to look at a sample of the data before you write much code using it."
      ]
    }
  ],
  "metadata": {
    "colab": {},
    "kernelspec": {
      "display_name": "Python 3",
      "name": "python3"
    },
    "language_info": {
      "codemirror_mode": {
        "name": "ipython",
        "version": 3
      },
      "file_extension": ".py",
      "mimetype": "text/x-python",
      "name": "python",
      "nbconvert_exporter": "python",
      "pygments_lexer": "ipython3",
      "version": "3.9.6"
    }
  },
  "nbformat": 4,
  "nbformat_minor": 0
}