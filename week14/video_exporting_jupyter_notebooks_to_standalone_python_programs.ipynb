{
  "cells": [
    {
      "cell_type": "markdown",
      "metadata": {
        "id": "gePeB_opKLrd"
      },
      "source": [
        "# Video: Exporting Jupyter Notebooks to Standalone Python Programs\n",
        "\n",
        "This video will show off the process of converting a Jupyter notebook into a Python program, and recommended changes to run it more smoothly.\n"
      ]
    },
    {
      "cell_type": "markdown",
      "metadata": {
        "id": "bBuIv-1LLMQn"
      },
      "source": [
        "Script:\n",
        "* Converting a Jupyter notebook to a Python program is also easy to do with nbconvert, and does not require any extra software installation.\n",
        "* I'll be using an example notebook from one of your homeworks.\n",
        "* Before converting, I will add one print statement at the end so you can see that the code ran.\n",
        "* MAKE THAT CHANGE\n",
        "* Let's do the conversion now."
      ]
    },
    {
      "cell_type": "code",
      "execution_count": null,
      "metadata": {
        "id": "nEjxgi1b8WyB"
      },
      "outputs": [],
      "source": [
        "!jupyter nbconvert --to script notebooks/homework.ipynb"
      ]
    },
    {
      "cell_type": "markdown",
      "metadata": {
        "id": "cdBkPoRf8XGl"
      },
      "source": [
        "Script:\n",
        "* All that was changed from previous examples was setting the \"--to\" option to be \"script\".\n",
        "* Let's look at that code.\n",
        "* OPEN notebooks/homework.py\n",
        "* This is all pretty standard Python code.\n",
        "* There are two cases that I should point out will not work as is when converting a Python notebook to a Python program.\n",
        "* First, pip commands and lines beginning with exclamation points to run command line programs will not work.\n",
        "* That is because they are not really running Python code, and are instead running outside programs.\n",
        "* Second, Matplotlib plots should be adjusted to add `plt.save()` to save their output to files.\n",
        "* If there are any calls to `plt.show()`, those should also be converted to `plt.save()` so they do not stop your program.\n",
        "* See the previous material about Matplotlib for more details about that change.\n",
        "* Before wrapping up, let's run this Python program."
      ]
    },
    {
      "cell_type": "code",
      "execution_count": null,
      "metadata": {
        "id": "0ohgpt3z8Pzl"
      },
      "outputs": [],
      "source": [
        "!python3 notebooks/homework.py"
      ]
    },
    {
      "cell_type": "markdown",
      "metadata": {
        "id": "gVeKXSz88O36"
      },
      "source": [
        "Script:\n",
        "* There's the print statement, so this successfully ran through all the code in the original notebook.\n"
      ]
    }
  ],
  "metadata": {
    "colab": {},
    "kernelspec": {
      "display_name": "Python 3",
      "name": "python3"
    },
    "language_info": {
      "codemirror_mode": {
        "name": "ipython",
        "version": 3
      },
      "file_extension": ".py",
      "mimetype": "text/x-python",
      "name": "python",
      "nbconvert_exporter": "python",
      "pygments_lexer": "ipython3",
      "version": "3.9.6"
    }
  },
  "nbformat": 4,
  "nbformat_minor": 0
}