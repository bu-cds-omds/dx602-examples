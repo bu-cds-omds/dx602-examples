{
  "cells": [
    {
      "cell_type": "markdown",
      "metadata": {
        "id": "gePeB_opKLrd"
      },
      "source": [
        "# Video: Exporting Jupyter Notebooks to Standalone Python Programs\n",
        "\n",
        "This video will show off the process of converting a Jupyter notebook into a Python program, and recommended changes to run it more smoothly.\n"
      ]
    },
    {
      "cell_type": "code",
      "execution_count": null,
      "metadata": {
        "id": "nEjxgi1b8WyB"
      },
      "outputs": [],
      "source": [
        "!jupyter nbconvert --to script notebooks/homework.ipynb"
      ]
    },
    {
      "cell_type": "code",
      "execution_count": null,
      "metadata": {
        "id": "0ohgpt3z8Pzl"
      },
      "outputs": [],
      "source": [
        "!python3 notebooks/homework.py"
      ]
    }
  ],
  "metadata": {
    "colab": {},
    "kernelspec": {
      "display_name": "Python 3",
      "name": "python3"
    },
    "language_info": {
      "codemirror_mode": {
        "name": "ipython",
        "version": 3
      },
      "file_extension": ".py",
      "mimetype": "text/x-python",
      "name": "python",
      "nbconvert_exporter": "python",
      "pygments_lexer": "ipython3",
      "version": "3.9.6"
    }
  },
  "nbformat": 4,
  "nbformat_minor": 0
}