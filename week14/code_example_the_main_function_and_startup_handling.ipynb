{
  "cells": [
    {
      "cell_type": "markdown",
      "metadata": {
        "id": "DUEdY_lNYXK6"
      },
      "source": [
        "# Code Example: The Main Function and Startup Handling\n",
        "\n",
        "Here is a minimal Python script that you can use as a template for your own scripts."
      ]
    },
    {
      "cell_type": "code",
      "execution_count": null,
      "metadata": {
        "colab": {
          "base_uri": "https://localhost:8080/",
          "height": 159
        },
        "id": "OvfqXtZyi-GK",
        "outputId": "428c0f14-2415-446a-aa2c-489f433df33e"
      },
      "outputs": [
        {
          "name": "stdout",
          "output_type": "stream",
          "text": [
            "Hello, world!\n"
          ]
        },
        {
          "ename": "SystemExit",
          "evalue": "0",
          "output_type": "error",
          "traceback": [
            "An exception has occurred, use %tb to see the full traceback.\n",
            "\u001b[0;31mSystemExit\u001b[0m\u001b[0;31m:\u001b[0m 0\n"
          ]
        },
        {
          "name": "stderr",
          "output_type": "stream",
          "text": [
            "/usr/local/lib/python3.10/dist-packages/IPython/core/interactiveshell.py:3561: UserWarning: To exit: use 'exit', 'quit', or Ctrl-D.\n",
            "  warn(\"To exit: use 'exit', 'quit', or Ctrl-D.\", stacklevel=1)\n"
          ]
        }
      ],
      "source": [
        "#!/usr/bin/env python3\n",
        "\n",
        "import sys\n",
        "\n",
        "def main():\n",
        "    print(\"Hello, world!\")\n",
        "    return 0\n",
        "\n",
        "if __name__ == '__main__':\n",
        "    sys.exit(main())"
      ]
    },
    {
      "cell_type": "markdown",
      "metadata": {
        "id": "vXsePXDkjbpi"
      },
      "source": [
        "**Code Notes:**\n",
        "* `main` is used as the main entrypoint into your program which starts the real work, as opposed to defining functions around it.\n",
        "  * `main` is not strictly required, but it makes it easier to have a standard function to look for.\n",
        "  * `main` should return an integer which will be passed to the operating system. For now, just return 0 to indicate no errors, or 1 if an error occurred.\n",
        "* The condition `__name__ == '__main__'` is checking if you are running this script as the main program, or it has been loaded into another program.\n",
        "  * Using this condition to decide whether to run `main` makes it easier to test and debug your script by loading it as a module.\n",
        "* The last line `sys.exit(main())` runs your `main` function, returns its output to the operating system, and ends your program.\n",
        "  * The `sys` import above is to support this line.\n",
        "  * When debugging, you would just call `main` without the `sys.exit` so your script would not end.\n",
        "* If you use asynchronous features of Python, this template will change to use `asyncio.run` too, but you are unlikely to need this for this program."
      ]
    }
  ],
  "metadata": {
    "colab": {},
    "kernelspec": {
      "display_name": "Python 3",
      "name": "python3"
    },
    "language_info": {
      "codemirror_mode": {
        "name": "ipython",
        "version": 3
      },
      "file_extension": ".py",
      "mimetype": "text/x-python",
      "name": "python",
      "nbconvert_exporter": "python",
      "pygments_lexer": "ipython3",
      "version": "3.9.6"
    }
  },
  "nbformat": 4,
  "nbformat_minor": 0
}