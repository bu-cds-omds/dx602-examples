{
  "cells": [
    {
      "cell_type": "markdown",
      "metadata": {
        "id": "jwOZEGoqK1rC"
      },
      "source": [
        "# Video: Exporting Jupyter Notebooks to PDF for Sharing\n",
        "\n",
        "This video will show off the process of sharing a Jupyter notebook as a PDF file suitable for sharing."
      ]
    },
    {
      "cell_type": "code",
      "execution_count": null,
      "metadata": {
        "id": "TbJSzYCMEvxk"
      },
      "outputs": [],
      "source": [
        "!pip install nbconvert[webpdf]"
      ]
    },
    {
      "cell_type": "code",
      "execution_count": null,
      "metadata": {
        "id": "2ads7MAWE2F-"
      },
      "outputs": [],
      "source": [
        "!playwright install chromium"
      ]
    },
    {
      "cell_type": "code",
      "execution_count": null,
      "metadata": {
        "id": "buFX3QoIEyVH"
      },
      "outputs": [],
      "source": [
        "!jupyter nbconvert --to webpdf notebooks/homework.ipynb"
      ]
    }
  ],
  "metadata": {
    "colab": {},
    "kernelspec": {
      "display_name": "Python 3",
      "name": "python3"
    },
    "language_info": {
      "codemirror_mode": {
        "name": "ipython",
        "version": 3
      },
      "file_extension": ".py",
      "mimetype": "text/x-python",
      "name": "python",
      "nbconvert_exporter": "python",
      "pygments_lexer": "ipython3",
      "version": "3.9.6"
    }
  },
  "nbformat": 4,
  "nbformat_minor": 0
}