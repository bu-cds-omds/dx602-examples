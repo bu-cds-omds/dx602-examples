{
  "cells": [
    {
      "cell_type": "markdown",
      "metadata": {
        "id": "jwOZEGoqK1rC"
      },
      "source": [
        "# Video: Exporting Jupyter Notebooks to PDF for Sharing\n",
        "\n",
        "This video will show off the process of sharing a Jupyter notebook as a PDF file suitable for sharing."
      ]
    },
    {
      "cell_type": "markdown",
      "metadata": {
        "id": "n4qNigfUKKd5"
      },
      "source": [
        "Script:\n",
        "* Converting a Jupyter notebook to another format is easy if you have the Jupyter notebook software fully installed.\n",
        "* I will show you an example right now.\n",
        "* Before I get started, I will install a couple optional packages that do not come with a basic Jupyter installation.\n",
        "* They are necessary for the conversion to PDFs.\n",
        "\n"
      ]
    },
    {
      "cell_type": "code",
      "execution_count": null,
      "metadata": {
        "id": "TbJSzYCMEvxk"
      },
      "outputs": [],
      "source": [
        "!pip install nbconvert[webpdf]"
      ]
    },
    {
      "cell_type": "markdown",
      "metadata": {
        "id": "8H7aLQtrE7zn"
      },
      "source": [
        "Script:\n",
        "* This command installs the webpdf support for nbconvert."
      ]
    },
    {
      "cell_type": "code",
      "execution_count": null,
      "metadata": {
        "id": "2ads7MAWE2F-"
      },
      "outputs": [],
      "source": [
        "!playwright install chromium"
      ]
    },
    {
      "cell_type": "markdown",
      "metadata": {
        "id": "SqEdbpSME9su"
      },
      "source": [
        "Script:\n",
        "* And this command installs an automatable web browser, Chromium, that will be used to help the conversion."
      ]
    },
    {
      "cell_type": "code",
      "execution_count": null,
      "metadata": {
        "id": "buFX3QoIEyVH"
      },
      "outputs": [],
      "source": [
        "!jupyter nbconvert --to webpdf notebooks/homework.ipynb"
      ]
    },
    {
      "cell_type": "markdown",
      "metadata": {
        "id": "ldXYulrFFLNS"
      },
      "source": [
        "Script:\n",
        "* The import bits are the \"--to webpdf\" specifying PDF output and the name of your notebook.\n",
        "* If you are running in GitHub Codespaces, you probably want to download this file to your local computer.\n",
        "* You can right click on the filename and select \"Download\" to do so.\n",
        "* DOWNLOAD THE FILE, OPEN IT, and SCROLL A BIT\n",
        "* nbconvert has another output option for PDFs, \"--to pdf\", but that requires more elaborate software installations, and some of it does not appear to be actively maintained since 2020.\n",
        "* For now, I recommend using the webpdf option.\n"
      ]
    }
  ],
  "metadata": {
    "colab": {},
    "kernelspec": {
      "display_name": "Python 3",
      "name": "python3"
    },
    "language_info": {
      "codemirror_mode": {
        "name": "ipython",
        "version": 3
      },
      "file_extension": ".py",
      "mimetype": "text/x-python",
      "name": "python",
      "nbconvert_exporter": "python",
      "pygments_lexer": "ipython3",
      "version": "3.9.6"
    }
  },
  "nbformat": 4,
  "nbformat_minor": 0
}