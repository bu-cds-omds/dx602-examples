{
  "cells": [
    {
      "cell_type": "markdown",
      "metadata": {
        "id": "JfIAXZqzOcA7"
      },
      "source": [
        "# Video: Running a Python Program in Visual Studio Code and GitHub Codespaces\n",
        "\n",
        "This video will show you how to access the command line to run a Python program in Visual Studio Code and Github Codespaces."
      ]
    },
    {
      "cell_type": "markdown",
      "metadata": {
        "id": "xr9rZ3C_Oxcm"
      },
      "source": [
        "Script:\n",
        "* In this video, I will show you how to run a Python program from the command line within Visual Studio Code or Github Codespaces.\n",
        "* First, I will write a very short Python program to demonstrate.\n",
        "* I will create a new file called \"hello.py\".\n",
        "* CREATE THE FILE IN VISUAL STUDIO CODE.\n",
        "* Python code is generally saved in files ending with the extension \".py\".\n",
        "* Visual Studio Code will recognize the extension as indicating likely Python code, and may offer to install Python modules.\n",
        "* Now I will write a brief program that just prints out \"hello, world\"."
      ]
    },
    {
      "cell_type": "code",
      "execution_count": null,
      "metadata": {
        "colab": {
          "base_uri": "https://localhost:8080/"
        },
        "id": "NtpImm1Xxy43",
        "outputId": "36f00057-73ae-489f-e250-2aa0a3ea962c"
      },
      "outputs": [
        {
          "execution_count": null,
          "name": "stdout",
          "output_type": "stream",
          "text": [
            "Hello World!\n"
          ]
        }
      ],
      "source": [
        "#!/usr/bin/env python3\n",
        "\n",
        "print(\"hello, world\")\n"
      ]
    },
    {
      "cell_type": "markdown",
      "metadata": {
        "id": "qf6cfocdy88m"
      },
      "source": [
        "Script:\n",
        "* This is a pretty minimal example.\n",
        "* There are two lines of note here.\n",
        "* The first line is used by some operating systems to figure out how to run your program.\n",
        "* For now, you should just copy this line, but you might need to tweak it depending on your environment.\n",
        "* For example, you might need to drop the 3 if Python was installed as just \"python\" instead of \"python3\".\n",
        "* See the lecture notes in Blackboard for other likely choices for this line.\n",
        "* The second line of interest is just a print statement.\n",
        "* This should look familiar to you.\n",
        "* Running this program will just run that print statement.\n",
        "* The first line is used to figure out that this is a Python script, and the Python interpreter ignores the first line as a comment and reads the rest of it as the program.\n",
        "* Let's run this program now.\n",
        "* I will run it in this bottom section where there is a command line prompt to type in commands.\n",
        "* Unlike most of the videos for this course, I left the bottom section with the command line open.\n",
        "* You can toggle it by clicking this button.\n",
        "* DEMONSTRATE TOGGLE\n",
        "* I will run our tiny Python program now.\n",
        "* RUN python3 hello.py\n",
        "* The command that I typed in, \"python3 hello.py\", says to run the Python interpreter and give it the name of the Python script as its first argument.\n",
        "* The Python interpreter will use that argument to open up and read the script so it can be run.\n",
        "* In a Unix-based system, we can drop the python3 mention and just run the script directly after a permission change on the script file.\n",
        "* This will work in GitHub Codespaces, and a Linux-based environment, but not in Windows, even if you are using Visual Studio Code.\n",
        "* Here is that permission change.\n",
        "* RUN chmod u+x hello.py\n",
        "* chmod is a command to change Unix-based file permissions.\n",
        "* \"u+x\" means that the user owning the file should get execute permission.\n",
        "* Now we can run that file directly.\n",
        "* RUN ./hello.py\n",
        "* One thing to note here is the addition of the \"./\" before \"hello.py\".\n",
        "* In Unix-based environments, the directory \".\" always refers to the current directory, and is used to specify files in the current directory.\n",
        "* Most of the time when you read files, you do not need to explicitly mention the current directory.\n",
        "* But when we run programs, we should be more careful since running someone else's code unexpectedly is much more likely to be dangerous.\n",
        "* RUN \"hello.py\"\n",
        "* Many years ago, there were security exploits by giving dangerous programs the names of commonly used commands, and tricking someone with superuser privileges into looking in there.\n",
        "* So nowadays, you need to add the \"./\" to be explicit that you really want to run this program in the current directory.\n",
        "* RUN \"./hello.py\"\n",
        "\n"
      ]
    }
  ],
  "metadata": {
    "colab": {},
    "kernelspec": {
      "display_name": "Python 3",
      "name": "python3"
    },
    "language_info": {
      "codemirror_mode": {
        "name": "ipython",
        "version": 3
      },
      "file_extension": ".py",
      "mimetype": "text/x-python",
      "name": "python",
      "nbconvert_exporter": "python",
      "pygments_lexer": "ipython3",
      "version": "3.9.6"
    }
  },
  "nbformat": 4,
  "nbformat_minor": 0
}