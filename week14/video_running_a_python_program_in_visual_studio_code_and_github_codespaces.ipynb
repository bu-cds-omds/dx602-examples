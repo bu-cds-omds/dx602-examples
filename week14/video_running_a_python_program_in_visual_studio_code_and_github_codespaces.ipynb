{
  "cells": [
    {
      "cell_type": "markdown",
      "metadata": {
        "id": "JfIAXZqzOcA7"
      },
      "source": [
        "# Video: Running a Python Program in Visual Studio Code and GitHub Codespaces\n",
        "\n",
        "This video will show you how to access the command line to run a Python program in Visual Studio Code and Github Codespaces."
      ]
    },
    {
      "cell_type": "code",
      "execution_count": null,
      "metadata": {
        "colab": {
          "base_uri": "https://localhost:8080/"
        },
        "id": "NtpImm1Xxy43",
        "outputId": "36f00057-73ae-489f-e250-2aa0a3ea962c"
      },
      "outputs": [
        {
          "execution_count": null,
          "name": "stdout",
          "output_type": "stream",
          "text": [
            "Hello World!\n"
          ]
        }
      ],
      "source": [
        "#!/usr/bin/env python3\n",
        "\n",
        "print(\"hello, world\")\n"
      ]
    },
    {
      "cell_type": "code",
      "execution_count": null,
      "metadata": {
        "id": "H3I6A4HA6NKP"
      },
      "outputs": [],
      "source": [
        "!python3 hello.py"
      ]
    },
    {
      "cell_type": "code",
      "execution_count": null,
      "metadata": {
        "id": "RyXnpqAt6H2o"
      },
      "outputs": [],
      "source": [
        "!chmod u+x hello.py"
      ]
    },
    {
      "cell_type": "markdown",
      "metadata": {
        "id": "CrWC1IMs5w56"
      },
      "source": [
        "* chmod is a command to change Unix-based file permissions.\n",
        "* \"u+x\" means that the user owning the file should get execute permission.\n",
        "* Now we can run that file directly."
      ]
    },
    {
      "cell_type": "code",
      "execution_count": null,
      "metadata": {
        "id": "y4FfdY6g7zUd"
      },
      "outputs": [],
      "source": [
        "!./hello.py"
      ]
    },
    {
      "cell_type": "code",
      "execution_count": null,
      "metadata": {
        "id": "y_jL2lyX6Etn"
      },
      "outputs": [],
      "source": [
        "!hello.py"
      ]
    },
    {
      "cell_type": "code",
      "execution_count": null,
      "metadata": {
        "id": "SQ6TWhP75yc2"
      },
      "outputs": [],
      "source": [
        "!./hello.py"
      ]
    }
  ],
  "metadata": {
    "colab": {},
    "kernelspec": {
      "display_name": "Python 3",
      "name": "python3"
    },
    "language_info": {
      "codemirror_mode": {
        "name": "ipython",
        "version": 3
      },
      "file_extension": ".py",
      "mimetype": "text/x-python",
      "name": "python",
      "nbconvert_exporter": "python",
      "pygments_lexer": "ipython3",
      "version": "3.9.6"
    }
  },
  "nbformat": 4,
  "nbformat_minor": 0
}