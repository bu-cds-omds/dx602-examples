{
  "cells": [
    {
      "cell_type": "markdown",
      "metadata": {
        "id": "3Gbv_LRyymLB"
      },
      "source": [
        "# Video: Running Tests in Python\n",
        "\n",
        "This video shows how to run unit tests in Python."
      ]
    },
    {
      "cell_type": "markdown",
      "metadata": {
        "id": "X3-o4qvUy44m"
      },
      "source": [
        "Script:\n",
        "* I will now repeat the previous example writing and debugging a standalone Python program using unit tests to guide the process.\n",
        "* I already have a copy of the previous broken program.\n",
        "* Let's run that now to refresh your memory."
      ]
    },
    {
      "cell_type": "code",
      "execution_count": null,
      "metadata": {
        "id": "TM5Mvw3UNicw"
      },
      "outputs": [],
      "source": [
        "#!/usr/bin/env python3\n",
        "\n",
        "import sys\n",
        "\n",
        "def get_output(s):\n",
        "    return f\"Hello, {sx}!\"\n",
        "\n",
        "def main():\n",
        "    print(get_output(\"world\"))\n",
        "    return 0\n",
        "\n",
        "if __name__ == '__main__':\n",
        "    sys.exit(main())"
      ]
    },
    {
      "cell_type": "code",
      "execution_count": null,
      "metadata": {
        "id": "p7A0EUeINlVq"
      },
      "outputs": [],
      "source": [
        "!python3 hello.py"
      ]
    },
    {
      "cell_type": "markdown",
      "metadata": {
        "id": "LaFshgXGM-AH"
      },
      "source": [
        "Script:\n",
        "* From the exception printed out, we can see that the error happened in the get_output function.\n",
        "* Let's write a test to isolate that problem.\n",
        "* This is a style called test-driven development.\n",
        "* The basic idea is that when you notice a problem in your code, you write a test to reproduce that problem on demand, and then you write the code fix and confirm that the test started passing after your code fix."
      ]
    },
    {
      "cell_type": "code",
      "execution_count": null,
      "metadata": {
        "id": "5cQ9u9GSNcS-"
      },
      "outputs": [],
      "source": [
        "#!/usr/bin/env python3\n",
        "\n",
        "import unittest\n",
        "\n",
        "import hello\n",
        "\n",
        "class GetOutputTestCase(unittest.TestCase):\n",
        "    \"\"\"Test the get_output function.\"\"\"\n",
        "\n",
        "    def test_world(self):\n",
        "        \"\"\"Systematically test smallest inputs.\"\"\"\n",
        "\n",
        "        output = hello.get_output(\"world\")\n",
        "        self.assertEqual(output, \"Hello, world!\")\n",
        "\n",
        "if __name__ == \"__main__\":\n",
        "    unittest.main()"
      ]
    },
    {
      "cell_type": "markdown",
      "metadata": {
        "id": "0alCnl92OJtx"
      },
      "source": [
        "Script:\n",
        "* Let me walk through this test script.\n",
        "* The first line is the usual line to start a Python program.\n",
        "* After that, `import unittest` loads Python's built in testing module.\n",
        "* Then `import hello` loads the program that we are testing.\n",
        "* That import works as expected because `hello.py` uses the special startup code to control whether the `main` function is run.\n",
        "* Then we have the `GetOutputTestCase` class defining the test.\n",
        "* You can read the `unittest` module documentation for details, but a quick take is that any class derived from `unittest.TestCase` will be automatically recognized as a test, and any method of that class whose name begins with `test` will be automatically recognized as part of the test.\n",
        "* So running this test will ultimately run that `test_world` method.\n",
        "* The `test_world` method will run `get_output` with input \"world\".\n",
        "* We expect that to fail because we already saw it raising an exception.\n",
        "* If that function succeeds after we fix it, then the output will also be compared to the expected output, \"Hello, world!\".\n",
        "* Finally, there is the usual startup handling, slightly modified to use a `main` function from the `unittest` module.\n",
        "* Let's run that test now."
      ]
    },
    {
      "cell_type": "code",
      "execution_count": null,
      "metadata": {
        "id": "wD4Hvd_uPIB4"
      },
      "outputs": [],
      "source": [
        "!python3 test_hello.py"
      ]
    },
    {
      "cell_type": "markdown",
      "metadata": {
        "id": "Zisr5sSCPK2W"
      },
      "source": [
        "Script:\n",
        "* See how the test fails now?\n",
        "* Let's fix it now, but introduce one more typo to test the other check too.\n",
        "* MAKE THOSE CHANGES\n",
        "* Let's test it again."
      ]
    },
    {
      "cell_type": "code",
      "execution_count": null,
      "metadata": {
        "id": "Rr3fNWWHPpAT"
      },
      "outputs": [],
      "source": [
        "!python3 test_hello.py"
      ]
    },
    {
      "cell_type": "markdown",
      "metadata": {
        "id": "GYoFQCJYPphQ"
      },
      "source": [
        "Script:\n",
        "* So now the test error changed from an exception to the output not matching.\n",
        "* Does this look familiar?\n",
        "* Finally, let's fix that method for real.\n",
        "* MAKE CHANGES\n",
        "* Now the test should pass."
      ]
    },
    {
      "cell_type": "code",
      "execution_count": null,
      "metadata": {
        "id": "T5X6FFvBP2Ic"
      },
      "outputs": [],
      "source": [
        "!python3 test_hello.py"
      ]
    },
    {
      "cell_type": "markdown",
      "metadata": {
        "id": "6-mablkPP4WH"
      },
      "source": [
        "Script:\n",
        "* Now the test passes, and you should be able to write similar basic tests of your program's functionality."
      ]
    }
  ],
  "metadata": {
    "colab": {},
    "kernelspec": {
      "display_name": "Python 3",
      "name": "python3"
    },
    "language_info": {
      "codemirror_mode": {
        "name": "ipython",
        "version": 3
      },
      "file_extension": ".py",
      "mimetype": "text/x-python",
      "name": "python",
      "nbconvert_exporter": "python",
      "pygments_lexer": "ipython3",
      "version": "3.9.6"
    }
  },
  "nbformat": 4,
  "nbformat_minor": 0
}