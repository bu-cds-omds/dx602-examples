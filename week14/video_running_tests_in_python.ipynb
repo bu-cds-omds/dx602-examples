{
  "cells": [
    {
      "cell_type": "markdown",
      "metadata": {
        "id": "3Gbv_LRyymLB"
      },
      "source": [
        "# Video: Running Tests in Python\n",
        "\n",
        "This video shows how to run unit tests in Python."
      ]
    },
    {
      "cell_type": "code",
      "execution_count": null,
      "metadata": {
        "id": "TM5Mvw3UNicw"
      },
      "outputs": [],
      "source": [
        "#!/usr/bin/env python3\n",
        "\n",
        "import sys\n",
        "\n",
        "def get_output(s):\n",
        "    return f\"Hello, {sx}!\"\n",
        "\n",
        "def main():\n",
        "    print(get_output(\"world\"))\n",
        "    return 0\n",
        "\n",
        "if __name__ == '__main__':\n",
        "    sys.exit(main())"
      ]
    },
    {
      "cell_type": "code",
      "execution_count": null,
      "metadata": {
        "id": "p7A0EUeINlVq"
      },
      "outputs": [],
      "source": [
        "!python3 hello.py"
      ]
    },
    {
      "cell_type": "code",
      "execution_count": null,
      "metadata": {
        "id": "5cQ9u9GSNcS-"
      },
      "outputs": [],
      "source": [
        "#!/usr/bin/env python3\n",
        "\n",
        "import unittest\n",
        "\n",
        "import hello\n",
        "\n",
        "class GetOutputTestCase(unittest.TestCase):\n",
        "    \"\"\"Test the get_output function.\"\"\"\n",
        "\n",
        "    def test_world(self):\n",
        "        \"\"\"Systematically test smallest inputs.\"\"\"\n",
        "\n",
        "        output = hello.get_output(\"world\")\n",
        "        self.assertEqual(output, \"Hello, world!\")\n",
        "\n",
        "if __name__ == \"__main__\":\n",
        "    unittest.main()"
      ]
    },
    {
      "cell_type": "code",
      "execution_count": null,
      "metadata": {
        "id": "wD4Hvd_uPIB4"
      },
      "outputs": [],
      "source": [
        "!python3 test_hello.py"
      ]
    },
    {
      "cell_type": "code",
      "execution_count": null,
      "metadata": {
        "id": "Rr3fNWWHPpAT"
      },
      "outputs": [],
      "source": [
        "!python3 test_hello.py"
      ]
    },
    {
      "cell_type": "code",
      "execution_count": null,
      "metadata": {
        "id": "T5X6FFvBP2Ic"
      },
      "outputs": [],
      "source": [
        "!python3 test_hello.py"
      ]
    }
  ],
  "metadata": {
    "colab": {},
    "kernelspec": {
      "display_name": "Python 3",
      "name": "python3"
    },
    "language_info": {
      "codemirror_mode": {
        "name": "ipython",
        "version": 3
      },
      "file_extension": ".py",
      "mimetype": "text/x-python",
      "name": "python",
      "nbconvert_exporter": "python",
      "pygments_lexer": "ipython3",
      "version": "3.9.6"
    }
  },
  "nbformat": 4,
  "nbformat_minor": 0
}