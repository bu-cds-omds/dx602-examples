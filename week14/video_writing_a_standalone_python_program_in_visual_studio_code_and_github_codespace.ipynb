{
  "cells": [
    {
      "cell_type": "markdown",
      "metadata": {
        "id": "TQbKUyX7xtT_"
      },
      "source": [
        "# Video: Writing a Standalone Python Program in Visual Studio Code and GitHub Codespace\n",
        "\n",
        "This video shows the process of writing a program from scratch in Visual Studio Code and GitHub Codespaces, and briefly demonstrates debugging.\n"
      ]
    },
    {
      "cell_type": "markdown",
      "metadata": {
        "id": "hDECKEahyTEC"
      },
      "source": [
        "Script:\n",
        "* I showed you how to run a standalone Python program in a previous video with a minimal example of a Python program.\n",
        "* In this video, I will show you a more fleshed out Python program.\n",
        "* It will still be be pretty short, but will illustrate some basic scaffolding that will make it easier to work with and test your program.\n",
        "* I will start with typing in a quick Python file, then I will explain each piece.\n",
        "* This first version will have a deliberate bug, so don't worry when you see it; we will fix it."
      ]
    },
    {
      "cell_type": "code",
      "execution_count": null,
      "metadata": {
        "id": "iC-FLPTrIhKd"
      },
      "outputs": [],
      "source": [
        "#!/usr/bin/env python3\n",
        "\n",
        "import sys\n",
        "\n",
        "def get_output(s):\n",
        "    return f\"Hello, {sx}!\"\n",
        "\n",
        "def main():\n",
        "    print(get_output(\"world\"))\n",
        "    return 0\n",
        "\n",
        "if __name__ == '__main__':\n",
        "    sys.exit(main())"
      ]
    },
    {
      "cell_type": "markdown",
      "metadata": {
        "id": "STp5tKYFIgpH"
      },
      "source": [
        "Script:\n",
        "* The first line tells the operating system how to run this program.\n",
        "* We saw that in examples earlier this week.\n",
        "* The \"import sys\" line is to use `sys.exit` later.\n",
        "* Then there are two functions, `get_output` and `main`.\n",
        "* `main` is traditionally the main subroutine in a program.\n",
        "* You can think of the program starting to run from `main` in a nicely structured program, though Python does not strictly require that setup.\n",
        "* The last couple lines are more tricky.\n",
        "* The second last line looking at `__name__` is checking if the current file being processed is the main module of the Python program.\n",
        "* If that is the case, then call the main function, and exit the program with the value returned from main.\n",
        "* Why do we need that?\n",
        "* It lets us load the program as a module without running all its code which is handy for testing and debugging.\n",
        "* Typically, those two lines are just copy pasted to the end of the program file to give the effect of always running main.\n",
        "* Let's run the program now."
      ]
    },
    {
      "cell_type": "code",
      "execution_count": null,
      "metadata": {
        "id": "QO-4poV6MK9a"
      },
      "outputs": [],
      "source": [
        "!python3 hello.py"
      ]
    },
    {
      "cell_type": "markdown",
      "metadata": {
        "id": "XikdLguBMNTa"
      },
      "source": [
        "Script:\n",
        "* And there we see the error.\n",
        "* I will give you a brief demonstration of debugging that does not require any debugging modules.\n",
        "* First, I will start up Python by itself.\n",
        "\n"
      ]
    },
    {
      "cell_type": "code",
      "execution_count": null,
      "metadata": {
        "id": "GAe4U8jBMPhX"
      },
      "outputs": [],
      "source": [
        "!python3"
      ]
    },
    {
      "cell_type": "markdown",
      "metadata": {
        "id": "42ih5HtdMRB8"
      },
      "source": [
        "Script:\n",
        "* And then I will load the program as a module.\n",
        "* TYPE import hello\n",
        "* If we did not have those two lines at the end controlling whether `main()` ran, it would have just run.\n",
        "* Let's run `main()` again.\n",
        "* TYPE hello.main()\n",
        "* There is the error again.\n",
        "* We can see that it is happening in `get_output`.\n",
        "* Let's run that by itself.\n",
        "* TYPE hello.get_output(\"world\")\n",
        "* You probably noticed already -- the problem here is that the variable name in this format string is wrong.\n",
        "* Not all bugs will be this easy, and you may need to poke around more to figure it out.\n",
        "* Running the program this way or with a dedicated debugging module will let you peak in at the state of the program and get a better idea of what went wrong.\n",
        "* I will fix that in the editor and try again.\n",
        "* CLOSE PYTHON\n",
        "* FIX VARIABLE IN EDITOR"
      ]
    },
    {
      "cell_type": "code",
      "execution_count": null,
      "metadata": {
        "id": "nvPrcyARMTo4"
      },
      "outputs": [],
      "source": [
        "!python3 hello.py"
      ]
    },
    {
      "cell_type": "markdown",
      "metadata": {
        "id": "Q8T_uycAMaY6"
      },
      "source": [
        "Script:\n",
        "* Now the program works, and you have learned some best practices for writing standalone Python programs."
      ]
    }
  ],
  "metadata": {
    "colab": {},
    "kernelspec": {
      "display_name": "Python 3",
      "name": "python3"
    },
    "language_info": {
      "codemirror_mode": {
        "name": "ipython",
        "version": 3
      },
      "file_extension": ".py",
      "mimetype": "text/x-python",
      "name": "python",
      "nbconvert_exporter": "python",
      "pygments_lexer": "ipython3",
      "version": "3.9.6"
    }
  },
  "nbformat": 4,
  "nbformat_minor": 0
}