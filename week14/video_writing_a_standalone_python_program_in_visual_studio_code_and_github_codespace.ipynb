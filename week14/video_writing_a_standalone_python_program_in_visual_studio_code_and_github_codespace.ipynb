{
  "cells": [
    {
      "cell_type": "markdown",
      "metadata": {
        "id": "TQbKUyX7xtT_"
      },
      "source": [
        "# Video: Writing a Standalone Python Program in Visual Studio Code and GitHub Codespace\n",
        "\n",
        "This video shows the process of writing a program from scratch in Visual Studio Code and GitHub Codespaces, and briefly demonstrates debugging.\n"
      ]
    },
    {
      "cell_type": "code",
      "execution_count": null,
      "metadata": {
        "id": "iC-FLPTrIhKd"
      },
      "outputs": [],
      "source": [
        "#!/usr/bin/env python3\n",
        "\n",
        "import sys\n",
        "\n",
        "def get_output(s):\n",
        "    return f\"Hello, {sx}!\"\n",
        "\n",
        "def main():\n",
        "    print(get_output(\"world\"))\n",
        "    return 0\n",
        "\n",
        "if __name__ == '__main__':\n",
        "    sys.exit(main())"
      ]
    },
    {
      "cell_type": "code",
      "execution_count": null,
      "metadata": {
        "id": "QO-4poV6MK9a"
      },
      "outputs": [],
      "source": [
        "!python3 hello.py"
      ]
    },
    {
      "cell_type": "code",
      "execution_count": null,
      "metadata": {
        "id": "GAe4U8jBMPhX"
      },
      "outputs": [],
      "source": [
        "!python3"
      ]
    },
    {
      "cell_type": "code",
      "execution_count": null,
      "metadata": {
        "id": "HCAbbb1F7BlE"
      },
      "outputs": [],
      "source": [
        "import hello"
      ]
    },
    {
      "cell_type": "code",
      "execution_count": null,
      "metadata": {
        "id": "B3EZSWoC6-Z7"
      },
      "outputs": [],
      "source": [
        "hello.main()"
      ]
    },
    {
      "cell_type": "code",
      "execution_count": null,
      "metadata": {
        "id": "pIRxGudG67JA"
      },
      "outputs": [],
      "source": [
        "hello.get_output(\"world\")"
      ]
    },
    {
      "cell_type": "code",
      "execution_count": null,
      "metadata": {
        "id": "nvPrcyARMTo4"
      },
      "outputs": [],
      "source": [
        "!python3 hello.py"
      ]
    }
  ],
  "metadata": {
    "colab": {},
    "kernelspec": {
      "display_name": "Python 3",
      "name": "python3"
    },
    "language_info": {
      "codemirror_mode": {
        "name": "ipython",
        "version": 3
      },
      "file_extension": ".py",
      "mimetype": "text/x-python",
      "name": "python",
      "nbconvert_exporter": "python",
      "pygments_lexer": "ipython3",
      "version": "3.9.6"
    }
  },
  "nbformat": 4,
  "nbformat_minor": 0
}