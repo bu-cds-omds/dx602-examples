{
  "cells": [
    {
      "cell_type": "markdown",
      "metadata": {
        "id": "Gy0H07Fpyd8E"
      },
      "source": [
        "# Code Example: Assertions in Python\n",
        "\n",
        "The simplest way to add tests to your program is to add assertions to confirm that your program is behaving as expected.\n",
        "However, these will immediately halt your program, which is often undesirable.\n",
        "Generally, an assertion should be used to catch logic errors in your program and stop it when something has clearly gone wrong.\n"
      ]
    },
    {
      "cell_type": "code",
      "execution_count": null,
      "metadata": {
        "id": "aPOe1IcOmRnp"
      },
      "outputs": [],
      "source": [
        "assert True"
      ]
    },
    {
      "cell_type": "code",
      "execution_count": null,
      "metadata": {
        "colab": {
          "base_uri": "https://localhost:8080/",
          "height": 156
        },
        "id": "8M2G4KIkmTTq",
        "outputId": "9b7968c1-e214-4811-d6c9-def7945730d6"
      },
      "outputs": [
        {
          "ename": "AssertionError",
          "evalue": "",
          "execution_count": null,
          "output_type": "error",
          "traceback": [
            "\u001b[0;31m---------------------------------------------------------------------------\u001b[0m",
            "\u001b[0;31mAssertionError\u001b[0m                            Traceback (most recent call last)",
            "\u001b[0;32m<ipython-input-3-a446a75333f4>\u001b[0m in \u001b[0;36m<cell line: 2>\u001b[0;34m()\u001b[0m\n\u001b[1;32m      1\u001b[0m \u001b[0mx\u001b[0m \u001b[0;34m=\u001b[0m \u001b[0;34m[\u001b[0m\u001b[0;36m2\u001b[0m\u001b[0;34m,\u001b[0m \u001b[0;36m4\u001b[0m\u001b[0;34m]\u001b[0m\u001b[0;34m\u001b[0m\u001b[0;34m\u001b[0m\u001b[0m\n\u001b[0;32m----> 2\u001b[0;31m \u001b[0;32massert\u001b[0m \u001b[0;36m3\u001b[0m \u001b[0;32min\u001b[0m \u001b[0mx\u001b[0m\u001b[0;34m\u001b[0m\u001b[0;34m\u001b[0m\u001b[0m\n\u001b[0m",
            "\u001b[0;31mAssertionError\u001b[0m: "
          ]
        }
      ],
      "source": [
        "x = [2, 4]\n",
        "assert 3 in x"
      ]
    },
    {
      "cell_type": "markdown",
      "metadata": {
        "id": "WyfVtIqWziES"
      },
      "source": [
        "When an invalid condition is detected in your code, it helps to think about the source of the invalidity.\n",
        "Was your function called with invalid input?\n",
        "In that case, it usually makes more sense to raise an exception.\n",
        "We saw examples raising exceptions at the beginning of this module, when lists and dictionaries raised `IndexError` and `KeyError` respectively when indexed with invalid values.\n",
        "Python has a variety of built-in exceptions that you can throw, or you can derive your own subclasses of Exception.\n",
        "\n",
        "If your code detects that something didn't work correctly in your code, an assertion might be appropriate.\n",
        "This varies based on your stage of development, and the expectations of the surrounding environment.\n",
        "Often, it is preferrable to raise an exception instead, and let some surrounding code try to resolve the problem.\n",
        "There is a generic exception for this, `RuntimeError`, but again, you will often want to derive your own."
      ]
    },
    {
      "cell_type": "code",
      "execution_count": null,
      "metadata": {
        "colab": {
          "base_uri": "https://localhost:8080/",
          "height": 139
        },
        "id": "A_Zg7ZeG1brj",
        "outputId": "89142e07-61f9-4d91-c8fb-f5b77152e3b2"
      },
      "outputs": [
        {
          "ename": "RuntimeError",
          "evalue": "help it didn't work",
          "execution_count": null,
          "output_type": "error",
          "traceback": [
            "\u001b[0;31m---------------------------------------------------------------------------\u001b[0m",
            "\u001b[0;31mRuntimeError\u001b[0m                              Traceback (most recent call last)",
            "\u001b[0;32m<ipython-input-4-21ef35491039>\u001b[0m in \u001b[0;36m<cell line: 1>\u001b[0;34m()\u001b[0m\n\u001b[0;32m----> 1\u001b[0;31m \u001b[0;32mraise\u001b[0m \u001b[0mRuntimeError\u001b[0m\u001b[0;34m(\u001b[0m\u001b[0;34m\"help it didn't work\"\u001b[0m\u001b[0;34m)\u001b[0m\u001b[0;34m\u001b[0m\u001b[0;34m\u001b[0m\u001b[0m\n\u001b[0m",
            "\u001b[0;31mRuntimeError\u001b[0m: help it didn't work"
          ]
        }
      ],
      "source": [
        "raise RuntimeError(\"help it didn't work\")"
      ]
    },
    {
      "cell_type": "code",
      "execution_count": null,
      "metadata": {
        "colab": {
          "base_uri": "https://localhost:8080/",
          "height": 173
        },
        "id": "9aotn6Qz1tkX",
        "outputId": "88250be9-0f80-4c8b-d487-b5ca441d6dc3"
      },
      "outputs": [
        {
          "ename": "MyRuntimeError",
          "evalue": "oops",
          "execution_count": null,
          "output_type": "error",
          "traceback": [
            "\u001b[0;31m---------------------------------------------------------------------------\u001b[0m",
            "\u001b[0;31mMyRuntimeError\u001b[0m                            Traceback (most recent call last)",
            "\u001b[0;32m<ipython-input-5-9060edb5d490>\u001b[0m in \u001b[0;36m<cell line: 4>\u001b[0;34m()\u001b[0m\n\u001b[1;32m      2\u001b[0m     \u001b[0;32mpass\u001b[0m\u001b[0;34m\u001b[0m\u001b[0;34m\u001b[0m\u001b[0m\n\u001b[1;32m      3\u001b[0m \u001b[0;34m\u001b[0m\u001b[0m\n\u001b[0;32m----> 4\u001b[0;31m \u001b[0;32mraise\u001b[0m \u001b[0mMyRuntimeError\u001b[0m\u001b[0;34m(\u001b[0m\u001b[0;34m\"oops\"\u001b[0m\u001b[0;34m)\u001b[0m\u001b[0;34m\u001b[0m\u001b[0;34m\u001b[0m\u001b[0m\n\u001b[0m",
            "\u001b[0;31mMyRuntimeError\u001b[0m: oops"
          ]
        }
      ],
      "source": [
        "class MyRuntimeError(RuntimeError):\n",
        "    pass\n",
        "\n",
        "raise MyRuntimeError(\"oops\")"
      ]
    }
  ],
  "metadata": {
    "colab": {},
    "kernelspec": {
      "display_name": "Python 3",
      "name": "python3"
    },
    "language_info": {
      "codemirror_mode": {
        "name": "ipython",
        "version": 3
      },
      "file_extension": ".py",
      "mimetype": "text/x-python",
      "name": "python",
      "nbconvert_exporter": "python",
      "pygments_lexer": "ipython3",
      "version": "3.9.6"
    }
  },
  "nbformat": 4,
  "nbformat_minor": 0
}