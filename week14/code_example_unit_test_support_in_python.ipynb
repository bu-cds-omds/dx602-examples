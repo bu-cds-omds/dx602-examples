{
  "cells": [
    {
      "cell_type": "markdown",
      "metadata": {
        "id": "QCTbRWsxyVOh"
      },
      "source": [
        "# Code Example: Unit Test Support in Python\n",
        "\n",
        "If you have a dedicated test script or test mode, then it is perfectly acceptable to raise assertions.\n",
        "Python even has a built-in library, unittest, which makes it easier to write tests, and automatically run all of them."
      ]
    },
    {
      "cell_type": "markdown",
      "metadata": {
        "id": "o7QMjA57BTzV"
      },
      "source": [
        "Here's an example using unittest."
      ]
    },
    {
      "cell_type": "code",
      "execution_count": null,
      "metadata": {
        "id": "FWmV-xx07m_V"
      },
      "outputs": [],
      "source": [
        "def fibonacci(n):\n",
        "    if n < 2:\n",
        "        return n\n",
        "\n",
        "    # this seems slow, so just return a big number if the input is too large.\n",
        "    # -- an impatient developer\n",
        "    if n > 10:\n",
        "        return 10000000\n",
        "\n",
        "    return fibonacci(n-2) + fibonacci(n-1)\n"
      ]
    },
    {
      "cell_type": "code",
      "execution_count": null,
      "metadata": {
        "id": "89Q9ISYc8H_d"
      },
      "outputs": [],
      "source": [
        "import unittest"
      ]
    },
    {
      "cell_type": "code",
      "execution_count": null,
      "metadata": {
        "id": "TiJzs2iD8A2T"
      },
      "outputs": [],
      "source": [
        "class FibonacciTestCase(unittest.TestCase):\n",
        "    \"\"\"Test the fibonacci function.\"\"\"\n",
        "\n",
        "    def test_small(self):\n",
        "        \"\"\"Systematically test smallest inputs.\"\"\"\n",
        "\n",
        "        self.assertEqual(fibonacci(0), 0)\n",
        "        self.assertEqual(fibonacci(1), 1)\n",
        "        self.assertEqual(fibonacci(2), 1)\n",
        "        self.assertEqual(fibonacci(3), 2)\n",
        "        self.assertEqual(fibonacci(4), 3)\n",
        "        self.assertEqual(fibonacci(5), 5)\n",
        "\n",
        "    def test_big(self):\n",
        "        \"\"\"Test a few bigger numbers in case a fancy implementation was used.\"\"\"\n",
        "        self.assertEqual(fibonacci(10), 55)\n",
        "        self.assertEqual(fibonacci(20), 6765)"
      ]
    },
    {
      "cell_type": "markdown",
      "metadata": {
        "id": "INmbr-qA_YcS"
      },
      "source": [
        "After you have saved tests in their own files, they can be automatically run with the command `python -m unittest`.\n",
        "That does not work in the Jupyter notebook environment, but we can get a similar effect with the following code."
      ]
    },
    {
      "cell_type": "code",
      "execution_count": null,
      "metadata": {
        "colab": {
          "base_uri": "https://localhost:8080/"
        },
        "id": "uz4-GEd29gvb",
        "outputId": "1938b2ae-a789-4d7e-a81c-bbc5c6298bb6"
      },
      "outputs": [
        {
          "execution_count": null,
          "name": "stderr",
          "output_type": "stream",
          "text": [
            "F.\n",
            "======================================================================\n",
            "FAIL: test_big (__main__.FibonacciTestCase)\n",
            "Test a few bigger numbers in case a fancy implementation was used.\n",
            "----------------------------------------------------------------------\n",
            "Traceback (most recent call last):\n",
            "  File \"<ipython-input-8-a8438396b085>\", line 17, in test_big\n",
            "    self.assertEqual(fibonacci(20), 6765)\n",
            "AssertionError: 10000000 != 6765\n",
            "\n",
            "----------------------------------------------------------------------\n",
            "Ran 2 tests in 0.005s\n",
            "\n",
            "FAILED (failures=1)\n"
          ]
        },
        {
          "data": {
            "text/plain": [
              "<unittest.runner.TextTestResult run=2 errors=0 failures=1>"
            ]
          },
          "execution_count": null,
          "metadata": {},
          "output_type": "execute_result"
        }
      ],
      "source": [
        "loader = unittest.TestLoader()\n",
        "suite = loader.loadTestsFromTestCase(testCaseClass=FibonacciTestCase)\n",
        "unittest.TextTestRunner().run(suite)"
      ]
    },
    {
      "cell_type": "markdown",
      "metadata": {
        "id": "bmb5Wh17_6KI"
      },
      "source": [
        "The assertion error above shows that the impatient speedup in the code above was indeed caught, since it gave the wrong answer."
      ]
    }
  ],
  "metadata": {
    "colab": {},
    "kernelspec": {
      "display_name": "Python 3",
      "name": "python3"
    },
    "language_info": {
      "codemirror_mode": {
        "name": "ipython",
        "version": 3
      },
      "file_extension": ".py",
      "mimetype": "text/x-python",
      "name": "python",
      "nbconvert_exporter": "python",
      "pygments_lexer": "ipython3",
      "version": "3.9.6"
    }
  },
  "nbformat": 4,
  "nbformat_minor": 0
}