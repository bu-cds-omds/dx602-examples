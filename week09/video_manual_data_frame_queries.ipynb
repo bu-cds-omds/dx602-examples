{
  "cells": [
    {
      "cell_type": "markdown",
      "metadata": {
        "id": "ex_6lI-7IZ3t"
      },
      "source": [
        "# Video: Manual Data Frame Queries\n",
        "\n",
        "This video compares declarative queries using pandas data frames with implementing equivalent filtering using a series of lower level data frame operations.\n"
      ]
    },
    {
      "cell_type": "markdown",
      "metadata": {
        "id": "lW-ot5DFllis"
      },
      "source": [
        "## Why do We Like Queries?\n",
        "\n",
        "How would we implement this without query?\n",
        "\n",
        "* `abalone.query(\"Sex in @target_sexes and (Whole_weight > 0.5 or Height > 0.2)\")`"
      ]
    },
    {
      "cell_type": "markdown",
      "metadata": {
        "id": "bA4XjmMbl1vB"
      },
      "source": [
        "## Code Example: Reimplementing a Query without Query"
      ]
    },
    {
      "cell_type": "code",
      "execution_count": null,
      "metadata": {
        "id": "GaH3l9rySFAW"
      },
      "outputs": [],
      "source": [
        "import pandas as pd"
      ]
    },
    {
      "cell_type": "code",
      "execution_count": null,
      "metadata": {
        "id": "MQYQeQNmR79x"
      },
      "outputs": [],
      "source": [
        "abalone = pd.read_csv(\"https://raw.githubusercontent.com/bu-omds/bu-omds-data/main/data/abalone.tsv\", sep=\"\\t\")\n",
        "abalone"
      ]
    },
    {
      "cell_type": "code",
      "execution_count": null,
      "metadata": {
        "id": "e8sruu4Vi6Uq"
      },
      "outputs": [],
      "source": [
        "abalone.query(\"Sex in @target_sexes and (Whole_weight > 0.5 or Height > 0.2)\")"
      ]
    },
    {
      "cell_type": "markdown",
      "metadata": {
        "id": "SK8kIH-tmEMA"
      },
      "source": [
        "## Breaking Up the Query\n",
        "\n",
        "Goal:\n",
        "* `Sex in @target_sexes and (Whole_weight > 0.5 or Height > 0.2)\")`\n",
        "\n",
        "Pieces:\n",
        "* `Sex in @target_sexes`\n",
        "* `Whole_weight > 0.5`\n",
        "* `Height > 0.2`"
      ]
    },
    {
      "cell_type": "code",
      "execution_count": null,
      "metadata": {
        "id": "Z15QQKlijBz2"
      },
      "outputs": [],
      "source": [
        "abalone[\"Sex\"].isin(target_sexes)"
      ]
    },
    {
      "cell_type": "code",
      "execution_count": null,
      "metadata": {
        "id": "31bvEk5gjHvq"
      },
      "outputs": [],
      "source": [
        "abalone[\"Whole_weight\"] > 0.5"
      ]
    },
    {
      "cell_type": "code",
      "execution_count": null,
      "metadata": {
        "id": "Tt3dzW2vjMu3"
      },
      "outputs": [],
      "source": [
        "abalone[\"Height\"] > 0.2"
      ]
    },
    {
      "cell_type": "code",
      "execution_count": null,
      "metadata": {
        "id": "a4qlDRAkjRXj"
      },
      "outputs": [],
      "source": [
        "(abalone[\"Whole_weight\"] > 0.5) | (abalone[\"Height\"] > 0.2)"
      ]
    },
    {
      "cell_type": "code",
      "execution_count": null,
      "metadata": {
        "id": "ni0rBtBsjlX3"
      },
      "outputs": [],
      "source": [
        "abalone[\"Sex\"].isin(target_sexes) & (abalone[\"Whole_weight\"] > 0.5) | (abalone[\"Height\"] > 0.2)"
      ]
    },
    {
      "cell_type": "code",
      "execution_count": null,
      "metadata": {
        "id": "vwVFLI3jjqBu"
      },
      "outputs": [],
      "source": [
        "abalone[abalone[\"Sex\"].isin(target_sexes) & ((abalone[\"Whole_weight\"] > 0.5) | (abalone[\"Height\"] > 0.2))]"
      ]
    },
    {
      "cell_type": "code",
      "execution_count": null,
      "metadata": {
        "id": "7dDMf2UljvQ1"
      },
      "outputs": [],
      "source": [
        "abalone.query(\"Sex in @target_sexes and (Whole_weight > 0.5 or Height > 0.2)\")"
      ]
    },
    {
      "cell_type": "markdown",
      "metadata": {
        "id": "jSCiI80nlLhU"
      },
      "source": [
        "## Which Do You Prefer?\n",
        "\n",
        "* `abalone.query(\"Sex in @target_sexes and (Whole_weight > 0.5 or Height > 0.2)\")`\n",
        "* `abalone[abalone[\"Sex\"].isin(target_sexes) & ((abalone[\"Whole_weight\"] > 0.5) | (abalone[\"Height\"] > 0.2))]`\n"
      ]
    }
  ],
  "metadata": {
    "colab": {},
    "kernelspec": {
      "display_name": "Python 3",
      "name": "python3"
    },
    "language_info": {
      "codemirror_mode": {
        "name": "ipython",
        "version": 3
      },
      "file_extension": ".py",
      "mimetype": "text/x-python",
      "name": "python",
      "nbconvert_exporter": "python",
      "pygments_lexer": "ipython3",
      "version": "3.9.6"
    }
  },
  "nbformat": 4,
  "nbformat_minor": 0
}