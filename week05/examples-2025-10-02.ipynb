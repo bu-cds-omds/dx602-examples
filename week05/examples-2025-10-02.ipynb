{
  "nbformat": 4,
  "nbformat_minor": 0,
  "metadata": {
    "colab": {
      "provenance": []
    },
    "kernelspec": {
      "name": "python3",
      "display_name": "Python 3"
    },
    "language_info": {
      "name": "python"
    }
  },
  "cells": [
    {
      "cell_type": "markdown",
      "source": [
        "# 2025-10-02 DX 602 Live Session - Matplotlib"
      ],
      "metadata": {
        "id": "IW6Z58ilxk0_"
      }
    },
    {
      "cell_type": "markdown",
      "source": [
        "## Modules\n",
        "\n",
        "What is a module?\n",
        "* A pre-made bundle of code?\n",
        "* Code that we can use but someone else wrote?\n",
        "* Code that we can expect other people to be able to use to?\n",
        "\n",
        "We also see the word package used almost interchangeably.\n",
        "The difference is units of distribution vs loading/using."
      ],
      "metadata": {
        "id": "dzISUFX9xrcV"
      }
    },
    {
      "cell_type": "markdown",
      "source": [
        "## Math Module\n",
        "\n",
        "You have been seeing light module usage since the beginning of the semester."
      ],
      "metadata": {
        "id": "6m1lCKUcyPZg"
      }
    },
    {
      "cell_type": "code",
      "execution_count": null,
      "metadata": {
        "id": "UxLPY0bFxYTI"
      },
      "outputs": [],
      "source": [
        "import math"
      ]
    },
    {
      "cell_type": "code",
      "source": [
        "math.sin(1)"
      ],
      "metadata": {
        "id": "AA9OB0O8yd5o"
      },
      "execution_count": null,
      "outputs": []
    },
    {
      "cell_type": "markdown",
      "source": [
        "## Selective Imports"
      ],
      "metadata": {
        "id": "2wLXCTkkyrN1"
      }
    },
    {
      "cell_type": "code",
      "source": [
        "from math import cos"
      ],
      "metadata": {
        "id": "45IIDTJUyuNb"
      },
      "execution_count": null,
      "outputs": []
    },
    {
      "cell_type": "code",
      "source": [
        "cos(1)"
      ],
      "metadata": {
        "id": "8_h9ENUsyvMk"
      },
      "execution_count": null,
      "outputs": []
    },
    {
      "cell_type": "markdown",
      "source": [
        "## Matplotlib\n",
        "\n",
        "https://matplotlib.org/\n",
        "\n",
        "This is a big module!"
      ],
      "metadata": {
        "id": "tcDOAtRry4CS"
      }
    },
    {
      "cell_type": "code",
      "source": [
        "import matplotlib"
      ],
      "metadata": {
        "id": "jrdrU_Ml21pl"
      },
      "execution_count": null,
      "outputs": []
    },
    {
      "cell_type": "markdown",
      "source": [
        "What is in here?"
      ],
      "metadata": {
        "id": "AIzIAiGc2-LP"
      }
    },
    {
      "cell_type": "code",
      "source": [
        "dir(matplotlib)"
      ],
      "metadata": {
        "id": "7OmX-zrb23Bq"
      },
      "execution_count": null,
      "outputs": []
    },
    {
      "cell_type": "markdown",
      "source": [
        "Usually we prefer a more selective import."
      ],
      "metadata": {
        "id": "0OoPoSz025HD"
      }
    },
    {
      "cell_type": "code",
      "source": [
        "import mathplotlib.pyplot as plt"
      ],
      "metadata": {
        "id": "gR3Pp9ZbzDnp"
      },
      "execution_count": null,
      "outputs": []
    },
    {
      "cell_type": "markdown",
      "source": [
        "What is in here?"
      ],
      "metadata": {
        "id": "ENM5juHTzO8f"
      }
    },
    {
      "cell_type": "code",
      "source": [
        "dir(plt)"
      ],
      "metadata": {
        "id": "IbZmpslVzRiy"
      },
      "execution_count": null,
      "outputs": []
    },
    {
      "cell_type": "markdown",
      "source": [
        "## Matplotlib Introduction"
      ],
      "metadata": {
        "id": "dLjjHVqDzVEl"
      }
    },
    {
      "cell_type": "markdown",
      "source": [
        "Plot a series of numbers 3, 1, 4, 1, 5, 9."
      ],
      "metadata": {
        "id": "mdksICk6zXRi"
      }
    },
    {
      "cell_type": "code",
      "source": [],
      "metadata": {
        "id": "oDn3ipQmzt5F"
      },
      "execution_count": null,
      "outputs": []
    },
    {
      "cell_type": "markdown",
      "source": [
        "What were the x coordinates?\n",
        "Make them explicit."
      ],
      "metadata": {
        "id": "Pq4GBjoNzwed"
      }
    },
    {
      "cell_type": "code",
      "source": [],
      "metadata": {
        "id": "DwKxnFHuz1Ke"
      },
      "execution_count": null,
      "outputs": []
    },
    {
      "cell_type": "markdown",
      "source": [
        "Plot the cosine function $y=\\mathrm{cos}(x)$ with dense coordinates - $x = 0.0, 0.01, 0.02, \\ldots$"
      ],
      "metadata": {
        "id": "nLWy-PFo0Huh"
      }
    },
    {
      "cell_type": "code",
      "source": [],
      "metadata": {
        "id": "tKSblbjD0OFU"
      },
      "execution_count": null,
      "outputs": []
    },
    {
      "cell_type": "markdown",
      "source": [
        "Add axis labels and a title."
      ],
      "metadata": {
        "id": "OsBxNWCnz4ov"
      }
    },
    {
      "cell_type": "code",
      "source": [],
      "metadata": {
        "id": "hguvhW1vz7ae"
      },
      "execution_count": null,
      "outputs": []
    },
    {
      "cell_type": "markdown",
      "source": [
        "Now plot both $\\mathrm{cos}(x)$ and $\\mathrm{sin}(x)$."
      ],
      "metadata": {
        "id": "ifAXperr0g71"
      }
    },
    {
      "cell_type": "code",
      "source": [],
      "metadata": {
        "id": "Zp6iml7C0ogn"
      },
      "execution_count": null,
      "outputs": []
    },
    {
      "cell_type": "markdown",
      "source": [
        "Label the two curves for clarity."
      ],
      "metadata": {
        "id": "3Mye9nYD0o-z"
      }
    },
    {
      "cell_type": "code",
      "source": [],
      "metadata": {
        "id": "nWbUclvM0sSX"
      },
      "execution_count": null,
      "outputs": []
    },
    {
      "cell_type": "markdown",
      "source": [
        "## Customizing Individual Plots"
      ],
      "metadata": {
        "id": "Z0rbil4Z03Hg"
      }
    },
    {
      "cell_type": "markdown",
      "source": [
        "Plot $y=\\mathrm{cos}(x)$ for $x=0.0,0.1,0.2,\\ldots,2.0$ and mark the calculated points."
      ],
      "metadata": {
        "id": "RAiYARFH08dD"
      }
    },
    {
      "cell_type": "code",
      "source": [],
      "metadata": {
        "id": "RXHIyDez055X"
      },
      "execution_count": null,
      "outputs": []
    },
    {
      "cell_type": "markdown",
      "source": [
        "Remove the lines between the calculated points."
      ],
      "metadata": {
        "id": "h__jaBeD1Hs_"
      }
    },
    {
      "cell_type": "code",
      "source": [],
      "metadata": {
        "id": "A3D94Hhr1LGq"
      },
      "execution_count": null,
      "outputs": []
    },
    {
      "cell_type": "markdown",
      "source": [
        "Do it with a scatter plot instead."
      ],
      "metadata": {
        "id": "_BhE-17-1Lli"
      }
    },
    {
      "cell_type": "code",
      "source": [],
      "metadata": {
        "id": "fB1CKL0o1OTm"
      },
      "execution_count": null,
      "outputs": []
    },
    {
      "cell_type": "markdown",
      "source": [
        "Do it with a bar chart instead."
      ],
      "metadata": {
        "id": "aGrt6KQT1Qs9"
      }
    },
    {
      "cell_type": "code",
      "source": [],
      "metadata": {
        "id": "4bslBlik1SVZ"
      },
      "execution_count": null,
      "outputs": []
    },
    {
      "cell_type": "markdown",
      "source": [
        "## Plot a Silly Data Set"
      ],
      "metadata": {
        "id": "CcVcesTc1Ssv"
      }
    },
    {
      "cell_type": "code",
      "source": [
        "!curl https://www.openintro.org/data/tab-delimited/datasaurus.txt > datasaurus.txt"
      ],
      "metadata": {
        "id": "FeKohkRn19Wo"
      },
      "execution_count": null,
      "outputs": []
    },
    {
      "cell_type": "code",
      "source": [
        "!head datasaurus.txt"
      ],
      "metadata": {
        "id": "WToqJYaE2Kfb"
      },
      "execution_count": null,
      "outputs": []
    },
    {
      "cell_type": "code",
      "source": [
        "import csv"
      ],
      "metadata": {
        "id": "iTUcGF0c2TQp"
      },
      "execution_count": null,
      "outputs": []
    },
    {
      "cell_type": "code",
      "source": [
        "with open(\"datasaurus.txt\") as f:\n",
        "    ds_reader = csv.reader(f, delimiter=\"\\t\")\n",
        "    ds_data = list(ds_reader)"
      ],
      "metadata": {
        "id": "kOT6MX592M-O"
      },
      "execution_count": null,
      "outputs": []
    },
    {
      "cell_type": "code",
      "source": [
        "ds_data[:5]"
      ],
      "metadata": {
        "id": "pKrd9M-s2dSu"
      },
      "execution_count": null,
      "outputs": []
    },
    {
      "cell_type": "markdown",
      "source": [
        "What now???"
      ],
      "metadata": {
        "id": "iZoGOg0y2nKg"
      }
    },
    {
      "cell_type": "code",
      "source": [],
      "metadata": {
        "id": "LLFUGiQR2rFR"
      },
      "execution_count": null,
      "outputs": []
    },
    {
      "cell_type": "code",
      "source": [],
      "metadata": {
        "id": "yORGL3Mb2rAr"
      },
      "execution_count": null,
      "outputs": []
    },
    {
      "cell_type": "code",
      "source": [],
      "metadata": {
        "id": "KuM0zrXu2q7-"
      },
      "execution_count": null,
      "outputs": []
    },
    {
      "cell_type": "code",
      "source": [],
      "metadata": {
        "id": "vTespyq62q3T"
      },
      "execution_count": null,
      "outputs": []
    },
    {
      "cell_type": "code",
      "source": [],
      "metadata": {
        "id": "YeWMO2ua2qyo"
      },
      "execution_count": null,
      "outputs": []
    },
    {
      "cell_type": "code",
      "source": [],
      "metadata": {
        "id": "yW41tHXI2quL"
      },
      "execution_count": null,
      "outputs": []
    },
    {
      "cell_type": "code",
      "source": [],
      "metadata": {
        "id": "OLlC_iAX2qpu"
      },
      "execution_count": null,
      "outputs": []
    },
    {
      "cell_type": "code",
      "source": [],
      "metadata": {
        "id": "IUZNo23i2qlB"
      },
      "execution_count": null,
      "outputs": []
    }
  ]
}