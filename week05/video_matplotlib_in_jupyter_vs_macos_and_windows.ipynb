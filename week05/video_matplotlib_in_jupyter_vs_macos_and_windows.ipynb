{
  "cells": [
    {
      "cell_type": "markdown",
      "metadata": {
        "id": "nfVtIoLMIO5I"
      },
      "source": [
        "# Video: Matplotlib in Jupyter vs MacOS and Windows\n",
        "\n",
        "This video will highlight differences using Matplotlib in Jupyter notebooks compared to MacOS and Windows.\n",
        "In particular, the required use of the show function outside of Jupyter notebooks will demonstrated."
      ]
    },
    {
      "cell_type": "markdown",
      "metadata": {
        "id": "zxvdv4KaGBNE"
      },
      "source": [
        "* We will be using Jupyter notebooks exclusively in this module, but there is a significant difference in how Matplotlib behaves in a Jupyter notebook that is worth pointing out.\n",
        "* Normally, if you are using Matplotlib, you need to use the `show` function to display your charts.\n",
        "This happens automatically after you run a cell in a Jupyter notebook, so it is easy to forget about.\n",
        "But if you use the exact same code in another environment, no charts will appear.\n",
        "Additionally, when you run the `show` function, it will open a window showing your chart or charts, and pause your program while waiting for you to close the window.\n",
        "After you close the chart window, your program will continue."
      ]
    },
    {
      "cell_type": "code",
      "execution_count": null,
      "metadata": {
        "id": "1R-UN7UwIrDN"
      },
      "outputs": [],
      "source": [
        "import matplotlib.pyplot as plt\n",
        "plt.plot([0, 5, 1, 6, 2, 7, 3, 8, 4, 9])"
      ]
    },
    {
      "cell_type": "markdown",
      "metadata": {
        "id": "DXlEy3RiIxcG"
      },
      "source": [
        "**Switch from Jupyter notebook to Python CLI.**"
      ]
    },
    {
      "cell_type": "code",
      "execution_count": null,
      "metadata": {
        "id": "lQN3EMkvI3AH"
      },
      "outputs": [],
      "source": [
        "import matplotlib.pyplot as plt\n",
        "plt.plot([0, 5, 1, 6, 2, 7, 3, 8, 4, 9])"
      ]
    },
    {
      "cell_type": "markdown",
      "metadata": {
        "id": "p-TMF8oMI3r8"
      },
      "source": [
        "* See how no charts appeared yet?\n",
        "* Now let's run the show command."
      ]
    },
    {
      "cell_type": "code",
      "execution_count": null,
      "metadata": {
        "id": "UD5JJcqAHOY0"
      },
      "outputs": [],
      "source": [
        "plt.show()"
      ]
    },
    {
      "cell_type": "markdown",
      "metadata": {
        "id": "Q0Sd6wqLI_Hb"
      },
      "source": [
        "* There is the chart in a new window.\n",
        "* But if we look at our Python shell, we do not have the prompt back to type in more code.\n",
        "* That means that the show function still is running.\n",
        "* If we close the window, then the show function will finish."
      ]
    },
    {
      "cell_type": "markdown",
      "metadata": {
        "id": "iXIbhQEYLkk1"
      },
      "source": [
        "* And now it is done.\n",
        "* Not a big deal, but a potential trap moving out of Jupyter notebooks if you have not seen it before."
      ]
    },
    {
      "cell_type": "markdown",
      "metadata": {
        "id": "lwEwIxxTLuRK"
      },
      "source": [
        "**Code Notes:**\n",
        "* The [Matplotlib function `matplotlib.pyplot.show`](https://matplotlib.org/stable/api/_as_gen/matplotlib.pyplot.show.html), referenced in this video as `plt.show`, will show the current \"open\" figures.\n",
        "  * If you call `plt.show` with optional argument `block` can be set to `False`, e.g. `plt.show(block=False)`, it will not wait for the window to be closed and you will immediately be able to run more Python statements."
      ]
    },
    {
      "cell_type": "markdown",
      "metadata": {
        "id": "q8hfGm9WG72W"
      },
      "source": [
        "**<font color=\"red\">Will provide screenshots for this later. Both the window that needs to be closed, and show() hanging.</font>**"
      ]
    }
  ],
  "metadata": {
    "colab": {},
    "kernelspec": {
      "display_name": "Python 3",
      "name": "python3"
    },
    "language_info": {
      "codemirror_mode": {
        "name": "ipython",
        "version": 3
      },
      "file_extension": ".py",
      "mimetype": "text/x-python",
      "name": "python",
      "nbconvert_exporter": "python",
      "pygments_lexer": "ipython3",
      "version": "3.9.6"
    }
  },
  "nbformat": 4,
  "nbformat_minor": 0
}