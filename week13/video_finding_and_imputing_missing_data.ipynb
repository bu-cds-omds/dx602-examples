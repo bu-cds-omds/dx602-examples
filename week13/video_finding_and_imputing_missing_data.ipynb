{
  "cells": [
    {
      "cell_type": "markdown",
      "metadata": {
        "id": "Jics5ItASMxr"
      },
      "source": [
        "# Video: Finding and Imputing Missing Data\n",
        "\n",
        "This video walks through basic checks for missing data, and common ways to fill it in."
      ]
    },
    {
      "cell_type": "code",
      "execution_count": null,
      "metadata": {
        "id": "5IbagpHOrfod"
      },
      "outputs": [],
      "source": [
        "import pandas as pd\n"
      ]
    },
    {
      "cell_type": "code",
      "execution_count": null,
      "metadata": {
        "colab": {
          "base_uri": "https://localhost:8080/",
          "height": 561
        },
        "id": "DgIt0OUMsfOz",
        "outputId": "442a595e-969d-4d4a-e590-21b505b0af8f"
      },
      "outputs": [
        {
          "data": {
            "application/vnd.google.colaboratory.intrinsic+json": {
              "summary": "{\n  \"name\": \"penguins\",\n  \"rows\": 344,\n  \"fields\": [\n    {\n      \"column\": \"Sample Number\",\n      \"properties\": {\n        \"dtype\": \"number\",\n        \"std\": 40,\n        \"min\": 1,\n        \"max\": 152,\n        \"num_unique_values\": 152,\n        \"samples\": [\n          69,\n          148,\n          97\n        ],\n        \"semantic_type\": \"\",\n        \"description\": \"\"\n      }\n    },\n    {\n      \"column\": \"studyName\",\n      \"properties\": {\n        \"dtype\": \"category\",\n        \"num_unique_values\": 3,\n        \"samples\": [\n          \"PAL0708\",\n          \"PAL0809\",\n          \"PAL0910\"\n        ],\n        \"semantic_type\": \"\",\n        \"description\": \"\"\n      }\n    },\n    {\n      \"column\": \"Species\",\n      \"properties\": {\n        \"dtype\": \"category\",\n        \"num_unique_values\": 3,\n        \"samples\": [\n          \"Adelie Penguin (Pygoscelis adeliae)\",\n          \"Gentoo penguin (Pygoscelis papua)\",\n          \"Chinstrap penguin (Pygoscelis antarctica)\"\n        ],\n        \"semantic_type\": \"\",\n        \"description\": \"\"\n      }\n    },\n    {\n      \"column\": \"Region\",\n      \"properties\": {\n        \"dtype\": \"category\",\n        \"num_unique_values\": 1,\n        \"samples\": [\n          \"Anvers\"\n        ],\n        \"semantic_type\": \"\",\n        \"description\": \"\"\n      }\n    },\n    {\n      \"column\": \"Island\",\n      \"properties\": {\n        \"dtype\": \"category\",\n        \"num_unique_values\": 3,\n        \"samples\": [\n          \"Torgersen\"\n        ],\n        \"semantic_type\": \"\",\n        \"description\": \"\"\n      }\n    },\n    {\n      \"column\": \"Stage\",\n      \"properties\": {\n        \"dtype\": \"category\",\n        \"num_unique_values\": 1,\n        \"samples\": [\n          \"Adult, 1 Egg Stage\"\n        ],\n        \"semantic_type\": \"\",\n        \"description\": \"\"\n      }\n    },\n    {\n      \"column\": \"Individual ID\",\n      \"properties\": {\n        \"dtype\": \"string\",\n        \"num_unique_values\": 190,\n        \"samples\": [\n          \"N92A2\"\n        ],\n        \"semantic_type\": \"\",\n        \"description\": \"\"\n      }\n    },\n    {\n      \"column\": \"Clutch Completion\",\n      \"properties\": {\n        \"dtype\": \"category\",\n        \"num_unique_values\": 2,\n        \"samples\": [\n          \"No\"\n        ],\n        \"semantic_type\": \"\",\n        \"description\": \"\"\n      }\n    },\n    {\n      \"column\": \"Date Egg\",\n      \"properties\": {\n        \"dtype\": \"object\",\n        \"num_unique_values\": 50,\n        \"samples\": [\n          \"2008-11-14\"\n        ],\n        \"semantic_type\": \"\",\n        \"description\": \"\"\n      }\n    },\n    {\n      \"column\": \"Culmen Length (mm)\",\n      \"properties\": {\n        \"dtype\": \"number\",\n        \"std\": 5.4595837139265315,\n        \"min\": 32.1,\n        \"max\": 59.6,\n        \"num_unique_values\": 164,\n        \"samples\": [\n          49.4\n        ],\n        \"semantic_type\": \"\",\n        \"description\": \"\"\n      }\n    },\n    {\n      \"column\": \"Culmen Depth (mm)\",\n      \"properties\": {\n        \"dtype\": \"number\",\n        \"std\": 1.9747931568167818,\n        \"min\": 13.1,\n        \"max\": 21.5,\n        \"num_unique_values\": 80,\n        \"samples\": [\n          16.9\n        ],\n        \"semantic_type\": \"\",\n        \"description\": \"\"\n      }\n    },\n    {\n      \"column\": \"Flipper Length (mm)\",\n      \"properties\": {\n        \"dtype\": \"number\",\n        \"std\": 14.061713679356888,\n        \"min\": 172.0,\n        \"max\": 231.0,\n        \"num_unique_values\": 55,\n        \"samples\": [\n          201.0\n        ],\n        \"semantic_type\": \"\",\n        \"description\": \"\"\n      }\n    },\n    {\n      \"column\": \"Body Mass (g)\",\n      \"properties\": {\n        \"dtype\": \"number\",\n        \"std\": 801.9545356980958,\n        \"min\": 2700.0,\n        \"max\": 6300.0,\n        \"num_unique_values\": 94,\n        \"samples\": [\n          4350.0\n        ],\n        \"semantic_type\": \"\",\n        \"description\": \"\"\n      }\n    },\n    {\n      \"column\": \"Sex\",\n      \"properties\": {\n        \"dtype\": \"category\",\n        \"num_unique_values\": 3,\n        \"samples\": [\n          \"MALE\"\n        ],\n        \"semantic_type\": \"\",\n        \"description\": \"\"\n      }\n    },\n    {\n      \"column\": \"Delta 15 N (o/oo)\",\n      \"properties\": {\n        \"dtype\": \"number\",\n        \"std\": 0.5517703369138499,\n        \"min\": 7.6322,\n        \"max\": 10.02544,\n        \"num_unique_values\": 330,\n        \"samples\": [\n          9.18528\n        ],\n        \"semantic_type\": \"\",\n        \"description\": \"\"\n      }\n    },\n    {\n      \"column\": \"Delta 13 C (o/oo)\",\n      \"properties\": {\n        \"dtype\": \"number\",\n        \"std\": 0.7939612110060313,\n        \"min\": -27.01854,\n        \"max\": -23.78767,\n        \"num_unique_values\": 331,\n        \"samples\": [\n          -25.0602\n        ],\n        \"semantic_type\": \"\",\n        \"description\": \"\"\n      }\n    },\n    {\n      \"column\": \"Comments\",\n      \"properties\": {\n        \"dtype\": \"category\",\n        \"num_unique_values\": 10,\n        \"samples\": [\n          \"Adult not sampled. Nest never observed with full clutch.\"\n        ],\n        \"semantic_type\": \"\",\n        \"description\": \"\"\n      }\n    }\n  ]\n}",
              "type": "dataframe",
              "variable_name": "penguins"
            },
            "text/html": [
              "\n",
              "  <div id=\"df-fa9df534-c79c-4462-93c5-20ecd5016a88\" class=\"colab-df-container\">\n",
              "    <div>\n",
              "<style scoped>\n",
              "    .dataframe tbody tr th:only-of-type {\n",
              "        vertical-align: middle;\n",
              "    }\n",
              "\n",
              "    .dataframe tbody tr th {\n",
              "        vertical-align: top;\n",
              "    }\n",
              "\n",
              "    .dataframe thead th {\n",
              "        text-align: right;\n",
              "    }\n",
              "</style>\n",
              "<table border=\"1\" class=\"dataframe\">\n",
              "  <thead>\n",
              "    <tr style=\"text-align: right;\">\n",
              "      <th></th>\n",
              "      <th>studyName</th>\n",
              "      <th>Species</th>\n",
              "      <th>Region</th>\n",
              "      <th>Island</th>\n",
              "      <th>Stage</th>\n",
              "      <th>Individual ID</th>\n",
              "      <th>Clutch Completion</th>\n",
              "      <th>Date Egg</th>\n",
              "      <th>Culmen Length (mm)</th>\n",
              "      <th>Culmen Depth (mm)</th>\n",
              "      <th>Flipper Length (mm)</th>\n",
              "      <th>Body Mass (g)</th>\n",
              "      <th>Sex</th>\n",
              "      <th>Delta 15 N (o/oo)</th>\n",
              "      <th>Delta 13 C (o/oo)</th>\n",
              "      <th>Comments</th>\n",
              "    </tr>\n",
              "    <tr>\n",
              "      <th>Sample Number</th>\n",
              "      <th></th>\n",
              "      <th></th>\n",
              "      <th></th>\n",
              "      <th></th>\n",
              "      <th></th>\n",
              "      <th></th>\n",
              "      <th></th>\n",
              "      <th></th>\n",
              "      <th></th>\n",
              "      <th></th>\n",
              "      <th></th>\n",
              "      <th></th>\n",
              "      <th></th>\n",
              "      <th></th>\n",
              "      <th></th>\n",
              "      <th></th>\n",
              "    </tr>\n",
              "  </thead>\n",
              "  <tbody>\n",
              "    <tr>\n",
              "      <th>1</th>\n",
              "      <td>PAL0708</td>\n",
              "      <td>Adelie Penguin (Pygoscelis adeliae)</td>\n",
              "      <td>Anvers</td>\n",
              "      <td>Torgersen</td>\n",
              "      <td>Adult, 1 Egg Stage</td>\n",
              "      <td>N1A1</td>\n",
              "      <td>Yes</td>\n",
              "      <td>2007-11-11</td>\n",
              "      <td>39.1</td>\n",
              "      <td>18.7</td>\n",
              "      <td>181.0</td>\n",
              "      <td>3750.0</td>\n",
              "      <td>MALE</td>\n",
              "      <td>NaN</td>\n",
              "      <td>NaN</td>\n",
              "      <td>Not enough blood for isotopes.</td>\n",
              "    </tr>\n",
              "    <tr>\n",
              "      <th>2</th>\n",
              "      <td>PAL0708</td>\n",
              "      <td>Adelie Penguin (Pygoscelis adeliae)</td>\n",
              "      <td>Anvers</td>\n",
              "      <td>Torgersen</td>\n",
              "      <td>Adult, 1 Egg Stage</td>\n",
              "      <td>N1A2</td>\n",
              "      <td>Yes</td>\n",
              "      <td>2007-11-11</td>\n",
              "      <td>39.5</td>\n",
              "      <td>17.4</td>\n",
              "      <td>186.0</td>\n",
              "      <td>3800.0</td>\n",
              "      <td>FEMALE</td>\n",
              "      <td>8.94956</td>\n",
              "      <td>-24.69454</td>\n",
              "      <td>NaN</td>\n",
              "    </tr>\n",
              "    <tr>\n",
              "      <th>3</th>\n",
              "      <td>PAL0708</td>\n",
              "      <td>Adelie Penguin (Pygoscelis adeliae)</td>\n",
              "      <td>Anvers</td>\n",
              "      <td>Torgersen</td>\n",
              "      <td>Adult, 1 Egg Stage</td>\n",
              "      <td>N2A1</td>\n",
              "      <td>Yes</td>\n",
              "      <td>2007-11-16</td>\n",
              "      <td>40.3</td>\n",
              "      <td>18.0</td>\n",
              "      <td>195.0</td>\n",
              "      <td>3250.0</td>\n",
              "      <td>FEMALE</td>\n",
              "      <td>8.36821</td>\n",
              "      <td>-25.33302</td>\n",
              "      <td>NaN</td>\n",
              "    </tr>\n",
              "    <tr>\n",
              "      <th>4</th>\n",
              "      <td>PAL0708</td>\n",
              "      <td>Adelie Penguin (Pygoscelis adeliae)</td>\n",
              "      <td>Anvers</td>\n",
              "      <td>Torgersen</td>\n",
              "      <td>Adult, 1 Egg Stage</td>\n",
              "      <td>N2A2</td>\n",
              "      <td>Yes</td>\n",
              "      <td>2007-11-16</td>\n",
              "      <td>NaN</td>\n",
              "      <td>NaN</td>\n",
              "      <td>NaN</td>\n",
              "      <td>NaN</td>\n",
              "      <td>NaN</td>\n",
              "      <td>NaN</td>\n",
              "      <td>NaN</td>\n",
              "      <td>Adult not sampled.</td>\n",
              "    </tr>\n",
              "    <tr>\n",
              "      <th>5</th>\n",
              "      <td>PAL0708</td>\n",
              "      <td>Adelie Penguin (Pygoscelis adeliae)</td>\n",
              "      <td>Anvers</td>\n",
              "      <td>Torgersen</td>\n",
              "      <td>Adult, 1 Egg Stage</td>\n",
              "      <td>N3A1</td>\n",
              "      <td>Yes</td>\n",
              "      <td>2007-11-16</td>\n",
              "      <td>36.7</td>\n",
              "      <td>19.3</td>\n",
              "      <td>193.0</td>\n",
              "      <td>3450.0</td>\n",
              "      <td>FEMALE</td>\n",
              "      <td>8.76651</td>\n",
              "      <td>-25.32426</td>\n",
              "      <td>NaN</td>\n",
              "    </tr>\n",
              "  </tbody>\n",
              "</table>\n",
              "</div>\n",
              "    <div class=\"colab-df-buttons\">\n",
              "\n",
              "  <div class=\"colab-df-container\">\n",
              "    <button class=\"colab-df-convert\" onclick=\"convertToInteractive('df-fa9df534-c79c-4462-93c5-20ecd5016a88')\"\n",
              "            title=\"Convert this dataframe to an interactive table.\"\n",
              "            style=\"display:none;\">\n",
              "\n",
              "  <svg xmlns=\"http://www.w3.org/2000/svg\" height=\"24px\" viewBox=\"0 -960 960 960\">\n",
              "    <path d=\"M120-120v-720h720v720H120Zm60-500h600v-160H180v160Zm220 220h160v-160H400v160Zm0 220h160v-160H400v160ZM180-400h160v-160H180v160Zm440 0h160v-160H620v160ZM180-180h160v-160H180v160Zm440 0h160v-160H620v160Z\"/>\n",
              "  </svg>\n",
              "    </button>\n",
              "\n",
              "  <style>\n",
              "    .colab-df-container {\n",
              "      display:flex;\n",
              "      gap: 12px;\n",
              "    }\n",
              "\n",
              "    .colab-df-convert {\n",
              "      background-color: #E8F0FE;\n",
              "      border: none;\n",
              "      border-radius: 50%;\n",
              "      cursor: pointer;\n",
              "      display: none;\n",
              "      fill: #1967D2;\n",
              "      height: 32px;\n",
              "      padding: 0 0 0 0;\n",
              "      width: 32px;\n",
              "    }\n",
              "\n",
              "    .colab-df-convert:hover {\n",
              "      background-color: #E2EBFA;\n",
              "      box-shadow: 0px 1px 2px rgba(60, 64, 67, 0.3), 0px 1px 3px 1px rgba(60, 64, 67, 0.15);\n",
              "      fill: #174EA6;\n",
              "    }\n",
              "\n",
              "    .colab-df-buttons div {\n",
              "      margin-bottom: 4px;\n",
              "    }\n",
              "\n",
              "    [theme=dark] .colab-df-convert {\n",
              "      background-color: #3B4455;\n",
              "      fill: #D2E3FC;\n",
              "    }\n",
              "\n",
              "    [theme=dark] .colab-df-convert:hover {\n",
              "      background-color: #434B5C;\n",
              "      box-shadow: 0px 1px 3px 1px rgba(0, 0, 0, 0.15);\n",
              "      filter: drop-shadow(0px 1px 2px rgba(0, 0, 0, 0.3));\n",
              "      fill: #FFFFFF;\n",
              "    }\n",
              "  </style>\n",
              "\n",
              "    <script>\n",
              "      const buttonEl =\n",
              "        document.querySelector('#df-fa9df534-c79c-4462-93c5-20ecd5016a88 button.colab-df-convert');\n",
              "      buttonEl.style.display =\n",
              "        google.colab.kernel.accessAllowed ? 'block' : 'none';\n",
              "\n",
              "      async function convertToInteractive(key) {\n",
              "        const element = document.querySelector('#df-fa9df534-c79c-4462-93c5-20ecd5016a88');\n",
              "        const dataTable =\n",
              "          await google.colab.kernel.invokeFunction('convertToInteractive',\n",
              "                                                    [key], {});\n",
              "        if (!dataTable) return;\n",
              "\n",
              "        const docLinkHtml = 'Like what you see? Visit the ' +\n",
              "          '<a target=\"_blank\" href=https://colab.research.google.com/notebooks/data_table.ipynb>data table notebook</a>'\n",
              "          + ' to learn more about interactive tables.';\n",
              "        element.innerHTML = '';\n",
              "        dataTable['output_type'] = 'display_data';\n",
              "        await google.colab.output.renderOutput(dataTable, element);\n",
              "        const docLink = document.createElement('div');\n",
              "        docLink.innerHTML = docLinkHtml;\n",
              "        element.appendChild(docLink);\n",
              "      }\n",
              "    </script>\n",
              "  </div>\n",
              "\n",
              "\n",
              "    <div id=\"df-5b09aad0-f283-40a6-b732-b27db17c9c9c\">\n",
              "      <button class=\"colab-df-quickchart\" onclick=\"quickchart('df-5b09aad0-f283-40a6-b732-b27db17c9c9c')\"\n",
              "                title=\"Suggest charts\"\n",
              "                style=\"display:none;\">\n",
              "\n",
              "<svg xmlns=\"http://www.w3.org/2000/svg\" height=\"24px\"viewBox=\"0 0 24 24\"\n",
              "     width=\"24px\">\n",
              "    <g>\n",
              "        <path d=\"M19 3H5c-1.1 0-2 .9-2 2v14c0 1.1.9 2 2 2h14c1.1 0 2-.9 2-2V5c0-1.1-.9-2-2-2zM9 17H7v-7h2v7zm4 0h-2V7h2v10zm4 0h-2v-4h2v4z\"/>\n",
              "    </g>\n",
              "</svg>\n",
              "      </button>\n",
              "\n",
              "<style>\n",
              "  .colab-df-quickchart {\n",
              "      --bg-color: #E8F0FE;\n",
              "      --fill-color: #1967D2;\n",
              "      --hover-bg-color: #E2EBFA;\n",
              "      --hover-fill-color: #174EA6;\n",
              "      --disabled-fill-color: #AAA;\n",
              "      --disabled-bg-color: #DDD;\n",
              "  }\n",
              "\n",
              "  [theme=dark] .colab-df-quickchart {\n",
              "      --bg-color: #3B4455;\n",
              "      --fill-color: #D2E3FC;\n",
              "      --hover-bg-color: #434B5C;\n",
              "      --hover-fill-color: #FFFFFF;\n",
              "      --disabled-bg-color: #3B4455;\n",
              "      --disabled-fill-color: #666;\n",
              "  }\n",
              "\n",
              "  .colab-df-quickchart {\n",
              "    background-color: var(--bg-color);\n",
              "    border: none;\n",
              "    border-radius: 50%;\n",
              "    cursor: pointer;\n",
              "    display: none;\n",
              "    fill: var(--fill-color);\n",
              "    height: 32px;\n",
              "    padding: 0;\n",
              "    width: 32px;\n",
              "  }\n",
              "\n",
              "  .colab-df-quickchart:hover {\n",
              "    background-color: var(--hover-bg-color);\n",
              "    box-shadow: 0 1px 2px rgba(60, 64, 67, 0.3), 0 1px 3px 1px rgba(60, 64, 67, 0.15);\n",
              "    fill: var(--button-hover-fill-color);\n",
              "  }\n",
              "\n",
              "  .colab-df-quickchart-complete:disabled,\n",
              "  .colab-df-quickchart-complete:disabled:hover {\n",
              "    background-color: var(--disabled-bg-color);\n",
              "    fill: var(--disabled-fill-color);\n",
              "    box-shadow: none;\n",
              "  }\n",
              "\n",
              "  .colab-df-spinner {\n",
              "    border: 2px solid var(--fill-color);\n",
              "    border-color: transparent;\n",
              "    border-bottom-color: var(--fill-color);\n",
              "    animation:\n",
              "      spin 1s steps(1) infinite;\n",
              "  }\n",
              "\n",
              "  @keyframes spin {\n",
              "    0% {\n",
              "      border-color: transparent;\n",
              "      border-bottom-color: var(--fill-color);\n",
              "      border-left-color: var(--fill-color);\n",
              "    }\n",
              "    20% {\n",
              "      border-color: transparent;\n",
              "      border-left-color: var(--fill-color);\n",
              "      border-top-color: var(--fill-color);\n",
              "    }\n",
              "    30% {\n",
              "      border-color: transparent;\n",
              "      border-left-color: var(--fill-color);\n",
              "      border-top-color: var(--fill-color);\n",
              "      border-right-color: var(--fill-color);\n",
              "    }\n",
              "    40% {\n",
              "      border-color: transparent;\n",
              "      border-right-color: var(--fill-color);\n",
              "      border-top-color: var(--fill-color);\n",
              "    }\n",
              "    60% {\n",
              "      border-color: transparent;\n",
              "      border-right-color: var(--fill-color);\n",
              "    }\n",
              "    80% {\n",
              "      border-color: transparent;\n",
              "      border-right-color: var(--fill-color);\n",
              "      border-bottom-color: var(--fill-color);\n",
              "    }\n",
              "    90% {\n",
              "      border-color: transparent;\n",
              "      border-bottom-color: var(--fill-color);\n",
              "    }\n",
              "  }\n",
              "</style>\n",
              "\n",
              "      <script>\n",
              "        async function quickchart(key) {\n",
              "          const quickchartButtonEl =\n",
              "            document.querySelector('#' + key + ' button');\n",
              "          quickchartButtonEl.disabled = true;  // To prevent multiple clicks.\n",
              "          quickchartButtonEl.classList.add('colab-df-spinner');\n",
              "          try {\n",
              "            const charts = await google.colab.kernel.invokeFunction(\n",
              "                'suggestCharts', [key], {});\n",
              "          } catch (error) {\n",
              "            console.error('Error during call to suggestCharts:', error);\n",
              "          }\n",
              "          quickchartButtonEl.classList.remove('colab-df-spinner');\n",
              "          quickchartButtonEl.classList.add('colab-df-quickchart-complete');\n",
              "        }\n",
              "        (() => {\n",
              "          let quickchartButtonEl =\n",
              "            document.querySelector('#df-5b09aad0-f283-40a6-b732-b27db17c9c9c button');\n",
              "          quickchartButtonEl.style.display =\n",
              "            google.colab.kernel.accessAllowed ? 'block' : 'none';\n",
              "        })();\n",
              "      </script>\n",
              "    </div>\n",
              "\n",
              "    </div>\n",
              "  </div>\n"
            ],
            "text/plain": [
              "              studyName                              Species  Region  \\\n",
              "Sample Number                                                          \n",
              "1               PAL0708  Adelie Penguin (Pygoscelis adeliae)  Anvers   \n",
              "2               PAL0708  Adelie Penguin (Pygoscelis adeliae)  Anvers   \n",
              "3               PAL0708  Adelie Penguin (Pygoscelis adeliae)  Anvers   \n",
              "4               PAL0708  Adelie Penguin (Pygoscelis adeliae)  Anvers   \n",
              "5               PAL0708  Adelie Penguin (Pygoscelis adeliae)  Anvers   \n",
              "\n",
              "                  Island               Stage Individual ID Clutch Completion  \\\n",
              "Sample Number                                                                  \n",
              "1              Torgersen  Adult, 1 Egg Stage          N1A1               Yes   \n",
              "2              Torgersen  Adult, 1 Egg Stage          N1A2               Yes   \n",
              "3              Torgersen  Adult, 1 Egg Stage          N2A1               Yes   \n",
              "4              Torgersen  Adult, 1 Egg Stage          N2A2               Yes   \n",
              "5              Torgersen  Adult, 1 Egg Stage          N3A1               Yes   \n",
              "\n",
              "                 Date Egg  Culmen Length (mm)  Culmen Depth (mm)  \\\n",
              "Sample Number                                                      \n",
              "1              2007-11-11                39.1               18.7   \n",
              "2              2007-11-11                39.5               17.4   \n",
              "3              2007-11-16                40.3               18.0   \n",
              "4              2007-11-16                 NaN                NaN   \n",
              "5              2007-11-16                36.7               19.3   \n",
              "\n",
              "               Flipper Length (mm)  Body Mass (g)     Sex  Delta 15 N (o/oo)  \\\n",
              "Sample Number                                                                  \n",
              "1                            181.0         3750.0    MALE                NaN   \n",
              "2                            186.0         3800.0  FEMALE            8.94956   \n",
              "3                            195.0         3250.0  FEMALE            8.36821   \n",
              "4                              NaN            NaN     NaN                NaN   \n",
              "5                            193.0         3450.0  FEMALE            8.76651   \n",
              "\n",
              "               Delta 13 C (o/oo)                        Comments  \n",
              "Sample Number                                                     \n",
              "1                            NaN  Not enough blood for isotopes.  \n",
              "2                      -24.69454                             NaN  \n",
              "3                      -25.33302                             NaN  \n",
              "4                            NaN              Adult not sampled.  \n",
              "5                      -25.32426                             NaN  "
            ]
          },
          "execution_count": null,
          "metadata": {},
          "output_type": "execute_result"
        }
      ],
      "source": [
        "penguins_adelie = pd.read_csv(\"https://raw.githubusercontent.com/bu-cds-omds/dx601-examples/refs/heads/main/data/palmer-penguins-adelie.csv\", index_col=\"Sample Number\")\n",
        "penguins_gentoo = pd.read_csv(\"https://raw.githubusercontent.com/bu-cds-omds/dx601-examples/refs/heads/main/data/palmer-penguins-gentoo.csv\", index_col=\"Sample Number\")\n",
        "penguins_chinstrap = pd.read_csv(\"https://raw.githubusercontent.com/bu-cds-omds/dx601-examples/refs/heads/main/data/palmer-penguins-chinstrap.csv\", index_col=\"Sample Number\")\n",
        "penguins = pd.concat([penguins_adelie, penguins_gentoo, penguins_chinstrap])\n",
        "penguins.head()"
      ]
    },
    {
      "cell_type": "markdown",
      "metadata": {
        "id": "gqp0WTYwosFx"
      },
      "source": [
        "Script:\n",
        "* The first five rows of the penguins data set have 2 rows with visibly missing values.\n",
        "* This was an easy case, so we know that there is missing data, but we do not yet know the full extent of it.\n",
        "* When looking for missing data, the first three things you should do are check the documentation, plot a histogram, and check for NA values in the data frame that you loaded.\n",
        "* For this video, I'll assume that you looked at the documentation already, and go straight to the histogram."
      ]
    },
    {
      "cell_type": "code",
      "execution_count": null,
      "metadata": {
        "id": "-pJqXqOMtLfs"
      },
      "outputs": [],
      "source": [
        "penguins.hist()"
      ]
    },
    {
      "cell_type": "markdown",
      "metadata": {
        "id": "hGkI6vBHtXUL"
      },
      "source": [
        "Script:\n",
        "* These histograms are not pretty, but you can see quickly that there aren't any huge unexpected spikes at particular values.\n",
        "* However, this view is incomplete.\n",
        "* It only covers numeric columns, and does not include values that pandas calls N/A.\n",
        "* How can we look at those?\n",
        "* There are a couple quick ways."
      ]
    },
    {
      "cell_type": "code",
      "execution_count": null,
      "metadata": {
        "id": "Pokvuh0pttaB"
      },
      "outputs": [],
      "source": [
        "penguins.count()"
      ]
    },
    {
      "cell_type": "markdown",
      "metadata": {
        "id": "MCMTOlZkt5Oz"
      },
      "source": [
        "Script:\n",
        "* The count method on a data frame will quickly count the number of present values for each column.\n",
        "* So if a column has missing values, then it will have a lower count shown.\n",
        "* So in this case, the sex and delta columns in particular have a number of missing values.\n",
        "* The comments column on the otherhand is mostly missing values.\n",
        "* Beware that this check is quick but you need to make sure you are comparing to the length of the data frame, its number of rows, not the highest value shown in the count results.\n",
        "* They may be different if every column is missing at least one value.\n",
        "* A more direct way to check for missing values is to use the `isna` method to explicitly check for missing data recognized by pandas, and then sum up the number found by column."
      ]
    },
    {
      "cell_type": "code",
      "execution_count": null,
      "metadata": {
        "id": "dyfa5MIAuiau"
      },
      "outputs": [],
      "source": [
        "penguins.isna().sum()"
      ]
    },
    {
      "cell_type": "markdown",
      "metadata": {
        "id": "xVuyJ24_u99B"
      },
      "source": [
        "Script:\n",
        "* This view makes it a little more obvious at a glance that there are a few physical measurements missing, not just the sex and blood isotope ratios and comments.\n",
        "* So what should you do to fill in the missing data?\n",
        "* This is very context dependent, and column dependent too.\n",
        "* For most of these columns, you could probably fill in the mean or median value and get reasonable results.\n",
        "* But what about the Sex column?\n",
        "* That column has string values - female or male.\n",
        "* If we pick a value to fill in there, we will be prone to skewing the data set in some way.\n",
        "* Think carefully before you fill in non-numeric values.\n",
        "* So how do we fill in the missing values?\n",
        "* Scikit-Learn has a class SimpleImputer to take care of most cases."
      ]
    },
    {
      "cell_type": "code",
      "execution_count": null,
      "metadata": {
        "id": "_-rbnKrzwdyZ"
      },
      "outputs": [],
      "source": [
        "from sklearn.impute import SimpleImputer"
      ]
    },
    {
      "cell_type": "code",
      "execution_count": null,
      "metadata": {
        "id": "3d0lFzP4ygFf"
      },
      "outputs": [],
      "source": [
        "imputer = SimpleImputer(strategy=\"mean\")"
      ]
    },
    {
      "cell_type": "markdown",
      "metadata": {
        "id": "yacEvKajyh4U"
      },
      "source": [
        "Script:\n",
        "* If there is a sentinel value like -1 that you found in the documentation or histogram, you can pass a `missing_values` parameter when creating the `SimpleImputer` object to replace that value.\n",
        "* You can also use different calculations for the replacement values such as the median, mode, or a constant by changing the strategy value.\n",
        "* Let's stick with the mean here and calculate that value to fill in now."
      ]
    },
    {
      "cell_type": "code",
      "execution_count": null,
      "metadata": {
        "id": "Pm7JRgCJwjD2"
      },
      "outputs": [],
      "source": [
        "imputer.fit(penguins)"
      ]
    },
    {
      "cell_type": "markdown",
      "metadata": {
        "id": "z1RZMf3WxMEZ"
      },
      "source": [
        "Script:\n",
        "* The main limitation of this class is that it is for numeric data, not strings.\n",
        "* So it won't work for these id columns which would be sketchy anyway, and it won't work for the sex column that we already talked about.\n",
        "* Let's apply it to just the numeric columns."
      ]
    },
    {
      "cell_type": "code",
      "execution_count": null,
      "metadata": {
        "id": "_RQ18qaqxldq"
      },
      "outputs": [],
      "source": [
        "penguins.info()"
      ]
    },
    {
      "cell_type": "code",
      "execution_count": null,
      "metadata": {
        "id": "B91LoIVqxZMA"
      },
      "outputs": [],
      "source": [
        "penguins_numeric_columns = [c for c in penguins.columns if penguins[c].dtype == \"float64\"]\n",
        "penguins_numeric_columns"
      ]
    },
    {
      "cell_type": "code",
      "execution_count": null,
      "metadata": {
        "id": "MsbHQyP9xtW4"
      },
      "outputs": [],
      "source": [
        "imputer = SimpleImputer(strategy=\"mean\")\n",
        "imputer.fit(penguins[penguins_numeric_columns])"
      ]
    },
    {
      "cell_type": "markdown",
      "metadata": {
        "id": "RTVrVDGAzJWH"
      },
      "source": [
        "Script:\n",
        "* Now that the imputer has fit the mean of the numeric columns, we can use it to fill in missing data.\n",
        "* The imputer will reject inputs that do not match the input columns, so we will just pass in the numeric columns now."
      ]
    },
    {
      "cell_type": "code",
      "execution_count": null,
      "metadata": {
        "id": "TH4ChXjgxwAd"
      },
      "outputs": [],
      "source": [
        "imputer.transform(penguins[penguins_numeric_columns])"
      ]
    },
    {
      "cell_type": "markdown",
      "metadata": {
        "id": "bMqZKyHSzUJE"
      },
      "source": [
        "Script:\n",
        "* We can update the numeric columns by assigning the transform output to them.\n",
        "* I will do that now with a copy of the penguins data frame so we can compare afterwards."
      ]
    },
    {
      "cell_type": "code",
      "execution_count": null,
      "metadata": {
        "id": "__0CPtPSx3Mo"
      },
      "outputs": [],
      "source": [
        "penguins_new = penguins.copy()\n",
        "penguins_new[penguins_numeric_columns] = imputer.transform(penguins[penguins_numeric_columns])"
      ]
    },
    {
      "cell_type": "code",
      "execution_count": null,
      "metadata": {
        "id": "uWI1oEKzx73N"
      },
      "outputs": [],
      "source": [
        "penguins_new.head()"
      ]
    },
    {
      "cell_type": "markdown",
      "metadata": {
        "id": "y4mi9vlgzfT5"
      },
      "source": [
        "Script:\n",
        "* Now all the NaN values are gone from those early rows except the missing Sex calue.\n",
        "* And for comparison..."
      ]
    },
    {
      "cell_type": "code",
      "execution_count": null,
      "metadata": {
        "id": "aiS8D1wAyJ7j"
      },
      "outputs": [],
      "source": [
        "penguins.head()"
      ]
    },
    {
      "cell_type": "markdown",
      "metadata": {
        "id": "qh5o2LQQsb0t"
      },
      "source": [
        "Script:\n",
        "* We started with many missing values and quickly replaced most of them with the column mean using the `SimpleImputer` class.\n",
        "* We could something similar with the missing values in the Sex column using the `SimpleImputer` class, but you should think carefully about what you fill in there before doing so."
      ]
    }
  ],
  "metadata": {
    "colab": {},
    "kernelspec": {
      "display_name": "Python 3",
      "name": "python3"
    },
    "language_info": {
      "codemirror_mode": {
        "name": "ipython",
        "version": 3
      },
      "file_extension": ".py",
      "mimetype": "text/x-python",
      "name": "python",
      "nbconvert_exporter": "python",
      "pygments_lexer": "ipython3",
      "version": "3.9.6"
    }
  },
  "nbformat": 4,
  "nbformat_minor": 0
}