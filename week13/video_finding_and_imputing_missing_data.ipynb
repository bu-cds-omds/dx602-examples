{
  "cells": [
    {
      "cell_type": "markdown",
      "metadata": {
        "id": "Jics5ItASMxr"
      },
      "source": [
        "# Video: Finding and Imputing Missing Data\n",
        "\n",
        "This video walks through basic checks for missing data, and common ways to fill it in."
      ]
    },
    {
      "cell_type": "code",
      "execution_count": null,
      "metadata": {
        "id": "5IbagpHOrfod"
      },
      "outputs": [],
      "source": [
        "import pandas as pd\n"
      ]
    },
    {
      "cell_type": "code",
      "execution_count": null,
      "metadata": {
        "id": "DgIt0OUMsfOz"
      },
      "outputs": [],
      "source": [
        "penguins_adelie = pd.read_csv(\"https://portal.edirepository.org/nis/dataviewer?packageid=knb-lter-pal.219.3&entityid=002f3893385f710df69eeebe893144ff\", index_col=\"Sample Number\")\n",
        "penguins_gentoo = pd.read_csv(\"https://portal.edirepository.org/nis/dataviewer?packageid=knb-lter-pal.220.3&entityid=e03b43c924f226486f2f0ab6709d2381\", index_col=\"Sample Number\")\n",
        "penguins_chinstrap = pd.read_csv(\"https://portal.edirepository.org/nis/dataviewer?packageid=knb-lter-pal.221.2&entityid=fe853aa8f7a59aa84cdd3197619ef462\", index_col=\"Sample Number\")\n",
        "penguins = pd.concat([penguins_adelie, penguins_gentoo, penguins_chinstrap])\n",
        "penguins.head()"
      ]
    },
    {
      "cell_type": "markdown",
      "metadata": {
        "id": "gqp0WTYwosFx"
      },
      "source": [
        "Script:\n",
        "* The first five rows of the penguins data set have 2 rows with visibly missing values.\n",
        "* This was an easy case, so we know that there is missing data, but we do not yet know the full extent of it.\n",
        "* When looking for missing data, the first three things you should do are check the documentation, plot a histogram, and check for NA values in the data frame that you loaded.\n",
        "* For this video, I'll assume that you looked at the documentation already, and go straight to the histogram."
      ]
    },
    {
      "cell_type": "code",
      "execution_count": null,
      "metadata": {
        "id": "-pJqXqOMtLfs"
      },
      "outputs": [],
      "source": [
        "penguins.hist()"
      ]
    },
    {
      "cell_type": "markdown",
      "metadata": {
        "id": "hGkI6vBHtXUL"
      },
      "source": [
        "Script:\n",
        "* These histograms are not pretty, but you can see quickly that there aren't any huge unexpected spikes at particular values.\n",
        "* However, this view is incomplete.\n",
        "* It only covers numeric columns, and does not include values that pandas calls N/A.\n",
        "* How can we look at those?\n",
        "* There are a couple quick ways."
      ]
    },
    {
      "cell_type": "code",
      "execution_count": null,
      "metadata": {
        "id": "Pokvuh0pttaB"
      },
      "outputs": [],
      "source": [
        "penguins.count()"
      ]
    },
    {
      "cell_type": "markdown",
      "metadata": {
        "id": "MCMTOlZkt5Oz"
      },
      "source": [
        "Script:\n",
        "* The count method on a data frame will quickly count the number of present values for each column.\n",
        "* So if a column has missing values, then it will have a lower count shown.\n",
        "* So in this case, the sex and delta columns in particular have a number of missing values.\n",
        "* The comments column on the otherhand is mostly missing values.\n",
        "* Beware that this check is quick but you need to make sure you are comparing to the length of the data frame, its number of rows, not the highest value shown in the count results.\n",
        "* They may be different if every column is missing at least one value.\n",
        "* A more direct way to check for missing values is to use the `isna` method to explicitly check for missing data recognized by pandas, and then sum up the number found by column."
      ]
    },
    {
      "cell_type": "code",
      "execution_count": null,
      "metadata": {
        "id": "dyfa5MIAuiau"
      },
      "outputs": [],
      "source": [
        "penguins.isna().sum()"
      ]
    },
    {
      "cell_type": "markdown",
      "metadata": {
        "id": "xVuyJ24_u99B"
      },
      "source": [
        "Script:\n",
        "* This view makes it a little more obvious at a glance that there are a few physical measurements missing, not just the sex and blood isotope ratios and comments.\n",
        "* So what should you do to fill in the missing data?\n",
        "* This is very context dependent, and column dependent too.\n",
        "* For most of these columns, you could probably fill in the mean or median value and get reasonable results.\n",
        "* But what about the Sex column?\n",
        "* That column has string values - female or male.\n",
        "* If we pick a value to fill in there, we will be prone to skewing the data set in some way.\n",
        "* Think carefully before you fill in non-numeric values.\n",
        "* So how do we fill in the missing values?\n",
        "* Scikit-Learn has a class SimpleImputer to take care of most cases."
      ]
    },
    {
      "cell_type": "code",
      "execution_count": null,
      "metadata": {
        "id": "_-rbnKrzwdyZ"
      },
      "outputs": [],
      "source": [
        "from sklearn.impute import SimpleImputer"
      ]
    },
    {
      "cell_type": "code",
      "execution_count": null,
      "metadata": {
        "id": "3d0lFzP4ygFf"
      },
      "outputs": [],
      "source": [
        "imputer = SimpleImputer(strategy=\"mean\")"
      ]
    },
    {
      "cell_type": "markdown",
      "metadata": {
        "id": "yacEvKajyh4U"
      },
      "source": [
        "Script:\n",
        "* If there is a sentinel value like -1 that you found in the documentation or histogram, you can pass a `missing_values` parameter when creating the `SimpleImputer` object to replace that value.\n",
        "* You can also use different calculations for the replacement values such as the median, mode, or a constant by changing the strategy value.\n",
        "* Let's stick with the mean here and calculate that value to fill in now."
      ]
    },
    {
      "cell_type": "code",
      "execution_count": null,
      "metadata": {
        "id": "Pm7JRgCJwjD2"
      },
      "outputs": [],
      "source": [
        "imputer.fit(penguins)"
      ]
    },
    {
      "cell_type": "markdown",
      "metadata": {
        "id": "z1RZMf3WxMEZ"
      },
      "source": [
        "Script:\n",
        "* The main limitation of this class is that it is for numeric data, not strings.\n",
        "* So it won't work for these id columns which would be sketchy anyway, and it won't work for the sex column that we already talked about.\n",
        "* Let's apply it to just the numeric columns."
      ]
    },
    {
      "cell_type": "code",
      "execution_count": null,
      "metadata": {
        "id": "_RQ18qaqxldq"
      },
      "outputs": [],
      "source": [
        "penguins.info()"
      ]
    },
    {
      "cell_type": "code",
      "execution_count": null,
      "metadata": {
        "id": "B91LoIVqxZMA"
      },
      "outputs": [],
      "source": [
        "penguins_numeric_columns = [c for c in penguins.columns if penguins[c].dtype == \"float64\"]\n",
        "penguins_numeric_columns"
      ]
    },
    {
      "cell_type": "code",
      "execution_count": null,
      "metadata": {
        "id": "MsbHQyP9xtW4"
      },
      "outputs": [],
      "source": [
        "imputer = SimpleImputer(strategy=\"mean\")\n",
        "imputer.fit(penguins[penguins_numeric_columns])"
      ]
    },
    {
      "cell_type": "markdown",
      "metadata": {
        "id": "RTVrVDGAzJWH"
      },
      "source": [
        "Script:\n",
        "* Now that the imputer has fit the mean of the numeric columns, we can use it to fill in missing data.\n",
        "* The imputer will reject inputs that do not match the input columns, so we will just pass in the numeric columns now."
      ]
    },
    {
      "cell_type": "code",
      "execution_count": null,
      "metadata": {
        "id": "TH4ChXjgxwAd"
      },
      "outputs": [],
      "source": [
        "imputer.transform(penguins[penguins_numeric_columns])"
      ]
    },
    {
      "cell_type": "markdown",
      "metadata": {
        "id": "bMqZKyHSzUJE"
      },
      "source": [
        "Script:\n",
        "* We can update the numeric columns by assigning the transform output to them.\n",
        "* I will do that now with a copy of the penguins data frame so we can compare afterwards."
      ]
    },
    {
      "cell_type": "code",
      "execution_count": null,
      "metadata": {
        "id": "__0CPtPSx3Mo"
      },
      "outputs": [],
      "source": [
        "penguins_new = penguins.copy()\n",
        "penguins_new[penguins_numeric_columns] = imputer.transform(penguins[penguins_numeric_columns])"
      ]
    },
    {
      "cell_type": "code",
      "execution_count": null,
      "metadata": {
        "id": "uWI1oEKzx73N"
      },
      "outputs": [],
      "source": [
        "penguins_new.head()"
      ]
    },
    {
      "cell_type": "markdown",
      "metadata": {
        "id": "y4mi9vlgzfT5"
      },
      "source": [
        "Script:\n",
        "* Now all the NaN values are gone from those early rows except the missing Sex calue.\n",
        "* And for comparison..."
      ]
    },
    {
      "cell_type": "code",
      "execution_count": null,
      "metadata": {
        "id": "aiS8D1wAyJ7j"
      },
      "outputs": [],
      "source": [
        "penguins.head()"
      ]
    },
    {
      "cell_type": "markdown",
      "metadata": {
        "id": "qh5o2LQQsb0t"
      },
      "source": [
        "Script:\n",
        "* We started with many missing values and quickly replaced most of them with the column mean using the `SimpleImputer` class.\n",
        "* We could something similar with the missing values in the Sex column using the `SimpleImputer` class, but you should think carefully about what you fill in there before doing so."
      ]
    }
  ],
  "metadata": {
    "colab": {},
    "kernelspec": {
      "display_name": "Python 3",
      "name": "python3"
    },
    "language_info": {
      "codemirror_mode": {
        "name": "ipython",
        "version": 3
      },
      "file_extension": ".py",
      "mimetype": "text/x-python",
      "name": "python",
      "nbconvert_exporter": "python",
      "pygments_lexer": "ipython3",
      "version": "3.9.6"
    }
  },
  "nbformat": 4,
  "nbformat_minor": 0
}