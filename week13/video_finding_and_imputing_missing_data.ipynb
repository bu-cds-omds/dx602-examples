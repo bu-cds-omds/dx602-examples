{
  "cells": [
    {
      "cell_type": "markdown",
      "metadata": {
        "id": "Jics5ItASMxr"
      },
      "source": [
        "# Video: Finding and Imputing Missing Data\n",
        "\n",
        "This video walks through basic checks for missing data, and common ways to fill it in."
      ]
    },
    {
      "cell_type": "code",
      "execution_count": null,
      "metadata": {
        "id": "5IbagpHOrfod"
      },
      "outputs": [],
      "source": [
        "import pandas as pd\n"
      ]
    },
    {
      "cell_type": "code",
      "execution_count": null,
      "metadata": {
        "id": "DgIt0OUMsfOz"
      },
      "outputs": [],
      "source": [
        "penguins_adelie = pd.read_csv(\"https://portal.edirepository.org/nis/dataviewer?packageid=knb-lter-pal.219.3&entityid=002f3893385f710df69eeebe893144ff\", index_col=\"Sample Number\")\n",
        "penguins_gentoo = pd.read_csv(\"https://portal.edirepository.org/nis/dataviewer?packageid=knb-lter-pal.220.3&entityid=e03b43c924f226486f2f0ab6709d2381\", index_col=\"Sample Number\")\n",
        "penguins_chinstrap = pd.read_csv(\"https://portal.edirepository.org/nis/dataviewer?packageid=knb-lter-pal.221.2&entityid=fe853aa8f7a59aa84cdd3197619ef462\", index_col=\"Sample Number\")\n",
        "penguins = pd.concat([penguins_adelie, penguins_gentoo, penguins_chinstrap])\n",
        "penguins.head()"
      ]
    },
    {
      "cell_type": "code",
      "execution_count": null,
      "metadata": {
        "id": "-pJqXqOMtLfs"
      },
      "outputs": [],
      "source": [
        "penguins.hist()"
      ]
    },
    {
      "cell_type": "code",
      "execution_count": null,
      "metadata": {
        "id": "Pokvuh0pttaB"
      },
      "outputs": [],
      "source": [
        "penguins.count()"
      ]
    },
    {
      "cell_type": "code",
      "execution_count": null,
      "metadata": {
        "id": "dyfa5MIAuiau"
      },
      "outputs": [],
      "source": [
        "penguins.isna().sum()"
      ]
    },
    {
      "cell_type": "code",
      "execution_count": null,
      "metadata": {
        "id": "_-rbnKrzwdyZ"
      },
      "outputs": [],
      "source": [
        "from sklearn.impute import SimpleImputer"
      ]
    },
    {
      "cell_type": "code",
      "execution_count": null,
      "metadata": {
        "id": "3d0lFzP4ygFf"
      },
      "outputs": [],
      "source": [
        "imputer = SimpleImputer(strategy=\"mean\")"
      ]
    },
    {
      "cell_type": "code",
      "execution_count": null,
      "metadata": {
        "id": "Pm7JRgCJwjD2"
      },
      "outputs": [],
      "source": [
        "imputer.fit(penguins)"
      ]
    },
    {
      "cell_type": "code",
      "execution_count": null,
      "metadata": {
        "id": "_RQ18qaqxldq"
      },
      "outputs": [],
      "source": [
        "penguins.info()"
      ]
    },
    {
      "cell_type": "code",
      "execution_count": null,
      "metadata": {
        "id": "B91LoIVqxZMA"
      },
      "outputs": [],
      "source": [
        "penguins_numeric_columns = [c for c in penguins.columns if penguins[c].dtype == \"float64\"]\n",
        "penguins_numeric_columns"
      ]
    },
    {
      "cell_type": "code",
      "execution_count": null,
      "metadata": {
        "id": "MsbHQyP9xtW4"
      },
      "outputs": [],
      "source": [
        "imputer = SimpleImputer(strategy=\"mean\")\n",
        "imputer.fit(penguins[penguins_numeric_columns])"
      ]
    },
    {
      "cell_type": "code",
      "execution_count": null,
      "metadata": {
        "id": "TH4ChXjgxwAd"
      },
      "outputs": [],
      "source": [
        "imputer.transform(penguins[penguins_numeric_columns])"
      ]
    },
    {
      "cell_type": "code",
      "execution_count": null,
      "metadata": {
        "id": "__0CPtPSx3Mo"
      },
      "outputs": [],
      "source": [
        "penguins_new = penguins.copy()\n",
        "penguins_new[penguins_numeric_columns] = imputer.transform(penguins[penguins_numeric_columns])"
      ]
    },
    {
      "cell_type": "code",
      "execution_count": null,
      "metadata": {
        "id": "uWI1oEKzx73N"
      },
      "outputs": [],
      "source": [
        "penguins_new.head()"
      ]
    },
    {
      "cell_type": "code",
      "execution_count": null,
      "metadata": {
        "id": "aiS8D1wAyJ7j"
      },
      "outputs": [],
      "source": [
        "penguins.head()"
      ]
    }
  ],
  "metadata": {
    "colab": {},
    "kernelspec": {
      "display_name": "Python 3",
      "name": "python3"
    },
    "language_info": {
      "codemirror_mode": {
        "name": "ipython",
        "version": 3
      },
      "file_extension": ".py",
      "mimetype": "text/x-python",
      "name": "python",
      "nbconvert_exporter": "python",
      "pygments_lexer": "ipython3",
      "version": "3.9.6"
    }
  },
  "nbformat": 4,
  "nbformat_minor": 0
}