{
  "cells": [
    {
      "cell_type": "markdown",
      "metadata": {
        "id": "k9NlAdDV9l2U"
      },
      "source": [
        "# Video: Standardizing Data with Scikit-Learn\n",
        "\n",
        "This video shows how to standardize a data set with scikit-learn."
      ]
    },
    {
      "cell_type": "code",
      "execution_count": null,
      "metadata": {
        "id": "78rpl1rXcPbe"
      },
      "outputs": [],
      "source": [
        "import pandas as pd"
      ]
    },
    {
      "cell_type": "code",
      "execution_count": null,
      "metadata": {
        "id": "XLMaY4V9cSDg"
      },
      "outputs": [],
      "source": [
        "abalone = pd.read_csv(\"https://raw.githubusercontent.com/bu-cds-omds/dx602-examples/main/data/abalone.tsv\", sep=\"\\t\")\n",
        "abalone"
      ]
    },
    {
      "cell_type": "code",
      "execution_count": null,
      "metadata": {
        "id": "oeXROrWxciwu"
      },
      "outputs": [],
      "source": [
        "abalone.describe()"
      ]
    },
    {
      "cell_type": "code",
      "execution_count": null,
      "metadata": {
        "id": "YmqEkj0JfMG3"
      },
      "outputs": [],
      "source": [
        "abalone = abalone.drop(\"Sex\", axis=1)"
      ]
    },
    {
      "cell_type": "code",
      "execution_count": null,
      "metadata": {
        "id": "D_klt0elctUE"
      },
      "outputs": [],
      "source": [
        "abalone_mean = abalone.mean(axis=0)\n",
        "abalone_mean"
      ]
    },
    {
      "cell_type": "code",
      "execution_count": null,
      "metadata": {
        "id": "RazHJM7mc3D8"
      },
      "outputs": [],
      "source": [
        "abalone_std = abalone.std(axis=0)\n",
        "abalone_std"
      ]
    },
    {
      "cell_type": "code",
      "execution_count": null,
      "metadata": {
        "id": "koxYZDu-c9WC"
      },
      "outputs": [],
      "source": [
        "abalone_standardized = (abalone - abalone_mean) / abalone_std\n",
        "abalone_standardized"
      ]
    },
    {
      "cell_type": "code",
      "execution_count": null,
      "metadata": {
        "id": "okIkz4M0eQU6"
      },
      "outputs": [],
      "source": [
        "abalone_standardized.describe()"
      ]
    },
    {
      "cell_type": "code",
      "execution_count": null,
      "metadata": {
        "id": "02tEJwnsfXKx"
      },
      "outputs": [],
      "source": [
        "(abalone - abalone.mean(axis=0)) / abalone.std(axis=0)"
      ]
    },
    {
      "cell_type": "code",
      "execution_count": null,
      "metadata": {
        "id": "meKmIuMJkv4l"
      },
      "outputs": [],
      "source": [
        "new_abalone = abalone.iloc[0:1]\n",
        "new_abalone"
      ]
    },
    {
      "cell_type": "code",
      "execution_count": null,
      "metadata": {
        "id": "uAwBO-D9lAWt"
      },
      "outputs": [],
      "source": [
        "new_abalone - new_abalone.mean(axis=0)"
      ]
    },
    {
      "cell_type": "code",
      "execution_count": null,
      "metadata": {
        "id": "qi7ZUElOlaNN"
      },
      "outputs": [],
      "source": [
        "(new_abalone - new_abalone.mean(axis=0)) / new_abalone.std(axis=0)"
      ]
    },
    {
      "cell_type": "code",
      "execution_count": null,
      "metadata": {
        "id": "oKPn5S59e5jM"
      },
      "outputs": [],
      "source": [
        "from sklearn.preprocessing import StandardScaler"
      ]
    },
    {
      "cell_type": "code",
      "execution_count": null,
      "metadata": {
        "id": "CRbCb6cte7IG"
      },
      "outputs": [],
      "source": [
        "standardize_transform = StandardScaler()\n",
        "standardize_transform.fit(abalone)"
      ]
    },
    {
      "cell_type": "code",
      "execution_count": null,
      "metadata": {
        "id": "p9l06y9ifkOb"
      },
      "outputs": [],
      "source": [
        "standardize_transform.transform(abalone)"
      ]
    }
  ],
  "metadata": {
    "colab": {},
    "kernelspec": {
      "display_name": "Python 3",
      "name": "python3"
    },
    "language_info": {
      "codemirror_mode": {
        "name": "ipython",
        "version": 3
      },
      "file_extension": ".py",
      "mimetype": "text/x-python",
      "name": "python",
      "nbconvert_exporter": "python",
      "pygments_lexer": "ipython3",
      "version": "3.9.6"
    }
  },
  "nbformat": 4,
  "nbformat_minor": 0
}