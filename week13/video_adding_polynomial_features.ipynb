{
  "cells": [
    {
      "cell_type": "markdown",
      "metadata": {
        "id": "pSMGXbI_H34h"
      },
      "source": [
        "# Video: Adding Polynomial Features\n",
        "\n",
        "This video shows how to add polynomial features to allow polynomial regression using a linear model."
      ]
    },
    {
      "cell_type": "code",
      "execution_count": null,
      "metadata": {
        "id": "6N8SJiumpu5O"
      },
      "outputs": [],
      "source": [
        "import pandas as pd"
      ]
    },
    {
      "cell_type": "code",
      "execution_count": null,
      "metadata": {
        "id": "vcTSHxgppxUc"
      },
      "outputs": [],
      "source": [
        "abalone = pd.read_csv(\"https://raw.githubusercontent.com/bu-cds-omds/dx602-examples/main/data/abalone.tsv\", sep=\"\\t\")\n",
        "abalone"
      ]
    },
    {
      "cell_type": "markdown",
      "metadata": {
        "id": "vzLWlPpbp0yj"
      },
      "source": [
        "Script:\n",
        "* A common example of feature engineering is to combine two existing features to highlight their interactions.\n",
        "* For example, you can multiply two columns to get a feature that has particularly large values when both combined values are large.\n",
        "* We can generalize this idea to polynomial features where each individual feature is the product of powers of the original features.\n",
        "* With this context, adding a single polynomial feature to a data set is easy.\n",
        "* You just calculate it from the existing columns and add it as a new column."
      ]
    },
    {
      "cell_type": "code",
      "execution_count": null,
      "metadata": {
        "id": "CbDk6Bz9qElN"
      },
      "outputs": [],
      "source": [
        "abalone[\"rough_volume\"] = abalone[\"Length\"] * abalone[\"Diameter\"] * abalone[\"Height\"]"
      ]
    },
    {
      "cell_type": "markdown",
      "metadata": {
        "id": "5zC7JNZLqB6j"
      },
      "source": [
        "Script:\n",
        "* In this case, I add a degree three term that was the product of three of the original columns.\n",
        "* In general, there are two likely cases where you will add polynomial features.\n",
        "* In the first, there are one or more combinations of variables and exponents that you think will be particularly helpful to your modeling problem.\n",
        "* This will generally be driven by problem-specific concerns and intuitions.\n",
        "* In this first case, then you just add the specific terms that you think will be helpful.\n",
        "* In the second case, you are adding all the combinations of variables up to some maximum degree.\n",
        "* In this case, you will loop from degree 2 to your maximum degree, and generate all the column and exponent combinations, and add each of them as a new column.\n",
        "* That loop starts from degree 2 because degree 1 is the original columns.\n",
        "* And you will want to implement this programmatically, not one at a time like the previous example, since the number of new columns will grow very quickly with the maximum degree.\n",
        "* Scikit-learn has a class to handle this too, so let's try it out now."
      ]
    },
    {
      "cell_type": "code",
      "execution_count": null,
      "metadata": {
        "id": "ubvIOqOqs8TI"
      },
      "outputs": [],
      "source": [
        "from sklearn.preprocessing import PolynomialFeatures"
      ]
    },
    {
      "cell_type": "code",
      "execution_count": null,
      "metadata": {
        "id": "89MKF1qTs9Uy"
      },
      "outputs": [],
      "source": [
        "pf = PolynomialFeatures(degree=2)\n",
        "pf.fit(abalone.drop(\"Sex\", axis=1))"
      ]
    },
    {
      "cell_type": "markdown",
      "metadata": {
        "id": "lLB3fH1KtvHd"
      },
      "source": [
        "Script:\n",
        "* Like all of these number-based transforms, the data should be filtered to just numeric columns."
      ]
    },
    {
      "cell_type": "code",
      "execution_count": null,
      "metadata": {
        "id": "oA3uHHA3tfsO"
      },
      "outputs": [],
      "source": [
        "pf.transform(abalone.drop(\"Sex\", axis=1))"
      ]
    },
    {
      "cell_type": "markdown",
      "metadata": {
        "id": "AurB-PckvqVJ"
      },
      "source": [
        "Script:\n",
        "* Running the transform for polynomial features will give you a lot more columns."
      ]
    },
    {
      "cell_type": "code",
      "execution_count": null,
      "metadata": {
        "id": "HaPV1V3btmoS"
      },
      "outputs": [],
      "source": [
        "pf.transform(abalone.drop(\"Sex\", axis=1)).shape"
      ]
    },
    {
      "cell_type": "code",
      "execution_count": null,
      "metadata": {
        "id": "O8_E2xc6tpl1"
      },
      "outputs": [],
      "source": [
        "abalone.shape"
      ]
    },
    {
      "cell_type": "markdown",
      "metadata": {
        "id": "__txxQI2vxmD"
      },
      "source": [
        "Script:\n",
        "* So from 9 initial numeric columns, a total of 55 columns were created.\n",
        "* Scikit-learn made this easy.\n",
        "* Just create the features object, fit it, and transform the data.\n",
        "* Figuring out when to use these features is the trickier part.\n",
        "* If we just add lots of polynomial features using the highest degrees that we can handle, we will be prone to overfitting.\n",
        "* If we keep the maximum degree low, they might be good.\n",
        "* Bear in mind that low is contextual, and you should check that the number of rows of data is more than the final number of columns.\n",
        "* These features will work best if you can select them carefully based on the problem.\n",
        "* For example adding a quadratic time term when modeling an object in free fall.\n",
        "* If you do not have a specific intuition, trying low degree polynomials is ok, but make sure to validate your work."
      ]
    }
  ],
  "metadata": {
    "colab": {},
    "kernelspec": {
      "display_name": "Python 3",
      "name": "python3"
    },
    "language_info": {
      "codemirror_mode": {
        "name": "ipython",
        "version": 3
      },
      "file_extension": ".py",
      "mimetype": "text/x-python",
      "name": "python",
      "nbconvert_exporter": "python",
      "pygments_lexer": "ipython3",
      "version": "3.9.6"
    }
  },
  "nbformat": 4,
  "nbformat_minor": 0
}