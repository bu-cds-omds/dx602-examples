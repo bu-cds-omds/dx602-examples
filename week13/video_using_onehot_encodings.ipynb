{
  "cells": [
    {
      "cell_type": "markdown",
      "metadata": {
        "id": "uO8ZEmgIn5JZ"
      },
      "source": [
        "# Video: Using One-Hot Encodings\n",
        "\n",
        "This video shows off various applications of one-hot encodings."
      ]
    },
    {
      "cell_type": "code",
      "execution_count": null,
      "metadata": {
        "id": "W9Yl8GCiyrw_"
      },
      "outputs": [],
      "source": [
        "import pandas as pd"
      ]
    },
    {
      "cell_type": "code",
      "execution_count": null,
      "metadata": {
        "id": "CwCzYH7jy9OC"
      },
      "outputs": [],
      "source": [
        "abalone = pd.read_csv(\"https://raw.githubusercontent.com/bu-omds/bu-omds-data/main/data/abalone.tsv\", sep=\"\\t\")"
      ]
    },
    {
      "cell_type": "code",
      "execution_count": null,
      "metadata": {
        "id": "Zw_iTJTazT72"
      },
      "outputs": [],
      "source": [
        "pd.get_dummies(abalone)"
      ]
    },
    {
      "cell_type": "code",
      "execution_count": null,
      "metadata": {
        "id": "wi6Cvv_9zfJB"
      },
      "outputs": [],
      "source": [
        "pd.get_dummies(abalone[\"Sex\"])"
      ]
    },
    {
      "cell_type": "code",
      "execution_count": null,
      "metadata": {
        "id": "44MvDxMtzBBj"
      },
      "outputs": [],
      "source": [
        "pd.get_dummies(abalone[\"Sex\"], prefix=\"Sex\")"
      ]
    },
    {
      "cell_type": "code",
      "execution_count": null,
      "metadata": {
        "id": "4ByfVUyLth8S"
      },
      "outputs": [],
      "source": [
        "from sklearn.preprocessing import OneHotEncoder"
      ]
    },
    {
      "cell_type": "code",
      "execution_count": null,
      "metadata": {
        "id": "K0dN9TLKt9BV"
      },
      "outputs": [],
      "source": [
        "one_hot_encoder = OneHotEncoder(handle_unknown='ignore', sparse_output=False)"
      ]
    },
    {
      "cell_type": "code",
      "execution_count": null,
      "metadata": {
        "id": "pMtGUp86uJVt"
      },
      "outputs": [],
      "source": [
        "one_hot_encoder.fit(abalone[[\"Sex\"]])"
      ]
    },
    {
      "cell_type": "code",
      "execution_count": null,
      "metadata": {
        "id": "u76jd6h2uNZd"
      },
      "outputs": [],
      "source": [
        "one_hot_encoder.categories_"
      ]
    },
    {
      "cell_type": "code",
      "execution_count": null,
      "metadata": {
        "id": "KyQ0tAq8uUwJ"
      },
      "outputs": [],
      "source": [
        "one_hot_encoder.transform(abalone[[\"Sex\"]])"
      ]
    },
    {
      "cell_type": "code",
      "execution_count": null,
      "metadata": {
        "id": "jpOF1v5-v0gl"
      },
      "outputs": [],
      "source": [
        "one_hot_encoder.get_feature_names_out()"
      ]
    },
    {
      "cell_type": "code",
      "execution_count": null,
      "metadata": {
        "id": "B-kt23t1v8-y"
      },
      "outputs": [],
      "source": [
        "one_hot_encoder.set_output(transform=\"pandas\")"
      ]
    },
    {
      "cell_type": "code",
      "execution_count": null,
      "metadata": {
        "id": "n754ir3awBUp"
      },
      "outputs": [],
      "source": [
        "one_hot_encoder.transform(abalone[[\"Sex\"]])"
      ]
    },
    {
      "cell_type": "code",
      "execution_count": null,
      "metadata": {
        "id": "4RrMuS-DwWNF"
      },
      "outputs": [],
      "source": [
        "abalone2 = abalone.join(one_hot_encoder.transform(abalone[[\"Sex\"]]))\n",
        "abalone2"
      ]
    }
  ],
  "metadata": {
    "colab": {},
    "kernelspec": {
      "display_name": "Python 3",
      "name": "python3"
    },
    "language_info": {
      "codemirror_mode": {
        "name": "ipython",
        "version": 3
      },
      "file_extension": ".py",
      "mimetype": "text/x-python",
      "name": "python",
      "nbconvert_exporter": "python",
      "pygments_lexer": "ipython3",
      "version": "3.9.6"
    }
  },
  "nbformat": 4,
  "nbformat_minor": 0
}