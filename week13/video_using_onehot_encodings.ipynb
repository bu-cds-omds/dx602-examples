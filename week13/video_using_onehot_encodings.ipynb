{
  "cells": [
    {
      "cell_type": "markdown",
      "metadata": {
        "id": "uO8ZEmgIn5JZ"
      },
      "source": [
        "# Video: Using One-Hot Encodings\n",
        "\n",
        "This video shows off various applications of one-hot encodings."
      ]
    },
    {
      "cell_type": "markdown",
      "metadata": {
        "id": "4fq4RwX-oDLX"
      },
      "source": [
        "Script:\n",
        "* One-hot encodings are a common way to map categorical columns full of strings into numeric columns that are more accessible to most kinds of models.\n",
        "* The basic idea is that each known categorical value will be assigned a new column of its own.\n",
        "* And if that categorical value comes up, then that new column will be set to one.\n",
        "* Otherwise, that column will be set zero.\n",
        "* Across all these new columns, at most one of them will be set to one.\n",
        "* That is the \"one hot\".\n",
        "* The rest will be zero.\n",
        "* And if the categorical value was not recognized, or was deemed infrequent enough to warrant its own column, then all of those new columns will be zero.\n",
        "* Both pandas and scikit-learn have support for creating one-hot encodings automatically.\n",
        "* Let's start with the pandas version."
      ]
    },
    {
      "cell_type": "code",
      "execution_count": null,
      "metadata": {
        "id": "W9Yl8GCiyrw_"
      },
      "outputs": [],
      "source": [
        "import pandas as pd"
      ]
    },
    {
      "cell_type": "code",
      "execution_count": null,
      "metadata": {
        "id": "CwCzYH7jy9OC"
      },
      "outputs": [],
      "source": [
        "abalone = pd.read_csv(\"https://raw.githubusercontent.com/bu-omds/bu-omds-data/main/data/abalone.tsv\", sep=\"\\t\")"
      ]
    },
    {
      "cell_type": "markdown",
      "metadata": {
        "id": "55lY6rL0ydm1"
      },
      "source": [
        "Script:\n",
        "* Pandas provides a convenient function called get_dummies to add these one-hot encoding columns.\n",
        "* It will automatically detect which columns to encode by checking their types."
      ]
    },
    {
      "cell_type": "code",
      "execution_count": null,
      "metadata": {
        "id": "Zw_iTJTazT72"
      },
      "outputs": [],
      "source": [
        "pd.get_dummies(abalone)"
      ]
    },
    {
      "cell_type": "markdown",
      "metadata": {
        "id": "WiAvBmbyyw-n"
      },
      "source": [
        "Script:\n",
        "* Here you can see that it automatically identified the sex column, and only the sex column as needing one-hot encoding.\n",
        "* The new columns have values True and False which will be treated as one and zero respectively by modeling code.\n",
        "* We can customize the behavior of get_dummies by calling it on just one series at a time."
      ]
    },
    {
      "cell_type": "code",
      "execution_count": null,
      "metadata": {
        "id": "wi6Cvv_9zfJB"
      },
      "outputs": [],
      "source": [
        "pd.get_dummies(abalone[\"Sex\"])"
      ]
    },
    {
      "cell_type": "markdown",
      "metadata": {
        "id": "bpKusV5lzSwD"
      },
      "source": [
        "Script:\n",
        "* Here, I called get_dummies on just the sex column of the abalones data.\n",
        "* Note the column names are just F, I and M.\n",
        "* Previously, when get_dummies was working with the whole data frame, they were called Sex_F, Sex_I and Sex_M.\n",
        "* We can reproduce the data frame behavior by adding a prefix parameter to get_dummies."
      ]
    },
    {
      "cell_type": "code",
      "execution_count": null,
      "metadata": {
        "id": "44MvDxMtzBBj"
      },
      "outputs": [],
      "source": [
        "pd.get_dummies(abalone[\"Sex\"], prefix=\"Sex\")"
      ]
    },
    {
      "cell_type": "markdown",
      "metadata": {
        "id": "vJQVOmjtzSpb"
      },
      "source": [
        "Script:\n",
        "* Presumably, the pandas developers believed that the concise names were nicer if you were only looking at the one hot encodings of a single column.\n",
        "* But they realized that the column name prefixes would be more helpful when used with the rest of a data frame.\n",
        "* Let's look at the scikit-learn support next."
      ]
    },
    {
      "cell_type": "code",
      "execution_count": null,
      "metadata": {
        "id": "4ByfVUyLth8S"
      },
      "outputs": [],
      "source": [
        "from sklearn.preprocessing import OneHotEncoder"
      ]
    },
    {
      "cell_type": "markdown",
      "metadata": {
        "id": "FKiR7b51030i"
      },
      "source": [
        "Script:\n",
        "* I will create this OneHotEncoder object using two options that will be important.\n",
        "* The first option, handle_unknown, is set to ignore unrecognized categories.\n",
        "* I set that option because the default behavior is to raise an error if a new category value is found that was not present when setting up the one hot encoding.\n",
        "* The second one is to turn off sparse output.\n",
        "* The default sparse output can reduce memory usage, but it is incompatible with pandas, so we'll turn it off."
      ]
    },
    {
      "cell_type": "code",
      "execution_count": null,
      "metadata": {
        "id": "K0dN9TLKt9BV"
      },
      "outputs": [],
      "source": [
        "one_hot_encoder = OneHotEncoder(handle_unknown='ignore', sparse_output=False)"
      ]
    },
    {
      "cell_type": "markdown",
      "metadata": {
        "id": "s4YrAIpPurMK"
      },
      "source": [
        "Script:\n",
        "* To fit this one hot encoder, we will pass in the abalone data frame limited to just the sex column.\n"
      ]
    },
    {
      "cell_type": "code",
      "execution_count": null,
      "metadata": {
        "id": "pMtGUp86uJVt"
      },
      "outputs": [],
      "source": [
        "one_hot_encoder.fit(abalone[[\"Sex\"]])"
      ]
    },
    {
      "cell_type": "markdown",
      "metadata": {
        "id": "NmMgYKwXvIM8"
      },
      "source": [
        "Script:\n",
        "* If you do not limit the columns, it will try to encode all the other columns, even if they are numbers.\n",
        "* Also note that you should pass in a list of columns here, so that you are passing in a two dimensional data frame and not a one-dimensional series.\n",
        "* Let's look at the categories this encoder found."
      ]
    },
    {
      "cell_type": "code",
      "execution_count": null,
      "metadata": {
        "id": "u76jd6h2uNZd"
      },
      "outputs": [],
      "source": [
        "one_hot_encoder.categories_"
      ]
    },
    {
      "cell_type": "markdown",
      "metadata": {
        "id": "RUgbchnvvMlY"
      },
      "source": [
        "Script:\n",
        "* No surprises here.\n",
        "* It found F, I and M just like the pandas version.\n",
        "* Let's look at the encoded output now."
      ]
    },
    {
      "cell_type": "code",
      "execution_count": null,
      "metadata": {
        "id": "KyQ0tAq8uUwJ"
      },
      "outputs": [],
      "source": [
        "one_hot_encoder.transform(abalone[[\"Sex\"]])"
      ]
    },
    {
      "cell_type": "markdown",
      "metadata": {
        "id": "8_cvuxB51kXj"
      },
      "source": [
        "Script:\n",
        "* This output will look different if you do not disable the sparse_output option.\n",
        "* The one hot encoder also has a handy function to return the names of the new columns."
      ]
    },
    {
      "cell_type": "code",
      "execution_count": null,
      "metadata": {
        "id": "jpOF1v5-v0gl"
      },
      "outputs": [],
      "source": [
        "one_hot_encoder.get_feature_names_out()"
      ]
    },
    {
      "cell_type": "markdown",
      "metadata": {
        "id": "KqlYY17X10lV"
      },
      "source": [
        "Script:\n",
        "* I found that function while looking for ways to turn that array output into columns for a pandas data frame.\n",
        "* But it turns out that function is not needed.\n",
        "* The one hot encoder object has a set_output method which you can use to transform the output into a pandas data frame."
      ]
    },
    {
      "cell_type": "code",
      "execution_count": null,
      "metadata": {
        "id": "B-kt23t1v8-y"
      },
      "outputs": [],
      "source": [
        "one_hot_encoder.set_output(transform=\"pandas\")"
      ]
    },
    {
      "cell_type": "markdown",
      "metadata": {
        "id": "NekguIsv2FHZ"
      },
      "source": [
        "Script:\n",
        "* Now when you call the transform method, the result returned will be a pandas data frame instead of a NumPy array."
      ]
    },
    {
      "cell_type": "code",
      "execution_count": null,
      "metadata": {
        "id": "n754ir3awBUp"
      },
      "outputs": [],
      "source": [
        "one_hot_encoder.transform(abalone[[\"Sex\"]])"
      ]
    },
    {
      "cell_type": "markdown",
      "metadata": {
        "id": "yQv1OcR-2NJs"
      },
      "source": [
        "Script:\n",
        "* If we had not turned off sparse output, that last step would have failed, since pandas is not compatible with the default sparse array format.\n",
        "* To wrap up, let's make a data frame combining the original data frame with the new one hot encoded columns."
      ]
    },
    {
      "cell_type": "code",
      "execution_count": null,
      "metadata": {
        "id": "4RrMuS-DwWNF"
      },
      "outputs": [],
      "source": [
        "abalone2 = abalone.join(one_hot_encoder.transform(abalone[[\"Sex\"]]))\n",
        "abalone2"
      ]
    },
    {
      "cell_type": "markdown",
      "metadata": {
        "id": "9Ss-ullP2b3H"
      },
      "source": [
        "Script:\n",
        "* That's it for how to add one-hot encodings in either pandas or scikit-learn.\n",
        "* Both libraries make it pretty easy; we spent more time looking around than on the actual encoding."
      ]
    }
  ],
  "metadata": {
    "colab": {},
    "kernelspec": {
      "display_name": "Python 3",
      "name": "python3"
    },
    "language_info": {
      "codemirror_mode": {
        "name": "ipython",
        "version": 3
      },
      "file_extension": ".py",
      "mimetype": "text/x-python",
      "name": "python",
      "nbconvert_exporter": "python",
      "pygments_lexer": "ipython3",
      "version": "3.9.6"
    }
  },
  "nbformat": 4,
  "nbformat_minor": 0
}