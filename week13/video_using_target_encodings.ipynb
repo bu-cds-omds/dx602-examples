{
  "cells": [
    {
      "cell_type": "markdown",
      "metadata": {
        "id": "vb3Hpx1Pnf7h"
      },
      "source": [
        "# Video: Using Target Encodings\n",
        "\n",
        "This video shows an example using target encodings on a data set with many categorical columns."
      ]
    },
    {
      "cell_type": "code",
      "execution_count": null,
      "metadata": {
        "id": "gsaaQ0_B6er_"
      },
      "outputs": [],
      "source": [
        "import pandas as pd"
      ]
    },
    {
      "cell_type": "code",
      "execution_count": null,
      "metadata": {
        "id": "Ed7JzumK6gIt"
      },
      "outputs": [],
      "source": [
        "abalone = pd.read_csv(\"https://raw.githubusercontent.com/bu-omds/bu-omds-data/main/data/abalone.tsv\", sep=\"\\t\")"
      ]
    },
    {
      "cell_type": "code",
      "execution_count": null,
      "metadata": {
        "id": "uiESMma26k3C"
      },
      "outputs": [],
      "source": [
        "from sklearn.preprocessing import TargetEncoder"
      ]
    },
    {
      "cell_type": "code",
      "execution_count": null,
      "metadata": {
        "id": "oMFHWslu61eE"
      },
      "outputs": [],
      "source": [
        "target_encoder = TargetEncoder(target_type=\"continuous\")"
      ]
    },
    {
      "cell_type": "code",
      "execution_count": null,
      "metadata": {
        "id": "l-nKBoOq7cNq"
      },
      "outputs": [],
      "source": [
        "target_encoder.fit(abalone[[\"Sex\"]], abalone[\"Rings\"])"
      ]
    },
    {
      "cell_type": "code",
      "execution_count": null,
      "metadata": {
        "id": "iCWFAj3D7k6Y"
      },
      "outputs": [],
      "source": [
        "target_encoder.categories_"
      ]
    },
    {
      "cell_type": "code",
      "execution_count": null,
      "metadata": {
        "id": "Ybgx6Onm8qO4"
      },
      "outputs": [],
      "source": [
        "target_encoder.encodings_"
      ]
    },
    {
      "cell_type": "code",
      "execution_count": null,
      "metadata": {
        "id": "q3HpJ3Pu8iS4"
      },
      "outputs": [],
      "source": [
        "dict(zip(target_encoder.categories_[0], target_encoder.encodings_[0]))"
      ]
    },
    {
      "cell_type": "code",
      "execution_count": null,
      "metadata": {
        "id": "NFw5a84QGH7R"
      },
      "outputs": [],
      "source": [
        "target_encoder.transform(abalone[[\"Sex\"]])"
      ]
    },
    {
      "cell_type": "code",
      "execution_count": null,
      "metadata": {
        "id": "ohDIRadvGb-7"
      },
      "outputs": [],
      "source": [
        "target_encoder.set_output(transform=\"pandas\")"
      ]
    },
    {
      "cell_type": "code",
      "execution_count": null,
      "metadata": {
        "id": "lvyXXjuiGgCp"
      },
      "outputs": [],
      "source": [
        "target_encoder.transform(abalone[[\"Sex\"]])"
      ]
    },
    {
      "cell_type": "code",
      "execution_count": null,
      "metadata": {
        "id": "PakSwTF1G77G"
      },
      "outputs": [],
      "source": [
        "abalone2 = abalone.copy()\n",
        "abalone2[\"Sex\"] = target_encoder.transform(abalone[[\"Sex\"]])\n",
        "\n",
        "abalone2"
      ]
    }
  ],
  "metadata": {
    "colab": {},
    "kernelspec": {
      "display_name": "Python 3",
      "name": "python3"
    },
    "language_info": {
      "codemirror_mode": {
        "name": "ipython",
        "version": 3
      },
      "file_extension": ".py",
      "mimetype": "text/x-python",
      "name": "python",
      "nbconvert_exporter": "python",
      "pygments_lexer": "ipython3",
      "version": "3.9.6"
    }
  },
  "nbformat": 4,
  "nbformat_minor": 0
}