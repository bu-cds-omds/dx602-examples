{
  "cells": [
    {
      "cell_type": "markdown",
      "metadata": {
        "id": "vb3Hpx1Pnf7h"
      },
      "source": [
        "# Video: Using Target Encodings\n",
        "\n",
        "This video shows an example using target encodings on a data set with many categorical columns."
      ]
    },
    {
      "cell_type": "markdown",
      "metadata": {
        "id": "Bjta7Yp_22GY"
      },
      "source": [
        "Script:\n",
        "* Target encodings are a neat trick that feels like it is cheating.\n",
        "* For category values with lots of data, it gives the model the average target value for the category value.\n",
        "* No hedging or likes, it is the actual average target value.\n",
        "* On the other hand, target encoding is not as strong for cases with lots distinct values and not many rows for each value.\n",
        "* In that case, the low number of rows per value will often lead to the same target encoding, so all the low data cases get lumped together.\n",
        "* So while target encodings feel like cheating where you have a lot of data, they do not have a special advantage for low data category values.\n",
        "* Let's look at how to implement them in scikit-learn."
      ]
    },
    {
      "cell_type": "code",
      "execution_count": null,
      "metadata": {
        "id": "gsaaQ0_B6er_"
      },
      "outputs": [],
      "source": [
        "import pandas as pd"
      ]
    },
    {
      "cell_type": "code",
      "execution_count": null,
      "metadata": {
        "id": "Ed7JzumK6gIt"
      },
      "outputs": [],
      "source": [
        "abalone = pd.read_csv(\"https://raw.githubusercontent.com/bu-omds/bu-omds-data/main/data/abalone.tsv\", sep=\"\\t\")"
      ]
    },
    {
      "cell_type": "markdown",
      "metadata": {
        "id": "otgEZ9Th6tAF"
      },
      "source": [
        "Script:\n",
        "* Like with one hot encoding, scikit-learn provides a class to handle target encodings.\n",
        "* In this case, it is sklearn.preprocessing.TargetEncoder."
      ]
    },
    {
      "cell_type": "code",
      "execution_count": null,
      "metadata": {
        "id": "uiESMma26k3C"
      },
      "outputs": [],
      "source": [
        "from sklearn.preprocessing import TargetEncoder"
      ]
    },
    {
      "cell_type": "markdown",
      "metadata": {
        "id": "jp9Jh0xA63_2"
      },
      "source": [
        "Script:\n",
        "* Most of the default settings for TargetEncoder are reasonable, but you may need to set the target_type option.\n",
        "* For the abalone data set, I had to set the target_type to \"continuous\", since it mistakenly identified the Rings column as categorical, not numerical.\n"
      ]
    },
    {
      "cell_type": "code",
      "execution_count": null,
      "metadata": {
        "id": "oMFHWslu61eE"
      },
      "outputs": [],
      "source": [
        "target_encoder = TargetEncoder(target_type=\"continuous\")"
      ]
    },
    {
      "cell_type": "markdown",
      "metadata": {
        "id": "9iWbUsGO6-DE"
      },
      "source": [
        "Script:\n",
        "* I suspect that was because the column was interpreted as integers, not real or floating point numbers.\n",
        "* The other option that you are might want to change would be the smooth option.\n",
        "* That option controls the blending to the mean for low data cases, but the default smoothing setting is reasonable, so you probably do not need to change it.\n",
        "* Let's fit the target encoder now.\n"
      ]
    },
    {
      "cell_type": "code",
      "execution_count": null,
      "metadata": {
        "id": "l-nKBoOq7cNq"
      },
      "outputs": [],
      "source": [
        "target_encoder.fit(abalone[[\"Sex\"]], abalone[\"Rings\"])"
      ]
    },
    {
      "cell_type": "markdown",
      "metadata": {
        "id": "BxDdgr7tFYwR"
      },
      "source": [
        "Script:\n",
        "* One difference that you will notice here compared to one hot encoding is that fitting this transform requires the target y values to be passed in, just like a regression.\n",
        "* Those targets are needed to calculate the average target values for the target encoding.\n",
        "* Let's spot check what the target encoder chose."
      ]
    },
    {
      "cell_type": "code",
      "execution_count": null,
      "metadata": {
        "id": "iCWFAj3D7k6Y"
      },
      "outputs": [],
      "source": [
        "target_encoder.categories_"
      ]
    },
    {
      "cell_type": "markdown",
      "metadata": {
        "id": "8qMt5TNfFxMZ"
      },
      "source": [
        "Script:\n",
        "* Like the one hot encoder, the category values of F, I and M were found.\n",
        "* We can look to see what values were associated with them."
      ]
    },
    {
      "cell_type": "code",
      "execution_count": null,
      "metadata": {
        "id": "Ybgx6Onm8qO4"
      },
      "outputs": [],
      "source": [
        "target_encoder.encodings_"
      ]
    },
    {
      "cell_type": "markdown",
      "metadata": {
        "id": "tzobCuvsF7-G"
      },
      "source": [
        "Script:\n",
        "* Let's pair those up so we can see which is which more easily."
      ]
    },
    {
      "cell_type": "code",
      "execution_count": null,
      "metadata": {
        "id": "q3HpJ3Pu8iS4"
      },
      "outputs": [],
      "source": [
        "dict(zip(target_encoder.categories_[0], target_encoder.encodings_[0]))"
      ]
    },
    {
      "cell_type": "markdown",
      "metadata": {
        "id": "bG-YAghsF_sp"
      },
      "source": [
        "Script:\n",
        "* According to this, female abalone have slightly more rings than male abalone in this data set, while the infant abalone have fewer."
      ]
    },
    {
      "cell_type": "code",
      "execution_count": null,
      "metadata": {
        "id": "NFw5a84QGH7R"
      },
      "outputs": [],
      "source": [
        "target_encoder.transform(abalone[[\"Sex\"]])"
      ]
    },
    {
      "cell_type": "markdown",
      "metadata": {
        "id": "TmH8b25KGYAo"
      },
      "source": [
        "Script:\n",
        "* We can again change this output format to be more pandas friendly."
      ]
    },
    {
      "cell_type": "code",
      "execution_count": null,
      "metadata": {
        "id": "ohDIRadvGb-7"
      },
      "outputs": [],
      "source": [
        "target_encoder.set_output(transform=\"pandas\")"
      ]
    },
    {
      "cell_type": "code",
      "execution_count": null,
      "metadata": {
        "id": "lvyXXjuiGgCp"
      },
      "outputs": [],
      "source": [
        "target_encoder.transform(abalone[[\"Sex\"]])"
      ]
    },
    {
      "cell_type": "markdown",
      "metadata": {
        "id": "IL1nsCcRGlYo"
      },
      "source": [
        "Script:\n",
        "* In contrast to the one hot encoding which makes several columns with different names, the target encoding makes just one output column.\n",
        "* And that output column's name is the same as the original column.\n",
        "* In this context, the usage is to just replace the old column wholesale."
      ]
    },
    {
      "cell_type": "code",
      "execution_count": null,
      "metadata": {
        "id": "PakSwTF1G77G"
      },
      "outputs": [],
      "source": [
        "abalone2 = abalone.copy()\n",
        "abalone2[\"Sex\"] = target_encoder.transform(abalone[[\"Sex\"]])\n",
        "\n",
        "abalone2"
      ]
    },
    {
      "cell_type": "markdown",
      "metadata": {
        "id": "GCOGpId1HD8i"
      },
      "source": [
        "Script:\n",
        "* And there you have it.\n",
        "* The sex column has been transformed from strings representing categories to numbers based on the average target values."
      ]
    }
  ],
  "metadata": {
    "colab": {},
    "kernelspec": {
      "display_name": "Python 3",
      "name": "python3"
    },
    "language_info": {
      "codemirror_mode": {
        "name": "ipython",
        "version": 3
      },
      "file_extension": ".py",
      "mimetype": "text/x-python",
      "name": "python",
      "nbconvert_exporter": "python",
      "pygments_lexer": "ipython3",
      "version": "3.9.6"
    }
  },
  "nbformat": 4,
  "nbformat_minor": 0
}