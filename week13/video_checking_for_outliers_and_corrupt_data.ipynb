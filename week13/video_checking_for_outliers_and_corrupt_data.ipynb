{
  "cells": [
    {
      "cell_type": "markdown",
      "metadata": {
        "id": "oIBxduvLSgGQ"
      },
      "source": [
        "# Video: Checking for Outliers and Corrupt Data\n",
        "\n",
        "This video walks through basic checks for outliers and corrupt data."
      ]
    },
    {
      "cell_type": "code",
      "execution_count": null,
      "metadata": {
        "colab": {
          "base_uri": "https://localhost:8080/"
        },
        "id": "QU8keP4ggOLI",
        "outputId": "7ec06072-865e-45d9-df0a-113d3a63e27e"
      },
      "outputs": [
        {
          "execution_count": null,
          "name": "stdout",
          "output_type": "stream",
          "text": [
            "--2024-10-28 19:28:12--  https://storage.googleapis.com/kaggle-forum-message-attachments/184054/6553/Dirty_deputies_v3.zip\n",
            "Resolving storage.googleapis.com (storage.googleapis.com)... 173.194.215.207, 173.194.216.207, 173.194.217.207, ...\n",
            "Connecting to storage.googleapis.com (storage.googleapis.com)|173.194.215.207|:443... connected.\n",
            "HTTP request sent, awaiting response... 200 OK\n",
            "Length: 5425975 (5.2M) [application/octet-stream]\n",
            "Saving to: \u2018Dirty_deputies_v3.zip\u2019\n",
            "\n",
            "Dirty_deputies_v3.z 100%[===================>]   5.17M  --.-KB/s    in 0.08s   \n",
            "\n",
            "2024-10-28 19:28:12 (66.2 MB/s) - \u2018Dirty_deputies_v3.zip\u2019 saved [5425975/5425975]\n",
            "\n"
          ]
        }
      ],
      "source": [
        "!wget https://storage.googleapis.com/kaggle-forum-message-attachments/184054/6553/Dirty_deputies_v3.zip"
      ]
    },
    {
      "cell_type": "code",
      "execution_count": null,
      "metadata": {
        "colab": {
          "base_uri": "https://localhost:8080/"
        },
        "id": "kVNP-hhggiD6",
        "outputId": "f92f2e5c-1325-4a01-9889-80577203c1e7"
      },
      "outputs": [
        {
          "execution_count": null,
          "name": "stdout",
          "output_type": "stream",
          "text": [
            "Archive:  Dirty_deputies_v3.zip\n",
            "  inflating: Dirty_deputies_v3.csv   \n"
          ]
        }
      ],
      "source": [
        "!unzip Dirty_deputies_v3.zip"
      ]
    },
    {
      "cell_type": "code",
      "execution_count": null,
      "metadata": {
        "id": "EoPhRI-agM4G"
      },
      "outputs": [],
      "source": [
        "import pandas as pd"
      ]
    },
    {
      "cell_type": "markdown",
      "metadata": {
        "id": "lFBkpjAWgeCG"
      },
      "source": [
        "Script:\n",
        "* In this video, I'll show you the most basic method for identifying outliers and corrupt data in your data set.\n",
        "* The basic method is simple - just make a histogram - but I'll point out a few nuances along the way.\n",
        "* To illustrate this process, I downloaded a data set of reimbursements by Brazil's House of Deputies that was made available as part of a transparency and anti-corruption effort.\n"
      ]
    },
    {
      "cell_type": "code",
      "execution_count": null,
      "metadata": {
        "id": "k1-5OutigcoI"
      },
      "outputs": [],
      "source": [
        "deputies = pd.read_csv(\"Dirty_deputies_v3.csv\")"
      ]
    },
    {
      "cell_type": "code",
      "execution_count": null,
      "metadata": {
        "colab": {
          "base_uri": "https://localhost:8080/",
          "height": 423
        },
        "id": "NZ5D6se3gp_Z",
        "outputId": "822113a0-40db-4093-f73a-1f87bfe50e80"
      },
      "outputs": [
        {
          "data": {
            "application/vnd.google.colaboratory.intrinsic+json": {
              "type": "dataframe",
              "variable_name": "deputies"
            },
            "text/html": [
              "\n",
              "  <div id=\"df-ea8edb63-8069-4cbe-9786-469d929c9532\" class=\"colab-df-container\">\n",
              "    <div>\n",
              "<style scoped>\n",
              "    .dataframe tbody tr th:only-of-type {\n",
              "        vertical-align: middle;\n",
              "    }\n",
              "\n",
              "    .dataframe tbody tr th {\n",
              "        vertical-align: top;\n",
              "    }\n",
              "\n",
              "    .dataframe thead th {\n",
              "        text-align: right;\n",
              "    }\n",
              "</style>\n",
              "<table border=\"1\" class=\"dataframe\">\n",
              "  <thead>\n",
              "    <tr style=\"text-align: right;\">\n",
              "      <th></th>\n",
              "      <th>Unnamed: 0.2</th>\n",
              "      <th>Unnamed: 0</th>\n",
              "      <th>Unnamed: 0.1</th>\n",
              "      <th>deputy_name</th>\n",
              "      <th>deputy_state</th>\n",
              "      <th>political_party</th>\n",
              "      <th>company_id</th>\n",
              "      <th>refund_date</th>\n",
              "      <th>refund_value</th>\n",
              "      <th>party_pg</th>\n",
              "      <th>...</th>\n",
              "      <th>party_nmembers</th>\n",
              "      <th>party_ideology1</th>\n",
              "      <th>party_ideology2</th>\n",
              "      <th>party_ideology3</th>\n",
              "      <th>party_ideology4</th>\n",
              "      <th>party_position</th>\n",
              "      <th>refund_description</th>\n",
              "      <th>type</th>\n",
              "      <th>company_name_new</th>\n",
              "      <th>company_name</th>\n",
              "    </tr>\n",
              "  </thead>\n",
              "  <tbody>\n",
              "    <tr>\n",
              "      <th>0</th>\n",
              "      <td>0</td>\n",
              "      <td>0</td>\n",
              "      <td>0</td>\n",
              "      <td>PROFESSOR VICT\u00d3RIO GALLI</td>\n",
              "      <td>MT</td>\n",
              "      <td>PSC</td>\n",
              "      <td>5.423963e+12</td>\n",
              "      <td>2016-03-25T00:00:00</td>\n",
              "      <td>620.80</td>\n",
              "      <td>Partido Social Crist\u00e3o</td>\n",
              "      <td>...</td>\n",
              "      <td>417221.0</td>\n",
              "      <td>Conservatism</td>\n",
              "      <td>NaN</td>\n",
              "      <td>NaN</td>\n",
              "      <td>NaN</td>\n",
              "      <td>Rightwing</td>\n",
              "      <td>PHONE COSTS</td>\n",
              "      <td>telecomunicacao</td>\n",
              "      <td>14</td>\n",
              "      <td>14_brasil_telecomunicacao_celular</td>\n",
              "    </tr>\n",
              "    <tr>\n",
              "      <th>1</th>\n",
              "      <td>1</td>\n",
              "      <td>1</td>\n",
              "      <td>1</td>\n",
              "      <td>PROFESSOR VICT\u00d3RIO GALLI</td>\n",
              "      <td>MT</td>\n",
              "      <td>PSC</td>\n",
              "      <td>5.423963e+12</td>\n",
              "      <td>2016-05-25T00:00:00</td>\n",
              "      <td>653.21</td>\n",
              "      <td>Partido Social Crist\u00e3o</td>\n",
              "      <td>...</td>\n",
              "      <td>417221.0</td>\n",
              "      <td>Conservatism</td>\n",
              "      <td>NaN</td>\n",
              "      <td>NaN</td>\n",
              "      <td>NaN</td>\n",
              "      <td>Rightwing</td>\n",
              "      <td>PHONE COSTS</td>\n",
              "      <td>telecomunicacao</td>\n",
              "      <td>14</td>\n",
              "      <td>14_brasil_telecomunicacao_celular</td>\n",
              "    </tr>\n",
              "    <tr>\n",
              "      <th>2</th>\n",
              "      <td>2</td>\n",
              "      <td>2</td>\n",
              "      <td>2</td>\n",
              "      <td>PROFESSOR VICT\u00d3RIO GALLI</td>\n",
              "      <td>MT</td>\n",
              "      <td>PSC</td>\n",
              "      <td>5.423963e+12</td>\n",
              "      <td>2016-02-25T00:00:00</td>\n",
              "      <td>578.30</td>\n",
              "      <td>Partido Social Crist\u00e3o</td>\n",
              "      <td>...</td>\n",
              "      <td>417221.0</td>\n",
              "      <td>Conservatism</td>\n",
              "      <td>NaN</td>\n",
              "      <td>NaN</td>\n",
              "      <td>NaN</td>\n",
              "      <td>Rightwing</td>\n",
              "      <td>PHONE COSTS</td>\n",
              "      <td>telecomunicacao</td>\n",
              "      <td>14</td>\n",
              "      <td>14_brasil_telecomunicacao_celular</td>\n",
              "    </tr>\n",
              "    <tr>\n",
              "      <th>3</th>\n",
              "      <td>3</td>\n",
              "      <td>3</td>\n",
              "      <td>3</td>\n",
              "      <td>PROFESSOR VICT\u00d3RIO GALLI</td>\n",
              "      <td>MT</td>\n",
              "      <td>PSC</td>\n",
              "      <td>5.423963e+12</td>\n",
              "      <td>2016-04-25T00:00:00</td>\n",
              "      <td>633.13</td>\n",
              "      <td>Partido Social Crist\u00e3o</td>\n",
              "      <td>...</td>\n",
              "      <td>417221.0</td>\n",
              "      <td>Conservatism</td>\n",
              "      <td>NaN</td>\n",
              "      <td>NaN</td>\n",
              "      <td>NaN</td>\n",
              "      <td>Rightwing</td>\n",
              "      <td>PHONE COSTS</td>\n",
              "      <td>telecomunicacao</td>\n",
              "      <td>14</td>\n",
              "      <td>14_brasil_telecomunicacao_celular</td>\n",
              "    </tr>\n",
              "    <tr>\n",
              "      <th>4</th>\n",
              "      <td>4</td>\n",
              "      <td>4</td>\n",
              "      <td>4</td>\n",
              "      <td>ANA PERUGINI</td>\n",
              "      <td>SP</td>\n",
              "      <td>PT</td>\n",
              "      <td>1.913889e+13</td>\n",
              "      <td>2016-07-17T00:00:00</td>\n",
              "      <td>144.99</td>\n",
              "      <td>Partido dos Trabalhadores</td>\n",
              "      <td>...</td>\n",
              "      <td>1589260.0</td>\n",
              "      <td>Democratic socialism</td>\n",
              "      <td>NaN</td>\n",
              "      <td>NaN</td>\n",
              "      <td>NaN</td>\n",
              "      <td>Centreleft</td>\n",
              "      <td>HOTEL COSTS</td>\n",
              "      <td>hotel</td>\n",
              "      <td>2_0</td>\n",
              "      <td>2_0_hotel_birigui</td>\n",
              "    </tr>\n",
              "  </tbody>\n",
              "</table>\n",
              "<p>5 rows \u00d7 23 columns</p>\n",
              "</div>\n",
              "    <div class=\"colab-df-buttons\">\n",
              "\n",
              "  <div class=\"colab-df-container\">\n",
              "    <button class=\"colab-df-convert\" onclick=\"convertToInteractive('df-ea8edb63-8069-4cbe-9786-469d929c9532')\"\n",
              "            title=\"Convert this dataframe to an interactive table.\"\n",
              "            style=\"display:none;\">\n",
              "\n",
              "  <svg xmlns=\"http://www.w3.org/2000/svg\" height=\"24px\" viewBox=\"0 -960 960 960\">\n",
              "    <path d=\"M120-120v-720h720v720H120Zm60-500h600v-160H180v160Zm220 220h160v-160H400v160Zm0 220h160v-160H400v160ZM180-400h160v-160H180v160Zm440 0h160v-160H620v160ZM180-180h160v-160H180v160Zm440 0h160v-160H620v160Z\"/>\n",
              "  </svg>\n",
              "    </button>\n",
              "\n",
              "  <style>\n",
              "    .colab-df-container {\n",
              "      display:flex;\n",
              "      gap: 12px;\n",
              "    }\n",
              "\n",
              "    .colab-df-convert {\n",
              "      background-color: #E8F0FE;\n",
              "      border: none;\n",
              "      border-radius: 50%;\n",
              "      cursor: pointer;\n",
              "      display: none;\n",
              "      fill: #1967D2;\n",
              "      height: 32px;\n",
              "      padding: 0 0 0 0;\n",
              "      width: 32px;\n",
              "    }\n",
              "\n",
              "    .colab-df-convert:hover {\n",
              "      background-color: #E2EBFA;\n",
              "      box-shadow: 0px 1px 2px rgba(60, 64, 67, 0.3), 0px 1px 3px 1px rgba(60, 64, 67, 0.15);\n",
              "      fill: #174EA6;\n",
              "    }\n",
              "\n",
              "    .colab-df-buttons div {\n",
              "      margin-bottom: 4px;\n",
              "    }\n",
              "\n",
              "    [theme=dark] .colab-df-convert {\n",
              "      background-color: #3B4455;\n",
              "      fill: #D2E3FC;\n",
              "    }\n",
              "\n",
              "    [theme=dark] .colab-df-convert:hover {\n",
              "      background-color: #434B5C;\n",
              "      box-shadow: 0px 1px 3px 1px rgba(0, 0, 0, 0.15);\n",
              "      filter: drop-shadow(0px 1px 2px rgba(0, 0, 0, 0.3));\n",
              "      fill: #FFFFFF;\n",
              "    }\n",
              "  </style>\n",
              "\n",
              "    <script>\n",
              "      const buttonEl =\n",
              "        document.querySelector('#df-ea8edb63-8069-4cbe-9786-469d929c9532 button.colab-df-convert');\n",
              "      buttonEl.style.display =\n",
              "        google.colab.kernel.accessAllowed ? 'block' : 'none';\n",
              "\n",
              "      async function convertToInteractive(key) {\n",
              "        const element = document.querySelector('#df-ea8edb63-8069-4cbe-9786-469d929c9532');\n",
              "        const dataTable =\n",
              "          await google.colab.kernel.invokeFunction('convertToInteractive',\n",
              "                                                    [key], {});\n",
              "        if (!dataTable) return;\n",
              "\n",
              "        const docLinkHtml = 'Like what you see? Visit the ' +\n",
              "          '<a target=\"_blank\" href=https://colab.research.google.com/notebooks/data_table.ipynb>data table notebook</a>'\n",
              "          + ' to learn more about interactive tables.';\n",
              "        element.innerHTML = '';\n",
              "        dataTable['output_type'] = 'display_data';\n",
              "        await google.colab.output.renderOutput(dataTable, element);\n",
              "        const docLink = document.createElement('div');\n",
              "        docLink.innerHTML = docLinkHtml;\n",
              "        element.appendChild(docLink);\n",
              "      }\n",
              "    </script>\n",
              "  </div>\n",
              "\n",
              "\n",
              "<div id=\"df-7a063867-0acf-424f-9345-d72d9cdf218d\">\n",
              "  <button class=\"colab-df-quickchart\" onclick=\"quickchart('df-7a063867-0acf-424f-9345-d72d9cdf218d')\"\n",
              "            title=\"Suggest charts\"\n",
              "            style=\"display:none;\">\n",
              "\n",
              "<svg xmlns=\"http://www.w3.org/2000/svg\" height=\"24px\"viewBox=\"0 0 24 24\"\n",
              "     width=\"24px\">\n",
              "    <g>\n",
              "        <path d=\"M19 3H5c-1.1 0-2 .9-2 2v14c0 1.1.9 2 2 2h14c1.1 0 2-.9 2-2V5c0-1.1-.9-2-2-2zM9 17H7v-7h2v7zm4 0h-2V7h2v10zm4 0h-2v-4h2v4z\"/>\n",
              "    </g>\n",
              "</svg>\n",
              "  </button>\n",
              "\n",
              "<style>\n",
              "  .colab-df-quickchart {\n",
              "      --bg-color: #E8F0FE;\n",
              "      --fill-color: #1967D2;\n",
              "      --hover-bg-color: #E2EBFA;\n",
              "      --hover-fill-color: #174EA6;\n",
              "      --disabled-fill-color: #AAA;\n",
              "      --disabled-bg-color: #DDD;\n",
              "  }\n",
              "\n",
              "  [theme=dark] .colab-df-quickchart {\n",
              "      --bg-color: #3B4455;\n",
              "      --fill-color: #D2E3FC;\n",
              "      --hover-bg-color: #434B5C;\n",
              "      --hover-fill-color: #FFFFFF;\n",
              "      --disabled-bg-color: #3B4455;\n",
              "      --disabled-fill-color: #666;\n",
              "  }\n",
              "\n",
              "  .colab-df-quickchart {\n",
              "    background-color: var(--bg-color);\n",
              "    border: none;\n",
              "    border-radius: 50%;\n",
              "    cursor: pointer;\n",
              "    display: none;\n",
              "    fill: var(--fill-color);\n",
              "    height: 32px;\n",
              "    padding: 0;\n",
              "    width: 32px;\n",
              "  }\n",
              "\n",
              "  .colab-df-quickchart:hover {\n",
              "    background-color: var(--hover-bg-color);\n",
              "    box-shadow: 0 1px 2px rgba(60, 64, 67, 0.3), 0 1px 3px 1px rgba(60, 64, 67, 0.15);\n",
              "    fill: var(--button-hover-fill-color);\n",
              "  }\n",
              "\n",
              "  .colab-df-quickchart-complete:disabled,\n",
              "  .colab-df-quickchart-complete:disabled:hover {\n",
              "    background-color: var(--disabled-bg-color);\n",
              "    fill: var(--disabled-fill-color);\n",
              "    box-shadow: none;\n",
              "  }\n",
              "\n",
              "  .colab-df-spinner {\n",
              "    border: 2px solid var(--fill-color);\n",
              "    border-color: transparent;\n",
              "    border-bottom-color: var(--fill-color);\n",
              "    animation:\n",
              "      spin 1s steps(1) infinite;\n",
              "  }\n",
              "\n",
              "  @keyframes spin {\n",
              "    0% {\n",
              "      border-color: transparent;\n",
              "      border-bottom-color: var(--fill-color);\n",
              "      border-left-color: var(--fill-color);\n",
              "    }\n",
              "    20% {\n",
              "      border-color: transparent;\n",
              "      border-left-color: var(--fill-color);\n",
              "      border-top-color: var(--fill-color);\n",
              "    }\n",
              "    30% {\n",
              "      border-color: transparent;\n",
              "      border-left-color: var(--fill-color);\n",
              "      border-top-color: var(--fill-color);\n",
              "      border-right-color: var(--fill-color);\n",
              "    }\n",
              "    40% {\n",
              "      border-color: transparent;\n",
              "      border-right-color: var(--fill-color);\n",
              "      border-top-color: var(--fill-color);\n",
              "    }\n",
              "    60% {\n",
              "      border-color: transparent;\n",
              "      border-right-color: var(--fill-color);\n",
              "    }\n",
              "    80% {\n",
              "      border-color: transparent;\n",
              "      border-right-color: var(--fill-color);\n",
              "      border-bottom-color: var(--fill-color);\n",
              "    }\n",
              "    90% {\n",
              "      border-color: transparent;\n",
              "      border-bottom-color: var(--fill-color);\n",
              "    }\n",
              "  }\n",
              "</style>\n",
              "\n",
              "  <script>\n",
              "    async function quickchart(key) {\n",
              "      const quickchartButtonEl =\n",
              "        document.querySelector('#' + key + ' button');\n",
              "      quickchartButtonEl.disabled = true;  // To prevent multiple clicks.\n",
              "      quickchartButtonEl.classList.add('colab-df-spinner');\n",
              "      try {\n",
              "        const charts = await google.colab.kernel.invokeFunction(\n",
              "            'suggestCharts', [key], {});\n",
              "      } catch (error) {\n",
              "        console.error('Error during call to suggestCharts:', error);\n",
              "      }\n",
              "      quickchartButtonEl.classList.remove('colab-df-spinner');\n",
              "      quickchartButtonEl.classList.add('colab-df-quickchart-complete');\n",
              "    }\n",
              "    (() => {\n",
              "      let quickchartButtonEl =\n",
              "        document.querySelector('#df-7a063867-0acf-424f-9345-d72d9cdf218d button');\n",
              "      quickchartButtonEl.style.display =\n",
              "        google.colab.kernel.accessAllowed ? 'block' : 'none';\n",
              "    })();\n",
              "  </script>\n",
              "</div>\n",
              "\n",
              "    </div>\n",
              "  </div>\n"
            ],
            "text/plain": [
              "   Unnamed: 0.2  Unnamed: 0  Unnamed: 0.1               deputy_name  \\\n",
              "0             0           0             0  PROFESSOR VICT\u00d3RIO GALLI   \n",
              "1             1           1             1  PROFESSOR VICT\u00d3RIO GALLI   \n",
              "2             2           2             2  PROFESSOR VICT\u00d3RIO GALLI   \n",
              "3             3           3             3  PROFESSOR VICT\u00d3RIO GALLI   \n",
              "4             4           4             4              ANA PERUGINI   \n",
              "\n",
              "  deputy_state political_party    company_id          refund_date  \\\n",
              "0           MT             PSC  5.423963e+12  2016-03-25T00:00:00   \n",
              "1           MT             PSC  5.423963e+12  2016-05-25T00:00:00   \n",
              "2           MT             PSC  5.423963e+12  2016-02-25T00:00:00   \n",
              "3           MT             PSC  5.423963e+12  2016-04-25T00:00:00   \n",
              "4           SP              PT  1.913889e+13  2016-07-17T00:00:00   \n",
              "\n",
              "   refund_value                   party_pg  ... party_nmembers  \\\n",
              "0        620.80     Partido Social Crist\u00e3o  ...       417221.0   \n",
              "1        653.21     Partido Social Crist\u00e3o  ...       417221.0   \n",
              "2        578.30     Partido Social Crist\u00e3o  ...       417221.0   \n",
              "3        633.13     Partido Social Crist\u00e3o  ...       417221.0   \n",
              "4        144.99  Partido dos Trabalhadores  ...      1589260.0   \n",
              "\n",
              "        party_ideology1 party_ideology2  party_ideology3 party_ideology4  \\\n",
              "0          Conservatism             NaN              NaN             NaN   \n",
              "1          Conservatism             NaN              NaN             NaN   \n",
              "2          Conservatism             NaN              NaN             NaN   \n",
              "3          Conservatism             NaN              NaN             NaN   \n",
              "4  Democratic socialism             NaN              NaN             NaN   \n",
              "\n",
              "  party_position refund_description             type company_name_new  \\\n",
              "0      Rightwing        PHONE COSTS  telecomunicacao               14   \n",
              "1      Rightwing        PHONE COSTS  telecomunicacao               14   \n",
              "2      Rightwing        PHONE COSTS  telecomunicacao               14   \n",
              "3      Rightwing        PHONE COSTS  telecomunicacao               14   \n",
              "4     Centreleft        HOTEL COSTS            hotel              2_0   \n",
              "\n",
              "                        company_name  \n",
              "0  14_brasil_telecomunicacao_celular  \n",
              "1  14_brasil_telecomunicacao_celular  \n",
              "2  14_brasil_telecomunicacao_celular  \n",
              "3  14_brasil_telecomunicacao_celular  \n",
              "4                  2_0_hotel_birigui  \n",
              "\n",
              "[5 rows x 23 columns]"
            ]
          },
          "execution_count": null,
          "metadata": {},
          "output_type": "execute_result"
        }
      ],
      "source": [
        "deputies.head()"
      ]
    },
    {
      "cell_type": "markdown",
      "metadata": {
        "id": "1zBddE9xi1ko"
      },
      "source": [
        "Script:\n",
        "* For this analysis, we will just look at the refund value.\n",
        "* Let's start with a basic histogram."
      ]
    },
    {
      "cell_type": "code",
      "execution_count": null,
      "metadata": {
        "colab": {
          "base_uri": "https://localhost:8080/",
          "height": 447
        },
        "id": "gzbmwfKjgtt6",
        "outputId": "9e2ced60-3dfe-45a3-bbdf-d3778c31dd47"
      },
      "outputs": [
        {
          "data": {
            "text/plain": [
              "<Axes: >"
            ]
          },
          "execution_count": null,
          "metadata": {},
          "output_type": "execute_result"
        },
        {
          "data": {
            "image/png": "[encoded data removed]",
            "text/plain": [
              "<Figure size 640x480 with 1 Axes>"
            ]
          },
          "execution_count": null,
          "metadata": {},
          "output_type": "display_data"
        }
      ],
      "source": [
        "deputies[\"refund_value\"].hist()"
      ]
    },
    {
      "cell_type": "markdown",
      "metadata": {
        "id": "EieCuIzoi-Kk"
      },
      "source": [
        "Script:\n",
        "* From this histogram, we see that most of the reimbursements are pretty concentrated.\n",
        "* It looks like they are mostly under $15,000 but we will have to make the bars finer to tell for sure.\n",
        "* It is also clear that there are some much higher reimbursements since the labels on the x-axis go up to $175,000?\n",
        "* Those should get more scrutiny - they might represent dirty data or dirty politicians?\n",
        "* Let's take a more fine-grained look at the data with more histogram bins."
      ]
    },
    {
      "cell_type": "code",
      "execution_count": null,
      "metadata": {
        "colab": {
          "base_uri": "https://localhost:8080/",
          "height": 447
        },
        "id": "ZwPxvwdUiAxh",
        "outputId": "520b6a2b-42cd-41d2-f618-50d8cf781651"
      },
      "outputs": [
        {
          "data": {
            "text/plain": [
              "<Axes: >"
            ]
          },
          "execution_count": null,
          "metadata": {},
          "output_type": "execute_result"
        },
        {
          "data": {
            "image/png": "[encoded data removed]",
            "text/plain": [
              "<Figure size 640x480 with 1 Axes>"
            ]
          },
          "execution_count": null,
          "metadata": {},
          "output_type": "display_data"
        }
      ],
      "source": [
        "deputies[\"refund_value\"].hist(bins=100)"
      ]
    },
    {
      "cell_type": "markdown",
      "metadata": {
        "id": "9CJn1ld8jvfm"
      },
      "source": [
        "Script:\n",
        "* From this histogram, we can seem more clearly that most of the reimbursements are a few thousand dollars or less, which makes the extremely high values look even more like outliers.\n",
        "* Also, there is a small bin to the left of the bin containing zero.\n",
        "* What's that?\n",
        "* Let's double check the range of these values."
      ]
    },
    {
      "cell_type": "code",
      "execution_count": null,
      "metadata": {
        "colab": {
          "base_uri": "https://localhost:8080/",
          "height": 145
        },
        "id": "KYJ3vNmhg0wO",
        "outputId": "1b8dc7c2-7b25-496b-8471-a6235c3ce387"
      },
      "outputs": [
        {
          "data": {
            "text/html": [
              "<div>\n",
              "<style scoped>\n",
              "    .dataframe tbody tr th:only-of-type {\n",
              "        vertical-align: middle;\n",
              "    }\n",
              "\n",
              "    .dataframe tbody tr th {\n",
              "        vertical-align: top;\n",
              "    }\n",
              "\n",
              "    .dataframe thead th {\n",
              "        text-align: right;\n",
              "    }\n",
              "</style>\n",
              "<table border=\"1\" class=\"dataframe\">\n",
              "  <thead>\n",
              "    <tr style=\"text-align: right;\">\n",
              "      <th></th>\n",
              "      <th>refund_value</th>\n",
              "    </tr>\n",
              "  </thead>\n",
              "  <tbody>\n",
              "    <tr>\n",
              "      <th>min</th>\n",
              "      <td>-6100.0</td>\n",
              "    </tr>\n",
              "    <tr>\n",
              "      <th>max</th>\n",
              "      <td>184500.0</td>\n",
              "    </tr>\n",
              "  </tbody>\n",
              "</table>\n",
              "</div><br><label><b>dtype:</b> float64</label>"
            ],
            "text/plain": [
              "min     -6100.0\n",
              "max    184500.0\n",
              "Name: refund_value, dtype: float64"
            ]
          },
          "execution_count": null,
          "metadata": {},
          "output_type": "execute_result"
        }
      ],
      "source": [
        "deputies[\"refund_value\"].agg([\"min\", \"max\"])"
      ]
    },
    {
      "cell_type": "markdown",
      "metadata": {
        "id": "7VvTNZaokRIN"
      },
      "source": [
        "Script:\n",
        "* So the highest value is about \\$185,000 which is not a surprise.\n",
        "* But there is at least one reimbursement for negative \\$6,000.\n",
        "* What does a negative reimbursement mean?\n",
        "* Was something reversed or cancelled out?\n",
        "* That bears further investigation.\n",
        "* Let's look a histogram with the values from $0 to $25,000 filtered out, so we can look more at the extreme values."
      ]
    },
    {
      "cell_type": "code",
      "execution_count": null,
      "metadata": {
        "id": "k77aSFC_hesT"
      },
      "outputs": [],
      "source": [
        "deputies.query(\"refund_value < 0 or refund_value > 25000\")[\"refund_value\"].hist(bins=100)"
      ]
    },
    {
      "cell_type": "markdown",
      "metadata": {
        "id": "eM5syDh7kzLT"
      },
      "source": [
        "Script:\n",
        "* It looks like there are quite a few negative reimbursements in this data set.\n",
        "* Most of them are relatively small, but there are thousands of them.\n",
        "* We found these rows pretty easily using histograms and the min/max statistics.\n",
        "* We will need to learn more about where they came from to decide what to do with them which will be the case for most problems."
      ]
    }
  ],
  "metadata": {
    "colab": {},
    "kernelspec": {
      "display_name": "Python 3",
      "name": "python3"
    },
    "language_info": {
      "codemirror_mode": {
        "name": "ipython",
        "version": 3
      },
      "file_extension": ".py",
      "mimetype": "text/x-python",
      "name": "python",
      "nbconvert_exporter": "python",
      "pygments_lexer": "ipython3",
      "version": "3.9.6"
    }
  },
  "nbformat": 4,
  "nbformat_minor": 0
}