{
 "cells": [
  {
   "cell_type": "markdown",
   "id": "83b49099",
   "metadata": {},
   "source": [
    "Array slicing syntax/examples"
   ]
  },
  {
   "cell_type": "code",
   "execution_count": null,
   "id": "0c4fb0d6",
   "metadata": {},
   "outputs": [
    {
     "name": "stdout",
     "output_type": "stream",
     "text": [
      "x = \n",
      "[[ 0  1  2  3  4  5]\n",
      " [ 6  7  8  9 10 11]\n",
      " [12 13 14 15 16 17]\n",
      " [18 19 20 21 22 23]\n",
      " [24 25 26 27 28 29]]\n",
      "x[ 2:4, 3:5 ] = \n",
      "[[15 16]\n",
      " [21 22]]\n"
     ]
    }
   ],
   "source": [
    "import numpy as np\n",
    "# create an array of 30 values\n",
    "x = np.arange(30)\n",
    "x = x.reshape((5,6))\n",
    "print('x = ')\n",
    "print(x)\n",
    "# # indexing\n",
    "# print('x[4] = ')\n",
    "# print(x[4])\n",
    "# \n",
    "# print('x[2:4] = ') # slicing: multiple rows\n",
    "# print(x[2:4])\n",
    "## slicing: columns:\n",
    "# print('x[ :, 3:4 ] = ')\n",
    "# print(x[ :, 3:4 ]) # slicing all rows, one column\n",
    "# print('x[ :, 3:5 ] = ')\n",
    "# print(x[ :, 3:5 ]) # slicing all rows, select columns\n",
    "print('x[ 2:4, 3:5 ] = ')\n",
    "print(x[ 2:4, 3:5 ]) # slicing selected rows/columns\n"
   ]
  },
  {
   "cell_type": "markdown",
   "id": "a617af71",
   "metadata": {},
   "source": [
    "Example of reshaping 1-d arrays into row/column vectors so that + applies by broadcasting"
   ]
  },
  {
   "cell_type": "code",
   "execution_count": null,
   "id": "61a8bb3e",
   "metadata": {},
   "outputs": [
    {
     "name": "stdout",
     "output_type": "stream",
     "text": [
      "a = \n",
      "[[10]\n",
      " [12]\n",
      " [14]\n",
      " [16]\n",
      " [18]]\n",
      "b = \n",
      "[90 91 92 93 94 95 96 97 98 99]\n",
      "a + b =\n",
      "[[100 101 102 103 104 105 106 107 108 109]\n",
      " [102 103 104 105 106 107 108 109 110 111]\n",
      " [104 105 106 107 108 109 110 111 112 113]\n",
      " [106 107 108 109 110 111 112 113 114 115]\n",
      " [108 109 110 111 112 113 114 115 116 117]]\n"
     ]
    }
   ],
   "source": [
    "import numpy as np\n",
    "a = np.arange(10, 20, 2)\n",
    "b = np.arange(90, 100)\n",
    "# print( a + b ) # woah! that didn't work; shapes (5,) + (10,)\n",
    "\n",
    "# reshape array a:\n",
    "# a = a.reshape((5,1)) # created a column vector (2-dim): 5x1\n",
    "a = a[ :, None ] # slicing all elements into separate rows\n",
    "print('a = ')\n",
    "print(a)\n",
    "print('b = ')\n",
    "print(b)\n",
    "print('a + b =')\n",
    "print( a + b )\n"
   ]
  },
  {
   "cell_type": "markdown",
   "id": "d88c355b",
   "metadata": {},
   "source": [
    "Discuss array column-wise vs row-wise operations"
   ]
  },
  {
   "cell_type": "code",
   "execution_count": null,
   "id": "8dc86e63",
   "metadata": {},
   "outputs": [
    {
     "name": "stdout",
     "output_type": "stream",
     "text": [
      "x = \n",
      "[33 88 64 53 98 82 93 82 55 35 40 91 12 49 45 28 29 86  7 50 21 39 11 24]\n",
      "x = \n",
      "[[33 88 64 53 98 82]\n",
      " [93 82 55 35 40 91]\n",
      " [12 49 45 28 29 86]\n",
      " [ 7 50 21 39 11 24]]\n",
      "y.min(axis=1).T = \n",
      "[[ 7]\n",
      " [49]\n",
      " [21]\n",
      " [28]\n",
      " [11]\n",
      " [24]]\n"
     ]
    }
   ],
   "source": [
    "import numpy as np\n",
    "x = np.random.randint(1, 100, size=24)\n",
    "print('x = ')\n",
    "print(x)\n",
    "x = x.reshape((4,-1))\n",
    "print('x = ')\n",
    "print(x)\n",
    "# print('x.min() =')\n",
    "# print(x.min())\n",
    "# # column-wise operations:\n",
    "# print('x.min(axis=0) = ')\n",
    "# print(x.min(axis=0))\n",
    "# # row-wise operations:\n",
    "# print('x.min(axis=1).reshape(4,-1) = ')\n",
    "# print(x.min(axis=1).reshape(4,-1))\n",
    "# print('x.min(axis=1).T = ')\n",
    "# print(x.min(axis=1).T)\n",
    "# a transpose of a 1-d array is still a 1-d array\n",
    "y = np.array([x]) # create a 2-d array (row)\n",
    "print('y.min(axis=1).T = ')\n",
    "print(y.min(axis=1).T)\n"
   ]
  },
  {
   "cell_type": "markdown",
   "id": "4723d7cf",
   "metadata": {},
   "source": [
    "np functions to discuss/examples:\n",
    "- np.ravel\n",
    "- np.flatten\n",
    "- np.hstack, np.vstack"
   ]
  },
  {
   "cell_type": "code",
   "execution_count": 152,
   "id": "e5252826",
   "metadata": {},
   "outputs": [
    {
     "name": "stdout",
     "output_type": "stream",
     "text": [
      "x = \n",
      "[[ 0  1  2  3  4  5]\n",
      " [ 6  7  8  9 10 11]\n",
      " [12 13 14 15 16 17]\n",
      " [18 19 20 21 22 23]]\n",
      "y = \n",
      "[ 0  1  2  3  4  5  6  7  8  9 10 11 12 13 14 15 16 17 18 19 20 21 22 23]\n",
      "y = \n",
      "[99  1  2  3  4  5  6  7  8  9 10 11 12 13 14 15 16 17 18 19 20 21 22 23]\n",
      "x = \n",
      "[[ 0  1  2  3  4  5]\n",
      " [ 6  7  8  9 10 11]\n",
      " [12 13 14 15 16 17]\n",
      " [18 19 20 21 22 23]]\n"
     ]
    }
   ],
   "source": [
    "x = np.arange(24).reshape((4,6))\n",
    "print('x = ')\n",
    "print(x)\n",
    "# y = np.ravel(x) # combine into a 1-d view\n",
    "y = x.flatten() # return a new array in 1-d\n",
    "print('y = ')\n",
    "print(y)\n",
    "y[0] = 99 # change one element\n",
    "print('y = ')\n",
    "print(y)\n",
    "print('x = ')\n",
    "print(x)\n",
    "\n"
   ]
  },
  {
   "cell_type": "markdown",
   "id": "ba0ef0bb",
   "metadata": {},
   "source": [
    "- time comparison of append vs create zeros and fill in values\n",
    "- discuss view vs copy, performance characteristics\n",
    "- monte carlo simulation (python vs numpy)\n",
    "\n"
   ]
  },
  {
   "cell_type": "code",
   "execution_count": null,
   "id": "315f06a0",
   "metadata": {},
   "outputs": [
    {
     "name": "stdout",
     "output_type": "stream",
     "text": [
      "7851972 hits out of 10000000 throws; est_pi = 3.1407888\n",
      "Elapsed time was 4.512710094451904 seconds.\n",
      "7854269 hits out of 10000000 throws; est_pi = 3.1417076\n",
      "Elapsed time was 0.24307036399841309 seconds.\n"
     ]
    }
   ],
   "source": [
    "import time\n",
    "import random\n",
    "# print(time.time()) # 1/1/1970 at 0:00:00\n",
    "\n",
    "# filling up an array of elements:\n",
    "# n = 100000000\n",
    "# print(f'fill in {n:,} elements... with append') ### took about 2 seconds for 100,000 elements\n",
    "# a = np.array([])\n",
    "# bt = time.time() # record the time before this operation\n",
    "# for i in range(n):\n",
    "#     a = np.append(a, i)\n",
    "# et = time.time() # record the time after this operation\n",
    "# # print(a)\n",
    "# print(f\"Elapsed time was {et-bt} seconds.\")\n",
    "\n",
    "# # create an array of zeros, and fill in values:\n",
    "# print(f'fill in {n:,} elements... with assignment')\n",
    "# a = np.zeros(n)\n",
    "# bt = time.time() # record the time before this operation\n",
    "# for i in range(n):\n",
    "#     a[i] = i\n",
    "# et = time.time() # record the time after this operation\n",
    "# #print(a)\n",
    "# print(f\"Elapsed time was {et-bt} seconds.\")\n",
    "\n",
    "# # create an array of zeros, and fill in values:\n",
    "# print(f'fill in {n:,} elements... with np.arange(n)')\n",
    "# bt = time.time() # record the time before this operation\n",
    "# a = np.arange(n)\n",
    "# et = time.time() # record the time after this operation\n",
    "# #print(a)\n",
    "# print(f\"Elapsed time was {et-bt} seconds.\")\n",
    "\n",
    "# estimate pi by throwing darts\n",
    "## (1) using a for loop and plain python arithmetic\n",
    "throws = 10000000\n",
    "hits = 0 # inside the circle\n",
    "bt = time.time() # record the time before this operation\n",
    "for i in range(throws):\n",
    "    x = random.random()\n",
    "    y = random.random()\n",
    "\n",
    "    # check if (x,y) is inside the circle:\n",
    "    if x ** 2 + y ** 2 <= 1:\n",
    "        hits += 1\n",
    "et = time.time() # record the time after this operation\n",
    "est_pi = 4 * hits / throws\n",
    "print(f'{hits} hits out of {throws} throws; est_pi = {est_pi}')\n",
    "print(f\"Elapsed time was {et-bt} seconds.\")\n",
    "\n",
    "## (2) the same operation, using numpy:\n",
    "bt = time.time() # record the time before this operation\n",
    "x = np.random.random(throws)\n",
    "y = np.random.random(throws)\n",
    "hits = (x ** 2 + y ** 2 <= 1).sum()\n",
    "est_pi = 4 * hits / throws\n",
    "et = time.time() # record the time after this operation\n",
    "print(f'{hits} hits out of {throws} throws; est_pi = {est_pi}')\n",
    "print(f\"Elapsed time was {et-bt} seconds.\")\n"
   ]
  }
 ],
 "metadata": {
  "kernelspec": {
   "display_name": "base",
   "language": "python",
   "name": "python3"
  },
  "language_info": {
   "codemirror_mode": {
    "name": "ipython",
    "version": 3
   },
   "file_extension": ".py",
   "mimetype": "text/x-python",
   "name": "python",
   "nbconvert_exporter": "python",
   "pygments_lexer": "ipython3",
   "version": "3.9.12"
  }
 },
 "nbformat": 4,
 "nbformat_minor": 5
}
