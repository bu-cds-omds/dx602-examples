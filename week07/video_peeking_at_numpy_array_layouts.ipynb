{
  "cells": [
    {
      "cell_type": "markdown",
      "metadata": {
        "id": "ZTdxjWeMkB-A"
      },
      "source": [
        "# Video: Peeking at NumPy Array Layouts\n",
        "\n",
        "This video looks at the underlying array layouts of two and three dimensional arrays to improve your intuition about how they work."
      ]
    },
    {
      "cell_type": "markdown",
      "metadata": {
        "id": "YR05Vzw6fY2G"
      },
      "source": [
        "* Let's look at a few more examples of how these array layouts work to get them really grounded in your head.\n",
        "* All of these examples will be using row major order, since that is the default of NumPy, and we won't be trying anything that changes it.\n",
        "* I'm going to start with a 2-dimensional array, where the hundreds digit is the first coordinate, and the ones digit is the second coordinate."
      ]
    },
    {
      "cell_type": "code",
      "execution_count": null,
      "metadata": {
        "colab": {
          "base_uri": "https://localhost:8080/"
        },
        "id": "Vamn5tT1pmPH",
        "outputId": "274e5ccc-b71f-4017-b52c-44a27bf6ab13"
      },
      "outputs": [
        {
          "data": {
            "text/plain": [
              "array([[  0,   1,   2,   3],\n",
              "       [100, 101, 102, 103],\n",
              "       [200, 201, 202, 203]])"
            ]
          },
          "execution_count": 22,
          "metadata": {},
          "output_type": "execute_result"
        }
      ],
      "source": [
        "import numpy as np\n",
        "\n",
        "x = np.array([[0, 1, 2, 3], [100, 101, 102, 103], [200, 201, 202, 203]])\n",
        "x"
      ]
    },
    {
      "cell_type": "markdown",
      "metadata": {
        "id": "0QCQ77FqfzZp"
      },
      "source": [
        "* So looking at how that is displayed now, if you see one of these numbers, you can tell where it came from in the array.\n",
        "* To be even more explicit about how it is organized, let's look at one row at a time."
      ]
    },
    {
      "cell_type": "code",
      "execution_count": null,
      "metadata": {
        "colab": {
          "base_uri": "https://localhost:8080/"
        },
        "id": "nFstY9Thwgvu",
        "outputId": "f1ec9258-d2e8-4b58-ea72-dd25e8989f31"
      },
      "outputs": [
        {
          "data": {
            "text/plain": [
              "array([0, 1, 2, 3])"
            ]
          },
          "execution_count": 23,
          "metadata": {},
          "output_type": "execute_result"
        }
      ],
      "source": [
        "x[0]"
      ]
    },
    {
      "cell_type": "code",
      "execution_count": null,
      "metadata": {
        "colab": {
          "base_uri": "https://localhost:8080/"
        },
        "id": "csxCT8UCwq4q",
        "outputId": "93061216-0f1e-4493-92dc-05e2069811a4"
      },
      "outputs": [
        {
          "data": {
            "text/plain": [
              "array([100, 101, 102, 103])"
            ]
          },
          "execution_count": 24,
          "metadata": {},
          "output_type": "execute_result"
        }
      ],
      "source": [
        "x[1]"
      ]
    },
    {
      "cell_type": "code",
      "execution_count": null,
      "metadata": {
        "colab": {
          "base_uri": "https://localhost:8080/"
        },
        "id": "Hjd0Wdl-wjCC",
        "outputId": "4526aa03-9942-4cfd-9f2e-355c53566ce2"
      },
      "outputs": [
        {
          "data": {
            "text/plain": [
              "array([200, 201, 202, 203])"
            ]
          },
          "execution_count": 25,
          "metadata": {},
          "output_type": "execute_result"
        }
      ],
      "source": [
        "x[2]"
      ]
    },
    {
      "cell_type": "markdown",
      "metadata": {
        "id": "7JVxnlzJgLzY"
      },
      "source": [
        "* Now, let's look at the layout of this array.\n",
        "* There is a function called ravel that numpy has to see the contents of an array flattened into one dimensional.\n",
        "* The word ravel is a verb meaning to become unwoven, untwisted, or unwound.\n",
        "* So this function will remove the more complicated 2D structure."
      ]
    },
    {
      "cell_type": "code",
      "execution_count": null,
      "metadata": {
        "colab": {
          "base_uri": "https://localhost:8080/"
        },
        "id": "oV0FlCFmvPnR",
        "outputId": "728dd27c-d7a4-44e4-c621-1e44d26d7c59"
      },
      "outputs": [
        {
          "data": {
            "text/plain": [
              "array([  0,   1,   2,   3, 100, 101, 102, 103, 200, 201, 202, 203])"
            ]
          },
          "execution_count": 26,
          "metadata": {},
          "output_type": "execute_result"
        }
      ],
      "source": [
        "x_1d = np.ravel(x)\n",
        "x_1d"
      ]
    },
    {
      "cell_type": "markdown",
      "metadata": {
        "id": "AdkN8tQ1hQ1e"
      },
      "source": [
        "* One promise of this function is that it will make sure that the data is contiguous in memory, all in a row together, in the same order as we see it in the array.\n",
        "* And it will do this sharing the memory of the original array if possible.\n",
        "* We will get into the technical details of that in the next lesson.\n",
        "* For now, the thing to know is that if the sharing works, you can edit the contents of one array from the other array, because their data is the same."
      ]
    },
    {
      "cell_type": "code",
      "execution_count": null,
      "metadata": {
        "colab": {
          "base_uri": "https://localhost:8080/"
        },
        "id": "hDNUE1fyvW89",
        "outputId": "64de7085-1858-444f-a562-ceec07d358a1"
      },
      "outputs": [
        {
          "data": {
            "text/plain": [
              "array([[  0,   1, 999,   3],\n",
              "       [100, 101, 102, 103],\n",
              "       [200, 201, 202, 203]])"
            ]
          },
          "execution_count": 27,
          "metadata": {},
          "output_type": "execute_result"
        }
      ],
      "source": [
        "x_1d[2] = 999\n",
        "x"
      ]
    },
    {
      "cell_type": "markdown",
      "metadata": {
        "id": "lp1SVIlFhz9_"
      },
      "source": [
        "* See how a value in the original array x changed when we changed a value in the raveled array?\n",
        "* So there we can see that the order from the raveled array is the same as the order used by the two dimensional array, because we can see them sharing data."
      ]
    },
    {
      "cell_type": "markdown",
      "metadata": {
        "id": "B0Y4FrpbiTy7"
      },
      "source": [
        "* Let's look at another example, this time in 3D.\n",
        "* For this example, I will start with the linear 1-dimensional array, and turn it a 3-dimensional array."
      ]
    },
    {
      "cell_type": "code",
      "execution_count": null,
      "metadata": {
        "colab": {
          "base_uri": "https://localhost:8080/"
        },
        "id": "Ye8gpEKXvzlv",
        "outputId": "12473361-c446-47c8-d369-3adeb3f99f7d"
      },
      "outputs": [
        {
          "data": {
            "text/plain": [
              "array([ 0,  1,  2,  3,  4,  5,  6,  7,  8,  9, 10, 11, 12, 13, 14, 15, 16,\n",
              "       17, 18, 19, 20, 21, 22, 23, 24, 25, 26])"
            ]
          },
          "execution_count": 7,
          "metadata": {},
          "output_type": "execute_result"
        }
      ],
      "source": [
        "y = np.arange(27)\n",
        "y"
      ]
    },
    {
      "cell_type": "markdown",
      "metadata": {
        "id": "krpVWnDaiizR"
      },
      "source": [
        "* The y array was initialized counting from zero, so you can relate the original position to the 3D view.\n",
        "* The length of y is 27 which is 3 to the third power, so we can turn it into a 3 by 3 by 3 array with 3 dimensions.\n"
      ]
    },
    {
      "cell_type": "code",
      "execution_count": null,
      "metadata": {
        "colab": {
          "base_uri": "https://localhost:8080/"
        },
        "id": "wo9l6bOVwBnL",
        "outputId": "acdd8ab8-2186-4415-9aa2-52df0ea0846a"
      },
      "outputs": [
        {
          "data": {
            "text/plain": [
              "array([[[ 0,  1,  2],\n",
              "        [ 3,  4,  5],\n",
              "        [ 6,  7,  8]],\n",
              "\n",
              "       [[ 9, 10, 11],\n",
              "        [12, 13, 14],\n",
              "        [15, 16, 17]],\n",
              "\n",
              "       [[18, 19, 20],\n",
              "        [21, 22, 23],\n",
              "        [24, 25, 26]]])"
            ]
          },
          "execution_count": 9,
          "metadata": {},
          "output_type": "execute_result"
        }
      ],
      "source": [
        "y = y.reshape((3, 3, 3))\n",
        "y"
      ]
    },
    {
      "cell_type": "markdown",
      "metadata": {
        "id": "TWGKmLX6ivSR"
      },
      "source": [
        "* See how in this view, the values in y still count from zero, but with various sub arrays beginning and ending, adding a lot of punctuation between numbers.\n",
        "* If you fix the first dimension's index to be zero, you will see the array with values from 0 to 8."
      ]
    },
    {
      "cell_type": "code",
      "execution_count": null,
      "metadata": {
        "colab": {
          "base_uri": "https://localhost:8080/"
        },
        "id": "zUvRBi_vwW0B",
        "outputId": "421bc313-9876-4337-f5fe-5a52abfb3195"
      },
      "outputs": [
        {
          "data": {
            "text/plain": [
              "array([[0, 1, 2],\n",
              "       [3, 4, 5],\n",
              "       [6, 7, 8]])"
            ]
          },
          "execution_count": 10,
          "metadata": {},
          "output_type": "execute_result"
        }
      ],
      "source": [
        "y[0]"
      ]
    },
    {
      "cell_type": "markdown",
      "metadata": {
        "id": "KKXDlVnmjdqc"
      },
      "source": [
        "* If you fix the first index to one, you will see the array with values from 9 to 17."
      ]
    },
    {
      "cell_type": "code",
      "execution_count": null,
      "metadata": {
        "colab": {
          "base_uri": "https://localhost:8080/"
        },
        "id": "m8gmgEZFwYZ_",
        "outputId": "910c8ae7-e3e8-4cc0-86ef-ed89656c5791"
      },
      "outputs": [
        {
          "data": {
            "text/plain": [
              "array([[ 9, 10, 11],\n",
              "       [12, 13, 14],\n",
              "       [15, 16, 17]])"
            ]
          },
          "execution_count": 11,
          "metadata": {},
          "output_type": "execute_result"
        }
      ],
      "source": [
        "y[1]"
      ]
    },
    {
      "cell_type": "markdown",
      "metadata": {
        "id": "QLbmhwKUjidD"
      },
      "source": [
        "* And if you fix the first index to two, you will see the array with values from 18 to 26."
      ]
    },
    {
      "cell_type": "code",
      "execution_count": null,
      "metadata": {
        "colab": {
          "base_uri": "https://localhost:8080/"
        },
        "id": "wki90RVQwZx4",
        "outputId": "72d4d291-3a69-42d8-9cf0-431103a129a5"
      },
      "outputs": [
        {
          "data": {
            "text/plain": [
              "array([[18, 19, 20],\n",
              "       [21, 22, 23],\n",
              "       [24, 25, 26]])"
            ]
          },
          "execution_count": 12,
          "metadata": {},
          "output_type": "execute_result"
        }
      ],
      "source": [
        "y[2]"
      ]
    },
    {
      "cell_type": "markdown",
      "metadata": {
        "id": "Klfz2NC3keS4"
      },
      "source": [
        "* Hopefully, this improves your intuition for how multi-dimensional arrays are laid out in memory."
      ]
    },
    {
      "cell_type": "markdown",
      "metadata": {
        "id": "-vG9uohrm6al"
      },
      "source": [
        "**Code Notes:**\n",
        "* The NumPy function [`numpy.ravel`](https://numpy.org/doc/stable/reference/generated/numpy.ravel.html), referenced as `np.ravel`, returns a contiguous 1-dimensional view of the input array.\n",
        "  * If possible, it returns a view of the input array, so the underlying data is shared.\n",
        "  * We will learn more about views in the next lesson."
      ]
    }
  ],
  "metadata": {
    "colab": {},
    "kernelspec": {
      "display_name": "Python 3",
      "name": "python3"
    },
    "language_info": {
      "codemirror_mode": {
        "name": "ipython",
        "version": 3
      },
      "file_extension": ".py",
      "mimetype": "text/x-python",
      "name": "python",
      "nbconvert_exporter": "python",
      "pygments_lexer": "ipython3",
      "version": "3.9.6"
    }
  },
  "nbformat": 4,
  "nbformat_minor": 0
}