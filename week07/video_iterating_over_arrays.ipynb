{
  "cells": [
    {
      "cell_type": "markdown",
      "metadata": {
        "id": "KvAzoFMAsFxM"
      },
      "source": [
        "# Video: Iterating over Arrays\n",
        "\n",
        "This video shows how to iterate over every value in a NumPy array.\n",
        "This is not a common operation, since it loses the efficiency advantage of NumPy's bulk operations, but is useful for understanding array layouts."
      ]
    },
    {
      "cell_type": "markdown",
      "metadata": {
        "id": "pIzBk7Zts2NP"
      },
      "source": [
        "Script:\n",
        "* Let's look at how iteration works with NumPy arrays."
      ]
    },
    {
      "cell_type": "code",
      "execution_count": null,
      "metadata": {
        "id": "6BfAs-7HtDZe"
      },
      "outputs": [],
      "source": [
        "import numpy as np"
      ]
    },
    {
      "cell_type": "markdown",
      "metadata": {
        "id": "4gJhruustFfP"
      },
      "source": [
        "Script:\n",
        "* Iterating over a one-dimensional array is just like iterating over a normal Python list."
      ]
    },
    {
      "cell_type": "code",
      "execution_count": null,
      "metadata": {
        "colab": {
          "base_uri": "https://localhost:8080/"
        },
        "id": "XGpF6JlntMmi",
        "outputId": "892d438c-6378-4749-b153-35e463a490d6"
      },
      "outputs": [
        {
          "data": {
            "text/plain": [
              "array([0, 1, 2, 3, 4, 5])"
            ]
          },
          "execution_count": null,
          "metadata": {},
          "output_type": "execute_result"
        }
      ],
      "source": [
        "x_1d = np.arange(6)\n",
        "x_1d"
      ]
    },
    {
      "cell_type": "code",
      "execution_count": null,
      "metadata": {
        "colab": {
          "base_uri": "https://localhost:8080/"
        },
        "id": "dLv4r6JxtYMy",
        "outputId": "1f1b29a6-2550-44fc-c843-3ac08d9d96d6"
      },
      "outputs": [
        {
          "name": "stdout",
          "output_type": "stream",
          "text": [
            "VALUE 0\n",
            "VALUE 1\n",
            "VALUE 2\n",
            "VALUE 3\n",
            "VALUE 4\n",
            "VALUE 5\n"
          ]
        }
      ],
      "source": [
        "for v in x_1d:\n",
        "    print(\"VALUE\", v)"
      ]
    },
    {
      "cell_type": "markdown",
      "metadata": {
        "id": "VPjvzAM8tdcJ"
      },
      "source": [
        "Script:\n",
        "* Iterating over a multi-dimensional array iterates over values for the first dimension, and returns subarrays."
      ]
    },
    {
      "cell_type": "code",
      "execution_count": null,
      "metadata": {
        "colab": {
          "base_uri": "https://localhost:8080/"
        },
        "id": "vxAFOjVltje3",
        "outputId": "1c3f29a7-f4e8-4410-dce0-8ee2667348e9"
      },
      "outputs": [
        {
          "data": {
            "text/plain": [
              "array([[0, 1, 2],\n",
              "       [3, 4, 5]])"
            ]
          },
          "execution_count": null,
          "metadata": {},
          "output_type": "execute_result"
        }
      ],
      "source": [
        "x_2d = x_1d.reshape(2, 3)\n",
        "x_2d"
      ]
    },
    {
      "cell_type": "code",
      "execution_count": null,
      "metadata": {
        "colab": {
          "base_uri": "https://localhost:8080/"
        },
        "id": "Iltv9hiftpeI",
        "outputId": "7059ec86-b49b-4150-c03f-c6585c652e84"
      },
      "outputs": [
        {
          "name": "stdout",
          "output_type": "stream",
          "text": [
            "ROW [0 1 2]\n",
            "ROW [3 4 5]\n"
          ]
        }
      ],
      "source": [
        "for r in x_2d:\n",
        "    print(\"ROW\", r)"
      ]
    },
    {
      "cell_type": "markdown",
      "metadata": {
        "id": "ow_SboQDt08x"
      },
      "source": [
        "Script:\n",
        "* If we want to iterate over all the values, then NumPy has a function called nditer.\n",
        "* nd for ndarray, the type of NumPy arrays, and iter for iterator."
      ]
    },
    {
      "cell_type": "code",
      "execution_count": null,
      "metadata": {
        "colab": {
          "base_uri": "https://localhost:8080/"
        },
        "id": "IiduaRqLuA2b",
        "outputId": "01d6c683-ddb2-4947-ecfe-006ffc6e37d8"
      },
      "outputs": [
        {
          "name": "stdout",
          "output_type": "stream",
          "text": [
            "VALUE 0\n",
            "VALUE 1\n",
            "VALUE 2\n",
            "VALUE 3\n",
            "VALUE 4\n",
            "VALUE 5\n"
          ]
        }
      ],
      "source": [
        "for v in np.nditer(x_2d):\n",
        "    print(\"VALUE\", v)"
      ]
    },
    {
      "cell_type": "markdown",
      "metadata": {
        "id": "UMkN88i8uFyk"
      },
      "source": [
        "Script:\n",
        "* This will work for any number of dimensions.\n",
        "* One reason to keep this behavior in mind, is that many of the view transformations that we talk about next will preserve the order that we traverse, or iterate, over the array."
      ]
    }
  ],
  "metadata": {
    "colab": {},
    "kernelspec": {
      "display_name": "Python 3",
      "name": "python3"
    },
    "language_info": {
      "codemirror_mode": {
        "name": "ipython",
        "version": 3
      },
      "file_extension": ".py",
      "mimetype": "text/x-python",
      "name": "python",
      "nbconvert_exporter": "python",
      "pygments_lexer": "ipython3",
      "version": "3.9.6"
    }
  },
  "nbformat": 4,
  "nbformat_minor": 0
}