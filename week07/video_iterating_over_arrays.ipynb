{
  "cells": [
    {
      "cell_type": "markdown",
      "metadata": {
        "id": "KvAzoFMAsFxM"
      },
      "source": [
        "# Video: Iterating over Arrays\n",
        "\n",
        "This video shows how to iterate over every value in a NumPy array.\n",
        "This is not a common operation, since it loses the efficiency advantage of NumPy's bulk operations, but is useful for understanding array layouts."
      ]
    },
    {
      "cell_type": "code",
      "execution_count": null,
      "metadata": {
        "id": "6BfAs-7HtDZe"
      },
      "outputs": [],
      "source": [
        "import numpy as np"
      ]
    },
    {
      "cell_type": "code",
      "execution_count": null,
      "metadata": {
        "colab": {
          "base_uri": "https://localhost:8080/"
        },
        "id": "XGpF6JlntMmi",
        "outputId": "892d438c-6378-4749-b153-35e463a490d6"
      },
      "outputs": [
        {
          "data": {
            "text/plain": [
              "array([0, 1, 2, 3, 4, 5])"
            ]
          },
          "execution_count": 21,
          "metadata": {},
          "output_type": "execute_result"
        }
      ],
      "source": [
        "x_1d = np.arange(6)\n",
        "x_1d"
      ]
    },
    {
      "cell_type": "code",
      "execution_count": null,
      "metadata": {
        "colab": {
          "base_uri": "https://localhost:8080/"
        },
        "id": "dLv4r6JxtYMy",
        "outputId": "1f1b29a6-2550-44fc-c843-3ac08d9d96d6"
      },
      "outputs": [
        {
          "name": "stdout",
          "output_type": "stream",
          "text": [
            "VALUE 0\n",
            "VALUE 1\n",
            "VALUE 2\n",
            "VALUE 3\n",
            "VALUE 4\n",
            "VALUE 5\n"
          ]
        }
      ],
      "source": [
        "for v in x_1d:\n",
        "    print(\"VALUE\", v)"
      ]
    },
    {
      "cell_type": "code",
      "execution_count": null,
      "metadata": {
        "colab": {
          "base_uri": "https://localhost:8080/"
        },
        "id": "vxAFOjVltje3",
        "outputId": "1c3f29a7-f4e8-4410-dce0-8ee2667348e9"
      },
      "outputs": [
        {
          "data": {
            "text/plain": [
              "array([[0, 1, 2],\n",
              "       [3, 4, 5]])"
            ]
          },
          "execution_count": 23,
          "metadata": {},
          "output_type": "execute_result"
        }
      ],
      "source": [
        "x_2d = x_1d.reshape(2, 3)\n",
        "x_2d"
      ]
    },
    {
      "cell_type": "code",
      "execution_count": null,
      "metadata": {
        "colab": {
          "base_uri": "https://localhost:8080/"
        },
        "id": "Iltv9hiftpeI",
        "outputId": "7059ec86-b49b-4150-c03f-c6585c652e84"
      },
      "outputs": [
        {
          "name": "stdout",
          "output_type": "stream",
          "text": [
            "ROW [0 1 2]\n",
            "ROW [3 4 5]\n"
          ]
        }
      ],
      "source": [
        "for r in x_2d:\n",
        "    print(\"ROW\", r)"
      ]
    },
    {
      "cell_type": "code",
      "execution_count": null,
      "metadata": {
        "colab": {
          "base_uri": "https://localhost:8080/"
        },
        "id": "IiduaRqLuA2b",
        "outputId": "01d6c683-ddb2-4947-ecfe-006ffc6e37d8"
      },
      "outputs": [
        {
          "name": "stdout",
          "output_type": "stream",
          "text": [
            "VALUE 0\n",
            "VALUE 1\n",
            "VALUE 2\n",
            "VALUE 3\n",
            "VALUE 4\n",
            "VALUE 5\n"
          ]
        }
      ],
      "source": [
        "for v in np.nditer(x_2d):\n",
        "    print(\"VALUE\", v)"
      ]
    }
  ],
  "metadata": {
    "colab": {},
    "kernelspec": {
      "display_name": "Python 3",
      "name": "python3"
    },
    "language_info": {
      "codemirror_mode": {
        "name": "ipython",
        "version": 3
      },
      "file_extension": ".py",
      "mimetype": "text/x-python",
      "name": "python",
      "nbconvert_exporter": "python",
      "pygments_lexer": "ipython3",
      "version": "3.9.6"
    }
  },
  "nbformat": 4,
  "nbformat_minor": 0
}