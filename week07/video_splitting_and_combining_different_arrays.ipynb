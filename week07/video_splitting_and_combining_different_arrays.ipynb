{
  "cells": [
    {
      "cell_type": "markdown",
      "metadata": {
        "id": "NSozeSAeZ7sD"
      },
      "source": [
        "# Video: Splitting and Combining Different Arrays\n",
        "\n",
        "This video shows how to divide arrays into smaller evenly sized arrays, and then recombine them."
      ]
    },
    {
      "cell_type": "markdown",
      "metadata": {
        "id": "E2bh0SV_BUt0"
      },
      "source": [
        "* NumPy has a few functions to split up arrays into evenly sized smaller arrays.\n",
        "* If this was a computer science class, we might use this for a recursive algorithm analyzing the array, or for matrix multiplication.\n",
        "* If we were analyzing an image, we might want to analyze different areas separately.\n",
        "* For data science, we might want to split the data for cross-validation to make sure we are building a reliable model."
      ]
    },
    {
      "cell_type": "code",
      "execution_count": null,
      "metadata": {
        "id": "9Ii3adnkAZDO"
      },
      "outputs": [],
      "source": [
        "import numpy as np"
      ]
    },
    {
      "cell_type": "markdown",
      "metadata": {
        "id": "zBMqyAd2CQoR"
      },
      "source": [
        "* Starting with our usual array of integers to poke at views..."
      ]
    },
    {
      "cell_type": "code",
      "execution_count": null,
      "metadata": {
        "colab": {
          "base_uri": "https://localhost:8080/"
        },
        "id": "GH8_shE2Aao4",
        "outputId": "709548e3-5846-402c-a770-67ac2c5ee0bb"
      },
      "outputs": [
        {
          "data": {
            "text/plain": [
              "array([[ 0,  1,  2,  3,  4,  5],\n",
              "       [ 6,  7,  8,  9, 10, 11],\n",
              "       [12, 13, 14, 15, 16, 17],\n",
              "       [18, 19, 20, 21, 22, 23]])"
            ]
          },
          "execution_count": 44,
          "metadata": {},
          "output_type": "execute_result"
        }
      ],
      "source": [
        "x = np.arange(24).reshape(4, 6)\n",
        "x"
      ]
    },
    {
      "cell_type": "markdown",
      "metadata": {
        "id": "pEYaSvqjCbqI"
      },
      "source": [
        "* hsplit will split a 2-dimensional array horizontally, dividing the columns into different arrays."
      ]
    },
    {
      "cell_type": "code",
      "execution_count": null,
      "metadata": {
        "colab": {
          "base_uri": "https://localhost:8080/"
        },
        "id": "GEt46kWdAgED",
        "outputId": "ef0f2756-0326-48d0-f12a-cc5282c9f320"
      },
      "outputs": [
        {
          "data": {
            "text/plain": [
              "[array([[ 0,  1],\n",
              "        [ 6,  7],\n",
              "        [12, 13],\n",
              "        [18, 19]]),\n",
              " array([[ 2,  3],\n",
              "        [ 8,  9],\n",
              "        [14, 15],\n",
              "        [20, 21]]),\n",
              " array([[ 4,  5],\n",
              "        [10, 11],\n",
              "        [16, 17],\n",
              "        [22, 23]])]"
            ]
          },
          "execution_count": 45,
          "metadata": {},
          "output_type": "execute_result"
        }
      ],
      "source": [
        "np.hsplit(x, 3)"
      ]
    },
    {
      "cell_type": "markdown",
      "metadata": {
        "id": "_F8Z4V3tClIm"
      },
      "source": [
        "* vsplit will split a 2-dimensional array vertically, dividing the rows into different arrays."
      ]
    },
    {
      "cell_type": "code",
      "execution_count": null,
      "metadata": {
        "colab": {
          "base_uri": "https://localhost:8080/"
        },
        "id": "2wjPRNqIAo-B",
        "outputId": "4f0995a7-d92c-4bf1-a11a-0efa329a9004"
      },
      "outputs": [
        {
          "data": {
            "text/plain": [
              "[array([[ 0,  1,  2,  3,  4,  5],\n",
              "        [ 6,  7,  8,  9, 10, 11]]),\n",
              " array([[12, 13, 14, 15, 16, 17],\n",
              "        [18, 19, 20, 21, 22, 23]])]"
            ]
          },
          "execution_count": 46,
          "metadata": {},
          "output_type": "execute_result"
        }
      ],
      "source": [
        "np.vsplit(x, 2)"
      ]
    },
    {
      "cell_type": "markdown",
      "metadata": {
        "id": "K3TfOoe4CtIp"
      },
      "source": [
        "* Both hsplit and vsplit return Python lists of the new arrays.\n",
        "* And all those new arrays are views into the old array.\n",
        "* You could create these arrays using slicing, using the slices to restrict the columns or rows selected, but these functions are more convenient if they match what you want.\n",
        "* Both have the option to control the split points more specifically than evenly dividing the rows or columns if you want."
      ]
    },
    {
      "cell_type": "markdown",
      "metadata": {
        "id": "nA3RxvBHDI3p"
      },
      "source": [
        "* hsplit and vsplit each have a kind of inverse, hstack and vstack respectively, that combines arrays together."
      ]
    },
    {
      "cell_type": "code",
      "execution_count": null,
      "metadata": {
        "colab": {
          "base_uri": "https://localhost:8080/"
        },
        "id": "bwegh6SUAyfl",
        "outputId": "56fe3c5a-1d2c-4a5b-e5e2-316c2186817a"
      },
      "outputs": [
        {
          "data": {
            "text/plain": [
              "array([[ 0,  1,  2,  3,  4,  5],\n",
              "       [ 6,  7,  8,  9, 10, 11],\n",
              "       [12, 13, 14, 15, 16, 17],\n",
              "       [18, 19, 20, 21, 22, 23]])"
            ]
          },
          "execution_count": 47,
          "metadata": {},
          "output_type": "execute_result"
        }
      ],
      "source": [
        "np.hstack(np.hsplit(x, 3))"
      ]
    },
    {
      "cell_type": "code",
      "execution_count": null,
      "metadata": {
        "colab": {
          "base_uri": "https://localhost:8080/"
        },
        "id": "-Y7iQgM0A1nX",
        "outputId": "00f00815-78dc-48ef-ec8e-044c8a40f6d5"
      },
      "outputs": [
        {
          "data": {
            "text/plain": [
              "array([[ 0,  1,  2,  3,  4,  5],\n",
              "       [ 6,  7,  8,  9, 10, 11],\n",
              "       [12, 13, 14, 15, 16, 17],\n",
              "       [18, 19, 20, 21, 22, 23]])"
            ]
          },
          "execution_count": 48,
          "metadata": {},
          "output_type": "execute_result"
        }
      ],
      "source": [
        "np.vstack(np.vsplit(x, 2))"
      ]
    },
    {
      "cell_type": "markdown",
      "metadata": {
        "id": "hDB4latgDU9Q"
      },
      "source": [
        "* Neither hstack nor vstack returns a view.\n",
        "* Returning a view generally will not be feasible, since that would require the inputs to be views of the same original array, in the order they were split apart with no omissions.\n",
        "* If you know that much, you probably can make a view from the original array."
      ]
    },
    {
      "cell_type": "markdown",
      "metadata": {
        "id": "JGT7GU_OD3oI"
      },
      "source": [
        "* If you want or need to split and combine arrays with higher dimensions, there are split and stack functions that are more general and will let you specify the axis to split and combine along."
      ]
    },
    {
      "cell_type": "markdown",
      "metadata": {
        "id": "blyGTeWwEMDD"
      },
      "source": [
        "**Code Notes:**\n",
        "* The NumPy functions [numpy.hsplit](https://numpy.org/doc/stable/reference/generated/numpy.hsplit.html) and [numpy.vsplit](https://numpy.org/doc/stable/reference/generated/numpy.vsplit.html) will respectively split a 2-dimensional array horizontally or vertically.\n",
        "  * These functions both return Python lists of the split out arrays.\n",
        "  * Each of the split out arrays is a view into the original array.\n",
        "  * See the documentation for the handling of other numbers of dimensions.\n",
        "* The NumPy functions [numpy.hstack](https://numpy.org/doc/stable/reference/generated/numpy.hstack.html) and [numpy.vstack](https://numpy.org/doc/stable/reference/generated/numpy.vstack.html) will combine 2-dimensional arrays as if they were laid out horizontally or vertically next to each other.\n",
        "  * These functions are like inverses to the corresponding split functions, but will return new arrays, not views back to the array before splitting.\n",
        "  * See the documentation for the handling of other numbers of dimensions.\n",
        "* [numpy.split](https://numpy.org/doc/stable/reference/generated/numpy.split.html) and [numpy.stack](https://numpy.org/doc/stable/reference/generated/numpy.stack.html) generalize these functions to more dimensions."
      ]
    }
  ],
  "metadata": {
    "colab": {},
    "kernelspec": {
      "display_name": "Python 3",
      "name": "python3"
    },
    "language_info": {
      "codemirror_mode": {
        "name": "ipython",
        "version": 3
      },
      "file_extension": ".py",
      "mimetype": "text/x-python",
      "name": "python",
      "nbconvert_exporter": "python",
      "pygments_lexer": "ipython3",
      "version": "3.9.6"
    }
  },
  "nbformat": 4,
  "nbformat_minor": 0
}