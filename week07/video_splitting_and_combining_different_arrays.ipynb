{
  "cells": [
    {
      "cell_type": "markdown",
      "metadata": {
        "id": "NSozeSAeZ7sD"
      },
      "source": [
        "# Video: Splitting and Combining Different Arrays\n",
        "\n",
        "This video shows how to divide arrays into smaller evenly sized arrays, and then recombine them."
      ]
    },
    {
      "cell_type": "code",
      "execution_count": null,
      "metadata": {
        "id": "9Ii3adnkAZDO"
      },
      "outputs": [],
      "source": [
        "import numpy as np"
      ]
    },
    {
      "cell_type": "code",
      "execution_count": null,
      "metadata": {
        "colab": {
          "base_uri": "https://localhost:8080/"
        },
        "id": "GH8_shE2Aao4",
        "outputId": "75f264f8-9563-47e7-893b-39487a43da01"
      },
      "outputs": [
        {
          "data": {
            "text/plain": [
              "array([[ 0,  1,  2,  3,  4,  5],\n",
              "       [ 6,  7,  8,  9, 10, 11],\n",
              "       [12, 13, 14, 15, 16, 17],\n",
              "       [18, 19, 20, 21, 22, 23]])"
            ]
          },
          "execution_count": null,
          "metadata": {},
          "output_type": "execute_result"
        }
      ],
      "source": [
        "x = np.arange(24).reshape(4, 6)\n",
        "x"
      ]
    },
    {
      "cell_type": "code",
      "execution_count": null,
      "metadata": {
        "colab": {
          "base_uri": "https://localhost:8080/"
        },
        "id": "GEt46kWdAgED",
        "outputId": "ae8ec66e-014b-49a3-c64f-c292114e357c"
      },
      "outputs": [
        {
          "data": {
            "text/plain": [
              "[array([[ 0,  1],\n",
              "        [ 6,  7],\n",
              "        [12, 13],\n",
              "        [18, 19]]),\n",
              " array([[ 2,  3],\n",
              "        [ 8,  9],\n",
              "        [14, 15],\n",
              "        [20, 21]]),\n",
              " array([[ 4,  5],\n",
              "        [10, 11],\n",
              "        [16, 17],\n",
              "        [22, 23]])]"
            ]
          },
          "execution_count": null,
          "metadata": {},
          "output_type": "execute_result"
        }
      ],
      "source": [
        "np.hsplit(x, 3)"
      ]
    },
    {
      "cell_type": "code",
      "execution_count": null,
      "metadata": {
        "colab": {
          "base_uri": "https://localhost:8080/"
        },
        "id": "2wjPRNqIAo-B",
        "outputId": "8c1097be-1e0d-477e-ce89-507d1fb94a82"
      },
      "outputs": [
        {
          "data": {
            "text/plain": [
              "[array([[ 0,  1,  2,  3,  4,  5],\n",
              "        [ 6,  7,  8,  9, 10, 11]]),\n",
              " array([[12, 13, 14, 15, 16, 17],\n",
              "        [18, 19, 20, 21, 22, 23]])]"
            ]
          },
          "execution_count": null,
          "metadata": {},
          "output_type": "execute_result"
        }
      ],
      "source": [
        "np.vsplit(x, 2)"
      ]
    },
    {
      "cell_type": "code",
      "execution_count": null,
      "metadata": {
        "colab": {
          "base_uri": "https://localhost:8080/"
        },
        "id": "bwegh6SUAyfl",
        "outputId": "dd3f575b-c869-455a-916e-c28c5aea50b0"
      },
      "outputs": [
        {
          "data": {
            "text/plain": [
              "array([[ 0,  1,  2,  3,  4,  5],\n",
              "       [ 6,  7,  8,  9, 10, 11],\n",
              "       [12, 13, 14, 15, 16, 17],\n",
              "       [18, 19, 20, 21, 22, 23]])"
            ]
          },
          "execution_count": null,
          "metadata": {},
          "output_type": "execute_result"
        }
      ],
      "source": [
        "np.hstack(np.hsplit(x, 3))"
      ]
    },
    {
      "cell_type": "code",
      "execution_count": null,
      "metadata": {
        "colab": {
          "base_uri": "https://localhost:8080/"
        },
        "id": "-Y7iQgM0A1nX",
        "outputId": "953c7124-3945-4e2f-d247-2244d7ccc3a4"
      },
      "outputs": [
        {
          "data": {
            "text/plain": [
              "array([[ 0,  1,  2,  3,  4,  5],\n",
              "       [ 6,  7,  8,  9, 10, 11],\n",
              "       [12, 13, 14, 15, 16, 17],\n",
              "       [18, 19, 20, 21, 22, 23]])"
            ]
          },
          "execution_count": null,
          "metadata": {},
          "output_type": "execute_result"
        }
      ],
      "source": [
        "np.vstack(np.vsplit(x, 2))"
      ]
    },
    {
      "cell_type": "markdown",
      "metadata": {
        "id": "blyGTeWwEMDD"
      },
      "source": [
        "**Code Notes:**\n",
        "* The NumPy functions [numpy.hsplit](https://numpy.org/doc/stable/reference/generated/numpy.hsplit.html) and [numpy.vsplit](https://numpy.org/doc/stable/reference/generated/numpy.vsplit.html) will respectively split a 2-dimensional array horizontally or vertically.\n",
        "  * These functions both return Python lists of the split out arrays.\n",
        "  * Each of the split out arrays is a view into the original array.\n",
        "  * See the documentation for the handling of other numbers of dimensions.\n",
        "* The NumPy functions [numpy.hstack](https://numpy.org/doc/stable/reference/generated/numpy.hstack.html) and [numpy.vstack](https://numpy.org/doc/stable/reference/generated/numpy.vstack.html) will combine 2-dimensional arrays as if they were laid out horizontally or vertically next to each other.\n",
        "  * These functions are like inverses to the corresponding split functions, but will return new arrays, not views back to the array before splitting.\n",
        "  * See the documentation for the handling of other numbers of dimensions.\n",
        "* [numpy.split](https://numpy.org/doc/stable/reference/generated/numpy.split.html) and [numpy.stack](https://numpy.org/doc/stable/reference/generated/numpy.stack.html) generalize these functions to more dimensions."
      ]
    }
  ],
  "metadata": {
    "colab": {},
    "kernelspec": {
      "display_name": "Python 3",
      "name": "python3"
    },
    "language_info": {
      "codemirror_mode": {
        "name": "ipython",
        "version": 3
      },
      "file_extension": ".py",
      "mimetype": "text/x-python",
      "name": "python",
      "nbconvert_exporter": "python",
      "pygments_lexer": "ipython3",
      "version": "3.9.6"
    }
  },
  "nbformat": 4,
  "nbformat_minor": 0
}