{
  "cells": [
    {
      "cell_type": "markdown",
      "metadata": {
        "id": "1dZ7gSNfFjZR"
      },
      "source": [
        "# Video: Seeing Array Views of Different Shapes\n",
        "\n",
        "In this video, we will create array views matching the previous example, and show how changing one entry predictably makes changes visible in the other views."
      ]
    },
    {
      "cell_type": "markdown",
      "metadata": {
        "id": "LcjGQhaeu8w2"
      },
      "source": [
        "Script:\n",
        "* The first function that we will look at for making views will be reshape.\n",
        "* Let us start with an array of 12 numbers like before."
      ]
    },
    {
      "cell_type": "code",
      "execution_count": null,
      "metadata": {
        "id": "BBQ41tUWcW53"
      },
      "outputs": [],
      "source": [
        "import numpy as np"
      ]
    },
    {
      "cell_type": "code",
      "execution_count": null,
      "metadata": {
        "colab": {
          "base_uri": "https://localhost:8080/"
        },
        "id": "31QVPlsZu7J5",
        "outputId": "ddd2a094-0fb0-45c9-9a52-1361aebf21bc"
      },
      "outputs": [
        {
          "data": {
            "text/plain": [
              "array([ 0,  1,  2,  3,  4,  5,  6,  7,  8,  9, 10, 11])"
            ]
          },
          "execution_count": null,
          "metadata": {},
          "output_type": "execute_result"
        }
      ],
      "source": [
        "x_1d = np.arange(12)\n",
        "x_1d"
      ]
    },
    {
      "cell_type": "markdown",
      "metadata": {
        "id": "9hogfHFhvmuI"
      },
      "source": [
        "Script:\n",
        "* And let's make all the 2D arrays with all of that data."
      ]
    },
    {
      "cell_type": "code",
      "execution_count": null,
      "metadata": {
        "colab": {
          "base_uri": "https://localhost:8080/"
        },
        "id": "AQZ66IAOF6j0",
        "outputId": "b68f8b22-7846-4062-9624-139a06620dde"
      },
      "outputs": [
        {
          "data": {
            "text/plain": [
              "[array([[ 0,  1,  2,  3,  4,  5,  6,  7,  8,  9, 10, 11]]),\n",
              " array([[ 0,  1,  2,  3,  4,  5],\n",
              "        [ 6,  7,  8,  9, 10, 11]]),\n",
              " array([[ 0,  1,  2,  3],\n",
              "        [ 4,  5,  6,  7],\n",
              "        [ 8,  9, 10, 11]]),\n",
              " array([[ 0,  1,  2],\n",
              "        [ 3,  4,  5],\n",
              "        [ 6,  7,  8],\n",
              "        [ 9, 10, 11]]),\n",
              " array([[ 0,  1],\n",
              "        [ 2,  3],\n",
              "        [ 4,  5],\n",
              "        [ 6,  7],\n",
              "        [ 8,  9],\n",
              "        [10, 11]]),\n",
              " array([[ 0],\n",
              "        [ 1],\n",
              "        [ 2],\n",
              "        [ 3],\n",
              "        [ 4],\n",
              "        [ 5],\n",
              "        [ 6],\n",
              "        [ 7],\n",
              "        [ 8],\n",
              "        [ 9],\n",
              "        [10],\n",
              "        [11]])]"
            ]
          },
          "execution_count": null,
          "metadata": {},
          "output_type": "execute_result"
        }
      ],
      "source": [
        "x_2d_choices = [x_1d.reshape(s_0, 12 // s_0) for s_0 in [1, 2, 3, 4, 6, 12]]\n",
        "x_2d_choices"
      ]
    },
    {
      "cell_type": "markdown",
      "metadata": {
        "id": "sGBjBcs9vsxl"
      },
      "source": [
        "Script:\n",
        "* If we change any of those arrays, then we will see it in all of those arrays."
      ]
    },
    {
      "cell_type": "code",
      "execution_count": null,
      "metadata": {
        "colab": {
          "base_uri": "https://localhost:8080/"
        },
        "id": "CtP3D5g9vyXw",
        "outputId": "a913d65f-93d9-4187-f311-4b6e6e3f3688"
      },
      "outputs": [
        {
          "data": {
            "text/plain": [
              "[array([[    0,     1,     2,     3,     4, 12345,     6,     7,     8,\n",
              "             9,    10,    11]]),\n",
              " array([[    0,     1,     2,     3,     4, 12345],\n",
              "        [    6,     7,     8,     9,    10,    11]]),\n",
              " array([[    0,     1,     2,     3],\n",
              "        [    4, 12345,     6,     7],\n",
              "        [    8,     9,    10,    11]]),\n",
              " array([[    0,     1,     2],\n",
              "        [    3,     4, 12345],\n",
              "        [    6,     7,     8],\n",
              "        [    9,    10,    11]]),\n",
              " array([[    0,     1],\n",
              "        [    2,     3],\n",
              "        [    4, 12345],\n",
              "        [    6,     7],\n",
              "        [    8,     9],\n",
              "        [   10,    11]]),\n",
              " array([[    0],\n",
              "        [    1],\n",
              "        [    2],\n",
              "        [    3],\n",
              "        [    4],\n",
              "        [12345],\n",
              "        [    6],\n",
              "        [    7],\n",
              "        [    8],\n",
              "        [    9],\n",
              "        [   10],\n",
              "        [   11]])]"
            ]
          },
          "execution_count": null,
          "metadata": {},
          "output_type": "execute_result"
        }
      ],
      "source": [
        "x_1d[5] = 12345\n",
        "x_2d_choices"
      ]
    },
    {
      "cell_type": "markdown",
      "metadata": {
        "id": "MCX916x8wQsN"
      },
      "source": [
        "Script:\n",
        "* See how changing the original 1D array changed the others?\n",
        "* We can check if an array is a view by checking if the base attribute is None."
      ]
    },
    {
      "cell_type": "code",
      "execution_count": null,
      "metadata": {
        "colab": {
          "base_uri": "https://localhost:8080/"
        },
        "id": "euuV1LChwrXa",
        "outputId": "adb59058-888e-418f-c8fd-193f50b3c915"
      },
      "outputs": [
        {
          "data": {
            "text/plain": [
              "[array([    0,     1,     2,     3,     4, 12345,     6,     7,     8,\n",
              "            9,    10,    11]),\n",
              " array([    0,     1,     2,     3,     4, 12345,     6,     7,     8,\n",
              "            9,    10,    11]),\n",
              " array([    0,     1,     2,     3,     4, 12345,     6,     7,     8,\n",
              "            9,    10,    11]),\n",
              " array([    0,     1,     2,     3,     4, 12345,     6,     7,     8,\n",
              "            9,    10,    11]),\n",
              " array([    0,     1,     2,     3,     4, 12345,     6,     7,     8,\n",
              "            9,    10,    11]),\n",
              " array([    0,     1,     2,     3,     4, 12345,     6,     7,     8,\n",
              "            9,    10,    11])]"
            ]
          },
          "execution_count": null,
          "metadata": {},
          "output_type": "execute_result"
        }
      ],
      "source": [
        "[a.base for a in x_2d_choices]"
      ]
    },
    {
      "cell_type": "markdown",
      "metadata": {
        "id": "sozvMlovw1NC"
      },
      "source": [
        "Script:\n",
        "* The base attribute refers to the original array for views, and is None otherwise.\n",
        "* You can confirm if a particular array is the original using the id function."
      ]
    },
    {
      "cell_type": "code",
      "execution_count": null,
      "metadata": {
        "colab": {
          "base_uri": "https://localhost:8080/"
        },
        "id": "FQq8JnwOw0UU",
        "outputId": "9e98ba46-4097-43d8-c5fd-5b3bf58599c3"
      },
      "outputs": [
        {
          "data": {
            "text/plain": [
              "140020203879856"
            ]
          },
          "execution_count": null,
          "metadata": {},
          "output_type": "execute_result"
        }
      ],
      "source": [
        "id(x_1d)"
      ]
    },
    {
      "cell_type": "code",
      "execution_count": null,
      "metadata": {
        "colab": {
          "base_uri": "https://localhost:8080/"
        },
        "id": "EEaQpprzxRvV",
        "outputId": "bacbd2fa-90fe-4e9e-ce22-d18ae7d02bb4"
      },
      "outputs": [
        {
          "data": {
            "text/plain": [
              "[140020203879856,\n",
              " 140020203879856,\n",
              " 140020203879856,\n",
              " 140020203879856,\n",
              " 140020203879856,\n",
              " 140020203879856]"
            ]
          },
          "execution_count": null,
          "metadata": {},
          "output_type": "execute_result"
        }
      ],
      "source": [
        "[id(a.base) for a in x_2d_choices]"
      ]
    },
    {
      "cell_type": "markdown",
      "metadata": {
        "id": "hj5DEseJxI9s"
      },
      "source": [
        "Script:\n",
        "* This is most likely done while debugging.\n",
        "* You generally won't need to go looking for the original array.\n",
        "* Most likely, you'll have it easily available already, but the real question you'll be checking is whether it used a view or not."
      ]
    },
    {
      "cell_type": "markdown",
      "metadata": {
        "id": "s_FSYOdmF5j9"
      },
      "source": [
        "**Code Notes:**\n",
        "* The NumPy function [`numpy.reshape`](https://numpy.org/doc/stable/reference/generated/numpy.reshape.html), referenced as `np.reshape`, returns a new array with the same data and a specified shape.\n",
        "  * `reshape` returns a view whenever possible.\n"
      ]
    }
  ],
  "metadata": {
    "colab": {},
    "kernelspec": {
      "display_name": "Python 3",
      "name": "python3"
    },
    "language_info": {
      "codemirror_mode": {
        "name": "ipython",
        "version": 3
      },
      "file_extension": ".py",
      "mimetype": "text/x-python",
      "name": "python",
      "nbconvert_exporter": "python",
      "pygments_lexer": "ipython3",
      "version": "3.9.6"
    }
  },
  "nbformat": 4,
  "nbformat_minor": 0
}