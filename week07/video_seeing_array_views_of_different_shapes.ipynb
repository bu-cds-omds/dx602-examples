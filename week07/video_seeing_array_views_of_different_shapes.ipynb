{
  "cells": [
    {
      "cell_type": "markdown",
      "metadata": {
        "id": "1dZ7gSNfFjZR"
      },
      "source": [
        "# Video: Seeing Array Views of Different Shapes\n",
        "\n",
        "In this video, we will create array views matching the previous example, and show how changing one entry predictably makes changes visible in the other views."
      ]
    },
    {
      "cell_type": "markdown",
      "metadata": {
        "id": "LcjGQhaeu8w2"
      },
      "source": [
        "* The first function that we will look at for making views will be reshape.\n",
        "* Let us start with an array of 12 numbers like before."
      ]
    },
    {
      "cell_type": "code",
      "execution_count": null,
      "metadata": {
        "colab": {
          "base_uri": "https://localhost:8080/"
        },
        "id": "31QVPlsZu7J5",
        "outputId": "e8132a6a-3c42-40b3-92b8-c29fa3637daf"
      },
      "outputs": [
        {
          "data": {
            "text/plain": [
              "array([ 0,  1,  2,  3,  4,  5,  6,  7,  8,  9, 10, 11])"
            ]
          },
          "execution_count": 40,
          "metadata": {},
          "output_type": "execute_result"
        }
      ],
      "source": [
        "x_1d = np.arange(12)\n",
        "x_1d"
      ]
    },
    {
      "cell_type": "markdown",
      "metadata": {
        "id": "9hogfHFhvmuI"
      },
      "source": [
        "* And let's make all the 2D arrays with all of that data."
      ]
    },
    {
      "cell_type": "code",
      "execution_count": null,
      "metadata": {
        "colab": {
          "base_uri": "https://localhost:8080/"
        },
        "id": "AQZ66IAOF6j0",
        "outputId": "af28efbd-c0dc-415e-f41c-1a66586cce03"
      },
      "outputs": [
        {
          "data": {
            "text/plain": [
              "[array([[    0,     1,     2,     3,     4, 12345,     6,     7,     8,\n",
              "             9,    10,    11]]),\n",
              " array([[    0,     1,     2,     3,     4, 12345],\n",
              "        [    6,     7,     8,     9,    10,    11]]),\n",
              " array([[    0,     1,     2,     3],\n",
              "        [    4, 12345,     6,     7],\n",
              "        [    8,     9,    10,    11]]),\n",
              " array([[    0,     1,     2],\n",
              "        [    3,     4, 12345],\n",
              "        [    6,     7,     8],\n",
              "        [    9,    10,    11]]),\n",
              " array([[    0,     1],\n",
              "        [    2,     3],\n",
              "        [    4, 12345],\n",
              "        [    6,     7],\n",
              "        [    8,     9],\n",
              "        [   10,    11]]),\n",
              " array([[    0],\n",
              "        [    1],\n",
              "        [    2],\n",
              "        [    3],\n",
              "        [    4],\n",
              "        [12345],\n",
              "        [    6],\n",
              "        [    7],\n",
              "        [    8],\n",
              "        [    9],\n",
              "        [   10],\n",
              "        [   11]])]"
            ]
          },
          "execution_count": 45,
          "metadata": {},
          "output_type": "execute_result"
        }
      ],
      "source": [
        "x_2d_choices = [x_1d.reshape(s_0, 12 // s_0) for s_0 in [1, 2, 3, 4, 6, 12]]\n",
        "x_2d_choices"
      ]
    },
    {
      "cell_type": "markdown",
      "metadata": {
        "id": "sGBjBcs9vsxl"
      },
      "source": [
        "* If we change any of those arrays, then we will see it in all of those arrays."
      ]
    },
    {
      "cell_type": "code",
      "execution_count": null,
      "metadata": {
        "colab": {
          "base_uri": "https://localhost:8080/"
        },
        "id": "CtP3D5g9vyXw",
        "outputId": "dcfd736a-edac-4ce4-94ae-bcfabf99ce15"
      },
      "outputs": [
        {
          "data": {
            "text/plain": [
              "[array([[    0,     1,     2,     3,     4, 12345,     6,     7,     8,\n",
              "             9,    10,    11]]),\n",
              " array([[    0,     1,     2,     3,     4, 12345],\n",
              "        [    6,     7,     8,     9,    10,    11]]),\n",
              " array([[    0,     1,     2,     3],\n",
              "        [    4, 12345,     6,     7],\n",
              "        [    8,     9,    10,    11]]),\n",
              " array([[    0,     1,     2],\n",
              "        [    3,     4, 12345],\n",
              "        [    6,     7,     8],\n",
              "        [    9,    10,    11]]),\n",
              " array([[    0,     1],\n",
              "        [    2,     3],\n",
              "        [    4, 12345],\n",
              "        [    6,     7],\n",
              "        [    8,     9],\n",
              "        [   10,    11]]),\n",
              " array([[    0],\n",
              "        [    1],\n",
              "        [    2],\n",
              "        [    3],\n",
              "        [    4],\n",
              "        [12345],\n",
              "        [    6],\n",
              "        [    7],\n",
              "        [    8],\n",
              "        [    9],\n",
              "        [   10],\n",
              "        [   11]])]"
            ]
          },
          "execution_count": 47,
          "metadata": {},
          "output_type": "execute_result"
        }
      ],
      "source": [
        "x_1d[5] = 12345\n",
        "x_2d_choices"
      ]
    },
    {
      "cell_type": "markdown",
      "metadata": {
        "id": "MCX916x8wQsN"
      },
      "source": [
        "* See how changing the original 1D array changed the others?"
      ]
    },
    {
      "cell_type": "markdown",
      "metadata": {
        "id": "WUTqT5oqwmAD"
      },
      "source": [
        "* We can check if an array is a view by checking if the base attribute is None."
      ]
    },
    {
      "cell_type": "code",
      "execution_count": null,
      "metadata": {
        "colab": {
          "base_uri": "https://localhost:8080/"
        },
        "id": "euuV1LChwrXa",
        "outputId": "4a1d7ba6-5719-45d5-984e-722966d5871c"
      },
      "outputs": [
        {
          "data": {
            "text/plain": [
              "[array([    0,     1,     2,     3,     4, 12345,     6,     7,     8,\n",
              "            9,    10,    11]),\n",
              " array([    0,     1,     2,     3,     4, 12345,     6,     7,     8,\n",
              "            9,    10,    11]),\n",
              " array([    0,     1,     2,     3,     4, 12345,     6,     7,     8,\n",
              "            9,    10,    11]),\n",
              " array([    0,     1,     2,     3,     4, 12345,     6,     7,     8,\n",
              "            9,    10,    11]),\n",
              " array([    0,     1,     2,     3,     4, 12345,     6,     7,     8,\n",
              "            9,    10,    11]),\n",
              " array([    0,     1,     2,     3,     4, 12345,     6,     7,     8,\n",
              "            9,    10,    11])]"
            ]
          },
          "execution_count": 48,
          "metadata": {},
          "output_type": "execute_result"
        }
      ],
      "source": [
        "[a.base for a in x_2d_choices]"
      ]
    },
    {
      "cell_type": "markdown",
      "metadata": {
        "id": "sozvMlovw1NC"
      },
      "source": [
        "* The base attribute refers to the original array for views, and is None otherwise.\n",
        "* You can confirm if a particular array is the original using the id function."
      ]
    },
    {
      "cell_type": "code",
      "execution_count": null,
      "metadata": {
        "colab": {
          "base_uri": "https://localhost:8080/"
        },
        "id": "FQq8JnwOw0UU",
        "outputId": "377cb9b1-85b0-4ab8-d714-3268a4e5984c"
      },
      "outputs": [
        {
          "data": {
            "text/plain": [
              "137930052599600"
            ]
          },
          "execution_count": 49,
          "metadata": {},
          "output_type": "execute_result"
        }
      ],
      "source": [
        "id(x_1d)"
      ]
    },
    {
      "cell_type": "code",
      "execution_count": null,
      "metadata": {
        "colab": {
          "base_uri": "https://localhost:8080/"
        },
        "id": "EEaQpprzxRvV",
        "outputId": "5ca02a5c-8551-4222-c927-e8f5ab3e12a6"
      },
      "outputs": [
        {
          "data": {
            "text/plain": [
              "[137930052599600,\n",
              " 137930052599600,\n",
              " 137930052599600,\n",
              " 137930052599600,\n",
              " 137930052599600,\n",
              " 137930052599600]"
            ]
          },
          "execution_count": 51,
          "metadata": {},
          "output_type": "execute_result"
        }
      ],
      "source": [
        "[id(a.base) for a in x_2d_choices]"
      ]
    },
    {
      "cell_type": "markdown",
      "metadata": {
        "id": "hj5DEseJxI9s"
      },
      "source": [
        "* This is most likely done while debugging.\n",
        "* You generally won't need to go looking for the original array.\n",
        "* Most likely, you'll have it easily available already, but the real question you'll be checking is whether it used a view or not."
      ]
    },
    {
      "cell_type": "markdown",
      "metadata": {
        "id": "s_FSYOdmF5j9"
      },
      "source": [
        "**Code Notes:**\n",
        "* The NumPy function [`numpy.reshape`](https://numpy.org/doc/stable/reference/generated/numpy.reshape.html), referenced as `np.reshape`, returns a new array with the same data and a specified shape.\n",
        "  * `reshape` returns a view whenever possible.\n"
      ]
    }
  ],
  "metadata": {
    "colab": {},
    "kernelspec": {
      "display_name": "Python 3",
      "name": "python3"
    },
    "language_info": {
      "codemirror_mode": {
        "name": "ipython",
        "version": 3
      },
      "file_extension": ".py",
      "mimetype": "text/x-python",
      "name": "python",
      "nbconvert_exporter": "python",
      "pygments_lexer": "ipython3",
      "version": "3.9.6"
    }
  },
  "nbformat": 4,
  "nbformat_minor": 0
}