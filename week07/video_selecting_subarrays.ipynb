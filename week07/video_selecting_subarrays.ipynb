{
  "cells": [
    {
      "cell_type": "markdown",
      "metadata": {
        "id": "wMERbF3Rlx55"
      },
      "source": [
        "# Video: Selecting Sub-Arrays\n",
        "\n",
        "This video is about selecting sub-arrays of a multi-dimensional array.\n",
        "This is the easiest way to select a subset of data, and it works if you want to select all of the data with a particular value for the first dimension."
      ]
    },
    {
      "cell_type": "markdown",
      "metadata": {
        "id": "U5n_KcUINwOz"
      },
      "source": [
        "* We have already seen a couple examples of views showing a subset of the original array.\n",
        "* The first one was indexing a multidimensional array with a single integer index.\n",
        "* The NumPy documentation calls the resulting arrays subdimensional arrays, but usually they are called sub-arrays."
      ]
    },
    {
      "cell_type": "code",
      "execution_count": null,
      "metadata": {
        "id": "zHZAvS57pM2I"
      },
      "outputs": [],
      "source": [
        "import numpy as np"
      ]
    },
    {
      "cell_type": "code",
      "execution_count": null,
      "metadata": {
        "colab": {
          "base_uri": "https://localhost:8080/"
        },
        "id": "xzuS1-JsqDj0",
        "outputId": "46a60c3f-a8e1-4bdf-b1c6-f2759430ca08"
      },
      "outputs": [
        {
          "data": {
            "text/plain": [
              "array([[[ 0,  1,  2,  3],\n",
              "        [ 4,  5,  6,  7],\n",
              "        [ 8,  9, 10, 11]],\n",
              "\n",
              "       [[12, 13, 14, 15],\n",
              "        [16, 17, 18, 19],\n",
              "        [20, 21, 22, 23]]])"
            ]
          },
          "execution_count": 11,
          "metadata": {},
          "output_type": "execute_result"
        }
      ],
      "source": [
        "x = np.arange(24).reshape(2,3,4)\n",
        "x"
      ]
    },
    {
      "cell_type": "markdown",
      "metadata": {
        "id": "icRL7d3hq_MY"
      },
      "source": [
        "* So here we have a 3-dimensional array with the contents showing the underlying order.\n",
        "* Moving across each row, you move one element at a time.\n",
        "* For the first row shown, that's counting 0, 1, 2, 3.\n",
        "* For the next row shown, that's counting 4, 5, 6, 7.\n",
        "* And so on,\n",
        "* Moving from row to row, that's counting by 4.\n",
        "* For the first column, that's counting 0, 4, 8.\n",
        "* For the second column, that's counting 1, 5, 9.\n",
        "* And for the first, outermost axis, you move 12 elements at a time.\n",
        "* Zero to 12, 1 to 13, and so on."
      ]
    },
    {
      "cell_type": "markdown",
      "metadata": {
        "id": "GmBZCnRaJtac"
      },
      "source": [
        "* If we select that bottom sub array, we will get that 2-dimensional array shown on the bottom."
      ]
    },
    {
      "cell_type": "code",
      "execution_count": null,
      "metadata": {
        "colab": {
          "base_uri": "https://localhost:8080/"
        },
        "id": "Mu1WHcDVqOKP",
        "outputId": "931d72bf-14e6-405e-90f6-e386a9dba179"
      },
      "outputs": [
        {
          "data": {
            "text/plain": [
              "array([[12, 13, 14, 15],\n",
              "       [16, 17, 18, 19],\n",
              "       [20, 21, 22, 23]])"
            ]
          },
          "execution_count": 12,
          "metadata": {},
          "output_type": "execute_result"
        }
      ],
      "source": [
        "x[1]"
      ]
    },
    {
      "cell_type": "markdown",
      "metadata": {
        "id": "YpM0hyFDL5QU"
      },
      "source": [
        "* With this sub-array, there only two dimensions left.\n",
        "* The first axis is effectively gone, since we selected a index for that axis.\n",
        "* The remaining two axes are the second and third axes of the original array."
      ]
    },
    {
      "cell_type": "markdown",
      "metadata": {
        "id": "9VLDnzXTMW9C"
      },
      "source": [
        "* The new array's data starts from the middle of old array's data.\n",
        "* That comes just from selecting the second half.\n",
        "* What do the strides look like?"
      ]
    },
    {
      "cell_type": "code",
      "execution_count": null,
      "metadata": {
        "colab": {
          "base_uri": "https://localhost:8080/"
        },
        "id": "2CeorKnkqRjP",
        "outputId": "06e935f0-486f-439c-b75f-16f552c4461b"
      },
      "outputs": [
        {
          "data": {
            "text/plain": [
              "(96, 32, 8)"
            ]
          },
          "execution_count": 5,
          "metadata": {},
          "output_type": "execute_result"
        }
      ],
      "source": [
        "x.strides"
      ]
    },
    {
      "cell_type": "code",
      "execution_count": null,
      "metadata": {
        "colab": {
          "base_uri": "https://localhost:8080/"
        },
        "id": "-r481I2cqTh4",
        "outputId": "8d51b373-99c9-46c9-dd19-eb6a1cb4423c"
      },
      "outputs": [
        {
          "data": {
            "text/plain": [
              "(32, 8)"
            ]
          },
          "execution_count": 6,
          "metadata": {},
          "output_type": "execute_result"
        }
      ],
      "source": [
        "x[1].strides"
      ]
    },
    {
      "cell_type": "markdown",
      "metadata": {
        "id": "ONVvjQFnMhN7"
      },
      "source": [
        "* The strides of the sub array are just the second and third strides of the original array.\n",
        "* The first stride is gone, because that dimension is gone.\n",
        "* And the other two strides are kept.\n",
        "* That pattern will hold for higher dimensional subarrays.\n",
        "* The first stride will be dropped since that value is selected, and the remaining strides are kept."
      ]
    }
  ],
  "metadata": {
    "colab": {},
    "kernelspec": {
      "display_name": "Python 3",
      "name": "python3"
    },
    "language_info": {
      "codemirror_mode": {
        "name": "ipython",
        "version": 3
      },
      "file_extension": ".py",
      "mimetype": "text/x-python",
      "name": "python",
      "nbconvert_exporter": "python",
      "pygments_lexer": "ipython3",
      "version": "3.9.6"
    }
  },
  "nbformat": 4,
  "nbformat_minor": 0
}