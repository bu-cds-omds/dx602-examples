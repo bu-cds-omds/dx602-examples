{
  "cells": [
    {
      "cell_type": "markdown",
      "metadata": {
        "id": "KOPdnt7Nj62j"
      },
      "source": [
        "# Video: Surprising View Transformations\n",
        "\n",
        "This video shows off some more surprising data transformations that can be implemented with views.\n",
        "The resulting arrays look much more different from original data than the examples that we have looked at so far, but still can be created instantly using views.\n"
      ]
    },
    {
      "cell_type": "markdown",
      "metadata": {
        "id": "SenL8mRyl1m3"
      },
      "source": [
        "Script:\n",
        "* The views that we have looked at so far have kept the same data in the same order, but shrank the ranges, or otherwise tweaked how we see the same data.\n",
        "* NumPy views are also capable of reordering data along an axis, and reordering axes themselves.\n",
        "* I will run through a few examples of these now."
      ]
    },
    {
      "cell_type": "code",
      "execution_count": null,
      "metadata": {
        "id": "r7YbVCZdnItT"
      },
      "outputs": [],
      "source": [
        "import numpy as np"
      ]
    },
    {
      "cell_type": "code",
      "execution_count": null,
      "metadata": {
        "colab": {
          "base_uri": "https://localhost:8080/"
        },
        "id": "QJduMAe_nKNf",
        "outputId": "36221d27-aa1e-4866-eb84-e1c74665ca95"
      },
      "outputs": [
        {
          "data": {
            "text/plain": [
              "array([[ 0,  1,  2,  3,  4],\n",
              "       [ 5,  6,  7,  8,  9],\n",
              "       [10, 11, 12, 13, 14],\n",
              "       [15, 16, 17, 18, 19]])"
            ]
          },
          "execution_count": null,
          "metadata": {},
          "output_type": "execute_result"
        }
      ],
      "source": [
        "x = np.arange(20).reshape(4, 5)\n",
        "x"
      ]
    },
    {
      "cell_type": "markdown",
      "metadata": {
        "id": "3XD0vvdYnSKi"
      },
      "source": [
        "Script:\n",
        "* Since we will be looking at a number of examples, I'll write a quick function to print out each array and its strides so we can see what kind of trick was used to rearrange the data."
      ]
    },
    {
      "cell_type": "code",
      "execution_count": null,
      "metadata": {
        "colab": {
          "base_uri": "https://localhost:8080/"
        },
        "id": "KRaJgT7pnddK",
        "outputId": "3b022a4a-441f-4451-d51c-e4eb884db1cf"
      },
      "outputs": [
        {
          "name": "stdout",
          "output_type": "stream",
          "text": [
            "SHAPE\n",
            "(4, 5)\n",
            "DATA\n",
            "[[ 0  1  2  3  4]\n",
            " [ 5  6  7  8  9]\n",
            " [10 11 12 13 14]\n",
            " [15 16 17 18 19]]\n",
            "STRIDES\n",
            "(40, 8)\n"
          ]
        }
      ],
      "source": [
        "def check(a):\n",
        "    print(\"SHAPE\")\n",
        "    print(a.shape)\n",
        "    print(\"DATA\")\n",
        "    print(a)\n",
        "    print(\"STRIDES\")\n",
        "    print(a.strides)\n",
        "\n",
        "check(x)"
      ]
    },
    {
      "cell_type": "markdown",
      "metadata": {
        "id": "kbZXQJpInoV-"
      },
      "source": [
        "Script:\n",
        "* Let's look at the transpose operation first.\n",
        "* This is a transformation usually done to two dimensional arrays which basically swaps the rows and columns."
      ]
    },
    {
      "cell_type": "code",
      "execution_count": null,
      "metadata": {
        "colab": {
          "base_uri": "https://localhost:8080/"
        },
        "id": "3msf6hTen_ex",
        "outputId": "ce0ce6c5-a2e5-4e8e-f6ea-f354cfc61b75"
      },
      "outputs": [
        {
          "name": "stdout",
          "output_type": "stream",
          "text": [
            "SHAPE\n",
            "(5, 4)\n",
            "DATA\n",
            "[[ 0  5 10 15]\n",
            " [ 1  6 11 16]\n",
            " [ 2  7 12 17]\n",
            " [ 3  8 13 18]\n",
            " [ 4  9 14 19]]\n",
            "STRIDES\n",
            "(8, 40)\n"
          ]
        }
      ],
      "source": [
        "check(np.transpose(x))"
      ]
    },
    {
      "cell_type": "markdown",
      "metadata": {
        "id": "mIhiLqosoHIa"
      },
      "source": [
        "Script:\n",
        "* Compare the data between those to arrays printed out.\n",
        "* The original x has a first row 0, 1, 2, 3, 4.\n",
        "* The transposed array has a first column 0, 1, 2, 3, 4.\n",
        "* How did this work?\n",
        "* The strides were swapped.\n",
        "* So moving along a row of the new array was the same as moving along a column of the old array.\n",
        "* And moving along a column of the new array was the same as moving along a row of the old array.\n",
        "* Pause and think about that for a minute if that did not click in your head.\n",
        "* Ok, I hope that makes a little sense to you now.\n",
        "* In linear algebra, transposing matrices, or two-dimensional arrays is a very common operation.\n",
        "* It has it's own syntax with a superscript T, and numpy makes it available on every array as a dot T attribute."
      ]
    },
    {
      "cell_type": "code",
      "execution_count": null,
      "metadata": {
        "colab": {
          "base_uri": "https://localhost:8080/"
        },
        "id": "MvmZ9PUNpQW1",
        "outputId": "997e096f-366a-4c84-b09b-8bd586f682a8"
      },
      "outputs": [
        {
          "name": "stdout",
          "output_type": "stream",
          "text": [
            "SHAPE\n",
            "(5, 4)\n",
            "DATA\n",
            "[[ 0  5 10 15]\n",
            " [ 1  6 11 16]\n",
            " [ 2  7 12 17]\n",
            " [ 3  8 13 18]\n",
            " [ 4  9 14 19]]\n",
            "STRIDES\n",
            "(8, 40)\n"
          ]
        }
      ],
      "source": [
        "check(x.T)"
      ]
    },
    {
      "cell_type": "markdown",
      "metadata": {
        "id": "zDPv6TG-pUSv"
      },
      "source": [
        "Script:\n",
        "* Before I learned about views, I was surprised how casually transposes were used in modeling code.\n",
        "* I wondered why they kept on rewriting the arrays with the transposed layout, instead of rewriting the expressions to not need the transposes.\n",
        "* Turns out the answer was views.\n",
        "* The transposes were basically free.\n",
        "* NumPy has a few other functions like the transposes which rearrange the axes more generally, and like transpose, they are basically free because they are just creating views of existing data.\n",
        "* Let's look at another kind of transformation."
      ]
    },
    {
      "cell_type": "code",
      "execution_count": null,
      "metadata": {
        "colab": {
          "base_uri": "https://localhost:8080/"
        },
        "id": "JN_anBLhp_Re",
        "outputId": "e1040e91-000c-447b-9b9e-3627e90da3a5"
      },
      "outputs": [
        {
          "name": "stdout",
          "output_type": "stream",
          "text": [
            "SHAPE\n",
            "(4, 5)\n",
            "DATA\n",
            "[[15 16 17 18 19]\n",
            " [10 11 12 13 14]\n",
            " [ 5  6  7  8  9]\n",
            " [ 0  1  2  3  4]]\n",
            "STRIDES\n",
            "(-40, 8)\n"
          ]
        }
      ],
      "source": [
        "check(np.flipud(x))"
      ]
    },
    {
      "cell_type": "markdown",
      "metadata": {
        "id": "6OnAr237qTlW"
      },
      "source": [
        "Script:\n",
        "* The numpy function flip you dee flips a two dimensional matrix upside down.\n",
        "* How does that work?\n",
        "* It uses a negative stride!\n",
        "* The original x array has a stride of 40 to move between rows.\n",
        "* The flipped upside down array has a stride of negative 40 to move between rows, so it is moving the same amount, but in the opposite direction through memory.\n",
        "* Meanwhile, the stride to move within a row is still the same."
      ]
    },
    {
      "cell_type": "code",
      "execution_count": null,
      "metadata": {
        "colab": {
          "base_uri": "https://localhost:8080/"
        },
        "id": "0Gbx_bA4rTZi",
        "outputId": "8123a1f2-b111-4c37-d8e2-06a5ade5fe02"
      },
      "outputs": [
        {
          "name": "stdout",
          "output_type": "stream",
          "text": [
            "SHAPE\n",
            "(4, 5)\n",
            "DATA\n",
            "[[ 4  3  2  1  0]\n",
            " [ 9  8  7  6  5]\n",
            " [14 13 12 11 10]\n",
            " [19 18 17 16 15]]\n",
            "STRIDES\n",
            "(40, -8)\n"
          ]
        }
      ],
      "source": [
        "check(np.fliplr(x))"
      ]
    },
    {
      "cell_type": "markdown",
      "metadata": {
        "id": "zaupmWL1rWYt"
      },
      "source": [
        "Script:\n",
        "* The numpy function flip ell are flips a two dimensional matrix from left to right.\n",
        "* And as you probably guessed from flipping upside down, this also uses a negative stride for the flipped axis.\n",
        "* So let's sum up the stride tricks we have seen.\n",
        "* A stride of zero repeats data.\n",
        "* Multiplying a stride by a positive integer lets you skip or step through data faster.\n",
        "* Flipping the sign of a stride lets you go backwards.\n",
        "* While preparing this video, I wondered if there is a NumPy function that will let you use any stride that you want.\n",
        "* There is indeed such a function, numpy dot lib dot stride tricks dot as strided, but it comes with some scary warnings because it is very easy to go outside of your data in memory and crash or corrupt your program.\n",
        "* So I won't show you that.\n",
        "* But I will show you this other function that I found.\n",
        "* This function is for making a sliding window view of an array.\n",
        "* Here is our example array x again."
      ]
    },
    {
      "cell_type": "code",
      "execution_count": null,
      "metadata": {
        "colab": {
          "base_uri": "https://localhost:8080/"
        },
        "id": "_OJ5dQ9xvHSp",
        "outputId": "cd149190-44d9-4c9b-e959-c3f5e8b382df"
      },
      "outputs": [
        {
          "data": {
            "text/plain": [
              "array([[ 0,  1,  2,  3,  4],\n",
              "       [ 5,  6,  7,  8,  9],\n",
              "       [10, 11, 12, 13, 14],\n",
              "       [15, 16, 17, 18, 19]])"
            ]
          },
          "execution_count": null,
          "metadata": {},
          "output_type": "execute_result"
        }
      ],
      "source": [
        "x"
      ]
    },
    {
      "cell_type": "markdown",
      "metadata": {
        "id": "wTfRZ3cqvJNv"
      },
      "source": [
        "Script:\n",
        "* If I ask for a 2 by 2 sliding window of x, it will start in the top left corner above, and make an array of 0, 1, 5 and 6.\n",
        "* Then the next one will be to the right by one, so 1, 2, 6 and 7.\n",
        "* The window will move all the way to the right, then go back to the left and move down one row.\n",
        "* Let's look at it now."
      ]
    },
    {
      "cell_type": "code",
      "execution_count": null,
      "metadata": {
        "colab": {
          "base_uri": "https://localhost:8080/"
        },
        "id": "Y3GQPcDztaey",
        "outputId": "7149f658-3b03-418e-9857-f3c3b8a06eb1"
      },
      "outputs": [
        {
          "name": "stdout",
          "output_type": "stream",
          "text": [
            "SHAPE\n",
            "(3, 4, 2, 2)\n",
            "DATA\n",
            "[[[[ 0  1]\n",
            "   [ 5  6]]\n",
            "\n",
            "  [[ 1  2]\n",
            "   [ 6  7]]\n",
            "\n",
            "  [[ 2  3]\n",
            "   [ 7  8]]\n",
            "\n",
            "  [[ 3  4]\n",
            "   [ 8  9]]]\n",
            "\n",
            "\n",
            " [[[ 5  6]\n",
            "   [10 11]]\n",
            "\n",
            "  [[ 6  7]\n",
            "   [11 12]]\n",
            "\n",
            "  [[ 7  8]\n",
            "   [12 13]]\n",
            "\n",
            "  [[ 8  9]\n",
            "   [13 14]]]\n",
            "\n",
            "\n",
            " [[[10 11]\n",
            "   [15 16]]\n",
            "\n",
            "  [[11 12]\n",
            "   [16 17]]\n",
            "\n",
            "  [[12 13]\n",
            "   [17 18]]\n",
            "\n",
            "  [[13 14]\n",
            "   [18 19]]]]\n",
            "STRIDES\n",
            "(40, 8, 40, 8)\n"
          ]
        }
      ],
      "source": [
        "check(np.lib.stride_tricks.sliding_window_view(x, (2, 2)))"
      ]
    },
    {
      "cell_type": "markdown",
      "metadata": {
        "id": "CL-5Rmepvqa8"
      },
      "source": [
        "Script:\n",
        "* Why oh why would we want to use sliding windows like this?\n",
        "* Most of the state of the art vision algorithms from 2010 until 2020 were based on convolutional neural networks which use sliding windows like this, and some of the state of the art still uses this kind of architecture.\n",
        "* The first of those algorithms, a neural network known as AlexNet, was also the first to successfully use deep learning, directly leading to all the improvements that we have seen in AI recently.\n",
        "* Backing off the hyperbole, these sliding windows are useful for repeating an analysis across an image, and this multi-dimensional structure works nicely with modern neural network architectures.\n",
        "* I hope these last few examples hopefully gave you a strong impression of how flexible NumPy views can be."
      ]
    },
    {
      "cell_type": "markdown",
      "metadata": {
        "id": "vbygOlMXnjYv"
      },
      "source": [
        "**Code Notes:**\n",
        "* This video was meant to show you the variety of transformations that can be done instantly with views.\n",
        "* You do not need to learn all these functions now, but here is a list of the functions just used or referenced if you are curious to read more about them.\n",
        "  * [`numpy.transpose`](https://numpy.org/doc/stable/reference/generated/numpy.transpose.html)\n",
        "  * [`numpy.moveaxis`](https://numpy.org/doc/stable/reference/generated/numpy.moveaxis.html)\n",
        "  * [`numpy.swapaxes`](https://numpy.org/doc/stable/reference/generated/numpy.swapaxes.html)\n",
        "  * [`numpy.flipud`](https://numpy.org/doc/stable/reference/generated/numpy.flipud.html)\n",
        "  * [`numpy.fliplr`](https://numpy.org/doc/stable/reference/generated/numpy.fliplr.html)\n",
        "  * [`numpy.lib.stride_tricks.sliding_window_view`](https://numpy.org/doc/stable/reference/generated/numpy.lib.stride_tricks.sliding_window_view.html)\n"
      ]
    }
  ],
  "metadata": {
    "colab": {},
    "kernelspec": {
      "display_name": "Python 3",
      "name": "python3"
    },
    "language_info": {
      "codemirror_mode": {
        "name": "ipython",
        "version": 3
      },
      "file_extension": ".py",
      "mimetype": "text/x-python",
      "name": "python",
      "nbconvert_exporter": "python",
      "pygments_lexer": "ipython3",
      "version": "3.9.6"
    }
  },
  "nbformat": 4,
  "nbformat_minor": 0
}