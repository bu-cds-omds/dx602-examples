{
  "cells": [
    {
      "cell_type": "markdown",
      "metadata": {
        "id": "KOPdnt7Nj62j"
      },
      "source": [
        "# Video: Surprising View Transformations\n",
        "\n",
        "This video shows off some more surprising data transformations that can be implemented with views.\n",
        "The resulting arrays look much more different from original data than the examples that we have looked at so far, but still can be created instantly using views.\n"
      ]
    },
    {
      "cell_type": "code",
      "execution_count": null,
      "metadata": {
        "id": "r7YbVCZdnItT"
      },
      "outputs": [],
      "source": [
        "import numpy as np"
      ]
    },
    {
      "cell_type": "code",
      "execution_count": null,
      "metadata": {
        "colab": {
          "base_uri": "https://localhost:8080/"
        },
        "id": "QJduMAe_nKNf",
        "outputId": "36221d27-aa1e-4866-eb84-e1c74665ca95"
      },
      "outputs": [
        {
          "data": {
            "text/plain": [
              "array([[ 0,  1,  2,  3,  4],\n",
              "       [ 5,  6,  7,  8,  9],\n",
              "       [10, 11, 12, 13, 14],\n",
              "       [15, 16, 17, 18, 19]])"
            ]
          },
          "execution_count": 91,
          "metadata": {},
          "output_type": "execute_result"
        }
      ],
      "source": [
        "x = np.arange(20).reshape(4, 5)\n",
        "x"
      ]
    },
    {
      "cell_type": "code",
      "execution_count": null,
      "metadata": {
        "colab": {
          "base_uri": "https://localhost:8080/"
        },
        "id": "KRaJgT7pnddK",
        "outputId": "3b022a4a-441f-4451-d51c-e4eb884db1cf"
      },
      "outputs": [
        {
          "name": "stdout",
          "output_type": "stream",
          "text": [
            "SHAPE\n",
            "(4, 5)\n",
            "DATA\n",
            "[[ 0  1  2  3  4]\n",
            " [ 5  6  7  8  9]\n",
            " [10 11 12 13 14]\n",
            " [15 16 17 18 19]]\n",
            "STRIDES\n",
            "(40, 8)\n"
          ]
        }
      ],
      "source": [
        "def check(a):\n",
        "    print(\"SHAPE\")\n",
        "    print(a.shape)\n",
        "    print(\"DATA\")\n",
        "    print(a)\n",
        "    print(\"STRIDES\")\n",
        "    print(a.strides)\n",
        "\n",
        "check(x)"
      ]
    },
    {
      "cell_type": "code",
      "execution_count": null,
      "metadata": {
        "colab": {
          "base_uri": "https://localhost:8080/"
        },
        "id": "3msf6hTen_ex",
        "outputId": "ce0ce6c5-a2e5-4e8e-f6ea-f354cfc61b75"
      },
      "outputs": [
        {
          "name": "stdout",
          "output_type": "stream",
          "text": [
            "SHAPE\n",
            "(5, 4)\n",
            "DATA\n",
            "[[ 0  5 10 15]\n",
            " [ 1  6 11 16]\n",
            " [ 2  7 12 17]\n",
            " [ 3  8 13 18]\n",
            " [ 4  9 14 19]]\n",
            "STRIDES\n",
            "(8, 40)\n"
          ]
        }
      ],
      "source": [
        "check(np.transpose(x))"
      ]
    },
    {
      "cell_type": "code",
      "execution_count": null,
      "metadata": {
        "colab": {
          "base_uri": "https://localhost:8080/"
        },
        "id": "MvmZ9PUNpQW1",
        "outputId": "997e096f-366a-4c84-b09b-8bd586f682a8"
      },
      "outputs": [
        {
          "name": "stdout",
          "output_type": "stream",
          "text": [
            "SHAPE\n",
            "(5, 4)\n",
            "DATA\n",
            "[[ 0  5 10 15]\n",
            " [ 1  6 11 16]\n",
            " [ 2  7 12 17]\n",
            " [ 3  8 13 18]\n",
            " [ 4  9 14 19]]\n",
            "STRIDES\n",
            "(8, 40)\n"
          ]
        }
      ],
      "source": [
        "check(x.T)"
      ]
    },
    {
      "cell_type": "code",
      "execution_count": null,
      "metadata": {
        "colab": {
          "base_uri": "https://localhost:8080/"
        },
        "id": "JN_anBLhp_Re",
        "outputId": "e1040e91-000c-447b-9b9e-3627e90da3a5"
      },
      "outputs": [
        {
          "name": "stdout",
          "output_type": "stream",
          "text": [
            "SHAPE\n",
            "(4, 5)\n",
            "DATA\n",
            "[[15 16 17 18 19]\n",
            " [10 11 12 13 14]\n",
            " [ 5  6  7  8  9]\n",
            " [ 0  1  2  3  4]]\n",
            "STRIDES\n",
            "(-40, 8)\n"
          ]
        }
      ],
      "source": [
        "check(np.flipud(x))"
      ]
    },
    {
      "cell_type": "code",
      "execution_count": null,
      "metadata": {
        "colab": {
          "base_uri": "https://localhost:8080/"
        },
        "id": "0Gbx_bA4rTZi",
        "outputId": "8123a1f2-b111-4c37-d8e2-06a5ade5fe02"
      },
      "outputs": [
        {
          "name": "stdout",
          "output_type": "stream",
          "text": [
            "SHAPE\n",
            "(4, 5)\n",
            "DATA\n",
            "[[ 4  3  2  1  0]\n",
            " [ 9  8  7  6  5]\n",
            " [14 13 12 11 10]\n",
            " [19 18 17 16 15]]\n",
            "STRIDES\n",
            "(40, -8)\n"
          ]
        }
      ],
      "source": [
        "check(np.fliplr(x))"
      ]
    },
    {
      "cell_type": "code",
      "execution_count": null,
      "metadata": {
        "colab": {
          "base_uri": "https://localhost:8080/"
        },
        "id": "_OJ5dQ9xvHSp",
        "outputId": "cd149190-44d9-4c9b-e959-c3f5e8b382df"
      },
      "outputs": [
        {
          "data": {
            "text/plain": [
              "array([[ 0,  1,  2,  3,  4],\n",
              "       [ 5,  6,  7,  8,  9],\n",
              "       [10, 11, 12, 13, 14],\n",
              "       [15, 16, 17, 18, 19]])"
            ]
          },
          "execution_count": 97,
          "metadata": {},
          "output_type": "execute_result"
        }
      ],
      "source": [
        "x"
      ]
    },
    {
      "cell_type": "code",
      "execution_count": null,
      "metadata": {
        "colab": {
          "base_uri": "https://localhost:8080/"
        },
        "id": "Y3GQPcDztaey",
        "outputId": "7149f658-3b03-418e-9857-f3c3b8a06eb1"
      },
      "outputs": [
        {
          "name": "stdout",
          "output_type": "stream",
          "text": [
            "SHAPE\n",
            "(3, 4, 2, 2)\n",
            "DATA\n",
            "[[[[ 0  1]\n",
            "   [ 5  6]]\n",
            "\n",
            "  [[ 1  2]\n",
            "   [ 6  7]]\n",
            "\n",
            "  [[ 2  3]\n",
            "   [ 7  8]]\n",
            "\n",
            "  [[ 3  4]\n",
            "   [ 8  9]]]\n",
            "\n",
            "\n",
            " [[[ 5  6]\n",
            "   [10 11]]\n",
            "\n",
            "  [[ 6  7]\n",
            "   [11 12]]\n",
            "\n",
            "  [[ 7  8]\n",
            "   [12 13]]\n",
            "\n",
            "  [[ 8  9]\n",
            "   [13 14]]]\n",
            "\n",
            "\n",
            " [[[10 11]\n",
            "   [15 16]]\n",
            "\n",
            "  [[11 12]\n",
            "   [16 17]]\n",
            "\n",
            "  [[12 13]\n",
            "   [17 18]]\n",
            "\n",
            "  [[13 14]\n",
            "   [18 19]]]]\n",
            "STRIDES\n",
            "(40, 8, 40, 8)\n"
          ]
        }
      ],
      "source": [
        "check(np.lib.stride_tricks.sliding_window_view(x, (2, 2)))"
      ]
    },
    {
      "cell_type": "markdown",
      "metadata": {
        "id": "vbygOlMXnjYv"
      },
      "source": [
        "**Code Notes:**\n",
        "* This video was meant to show you the variety of transformations that can be done instantly with views.\n",
        "* You do not need to learn all these functions now, but here is a list of the functions just used or referenced if you are curious to read more about them.\n",
        "  * [`numpy.transpose`](https://numpy.org/doc/stable/reference/generated/numpy.transpose.html)\n",
        "  * [`numpy.moveaxis`](https://numpy.org/doc/stable/reference/generated/numpy.moveaxis.html)\n",
        "  * [`numpy.swapaxes`](https://numpy.org/doc/stable/reference/generated/numpy.swapaxes.html)\n",
        "  * [`numpy.flipud`](https://numpy.org/doc/stable/reference/generated/numpy.flipud.html)\n",
        "  * [`numpy.fliplr`](https://numpy.org/doc/stable/reference/generated/numpy.fliplr.html)\n",
        "  * [`numpy.lib.stride_tricks.sliding_window_view`](https://numpy.org/doc/stable/reference/generated/numpy.lib.stride_tricks.sliding_window_view.html)\n"
      ]
    }
  ],
  "metadata": {
    "colab": {},
    "kernelspec": {
      "display_name": "Python 3",
      "name": "python3"
    },
    "language_info": {
      "codemirror_mode": {
        "name": "ipython",
        "version": 3
      },
      "file_extension": ".py",
      "mimetype": "text/x-python",
      "name": "python",
      "nbconvert_exporter": "python",
      "pygments_lexer": "ipython3",
      "version": "3.9.6"
    }
  },
  "nbformat": 4,
  "nbformat_minor": 0
}