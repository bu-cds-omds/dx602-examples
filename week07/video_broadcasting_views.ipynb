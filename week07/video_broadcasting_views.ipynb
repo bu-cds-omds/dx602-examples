{
  "cells": [
    {
      "cell_type": "markdown",
      "metadata": {
        "id": "rQ4NEj0GmP_y"
      },
      "source": [
        "# Video: Broadcasting Views\n",
        "\n",
        "This video shows off the views used for broadcasting.\n",
        "You will not need to explicitly use them very often, but understanding how they work will help you make good use of broadcasting.\n"
      ]
    },
    {
      "cell_type": "markdown",
      "metadata": {
        "id": "sL4SC1yvgnnd"
      },
      "source": [
        "* Last week, we saw broadcasting as a way that NumPy can operate with arrays of different dimensions in sensible ways.\n",
        "* How does that work?"
      ]
    },
    {
      "cell_type": "code",
      "execution_count": null,
      "metadata": {
        "id": "JbBzBdKdbp5R"
      },
      "outputs": [],
      "source": [
        "import numpy as np"
      ]
    },
    {
      "cell_type": "markdown",
      "metadata": {
        "id": "Nml3GPjFiJF8"
      },
      "source": [
        "* Let's start off with a one-dimensional array x of three elements."
      ]
    },
    {
      "cell_type": "code",
      "execution_count": null,
      "metadata": {
        "colab": {
          "base_uri": "https://localhost:8080/"
        },
        "id": "FaSeBUzahJI-",
        "outputId": "3bd5270f-704c-4fa2-f95a-9a61117b9ded"
      },
      "outputs": [
        {
          "data": {
            "text/plain": [
              "array([0, 1, 2])"
            ]
          },
          "execution_count": 3,
          "metadata": {},
          "output_type": "execute_result"
        }
      ],
      "source": [
        "x = np.array([0, 1, 2])\n",
        "x"
      ]
    },
    {
      "cell_type": "markdown",
      "metadata": {
        "id": "-M-2EigJiNlh"
      },
      "source": [
        "* And a 2-dimensional array with three rows and one column."
      ]
    },
    {
      "cell_type": "code",
      "execution_count": null,
      "metadata": {
        "colab": {
          "base_uri": "https://localhost:8080/"
        },
        "id": "afFpHSZ_hS6o",
        "outputId": "05ebb157-36da-4b51-e636-82ed0f5dd369"
      },
      "outputs": [
        {
          "data": {
            "text/plain": [
              "array([[0],\n",
              "       [1],\n",
              "       [2]])"
            ]
          },
          "execution_count": 4,
          "metadata": {},
          "output_type": "execute_result"
        }
      ],
      "source": [
        "y = np.array([[0], [1], [2]])\n",
        "y"
      ]
    },
    {
      "cell_type": "markdown",
      "metadata": {
        "id": "38mXO04bigBC"
      },
      "source": [
        "* Since x is one dimensional, it will be extended to two dimensions, making it one row of 3 columns."
      ]
    },
    {
      "cell_type": "code",
      "execution_count": null,
      "metadata": {
        "colab": {
          "base_uri": "https://localhost:8080/"
        },
        "id": "5dYpdPU6hW18",
        "outputId": "d61a225c-357b-472d-dbf2-61f1b1001b90"
      },
      "outputs": [
        {
          "data": {
            "text/plain": [
              "(3,)"
            ]
          },
          "execution_count": 6,
          "metadata": {},
          "output_type": "execute_result"
        }
      ],
      "source": [
        "x.shape"
      ]
    },
    {
      "cell_type": "markdown",
      "metadata": {
        "id": "IlZwcN83iq1j"
      },
      "source": [
        "* And y already is 3 rows and 1 column."
      ]
    },
    {
      "cell_type": "code",
      "execution_count": null,
      "metadata": {
        "colab": {
          "base_uri": "https://localhost:8080/"
        },
        "id": "SNSWmTmzhaQx",
        "outputId": "3c309f75-e262-4fa3-c394-86d86e0512ee"
      },
      "outputs": [
        {
          "data": {
            "text/plain": [
              "(3, 1)"
            ]
          },
          "execution_count": 7,
          "metadata": {},
          "output_type": "execute_result"
        }
      ],
      "source": [
        "y.shape"
      ]
    },
    {
      "cell_type": "markdown",
      "metadata": {
        "id": "vJMQXYPAiuQV"
      },
      "source": [
        "* When they are broadcast together, the result will have 3 rows and 3 columns.\n",
        "* How will x and y be transformed for that computation?"
      ]
    },
    {
      "cell_type": "code",
      "execution_count": null,
      "metadata": {
        "colab": {
          "base_uri": "https://localhost:8080/"
        },
        "id": "pSBKrFH7hfmT",
        "outputId": "2c6bb3b3-1949-4ebb-9d94-f6e6fdeb0888"
      },
      "outputs": [
        {
          "data": {
            "text/plain": [
              "array([[0, 1, 2],\n",
              "       [0, 1, 2],\n",
              "       [0, 1, 2]])"
            ]
          },
          "execution_count": 9,
          "metadata": {},
          "output_type": "execute_result"
        }
      ],
      "source": [
        "np.broadcast_to(x, (3, 3))"
      ]
    },
    {
      "cell_type": "code",
      "execution_count": null,
      "metadata": {
        "colab": {
          "base_uri": "https://localhost:8080/"
        },
        "id": "kdSeFbahhkCq",
        "outputId": "f6313a56-c983-4b7f-e71f-8e5aa9b9bd86"
      },
      "outputs": [
        {
          "data": {
            "text/plain": [
              "array([[0, 0, 0],\n",
              "       [1, 1, 1],\n",
              "       [2, 2, 2]])"
            ]
          },
          "execution_count": 10,
          "metadata": {},
          "output_type": "execute_result"
        }
      ],
      "source": [
        "np.broadcast_to(y, (3, 3))"
      ]
    },
    {
      "cell_type": "markdown",
      "metadata": {
        "id": "tLQcK-TKi9_G"
      },
      "source": [
        "* These are both views, so you can guess that something is happening with the strides."
      ]
    },
    {
      "cell_type": "code",
      "execution_count": null,
      "metadata": {
        "colab": {
          "base_uri": "https://localhost:8080/"
        },
        "id": "jfYdUNy9hrSM",
        "outputId": "5f9fbcb4-ed6e-40e0-bb09-164d680dca7f"
      },
      "outputs": [
        {
          "data": {
            "text/plain": [
              "(8,)"
            ]
          },
          "execution_count": 11,
          "metadata": {},
          "output_type": "execute_result"
        }
      ],
      "source": [
        "x.strides"
      ]
    },
    {
      "cell_type": "markdown",
      "metadata": {
        "id": "vLe3JOkpjJmh"
      },
      "source": [
        "* The original x array had a simple stride of 8, because the values in x take 8 bytes."
      ]
    },
    {
      "cell_type": "code",
      "execution_count": null,
      "metadata": {
        "colab": {
          "base_uri": "https://localhost:8080/"
        },
        "id": "T10q1ppehtdB",
        "outputId": "381a88d8-37f7-418e-cdee-bfe09b947a91"
      },
      "outputs": [
        {
          "data": {
            "text/plain": [
              "(0, 8)"
            ]
          },
          "execution_count": 12,
          "metadata": {},
          "output_type": "execute_result"
        }
      ],
      "source": [
        "np.broadcast_to(x, (3, 3)).strides"
      ]
    },
    {
      "cell_type": "markdown",
      "metadata": {
        "id": "j3I-QiEBjRvt"
      },
      "source": [
        "* The broadcast view of x has a stride of zero for the new axis.\n",
        "* What does a stride of zero mean? It means that when moving along that axis, the memory location has zero added, so the memory location does not change.\n",
        "* Since the memory location does not change, the same data is read.\n",
        "* So it looks like the data is copied along that axis.\n",
        "* And if we look at the broadcast view of x again, each row is the same."
      ]
    },
    {
      "cell_type": "code",
      "execution_count": null,
      "metadata": {
        "colab": {
          "base_uri": "https://localhost:8080/"
        },
        "id": "F3Hg7It3j9Ij",
        "outputId": "36c658ba-2fd8-42e0-cf0b-2f34f4bc0ecb"
      },
      "outputs": [
        {
          "data": {
            "text/plain": [
              "array([[0, 1, 2],\n",
              "       [0, 1, 2],\n",
              "       [0, 1, 2]])"
            ]
          },
          "execution_count": 15,
          "metadata": {},
          "output_type": "execute_result"
        }
      ],
      "source": [
        "np.broadcast_to(x, (3, 3))"
      ]
    },
    {
      "cell_type": "markdown",
      "metadata": {
        "id": "EXR9uKPnj41u"
      },
      "source": [
        "* What about y?\n",
        "* y already had two dimensions."
      ]
    },
    {
      "cell_type": "code",
      "execution_count": null,
      "metadata": {
        "colab": {
          "base_uri": "https://localhost:8080/"
        },
        "id": "o3oyj_WFhxeI",
        "outputId": "98e8822e-e9ec-4000-bb59-9eddddaf29a9"
      },
      "outputs": [
        {
          "data": {
            "text/plain": [
              "(8, 8)"
            ]
          },
          "execution_count": 13,
          "metadata": {},
          "output_type": "execute_result"
        }
      ],
      "source": [
        "y.strides"
      ]
    },
    {
      "cell_type": "markdown",
      "metadata": {
        "id": "alW9wLFTkIiE"
      },
      "source": [
        "* Looking at the strides of y, they are the same.\n",
        "* Is that weird?\n",
        "* Not really -- when we first talked about strides, we said the last stride for a contiguous array is the element size.\n",
        "* But this array has length 1 on that axis, so it never gets used.\n",
        "* Let's look at the strides of the broadcast view of y."
      ]
    },
    {
      "cell_type": "code",
      "execution_count": null,
      "metadata": {
        "colab": {
          "base_uri": "https://localhost:8080/"
        },
        "id": "zf86QBm4h1JF",
        "outputId": "39552f8a-ab7e-4113-8929-cbf5b3b19ace"
      },
      "outputs": [
        {
          "data": {
            "text/plain": [
              "(8, 0)"
            ]
          },
          "execution_count": 14,
          "metadata": {},
          "output_type": "execute_result"
        }
      ],
      "source": [
        "np.broadcast_to(y, (3, 3)).strides"
      ]
    },
    {
      "cell_type": "markdown",
      "metadata": {
        "id": "QgLtTtZdkvZ-"
      },
      "source": [
        "* We see a zero stride again for the axis where the data will be repeated.\n",
        "* If you look into more examples of broadcasting, you will always see the stride set to zero for the axes where the data is repeated since the zero stride means the same data is read again.\n",
        "* These views let broadcasting work as if both arrays were both expanded and copied to be the final output size, but without any of the overhead making those bigger copies of the arrays."
      ]
    }
  ],
  "metadata": {
    "colab": {},
    "kernelspec": {
      "display_name": "Python 3",
      "name": "python3"
    },
    "language_info": {
      "codemirror_mode": {
        "name": "ipython",
        "version": 3
      },
      "file_extension": ".py",
      "mimetype": "text/x-python",
      "name": "python",
      "nbconvert_exporter": "python",
      "pygments_lexer": "ipython3",
      "version": "3.9.6"
    }
  },
  "nbformat": 4,
  "nbformat_minor": 0
}