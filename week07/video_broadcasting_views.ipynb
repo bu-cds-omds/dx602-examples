{
  "cells": [
    {
      "cell_type": "markdown",
      "metadata": {
        "id": "rQ4NEj0GmP_y"
      },
      "source": [
        "# Video: Broadcasting Views\n",
        "\n",
        "This video shows off the views used for broadcasting.\n",
        "You will not need to explicitly use them very often, but understanding how they work will help you make good use of broadcasting.\n"
      ]
    },
    {
      "cell_type": "markdown",
      "metadata": {
        "id": "sL4SC1yvgnnd"
      },
      "source": [
        "Script:\n",
        "* Last week, we saw broadcasting as a way that NumPy can operate with arrays of different dimensions in sensible ways.\n",
        "* How does that work?"
      ]
    },
    {
      "cell_type": "code",
      "execution_count": null,
      "metadata": {
        "id": "JbBzBdKdbp5R"
      },
      "outputs": [],
      "source": [
        "import numpy as np"
      ]
    },
    {
      "cell_type": "markdown",
      "metadata": {
        "id": "Nml3GPjFiJF8"
      },
      "source": [
        "Script:\n",
        "* Let's start off with a one-dimensional array x of three elements."
      ]
    },
    {
      "cell_type": "code",
      "execution_count": null,
      "metadata": {
        "colab": {
          "base_uri": "https://localhost:8080/"
        },
        "id": "FaSeBUzahJI-",
        "outputId": "5ad4afe3-1fbf-4670-a37d-7b9fdef4cc13"
      },
      "outputs": [
        {
          "data": {
            "text/plain": [
              "array([0, 1, 2])"
            ]
          },
          "execution_count": null,
          "metadata": {},
          "output_type": "execute_result"
        }
      ],
      "source": [
        "x = np.array([0, 1, 2])\n",
        "x"
      ]
    },
    {
      "cell_type": "markdown",
      "metadata": {
        "id": "-M-2EigJiNlh"
      },
      "source": [
        "Script:\n",
        "* And a 2-dimensional array with three rows and one column."
      ]
    },
    {
      "cell_type": "code",
      "execution_count": null,
      "metadata": {
        "colab": {
          "base_uri": "https://localhost:8080/"
        },
        "id": "afFpHSZ_hS6o",
        "outputId": "b8feb6c7-660d-44b8-d966-d0fa60549825"
      },
      "outputs": [
        {
          "data": {
            "text/plain": [
              "array([[0],\n",
              "       [1],\n",
              "       [2]])"
            ]
          },
          "execution_count": null,
          "metadata": {},
          "output_type": "execute_result"
        }
      ],
      "source": [
        "y = np.array([[0], [1], [2]])\n",
        "y"
      ]
    },
    {
      "cell_type": "markdown",
      "metadata": {
        "id": "38mXO04bigBC"
      },
      "source": [
        "Script:\n",
        "* Since x is one dimensional, it will be extended to two dimensions, making it one row of 3 columns."
      ]
    },
    {
      "cell_type": "code",
      "execution_count": null,
      "metadata": {
        "colab": {
          "base_uri": "https://localhost:8080/"
        },
        "id": "5dYpdPU6hW18",
        "outputId": "572012d7-32b3-4e9f-a119-df1fba74e222"
      },
      "outputs": [
        {
          "data": {
            "text/plain": [
              "(3,)"
            ]
          },
          "execution_count": null,
          "metadata": {},
          "output_type": "execute_result"
        }
      ],
      "source": [
        "x.shape"
      ]
    },
    {
      "cell_type": "markdown",
      "metadata": {
        "id": "IlZwcN83iq1j"
      },
      "source": [
        "Script:\n",
        "* And y already is 3 rows and 1 column."
      ]
    },
    {
      "cell_type": "code",
      "execution_count": null,
      "metadata": {
        "colab": {
          "base_uri": "https://localhost:8080/"
        },
        "id": "SNSWmTmzhaQx",
        "outputId": "afd23f22-3243-4a45-800b-7a7f57bb3c13"
      },
      "outputs": [
        {
          "data": {
            "text/plain": [
              "(3, 1)"
            ]
          },
          "execution_count": null,
          "metadata": {},
          "output_type": "execute_result"
        }
      ],
      "source": [
        "y.shape"
      ]
    },
    {
      "cell_type": "markdown",
      "metadata": {
        "id": "vJMQXYPAiuQV"
      },
      "source": [
        "Script:\n",
        "* When they are broadcast together, the result will have 3 rows and 3 columns.\n",
        "* How will x and y be transformed for that computation?"
      ]
    },
    {
      "cell_type": "code",
      "execution_count": null,
      "metadata": {
        "colab": {
          "base_uri": "https://localhost:8080/"
        },
        "id": "pSBKrFH7hfmT",
        "outputId": "18e6c867-24bd-411e-bd6c-13c877fef1e4"
      },
      "outputs": [
        {
          "data": {
            "text/plain": [
              "array([[0, 1, 2],\n",
              "       [0, 1, 2],\n",
              "       [0, 1, 2]])"
            ]
          },
          "execution_count": null,
          "metadata": {},
          "output_type": "execute_result"
        }
      ],
      "source": [
        "np.broadcast_to(x, (3, 3))"
      ]
    },
    {
      "cell_type": "code",
      "execution_count": null,
      "metadata": {
        "colab": {
          "base_uri": "https://localhost:8080/"
        },
        "id": "kdSeFbahhkCq",
        "outputId": "39c863c4-bf1a-4a17-8f50-774b5df3002e"
      },
      "outputs": [
        {
          "data": {
            "text/plain": [
              "array([[0, 0, 0],\n",
              "       [1, 1, 1],\n",
              "       [2, 2, 2]])"
            ]
          },
          "execution_count": null,
          "metadata": {},
          "output_type": "execute_result"
        }
      ],
      "source": [
        "np.broadcast_to(y, (3, 3))"
      ]
    },
    {
      "cell_type": "markdown",
      "metadata": {
        "id": "tLQcK-TKi9_G"
      },
      "source": [
        "Script:\n",
        "* These are both views, so you can guess that something is happening with the strides."
      ]
    },
    {
      "cell_type": "code",
      "execution_count": null,
      "metadata": {
        "colab": {
          "base_uri": "https://localhost:8080/"
        },
        "id": "jfYdUNy9hrSM",
        "outputId": "2aa4de7c-b269-4351-b601-7deb6571ba96"
      },
      "outputs": [
        {
          "data": {
            "text/plain": [
              "(8,)"
            ]
          },
          "execution_count": null,
          "metadata": {},
          "output_type": "execute_result"
        }
      ],
      "source": [
        "x.strides"
      ]
    },
    {
      "cell_type": "markdown",
      "metadata": {
        "id": "vLe3JOkpjJmh"
      },
      "source": [
        "Script:\n",
        "* The original x array had a simple stride of 8, because the values in x take 8 bytes."
      ]
    },
    {
      "cell_type": "code",
      "execution_count": null,
      "metadata": {
        "colab": {
          "base_uri": "https://localhost:8080/"
        },
        "id": "T10q1ppehtdB",
        "outputId": "8aea5ee4-ee3a-4444-c880-0c91cda41ae2"
      },
      "outputs": [
        {
          "data": {
            "text/plain": [
              "(0, 8)"
            ]
          },
          "execution_count": null,
          "metadata": {},
          "output_type": "execute_result"
        }
      ],
      "source": [
        "np.broadcast_to(x, (3, 3)).strides"
      ]
    },
    {
      "cell_type": "markdown",
      "metadata": {
        "id": "j3I-QiEBjRvt"
      },
      "source": [
        "Script:\n",
        "* The broadcast view of x has a stride of zero for the new axis.\n",
        "* What does a stride of zero mean? It means that when moving along that axis, the memory location has zero added, so the memory location does not change.\n",
        "* Since the memory location does not change, the same data is read.\n",
        "* So it looks like the data is copied along that axis.\n",
        "* And if we look at the broadcast view of x again, each row is the same."
      ]
    },
    {
      "cell_type": "code",
      "execution_count": null,
      "metadata": {
        "colab": {
          "base_uri": "https://localhost:8080/"
        },
        "id": "F3Hg7It3j9Ij",
        "outputId": "381e419a-767e-4625-90a1-363a1b41df41"
      },
      "outputs": [
        {
          "data": {
            "text/plain": [
              "array([[0, 1, 2],\n",
              "       [0, 1, 2],\n",
              "       [0, 1, 2]])"
            ]
          },
          "execution_count": null,
          "metadata": {},
          "output_type": "execute_result"
        }
      ],
      "source": [
        "np.broadcast_to(x, (3, 3))"
      ]
    },
    {
      "cell_type": "markdown",
      "metadata": {
        "id": "EXR9uKPnj41u"
      },
      "source": [
        "Script:\n",
        "* What about y?\n",
        "* y already had two dimensions."
      ]
    },
    {
      "cell_type": "code",
      "execution_count": null,
      "metadata": {
        "colab": {
          "base_uri": "https://localhost:8080/"
        },
        "id": "o3oyj_WFhxeI",
        "outputId": "588aa627-e75b-46b9-ea72-c255dfb06e8e"
      },
      "outputs": [
        {
          "data": {
            "text/plain": [
              "(8, 8)"
            ]
          },
          "execution_count": null,
          "metadata": {},
          "output_type": "execute_result"
        }
      ],
      "source": [
        "y.strides"
      ]
    },
    {
      "cell_type": "markdown",
      "metadata": {
        "id": "alW9wLFTkIiE"
      },
      "source": [
        "Script:\n",
        "* Looking at the strides of y, they are the same.\n",
        "* Is that weird?\n",
        "* Not really -- when we first talked about strides, we said the last stride for a contiguous array is the element size.\n",
        "* But this array has length 1 on that axis, so it never gets used.\n",
        "* Let's look at the strides of the broadcast view of y."
      ]
    },
    {
      "cell_type": "code",
      "execution_count": null,
      "metadata": {
        "colab": {
          "base_uri": "https://localhost:8080/"
        },
        "id": "zf86QBm4h1JF",
        "outputId": "de268e60-949c-483b-a7b2-ea80ddc909bf"
      },
      "outputs": [
        {
          "data": {
            "text/plain": [
              "(8, 0)"
            ]
          },
          "execution_count": null,
          "metadata": {},
          "output_type": "execute_result"
        }
      ],
      "source": [
        "np.broadcast_to(y, (3, 3)).strides"
      ]
    },
    {
      "cell_type": "markdown",
      "metadata": {
        "id": "QgLtTtZdkvZ-"
      },
      "source": [
        "Script:\n",
        "* We see a zero stride again for the axis where the data will be repeated.\n",
        "* If you look into more examples of broadcasting, you will always see the stride set to zero for the axes where the data is repeated since the zero stride means the same data is read again.\n",
        "* These views let broadcasting work as if both arrays were both expanded and copied to be the final output size, but without any of the overhead making those bigger copies of the arrays."
      ]
    }
  ],
  "metadata": {
    "colab": {},
    "kernelspec": {
      "display_name": "Python 3",
      "name": "python3"
    },
    "language_info": {
      "codemirror_mode": {
        "name": "ipython",
        "version": 3
      },
      "file_extension": ".py",
      "mimetype": "text/x-python",
      "name": "python",
      "nbconvert_exporter": "python",
      "pygments_lexer": "ipython3",
      "version": "3.9.6"
    }
  },
  "nbformat": 4,
  "nbformat_minor": 0
}