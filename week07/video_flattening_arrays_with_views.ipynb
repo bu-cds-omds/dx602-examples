{
  "cells": [
    {
      "cell_type": "markdown",
      "metadata": {
        "id": "xKRAndq8ll8Z"
      },
      "source": [
        "# Video: Flattening Arrays with Views\n",
        "\n",
        "This video covers the different choices and tradeoffs flattening multi-dimensional arrays back down to one dimension.\n",
        "\n",
        "\n"
      ]
    },
    {
      "cell_type": "markdown",
      "metadata": {
        "id": "2w6tpNmSmAv3"
      },
      "source": [
        "* If we want to turn a multiple dimensional array back into a one-dimensional array, we have a few choices.\n",
        "* First we will illustrate them, with a simple, contiguous array, then we will repeat the choices with a non-contiguous example.\n"
      ]
    },
    {
      "cell_type": "code",
      "execution_count": null,
      "metadata": {
        "id": "LN7xVZBVycrz"
      },
      "outputs": [],
      "source": [
        "import numpy as np"
      ]
    },
    {
      "cell_type": "markdown",
      "metadata": {
        "id": "uHqdlLMgyqIS"
      },
      "source": [
        "* Here is a 2-dimensional array that is contiguous."
      ]
    },
    {
      "cell_type": "code",
      "execution_count": null,
      "metadata": {
        "colab": {
          "base_uri": "https://localhost:8080/"
        },
        "id": "usKDpiQ1yekt",
        "outputId": "a44fd4c5-016d-4cc2-e018-cca1ea0cf28f"
      },
      "outputs": [
        {
          "data": {
            "text/plain": [
              "array([[0, 1, 2],\n",
              "       [3, 4, 5]])"
            ]
          },
          "execution_count": 53,
          "metadata": {},
          "output_type": "execute_result"
        }
      ],
      "source": [
        "x_contiguous = np.array([[0, 1, 2], [3, 4, 5]])\n",
        "x_contiguous"
      ]
    },
    {
      "cell_type": "markdown",
      "metadata": {
        "id": "1T2xGEw8y2fE"
      },
      "source": [
        "* Let's confirm that the data is contiguous."
      ]
    },
    {
      "cell_type": "code",
      "execution_count": null,
      "metadata": {
        "colab": {
          "base_uri": "https://localhost:8080/"
        },
        "id": "z20RVLwQythH",
        "outputId": "94b2c893-f6df-447b-aff5-327adde6732e"
      },
      "outputs": [
        {
          "data": {
            "text/plain": [
              "  C_CONTIGUOUS : True\n",
              "  F_CONTIGUOUS : False\n",
              "  OWNDATA : True\n",
              "  WRITEABLE : True\n",
              "  ALIGNED : True\n",
              "  WRITEBACKIFCOPY : False"
            ]
          },
          "execution_count": 55,
          "metadata": {},
          "output_type": "execute_result"
        }
      ],
      "source": [
        "x_contiguous.flags"
      ]
    },
    {
      "cell_type": "markdown",
      "metadata": {
        "id": "T497C1LVy7GL"
      },
      "source": [
        "* Some interesting stuff in there.\n",
        "* The one that we want to check for this example is C Contiguous.\n",
        "* The C there stands for the C programming language, which uses row major order.\n",
        "* The F there stands for the Fortran programming language which uses column major order.\n",
        "* So C is not column major order here.\n",
        "* Anyway, those flags show that the array is contiguous in row major order which is what we want for this example."
      ]
    },
    {
      "cell_type": "markdown",
      "metadata": {
        "id": "zfaskUUdC27a"
      },
      "source": [
        "* Before I continue I'm going to write a quick little function to print out a few properties that we will keep checking."
      ]
    },
    {
      "cell_type": "code",
      "execution_count": null,
      "metadata": {
        "colab": {
          "base_uri": "https://localhost:8080/"
        },
        "id": "C-kYfCGVC9G_",
        "outputId": "5b56cba9-51a8-444b-e9a7-05b353d5a905"
      },
      "outputs": [
        {
          "name": "stdout",
          "output_type": "stream",
          "text": [
            "ID 137930051686288\n",
            "DATA\n",
            "[[0 1 2]\n",
            " [3 4 5]]\n",
            "C_CONTIGUOUS True\n",
            "OWNDATA True\n",
            "STRIDES (24, 8)\n"
          ]
        }
      ],
      "source": [
        "def check(a):\n",
        "    print(\"ID\", id(a))\n",
        "    print(\"DATA\")\n",
        "    print(a)\n",
        "    if a.base is not None:\n",
        "        print(\"BASE\")\n",
        "        print(a.base)\n",
        "        print(\"BASE ID\", id(a.base))\n",
        "    print(\"C_CONTIGUOUS\", a.flags[\"C_CONTIGUOUS\"])\n",
        "    print(\"OWNDATA\", a.flags[\"OWNDATA\"])\n",
        "    print(\"STRIDES\", a.strides)\n",
        "\n",
        "check(x_contiguous)"
      ]
    },
    {
      "cell_type": "markdown",
      "metadata": {
        "id": "LRFF2XdxDsO6"
      },
      "source": [
        "* The reshape function will flatten an array to one dimension if you just give it one size.\n",
        "* And if you specify -1 for that size, it will figure it out and make that the number of elements in the array."
      ]
    },
    {
      "cell_type": "code",
      "execution_count": null,
      "metadata": {
        "colab": {
          "base_uri": "https://localhost:8080/"
        },
        "id": "Gb6BNFi9zwy3",
        "outputId": "c6d509f1-6483-47b9-c902-644137dff025"
      },
      "outputs": [
        {
          "name": "stdout",
          "output_type": "stream",
          "text": [
            "ID 137930051913072\n",
            "DATA\n",
            "[0 1 2 3 4 5]\n",
            "BASE\n",
            "[[0 1 2]\n",
            " [3 4 5]]\n",
            "BASE ID 137930051686288\n",
            "C_CONTIGUOUS True\n",
            "OWNDATA False\n",
            "STRIDES (8,)\n"
          ]
        }
      ],
      "source": [
        "check(np.reshape(x_contiguous, -1))"
      ]
    },
    {
      "cell_type": "markdown",
      "metadata": {
        "id": "HKOFT5Cnz1VA"
      },
      "source": [
        "* So we can see that the output of reshape is linked to the input array, and that's confirmed by checking the base id."
      ]
    },
    {
      "cell_type": "markdown",
      "metadata": {
        "id": "nrtEhqdq0Tw1"
      },
      "source": [
        "* There's another function ravel that we used earlier that also will flatten out the array, and guarantees that the result will be contiguous."
      ]
    },
    {
      "cell_type": "code",
      "execution_count": null,
      "metadata": {
        "colab": {
          "base_uri": "https://localhost:8080/"
        },
        "id": "SN45EYAF4Iad",
        "outputId": "a27734ab-acad-4003-9a72-339941eb846f"
      },
      "outputs": [
        {
          "name": "stdout",
          "output_type": "stream",
          "text": [
            "ID 137930051775024\n",
            "DATA\n",
            "[0 1 2 3 4 5]\n",
            "BASE\n",
            "[[0 1 2]\n",
            " [3 4 5]]\n",
            "BASE ID 137930051686288\n",
            "C_CONTIGUOUS True\n",
            "OWNDATA False\n",
            "STRIDES (8,)\n"
          ]
        }
      ],
      "source": [
        "check(np.ravel(x_contiguous))"
      ]
    },
    {
      "cell_type": "markdown",
      "metadata": {
        "id": "59lu8gZ54MwH"
      },
      "source": [
        "* Like before, we can see ravel creates a view, and is linked to the original array via the base id."
      ]
    },
    {
      "cell_type": "markdown",
      "metadata": {
        "id": "r7GSljev4UbQ"
      },
      "source": [
        "* Let's take an example that is not contiguous."
      ]
    },
    {
      "cell_type": "code",
      "execution_count": null,
      "metadata": {
        "colab": {
          "base_uri": "https://localhost:8080/"
        },
        "id": "S6ds_bl74Z9l",
        "outputId": "08c684d1-c101-4f9e-8738-72a1301e074d"
      },
      "outputs": [
        {
          "name": "stdout",
          "output_type": "stream",
          "text": [
            "ID 137930051774832\n",
            "DATA\n",
            "[[0 2]\n",
            " [3 5]]\n",
            "BASE\n",
            "[[0 1 2]\n",
            " [3 4 5]]\n",
            "BASE ID 137930051686288\n",
            "C_CONTIGUOUS False\n",
            "OWNDATA False\n",
            "STRIDES (24, 16)\n"
          ]
        }
      ],
      "source": [
        "x_not_contiguous = x_contiguous[:,::2]\n",
        "check(x_not_contiguous)"
      ]
    },
    {
      "cell_type": "markdown",
      "metadata": {
        "id": "KRa-g7wg4kUU"
      },
      "source": [
        "* We did not cover this syntax yet, but this array slice is taking every other value along each row.\n",
        "* It is still a view.\n",
        "* If you look at the strides, you can see it moving twice as far in memory when you move along a row.\n",
        "* 16 bytes instead of 8 before.\n",
        "* This makes sense since it was made to take every second element along a row.\n",
        "* And as intended, this array is the first one that is not contiguous."
      ]
    },
    {
      "cell_type": "markdown",
      "metadata": {
        "id": "4I3EYhrBL3LK"
      },
      "source": [
        "* Before flattening this array, what do you think it will look like?\n",
        "* Since the data values are 0, 2, 3, 5, can it be a view of our original array?\n",
        "* The steps moving through the array will be plus 2, plus 1, plus 2.\n",
        "* Those uneven steps will not work with strides.\n",
        "* So we should not expect a view since we can not pick strides walking through the original array."
      ]
    },
    {
      "cell_type": "code",
      "execution_count": null,
      "metadata": {
        "colab": {
          "base_uri": "https://localhost:8080/"
        },
        "id": "2-ewH1vL5Izx",
        "outputId": "a2b84b4e-1580-45c6-85e0-df36655d9592"
      },
      "outputs": [
        {
          "name": "stdout",
          "output_type": "stream",
          "text": [
            "ID 137930051913360\n",
            "DATA\n",
            "[0 2 3 5]\n",
            "BASE\n",
            "[[0 2]\n",
            " [3 5]]\n",
            "BASE ID 137930051915664\n",
            "C_CONTIGUOUS True\n",
            "OWNDATA False\n",
            "STRIDES (8,)\n"
          ]
        }
      ],
      "source": [
        "check(np.reshape(x_not_contiguous, -1))"
      ]
    },
    {
      "cell_type": "markdown",
      "metadata": {
        "id": "NmOlMput5MrO"
      },
      "source": [
        "* This one surprised me when I was preparing this example.\n",
        "* Because the data was not contiguous, I knew that it could not be implemented with a view of the original data.\n",
        "* So I was very surprised to see that this was a view.\n",
        "* The trick was that the base array here is not the original array that we started with.\n",
        "* The base shape and contents look like our smaller not contiguous array, but the id does not match that either.\n",
        "* Let's look at this mystery base some more."
      ]
    },
    {
      "cell_type": "code",
      "execution_count": null,
      "metadata": {
        "colab": {
          "base_uri": "https://localhost:8080/"
        },
        "id": "RMIgXIuSH5ae",
        "outputId": "2dcbbca0-c571-40c0-be17-6e492f594369"
      },
      "outputs": [
        {
          "name": "stdout",
          "output_type": "stream",
          "text": [
            "ID 137930051778672\n",
            "DATA\n",
            "[[0 2]\n",
            " [3 5]]\n",
            "C_CONTIGUOUS True\n",
            "OWNDATA True\n",
            "STRIDES (16, 8)\n"
          ]
        }
      ],
      "source": [
        "mystery_base = np.reshape(x_not_contiguous, -1).base\n",
        "check(mystery_base)"
      ]
    },
    {
      "cell_type": "markdown",
      "metadata": {
        "id": "3Rix4pwjIrkz"
      },
      "source": [
        "* This mystery base has the same shape and contents of as the first not contiguous array that we made, but this mystery base is contiguous.\n",
        "* It looks like the first thing that NumPy did after detecting that a view would not work was to make a copy with contiguous data, and then make a view based on that copy.\n",
        "* Having two arrays with the same data is not very expensive, since the data is the part that can take a lot of memory."
      ]
    },
    {
      "cell_type": "markdown",
      "metadata": {
        "id": "kBdqfNFpRBrS"
      },
      "source": [
        "* The NumPy documentation says that the way to check if an object is a view is to check if the base attribute is None.\n",
        "* That technically worked here.\n",
        "* But the question that we really wanted answered was whether the new array was a view of the input array.\n",
        "* Not whether the new array was a view of an array that we never saw before.\n",
        "\n",
        "**<font color=\"red\">Gareth, can we do some face palm emoji here?</font>**\n",
        "\n",
        "* Our real question was a bit tricker to answer, as you saw.\n",
        "* Usually the base attribute check is enough, and honestly, I would not have noticed if I was not trying to highlight the different behavior here.\n"
      ]
    },
    {
      "cell_type": "markdown",
      "metadata": {
        "id": "wJiDWZZMJZAm"
      },
      "source": [
        "* Let's wrap up checking ravel on this not contiguous array."
      ]
    },
    {
      "cell_type": "code",
      "execution_count": null,
      "metadata": {
        "colab": {
          "base_uri": "https://localhost:8080/"
        },
        "id": "FSamvCxY5sMV",
        "outputId": "11d40645-0d40-4e58-ca99-12311e4dcc5d"
      },
      "outputs": [
        {
          "name": "stdout",
          "output_type": "stream",
          "text": [
            "ID 137930051778960\n",
            "DATA\n",
            "[0 2 3 5]\n",
            "C_CONTIGUOUS True\n",
            "OWNDATA True\n",
            "STRIDES (8,)\n"
          ]
        }
      ],
      "source": [
        "check(np.ravel(x_not_contiguous))"
      ]
    },
    {
      "cell_type": "markdown",
      "metadata": {
        "id": "zHFD9XYUJp97"
      },
      "source": [
        "* As expected, ravel returns a new array in this case.\n",
        "* Both because a view would not work, and because a view would not be contiguous, but ravel promises a contiguous array."
      ]
    },
    {
      "cell_type": "markdown",
      "metadata": {
        "id": "hrPcPJFsKA81"
      },
      "source": [
        "* Wrapping up, why did I spend so much time looking into when these functions used views, and when they did not?\n",
        "* First, creating a view is very fast. Operations that are just views are basically instant. If you need to copy data, that will take a while if you have a lot of data.\n",
        "* Second, copying is slow, but usually you get contiguous arrays afterwards, and those will be faster to operate on when you get to doing the real calculations. Not to say that you want a lot of copying, but one copy at the end of a view transformations might speed up the rest of your code.\n",
        "* Third, it is good to know which behavior is happening. Both for speed, and because if you have a view, there will be data sharing. You really want to know if writing to one array changes another. It is always a bad surprise to find that someone, including yourself, has been overwriting your data unexpectedly."
      ]
    },
    {
      "cell_type": "markdown",
      "metadata": {
        "id": "exf0K73WK_w0"
      },
      "source": [
        "* This video has been about understanding views to flatten arrays and checking or confirming that they were used.\n",
        "* There is one more function, actually a method, to flatten arrays.\n",
        "* Every NumPy array has a method flatten that will return a copy of the array flattened into one dimension."
      ]
    },
    {
      "cell_type": "code",
      "execution_count": null,
      "metadata": {
        "colab": {
          "base_uri": "https://localhost:8080/"
        },
        "id": "F0JD445ULZc9",
        "outputId": "608bcc22-3e54-48e2-cfc7-cc6b9e31a552"
      },
      "outputs": [
        {
          "name": "stdout",
          "output_type": "stream",
          "text": [
            "ID 137930051914032\n",
            "DATA\n",
            "[0 2 3 5]\n",
            "C_CONTIGUOUS True\n",
            "OWNDATA True\n",
            "STRIDES (8,)\n"
          ]
        }
      ],
      "source": [
        "check(x_not_contiguous.flatten())"
      ]
    },
    {
      "cell_type": "markdown",
      "metadata": {
        "id": "AJdUJoZLmVEa"
      },
      "source": [
        "* As promised, it made a copy, not a view.\n",
        "* I skipped flatten earlier, because it promises not to make a view.\n",
        "* But I am mentioning it now for completeness, and since you will sometimes want to force a copy."
      ]
    },
    {
      "cell_type": "markdown",
      "metadata": {
        "id": "Xruy9tEclX_E"
      },
      "source": [
        "**Code Notes:**\n",
        "* The NumPy function [`numpy.reshape`](https://numpy.org/doc/stable/reference/generated/numpy.reshape.html), referenced as `np.reshape`, returns a new array with the same data and a specified shape.\n",
        "  * `reshape` returns a view whenever possible.\n",
        "  * If you specify length -1 for one axis in the shape, NumPy will calculate that size for you based on the other sizes and the number of data elements.\n",
        "* The NumPy function [`numpy.ravel`](https://numpy.org/doc/stable/reference/generated/numpy.ravel.html) returns a 1-dimensional array with the same contents as the input, and guarantees that the array will be contiguous.\n",
        "  * If possible, `ravel` will return a view.\n",
        "* The NumPy ndarray method [`numpy.ndarray.flatten`](https://numpy.org/doc/stable/reference/generated/numpy.ndarray.flatten.html) returns a copy of the array's data as a one-dimensional array.\n",
        "  * `flatten` never attempts to return a view which distinguishes it from `numpy.reshape` and `numpy.ravel`."
      ]
    }
  ],
  "metadata": {
    "colab": {},
    "kernelspec": {
      "display_name": "Python 3",
      "name": "python3"
    },
    "language_info": {
      "codemirror_mode": {
        "name": "ipython",
        "version": 3
      },
      "file_extension": ".py",
      "mimetype": "text/x-python",
      "name": "python",
      "nbconvert_exporter": "python",
      "pygments_lexer": "ipython3",
      "version": "3.9.6"
    }
  },
  "nbformat": 4,
  "nbformat_minor": 0
}