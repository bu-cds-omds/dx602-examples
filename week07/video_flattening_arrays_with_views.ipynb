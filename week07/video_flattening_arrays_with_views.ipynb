{
  "cells": [
    {
      "cell_type": "markdown",
      "metadata": {
        "id": "xKRAndq8ll8Z"
      },
      "source": [
        "# Video: Flattening Arrays with Views\n",
        "\n",
        "This video covers the different choices and tradeoffs flattening multi-dimensional arrays back down to one dimension.\n",
        "\n",
        "\n"
      ]
    },
    {
      "cell_type": "code",
      "execution_count": null,
      "metadata": {
        "id": "LN7xVZBVycrz"
      },
      "outputs": [],
      "source": [
        "import numpy as np"
      ]
    },
    {
      "cell_type": "code",
      "execution_count": null,
      "metadata": {
        "colab": {
          "base_uri": "https://localhost:8080/"
        },
        "id": "usKDpiQ1yekt",
        "outputId": "7160b1d4-a9a9-43e0-9f62-78012dfa1704"
      },
      "outputs": [
        {
          "data": {
            "text/plain": [
              "array([[0, 1, 2],\n",
              "       [3, 4, 5]])"
            ]
          },
          "execution_count": 33,
          "metadata": {},
          "output_type": "execute_result"
        }
      ],
      "source": [
        "x_contiguous = np.array([[0, 1, 2], [3, 4, 5]])\n",
        "x_contiguous"
      ]
    },
    {
      "cell_type": "code",
      "execution_count": null,
      "metadata": {
        "colab": {
          "base_uri": "https://localhost:8080/"
        },
        "id": "z20RVLwQythH",
        "outputId": "d698c79c-c22f-42a5-c395-428e15e95eb3"
      },
      "outputs": [
        {
          "data": {
            "text/plain": [
              "  C_CONTIGUOUS : True\n",
              "  F_CONTIGUOUS : False\n",
              "  OWNDATA : True\n",
              "  WRITEABLE : True\n",
              "  ALIGNED : True\n",
              "  WRITEBACKIFCOPY : False"
            ]
          },
          "execution_count": 34,
          "metadata": {},
          "output_type": "execute_result"
        }
      ],
      "source": [
        "x_contiguous.flags"
      ]
    },
    {
      "cell_type": "code",
      "execution_count": null,
      "metadata": {
        "colab": {
          "base_uri": "https://localhost:8080/"
        },
        "id": "C-kYfCGVC9G_",
        "outputId": "7a083bab-79e2-436f-af8c-99cb0613c6a2"
      },
      "outputs": [
        {
          "name": "stdout",
          "output_type": "stream",
          "text": [
            "ID 140020203873904\n",
            "DATA\n",
            "[[0 1 2]\n",
            " [3 4 5]]\n",
            "C_CONTIGUOUS True\n",
            "OWNDATA True\n",
            "STRIDES (24, 8)\n"
          ]
        }
      ],
      "source": [
        "def check(a):\n",
        "    print(\"ID\", id(a))\n",
        "    print(\"DATA\")\n",
        "    print(a)\n",
        "    if a.base is not None:\n",
        "        print(\"BASE\")\n",
        "        print(a.base)\n",
        "        print(\"BASE ID\", id(a.base))\n",
        "    print(\"C_CONTIGUOUS\", a.flags[\"C_CONTIGUOUS\"])\n",
        "    print(\"OWNDATA\", a.flags[\"OWNDATA\"])\n",
        "    print(\"STRIDES\", a.strides)\n",
        "\n",
        "check(x_contiguous)"
      ]
    },
    {
      "cell_type": "code",
      "execution_count": null,
      "metadata": {
        "colab": {
          "base_uri": "https://localhost:8080/"
        },
        "id": "Gb6BNFi9zwy3",
        "outputId": "b36813cc-e1ad-4beb-d4fd-83c496760b5d"
      },
      "outputs": [
        {
          "name": "stdout",
          "output_type": "stream",
          "text": [
            "ID 140020203872080\n",
            "DATA\n",
            "[0 1 2 3 4 5]\n",
            "BASE\n",
            "[[0 1 2]\n",
            " [3 4 5]]\n",
            "BASE ID 140020203873904\n",
            "C_CONTIGUOUS True\n",
            "OWNDATA False\n",
            "STRIDES (8,)\n"
          ]
        }
      ],
      "source": [
        "check(np.reshape(x_contiguous, -1))"
      ]
    },
    {
      "cell_type": "code",
      "execution_count": null,
      "metadata": {
        "colab": {
          "base_uri": "https://localhost:8080/"
        },
        "id": "SN45EYAF4Iad",
        "outputId": "f67f34a3-6410-402a-b517-43adbb6016b8"
      },
      "outputs": [
        {
          "name": "stdout",
          "output_type": "stream",
          "text": [
            "ID 140020168542032\n",
            "DATA\n",
            "[0 1 2 3 4 5]\n",
            "BASE\n",
            "[[0 1 2]\n",
            " [3 4 5]]\n",
            "BASE ID 140020203873904\n",
            "C_CONTIGUOUS True\n",
            "OWNDATA False\n",
            "STRIDES (8,)\n"
          ]
        }
      ],
      "source": [
        "check(np.ravel(x_contiguous))"
      ]
    },
    {
      "cell_type": "code",
      "execution_count": null,
      "metadata": {
        "colab": {
          "base_uri": "https://localhost:8080/"
        },
        "id": "S6ds_bl74Z9l",
        "outputId": "52310954-2c29-4931-af69-ecbb068456bb"
      },
      "outputs": [
        {
          "name": "stdout",
          "output_type": "stream",
          "text": [
            "ID 140020168543664\n",
            "DATA\n",
            "[[0 2]\n",
            " [3 5]]\n",
            "BASE\n",
            "[[0 1 2]\n",
            " [3 4 5]]\n",
            "BASE ID 140020203873904\n",
            "C_CONTIGUOUS False\n",
            "OWNDATA False\n",
            "STRIDES (24, 16)\n"
          ]
        }
      ],
      "source": [
        "x_not_contiguous = x_contiguous[:,::2]\n",
        "check(x_not_contiguous)"
      ]
    },
    {
      "cell_type": "code",
      "execution_count": null,
      "metadata": {
        "colab": {
          "base_uri": "https://localhost:8080/"
        },
        "id": "2-ewH1vL5Izx",
        "outputId": "f48789cb-6931-4b33-92aa-644e271b8e14"
      },
      "outputs": [
        {
          "name": "stdout",
          "output_type": "stream",
          "text": [
            "ID 140020168545488\n",
            "DATA\n",
            "[0 2 3 5]\n",
            "BASE\n",
            "[[0 2]\n",
            " [3 5]]\n",
            "BASE ID 140020203872080\n",
            "C_CONTIGUOUS True\n",
            "OWNDATA False\n",
            "STRIDES (8,)\n"
          ]
        }
      ],
      "source": [
        "check(np.reshape(x_not_contiguous, -1))"
      ]
    },
    {
      "cell_type": "code",
      "execution_count": null,
      "metadata": {
        "colab": {
          "base_uri": "https://localhost:8080/"
        },
        "id": "RMIgXIuSH5ae",
        "outputId": "fc10e651-ec3b-41d5-9f53-2aef82ea0edc"
      },
      "outputs": [
        {
          "name": "stdout",
          "output_type": "stream",
          "text": [
            "ID 140020203872080\n",
            "DATA\n",
            "[[0 2]\n",
            " [3 5]]\n",
            "C_CONTIGUOUS True\n",
            "OWNDATA True\n",
            "STRIDES (16, 8)\n"
          ]
        }
      ],
      "source": [
        "mystery_base = np.reshape(x_not_contiguous, -1).base\n",
        "check(mystery_base)"
      ]
    },
    {
      "cell_type": "code",
      "execution_count": null,
      "metadata": {
        "colab": {
          "base_uri": "https://localhost:8080/"
        },
        "id": "FSamvCxY5sMV",
        "outputId": "868900e0-03dc-4ec1-bf04-75e6f4114373"
      },
      "outputs": [
        {
          "name": "stdout",
          "output_type": "stream",
          "text": [
            "ID 140020168545008\n",
            "DATA\n",
            "[0 2 3 5]\n",
            "C_CONTIGUOUS True\n",
            "OWNDATA True\n",
            "STRIDES (8,)\n"
          ]
        }
      ],
      "source": [
        "check(np.ravel(x_not_contiguous))"
      ]
    },
    {
      "cell_type": "code",
      "execution_count": null,
      "metadata": {
        "colab": {
          "base_uri": "https://localhost:8080/"
        },
        "id": "F0JD445ULZc9",
        "outputId": "9af56ebd-46df-436c-9fdc-d7fffddfee4c"
      },
      "outputs": [
        {
          "name": "stdout",
          "output_type": "stream",
          "text": [
            "ID 140020168545008\n",
            "DATA\n",
            "[0 2 3 5]\n",
            "C_CONTIGUOUS True\n",
            "OWNDATA True\n",
            "STRIDES (8,)\n"
          ]
        }
      ],
      "source": [
        "check(x_not_contiguous.flatten())"
      ]
    },
    {
      "cell_type": "markdown",
      "metadata": {
        "id": "Xruy9tEclX_E"
      },
      "source": [
        "**Code Notes:**\n",
        "* The NumPy function [`numpy.reshape`](https://numpy.org/doc/stable/reference/generated/numpy.reshape.html), referenced as `np.reshape`, returns a new array with the same data and a specified shape.\n",
        "  * `reshape` returns a view whenever possible.\n",
        "  * If you specify length -1 for one axis in the shape, NumPy will calculate that size for you based on the other sizes and the number of data elements.\n",
        "* The NumPy function [`numpy.ravel`](https://numpy.org/doc/stable/reference/generated/numpy.ravel.html) returns a 1-dimensional array with the same contents as the input, and guarantees that the array will be contiguous.\n",
        "  * If possible, `ravel` will return a view.\n",
        "* The NumPy ndarray method [`numpy.ndarray.flatten`](https://numpy.org/doc/stable/reference/generated/numpy.ndarray.flatten.html) returns a copy of the array's data as a one-dimensional array.\n",
        "  * `flatten` never attempts to return a view which distinguishes it from `numpy.reshape` and `numpy.ravel`."
      ]
    }
  ],
  "metadata": {
    "colab": {},
    "kernelspec": {
      "display_name": "Python 3",
      "name": "python3"
    },
    "language_info": {
      "codemirror_mode": {
        "name": "ipython",
        "version": 3
      },
      "file_extension": ".py",
      "mimetype": "text/x-python",
      "name": "python",
      "nbconvert_exporter": "python",
      "pygments_lexer": "ipython3",
      "version": "3.9.6"
    }
  },
  "nbformat": 4,
  "nbformat_minor": 0
}