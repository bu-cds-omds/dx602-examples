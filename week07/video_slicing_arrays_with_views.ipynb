{
  "cells": [
    {
      "cell_type": "markdown",
      "metadata": {
        "id": "kFsT0Byh9Jwk"
      },
      "source": [
        "# Video: Slicing Arrays with Views\n",
        "\n",
        "This video introduces slicing, a special way to index Python lists and NumPy arrays.\n",
        "Slicing lets you concisely select a subset of a list as long as the entries are spaced evenly.\n",
        "NumPy generalizes slicing support to allow creating views of sliced on multiple dimensions at once."
      ]
    },
    {
      "cell_type": "markdown",
      "metadata": {
        "id": "MHkqsEMzRPRG"
      },
      "source": [
        "* Slicing is a Python feature that we previously skipped.\n",
        "* Let me give you a couple examples first, then I'll explain how it works."
      ]
    },
    {
      "cell_type": "code",
      "execution_count": null,
      "metadata": {
        "id": "C34Iegm-tbBv"
      },
      "outputs": [],
      "source": [
        "import numpy as np"
      ]
    },
    {
      "cell_type": "code",
      "execution_count": null,
      "metadata": {
        "colab": {
          "base_uri": "https://localhost:8080/"
        },
        "id": "kusTFgmzRTne",
        "outputId": "5fa385f7-141b-473f-8607-5210f89c8753"
      },
      "outputs": [
        {
          "data": {
            "text/plain": [
              "[0, 1, 2, 3, 4, 5, 6, 7, 8, 9, 10, 11, 12, 13, 14, 15, 16, 17, 18, 19]"
            ]
          },
          "execution_count": 18,
          "metadata": {},
          "output_type": "execute_result"
        }
      ],
      "source": [
        "x = list(range(20))\n",
        "x"
      ]
    },
    {
      "cell_type": "markdown",
      "metadata": {
        "id": "dPuk0Jb4RZ_T"
      },
      "source": [
        "* I am starting with a list with twenty numbers, zero through nineteen.\n",
        "* Like with the view examples, I am starting with a list where the indices and values match, so you can easily see which positions in the list were selected."
      ]
    },
    {
      "cell_type": "code",
      "execution_count": null,
      "metadata": {
        "colab": {
          "base_uri": "https://localhost:8080/"
        },
        "id": "L8-ph-wVReG9",
        "outputId": "360a31b9-95cc-4271-b02d-78ee77234ae4"
      },
      "outputs": [
        {
          "data": {
            "text/plain": [
              "[5, 6, 7, 8, 9]"
            ]
          },
          "execution_count": 2,
          "metadata": {},
          "output_type": "execute_result"
        }
      ],
      "source": [
        "x[5:10]"
      ]
    },
    {
      "cell_type": "markdown",
      "metadata": {
        "id": "xbOpvX8VRh1B"
      },
      "source": [
        "* That slice takes entries in the list, starting at 5, and stopping before 10.\n",
        "* So five through nine."
      ]
    },
    {
      "cell_type": "code",
      "execution_count": null,
      "metadata": {
        "colab": {
          "base_uri": "https://localhost:8080/"
        },
        "id": "u-7XYdDJR6z5",
        "outputId": "93bfdab4-7ace-4b0a-b076-b5ce0b147722"
      },
      "outputs": [
        {
          "data": {
            "text/plain": [
              "[3, 6, 9, 12, 15]"
            ]
          },
          "execution_count": 3,
          "metadata": {},
          "output_type": "execute_result"
        }
      ],
      "source": [
        "x[3:16:3]"
      ]
    },
    {
      "cell_type": "markdown",
      "metadata": {
        "id": "4g3cADwnSIux"
      },
      "source": [
        "* That slice starts at index 3, and takes every third entry before index 16.\n",
        "* The general form looks like this."
      ]
    },
    {
      "cell_type": "markdown",
      "metadata": {
        "id": "0ZQ4cIWfSb-i"
      },
      "source": [
        "SEQUENCE[START:END:STEP]"
      ]
    },
    {
      "cell_type": "markdown",
      "metadata": {
        "id": "PSyrMq93ShdD"
      },
      "source": [
        "* The sequence can be a Python builtin list or tuple, or a similar object like a NumPy array.\n",
        "* The start is the first index selected.\n",
        "* Then the step is added to get new indexes.\n",
        "* And the slice stops before the end index.\n",
        "* This is exactly like how the range function works."
      ]
    },
    {
      "cell_type": "code",
      "execution_count": null,
      "metadata": {
        "colab": {
          "base_uri": "https://localhost:8080/"
        },
        "id": "0gUubMF8TCET",
        "outputId": "51522648-4bde-4e7c-f8e2-ffce20caf0e1"
      },
      "outputs": [
        {
          "name": "stdout",
          "output_type": "stream",
          "text": [
            "range(stop) -> range object\n",
            "range(start, stop[, step]) -> range object\n",
            "\n",
            "Return an object that produces a sequence of integers from start (inclusive)\n",
            "to stop (exclusive) by step.  range(i, j) produces i, i+1, i+2, ..., j-1.\n",
            "start defaults to 0, and stop is omitted!  range(4) produces 0, 1, 2, 3.\n",
            "These are exactly the valid indices for a list of 4 elements.\n",
            "When step is given, it specifies the increment (or decrement).\n"
          ]
        }
      ],
      "source": [
        "print(range.__doc__)"
      ]
    },
    {
      "cell_type": "markdown",
      "metadata": {
        "id": "k9CbiCc1TIQ3"
      },
      "source": [
        "* Slices take the same input numbers as the range object, but separated by colons, and they go between the square brackets of the indexing notation.\n",
        "* The one difference from the range function is that the one number handling is different.\n",
        "* If you index with one number, you just get that entry from the sequence back."
      ]
    },
    {
      "cell_type": "code",
      "execution_count": null,
      "metadata": {
        "colab": {
          "base_uri": "https://localhost:8080/"
        },
        "id": "3nxUmC6PT4iW",
        "outputId": "1a6bb5cc-03db-416b-b9e0-99aceee0a294"
      },
      "outputs": [
        {
          "data": {
            "text/plain": [
              "10"
            ]
          },
          "execution_count": 5,
          "metadata": {},
          "output_type": "execute_result"
        }
      ],
      "source": [
        "x[10]"
      ]
    },
    {
      "cell_type": "markdown",
      "metadata": {
        "id": "wqxRAXLuT7KO"
      },
      "source": [
        "* If you call range with one number, you get a sequence from zero up to but not including that number."
      ]
    },
    {
      "cell_type": "code",
      "execution_count": null,
      "metadata": {
        "colab": {
          "base_uri": "https://localhost:8080/"
        },
        "id": "9WISLL5eUApT",
        "outputId": "ca0dc6f9-9f6d-4170-a1bb-0f2ae7d2e4fd"
      },
      "outputs": [
        {
          "data": {
            "text/plain": [
              "[0, 1, 2, 3, 4, 5, 6, 7, 8, 9]"
            ]
          },
          "execution_count": 6,
          "metadata": {},
          "output_type": "execute_result"
        }
      ],
      "source": [
        "list(range(10))"
      ]
    },
    {
      "cell_type": "markdown",
      "metadata": {
        "id": "MS0oauWlUIto"
      },
      "source": [
        "* Another way to think of it, that is more precise, is that slices and the range like behavior is invoked when you use the colon in the index.\n",
        "* No colon, no slice, no range like behavior."
      ]
    },
    {
      "cell_type": "code",
      "execution_count": null,
      "metadata": {
        "colab": {
          "base_uri": "https://localhost:8080/"
        },
        "id": "pVZca2WFUXLk",
        "outputId": "0018af13-ee3f-421d-9202-6fcf6d1d6590"
      },
      "outputs": [
        {
          "data": {
            "text/plain": [
              "10"
            ]
          },
          "execution_count": 7,
          "metadata": {},
          "output_type": "execute_result"
        }
      ],
      "source": [
        "x[10]"
      ]
    },
    {
      "cell_type": "code",
      "execution_count": null,
      "metadata": {
        "colab": {
          "base_uri": "https://localhost:8080/"
        },
        "id": "_aA2jPoHUbKG",
        "outputId": "d868783e-7a8d-4124-fa36-ae001ef4d42e"
      },
      "outputs": [
        {
          "data": {
            "text/plain": [
              "[0, 1, 2, 3, 4, 5, 6, 7, 8, 9]"
            ]
          },
          "execution_count": 8,
          "metadata": {},
          "output_type": "execute_result"
        }
      ],
      "source": [
        "x[0:10]"
      ]
    },
    {
      "cell_type": "code",
      "execution_count": null,
      "metadata": {
        "colab": {
          "base_uri": "https://localhost:8080/"
        },
        "id": "9eNzF_bpUdlM",
        "outputId": "c8cf62cb-829a-428d-c629-1aab7e487117"
      },
      "outputs": [
        {
          "data": {
            "text/plain": [
              "[0, 3, 6, 9]"
            ]
          },
          "execution_count": 9,
          "metadata": {},
          "output_type": "execute_result"
        }
      ],
      "source": [
        "x[0:10:3]"
      ]
    },
    {
      "cell_type": "markdown",
      "metadata": {
        "id": "k43CuQqvV9v_"
      },
      "source": [
        "* Once you add the colons, you can leave out some of the numbers and reasonable defaults will be used.\n",
        "* The default start is zero, for the beginning of the array.\n",
        "* The default end is the length of the sequence, or that dimension if it is a NumPy array.\n",
        "* And the default step size is one."
      ]
    },
    {
      "cell_type": "code",
      "execution_count": null,
      "metadata": {
        "colab": {
          "base_uri": "https://localhost:8080/"
        },
        "id": "_cd7QejIWUS5",
        "outputId": "521ebd17-89b0-4fef-d9f3-d242689433be"
      },
      "outputs": [
        {
          "data": {
            "text/plain": [
              "[0, 3, 6, 9]"
            ]
          },
          "execution_count": 10,
          "metadata": {},
          "output_type": "execute_result"
        }
      ],
      "source": [
        "x[:10:3]"
      ]
    },
    {
      "cell_type": "markdown",
      "metadata": {
        "id": "fHQ9AD40Wang"
      },
      "source": [
        "* This one starts at the beginning and goes up to but not including ten, stepping by three."
      ]
    },
    {
      "cell_type": "code",
      "execution_count": null,
      "metadata": {
        "colab": {
          "base_uri": "https://localhost:8080/"
        },
        "id": "iZlg1UuiWXI6",
        "outputId": "c0bbe135-9cf5-44ff-8a24-0fee50c4817f"
      },
      "outputs": [
        {
          "data": {
            "text/plain": [
              "[15, 16, 17, 18, 19]"
            ]
          },
          "execution_count": 12,
          "metadata": {},
          "output_type": "execute_result"
        }
      ],
      "source": [
        "x[15:]"
      ]
    },
    {
      "cell_type": "code",
      "execution_count": null,
      "metadata": {
        "colab": {
          "base_uri": "https://localhost:8080/"
        },
        "id": "_SaiZaFpWiVe",
        "outputId": "a774d534-d764-4211-e202-fa1e6de39e20"
      },
      "outputs": [
        {
          "data": {
            "text/plain": [
              "[15, 16, 17, 18, 19]"
            ]
          },
          "execution_count": 13,
          "metadata": {},
          "output_type": "execute_result"
        }
      ],
      "source": [
        "x[15::]"
      ]
    },
    {
      "cell_type": "markdown",
      "metadata": {
        "id": "WLeL7bZhWjmN"
      },
      "source": [
        "* Both of those start at index 15 and go to the end."
      ]
    },
    {
      "cell_type": "code",
      "execution_count": null,
      "metadata": {
        "colab": {
          "base_uri": "https://localhost:8080/"
        },
        "id": "yrIiypf6WnRe",
        "outputId": "d1c94218-1087-48ca-9f7d-5c4eff25695d"
      },
      "outputs": [
        {
          "data": {
            "text/plain": [
              "[0, 5, 10, 15]"
            ]
          },
          "execution_count": 15,
          "metadata": {},
          "output_type": "execute_result"
        }
      ],
      "source": [
        "x[::5]"
      ]
    },
    {
      "cell_type": "markdown",
      "metadata": {
        "id": "pDeRdoEkWp7_"
      },
      "source": [
        "* And that one starts at the beginning and goes to the end, stepping by five."
      ]
    },
    {
      "cell_type": "markdown",
      "metadata": {
        "id": "0igv3V9tOTBB"
      },
      "source": [
        "* When slicing a list, a new list is returned.\n",
        "* When slicing a NumPy array, a view is returned."
      ]
    },
    {
      "cell_type": "code",
      "execution_count": null,
      "metadata": {
        "colab": {
          "base_uri": "https://localhost:8080/"
        },
        "id": "3SyHNtCltVl9",
        "outputId": "46a8426b-5a60-4b5b-c0e7-27a535d46211"
      },
      "outputs": [
        {
          "data": {
            "text/plain": [
              "array([ 0,  1,  2,  3,  4,  5,  6,  7,  8,  9, 10, 11, 12, 13, 14, 15, 16,\n",
              "       17, 18, 19])"
            ]
          },
          "execution_count": 19,
          "metadata": {},
          "output_type": "execute_result"
        }
      ],
      "source": [
        "x2 = np.array(x)\n",
        "x2"
      ]
    },
    {
      "cell_type": "code",
      "execution_count": null,
      "metadata": {
        "colab": {
          "base_uri": "https://localhost:8080/"
        },
        "id": "uSYqJslMtllM",
        "outputId": "06d2b287-3fa5-4aa6-c91c-8d56b00480a7"
      },
      "outputs": [
        {
          "data": {
            "text/plain": [
              "array([ 0,  5, 10, 15])"
            ]
          },
          "execution_count": 22,
          "metadata": {},
          "output_type": "execute_result"
        }
      ],
      "source": [
        "x2[::5]"
      ]
    },
    {
      "cell_type": "markdown",
      "metadata": {
        "id": "CPm8GSfatpA3"
      },
      "source": [
        "* Slicing NumPy arrays is not just limited to one-dimensional arrays.\n",
        "* You can slice multiple dimensions at once by separating them with commas, just like if you were reading an individual value and specifying its coordinates."
      ]
    },
    {
      "cell_type": "code",
      "execution_count": null,
      "metadata": {
        "colab": {
          "base_uri": "https://localhost:8080/"
        },
        "id": "GdkAwfj9tp-8",
        "outputId": "8d089432-a921-49e1-fa29-b610d612359a"
      },
      "outputs": [
        {
          "data": {
            "text/plain": [
              "array([[ 0,  1,  2,  3,  4],\n",
              "       [ 5,  6,  7,  8,  9],\n",
              "       [10, 11, 12, 13, 14],\n",
              "       [15, 16, 17, 18, 19]])"
            ]
          },
          "execution_count": 24,
          "metadata": {},
          "output_type": "execute_result"
        }
      ],
      "source": [
        "x3 = x2.reshape(4, 5)\n",
        "x3"
      ]
    },
    {
      "cell_type": "code",
      "execution_count": null,
      "metadata": {
        "colab": {
          "base_uri": "https://localhost:8080/"
        },
        "id": "2B46ILUNueHl",
        "outputId": "f791bb3e-ee7e-48e9-c510-78f0b1f72e63"
      },
      "outputs": [
        {
          "data": {
            "text/plain": [
              "array([[ 0,  2,  4],\n",
              "       [10, 12, 14]])"
            ]
          },
          "execution_count": 28,
          "metadata": {},
          "output_type": "execute_result"
        }
      ],
      "source": [
        "x3[::2,::2]"
      ]
    },
    {
      "cell_type": "markdown",
      "metadata": {
        "id": "zIRLpnC8vCw8"
      },
      "source": [
        "* You can also mix slicing and specific index values."
      ]
    },
    {
      "cell_type": "code",
      "execution_count": null,
      "metadata": {
        "colab": {
          "base_uri": "https://localhost:8080/"
        },
        "id": "PJuwrkN5vIJj",
        "outputId": "6376ce93-5966-44a7-f258-6b8dec8a36e8"
      },
      "outputs": [
        {
          "data": {
            "text/plain": [
              "array([ 1, 11])"
            ]
          },
          "execution_count": 29,
          "metadata": {},
          "output_type": "execute_result"
        }
      ],
      "source": [
        "x3[::2,1]"
      ]
    },
    {
      "cell_type": "markdown",
      "metadata": {
        "id": "cxqNnIWvvNS1"
      },
      "source": [
        "* Remember, the dimension of the resulting array will drop for each axis with a specific value chosen.\n",
        "* If you don't want that, you can specify a slice of just one value."
      ]
    },
    {
      "cell_type": "code",
      "execution_count": null,
      "metadata": {
        "colab": {
          "base_uri": "https://localhost:8080/"
        },
        "id": "ha4MOLj3vaWe",
        "outputId": "e1b86892-a25b-4958-ca72-2f66ce914331"
      },
      "outputs": [
        {
          "data": {
            "text/plain": [
              "array([[ 1],\n",
              "       [11]])"
            ]
          },
          "execution_count": 30,
          "metadata": {},
          "output_type": "execute_result"
        }
      ],
      "source": [
        "x3[::2,1:2]"
      ]
    },
    {
      "cell_type": "markdown",
      "metadata": {
        "id": "9jbOp4pCw4O8"
      },
      "source": [
        "* One brief comment on how array slicing works.\n",
        "* This works because however you setup the slices, the indices chosen will always be at fixed intervals from the step size.\n",
        "* So if you compare the strides, you can see that step size being multiplied there."
      ]
    },
    {
      "cell_type": "code",
      "execution_count": null,
      "metadata": {
        "colab": {
          "base_uri": "https://localhost:8080/"
        },
        "id": "4OsgVC5PxIPg",
        "outputId": "5faa822b-af18-4330-f525-e2f566ce1bcf"
      },
      "outputs": [
        {
          "data": {
            "text/plain": [
              "(40, 8)"
            ]
          },
          "execution_count": 31,
          "metadata": {},
          "output_type": "execute_result"
        }
      ],
      "source": [
        "x3.strides"
      ]
    },
    {
      "cell_type": "code",
      "execution_count": null,
      "metadata": {
        "colab": {
          "base_uri": "https://localhost:8080/"
        },
        "id": "HFyqkyk1xK14",
        "outputId": "b970fdfa-baae-47c8-d31d-e92b52aa9a2f"
      },
      "outputs": [
        {
          "data": {
            "text/plain": [
              "(80, 24)"
            ]
          },
          "execution_count": 33,
          "metadata": {},
          "output_type": "execute_result"
        }
      ],
      "source": [
        "x3[::2,::3].strides"
      ]
    },
    {
      "cell_type": "markdown",
      "metadata": {
        "id": "zexKeVV5xRJL"
      },
      "source": [
        "* Comparing those strides, you can see the stride length is multiplied by the step size.\n",
        "* There are a few other advanced ways to index arrays, but they usually don't work as views because they don't have that fixed size to make a new stride.\n",
        "* Without the fixed size, you can't have a fixed stride along each axis, and the views won't work."
      ]
    },
    {
      "cell_type": "markdown",
      "metadata": {
        "id": "gQKipsGJxJm8"
      },
      "source": [
        "* One final note on efficiency of arrays and views.\n",
        "* You've seen array indexing giving all the coordinates at once."
      ]
    },
    {
      "cell_type": "code",
      "execution_count": null,
      "metadata": {
        "colab": {
          "base_uri": "https://localhost:8080/"
        },
        "id": "miTXtGEMxzXK",
        "outputId": "c8b6bc00-bfca-49a8-af3c-4a0208f4554f"
      },
      "outputs": [
        {
          "data": {
            "text/plain": [
              "6"
            ]
          },
          "execution_count": 34,
          "metadata": {},
          "output_type": "execute_result"
        }
      ],
      "source": [
        "x3[1,1]"
      ]
    },
    {
      "cell_type": "markdown",
      "metadata": {
        "id": "hkmg_bo0x2hl"
      },
      "source": [
        "* And you've seen array indexing where you give one coordinate, get a sub array, and then index that."
      ]
    },
    {
      "cell_type": "code",
      "execution_count": null,
      "metadata": {
        "colab": {
          "base_uri": "https://localhost:8080/"
        },
        "id": "uJiHBqt6x7nl",
        "outputId": "d0e707b0-4c49-4f3a-e523-ca2197b1eb5f"
      },
      "outputs": [
        {
          "data": {
            "text/plain": [
              "6"
            ]
          },
          "execution_count": 35,
          "metadata": {},
          "output_type": "execute_result"
        }
      ],
      "source": [
        "x3[1][1]"
      ]
    },
    {
      "cell_type": "markdown",
      "metadata": {
        "id": "UzMLnk6tx9hu"
      },
      "source": [
        "* The first version giving all the coordinates at once is generally more efficient, because the sub array is not created and abandoned in the middle.\n",
        "* Certain access patterns can be made faster, if you reuse the subarray from the earlier indexing.\n",
        "* But unless you are making the effort to get that speedup, just pass all the indexes at once."
      ]
    }
  ],
  "metadata": {
    "colab": {},
    "kernelspec": {
      "display_name": "Python 3",
      "name": "python3"
    },
    "language_info": {
      "codemirror_mode": {
        "name": "ipython",
        "version": 3
      },
      "file_extension": ".py",
      "mimetype": "text/x-python",
      "name": "python",
      "nbconvert_exporter": "python",
      "pygments_lexer": "ipython3",
      "version": "3.9.6"
    }
  },
  "nbformat": 4,
  "nbformat_minor": 0
}