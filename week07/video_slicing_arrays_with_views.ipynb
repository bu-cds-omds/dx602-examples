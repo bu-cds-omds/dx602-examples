{
  "cells": [
    {
      "cell_type": "markdown",
      "metadata": {
        "id": "kFsT0Byh9Jwk"
      },
      "source": [
        "# Video: Slicing Arrays with Views\n",
        "\n",
        "This video introduces slicing, a special way to index Python lists and NumPy arrays.\n",
        "Slicing lets you concisely select a subset of a list as long as the entries are spaced evenly.\n",
        "NumPy generalizes slicing support to allow creating views of sliced on multiple dimensions at once."
      ]
    },
    {
      "cell_type": "markdown",
      "metadata": {
        "id": "MHkqsEMzRPRG"
      },
      "source": [
        "Script:\n",
        "* Slicing is a Python feature that we previously skipped.\n",
        "* Let me give you a couple examples first, then I'll explain how it works."
      ]
    },
    {
      "cell_type": "code",
      "execution_count": null,
      "metadata": {
        "id": "C34Iegm-tbBv"
      },
      "outputs": [],
      "source": [
        "import numpy as np"
      ]
    },
    {
      "cell_type": "code",
      "execution_count": null,
      "metadata": {
        "colab": {
          "base_uri": "https://localhost:8080/"
        },
        "id": "kusTFgmzRTne",
        "outputId": "a16d52a5-74ec-4447-e45d-84c2835cb5ca"
      },
      "outputs": [
        {
          "data": {
            "text/plain": [
              "[0, 1, 2, 3, 4, 5, 6, 7, 8, 9, 10, 11, 12, 13, 14, 15, 16, 17, 18, 19]"
            ]
          },
          "execution_count": null,
          "metadata": {},
          "output_type": "execute_result"
        }
      ],
      "source": [
        "x = list(range(20))\n",
        "x"
      ]
    },
    {
      "cell_type": "markdown",
      "metadata": {
        "id": "dPuk0Jb4RZ_T"
      },
      "source": [
        "Script:\n",
        "* I am starting with a list with twenty numbers, zero through nineteen.\n",
        "* Like with the view examples, I am starting with a list where the indices and values match, so you can easily see which positions in the list were selected."
      ]
    },
    {
      "cell_type": "code",
      "execution_count": null,
      "metadata": {
        "colab": {
          "base_uri": "https://localhost:8080/"
        },
        "id": "L8-ph-wVReG9",
        "outputId": "24097a8a-5fb9-4bdf-a540-f28a1e630cc9"
      },
      "outputs": [
        {
          "data": {
            "text/plain": [
              "[5, 6, 7, 8, 9]"
            ]
          },
          "execution_count": null,
          "metadata": {},
          "output_type": "execute_result"
        }
      ],
      "source": [
        "x[5:10]"
      ]
    },
    {
      "cell_type": "markdown",
      "metadata": {
        "id": "xbOpvX8VRh1B"
      },
      "source": [
        "Script:\n",
        "* That slice takes entries in the list, starting at 5, and stopping before 10.\n",
        "* So five through nine."
      ]
    },
    {
      "cell_type": "code",
      "execution_count": null,
      "metadata": {
        "colab": {
          "base_uri": "https://localhost:8080/"
        },
        "id": "u-7XYdDJR6z5",
        "outputId": "028e5234-4db7-4df0-f917-7c841253bef2"
      },
      "outputs": [
        {
          "data": {
            "text/plain": [
              "[3, 6, 9, 12, 15]"
            ]
          },
          "execution_count": null,
          "metadata": {},
          "output_type": "execute_result"
        }
      ],
      "source": [
        "x[3:16:3]"
      ]
    },
    {
      "cell_type": "markdown",
      "metadata": {
        "id": "4g3cADwnSIux"
      },
      "source": [
        "Script:\n",
        "* That slice starts at index 3, and takes every third entry before index 16.\n",
        "* The general form looks like this."
      ]
    },
    {
      "cell_type": "markdown",
      "metadata": {
        "id": "0ZQ4cIWfSb-i"
      },
      "source": [
        "SEQUENCE[START:END:STEP]"
      ]
    },
    {
      "cell_type": "markdown",
      "metadata": {
        "id": "PSyrMq93ShdD"
      },
      "source": [
        "Script:\n",
        "* The sequence can be a Python builtin list or tuple, or a similar object like a NumPy array.\n",
        "* The start is the first index selected.\n",
        "* Then the step is added to get new indexes.\n",
        "* And the slice stops before the end index.\n",
        "* This is exactly like how the range function works."
      ]
    },
    {
      "cell_type": "code",
      "execution_count": null,
      "metadata": {
        "colab": {
          "base_uri": "https://localhost:8080/"
        },
        "id": "0gUubMF8TCET",
        "outputId": "2d559f91-c241-4c5a-e3ec-eb30684f6da7"
      },
      "outputs": [
        {
          "name": "stdout",
          "output_type": "stream",
          "text": [
            "range(stop) -> range object\n",
            "range(start, stop[, step]) -> range object\n",
            "\n",
            "Return an object that produces a sequence of integers from start (inclusive)\n",
            "to stop (exclusive) by step.  range(i, j) produces i, i+1, i+2, ..., j-1.\n",
            "start defaults to 0, and stop is omitted!  range(4) produces 0, 1, 2, 3.\n",
            "These are exactly the valid indices for a list of 4 elements.\n",
            "When step is given, it specifies the increment (or decrement).\n"
          ]
        }
      ],
      "source": [
        "print(range.__doc__)"
      ]
    },
    {
      "cell_type": "markdown",
      "metadata": {
        "id": "k9CbiCc1TIQ3"
      },
      "source": [
        "Script:\n",
        "* Slices take the same input numbers as the range object, but separated by colons, and they go between the square brackets of the indexing notation.\n",
        "* The one difference from the range function is that the one number handling is different.\n",
        "* If you index with one number, you just get that entry from the sequence back."
      ]
    },
    {
      "cell_type": "code",
      "execution_count": null,
      "metadata": {
        "colab": {
          "base_uri": "https://localhost:8080/"
        },
        "id": "3nxUmC6PT4iW",
        "outputId": "3406c66a-30bd-4dc8-b460-f18e49b89030"
      },
      "outputs": [
        {
          "data": {
            "text/plain": [
              "10"
            ]
          },
          "execution_count": null,
          "metadata": {},
          "output_type": "execute_result"
        }
      ],
      "source": [
        "x[10]"
      ]
    },
    {
      "cell_type": "markdown",
      "metadata": {
        "id": "wqxRAXLuT7KO"
      },
      "source": [
        "Script:\n",
        "* If you call range with one number, you get a sequence from zero up to but not including that number."
      ]
    },
    {
      "cell_type": "code",
      "execution_count": null,
      "metadata": {
        "colab": {
          "base_uri": "https://localhost:8080/"
        },
        "id": "9WISLL5eUApT",
        "outputId": "68d1a3d0-ecdb-4931-8a3a-f71a0fcf0844"
      },
      "outputs": [
        {
          "data": {
            "text/plain": [
              "[0, 1, 2, 3, 4, 5, 6, 7, 8, 9]"
            ]
          },
          "execution_count": null,
          "metadata": {},
          "output_type": "execute_result"
        }
      ],
      "source": [
        "list(range(10))"
      ]
    },
    {
      "cell_type": "markdown",
      "metadata": {
        "id": "MS0oauWlUIto"
      },
      "source": [
        "Script:\n",
        "* Another way to think of it, that is more precise, is that slices and the range like behavior is invoked when you use the colon in the index.\n",
        "* No colon, no slice, no range like behavior."
      ]
    },
    {
      "cell_type": "code",
      "execution_count": null,
      "metadata": {
        "colab": {
          "base_uri": "https://localhost:8080/"
        },
        "id": "pVZca2WFUXLk",
        "outputId": "4676c7de-9225-4e8b-a258-7d68bd30b4b8"
      },
      "outputs": [
        {
          "data": {
            "text/plain": [
              "10"
            ]
          },
          "execution_count": null,
          "metadata": {},
          "output_type": "execute_result"
        }
      ],
      "source": [
        "x[10]"
      ]
    },
    {
      "cell_type": "code",
      "execution_count": null,
      "metadata": {
        "colab": {
          "base_uri": "https://localhost:8080/"
        },
        "id": "_aA2jPoHUbKG",
        "outputId": "a9010476-f6c4-46ef-d4c0-35b38f296fb9"
      },
      "outputs": [
        {
          "data": {
            "text/plain": [
              "[0, 1, 2, 3, 4, 5, 6, 7, 8, 9]"
            ]
          },
          "execution_count": null,
          "metadata": {},
          "output_type": "execute_result"
        }
      ],
      "source": [
        "x[0:10]"
      ]
    },
    {
      "cell_type": "code",
      "execution_count": null,
      "metadata": {
        "colab": {
          "base_uri": "https://localhost:8080/"
        },
        "id": "9eNzF_bpUdlM",
        "outputId": "170f6596-b7c4-49d3-f65f-88939b74dea8"
      },
      "outputs": [
        {
          "data": {
            "text/plain": [
              "[0, 3, 6, 9]"
            ]
          },
          "execution_count": null,
          "metadata": {},
          "output_type": "execute_result"
        }
      ],
      "source": [
        "x[0:10:3]"
      ]
    },
    {
      "cell_type": "markdown",
      "metadata": {
        "id": "k43CuQqvV9v_"
      },
      "source": [
        "Script:\n",
        "* Once you add the colons, you can leave out some of the numbers and reasonable defaults will be used.\n",
        "* The default start is zero, for the beginning of the array.\n",
        "* The default end is the length of the sequence, or that dimension if it is a NumPy array.\n",
        "* And the default step size is one."
      ]
    },
    {
      "cell_type": "code",
      "execution_count": null,
      "metadata": {
        "colab": {
          "base_uri": "https://localhost:8080/"
        },
        "id": "_cd7QejIWUS5",
        "outputId": "57c270c5-e913-43c1-9e1f-cd6a36f2da8c"
      },
      "outputs": [
        {
          "data": {
            "text/plain": [
              "[0, 3, 6, 9]"
            ]
          },
          "execution_count": null,
          "metadata": {},
          "output_type": "execute_result"
        }
      ],
      "source": [
        "x[:10:3]"
      ]
    },
    {
      "cell_type": "markdown",
      "metadata": {
        "id": "fHQ9AD40Wang"
      },
      "source": [
        "Script:\n",
        "* This one starts at the beginning and goes up to but not including ten, stepping by three."
      ]
    },
    {
      "cell_type": "code",
      "execution_count": null,
      "metadata": {
        "colab": {
          "base_uri": "https://localhost:8080/"
        },
        "id": "iZlg1UuiWXI6",
        "outputId": "119da9c6-39ab-4a0f-91ba-e654665b3468"
      },
      "outputs": [
        {
          "data": {
            "text/plain": [
              "[15, 16, 17, 18, 19]"
            ]
          },
          "execution_count": null,
          "metadata": {},
          "output_type": "execute_result"
        }
      ],
      "source": [
        "x[15:]"
      ]
    },
    {
      "cell_type": "code",
      "execution_count": null,
      "metadata": {
        "colab": {
          "base_uri": "https://localhost:8080/"
        },
        "id": "_SaiZaFpWiVe",
        "outputId": "7a6afa6b-a6c6-4c7b-9fbc-fae68396423b"
      },
      "outputs": [
        {
          "data": {
            "text/plain": [
              "[15, 16, 17, 18, 19]"
            ]
          },
          "execution_count": null,
          "metadata": {},
          "output_type": "execute_result"
        }
      ],
      "source": [
        "x[15::]"
      ]
    },
    {
      "cell_type": "markdown",
      "metadata": {
        "id": "WLeL7bZhWjmN"
      },
      "source": [
        "Script:\n",
        "* Both of those start at index 15 and go to the end."
      ]
    },
    {
      "cell_type": "code",
      "execution_count": null,
      "metadata": {
        "colab": {
          "base_uri": "https://localhost:8080/"
        },
        "id": "yrIiypf6WnRe",
        "outputId": "963516c9-82a5-48e1-b5bf-1f382787242e"
      },
      "outputs": [
        {
          "data": {
            "text/plain": [
              "[0, 5, 10, 15]"
            ]
          },
          "execution_count": null,
          "metadata": {},
          "output_type": "execute_result"
        }
      ],
      "source": [
        "x[::5]"
      ]
    },
    {
      "cell_type": "markdown",
      "metadata": {
        "id": "pDeRdoEkWp7_"
      },
      "source": [
        "Script:\n",
        "* And that one starts at the beginning and goes to the end, stepping by five.\n",
        "* When slicing a list, a new list is returned.\n",
        "* When slicing a NumPy array, a view is returned."
      ]
    },
    {
      "cell_type": "code",
      "execution_count": null,
      "metadata": {
        "colab": {
          "base_uri": "https://localhost:8080/"
        },
        "id": "3SyHNtCltVl9",
        "outputId": "712d19b3-259c-4a44-912e-b4f4671688fa"
      },
      "outputs": [
        {
          "data": {
            "text/plain": [
              "array([ 0,  1,  2,  3,  4,  5,  6,  7,  8,  9, 10, 11, 12, 13, 14, 15, 16,\n",
              "       17, 18, 19])"
            ]
          },
          "execution_count": null,
          "metadata": {},
          "output_type": "execute_result"
        }
      ],
      "source": [
        "x2 = np.array(x)\n",
        "x2"
      ]
    },
    {
      "cell_type": "code",
      "execution_count": null,
      "metadata": {
        "colab": {
          "base_uri": "https://localhost:8080/"
        },
        "id": "uSYqJslMtllM",
        "outputId": "47c57042-ab8c-4b07-f465-662e198c215e"
      },
      "outputs": [
        {
          "data": {
            "text/plain": [
              "array([ 0,  5, 10, 15])"
            ]
          },
          "execution_count": null,
          "metadata": {},
          "output_type": "execute_result"
        }
      ],
      "source": [
        "x2[::5]"
      ]
    },
    {
      "cell_type": "markdown",
      "metadata": {
        "id": "CPm8GSfatpA3"
      },
      "source": [
        "Script:\n",
        "* Slicing NumPy arrays is not just limited to one-dimensional arrays.\n",
        "* You can slice multiple dimensions at once by separating them with commas, just like if you were reading an individual value and specifying its coordinates."
      ]
    },
    {
      "cell_type": "code",
      "execution_count": null,
      "metadata": {
        "colab": {
          "base_uri": "https://localhost:8080/"
        },
        "id": "GdkAwfj9tp-8",
        "outputId": "f4f9f337-9744-4564-f719-613416516f11"
      },
      "outputs": [
        {
          "data": {
            "text/plain": [
              "array([[ 0,  1,  2,  3,  4],\n",
              "       [ 5,  6,  7,  8,  9],\n",
              "       [10, 11, 12, 13, 14],\n",
              "       [15, 16, 17, 18, 19]])"
            ]
          },
          "execution_count": null,
          "metadata": {},
          "output_type": "execute_result"
        }
      ],
      "source": [
        "x3 = x2.reshape(4, 5)\n",
        "x3"
      ]
    },
    {
      "cell_type": "code",
      "execution_count": null,
      "metadata": {
        "colab": {
          "base_uri": "https://localhost:8080/"
        },
        "id": "2B46ILUNueHl",
        "outputId": "44efda14-098b-46fa-eda6-26fa443b31f9"
      },
      "outputs": [
        {
          "data": {
            "text/plain": [
              "array([[ 0,  2,  4],\n",
              "       [10, 12, 14]])"
            ]
          },
          "execution_count": null,
          "metadata": {},
          "output_type": "execute_result"
        }
      ],
      "source": [
        "x3[::2,::2]"
      ]
    },
    {
      "cell_type": "markdown",
      "metadata": {
        "id": "zIRLpnC8vCw8"
      },
      "source": [
        "Script:\n",
        "* You can also mix slicing and specific index values."
      ]
    },
    {
      "cell_type": "code",
      "execution_count": null,
      "metadata": {
        "colab": {
          "base_uri": "https://localhost:8080/"
        },
        "id": "PJuwrkN5vIJj",
        "outputId": "c2277494-a368-4bb6-e801-783d8544519f"
      },
      "outputs": [
        {
          "data": {
            "text/plain": [
              "array([ 1, 11])"
            ]
          },
          "execution_count": null,
          "metadata": {},
          "output_type": "execute_result"
        }
      ],
      "source": [
        "x3[::2,1]"
      ]
    },
    {
      "cell_type": "markdown",
      "metadata": {
        "id": "cxqNnIWvvNS1"
      },
      "source": [
        "Script:\n",
        "* Remember, the dimension of the resulting array will drop for each axis with a specific value chosen.\n",
        "* If you don't want that, you can specify a slice of just one value."
      ]
    },
    {
      "cell_type": "code",
      "execution_count": null,
      "metadata": {
        "colab": {
          "base_uri": "https://localhost:8080/"
        },
        "id": "ha4MOLj3vaWe",
        "outputId": "5bcf11dc-2a21-4315-8342-24d4752b626d"
      },
      "outputs": [
        {
          "data": {
            "text/plain": [
              "array([[ 1],\n",
              "       [11]])"
            ]
          },
          "execution_count": null,
          "metadata": {},
          "output_type": "execute_result"
        }
      ],
      "source": [
        "x3[::2,1:2]"
      ]
    },
    {
      "cell_type": "markdown",
      "metadata": {
        "id": "9jbOp4pCw4O8"
      },
      "source": [
        "Script:\n",
        "* One brief comment on how array slicing works.\n",
        "* This works because however you setup the slices, the indices chosen will always be at fixed intervals from the step size.\n",
        "* So if you compare the strides, you can see that step size being multiplied there."
      ]
    },
    {
      "cell_type": "code",
      "execution_count": null,
      "metadata": {
        "colab": {
          "base_uri": "https://localhost:8080/"
        },
        "id": "4OsgVC5PxIPg",
        "outputId": "1c69daec-9759-44ae-8c33-e907b56dff4b"
      },
      "outputs": [
        {
          "data": {
            "text/plain": [
              "(40, 8)"
            ]
          },
          "execution_count": null,
          "metadata": {},
          "output_type": "execute_result"
        }
      ],
      "source": [
        "x3.strides"
      ]
    },
    {
      "cell_type": "code",
      "execution_count": null,
      "metadata": {
        "colab": {
          "base_uri": "https://localhost:8080/"
        },
        "id": "HFyqkyk1xK14",
        "outputId": "c0c84fce-1edf-48d1-d1ac-934bd353321e"
      },
      "outputs": [
        {
          "data": {
            "text/plain": [
              "(80, 24)"
            ]
          },
          "execution_count": null,
          "metadata": {},
          "output_type": "execute_result"
        }
      ],
      "source": [
        "x3[::2,::3].strides"
      ]
    },
    {
      "cell_type": "markdown",
      "metadata": {
        "id": "zexKeVV5xRJL"
      },
      "source": [
        "Script:\n",
        "* Comparing those strides, you can see the stride length is multiplied by the step size.\n",
        "* There are a few other advanced ways to index arrays, but they usually don't work as views because they don't have that fixed size to make a new stride.\n",
        "* Without the fixed size, you can't have a fixed stride along each axis, and the views won't work.\n",
        "* One final note on efficiency of arrays and views.\n",
        "* You've seen array indexing giving all the coordinates at once."
      ]
    },
    {
      "cell_type": "code",
      "execution_count": null,
      "metadata": {
        "colab": {
          "base_uri": "https://localhost:8080/"
        },
        "id": "miTXtGEMxzXK",
        "outputId": "eef91495-973b-4520-f22a-e367af583f6f"
      },
      "outputs": [
        {
          "data": {
            "text/plain": [
              "6"
            ]
          },
          "execution_count": null,
          "metadata": {},
          "output_type": "execute_result"
        }
      ],
      "source": [
        "x3[1,1]"
      ]
    },
    {
      "cell_type": "markdown",
      "metadata": {
        "id": "hkmg_bo0x2hl"
      },
      "source": [
        "Script:\n",
        "* And you've seen array indexing where you give one coordinate, get a sub array, and then index that."
      ]
    },
    {
      "cell_type": "code",
      "execution_count": null,
      "metadata": {
        "colab": {
          "base_uri": "https://localhost:8080/"
        },
        "id": "uJiHBqt6x7nl",
        "outputId": "e50f533a-7666-490a-c5e0-ca7aff38246e"
      },
      "outputs": [
        {
          "data": {
            "text/plain": [
              "6"
            ]
          },
          "execution_count": null,
          "metadata": {},
          "output_type": "execute_result"
        }
      ],
      "source": [
        "x3[1][1]"
      ]
    },
    {
      "cell_type": "markdown",
      "metadata": {
        "id": "UzMLnk6tx9hu"
      },
      "source": [
        "Script:\n",
        "* The first version giving all the coordinates at once is generally more efficient, because the sub array is not created and abandoned in the middle.\n",
        "* Certain access patterns can be made faster, if you reuse the subarray from the earlier indexing.\n",
        "* But unless you are making the effort to get that speedup, just pass all the indexes at once."
      ]
    }
  ],
  "metadata": {
    "colab": {},
    "kernelspec": {
      "display_name": "Python 3",
      "name": "python3"
    },
    "language_info": {
      "codemirror_mode": {
        "name": "ipython",
        "version": 3
      },
      "file_extension": ".py",
      "mimetype": "text/x-python",
      "name": "python",
      "nbconvert_exporter": "python",
      "pygments_lexer": "ipython3",
      "version": "3.9.6"
    }
  },
  "nbformat": 4,
  "nbformat_minor": 0
}