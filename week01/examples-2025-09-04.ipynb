{
 "cells": [
  {
   "cell_type": "markdown",
   "id": "7b4810cf",
   "metadata": {},
   "source": [
    "Data and variables:\n",
    "<li>data: values with which we interact in a program\n",
    "<li>variable: a storage location within the computer's memory that holds some value\n"
   ]
  },
  {
   "cell_type": "code",
   "execution_count": 11,
   "id": "dcfb3b4a",
   "metadata": {},
   "outputs": [
    {
     "data": {
      "text/plain": [
       "4"
      ]
     },
     "execution_count": 11,
     "metadata": {},
     "output_type": "execute_result"
    }
   ],
   "source": [
    "x = 4 # set the value 4 to the variable x\n",
    "s = \"hello world!\"\n",
    "x"
   ]
  },
  {
   "cell_type": "markdown",
   "id": "89281fd7",
   "metadata": {},
   "source": [
    "Arithmetic Operations"
   ]
  },
  {
   "cell_type": "code",
   "execution_count": 17,
   "id": "0dabf419",
   "metadata": {},
   "outputs": [
    {
     "name": "stdout",
     "output_type": "stream",
     "text": [
      "Results: \n",
      "multiplication: 42\n",
      "floating point division: 0.21428571428571427\n",
      "integer division: 0\n",
      "remainder from integer division: 3\n"
     ]
    }
   ],
   "source": [
    "x = 3\n",
    "y = 14\n",
    "mult = x * y # multiplication\n",
    "div = x / y # division (floating point division, real numbers)\n",
    "div2 = x // y # integer division\n",
    "mod = x % y # modulo: remainder from integer division\n",
    "\n",
    "print(\"Results: \")\n",
    "print(\"multiplication:\", mult)\n",
    "print(\"floating point division:\", div)\n",
    "print(\"integer division:\", div2)\n",
    "print(\"remainder from integer division:\", mod)"
   ]
  },
  {
   "cell_type": "markdown",
   "id": "cdac9980",
   "metadata": {},
   "source": [
    "Functions:\n",
    "<li>package up some statements of code to reuse them later\n",
    "<li>use \"parameters\"\n",
    "<li>return a result\n"
   ]
  },
  {
   "cell_type": "code",
   "execution_count": 25,
   "id": "1e1f8e4b",
   "metadata": {},
   "outputs": [],
   "source": [
    "def mult_three(x):\n",
    "    '''multiply the parameter \n",
    "    x by 3 and return the result'''\n",
    "    result = x * 3\n",
    "    return result # copy the value out of the function\n",
    "\n",
    "def print_greeting(name):\n",
    "    '''produce a greeting for the parameter name (expect a string)'''\n",
    "\n",
    "    print(\"Hello, \" + name)\n",
    "\n"
   ]
  },
  {
   "cell_type": "markdown",
   "id": "69050493",
   "metadata": {},
   "source": [
    "Other"
   ]
  },
  {
   "cell_type": "code",
   "execution_count": null,
   "id": "c5b42ce0",
   "metadata": {},
   "outputs": [
    {
     "name": "stdout",
     "output_type": "stream",
     "text": [
      "Hello, Lightning\n"
     ]
    },
    {
     "ename": "NameError",
     "evalue": "name 'z' is not defined",
     "output_type": "error",
     "traceback": [
      "\u001b[0;31m---------------------------------------------------------------------------\u001b[0m",
      "\u001b[0;31mNameError\u001b[0m                                 Traceback (most recent call last)",
      "Cell \u001b[0;32mIn[27], line 7\u001b[0m\n\u001b[1;32m      1\u001b[0m \u001b[38;5;66;03m# test code: call the function, obtain the result and print out\u001b[39;00m\n\u001b[1;32m      2\u001b[0m \u001b[38;5;66;03m# print(\"mult_three(14) =\", mult_three(14))\u001b[39;00m\n\u001b[1;32m      3\u001b[0m \u001b[38;5;66;03m# print(\"mult_three(-3) =\", mult_three(-3))\u001b[39;00m\n\u001b[1;32m      4\u001b[0m \u001b[38;5;66;03m# print(\"mult_three('14') =\", mult_three(\"14\"))\u001b[39;00m\n\u001b[1;32m      5\u001b[0m \u001b[38;5;66;03m# print(\"mult_three('hi!') =\", mult_three(\"hi!\"))\u001b[39;00m\n\u001b[1;32m      6\u001b[0m print_greeting(\u001b[38;5;124m\"\u001b[39m\u001b[38;5;124mLightning\u001b[39m\u001b[38;5;124m\"\u001b[39m)\n\u001b[0;32m----> 7\u001b[0m \u001b[38;5;28mprint\u001b[39m(\u001b[38;5;124m\"\u001b[39m\u001b[38;5;124mz = \u001b[39m\u001b[38;5;124m\"\u001b[39m, \u001b[43mz\u001b[49m)\n",
      "\u001b[0;31mNameError\u001b[0m: name 'z' is not defined"
     ]
    }
   ],
   "source": [
    "# test code: call the function, obtain the result and print out\n",
    "# print(\"mult_three(14) =\", mult_three(14))\n",
    "# print(\"mult_three(-3) =\", mult_three(-3))\n",
    "# print(\"mult_three('14') =\", mult_three(\"14\"))\n",
    "# print(\"mult_three('hi!') =\", mult_three(\"hi!\"))\n",
    "print_greeting(\"Lightning\")\n",
    "# print(\"z = \", z) # variable z is not defined"
   ]
  }
 ],
 "metadata": {
  "kernelspec": {
   "display_name": "base",
   "language": "python",
   "name": "python3"
  },
  "language_info": {
   "codemirror_mode": {
    "name": "ipython",
    "version": 3
   },
   "file_extension": ".py",
   "mimetype": "text/x-python",
   "name": "python",
   "nbconvert_exporter": "python",
   "pygments_lexer": "ipython3",
   "version": "3.9.12"
  }
 },
 "nbformat": 4,
 "nbformat_minor": 5
}
