{
  "cells": [
    {
      "cell_type": "markdown",
      "metadata": {
        "id": "4S9WYDd16Cog"
      },
      "source": [
        "# Video: Python as A Calculator\n",
        "\n",
        "This video shows you how to use Python as a calculator to get comfortable with simple Python expressions."
      ]
    },
    {
      "cell_type": "markdown",
      "metadata": {
        "id": "hv4hzs7T6eK5"
      },
      "source": [
        "Script:\n",
        "* Hello.\n",
        "* I'm going to show you how to use Python like a calculator, to show you how to work with numbers in Python.\n",
        "* I'm going to demonstrate with a Python notebook, but you can type the same commands into the Python interpreter if you have it installed on your computer.\n",
        "* The same commands will work when you write a standalone Python program.\n",
        "* A copy of this notebook will be linked below the video in Blackboard.\n",
        "* Let's start with a simple number - 12345."
      ]
    },
    {
      "cell_type": "code",
      "execution_count": null,
      "metadata": {
        "colab": {
          "base_uri": "https://localhost:8080/"
        },
        "id": "hz094CYg6iO_",
        "outputId": "461b0044-2bb6-4772-e849-83629c2c8fa5"
      },
      "outputs": [
        {
          "data": {
            "text/plain": [
              "12345"
            ]
          },
          "execution_count": null,
          "metadata": {},
          "output_type": "execute_result"
        }
      ],
      "source": [
        "12345"
      ]
    },
    {
      "cell_type": "markdown",
      "metadata": {
        "id": "qc-94XZL6m-e"
      },
      "source": [
        "Script:\n",
        "* See, Python understood that.\n",
        "* If we want to make it easier to read at a glance, we can type it like this -"
      ]
    },
    {
      "cell_type": "code",
      "execution_count": null,
      "metadata": {
        "colab": {
          "base_uri": "https://localhost:8080/"
        },
        "id": "aN1OfIpi6qzY",
        "outputId": "1dc144ad-c52c-4a47-94ae-adec5bcdb983"
      },
      "outputs": [
        {
          "data": {
            "text/plain": [
              "12345"
            ]
          },
          "execution_count": null,
          "metadata": {},
          "output_type": "execute_result"
        }
      ],
      "source": [
        "12_345"
      ]
    },
    {
      "cell_type": "markdown",
      "metadata": {
        "id": "5pPoCmaQ6xSM"
      },
      "source": [
        "Script:\n",
        "* Python recognizes that as the same number.\n",
        "* Why not use commas?\n",
        "* Python uses those to separate lists of values.\n",
        "* We'll get to those next week.\n",
        "* If we want to add numbers, we just type in the math formula.\n"
      ]
    },
    {
      "cell_type": "code",
      "execution_count": null,
      "metadata": {
        "colab": {
          "base_uri": "https://localhost:8080/"
        },
        "id": "QQ_9VVf161tr",
        "outputId": "037c185e-e40f-404c-d6be-5bf76ce40cf1"
      },
      "outputs": [
        {
          "data": {
            "text/plain": [
              "357"
            ]
          },
          "execution_count": null,
          "metadata": {},
          "output_type": "execute_result"
        }
      ],
      "source": [
        "12+345"
      ]
    },
    {
      "cell_type": "markdown",
      "metadata": {
        "id": "md-0gHPM66gq"
      },
      "source": [
        "Script:\n",
        "* Extra spaces are ok here.\n"
      ]
    },
    {
      "cell_type": "code",
      "execution_count": null,
      "metadata": {
        "colab": {
          "base_uri": "https://localhost:8080/"
        },
        "id": "2oBiHWhu7AFM",
        "outputId": "9b2aa3b5-27b5-4c07-80d7-6777cf310b0f"
      },
      "outputs": [
        {
          "data": {
            "text/plain": [
              "357"
            ]
          },
          "execution_count": null,
          "metadata": {},
          "output_type": "execute_result"
        }
      ],
      "source": [
        "12 + 345"
      ]
    },
    {
      "cell_type": "markdown",
      "metadata": {
        "id": "FmFYlYUb7DHm"
      },
      "source": [
        "Script:\n",
        "* I prefer them for legibility when I'm writing code that I will keep or share, but I often skip them while poking around like this.\n",
        "* Subtraction works the same way."
      ]
    },
    {
      "cell_type": "code",
      "execution_count": null,
      "metadata": {
        "colab": {
          "base_uri": "https://localhost:8080/"
        },
        "id": "h0Xls3S87JXc",
        "outputId": "cbadcbcd-db55-4b53-dfdc-2e8cde693426"
      },
      "outputs": [
        {
          "data": {
            "text/plain": [
              "876"
            ]
          },
          "execution_count": null,
          "metadata": {},
          "output_type": "execute_result"
        }
      ],
      "source": [
        "999 - 123"
      ]
    },
    {
      "cell_type": "markdown",
      "metadata": {
        "id": "gFkWP-SX7Lr4"
      },
      "source": [
        "Script:\n",
        "* Multiplication uses an asterisk.\n",
        "* That's the character over the number 8 on most keyboards."
      ]
    },
    {
      "cell_type": "code",
      "execution_count": null,
      "metadata": {
        "colab": {
          "base_uri": "https://localhost:8080/"
        },
        "id": "430il0Yk7Qoj",
        "outputId": "cd62a9ba-c378-4612-e236-67f8345f6f9d"
      },
      "outputs": [
        {
          "data": {
            "text/plain": [
              "40"
            ]
          },
          "execution_count": null,
          "metadata": {},
          "output_type": "execute_result"
        }
      ],
      "source": [
        "8 * 5"
      ]
    },
    {
      "cell_type": "markdown",
      "metadata": {
        "id": "uy3Xnt7n7Syx"
      },
      "source": [
        "Script:\n",
        "* If you want exponentiation, that is, repeated multiplication, you use two asterisks."
      ]
    },
    {
      "cell_type": "code",
      "execution_count": null,
      "metadata": {
        "colab": {
          "base_uri": "https://localhost:8080/"
        },
        "id": "n-YcHhFz7U_y",
        "outputId": "8c5438e3-feb2-453e-f3d6-e00df1e1a5fc"
      },
      "outputs": [
        {
          "data": {
            "text/plain": [
              "100000"
            ]
          },
          "execution_count": null,
          "metadata": {},
          "output_type": "execute_result"
        }
      ],
      "source": [
        "10 ** 5"
      ]
    },
    {
      "cell_type": "markdown",
      "metadata": {
        "id": "-02yj0yE77Fd"
      },
      "source": [
        "Script:\n",
        "* Division uses a forward slash.\n",
        "* That's usually under the question mark towards the bottom right of your keyboard."
      ]
    },
    {
      "cell_type": "code",
      "execution_count": null,
      "metadata": {
        "colab": {
          "base_uri": "https://localhost:8080/"
        },
        "id": "Z59eU0im7-CS",
        "outputId": "a63ac8c3-a902-4048-9868-187b68582962"
      },
      "outputs": [
        {
          "data": {
            "text/plain": [
              "1.3333333333333333"
            ]
          },
          "execution_count": null,
          "metadata": {},
          "output_type": "execute_result"
        }
      ],
      "source": [
        "8 / 6"
      ]
    },
    {
      "cell_type": "markdown",
      "metadata": {
        "id": "Ee2MbYDJ8DiX"
      },
      "source": [
        "Script:\n",
        "* That looks different - that's the first number today that was not an integer.\n",
        "* Python can handle real numbers of course, and in this case, Python automatically switched from integers to reals for that division.\n",
        "* Previous versions of Python did not automatically switch, so you would get eight divided by six equals one.\n",
        "* The assumption then was that you wanted an integer back when calculating with integers.\n",
        "* If you want that behavior now, you can divide using two slashes like this and it will round down the answer."
      ]
    },
    {
      "cell_type": "code",
      "execution_count": null,
      "metadata": {
        "colab": {
          "base_uri": "https://localhost:8080/"
        },
        "id": "O2Zpe3xW8NsW",
        "outputId": "49514ec1-616a-410f-98d8-19700a0aa135"
      },
      "outputs": [
        {
          "data": {
            "text/plain": [
              "1"
            ]
          },
          "execution_count": null,
          "metadata": {},
          "output_type": "execute_result"
        }
      ],
      "source": [
        "8 // 6"
      ]
    },
    {
      "cell_type": "markdown",
      "metadata": {
        "id": "ijpEiUYr8Xlv"
      },
      "source": [
        "Script:\n",
        "* Here's a negative one so you can see it rounding down."
      ]
    },
    {
      "cell_type": "code",
      "execution_count": null,
      "metadata": {
        "colab": {
          "base_uri": "https://localhost:8080/"
        },
        "id": "oneBngEe8abf",
        "outputId": "7bc48b0f-b583-45c3-8a9a-131e7a8cdb27"
      },
      "outputs": [
        {
          "data": {
            "text/plain": [
              "-2"
            ]
          },
          "execution_count": null,
          "metadata": {},
          "output_type": "execute_result"
        }
      ],
      "source": [
        "-8 // 6"
      ]
    },
    {
      "cell_type": "markdown",
      "metadata": {
        "id": "vGDlUcP88e9p"
      },
      "source": [
        "Script:\n",
        "* And it doesn't matter whether the numerator or denominator is negative."
      ]
    },
    {
      "cell_type": "code",
      "execution_count": null,
      "metadata": {
        "colab": {
          "base_uri": "https://localhost:8080/"
        },
        "id": "KhI-vyJ18h9x",
        "outputId": "f7792084-23f1-469e-a35b-fe174bb722c3"
      },
      "outputs": [
        {
          "data": {
            "text/plain": [
              "-2"
            ]
          },
          "execution_count": null,
          "metadata": {},
          "output_type": "execute_result"
        }
      ],
      "source": [
        "8 // -6"
      ]
    },
    {
      "cell_type": "markdown",
      "metadata": {
        "id": "hZ6N_ixg8kg_"
      },
      "source": [
        "Script:\n",
        "* So, I just mentioned that Python handled integers differently from real numbers.\n",
        "* Let's look at that.\n",
        "* First, let's look at the types of the numbers we are typing in."
      ]
    },
    {
      "cell_type": "code",
      "execution_count": null,
      "metadata": {
        "colab": {
          "base_uri": "https://localhost:8080/"
        },
        "id": "71UCB7l_8r-r",
        "outputId": "7915d52d-66ed-4e3c-ce1b-6d576a0144e2"
      },
      "outputs": [
        {
          "data": {
            "text/plain": [
              "int"
            ]
          },
          "execution_count": null,
          "metadata": {},
          "output_type": "execute_result"
        }
      ],
      "source": [
        "type(3)"
      ]
    },
    {
      "cell_type": "markdown",
      "metadata": {
        "id": "VasTjuxu8t8c"
      },
      "source": [
        "Script:\n",
        "* We'll go into classes later.\n",
        "* For now, you just need to know that this \u201cint\u201d class is for integers."
      ]
    },
    {
      "cell_type": "code",
      "execution_count": null,
      "metadata": {
        "colab": {
          "base_uri": "https://localhost:8080/"
        },
        "id": "gq1Dbr018xw9",
        "outputId": "a7a087eb-af35-4963-9234-ce28f2d8a7a4"
      },
      "outputs": [
        {
          "data": {
            "text/plain": [
              "float"
            ]
          },
          "execution_count": null,
          "metadata": {},
          "output_type": "execute_result"
        }
      ],
      "source": [
        "type(3.0)"
      ]
    },
    {
      "cell_type": "code",
      "execution_count": null,
      "metadata": {
        "colab": {
          "base_uri": "https://localhost:8080/"
        },
        "id": "lLC00IvG8zXM",
        "outputId": "1c40b787-ef8e-4235-e0f3-1126ebb4cf8e"
      },
      "outputs": [
        {
          "data": {
            "text/plain": [
              "float"
            ]
          },
          "execution_count": null,
          "metadata": {},
          "output_type": "execute_result"
        }
      ],
      "source": [
        "type(3.1)"
      ]
    },
    {
      "cell_type": "markdown",
      "metadata": {
        "id": "o7Lq9f5281NH"
      },
      "source": [
        "Script:\n",
        "* And this \u201cfloat\u201d class is for real numbers.\n",
        "* We will talk about what \u201cfloat\u201d means shortly.\n",
        "* We can change the type of a number in python using the class name."
      ]
    },
    {
      "cell_type": "code",
      "execution_count": null,
      "metadata": {
        "colab": {
          "base_uri": "https://localhost:8080/"
        },
        "id": "KT9dBaRn86I1",
        "outputId": "2acf960a-b5dd-444d-d272-b8809bdfcb24"
      },
      "outputs": [
        {
          "data": {
            "text/plain": [
              "3.0"
            ]
          },
          "execution_count": null,
          "metadata": {},
          "output_type": "execute_result"
        }
      ],
      "source": [
        "float(3)"
      ]
    },
    {
      "cell_type": "markdown",
      "metadata": {
        "id": "TtIdFUhc9CJm"
      },
      "source": [
        "Script:\n",
        "* Note that now there is a \".0\" when the value was printed."
      ]
    },
    {
      "cell_type": "code",
      "execution_count": null,
      "metadata": {
        "colab": {
          "base_uri": "https://localhost:8080/"
        },
        "id": "cIvIkIvM9FTQ",
        "outputId": "0ccf8feb-1820-4b53-eed5-dc0c3f189535"
      },
      "outputs": [
        {
          "data": {
            "text/plain": [
              "3"
            ]
          },
          "execution_count": null,
          "metadata": {},
          "output_type": "execute_result"
        }
      ],
      "source": [
        "int(3.0)"
      ]
    },
    {
      "cell_type": "markdown",
      "metadata": {
        "id": "Nnx-_sz89HTX"
      },
      "source": [
        "Script:\n",
        "* Note that the \".0\" was dropped this time.\n",
        "* You can confirm with the type function that the types changed."
      ]
    },
    {
      "cell_type": "code",
      "execution_count": null,
      "metadata": {
        "colab": {
          "base_uri": "https://localhost:8080/"
        },
        "id": "KF4CI7JX9LJG",
        "outputId": "0eec36bd-8a94-4911-bf76-bb120ab5727b"
      },
      "outputs": [
        {
          "data": {
            "text/plain": [
              "3"
            ]
          },
          "execution_count": null,
          "metadata": {},
          "output_type": "execute_result"
        }
      ],
      "source": [
        "3"
      ]
    },
    {
      "cell_type": "code",
      "execution_count": null,
      "metadata": {
        "colab": {
          "base_uri": "https://localhost:8080/"
        },
        "id": "6FXIt5Tf9LvL",
        "outputId": "3d05d5b4-0731-4f92-a9fe-09b9aadaed12"
      },
      "outputs": [
        {
          "data": {
            "text/plain": [
              "float"
            ]
          },
          "execution_count": null,
          "metadata": {},
          "output_type": "execute_result"
        }
      ],
      "source": [
        "type(float(3))"
      ]
    },
    {
      "cell_type": "code",
      "execution_count": null,
      "metadata": {
        "colab": {
          "base_uri": "https://localhost:8080/"
        },
        "id": "6mpZRL7R9N8d",
        "outputId": "b6bf55d9-882d-46a6-ccb1-d1eb0a8a0246"
      },
      "outputs": [
        {
          "data": {
            "text/plain": [
              "int"
            ]
          },
          "execution_count": null,
          "metadata": {},
          "output_type": "execute_result"
        }
      ],
      "source": [
        "type(int(3.0))"
      ]
    },
    {
      "cell_type": "code",
      "execution_count": null,
      "metadata": {
        "colab": {
          "base_uri": "https://localhost:8080/"
        },
        "id": "dayR5tbD9M15",
        "outputId": "88224171-41f6-4f4e-9a0f-433be29cab56"
      },
      "outputs": [
        {
          "data": {
            "text/plain": [
              "3.0"
            ]
          },
          "execution_count": null,
          "metadata": {},
          "output_type": "execute_result"
        }
      ],
      "source": [
        "3.0"
      ]
    },
    {
      "cell_type": "markdown",
      "metadata": {
        "id": "kg71KwBr9Rbi"
      },
      "source": [
        "Script:\n",
        "* Technically, this creates a new object of the class from the previous number.\n",
        "* Wrapping up, we will cover variables and functions very briefly.\n",
        "* Just enough to save a formula as a function.\n",
        "* First, you can save a value in a variable by typing the variable name, the equals sign, then the value that you want to save."
      ]
    },
    {
      "cell_type": "code",
      "execution_count": null,
      "metadata": {
        "id": "Br-4IzgH9YRO"
      },
      "outputs": [],
      "source": [
        "x = 3"
      ]
    },
    {
      "cell_type": "markdown",
      "metadata": {
        "id": "vHsn-kMi9bDg"
      },
      "source": [
        "Script:\n",
        "* This saves 3 into a variable called x.\n",
        "* In these notebooks, these variable assignments do not print out anything.\n",
        "* But you can just type in the variable name in a new cell, or the end of one, to print out its value."
      ]
    },
    {
      "cell_type": "code",
      "execution_count": null,
      "metadata": {
        "colab": {
          "base_uri": "https://localhost:8080/"
        },
        "id": "N-Io_qex9e_4",
        "outputId": "99254f61-b766-493d-ae96-3013b31f50ad"
      },
      "outputs": [
        {
          "data": {
            "text/plain": [
              "3"
            ]
          },
          "execution_count": null,
          "metadata": {},
          "output_type": "execute_result"
        }
      ],
      "source": [
        "x"
      ]
    },
    {
      "cell_type": "markdown",
      "metadata": {
        "id": "4gKE6lJR9iu-"
      },
      "source": [
        "Script:\n",
        "* Or doing them together,"
      ]
    },
    {
      "cell_type": "code",
      "execution_count": null,
      "metadata": {
        "colab": {
          "base_uri": "https://localhost:8080/"
        },
        "id": "QE9UrIm99k9R",
        "outputId": "2c0bd373-f622-45b8-ddda-fe121f558078"
      },
      "outputs": [
        {
          "data": {
            "text/plain": [
              "4"
            ]
          },
          "execution_count": null,
          "metadata": {},
          "output_type": "execute_result"
        }
      ],
      "source": [
        "y = 4\n",
        "y"
      ]
    },
    {
      "cell_type": "markdown",
      "metadata": {
        "id": "FINlLCqQ9nPU"
      },
      "source": [
        "Script:\n",
        "* And now that you have those values saved in variables, you can get them back by using the variable names, and make new expressions from them."
      ]
    },
    {
      "cell_type": "code",
      "execution_count": null,
      "metadata": {
        "colab": {
          "base_uri": "https://localhost:8080/"
        },
        "id": "LN-YB6AK9pBo",
        "outputId": "f673de14-ede9-40bc-daad-5fc1d7519eee"
      },
      "outputs": [
        {
          "data": {
            "text/plain": [
              "7"
            ]
          },
          "execution_count": null,
          "metadata": {},
          "output_type": "execute_result"
        }
      ],
      "source": [
        "x + y"
      ]
    },
    {
      "cell_type": "markdown",
      "metadata": {
        "id": "7mArnz499stG"
      },
      "source": [
        "Script:\n",
        "* Now that we have variables, we can start defining meaningful functions.\n",
        "* For now, we will just cover very simple functions that take in a value and return back a new one."
      ]
    },
    {
      "cell_type": "code",
      "execution_count": null,
      "metadata": {
        "id": "zEXpctzi9wZv"
      },
      "outputs": [],
      "source": [
        "def plus_two(x):\n",
        "    return x + 2"
      ]
    },
    {
      "cell_type": "markdown",
      "metadata": {
        "id": "mLnQ7H4d90z3"
      },
      "source": [
        "Script:\n",
        "* That defines a function called plus_two that takes in a value, that it internally calls x, and returns that value plus two.\n"
      ]
    },
    {
      "cell_type": "code",
      "execution_count": null,
      "metadata": {
        "colab": {
          "base_uri": "https://localhost:8080/"
        },
        "id": "MgSq1iYF94Lo",
        "outputId": "b7496b2a-44d2-4d8e-a2e8-83dfd4de1d56"
      },
      "outputs": [
        {
          "data": {
            "text/plain": [
              "7"
            ]
          },
          "execution_count": null,
          "metadata": {},
          "output_type": "execute_result"
        }
      ],
      "source": [
        "plus_two(5)"
      ]
    },
    {
      "cell_type": "markdown",
      "metadata": {
        "id": "jbnBj-kz99k1"
      },
      "source": [
        "Script:\n",
        "* Note that the x inside plus_two is different from the x variable that we previously defined."
      ]
    },
    {
      "cell_type": "code",
      "execution_count": null,
      "metadata": {
        "colab": {
          "base_uri": "https://localhost:8080/"
        },
        "id": "IljZTeWD95pa",
        "outputId": "0634bc24-f5e2-47ce-ab6c-9152c4067f2c"
      },
      "outputs": [
        {
          "data": {
            "text/plain": [
              "3"
            ]
          },
          "execution_count": null,
          "metadata": {},
          "output_type": "execute_result"
        }
      ],
      "source": [
        "x"
      ]
    },
    {
      "cell_type": "markdown",
      "metadata": {
        "id": "4C4nXYMi-CFu"
      },
      "source": [
        "Script:\n",
        "* So we just called plus_two with the value five for its inside x, and it returned seven.\n",
        "* But then we printed our outside x and it was still three from before.\n",
        "* We will cover much more complicated functions later, but that is it for this lesson."
      ]
    }
  ],
  "metadata": {
    "colab": {},
    "kernelspec": {
      "display_name": "Python 3",
      "name": "python3"
    },
    "language_info": {
      "codemirror_mode": {
        "name": "ipython",
        "version": 3
      },
      "file_extension": ".py",
      "mimetype": "text/x-python",
      "name": "python",
      "nbconvert_exporter": "python",
      "pygments_lexer": "ipython3",
      "version": "3.9.6"
    }
  },
  "nbformat": 4,
  "nbformat_minor": 0
}