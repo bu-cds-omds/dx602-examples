{
  "cells": [
    {
      "cell_type": "markdown",
      "metadata": {
        "id": "lVKxS90UfJOi"
      },
      "source": [
        "# Video: How Python Represents Numbers\n",
        "\n",
        "This video shows off the capabilities and limitations of Python's built in number types.\n"
      ]
    },
    {
      "cell_type": "markdown",
      "metadata": {
        "id": "C2QvybOcAPgU"
      },
      "source": [
        "Script:\n",
        "* If you play around with Python integers, you'll find that you can make them really big.\n",
        "* You can calculate ten to the hundredth power, a googol, and Python will happily calculate it."
      ]
    },
    {
      "cell_type": "code",
      "execution_count": null,
      "metadata": {
        "colab": {
          "base_uri": "https://localhost:8080/"
        },
        "id": "6V1PIvAHATyr",
        "outputId": "2fc579d0-76b5-44f4-8385-2a3e40580015"
      },
      "outputs": [
        {
          "data": {
            "text/plain": [
              "10000000000000000000000000000000000000000000000000000000000000000000000000000000000000000000000000000"
            ]
          },
          "execution_count": null,
          "metadata": {},
          "output_type": "execute_result"
        }
      ],
      "source": [
        "10 ** 100"
      ]
    },
    {
      "cell_type": "markdown",
      "metadata": {
        "id": "GM8aGM0kAXPI"
      },
      "source": [
        "Script:\n",
        "* 10 to the thousandth power works too."
      ]
    },
    {
      "cell_type": "code",
      "execution_count": null,
      "metadata": {
        "colab": {
          "base_uri": "https://localhost:8080/"
        },
        "id": "IsPrwOPAAcLh",
        "outputId": "e2f1ffd3-2249-4ee5-b0dc-24bc6809d824"
      },
      "outputs": [
        {
          "data": {
            "text/plain": [
              "10000000000000000000000000000000000000000000000000000000000000000000000000000000000000000000000000000000000000000000000000000000000000000000000000000000000000000000000000000000000000000000000000000000000000000000000000000000000000000000000000000000000000000000000000000000000000000000000000000000000000000000000000000000000000000000000000000000000000000000000000000000000000000000000000000000000000000000000000000000000000000000000000000000000000000000000000000000000000000000000000000000000000000000000000000000000000000000000000000000000000000000000000000000000000000000000000000000000000000000000000000000000000000000000000000000000000000000000000000000000000000000000000000000000000000000000000000000000000000000000000000000000000000000000000000000000000000000000000000000000000000000000000000000000000000000000000000000000000000000000000000000000000000000000000000000000000000000000000000000000000000000000000000000000000000000000000000000000000000000000000000000000000000000000000000000000000000"
            ]
          },
          "execution_count": null,
          "metadata": {},
          "output_type": "execute_result"
        }
      ],
      "source": [
        "10 ** 1000"
      ]
    },
    {
      "cell_type": "markdown",
      "metadata": {
        "id": "KAxBwzXaAejt"
      },
      "source": [
        "Script:\n",
        "* If you try 10 ** 10000, you will get an error.\n"
      ]
    },
    {
      "cell_type": "code",
      "execution_count": null,
      "metadata": {
        "colab": {
          "base_uri": "https://localhost:8080/",
          "height": 365
        },
        "id": "rpDdt39qAkWT",
        "outputId": "1034c542-f778-462c-e08f-5b325cf17640"
      },
      "outputs": [
        {
          "ename": "ValueError",
          "evalue": "Exceeds the limit (4300) for integer string conversion; use sys.set_int_max_str_digits() to increase the limit",
          "output_type": "error",
          "traceback": [
            "\u001b[0;31m---------------------------------------------------------------------------\u001b[0m",
            "\u001b[0;31mValueError\u001b[0m                                Traceback (most recent call last)",
            "\u001b[0;32m/usr/local/lib/python3.10/dist-packages/IPython/core/formatters.py\u001b[0m in \u001b[0;36m__call__\u001b[0;34m(self, obj)\u001b[0m\n\u001b[1;32m    700\u001b[0m                 \u001b[0mtype_pprinters\u001b[0m\u001b[0;34m=\u001b[0m\u001b[0mself\u001b[0m\u001b[0;34m.\u001b[0m\u001b[0mtype_printers\u001b[0m\u001b[0;34m,\u001b[0m\u001b[0;34m\u001b[0m\u001b[0;34m\u001b[0m\u001b[0m\n\u001b[1;32m    701\u001b[0m                 deferred_pprinters=self.deferred_printers)\n\u001b[0;32m--> 702\u001b[0;31m             \u001b[0mprinter\u001b[0m\u001b[0;34m.\u001b[0m\u001b[0mpretty\u001b[0m\u001b[0;34m(\u001b[0m\u001b[0mobj\u001b[0m\u001b[0;34m)\u001b[0m\u001b[0;34m\u001b[0m\u001b[0;34m\u001b[0m\u001b[0m\n\u001b[0m\u001b[1;32m    703\u001b[0m             \u001b[0mprinter\u001b[0m\u001b[0;34m.\u001b[0m\u001b[0mflush\u001b[0m\u001b[0;34m(\u001b[0m\u001b[0;34m)\u001b[0m\u001b[0;34m\u001b[0m\u001b[0;34m\u001b[0m\u001b[0m\n\u001b[1;32m    704\u001b[0m             \u001b[0;32mreturn\u001b[0m \u001b[0mstream\u001b[0m\u001b[0;34m.\u001b[0m\u001b[0mgetvalue\u001b[0m\u001b[0;34m(\u001b[0m\u001b[0;34m)\u001b[0m\u001b[0;34m\u001b[0m\u001b[0;34m\u001b[0m\u001b[0m\n",
            "\u001b[0;32m/usr/local/lib/python3.10/dist-packages/IPython/lib/pretty.py\u001b[0m in \u001b[0;36mpretty\u001b[0;34m(self, obj)\u001b[0m\n\u001b[1;32m    375\u001b[0m                 \u001b[0;32mif\u001b[0m \u001b[0mcls\u001b[0m \u001b[0;32min\u001b[0m \u001b[0mself\u001b[0m\u001b[0;34m.\u001b[0m\u001b[0mtype_pprinters\u001b[0m\u001b[0;34m:\u001b[0m\u001b[0;34m\u001b[0m\u001b[0;34m\u001b[0m\u001b[0m\n\u001b[1;32m    376\u001b[0m                     \u001b[0;31m# printer registered in self.type_pprinters\u001b[0m\u001b[0;34m\u001b[0m\u001b[0;34m\u001b[0m\u001b[0m\n\u001b[0;32m--> 377\u001b[0;31m                     \u001b[0;32mreturn\u001b[0m \u001b[0mself\u001b[0m\u001b[0;34m.\u001b[0m\u001b[0mtype_pprinters\u001b[0m\u001b[0;34m[\u001b[0m\u001b[0mcls\u001b[0m\u001b[0;34m]\u001b[0m\u001b[0;34m(\u001b[0m\u001b[0mobj\u001b[0m\u001b[0;34m,\u001b[0m \u001b[0mself\u001b[0m\u001b[0;34m,\u001b[0m \u001b[0mcycle\u001b[0m\u001b[0;34m)\u001b[0m\u001b[0;34m\u001b[0m\u001b[0;34m\u001b[0m\u001b[0m\n\u001b[0m\u001b[1;32m    378\u001b[0m                 \u001b[0;32melse\u001b[0m\u001b[0;34m:\u001b[0m\u001b[0;34m\u001b[0m\u001b[0;34m\u001b[0m\u001b[0m\n\u001b[1;32m    379\u001b[0m                     \u001b[0;31m# deferred printer\u001b[0m\u001b[0;34m\u001b[0m\u001b[0;34m\u001b[0m\u001b[0m\n",
            "\u001b[0;32m/usr/local/lib/python3.10/dist-packages/IPython/lib/pretty.py\u001b[0m in \u001b[0;36m_repr_pprint\u001b[0;34m(obj, p, cycle)\u001b[0m\n\u001b[1;32m    698\u001b[0m     \u001b[0;34m\"\"\"A pprint that just redirects to the normal repr function.\"\"\"\u001b[0m\u001b[0;34m\u001b[0m\u001b[0;34m\u001b[0m\u001b[0m\n\u001b[1;32m    699\u001b[0m     \u001b[0;31m# Find newlines and replace them with p.break_()\u001b[0m\u001b[0;34m\u001b[0m\u001b[0;34m\u001b[0m\u001b[0m\n\u001b[0;32m--> 700\u001b[0;31m     \u001b[0moutput\u001b[0m \u001b[0;34m=\u001b[0m \u001b[0mrepr\u001b[0m\u001b[0;34m(\u001b[0m\u001b[0mobj\u001b[0m\u001b[0;34m)\u001b[0m\u001b[0;34m\u001b[0m\u001b[0;34m\u001b[0m\u001b[0m\n\u001b[0m\u001b[1;32m    701\u001b[0m     \u001b[0mlines\u001b[0m \u001b[0;34m=\u001b[0m \u001b[0moutput\u001b[0m\u001b[0;34m.\u001b[0m\u001b[0msplitlines\u001b[0m\u001b[0;34m(\u001b[0m\u001b[0;34m)\u001b[0m\u001b[0;34m\u001b[0m\u001b[0;34m\u001b[0m\u001b[0m\n\u001b[1;32m    702\u001b[0m     \u001b[0;32mwith\u001b[0m \u001b[0mp\u001b[0m\u001b[0;34m.\u001b[0m\u001b[0mgroup\u001b[0m\u001b[0;34m(\u001b[0m\u001b[0;34m)\u001b[0m\u001b[0;34m:\u001b[0m\u001b[0;34m\u001b[0m\u001b[0;34m\u001b[0m\u001b[0m\n",
            "\u001b[0;31mValueError\u001b[0m: Exceeds the limit (4300) for integer string conversion; use sys.set_int_max_str_digits() to increase the limit"
          ]
        }
      ],
      "source": [
        "10 ** 10000"
      ]
    },
    {
      "cell_type": "markdown",
      "metadata": {
        "id": "Nk9Oc8ajAqHr"
      },
      "source": [
        "Script:\n",
        "* But if you look closely, the error is not about calculating the number.\n",
        "* PAUSE AND HIGHLIGHT THE EXCEPTION TEXT\n",
        "* The error asks if you really want to print a number more than 4300 digits long.\n",
        "* It will also give you a pointer to change the setting if you really want to look at ten thousand zeros.\n",
        "* So you can make an integer as big as you want in Python, but Python might protest printing it out.\n",
        "* Well, technically, that depends on whether you have enough memory to store that integer.\n",
        "* And in this course, and for large models, that can come up.\n",
        "* So let's look at that now.\n",
        "* My laptop at home has 16 gigabytes of RAM.\n",
        "* One byte is about enough memory to store one of the characters in this notebook now.\n",
        "* A gigabyte is about a billion bytes.\n",
        "* I will calculate the real number of bytes of RAM in my laptop now."
      ]
    },
    {
      "cell_type": "code",
      "execution_count": null,
      "metadata": {
        "colab": {
          "base_uri": "https://localhost:8080/"
        },
        "id": "WNkGqYXZBNVC",
        "outputId": "efa5e862-da61-4ac3-889b-3a65c7fc3ef3"
      },
      "outputs": [
        {
          "data": {
            "text/plain": [
              "17179869184"
            ]
          },
          "execution_count": null,
          "metadata": {},
          "output_type": "execute_result"
        }
      ],
      "source": [
        "16 * 2**30"
      ]
    },
    {
      "cell_type": "markdown",
      "metadata": {
        "id": "at4qLPxmBPWP"
      },
      "source": [
        "Script:\n",
        "* Let's add some commas to make that more legible."
      ]
    },
    {
      "cell_type": "code",
      "execution_count": null,
      "metadata": {
        "colab": {
          "base_uri": "https://localhost:8080/",
          "height": 35
        },
        "id": "0SyFHv_5BS1j",
        "outputId": "1602e4b6-038c-476a-bec9-e2e5c4f1b811"
      },
      "outputs": [
        {
          "data": {
            "application/vnd.google.colaboratory.intrinsic+json": {
              "type": "string"
            },
            "text/plain": [
              "'17,179,869,184'"
            ]
          },
          "execution_count": null,
          "metadata": {},
          "output_type": "execute_result"
        }
      ],
      "source": [
        "\"{:,d}\".format(16 * 2**30)"
      ]
    },
    {
      "cell_type": "markdown",
      "metadata": {
        "id": "HbI-cFc1BW5F"
      },
      "source": [
        "Script:\n",
        "* We will come back to that arcane syntax later.\n",
        "* For now, let's say that my laptop has about 16 billion bytes of memory.\n",
        "* Some of that will be used by the operating system, and if we need a little more, it will temporarily store some of the data on disk, but that's a rough idea how much data I can work with comfortably on my laptop.\n",
        "* In a cloud environment, like we are using for this class, it'll probably be closer to 2 billion.\n",
        "* So how much does one of these integers take in Python?\n",
        "* The built in sys module of Python has a function to check this."
      ]
    },
    {
      "cell_type": "code",
      "execution_count": null,
      "metadata": {
        "id": "wHZMeeWyByYs"
      },
      "outputs": [],
      "source": [
        "import sys"
      ]
    },
    {
      "cell_type": "code",
      "execution_count": null,
      "metadata": {
        "colab": {
          "base_uri": "https://localhost:8080/"
        },
        "id": "8vGfvZoHB0qP",
        "outputId": "3a5ee865-3fd0-4d41-aa4f-3adaa420ad93"
      },
      "outputs": [
        {
          "data": {
            "text/plain": [
              "24"
            ]
          },
          "execution_count": null,
          "metadata": {},
          "output_type": "execute_result"
        }
      ],
      "source": [
        "sys.getsizeof(0)"
      ]
    },
    {
      "cell_type": "markdown",
      "metadata": {
        "id": "WMFmE8l4B329"
      },
      "source": [
        "Script:\n",
        "* 28 bytes.\n",
        "* Is that a lot for saying \"nothing\"?"
      ]
    },
    {
      "cell_type": "code",
      "execution_count": null,
      "metadata": {
        "colab": {
          "base_uri": "https://localhost:8080/"
        },
        "id": "4Vu3wM6FB8vn",
        "outputId": "6f4add1a-0edd-45a1-bbfc-af8cfe6abaec"
      },
      "outputs": [
        {
          "data": {
            "text/plain": [
              "28"
            ]
          },
          "execution_count": null,
          "metadata": {},
          "output_type": "execute_result"
        }
      ],
      "source": [
        "sys.getsizeof(1)"
      ]
    },
    {
      "cell_type": "markdown",
      "metadata": {
        "id": "JBvAXnsyB-ZA"
      },
      "source": [
        "Script:\n",
        "* At least storing one is not bigger.\n",
        "* Let's try some bigger numbers."
      ]
    },
    {
      "cell_type": "code",
      "execution_count": null,
      "metadata": {
        "colab": {
          "base_uri": "https://localhost:8080/"
        },
        "id": "GdOyVGrWCCkK",
        "outputId": "83ebca62-c848-4612-ac90-ceddd4bfd963"
      },
      "outputs": [
        {
          "data": {
            "text/plain": [
              "28"
            ]
          },
          "execution_count": null,
          "metadata": {},
          "output_type": "execute_result"
        }
      ],
      "source": [
        "sys.getsizeof(2**10)"
      ]
    },
    {
      "cell_type": "markdown",
      "metadata": {
        "id": "Kp1b8JmVCEQD"
      },
      "source": [
        "Script:\n",
        "* Still 28 bytes."
      ]
    },
    {
      "cell_type": "code",
      "execution_count": null,
      "metadata": {
        "colab": {
          "base_uri": "https://localhost:8080/"
        },
        "id": "br2041MnCHLg",
        "outputId": "59ad518b-f495-4591-8763-54f7e01e7fce"
      },
      "outputs": [
        {
          "data": {
            "text/plain": [
              "28"
            ]
          },
          "execution_count": null,
          "metadata": {},
          "output_type": "execute_result"
        }
      ],
      "source": [
        "sys.getsizeof(2**29)"
      ]
    },
    {
      "cell_type": "code",
      "execution_count": null,
      "metadata": {
        "colab": {
          "base_uri": "https://localhost:8080/"
        },
        "id": "o9GCbYXECIt1",
        "outputId": "1f1e63de-9617-44eb-b8e0-ccadc8d566e5"
      },
      "outputs": [
        {
          "data": {
            "text/plain": [
              "32"
            ]
          },
          "execution_count": null,
          "metadata": {},
          "output_type": "execute_result"
        }
      ],
      "source": [
        "sys.getsizeof(2**30)"
      ]
    },
    {
      "cell_type": "markdown",
      "metadata": {
        "id": "zDpf5oH3CLbo"
      },
      "source": [
        "Script:\n",
        "* It got bigger."
      ]
    },
    {
      "cell_type": "code",
      "execution_count": null,
      "metadata": {
        "colab": {
          "base_uri": "https://localhost:8080/"
        },
        "id": "V4uRTe0ICQJU",
        "outputId": "ef1aa0c4-a2c1-4d11-c94e-9b1d7220d9a1"
      },
      "outputs": [
        {
          "data": {
            "text/plain": [
              "28"
            ]
          },
          "execution_count": null,
          "metadata": {},
          "output_type": "execute_result"
        }
      ],
      "source": [
        "sys.getsizeof(2**30-1)"
      ]
    },
    {
      "cell_type": "markdown",
      "metadata": {
        "id": "TtMNzzYTCRzH"
      },
      "source": [
        "Script:\n",
        "* So the size increases at two to the thirtieth power, if this is consistent."
      ]
    },
    {
      "cell_type": "code",
      "execution_count": null,
      "metadata": {
        "colab": {
          "base_uri": "https://localhost:8080/"
        },
        "id": "5_uKhjA9CVfD",
        "outputId": "08e5e92a-804f-4762-bd5c-00d4a06baf3c"
      },
      "outputs": [
        {
          "data": {
            "text/plain": [
              "32"
            ]
          },
          "execution_count": null,
          "metadata": {},
          "output_type": "execute_result"
        }
      ],
      "source": [
        "sys.getsizeof(2**60-1)"
      ]
    },
    {
      "cell_type": "code",
      "execution_count": null,
      "metadata": {
        "colab": {
          "base_uri": "https://localhost:8080/"
        },
        "id": "SksX98RiCW0O",
        "outputId": "3f7b2fb7-751e-4a78-93e8-d5b526752f92"
      },
      "outputs": [
        {
          "data": {
            "text/plain": [
              "36"
            ]
          },
          "execution_count": null,
          "metadata": {},
          "output_type": "execute_result"
        }
      ],
      "source": [
        "sys.getsizeof(2**60)"
      ]
    },
    {
      "cell_type": "markdown",
      "metadata": {
        "id": "NEL1qa21CZRM"
      },
      "source": [
        "Script:\n",
        "* And again at two to the sixtieth power."
      ]
    },
    {
      "cell_type": "code",
      "execution_count": null,
      "metadata": {
        "colab": {
          "base_uri": "https://localhost:8080/"
        },
        "id": "nSTTlh6lCcaz",
        "outputId": "27bf5750-6977-493e-eb6a-16bae9b418ad"
      },
      "outputs": [
        {
          "data": {
            "text/plain": [
              "68"
            ]
          },
          "execution_count": null,
          "metadata": {},
          "output_type": "execute_result"
        }
      ],
      "source": [
        "sys.getsizeof(2**300)"
      ]
    },
    {
      "cell_type": "markdown",
      "metadata": {
        "id": "3IiU0n9kCivf"
      },
      "source": [
        "Script:\n",
        "* So at least for powers of two, it looks like the size is 28 bytes plus another 4 bytes every time you add a factor of two to the thirty.\n",
        "* So how many integers around a million can we store?\n",
        "* Let's use 2 gigabytes to match a light cloud setup."
      ]
    },
    {
      "cell_type": "code",
      "execution_count": null,
      "metadata": {
        "colab": {
          "base_uri": "https://localhost:8080/"
        },
        "id": "NBtnOntKCrXE",
        "outputId": "055bed9b-520d-454d-9485-03b7b6f903c8"
      },
      "outputs": [
        {
          "data": {
            "text/plain": [
              "76695844"
            ]
          },
          "execution_count": null,
          "metadata": {},
          "output_type": "execute_result"
        }
      ],
      "source": [
        "(2 * 2**30) // sys.getsizeof(1_000_000)"
      ]
    },
    {
      "cell_type": "markdown",
      "metadata": {
        "id": "ODaVp_fICwd1"
      },
      "source": [
        "Script:\n",
        "* Not quite 77 million integers.\n",
        "* That's not enough for generative AI, but plenty for a lot of more modest sized tasks.\n",
        "* But remember later that it needs to cover both your input data and your model.\n",
        "* What about if we are using real numbers?\n",
        "* Most of our data is real numbers, not integers."
      ]
    },
    {
      "cell_type": "code",
      "execution_count": null,
      "metadata": {
        "colab": {
          "base_uri": "https://localhost:8080/"
        },
        "id": "gQcioQjnC6qc",
        "outputId": "f5587c35-c978-4b93-b6fc-11646b7449ba"
      },
      "outputs": [
        {
          "data": {
            "text/plain": [
              "24"
            ]
          },
          "execution_count": null,
          "metadata": {},
          "output_type": "execute_result"
        }
      ],
      "source": [
        "sys.getsizeof(1.1)"
      ]
    },
    {
      "cell_type": "markdown",
      "metadata": {
        "id": "rFPme4TyC-jy"
      },
      "source": [
        "Script:\n",
        "* 24 bytes.\n",
        "* That is actually smaller than the smallest integer size."
      ]
    },
    {
      "cell_type": "code",
      "execution_count": null,
      "metadata": {
        "id": "BjBwkht8DCzm"
      },
      "outputs": [],
      "source": [
        "sys.getsizeof(2.0 ** 30)"
      ]
    },
    {
      "cell_type": "markdown",
      "metadata": {
        "id": "6JMZNzArDFLd"
      },
      "source": [
        "Script:\n",
        "* Still the same size, at the point that we saw integers get bigger."
      ]
    },
    {
      "cell_type": "code",
      "execution_count": null,
      "metadata": {
        "colab": {
          "base_uri": "https://localhost:8080/"
        },
        "id": "liGndz9-DHlA",
        "outputId": "255847e0-6d51-43b1-9870-b5be0a5b63f0"
      },
      "outputs": [
        {
          "data": {
            "text/plain": [
              "24"
            ]
          },
          "execution_count": null,
          "metadata": {},
          "output_type": "execute_result"
        }
      ],
      "source": [
        "sys.getsizeof(2.0 ** 300)"
      ]
    },
    {
      "cell_type": "markdown",
      "metadata": {
        "id": "CqNOD41ODJn_"
      },
      "source": [
        "Script:\n",
        "* Still the same size."
      ]
    },
    {
      "cell_type": "code",
      "execution_count": null,
      "metadata": {
        "colab": {
          "base_uri": "https://localhost:8080/",
          "height": 144
        },
        "id": "8vjlRRLuDNdq",
        "outputId": "12852cdc-3315-4dd3-bfd1-ba553d8f6fb0"
      },
      "outputs": [
        {
          "ename": "OverflowError",
          "evalue": "(34, 'Numerical result out of range')",
          "output_type": "error",
          "traceback": [
            "\u001b[0;31m---------------------------------------------------------------------------\u001b[0m",
            "\u001b[0;31mOverflowError\u001b[0m                             Traceback (most recent call last)",
            "\u001b[0;32m<ipython-input-60-9363ec21ea57>\u001b[0m in \u001b[0;36m<cell line: 1>\u001b[0;34m()\u001b[0m\n\u001b[0;32m----> 1\u001b[0;31m \u001b[0msys\u001b[0m\u001b[0;34m.\u001b[0m\u001b[0mgetsizeof\u001b[0m\u001b[0;34m(\u001b[0m\u001b[0;36m2.0\u001b[0m \u001b[0;34m**\u001b[0m \u001b[0;36m3000\u001b[0m\u001b[0;34m)\u001b[0m\u001b[0;34m\u001b[0m\u001b[0;34m\u001b[0m\u001b[0m\n\u001b[0m",
            "\u001b[0;31mOverflowError\u001b[0m: (34, 'Numerical result out of range')"
          ]
        }
      ],
      "source": [
        "sys.getsizeof(2.0 ** 3000)"
      ]
    },
    {
      "cell_type": "markdown",
      "metadata": {
        "id": "bwqvAKUPDPnq"
      },
      "source": [
        "Script:\n",
        "* But there is a limitation on how big that we can get using this floating point type."
      ]
    },
    {
      "cell_type": "code",
      "execution_count": null,
      "metadata": {
        "colab": {
          "base_uri": "https://localhost:8080/"
        },
        "id": "t6nsJVF1DSOB",
        "outputId": "d3642726-cef8-4919-bf33-977781f56eba"
      },
      "outputs": [
        {
          "data": {
            "text/plain": [
              "24"
            ]
          },
          "execution_count": null,
          "metadata": {},
          "output_type": "execute_result"
        }
      ],
      "source": [
        "sys.getsizeof(2.0 ** 1023)"
      ]
    },
    {
      "cell_type": "markdown",
      "metadata": {
        "id": "IxI6ZpA_DWke"
      },
      "source": [
        "Script:\n",
        "* But up to that size limit, the amount of space does not go up.\n",
        "* How does it get so big? What are the tradeoffs?\n",
        "* BEGIN VIDEO? LIGHTBOARD?\n",
        "* The floating point representation is like the scientific notation we learn in middle school.\n",
        "* In that notation, we write a number like 1.3 x 105.\n",
        "* \"1.3\" is called the mantissa, \"10\" is the base, and \"5\" is the exponent.\n",
        "* Python will understand a similar notation, using e instead of 10.\n"
      ]
    },
    {
      "cell_type": "code",
      "execution_count": null,
      "metadata": {
        "colab": {
          "base_uri": "https://localhost:8080/"
        },
        "id": "DoSaUITDDeyY",
        "outputId": "572e603f-bbfe-4adb-a934-644d8b7dfebd"
      },
      "outputs": [
        {
          "data": {
            "text/plain": [
              "13000000000.0"
            ]
          },
          "execution_count": null,
          "metadata": {},
          "output_type": "execute_result"
        }
      ],
      "source": [
        "1.3e10"
      ]
    },
    {
      "cell_type": "markdown",
      "metadata": {
        "id": "lPAUmaFaDj7U"
      },
      "source": [
        "Script:\n",
        "* BEGIN VIDEO? LIGHTBOARD OR SHOW SLIDE SHOWING BINARY NUMBERS.\n",
        "* We humans usually use ten for the base in science, but computers usually use two for the base internally since they are based on binary logic.\n",
        "* So their internal floating point representation looks like 1.0110 times 2 to the 10th power.\n",
        "* That \"1.0110\" is now supposed to be binary digits, just zero or one, not zero through nine.\n",
        "* To store one of these floating point numbers, the computer needs to save the mantissa and the exponent, but not the base since that is fixed at two.\n",
        "* The most commonly used size floating point number takes 64 bits, or 8 bytes.\n",
        "* That gives 52 bits after the decimal (really floating) point, and about 11 bits for the exponent.\n",
        "* That is what Python is using now.\n",
        "* But didn't the size check say 24 bytes before?\n",
        "* END VIDEO"
      ]
    },
    {
      "cell_type": "code",
      "execution_count": null,
      "metadata": {
        "colab": {
          "base_uri": "https://localhost:8080/"
        },
        "id": "bYWLbrSED0vu",
        "outputId": "1ca1cde8-a14f-4d20-e759-0f6d5de18ea7"
      },
      "outputs": [
        {
          "data": {
            "text/plain": [
              "24"
            ]
          },
          "execution_count": null,
          "metadata": {},
          "output_type": "execute_result"
        }
      ],
      "source": [
        "sys.getsizeof(1.0)"
      ]
    },
    {
      "cell_type": "markdown",
      "metadata": {
        "id": "cY6_CbLXD2p_"
      },
      "source": [
        "Script:\n",
        "* The difference is overhead in how Python keeps track of each object.\n",
        "* For example, that this is a floating point number and not some other type.\n",
        "* We will look into ways to reduce that overhead later - who wants to pay triple cost?\n",
        "* For now, let's look at what we can do with these floating point numbers."
      ]
    },
    {
      "cell_type": "code",
      "execution_count": null,
      "metadata": {
        "colab": {
          "base_uri": "https://localhost:8080/",
          "height": 144
        },
        "id": "5LK7_x3_D_6R",
        "outputId": "c7d5a3ad-4925-4a39-e58e-429ab2e0ea83"
      },
      "outputs": [
        {
          "ename": "OverflowError",
          "evalue": "(34, 'Numerical result out of range')",
          "output_type": "error",
          "traceback": [
            "\u001b[0;31m---------------------------------------------------------------------------\u001b[0m",
            "\u001b[0;31mOverflowError\u001b[0m                             Traceback (most recent call last)",
            "\u001b[0;32m<ipython-input-64-5d75a30e5989>\u001b[0m in \u001b[0;36m<cell line: 1>\u001b[0;34m()\u001b[0m\n\u001b[0;32m----> 1\u001b[0;31m \u001b[0;36m2.0\u001b[0m \u001b[0;34m**\u001b[0m \u001b[0;36m1024\u001b[0m\u001b[0;34m\u001b[0m\u001b[0;34m\u001b[0m\u001b[0m\n\u001b[0m",
            "\u001b[0;31mOverflowError\u001b[0m: (34, 'Numerical result out of range')"
          ]
        }
      ],
      "source": [
        "2.0 ** 1024"
      ]
    },
    {
      "cell_type": "code",
      "execution_count": null,
      "metadata": {
        "colab": {
          "base_uri": "https://localhost:8080/"
        },
        "id": "lQqqhdDpECKB",
        "outputId": "5868b669-3566-4993-ed83-8851934edb29"
      },
      "outputs": [
        {
          "data": {
            "text/plain": [
              "8.98846567431158e+307"
            ]
          },
          "execution_count": null,
          "metadata": {},
          "output_type": "execute_result"
        }
      ],
      "source": [
        "2.0 ** 1023"
      ]
    },
    {
      "cell_type": "code",
      "execution_count": null,
      "metadata": {
        "id": "i_cYDSZxEDl8"
      },
      "outputs": [],
      "source": [
        "-2.0 ** 1023"
      ]
    },
    {
      "cell_type": "markdown",
      "metadata": {
        "id": "OUsKQhqSEFXe"
      },
      "source": [
        "Script:\n",
        "* We can express numbers up to about two to the 1023rd power.\n",
        "* We can also express some very small numbers."
      ]
    },
    {
      "cell_type": "code",
      "execution_count": null,
      "metadata": {
        "colab": {
          "base_uri": "https://localhost:8080/"
        },
        "id": "gam9jjmuEJqK",
        "outputId": "56f739b5-8496-4d72-9266-01d183e00637"
      },
      "outputs": [
        {
          "data": {
            "text/plain": [
              "5e-324"
            ]
          },
          "execution_count": null,
          "metadata": {},
          "output_type": "execute_result"
        }
      ],
      "source": [
        "2.0 ** -1074"
      ]
    },
    {
      "cell_type": "markdown",
      "metadata": {
        "id": "mu6_agGTELsF"
      },
      "source": [
        "Script:\n",
        "* But if they get too small, they get rounded down to zero."
      ]
    },
    {
      "cell_type": "code",
      "execution_count": null,
      "metadata": {
        "colab": {
          "base_uri": "https://localhost:8080/"
        },
        "id": "tAnRfrVDEOUa",
        "outputId": "9e41ec23-b391-408b-c48f-1a9f89b82c63"
      },
      "outputs": [
        {
          "data": {
            "text/plain": [
              "0.0"
            ]
          },
          "execution_count": null,
          "metadata": {},
          "output_type": "execute_result"
        }
      ],
      "source": [
        "2.0 ** -1075"
      ]
    },
    {
      "cell_type": "markdown",
      "metadata": {
        "id": "hc1aYi5OERZU"
      },
      "source": [
        "Script:\n",
        "* So that is something to watch out for with very small numbers.\n",
        "* A more common issue though, is that since the computer uses a binary representation internally, it doesn't perfectly match numbers that we write in decimal.\n",
        "* Here is an example."
      ]
    },
    {
      "cell_type": "code",
      "execution_count": null,
      "metadata": {
        "colab": {
          "base_uri": "https://localhost:8080/"
        },
        "id": "LPp78oZrEV-Z",
        "outputId": "a1a0c11a-174b-4d43-a9e8-3afaae346296"
      },
      "outputs": [
        {
          "data": {
            "text/plain": [
              "1.1"
            ]
          },
          "execution_count": null,
          "metadata": {},
          "output_type": "execute_result"
        }
      ],
      "source": [
        "1.1"
      ]
    },
    {
      "cell_type": "code",
      "execution_count": null,
      "metadata": {
        "colab": {
          "base_uri": "https://localhost:8080/"
        },
        "id": "r8skVqsJEWrD",
        "outputId": "6144417e-ff54-4037-da31-83d9a0933f47"
      },
      "outputs": [
        {
          "data": {
            "text/plain": [
              "2.2"
            ]
          },
          "execution_count": null,
          "metadata": {},
          "output_type": "execute_result"
        }
      ],
      "source": [
        "2.2"
      ]
    },
    {
      "cell_type": "code",
      "execution_count": null,
      "metadata": {
        "colab": {
          "base_uri": "https://localhost:8080/"
        },
        "id": "s4U404caEXvx",
        "outputId": "460f979e-f045-411e-e700-306a77165f6e"
      },
      "outputs": [
        {
          "data": {
            "text/plain": [
              "3.3000000000000003"
            ]
          },
          "execution_count": null,
          "metadata": {},
          "output_type": "execute_result"
        }
      ],
      "source": [
        "1.1 + 2.2"
      ]
    },
    {
      "cell_type": "markdown",
      "metadata": {
        "id": "kzor_X2REarc"
      },
      "source": [
        "Script:\n",
        "* That is not quite right.\n",
        "* But we can just say 3.3 and get the right answer."
      ]
    },
    {
      "cell_type": "code",
      "execution_count": null,
      "metadata": {
        "colab": {
          "base_uri": "https://localhost:8080/"
        },
        "id": "9TWHoUTlEddU",
        "outputId": "a4dd9856-6078-4daa-c996-34a089562cd5"
      },
      "outputs": [
        {
          "data": {
            "text/plain": [
              "3.3"
            ]
          },
          "execution_count": null,
          "metadata": {},
          "output_type": "execute_result"
        }
      ],
      "source": [
        "3.3"
      ]
    },
    {
      "cell_type": "markdown",
      "metadata": {
        "id": "zbs8Elx9EhNT"
      },
      "source": [
        "Script:\n",
        "* And we can confirm another way that they are different and it is not some weird printing issue."
      ]
    },
    {
      "cell_type": "code",
      "execution_count": null,
      "metadata": {
        "id": "0C5aS4CHEjuY"
      },
      "outputs": [],
      "source": [
        "(1.1 + 2.2) - 3.3"
      ]
    },
    {
      "cell_type": "markdown",
      "metadata": {
        "id": "HdexeI8MEnpx"
      },
      "source": [
        "Script:\n",
        "* Most of the time that you are working with real numbers, these tiny little errors will accumulate.\n",
        "* Most of the time, they are immaterial, but their presence means that everything is approximate.\n",
        "* We can't say things are exactly equal even though we can prove that they should be."
      ]
    },
    {
      "cell_type": "code",
      "execution_count": null,
      "metadata": {
        "colab": {
          "base_uri": "https://localhost:8080/"
        },
        "id": "MSM72fqgEswZ",
        "outputId": "e4bf5c2e-e0c1-47a9-c909-4875fbdf05f3"
      },
      "outputs": [
        {
          "data": {
            "text/plain": [
              "False"
            ]
          },
          "execution_count": null,
          "metadata": {},
          "output_type": "execute_result"
        }
      ],
      "source": [
        "1.1 + 2.2 == 3.3"
      ]
    },
    {
      "cell_type": "markdown",
      "metadata": {
        "id": "IKzymO_XEuww"
      },
      "source": [
        "Script:\n",
        "* Normally we would think those should be equal.\n",
        "* Double equals there is checking that those are the same numbers, by the way.\n",
        "* Another way these approximations manifest is when you add big numbers to small numbers."
      ]
    },
    {
      "cell_type": "code",
      "execution_count": null,
      "metadata": {
        "colab": {
          "base_uri": "https://localhost:8080/"
        },
        "id": "ukR6IK2iE0Ar",
        "outputId": "c7f37dec-955e-4313-ab07-8522ff4d4ad7"
      },
      "outputs": [
        {
          "data": {
            "text/plain": [
              "1000000000000001.0"
            ]
          },
          "execution_count": null,
          "metadata": {},
          "output_type": "execute_result"
        }
      ],
      "source": [
        "1e15 + 1"
      ]
    },
    {
      "cell_type": "code",
      "execution_count": null,
      "metadata": {
        "colab": {
          "base_uri": "https://localhost:8080/"
        },
        "id": "Wkrz7Da7E1kJ",
        "outputId": "bcd2a4f7-aa73-4849-9bbe-176c881b6f7a"
      },
      "outputs": [
        {
          "data": {
            "text/plain": [
              "1e+16"
            ]
          },
          "execution_count": null,
          "metadata": {},
          "output_type": "execute_result"
        }
      ],
      "source": [
        "1e16 + 1"
      ]
    },
    {
      "cell_type": "markdown",
      "metadata": {
        "id": "gAlnxsk8E4d2"
      },
      "source": [
        "Script:\n",
        "* In the last addition, the extra one was too small compared to the total, and it was lost.\n",
        "* The same can happen when adding very small numbers."
      ]
    },
    {
      "cell_type": "code",
      "execution_count": null,
      "metadata": {
        "colab": {
          "base_uri": "https://localhost:8080/"
        },
        "id": "HtVB_JpjE71y",
        "outputId": "91ad618d-99ac-4ee7-b51c-399df5135dd7"
      },
      "outputs": [
        {
          "data": {
            "text/plain": [
              "1.000000000000001"
            ]
          },
          "execution_count": null,
          "metadata": {},
          "output_type": "execute_result"
        }
      ],
      "source": [
        "1 + 1e-15"
      ]
    },
    {
      "cell_type": "code",
      "execution_count": null,
      "metadata": {
        "colab": {
          "base_uri": "https://localhost:8080/"
        },
        "id": "47UG8GsvE91F",
        "outputId": "b254180c-36f9-4a43-a7d6-5c302ef675c9"
      },
      "outputs": [
        {
          "data": {
            "text/plain": [
              "1.0"
            ]
          },
          "execution_count": null,
          "metadata": {},
          "output_type": "execute_result"
        }
      ],
      "source": [
        "1 + 1e-16"
      ]
    },
    {
      "cell_type": "markdown",
      "metadata": {
        "id": "9sfzO9Z3_b5c"
      },
      "source": [
        "Script:\n",
        "* Again, because ten to the negative sixteenth power is so small compared to one, it was lost by the approximation.\n",
        "* This floating point representation just does not have enough resolution to add that small a number.\n",
        "* So you should be aware of these tiny differences, but don't worry about them most of the time.\n",
        "* They're like little rounding steps after each math operation, so the floating point representation does not get huge like the integers did.\n",
        "* If you do need to compare numbers and be robust to these errors, the math module provides a function called isclose to compare numbers while allowing small differences.\n"
      ]
    },
    {
      "cell_type": "code",
      "execution_count": null,
      "metadata": {
        "id": "1L93b1hvTcaO"
      },
      "outputs": [],
      "source": [
        "import math"
      ]
    },
    {
      "cell_type": "markdown",
      "metadata": {
        "id": "AOERx_PDUZx2"
      },
      "source": [
        "Script:\n",
        "* Here is the built-in documentation for math dot isclose."
      ]
    },
    {
      "cell_type": "code",
      "execution_count": null,
      "metadata": {
        "colab": {
          "base_uri": "https://localhost:8080/"
        },
        "id": "Bj8gYm_jTlL6",
        "outputId": "0de02d56-2a4b-41ac-fac1-f5c1be9295e1"
      },
      "outputs": [
        {
          "name": "stdout",
          "output_type": "stream",
          "text": [
            "Determine whether two floating point numbers are close in value.\n",
            "\n",
            "  rel_tol\n",
            "    maximum difference for being considered \"close\", relative to the\n",
            "    magnitude of the input values\n",
            "  abs_tol\n",
            "    maximum difference for being considered \"close\", regardless of the\n",
            "    magnitude of the input values\n",
            "\n",
            "Return True if a is close in value to b, and False otherwise.\n",
            "\n",
            "For the values to be considered close, the difference between them\n",
            "must be smaller than at least one of the tolerances.\n",
            "\n",
            "-inf, inf and NaN behave similarly to the IEEE 754 Standard.  That\n",
            "is, NaN is not close to anything, even itself.  inf and -inf are\n",
            "only close to themselves.\n"
          ]
        }
      ],
      "source": [
        "print(math.isclose.__doc__)"
      ]
    },
    {
      "cell_type": "markdown",
      "metadata": {
        "id": "AbKpRCuPUfOv"
      },
      "source": [
        "Script:\n",
        "* The web documentation has more detail about the tolerances.\n",
        "* There is a link in the references section of Blackboard.\n",
        "* Let's use it for the previous example now."
      ]
    },
    {
      "cell_type": "code",
      "execution_count": null,
      "metadata": {
        "colab": {
          "base_uri": "https://localhost:8080/"
        },
        "id": "mQWAgygITfKX",
        "outputId": "d4635723-6e7e-44a3-c5b7-dc8ae5c9d5c9"
      },
      "outputs": [
        {
          "data": {
            "text/plain": [
              "False"
            ]
          },
          "execution_count": null,
          "metadata": {},
          "output_type": "execute_result"
        }
      ],
      "source": [
        "1.1 + 2.2 == 3.3"
      ]
    },
    {
      "cell_type": "markdown",
      "metadata": {
        "id": "0uEiN-eiUuxU"
      },
      "source": [
        "Script:\n",
        "* This check still fails."
      ]
    },
    {
      "cell_type": "code",
      "execution_count": null,
      "metadata": {
        "colab": {
          "base_uri": "https://localhost:8080/"
        },
        "id": "ralHep6bThov",
        "outputId": "12341111-c287-4061-890f-8d41d4f273ce"
      },
      "outputs": [
        {
          "data": {
            "text/plain": [
              "True"
            ]
          },
          "execution_count": null,
          "metadata": {},
          "output_type": "execute_result"
        }
      ],
      "source": [
        "math.isclose(1.1 + 2.2, 3.3)"
      ]
    },
    {
      "cell_type": "markdown",
      "metadata": {
        "id": "tkFGkk5hTa2Q"
      },
      "source": [
        "* But this one using math dot isclose works.\n",
        "* Wrapping up, this floating point representation was designed to be a fast practical representation, not a perfectly precise but slow one.\n",
        "* For the most part, it has served us well for about 45 years."
      ]
    }
  ],
  "metadata": {
    "colab": {},
    "kernelspec": {
      "display_name": "Python 3",
      "name": "python3"
    },
    "language_info": {
      "codemirror_mode": {
        "name": "ipython",
        "version": 3
      },
      "file_extension": ".py",
      "mimetype": "text/x-python",
      "name": "python",
      "nbconvert_exporter": "python",
      "pygments_lexer": "ipython3",
      "version": "3.9.6"
    }
  },
  "nbformat": 4,
  "nbformat_minor": 0
}