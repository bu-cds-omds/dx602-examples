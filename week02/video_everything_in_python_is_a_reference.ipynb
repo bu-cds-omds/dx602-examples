{
  "cells": [
    {
      "cell_type": "markdown",
      "metadata": {
        "id": "sr7i6AJIsunn"
      },
      "source": [
        "# Video: Everything in Python is a Reference\n"
      ]
    },
    {
      "cell_type": "markdown",
      "metadata": {
        "id": "0WbRr4dpcNMn"
      },
      "source": [
        "Script:\n",
        "* In Python, every value that we have been talking about is really a reference to an object.\n",
        "* What does that mean?\n",
        "* Let's start with an example first."
      ]
    },
    {
      "cell_type": "code",
      "execution_count": null,
      "metadata": {
        "id": "UQbgdXi6cTZ7"
      },
      "outputs": [],
      "source": [
        "x = []"
      ]
    },
    {
      "cell_type": "code",
      "execution_count": null,
      "metadata": {
        "id": "B34DP8e4cUZ0"
      },
      "outputs": [],
      "source": [
        "y = x"
      ]
    },
    {
      "cell_type": "markdown",
      "metadata": {
        "id": "5wmpgCehcYvm"
      },
      "source": [
        "Script:\n",
        "* I just made a list and assigned it to variable x.\n",
        "* Then I made another variable y that was copied from x, so y refers to the same list.\n",
        "* Let's confirm that."
      ]
    },
    {
      "cell_type": "code",
      "execution_count": null,
      "metadata": {
        "colab": {
          "base_uri": "https://localhost:8080/"
        },
        "id": "nvRhOkXvccNw",
        "outputId": "ee505a5f-fcd2-4bdb-d91b-3195da16e0b1"
      },
      "outputs": [
        {
          "data": {
            "text/plain": [
              "[]"
            ]
          },
          "execution_count": null,
          "metadata": {},
          "output_type": "execute_result"
        }
      ],
      "source": [
        "x"
      ]
    },
    {
      "cell_type": "code",
      "execution_count": null,
      "metadata": {
        "colab": {
          "base_uri": "https://localhost:8080/"
        },
        "id": "JPBG9eoScedp",
        "outputId": "ad765bce-b824-44a2-f2f1-b64e99110997"
      },
      "outputs": [
        {
          "data": {
            "text/plain": [
              "[]"
            ]
          },
          "execution_count": null,
          "metadata": {},
          "output_type": "execute_result"
        }
      ],
      "source": [
        "y"
      ]
    },
    {
      "cell_type": "markdown",
      "metadata": {
        "id": "ZZGdZv0Mcge5"
      },
      "source": [
        "Script:\n",
        "* They look the same.\n",
        "* Now let's change one and look at both again."
      ]
    },
    {
      "cell_type": "code",
      "execution_count": null,
      "metadata": {
        "id": "qKhT3JtwcmtW"
      },
      "outputs": [],
      "source": [
        "x.append(123)"
      ]
    },
    {
      "cell_type": "code",
      "execution_count": null,
      "metadata": {
        "colab": {
          "base_uri": "https://localhost:8080/"
        },
        "id": "I7uz3K1ncjSn",
        "outputId": "90f9db18-0ab8-4920-baae-31a073efc6fc"
      },
      "outputs": [
        {
          "data": {
            "text/plain": [
              "[123]"
            ]
          },
          "execution_count": null,
          "metadata": {},
          "output_type": "execute_result"
        }
      ],
      "source": [
        "x"
      ]
    },
    {
      "cell_type": "code",
      "execution_count": null,
      "metadata": {
        "colab": {
          "base_uri": "https://localhost:8080/"
        },
        "id": "hwH2yt8BckI5",
        "outputId": "cb169b81-a162-4adf-8f46-26018c4df3b0"
      },
      "outputs": [
        {
          "data": {
            "text/plain": [
              "[123]"
            ]
          },
          "execution_count": null,
          "metadata": {},
          "output_type": "execute_result"
        }
      ],
      "source": [
        "y"
      ]
    },
    {
      "cell_type": "markdown",
      "metadata": {
        "id": "RrC0YP_xcrtJ"
      },
      "source": [
        "Script:\n",
        "* We changed the list using variable x, but we see the change looking with variable y too.\n",
        "* x and y refer to the same list.\n",
        "* We did that on purpose just now.\n",
        "* Is there a way we can look at x and y and figure out they are the same?\n",
        "* The id function lets us do that."
      ]
    },
    {
      "cell_type": "code",
      "execution_count": null,
      "metadata": {
        "colab": {
          "base_uri": "https://localhost:8080/"
        },
        "id": "Ch8SUIDGcwoh",
        "outputId": "1ab19509-0c3d-4135-86e5-91a6258e2385"
      },
      "outputs": [
        {
          "data": {
            "text/plain": [
              "132370256531328"
            ]
          },
          "execution_count": null,
          "metadata": {},
          "output_type": "execute_result"
        }
      ],
      "source": [
        "id(x)"
      ]
    },
    {
      "cell_type": "code",
      "execution_count": null,
      "metadata": {
        "colab": {
          "base_uri": "https://localhost:8080/"
        },
        "id": "7TCNGPu1cxXJ",
        "outputId": "d3f6a5e6-dacd-4cfb-e54e-47bd6dc658a2"
      },
      "outputs": [
        {
          "data": {
            "text/plain": [
              "132370256531328"
            ]
          },
          "execution_count": null,
          "metadata": {},
          "output_type": "execute_result"
        }
      ],
      "source": [
        "id(y)"
      ]
    },
    {
      "cell_type": "markdown",
      "metadata": {
        "id": "Tb-xda-ccz-X"
      },
      "source": [
        "Script:\n",
        "* Those are the same, so the underlying object and data are the same.\n",
        "* BEGIN VIDEO?\n",
        "* In programming, a reference is basically a pointer to data. In low level terms, it would include an exact location in the computer's memory of the referenced data.\n",
        "* The default Python implementation returns that location in memory when you call the id function.\n",
        "* As an analogy, a reference is like knowing the street address of a building.\n",
        "* The reference is small and you can cheaply have multiple copies of the address - each one just a line of text in your address book.\n",
        "* But the address (or reference) helps you find something potentially much larger - the building (or data).\n",
        "* Everything is a reference doesn't matter much using numbers, since you can't change a number.\n",
        "* When we are calculating, we are constantly creating new number objects.\n",
        "* But when we are working with lists, dictionaries, and other objects, it makes a big difference.\n",
        "* The first difference is that when you quote copy unquote an object, like with the y = x before, you are just copying the reference, not the object itself.\n",
        "* Since you are just copying the reference, it is very fast.\n",
        "* Like copying a street address on paper instead of building a new building identical to the old one.\n",
        "* The potential downside is that changes through one reference change what you get through the other reference.\n",
        "* Let's just say that is bad if you are surprised.\n",
        "* But it is very handy if you have large objects that would be expensive to copy around a lot, since you are just passing around a small reference.\n",
        "* If you want to really copy the object, the copy module has some functions to help with that.\n",
        "* There is a link to the documentation for that in the optional resources section below the video.\n",
        "* One advantage of everything in Python sharing this reference to object structure is that there are a number of shared tools you can use to look at anything in Python.\n",
        "* END VIDEO\n",
        "* We just saw the id function, and we previously saw the type function while looking at different kinds of numbers."
      ]
    },
    {
      "cell_type": "code",
      "execution_count": null,
      "metadata": {
        "colab": {
          "base_uri": "https://localhost:8080/"
        },
        "id": "J0bQzuhudWfZ",
        "outputId": "ecd9f6f3-fb8b-4005-9f7e-ee87a2d28d6b"
      },
      "outputs": [
        {
          "data": {
            "text/plain": [
              "list"
            ]
          },
          "execution_count": null,
          "metadata": {},
          "output_type": "execute_result"
        }
      ],
      "source": [
        "type(x)"
      ]
    },
    {
      "cell_type": "markdown",
      "metadata": {
        "id": "Fqi_oXcjdZUH"
      },
      "source": [
        "Script:\n",
        "* Another one is the dir function which lists all the attributes and methods of a Python object."
      ]
    },
    {
      "cell_type": "code",
      "execution_count": null,
      "metadata": {
        "colab": {
          "base_uri": "https://localhost:8080/"
        },
        "id": "UKSTCDEUdaeR",
        "outputId": "43ba9449-012a-4002-f9a4-ca05fc352c89"
      },
      "outputs": [
        {
          "data": {
            "text/plain": [
              "['__add__',\n",
              " '__class__',\n",
              " '__class_getitem__',\n",
              " '__contains__',\n",
              " '__delattr__',\n",
              " '__delitem__',\n",
              " '__dir__',\n",
              " '__doc__',\n",
              " '__eq__',\n",
              " '__format__',\n",
              " '__ge__',\n",
              " '__getattribute__',\n",
              " '__getitem__',\n",
              " '__gt__',\n",
              " '__hash__',\n",
              " '__iadd__',\n",
              " '__imul__',\n",
              " '__init__',\n",
              " '__init_subclass__',\n",
              " '__iter__',\n",
              " '__le__',\n",
              " '__len__',\n",
              " '__lt__',\n",
              " '__mul__',\n",
              " '__ne__',\n",
              " '__new__',\n",
              " '__reduce__',\n",
              " '__reduce_ex__',\n",
              " '__repr__',\n",
              " '__reversed__',\n",
              " '__rmul__',\n",
              " '__setattr__',\n",
              " '__setitem__',\n",
              " '__sizeof__',\n",
              " '__str__',\n",
              " '__subclasshook__',\n",
              " 'append',\n",
              " 'clear',\n",
              " 'copy',\n",
              " 'count',\n",
              " 'extend',\n",
              " 'index',\n",
              " 'insert',\n",
              " 'pop',\n",
              " 'remove',\n",
              " 'reverse',\n",
              " 'sort']"
            ]
          },
          "execution_count": null,
          "metadata": {},
          "output_type": "execute_result"
        }
      ],
      "source": [
        "dir(x)"
      ]
    },
    {
      "cell_type": "markdown",
      "metadata": {
        "id": "onkYOVeideqC"
      },
      "source": [
        "Script:\n",
        "* In that list, you'll see the append, extend, and sort functions previously covered when we were talking about lists.\n",
        "* There's also a copy function, which is a list specific function to copy method for lists."
      ]
    },
    {
      "cell_type": "code",
      "execution_count": null,
      "metadata": {
        "id": "0uDMGxjhdiOx"
      },
      "outputs": [],
      "source": [
        "z = x.copy()"
      ]
    },
    {
      "cell_type": "code",
      "execution_count": null,
      "metadata": {
        "colab": {
          "base_uri": "https://localhost:8080/"
        },
        "id": "-K2sB8cTdjr4",
        "outputId": "853198b2-b386-45a5-c376-9dd3f45bbc21"
      },
      "outputs": [
        {
          "data": {
            "text/plain": [
              "132370256531328"
            ]
          },
          "execution_count": null,
          "metadata": {},
          "output_type": "execute_result"
        }
      ],
      "source": [
        "id(x)"
      ]
    },
    {
      "cell_type": "code",
      "execution_count": null,
      "metadata": {
        "colab": {
          "base_uri": "https://localhost:8080/"
        },
        "id": "5Ds4k42Sdkg6",
        "outputId": "52e0dffa-be6d-4300-9768-ba81325a4760"
      },
      "outputs": [
        {
          "data": {
            "text/plain": [
              "132370254750912"
            ]
          },
          "execution_count": null,
          "metadata": {},
          "output_type": "execute_result"
        }
      ],
      "source": [
        "id(z)"
      ]
    },
    {
      "cell_type": "markdown",
      "metadata": {
        "id": "n_6hVqnYdpx3"
      },
      "source": [
        "Script:\n",
        "* The dir function is pretty handy for figuring out what you can do with an object.\n",
        "* You can also call it on the methods too like this."
      ]
    },
    {
      "cell_type": "code",
      "execution_count": null,
      "metadata": {
        "colab": {
          "base_uri": "https://localhost:8080/"
        },
        "id": "m_vP35AQdoa4",
        "outputId": "aab4c82b-d85c-4d58-e98e-25ea106f1579"
      },
      "outputs": [
        {
          "data": {
            "text/plain": [
              "['__call__',\n",
              " '__class__',\n",
              " '__delattr__',\n",
              " '__dir__',\n",
              " '__doc__',\n",
              " '__eq__',\n",
              " '__format__',\n",
              " '__ge__',\n",
              " '__getattribute__',\n",
              " '__gt__',\n",
              " '__hash__',\n",
              " '__init__',\n",
              " '__init_subclass__',\n",
              " '__le__',\n",
              " '__lt__',\n",
              " '__module__',\n",
              " '__name__',\n",
              " '__ne__',\n",
              " '__new__',\n",
              " '__qualname__',\n",
              " '__reduce__',\n",
              " '__reduce_ex__',\n",
              " '__repr__',\n",
              " '__self__',\n",
              " '__setattr__',\n",
              " '__sizeof__',\n",
              " '__str__',\n",
              " '__subclasshook__',\n",
              " '__text_signature__']"
            ]
          },
          "execution_count": null,
          "metadata": {},
          "output_type": "execute_result"
        }
      ],
      "source": [
        "dir(x.reverse)"
      ]
    },
    {
      "cell_type": "markdown",
      "metadata": {
        "id": "OgX83zDEdxfk"
      },
      "source": [
        "Script:\n",
        "* All the methods are references to Python objects too.\n",
        "* There are turtles, rather references, all the way down.\n",
        "* And in that dir output for x dot reverse, there is an entry double underscore doc double underscore.\n",
        "* Whenever you see that, you found builtin documentation."
      ]
    },
    {
      "cell_type": "code",
      "execution_count": null,
      "metadata": {
        "colab": {
          "base_uri": "https://localhost:8080/",
          "height": 35
        },
        "id": "bLMeLlMqd9I-",
        "outputId": "7170e732-0d77-4021-9329-1c95d841c8ec"
      },
      "outputs": [
        {
          "data": {
            "application/vnd.google.colaboratory.intrinsic+json": {
              "type": "string"
            },
            "text/plain": [
              "'Reverse *IN PLACE*.'"
            ]
          },
          "execution_count": null,
          "metadata": {},
          "output_type": "execute_result"
        }
      ],
      "source": [
        "x.reverse.__doc__"
      ]
    },
    {
      "cell_type": "markdown",
      "metadata": {
        "id": "GQ5_5aGZd_3X"
      },
      "source": [
        "Script:\n",
        "* Here is another one."
      ]
    },
    {
      "cell_type": "code",
      "execution_count": null,
      "metadata": {
        "colab": {
          "base_uri": "https://localhost:8080/",
          "height": 53
        },
        "id": "00L9k9bpeCM1",
        "outputId": "2d32c00d-250d-4b60-ca5e-aea8ea3c9d06"
      },
      "outputs": [
        {
          "data": {
            "application/vnd.google.colaboratory.intrinsic+json": {
              "type": "string"
            },
            "text/plain": [
              "'Remove and return item at index (default last).\\n\\nRaises IndexError if list is empty or index is out of range.'"
            ]
          },
          "execution_count": null,
          "metadata": {},
          "output_type": "execute_result"
        }
      ],
      "source": [
        "x.pop.__doc__"
      ]
    },
    {
      "cell_type": "markdown",
      "metadata": {
        "id": "h5uhUl46eFOP"
      },
      "source": [
        "Script:\n",
        "* That's not so legible.\n",
        "* Let's print that explicitly instead."
      ]
    },
    {
      "cell_type": "code",
      "execution_count": null,
      "metadata": {
        "colab": {
          "base_uri": "https://localhost:8080/"
        },
        "id": "bxJM2cYyeIgb",
        "outputId": "c41bde7c-da3c-4e04-d91c-5f92f54b9784"
      },
      "outputs": [
        {
          "execution_count": null,
          "name": "stdout",
          "output_type": "stream",
          "text": [
            "Remove and return item at index (default last).\n",
            "\n",
            "Raises IndexError if list is empty or index is out of range.\n"
          ]
        }
      ],
      "source": [
        "print(x.pop.__doc__)"
      ]
    },
    {
      "cell_type": "markdown",
      "metadata": {
        "id": "1Zee9agms1P8"
      },
      "source": [
        "Script:\n",
        "* That's better.\n",
        "* To wrap up, everything in Python is a reference to an object.\n",
        "* The references mean copying is quick and easy, but watch out for unexpected sharing.\n",
        "* And the shared object setup gives us a standard way to poke at them and look inside.\n"
      ]
    }
  ],
  "metadata": {
    "colab": {},
    "kernelspec": {
      "display_name": "Python 3",
      "name": "python3"
    },
    "language_info": {
      "codemirror_mode": {
        "name": "ipython",
        "version": 3
      },
      "file_extension": ".py",
      "mimetype": "text/x-python",
      "name": "python",
      "nbconvert_exporter": "python",
      "pygments_lexer": "ipython3",
      "version": "3.9.6"
    }
  },
  "nbformat": 4,
  "nbformat_minor": 0
}