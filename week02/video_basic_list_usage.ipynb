{
  "cells": [
    {
      "cell_type": "markdown",
      "metadata": {
        "id": "2UFB9ZAonjU6"
      },
      "source": [
        "# Video: Basic List Usage\n",
        "\n",
        "In this video, you will learn basic list usage in Python."
      ]
    },
    {
      "cell_type": "code",
      "execution_count": 1,
      "metadata": {
        "id": "FFdG4NV2LAOE"
      },
      "outputs": [],
      "source": [
        "my_list = [\"first\", 2, 3, \"forty two\"]"
      ]
    },
    {
      "cell_type": "code",
      "execution_count": 3,
      "metadata": {
        "id": "LJiwsH7pLE3P"
      },
      "outputs": [],
      "source": [
        "my_list.append(\"five\")"
      ]
    },
    {
      "cell_type": "code",
      "execution_count": 4,
      "metadata": {
        "colab": {
          "base_uri": "https://localhost:8080/"
        },
        "id": "7oxCLuX1LHc6",
        "outputId": "3b66da07-6549-4806-bf37-841c4919161f"
      },
      "outputs": [
        {
          "data": {
            "text/plain": [
              "['first', 2, 3, 'forty two', 'five', 'five']"
            ]
          },
          "execution_count": 4,
          "metadata": {},
          "output_type": "execute_result"
        }
      ],
      "source": [
        "my_list"
      ]
    },
    {
      "cell_type": "code",
      "execution_count": 6,
      "metadata": {
        "id": "SmcXASoeLJhs"
      },
      "outputs": [],
      "source": [
        "my_list.extend([6, 7])"
      ]
    },
    {
      "cell_type": "code",
      "execution_count": 7,
      "metadata": {
        "colab": {
          "base_uri": "https://localhost:8080/"
        },
        "id": "ehuRoaiBLPE4",
        "outputId": "85c2e7e1-2006-4d77-8c48-d58d0eb07761"
      },
      "outputs": [
        {
          "data": {
            "text/plain": [
              "['first', 2, 3, 'forty two', 'five', 'five', 6, 7, 6, 7]"
            ]
          },
          "execution_count": 7,
          "metadata": {},
          "output_type": "execute_result"
        }
      ],
      "source": [
        "my_list"
      ]
    },
    {
      "cell_type": "code",
      "execution_count": 9,
      "metadata": {
        "colab": {
          "base_uri": "https://localhost:8080/"
        },
        "id": "g--am2eRLU4L",
        "outputId": "3277095e-dc3f-4f29-e576-b3661b8c9253"
      },
      "outputs": [
        {
          "name": "stdout",
          "output_type": "stream",
          "text": [
            "first\n",
            "2\n",
            "3\n",
            "forty two\n",
            "five\n",
            "five\n",
            "6\n",
            "7\n",
            "6\n",
            "7\n"
          ]
        }
      ],
      "source": [
        "for x in my_list:\n",
        "    print(x)"
      ]
    },
    {
      "cell_type": "code",
      "execution_count": 8,
      "metadata": {
        "colab": {
          "base_uri": "https://localhost:8080/",
          "height": 35
        },
        "id": "BmP4xCTIMGiW",
        "outputId": "cb7fd6f9-5791-493f-e50c-8e1aef5ffd41"
      },
      "outputs": [
        {
          "data": {
            "application/vnd.google.colaboratory.intrinsic+json": {
              "type": "string"
            },
            "text/plain": [
              "'first'"
            ]
          },
          "execution_count": 8,
          "metadata": {},
          "output_type": "execute_result"
        }
      ],
      "source": [
        "my_list[0]"
      ]
    },
    {
      "cell_type": "code",
      "execution_count": 10,
      "metadata": {
        "colab": {
          "base_uri": "https://localhost:8080/"
        },
        "id": "CTg2mFFSMSMB",
        "outputId": "368d6d28-7a66-4b36-b871-670715876e67"
      },
      "outputs": [
        {
          "data": {
            "text/plain": [
              "2"
            ]
          },
          "execution_count": 10,
          "metadata": {},
          "output_type": "execute_result"
        }
      ],
      "source": [
        "my_list[1]"
      ]
    },
    {
      "cell_type": "code",
      "execution_count": 11,
      "metadata": {
        "colab": {
          "base_uri": "https://localhost:8080/"
        },
        "id": "y0I16POGMTcv",
        "outputId": "b0aebab7-7c0a-4185-d0c6-aacafa3af97d"
      },
      "outputs": [
        {
          "data": {
            "text/plain": [
              "3"
            ]
          },
          "execution_count": 11,
          "metadata": {},
          "output_type": "execute_result"
        }
      ],
      "source": [
        "my_list[2]"
      ]
    },
    {
      "cell_type": "code",
      "execution_count": 12,
      "metadata": {
        "colab": {
          "base_uri": "https://localhost:8080/",
          "height": 35
        },
        "id": "Q2UmZi7oMV6a",
        "outputId": "e3f20d0f-41e0-437b-ba2d-58b3ca8dc2b1"
      },
      "outputs": [
        {
          "data": {
            "application/vnd.google.colaboratory.intrinsic+json": {
              "type": "string"
            },
            "text/plain": [
              "'forty two'"
            ]
          },
          "execution_count": 12,
          "metadata": {},
          "output_type": "execute_result"
        }
      ],
      "source": [
        "my_list[3]"
      ]
    },
    {
      "cell_type": "code",
      "execution_count": 13,
      "metadata": {
        "id": "M2l7OjndMYr1"
      },
      "outputs": [],
      "source": [
        "my_list[3] = \"this is at three\""
      ]
    },
    {
      "cell_type": "code",
      "execution_count": 14,
      "metadata": {
        "colab": {
          "base_uri": "https://localhost:8080/"
        },
        "id": "7RNUl-YlMegZ",
        "outputId": "b761ad77-e539-4635-aac4-4350188abcec"
      },
      "outputs": [
        {
          "data": {
            "text/plain": [
              "['first', 2, 3, 'this is at three', 'five', 'five', 6, 7, 6, 7]"
            ]
          },
          "execution_count": 14,
          "metadata": {},
          "output_type": "execute_result"
        }
      ],
      "source": [
        "my_list"
      ]
    },
    {
      "cell_type": "code",
      "execution_count": 15,
      "metadata": {
        "colab": {
          "base_uri": "https://localhost:8080/",
          "height": 144
        },
        "id": "uh5feKWtMkZS",
        "outputId": "8915fd16-d180-4bac-bab5-d8f666994f95"
      },
      "outputs": [
        {
          "ename": "IndexError",
          "evalue": "list index out of range",
          "output_type": "error",
          "traceback": [
            "\u001b[0;31m---------------------------------------------------------------------------\u001b[0m",
            "\u001b[0;31mIndexError\u001b[0m                                Traceback (most recent call last)",
            "\u001b[0;32m<ipython-input-15-adf4d7a7fef9>\u001b[0m in \u001b[0;36m<cell line: 1>\u001b[0;34m()\u001b[0m\n\u001b[0;32m----> 1\u001b[0;31m \u001b[0mmy_list\u001b[0m\u001b[0;34m[\u001b[0m\u001b[0;36m10\u001b[0m\u001b[0;34m]\u001b[0m\u001b[0;34m\u001b[0m\u001b[0;34m\u001b[0m\u001b[0m\n\u001b[0m",
            "\u001b[0;31mIndexError\u001b[0m: list index out of range"
          ]
        }
      ],
      "source": [
        "my_list[10]"
      ]
    },
    {
      "cell_type": "code",
      "execution_count": 124,
      "metadata": {
        "colab": {
          "base_uri": "https://localhost:8080/"
        },
        "id": "K2v348PUWSBB",
        "outputId": "988911f7-a568-4568-b7aa-8c41482a5367"
      },
      "outputs": [
        {
          "data": {
            "text/plain": [
              "['first', 2, 3, 'this is at three', 'five', 'five', 6, 7, 6, 7]"
            ]
          },
          "execution_count": 124,
          "metadata": {},
          "output_type": "execute_result"
        }
      ],
      "source": [
        "my_list"
      ]
    },
    {
      "cell_type": "code",
      "execution_count": 120,
      "metadata": {
        "id": "gBiTGW0_V4nb"
      },
      "outputs": [],
      "source": [
        "another_list = [1, 2, 3, 4, 5]"
      ]
    },
    {
      "cell_type": "code",
      "execution_count": 122,
      "metadata": {
        "id": "AnJ33GO4WISm"
      },
      "outputs": [],
      "source": [
        "combined_list = my_list + another_list"
      ]
    },
    {
      "cell_type": "code",
      "execution_count": 123,
      "metadata": {
        "colab": {
          "base_uri": "https://localhost:8080/"
        },
        "id": "eDD_YiccWN70",
        "outputId": "336fd98f-f4b9-45fd-9f67-f73eb946b899"
      },
      "outputs": [
        {
          "data": {
            "text/plain": [
              "['first', 2, 3, 'this is at three', 'five', 'five', 6, 7, 6, 7, 1, 2, 3, 4, 5]"
            ]
          },
          "execution_count": 123,
          "metadata": {},
          "output_type": "execute_result"
        }
      ],
      "source": [
        "combined_list"
      ]
    },
    {
      "cell_type": "markdown",
      "metadata": {
        "id": "CNDFaEjBXUm-"
      },
      "source": [
        "* There, you can see the combined list with the contents of the two lists added together.\n",
        "* Adding lists can be expensive if you use it to combine a lot of little lists, because a new list is being created each time, and that new list is getting bigger and bigger.\n",
        "* A more efficient version of this uses a new operator plus equal like this."
      ]
    },
    {
      "cell_type": "code",
      "execution_count": 134,
      "metadata": {
        "id": "WAd_IN6WXu60"
      },
      "outputs": [],
      "source": [
        "growing_list = []"
      ]
    },
    {
      "cell_type": "code",
      "execution_count": 131,
      "metadata": {
        "colab": {
          "base_uri": "https://localhost:8080/"
        },
        "id": "5en6ehnRXysX",
        "outputId": "caa598e8-9103-4788-bfc2-060da1080765"
      },
      "outputs": [
        {
          "data": {
            "text/plain": [
              "[1, 2]"
            ]
          },
          "execution_count": 131,
          "metadata": {},
          "output_type": "execute_result"
        }
      ],
      "source": [
        "growing_list += [1, 2]\n",
        "growing_list"
      ]
    },
    {
      "cell_type": "code",
      "execution_count": 135,
      "metadata": {
        "colab": {
          "base_uri": "https://localhost:8080/"
        },
        "id": "z3o8JEVPX3LZ",
        "outputId": "c34a619d-4a89-4671-8782-3d6da994778b"
      },
      "outputs": [
        {
          "data": {
            "text/plain": [
              "[3, 4]"
            ]
          },
          "execution_count": 135,
          "metadata": {},
          "output_type": "execute_result"
        }
      ],
      "source": [
        "growing_list += [3, 4]\n",
        "growing_list"
      ]
    }
  ],
  "metadata": {
    "colab": {},
    "kernelspec": {
      "display_name": "Python 3",
      "name": "python3"
    },
    "language_info": {
      "codemirror_mode": {
        "name": "ipython",
        "version": 3
      },
      "file_extension": ".py",
      "mimetype": "text/x-python",
      "name": "python",
      "nbconvert_exporter": "python",
      "pygments_lexer": "ipython3",
      "version": "3.9.6"
    }
  },
  "nbformat": 4,
  "nbformat_minor": 0
}