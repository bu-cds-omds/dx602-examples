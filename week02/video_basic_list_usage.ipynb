{
  "cells": [
    {
      "cell_type": "markdown",
      "metadata": {
        "id": "2UFB9ZAonjU6"
      },
      "source": [
        "# Video: Basic List Usage\n",
        "\n",
        "In this video, you will learn basic list usage in Python."
      ]
    },
    {
      "cell_type": "markdown",
      "metadata": {
        "id": "s-ieEAhdK8Pl"
      },
      "source": [
        "Script:\n",
        "* Python lists are a convenient container to hold data. You can put anything that you want in them."
      ]
    },
    {
      "cell_type": "code",
      "execution_count": null,
      "metadata": {
        "id": "FFdG4NV2LAOE"
      },
      "outputs": [],
      "source": [
        "my_list = [\"first\", 2, 3, \"forty two\"]"
      ]
    },
    {
      "cell_type": "markdown",
      "metadata": {
        "id": "ob0f4m3PLCA2"
      },
      "source": [
        "Script:\n",
        "* Lists are flexible.\n",
        "* You can mix and match different kinds of data in the same list; not all data structures we cover in this module will allow that.\n",
        "* It is also easy to add more data to a list."
      ]
    },
    {
      "cell_type": "code",
      "execution_count": null,
      "metadata": {
        "id": "LJiwsH7pLE3P"
      },
      "outputs": [],
      "source": [
        "my_list.append(\"five\")"
      ]
    },
    {
      "cell_type": "code",
      "execution_count": null,
      "metadata": {
        "colab": {
          "base_uri": "https://localhost:8080/"
        },
        "id": "7oxCLuX1LHc6",
        "outputId": "3b66da07-6549-4806-bf37-841c4919161f"
      },
      "outputs": [
        {
          "data": {
            "text/plain": [
              "['first', 2, 3, 'forty two', 'five', 'five']"
            ]
          },
          "execution_count": null,
          "metadata": {},
          "output_type": "execute_result"
        }
      ],
      "source": [
        "my_list"
      ]
    },
    {
      "cell_type": "code",
      "execution_count": null,
      "metadata": {
        "id": "SmcXASoeLJhs"
      },
      "outputs": [],
      "source": [
        "my_list.extend([6, 7])"
      ]
    },
    {
      "cell_type": "code",
      "execution_count": null,
      "metadata": {
        "colab": {
          "base_uri": "https://localhost:8080/"
        },
        "id": "ehuRoaiBLPE4",
        "outputId": "85c2e7e1-2006-4d77-8c48-d58d0eb07761"
      },
      "outputs": [
        {
          "data": {
            "text/plain": [
              "['first', 2, 3, 'forty two', 'five', 'five', 6, 7, 6, 7]"
            ]
          },
          "execution_count": null,
          "metadata": {},
          "output_type": "execute_result"
        }
      ],
      "source": [
        "my_list"
      ]
    },
    {
      "cell_type": "markdown",
      "metadata": {
        "id": "XxIoZHFnLSd-"
      },
      "source": [
        "Script:\n",
        "* It is easy to repeat work for every item in the list."
      ]
    },
    {
      "cell_type": "code",
      "execution_count": null,
      "metadata": {
        "colab": {
          "base_uri": "https://localhost:8080/"
        },
        "id": "g--am2eRLU4L",
        "outputId": "3277095e-dc3f-4f29-e576-b3661b8c9253"
      },
      "outputs": [
        {
          "execution_count": null,
          "name": "stdout",
          "output_type": "stream",
          "text": [
            "first\n",
            "2\n",
            "3\n",
            "forty two\n",
            "five\n",
            "five\n",
            "6\n",
            "7\n",
            "6\n",
            "7\n"
          ]
        }
      ],
      "source": [
        "for x in my_list:\n",
        "    print(x)"
      ]
    },
    {
      "cell_type": "markdown",
      "metadata": {
        "id": "ftEzbYwRLZSN"
      },
      "source": [
        "Script:\n",
        "* That for loop will repeat the following lines for every value in my list.\n",
        "* The variable x will be assigned each value from my list.\n",
        "* Then the lines in the for loop will be run.\n",
        "* Which lines are in the for loop?\n",
        "* The indented lines that immediately follow it.\n",
        "* HIGHLIGHT THE INDENTATION.\n",
        "* Python uses indentation to determine the structure of the program to make it visible.\n",
        "* Back to lists, if you remember where you put a value in a list, you can get it out quickly."
      ]
    },
    {
      "cell_type": "code",
      "execution_count": null,
      "metadata": {
        "colab": {
          "base_uri": "https://localhost:8080/",
          "height": 35
        },
        "id": "BmP4xCTIMGiW",
        "outputId": "cb7fd6f9-5791-493f-e50c-8e1aef5ffd41"
      },
      "outputs": [
        {
          "data": {
            "application/vnd.google.colaboratory.intrinsic+json": {
              "type": "string"
            },
            "text/plain": [
              "'first'"
            ]
          },
          "execution_count": null,
          "metadata": {},
          "output_type": "execute_result"
        }
      ],
      "source": [
        "my_list[0]"
      ]
    },
    {
      "cell_type": "markdown",
      "metadata": {
        "id": "y3tzN3ItMJ3E"
      },
      "source": [
        "Script:\n",
        "* Python uses zero-based indexing, meaning that the first entry in the list is accessed with index zero, not one.\n",
        "* Most programming languages work that way nowadays, but you may have seen one-based indexing in BASIC or Excel or MATLAB."
      ]
    },
    {
      "cell_type": "code",
      "execution_count": null,
      "metadata": {
        "colab": {
          "base_uri": "https://localhost:8080/"
        },
        "id": "CTg2mFFSMSMB",
        "outputId": "368d6d28-7a66-4b36-b871-670715876e67"
      },
      "outputs": [
        {
          "data": {
            "text/plain": [
              "2"
            ]
          },
          "execution_count": null,
          "metadata": {},
          "output_type": "execute_result"
        }
      ],
      "source": [
        "my_list[1]"
      ]
    },
    {
      "cell_type": "code",
      "execution_count": null,
      "metadata": {
        "colab": {
          "base_uri": "https://localhost:8080/"
        },
        "id": "y0I16POGMTcv",
        "outputId": "b0aebab7-7c0a-4185-d0c6-aacafa3af97d"
      },
      "outputs": [
        {
          "data": {
            "text/plain": [
              "3"
            ]
          },
          "execution_count": null,
          "metadata": {},
          "output_type": "execute_result"
        }
      ],
      "source": [
        "my_list[2]"
      ]
    },
    {
      "cell_type": "code",
      "execution_count": null,
      "metadata": {
        "colab": {
          "base_uri": "https://localhost:8080/",
          "height": 35
        },
        "id": "Q2UmZi7oMV6a",
        "outputId": "e3f20d0f-41e0-437b-ba2d-58b3ca8dc2b1"
      },
      "outputs": [
        {
          "data": {
            "application/vnd.google.colaboratory.intrinsic+json": {
              "type": "string"
            },
            "text/plain": [
              "'forty two'"
            ]
          },
          "execution_count": null,
          "metadata": {},
          "output_type": "execute_result"
        }
      ],
      "source": [
        "my_list[3]"
      ]
    },
    {
      "cell_type": "markdown",
      "metadata": {
        "id": "E1k4YIeMMZcu"
      },
      "source": [
        "Script:\n",
        "* You can also edit an entry in the list similarly to how you can read it."
      ]
    },
    {
      "cell_type": "code",
      "execution_count": null,
      "metadata": {
        "id": "M2l7OjndMYr1"
      },
      "outputs": [],
      "source": [
        "my_list[3] = \"this is at three\""
      ]
    },
    {
      "cell_type": "code",
      "execution_count": null,
      "metadata": {
        "colab": {
          "base_uri": "https://localhost:8080/"
        },
        "id": "7RNUl-YlMegZ",
        "outputId": "b761ad77-e539-4635-aac4-4350188abcec"
      },
      "outputs": [
        {
          "data": {
            "text/plain": [
              "['first', 2, 3, 'this is at three', 'five', 'five', 6, 7, 6, 7]"
            ]
          },
          "execution_count": null,
          "metadata": {},
          "output_type": "execute_result"
        }
      ],
      "source": [
        "my_list"
      ]
    },
    {
      "cell_type": "markdown",
      "metadata": {
        "id": "8KlOU5AMMhaR"
      },
      "source": [
        "Script:\n",
        "* But you can not add new entries that way."
      ]
    },
    {
      "cell_type": "code",
      "execution_count": null,
      "metadata": {
        "colab": {
          "base_uri": "https://localhost:8080/",
          "height": 144
        },
        "id": "uh5feKWtMkZS",
        "outputId": "8915fd16-d180-4bac-bab5-d8f666994f95"
      },
      "outputs": [
        {
          "ename": "IndexError",
          "evalue": "list index out of range",
          "execution_count": null,
          "output_type": "error",
          "traceback": [
            "\u001b[0;31m---------------------------------------------------------------------------\u001b[0m",
            "\u001b[0;31mIndexError\u001b[0m                                Traceback (most recent call last)",
            "\u001b[0;32m<ipython-input-15-adf4d7a7fef9>\u001b[0m in \u001b[0;36m<cell line: 1>\u001b[0;34m()\u001b[0m\n\u001b[0;32m----> 1\u001b[0;31m \u001b[0mmy_list\u001b[0m\u001b[0;34m[\u001b[0m\u001b[0;36m10\u001b[0m\u001b[0;34m]\u001b[0m\u001b[0;34m\u001b[0m\u001b[0;34m\u001b[0m\u001b[0m\n\u001b[0m",
            "\u001b[0;31mIndexError\u001b[0m: list index out of range"
          ]
        }
      ],
      "source": [
        "my_list[10]"
      ]
    },
    {
      "cell_type": "markdown",
      "metadata": {
        "id": "RXoAlwDFnlom"
      },
      "source": [
        "Script:\n",
        "* Most of the time you should add entries at the end with dot append or dot extend.\n",
        "* You can insert them in the middle if you want with the insert function, but this will move all the entries from the insertion point to the end to make room.\n",
        "* If you insert an item after the inserted item the beginning of a list, then the whole list needs to be updated, which will take time proportional to the number of entries in the list.\n",
        "* Sometimes you need to do this, but try not to do it repeatedly since it will make your program significantly slower.\n",
        "* Probably quadratic time, not exponential time, but that will still be prohibitive with big data.\n",
        "* I will wrap up with one more list operation, concatenation.\n",
        "* You can take two lists, and add them together using the plus operator, and the resulting list will have the results of both lists concatenated together.\n",
        "* That is, the new list will have the contents of the first list at the beginning, followed by the contents of the second list."
      ]
    },
    {
      "cell_type": "code",
      "execution_count": null,
      "metadata": {
        "colab": {
          "base_uri": "https://localhost:8080/"
        },
        "id": "K2v348PUWSBB",
        "outputId": "988911f7-a568-4568-b7aa-8c41482a5367"
      },
      "outputs": [
        {
          "data": {
            "text/plain": [
              "['first', 2, 3, 'this is at three', 'five', 'five', 6, 7, 6, 7]"
            ]
          },
          "execution_count": null,
          "metadata": {},
          "output_type": "execute_result"
        }
      ],
      "source": [
        "my_list"
      ]
    },
    {
      "cell_type": "code",
      "execution_count": null,
      "metadata": {
        "id": "gBiTGW0_V4nb"
      },
      "outputs": [],
      "source": [
        "another_list = [1, 2, 3, 4, 5]"
      ]
    },
    {
      "cell_type": "code",
      "execution_count": null,
      "metadata": {
        "id": "AnJ33GO4WISm"
      },
      "outputs": [],
      "source": [
        "combined_list = my_list + another_list"
      ]
    },
    {
      "cell_type": "code",
      "execution_count": null,
      "metadata": {
        "colab": {
          "base_uri": "https://localhost:8080/"
        },
        "id": "eDD_YiccWN70",
        "outputId": "336fd98f-f4b9-45fd-9f67-f73eb946b899"
      },
      "outputs": [
        {
          "data": {
            "text/plain": [
              "['first', 2, 3, 'this is at three', 'five', 'five', 6, 7, 6, 7, 1, 2, 3, 4, 5]"
            ]
          },
          "execution_count": null,
          "metadata": {},
          "output_type": "execute_result"
        }
      ],
      "source": [
        "combined_list"
      ]
    },
    {
      "cell_type": "markdown",
      "metadata": {
        "id": "CNDFaEjBXUm-"
      },
      "source": [
        "* There, you can see the combined list with the contents of the two lists added together.\n",
        "* Adding lists can be expensive if you use it to combine a lot of little lists, because a new list is being created each time, and that new list is getting bigger and bigger.\n",
        "* A more efficient version of this uses a new operator plus equal like this."
      ]
    },
    {
      "cell_type": "code",
      "execution_count": null,
      "metadata": {
        "id": "WAd_IN6WXu60"
      },
      "outputs": [],
      "source": [
        "growing_list = []"
      ]
    },
    {
      "cell_type": "code",
      "execution_count": null,
      "metadata": {
        "colab": {
          "base_uri": "https://localhost:8080/"
        },
        "id": "5en6ehnRXysX",
        "outputId": "caa598e8-9103-4788-bfc2-060da1080765"
      },
      "outputs": [
        {
          "data": {
            "text/plain": [
              "[1, 2]"
            ]
          },
          "execution_count": null,
          "metadata": {},
          "output_type": "execute_result"
        }
      ],
      "source": [
        "growing_list += [1, 2]\n",
        "growing_list"
      ]
    },
    {
      "cell_type": "code",
      "execution_count": null,
      "metadata": {
        "colab": {
          "base_uri": "https://localhost:8080/"
        },
        "id": "z3o8JEVPX3LZ",
        "outputId": "c34a619d-4a89-4671-8782-3d6da994778b"
      },
      "outputs": [
        {
          "data": {
            "text/plain": [
              "[3, 4]"
            ]
          },
          "execution_count": null,
          "metadata": {},
          "output_type": "execute_result"
        }
      ],
      "source": [
        "growing_list += [3, 4]\n",
        "growing_list"
      ]
    },
    {
      "cell_type": "markdown",
      "metadata": {
        "id": "IVfc_mEbYEUT"
      },
      "source": [
        "Script:\n",
        "* In this case, this plus equals operator is acting like the list extend method and updating the existing list.\n",
        "* So the same list keeps growing, and Python will manage the details automatically so it is not too expensive.\n",
        "* That is it for the basic ways to put data in a list."
      ]
    }
  ],
  "metadata": {
    "colab": {},
    "kernelspec": {
      "display_name": "Python 3",
      "name": "python3"
    },
    "language_info": {
      "codemirror_mode": {
        "name": "ipython",
        "version": 3
      },
      "file_extension": ".py",
      "mimetype": "text/x-python",
      "name": "python",
      "nbconvert_exporter": "python",
      "pygments_lexer": "ipython3",
      "version": "3.9.6"
    }
  },
  "nbformat": 4,
  "nbformat_minor": 0
}