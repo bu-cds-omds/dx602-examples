{
  "cells": [
    {
      "cell_type": "markdown",
      "metadata": {
        "id": "E4IkSWszr5Kn"
      },
      "source": [
        "# Video: Iterating with Dictionaries\n",
        "\n",
        "This video demonstrates how to write code iterating over every entry in a dictionary.\n"
      ]
    },
    {
      "cell_type": "code",
      "execution_count": 56,
      "metadata": {
        "id": "AeG9tBWvZ4c8"
      },
      "outputs": [],
      "source": [
        "my_data = {'height': 68, 'weight': 166, 'city': 'Boston', 'state': 'MA'}"
      ]
    },
    {
      "cell_type": "code",
      "execution_count": 58,
      "metadata": {
        "colab": {
          "base_uri": "https://localhost:8080/"
        },
        "id": "lZeYuAeBaNh2",
        "outputId": "9013b140-40b8-443e-9ee1-d9492d4470be"
      },
      "outputs": [
        {
          "name": "stdout",
          "output_type": "stream",
          "text": [
            "height\n",
            "weight\n",
            "city\n",
            "state\n"
          ]
        }
      ],
      "source": [
        "# do not execute immediately\n",
        "for k in my_data:\n",
        "    print(k)"
      ]
    },
    {
      "cell_type": "code",
      "execution_count": 59,
      "metadata": {
        "colab": {
          "base_uri": "https://localhost:8080/"
        },
        "id": "s1cdo9pEa11h",
        "outputId": "029d58ff-cbf8-4e37-ee33-469e236e5737"
      },
      "outputs": [
        {
          "name": "stdout",
          "output_type": "stream",
          "text": [
            "height\n",
            "weight\n",
            "city\n",
            "state\n"
          ]
        }
      ],
      "source": [
        "for k in my_data.keys():\n",
        "    print(k)"
      ]
    },
    {
      "cell_type": "code",
      "execution_count": 60,
      "metadata": {
        "colab": {
          "base_uri": "https://localhost:8080/"
        },
        "id": "HGAOhrF4bA8Z",
        "outputId": "ed7a12d0-0113-4bbd-f5ba-046880daf223"
      },
      "outputs": [
        {
          "name": "stdout",
          "output_type": "stream",
          "text": [
            "68\n",
            "166\n",
            "Boston\n",
            "MA\n"
          ]
        }
      ],
      "source": [
        "for v in my_data.values():\n",
        "    print(v)"
      ]
    },
    {
      "cell_type": "code",
      "execution_count": 61,
      "metadata": {
        "colab": {
          "base_uri": "https://localhost:8080/"
        },
        "id": "6YZBWZrJbH95",
        "outputId": "fc3056e7-d16a-46be-abc1-b988624632c0"
      },
      "outputs": [
        {
          "name": "stdout",
          "output_type": "stream",
          "text": [
            "height 68\n",
            "weight 166\n",
            "city Boston\n",
            "state MA\n"
          ]
        }
      ],
      "source": [
        "for (k, v) in my_data.items():\n",
        "    print(k, v)"
      ]
    },
    {
      "cell_type": "code",
      "execution_count": 62,
      "metadata": {
        "id": "o6t963U_bRzw"
      },
      "outputs": [],
      "source": [
        "for row in my_data.items():\n",
        "    k = row[0]\n",
        "    v = row[1]"
      ]
    },
    {
      "cell_type": "code",
      "execution_count": null,
      "metadata": {
        "id": "-COS0D3GbYp2"
      },
      "outputs": [],
      "source": [
        "for row in my_data.items():\n",
        "    (k, v) = row"
      ]
    },
    {
      "cell_type": "code",
      "execution_count": null,
      "metadata": {
        "id": "U9JTo99_blOF"
      },
      "outputs": [],
      "source": [
        "for k, v in my_data.items():\n",
        "    print(k, v)"
      ]
    }
  ],
  "metadata": {
    "colab": {},
    "kernelspec": {
      "display_name": "Python 3",
      "name": "python3"
    },
    "language_info": {
      "codemirror_mode": {
        "name": "ipython",
        "version": 3
      },
      "file_extension": ".py",
      "mimetype": "text/x-python",
      "name": "python",
      "nbconvert_exporter": "python",
      "pygments_lexer": "ipython3",
      "version": "3.9.6"
    }
  },
  "nbformat": 4,
  "nbformat_minor": 0
}