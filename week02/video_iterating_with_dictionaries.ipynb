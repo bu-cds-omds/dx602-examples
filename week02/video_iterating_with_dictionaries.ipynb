{
  "cells": [
    {
      "cell_type": "markdown",
      "metadata": {
        "id": "E4IkSWszr5Kn"
      },
      "source": [
        "# Video: Iterating with Dictionaries\n",
        "\n",
        "This video demonstrates how to write code iterating over every entry in a dictionary.\n"
      ]
    },
    {
      "cell_type": "markdown",
      "metadata": {
        "id": "1GxoM9MkZ-yK"
      },
      "source": [
        "Script:\n",
        "* Python gives three or four ways to iterate through dictionaries depending how you count.\n",
        "* There are three different kinds of output, and four different ways to write them."
      ]
    },
    {
      "cell_type": "code",
      "execution_count": null,
      "metadata": {
        "id": "AeG9tBWvZ4c8"
      },
      "outputs": [],
      "source": [
        "my_data = {'height': 68, 'weight': 166, 'city': 'Boston', 'state': 'MA'}"
      ]
    },
    {
      "cell_type": "markdown",
      "metadata": {
        "id": "Lsj_hAU2aSwP"
      },
      "source": [
        "Script:\n",
        "* What do you think this loop will print?"
      ]
    },
    {
      "cell_type": "code",
      "execution_count": null,
      "metadata": {
        "colab": {
          "base_uri": "https://localhost:8080/"
        },
        "id": "lZeYuAeBaNh2",
        "outputId": "9013b140-40b8-443e-9ee1-d9492d4470be"
      },
      "outputs": [
        {
          "name": "stdout",
          "output_type": "stream",
          "text": [
            "height\n",
            "weight\n",
            "city\n",
            "state\n"
          ]
        }
      ],
      "source": [
        "# do not execute immediately\n",
        "for k in my_data:\n",
        "    print(k)"
      ]
    },
    {
      "cell_type": "markdown",
      "metadata": {
        "id": "kk9ZxBHYarnv"
      },
      "source": [
        "Script:\n",
        "* PAUSE THEN RUN PREVIOUS CODE\n"
      ]
    },
    {
      "cell_type": "markdown",
      "metadata": {
        "id": "YluNc3avaxVU"
      },
      "source": [
        "Script:\n",
        "* If you just iterate on the dictionary, you will get the keys back.\n",
        "* You can say this explicitly with the keys method of dictionaries like this."
      ]
    },
    {
      "cell_type": "code",
      "execution_count": null,
      "metadata": {
        "colab": {
          "base_uri": "https://localhost:8080/"
        },
        "id": "s1cdo9pEa11h",
        "outputId": "029d58ff-cbf8-4e37-ee33-469e236e5737"
      },
      "outputs": [
        {
          "name": "stdout",
          "output_type": "stream",
          "text": [
            "height\n",
            "weight\n",
            "city\n",
            "state\n"
          ]
        }
      ],
      "source": [
        "for k in my_data.keys():\n",
        "    print(k)"
      ]
    },
    {
      "cell_type": "markdown",
      "metadata": {
        "id": "QORZWzP-a6QL"
      },
      "source": [
        "Script:\n",
        "* That gives you the same result.\n",
        "* The Pythonic preference is to just drop the dot keys here since it doesn't add anything and just makes it longer.\n",
        "* The keys() method is useful in other contexts, just not here.\n",
        "* The next way to iterate through a dictionary is with the values method."
      ]
    },
    {
      "cell_type": "code",
      "execution_count": null,
      "metadata": {
        "colab": {
          "base_uri": "https://localhost:8080/"
        },
        "id": "HGAOhrF4bA8Z",
        "outputId": "ed7a12d0-0113-4bbd-f5ba-046880daf223"
      },
      "outputs": [
        {
          "name": "stdout",
          "output_type": "stream",
          "text": [
            "68\n",
            "166\n",
            "Boston\n",
            "MA\n"
          ]
        }
      ],
      "source": [
        "for v in my_data.values():\n",
        "    print(v)"
      ]
    },
    {
      "cell_type": "markdown",
      "metadata": {
        "id": "vMSafDG_bESs"
      },
      "source": [
        "Script:\n",
        "* The iterator from the values method will return all the values stored in the dictionary.\n",
        "* If a value is stored more than once with different keys, then the iterator will return that value once per key.\n",
        "* The last way to iterate through dictionaries is with the items method."
      ]
    },
    {
      "cell_type": "code",
      "execution_count": null,
      "metadata": {
        "colab": {
          "base_uri": "https://localhost:8080/"
        },
        "id": "6YZBWZrJbH95",
        "outputId": "fc3056e7-d16a-46be-abc1-b988624632c0"
      },
      "outputs": [
        {
          "name": "stdout",
          "output_type": "stream",
          "text": [
            "height 68\n",
            "weight 166\n",
            "city Boston\n",
            "state MA\n"
          ]
        }
      ],
      "source": [
        "for (k, v) in my_data.items():\n",
        "    print(k, v)"
      ]
    },
    {
      "cell_type": "markdown",
      "metadata": {
        "id": "YAGhXPj2bMCa"
      },
      "source": [
        "Script:\n",
        "* This iterator will return tuples of keys and their corresponding values.\n",
        "* The syntax here is a little different from before, since two items were returned.\n",
        "* You could also write it like this."
      ]
    },
    {
      "cell_type": "code",
      "execution_count": null,
      "metadata": {
        "id": "o6t963U_bRzw"
      },
      "outputs": [],
      "source": [
        "for row in my_data.items():\n",
        "    k = row[0]\n",
        "    v = row[1]"
      ]
    },
    {
      "cell_type": "markdown",
      "metadata": {
        "id": "DUR1VwSYbUM0"
      },
      "source": [
        "Script:\n",
        "* Or you could write it like this."
      ]
    },
    {
      "cell_type": "code",
      "execution_count": null,
      "metadata": {
        "id": "-COS0D3GbYp2"
      },
      "outputs": [],
      "source": [
        "for row in my_data.items():\n",
        "    (k, v) = row"
      ]
    },
    {
      "cell_type": "markdown",
      "metadata": {
        "id": "xDamubZxbdf-"
      },
      "source": [
        "Script:\n",
        "* The first version with k and v split out in the first line is more concise and generally preferred.\n",
        "* You do need to know how many items are in the result, and match the order of variables, but if you can do that, this syntax is nice."
      ]
    },
    {
      "cell_type": "code",
      "execution_count": null,
      "metadata": {
        "id": "U9JTo99_blOF"
      },
      "outputs": [],
      "source": [
        "for k, v in my_data.items():\n",
        "    print(k, v)"
      ]
    },
    {
      "cell_type": "markdown",
      "metadata": {
        "id": "FeOSLZTQbovK"
      },
      "source": [
        "Script:\n",
        "* The parenthesises are not required.\n",
        "* Most programmers will lean against using them here to be more brief.\n",
        "* My personal preference is to use slightly more parenthesises than necessary to be extra clear about order of operations, but this case is so brief that I am on the fence.\n",
        "* BEGIN VIDEO\n",
        "* One last thing before we move on from dictionary iterators.\n",
        "* It is generally a bad idea to add or remove keys from a dictionary while you are iterating through it.\n",
        "* It might not blow up your code, but it is a good way to get confused and sometimes have weird results.\n",
        "* This is a broad recommendation, not just for Python.\n",
        "* Updating values for existing keys is fine, but be really careful changing the keys during iteration.\n",
        "* END VIDEO"
      ]
    }
  ],
  "metadata": {
    "colab": {},
    "kernelspec": {
      "display_name": "Python 3",
      "name": "python3"
    },
    "language_info": {
      "codemirror_mode": {
        "name": "ipython",
        "version": 3
      },
      "file_extension": ".py",
      "mimetype": "text/x-python",
      "name": "python",
      "nbconvert_exporter": "python",
      "pygments_lexer": "ipython3",
      "version": "3.9.6"
    }
  },
  "nbformat": 4,
  "nbformat_minor": 0
}