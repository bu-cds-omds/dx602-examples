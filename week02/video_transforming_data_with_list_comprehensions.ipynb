{
  "cells": [
    {
      "cell_type": "markdown",
      "metadata": {
        "id": "j0cJOECpUBNO"
      },
      "source": [
        "# Video: Transforming Data with List Comprehensions\n",
        "\n",
        "This video demonstrates list comprehensions, a concise way to filter and transform sequences of data."
      ]
    },
    {
      "cell_type": "code",
      "execution_count": null,
      "metadata": {
        "id": "X67opP1bVC8r"
      },
      "outputs": [],
      "source": [
        "# do not execute\n",
        "# [transform(x) for x in data if condition(x)]"
      ]
    },
    {
      "cell_type": "code",
      "execution_count": null,
      "metadata": {
        "id": "1DN--CXLWDow"
      },
      "outputs": [],
      "source": [
        "squares = [i * i for i in range(100)]"
      ]
    },
    {
      "cell_type": "code",
      "execution_count": null,
      "metadata": {
        "id": "7l0KSTkhWL2x"
      },
      "outputs": [],
      "source": [
        "even_numbers = [i for i in range(100) if i % 2 == 0]"
      ]
    },
    {
      "cell_type": "code",
      "execution_count": null,
      "metadata": {
        "id": "Yq0fi1e-WGhO"
      },
      "outputs": [],
      "source": [
        "even_numbers = []\n",
        "for i in range(100):\n",
        "    if i % 2 == 0:\n",
        "         even_numbers.append(i)"
      ]
    }
  ],
  "metadata": {
    "colab": {},
    "kernelspec": {
      "display_name": "Python 3",
      "name": "python3"
    },
    "language_info": {
      "codemirror_mode": {
        "name": "ipython",
        "version": 3
      },
      "file_extension": ".py",
      "mimetype": "text/x-python",
      "name": "python",
      "nbconvert_exporter": "python",
      "pygments_lexer": "ipython3",
      "version": "3.9.6"
    }
  },
  "nbformat": 4,
  "nbformat_minor": 0
}