{
  "cells": [
    {
      "cell_type": "markdown",
      "metadata": {
        "id": "j0cJOECpUBNO"
      },
      "source": [
        "# Video: Transforming Data with List Comprehensions\n",
        "\n",
        "This video demonstrates list comprehensions, a concise way to filter and transform sequences of data."
      ]
    },
    {
      "cell_type": "markdown",
      "metadata": {
        "id": "I2lZFFfJUwA7"
      },
      "source": [
        "Script:\n",
        "* One pattern that Python tries to make very easy is filtering and transforming data.\n",
        "* By filter, I mean selecting specific items or rows from an existing data set.\n",
        "* By transform, I mean changing those items or rows into something else.\n",
        "* In this case, one at a time, each item or row being changed independently of the others.\n",
        "* List comprehensions are made exactly for this.\n",
        "* The basic form of a list comprehension looks like this."
      ]
    },
    {
      "cell_type": "code",
      "execution_count": null,
      "metadata": {
        "id": "X67opP1bVC8r"
      },
      "outputs": [],
      "source": [
        "# do not execute\n",
        "# [transform(x) for x in data if condition(x)]"
      ]
    },
    {
      "cell_type": "markdown",
      "metadata": {
        "id": "bHPeg0L4VNW-"
      },
      "source": [
        "Script:\n",
        "* This example is commented out, so it won't run.\n",
        "* The pound sign, or sharp sign if you are musically inclined, marks the rest of the line as a comment, not code to be executed.\n",
        "* HIGHLIGHT WORD DATA\n",
        "* In this example, data is whatever source you want.\n",
        "* It just needs to be iterable.\n",
        "* Anything that looks like a list for starters, but also things like range which generate data on the fly.\n",
        "* HIGHLIGHT WORD TRANSFORM\n",
        "* HIGHLIGHT WORD CONDITION\n",
        "* The transform and condition do not need to be a function calls, and often are not.\n",
        "* If you happen to have a function that does the right thing, definitely use it.\n",
        "* Otherwise, just write the expression to transform or condition the data.\n",
        "* The condition is optional, and you can just drop it if you do not have one.\n",
        "* Here is an example."
      ]
    },
    {
      "cell_type": "code",
      "execution_count": null,
      "metadata": {
        "id": "1DN--CXLWDow"
      },
      "outputs": [],
      "source": [
        "squares = [i * i for i in range(100)]"
      ]
    },
    {
      "cell_type": "markdown",
      "metadata": {
        "id": "bUKVUFJNWNtX"
      },
      "source": [
        "Script:\n",
        "* That is all the squares of numbers from zero to ninety nine.\n",
        "* And if you just want to filter and not transform, just repeat the variable name like this."
      ]
    },
    {
      "cell_type": "code",
      "execution_count": null,
      "metadata": {
        "id": "7l0KSTkhWL2x"
      },
      "outputs": [],
      "source": [
        "even_numbers = [i for i in range(100) if i % 2 == 0]"
      ]
    },
    {
      "cell_type": "markdown",
      "metadata": {
        "id": "AaeNFm1eWQKc"
      },
      "source": [
        "Script:\n",
        "* That list expression made a list of all the even numbers less than 100.\n",
        "* There are other ways to construct that list in Python, but this is the way that the Python community would call Pythonic."
      ]
    },
    {
      "cell_type": "code",
      "execution_count": null,
      "metadata": {
        "id": "Yq0fi1e-WGhO"
      },
      "outputs": [],
      "source": [
        "even_numbers = []\n",
        "for i in range(100):\n",
        "    if i % 2 == 0:\n",
        "         even_numbers.append(i)"
      ]
    },
    {
      "cell_type": "markdown",
      "metadata": {
        "id": "eY6Dd9TopyJU"
      },
      "source": [
        "Script:\n",
        "* This will give you the same list, but much more verbose and more effort to read.\n",
        "* Generally, the Python developers try to notice common programming patterns, and very selectively add nice concise syntax to implement these patterns very clearly.\n",
        "* Taking advantage of that syntax and other patterns to write clear and concise code is called being Pythonic.\n",
        "* These patterns have the advantage of language support to be clear, concise, and performant, and we will cover more of them next week.\n"
      ]
    }
  ],
  "metadata": {
    "colab": {},
    "kernelspec": {
      "display_name": "Python 3",
      "name": "python3"
    },
    "language_info": {
      "codemirror_mode": {
        "name": "ipython",
        "version": 3
      },
      "file_extension": ".py",
      "mimetype": "text/x-python",
      "name": "python",
      "nbconvert_exporter": "python",
      "pygments_lexer": "ipython3",
      "version": "3.9.6"
    }
  },
  "nbformat": 4,
  "nbformat_minor": 0
}