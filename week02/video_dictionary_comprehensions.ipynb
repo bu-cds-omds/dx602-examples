{
  "cells": [
    {
      "cell_type": "markdown",
      "metadata": {
        "id": "XWxZr4-Ae-IN"
      },
      "source": [
        "# Video: Dictionary Comprehensions\n",
        "\n",
        "This video shows how to create dictionaries from sequences using dictionary comprehensions."
      ]
    },
    {
      "cell_type": "markdown",
      "metadata": {
        "id": "OUTiEP_yfJoj"
      },
      "source": [
        "Script:\n",
        "* We previously saw list comprehensions as a quick way to create a new list from an existing sequence.\n",
        "* A similar syntax is available for dictionary comprehensions.\n",
        "* Here is an example."
      ]
    },
    {
      "cell_type": "code",
      "execution_count": null,
      "metadata": {
        "id": "HChYHkchfZtK"
      },
      "outputs": [],
      "source": [
        "squares = {i : i ** 2 for i in range(10)}"
      ]
    },
    {
      "cell_type": "code",
      "execution_count": null,
      "metadata": {
        "colab": {
          "base_uri": "https://localhost:8080/"
        },
        "id": "BW0HWAsBfi_H",
        "outputId": "7ed771c3-7f7f-4a15-f62b-71ebb1ca3ff6"
      },
      "outputs": [
        {
          "data": {
            "text/plain": [
              "{0: 0, 1: 1, 2: 4, 3: 9, 4: 16, 5: 25, 6: 36, 7: 49, 8: 64, 9: 81}"
            ]
          },
          "execution_count": null,
          "metadata": {},
          "output_type": "execute_result"
        }
      ],
      "source": [
        "squares"
      ]
    },
    {
      "cell_type": "markdown",
      "metadata": {
        "id": "9WtLoiXjfhOy"
      },
      "source": [
        "Script:\n",
        "* The syntax for a dictionary is similar to a list comprehension has just two changes.\n",
        "* First, a dictionary comprehension is surrounded by braces instead of brackets.\n",
        "* HIGHLIGHT BOTH BRACES SLOWLY\n",
        "* Second, instead of one expression at the beginning, there are two expressions separated by a colon.\n",
        "* HIGHLIGHT THOSE EXPRESSIONS\n",
        "* Similar to writing a dictionary from scratch, the first expression is for the key, and the second expression is for that key's value.\n",
        "* Like a list comprehension, you can make a dictionary comprehension from any sequence.\n",
        "* Here's a clever example to invert a dictionary."
      ]
    },
    {
      "cell_type": "code",
      "execution_count": null,
      "metadata": {
        "id": "_02qNmXHgnop"
      },
      "outputs": [],
      "source": [
        "square_roots = {squares[v] : v for v in squares}"
      ]
    },
    {
      "cell_type": "code",
      "execution_count": null,
      "metadata": {
        "colab": {
          "base_uri": "https://localhost:8080/"
        },
        "id": "PeFGGaJLgwHB",
        "outputId": "fa268d18-d70c-4fbd-a4ee-813224e10759"
      },
      "outputs": [
        {
          "data": {
            "text/plain": [
              "{0: 0, 1: 1, 4: 2, 9: 3, 16: 4, 25: 5, 36: 6, 49: 7, 64: 8, 81: 9}"
            ]
          },
          "execution_count": null,
          "metadata": {},
          "output_type": "execute_result"
        }
      ],
      "source": [
        "square_roots"
      ]
    },
    {
      "cell_type": "markdown",
      "metadata": {
        "id": "sxQUTxA5g2R_"
      },
      "source": [
        "Script:\n",
        "* This is not the fastest way to compute square roots, but you can see how this dictionary has all the keys and values switched from the previous dictionary.\n",
        "* Generally, dictionary comprehensions are useful for building data structures from quickly based on data, not for storing computation results unless the computations are slow."
      ]
    }
  ],
  "metadata": {
    "colab": {},
    "kernelspec": {
      "display_name": "Python 3",
      "name": "python3"
    },
    "language_info": {
      "codemirror_mode": {
        "name": "ipython",
        "version": 3
      },
      "file_extension": ".py",
      "mimetype": "text/x-python",
      "name": "python",
      "nbconvert_exporter": "python",
      "pygments_lexer": "ipython3",
      "version": "3.9.6"
    }
  },
  "nbformat": 4,
  "nbformat_minor": 0
}