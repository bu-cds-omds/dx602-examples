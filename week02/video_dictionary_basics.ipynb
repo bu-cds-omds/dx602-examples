{
  "cells": [
    {
      "cell_type": "markdown",
      "metadata": {
        "id": "_SFCBKZfqeNi"
      },
      "source": [
        "# Video: Dictionary Basics\n",
        "\n",
        "This video demonstrates basic usage of Python dictionaries to quickly look up data based on keys."
      ]
    },
    {
      "cell_type": "markdown",
      "metadata": {
        "id": "syfMWxS7XD2h"
      },
      "source": [
        "Script:\n",
        "* BEGIN VIDEO\n",
        "* In previous videos, we discussed lists, and how convenient they are to hold, filter, and transform data, but they are not great for searching.\n",
        "* Now we will talk about Python dictionaries which are great for finding items if you know exactly what you are looking for.\n",
        "* That is to say, if you know exactly what you are looking for, you can find it instantly with a dictionary.\n",
        "* This makes dictionaries much faster than lists for searches.\n",
        "* The main idea for dictionaries is that you need to choose an immutable key.\n",
        "* The key is how we specify exactly what we are looking for.\n",
        "* And it needs to be immutable, meaning that you can not change it, because the data structures rely on that immutability to be able to find the key later.\n",
        "* If you change the key, the data structures might look in the wrong place and have trouble finding the data you added before.\n",
        "* Technically, what Python is checking is whether it can \"hash\" the key.\n",
        "* END VIDEO"
      ]
    },
    {
      "cell_type": "code",
      "execution_count": null,
      "metadata": {
        "colab": {
          "base_uri": "https://localhost:8080/"
        },
        "id": "S5FKPk5VXPIF",
        "outputId": "7b1aa9b8-0ed4-4b87-8bbe-b8e7264348d6"
      },
      "outputs": [
        {
          "data": {
            "text/plain": [
              "3"
            ]
          },
          "execution_count": null,
          "metadata": {},
          "output_type": "execute_result"
        }
      ],
      "source": [
        "hash(3)"
      ]
    },
    {
      "cell_type": "markdown",
      "metadata": {
        "id": "-MVtVaPqXRpo"
      },
      "source": [
        "Script:\n",
        "* Integers work."
      ]
    },
    {
      "cell_type": "code",
      "execution_count": null,
      "metadata": {
        "colab": {
          "base_uri": "https://localhost:8080/"
        },
        "id": "8vqZU9-9XUQI",
        "outputId": "610eb4ea-fa62-4be7-c3dc-25e00bf1194f"
      },
      "outputs": [
        {
          "data": {
            "text/plain": [
              "-4759881779404656507"
            ]
          },
          "execution_count": null,
          "metadata": {},
          "output_type": "execute_result"
        }
      ],
      "source": [
        "hash(\"3\")"
      ]
    },
    {
      "cell_type": "markdown",
      "metadata": {
        "id": "MXZk3Xd8XVq1"
      },
      "source": [
        "Script:\n",
        "* Strings work."
      ]
    },
    {
      "cell_type": "code",
      "execution_count": null,
      "metadata": {
        "colab": {
          "base_uri": "https://localhost:8080/",
          "height": 144
        },
        "id": "bG0p0anCXZCP",
        "outputId": "b5151e66-87c9-4f29-c3f7-1762a2d143bb"
      },
      "outputs": [
        {
          "ename": "TypeError",
          "evalue": "unhashable type: 'list'",
          "execution_count": null,
          "output_type": "error",
          "traceback": [
            "\u001b[0;31m---------------------------------------------------------------------------\u001b[0m",
            "\u001b[0;31mTypeError\u001b[0m                                 Traceback (most recent call last)",
            "\u001b[0;32m<ipython-input-45-b1bd0fbc0b77>\u001b[0m in \u001b[0;36m<cell line: 1>\u001b[0;34m()\u001b[0m\n\u001b[0;32m----> 1\u001b[0;31m \u001b[0mhash\u001b[0m\u001b[0;34m(\u001b[0m\u001b[0;34m[\u001b[0m\u001b[0;36m3\u001b[0m\u001b[0;34m]\u001b[0m\u001b[0;34m)\u001b[0m\u001b[0;34m\u001b[0m\u001b[0;34m\u001b[0m\u001b[0m\n\u001b[0m",
            "\u001b[0;31mTypeError\u001b[0m: unhashable type: 'list'"
          ]
        }
      ],
      "source": [
        "hash([3])"
      ]
    },
    {
      "cell_type": "markdown",
      "metadata": {
        "id": "eIJ8lpAUXbhB"
      },
      "source": [
        "Script:\n",
        "* Lists do not work because you could change the list.\n",
        "* You could add more data, or change the data already in it."
      ]
    },
    {
      "cell_type": "code",
      "execution_count": null,
      "metadata": {
        "id": "Uwijpk2ZXeri"
      },
      "outputs": [],
      "source": [
        "hash((3,))"
      ]
    },
    {
      "cell_type": "markdown",
      "metadata": {
        "id": "ZOWMsT9JXkUv"
      },
      "source": [
        "Script:\n",
        "* BEGIN VIDEO\n",
        "* But tuples do work as long as everything in the tuple can be hashed.\n",
        "* Anyway, those hash values we just saw were all over the place, and they are designed to look random.\n",
        "* The dictionary data structure uses those hash values to decide where to put data, and to find it later.\n",
        "* So they need to be consistent or the dictionary will look in the wrong place and won't find your data.\n",
        "* That's why the hash keys must be immutable.\n",
        "* If you are curious, you can look up hash tables or watch the optional video linked for more detail, but you do not need to understand those details to use a Python dictionary.\n",
        "* Most of the natural keys will just work.\n",
        "* And if you have something that doesn't work, try turning it into a tuple to freeze it from changes.\n",
        "* Let's look at what we can do with dictionaries.\n",
        "* END VIDEO\n"
      ]
    },
    {
      "cell_type": "code",
      "execution_count": null,
      "metadata": {
        "id": "-VqsEkO7Xvdu"
      },
      "outputs": [],
      "source": [
        "my_data = {\"height\": 68, \"weight\": 166, \"city\": \"Boston\", \"state\": \"MA\"}"
      ]
    },
    {
      "cell_type": "markdown",
      "metadata": {
        "id": "wgHvGnAfX3Le"
      },
      "source": [
        "Script:\n",
        "* Like with lists, we can use the len function to check how many entries there are."
      ]
    },
    {
      "cell_type": "code",
      "execution_count": null,
      "metadata": {
        "colab": {
          "base_uri": "https://localhost:8080/"
        },
        "id": "aFgntHXpX6f9",
        "outputId": "25c6d313-8b77-49c1-fe05-9f9aeabd923a"
      },
      "outputs": [
        {
          "data": {
            "text/plain": [
              "4"
            ]
          },
          "execution_count": null,
          "metadata": {},
          "output_type": "execute_result"
        }
      ],
      "source": [
        "len(my_data)"
      ]
    },
    {
      "cell_type": "markdown",
      "metadata": {
        "id": "5yDRVagHX6CT"
      },
      "source": [
        "Script:\n",
        "* We can fetch something by its key."
      ]
    },
    {
      "cell_type": "code",
      "execution_count": null,
      "metadata": {
        "id": "jQpcVYQ7X_OR"
      },
      "outputs": [],
      "source": [
        "my_data[\"height\"]"
      ]
    },
    {
      "cell_type": "markdown",
      "metadata": {
        "id": "3fdaReVwYA7S"
      },
      "source": [
        "Script:\n",
        "* If the key does not exist, then we will get an exception, similar to with lists."
      ]
    },
    {
      "cell_type": "code",
      "execution_count": null,
      "metadata": {
        "id": "1AowhUCSYEct"
      },
      "outputs": [],
      "source": [
        "my_data[\"heigth\"]"
      ]
    },
    {
      "cell_type": "markdown",
      "metadata": {
        "id": "nZbrToOpYH0d"
      },
      "source": [
        "Script:\n",
        "* This time it is a KeyError, not an IndexError like we got with a list.\n",
        "* You can check if an item is in the dictionary using the in operator, just like with lists."
      ]
    },
    {
      "cell_type": "code",
      "execution_count": null,
      "metadata": {
        "colab": {
          "base_uri": "https://localhost:8080/"
        },
        "id": "KL5yzGh1YLrG",
        "outputId": "125112bb-50e5-4163-8a97-4723ca93d4e1"
      },
      "outputs": [
        {
          "data": {
            "text/plain": [
              "False"
            ]
          },
          "execution_count": null,
          "metadata": {},
          "output_type": "execute_result"
        }
      ],
      "source": [
        "\"heigth\" in my_data"
      ]
    },
    {
      "cell_type": "code",
      "execution_count": null,
      "metadata": {
        "colab": {
          "base_uri": "https://localhost:8080/"
        },
        "id": "lPFaUDwNYNrR",
        "outputId": "b567fb23-accf-4317-e9c9-5ade56731cb4"
      },
      "outputs": [
        {
          "data": {
            "text/plain": [
              "True"
            ]
          },
          "execution_count": null,
          "metadata": {},
          "output_type": "execute_result"
        }
      ],
      "source": [
        "\"height\" in my_data"
      ]
    },
    {
      "cell_type": "markdown",
      "metadata": {
        "id": "jtKlHUBVYRV7"
      },
      "source": [
        "Script:\n",
        "* There is a second way to get data out of a dictionary, using the get method."
      ]
    },
    {
      "cell_type": "code",
      "execution_count": null,
      "metadata": {
        "colab": {
          "base_uri": "https://localhost:8080/"
        },
        "id": "FYg_TtW2YUH3",
        "outputId": "73fe34f3-faa4-46da-d5c5-e4aaf6187e5c"
      },
      "outputs": [
        {
          "data": {
            "text/plain": [
              "68"
            ]
          },
          "execution_count": null,
          "metadata": {},
          "output_type": "execute_result"
        }
      ],
      "source": [
        "my_data.get(\"height\")"
      ]
    },
    {
      "cell_type": "code",
      "execution_count": null,
      "metadata": {
        "id": "l0isdLiLYXtR"
      },
      "outputs": [],
      "source": [
        "my_data.get(\"heigth\")"
      ]
    },
    {
      "cell_type": "markdown",
      "metadata": {
        "id": "i8H614FdYc2J"
      },
      "source": [
        "Script:\n",
        "* The biggest difference between the get method and the bracket notation is how missing keys are handled.\n",
        "* The get method will return a special value None by default if the key is missing.\n",
        "* Jupyter notebooks treat None values as no output which is what we just saw.\n",
        "* If you want a different default value, you can specify it with a second optional argument."
      ]
    },
    {
      "cell_type": "code",
      "execution_count": null,
      "metadata": {
        "colab": {
          "base_uri": "https://localhost:8080/"
        },
        "id": "WZAw2AaEY1Z6",
        "outputId": "43820536-c264-4a2a-a614-545c22a54cae"
      },
      "outputs": [
        {
          "data": {
            "text/plain": [
              "123"
            ]
          },
          "execution_count": null,
          "metadata": {},
          "output_type": "execute_result"
        }
      ],
      "source": [
        "my_data.get(\"heigth\", 123)"
      ]
    },
    {
      "cell_type": "markdown",
      "metadata": {
        "id": "lnm4peNwY6OF"
      },
      "source": [
        "Script:\n",
        "* Unlike with lists, checking whether an item is in the dictionary is very fast.\n",
        "* About constant time.\n",
        "* So this will keep working quickly with very big dictionaries.\n",
        "* And to be clear, that is checking if the item is a key in the dictionary, not a value.\n",
        "* You can update values using the key like with a list.\n"
      ]
    },
    {
      "cell_type": "code",
      "execution_count": null,
      "metadata": {
        "id": "nrgJVYp9ZBGh"
      },
      "outputs": [],
      "source": [
        "my_data[\"weight\"] = 150"
      ]
    },
    {
      "cell_type": "markdown",
      "metadata": {
        "id": "0uneaSUlZFSy"
      },
      "source": [
        "Script:\n",
        "* I wish it was so easy.\n",
        "* Unlike a list, you can add new entries that way."
      ]
    },
    {
      "cell_type": "code",
      "execution_count": null,
      "metadata": {
        "id": "mnnWH-6NZKCB"
      },
      "outputs": [],
      "source": [
        "my_data[\"mood\"] = \"optimistic\""
      ]
    },
    {
      "cell_type": "markdown",
      "metadata": {
        "id": "ef0TSieoZNoC"
      },
      "source": [
        "Script:\n",
        "* Python will just make more space behind the scenes."
      ]
    },
    {
      "cell_type": "code",
      "execution_count": null,
      "metadata": {
        "id": "aBcL2B8vZPve"
      },
      "outputs": [],
      "source": [
        "my_data[1000000] = \"trick\""
      ]
    },
    {
      "cell_type": "markdown",
      "metadata": {
        "id": "OJ6VUndarlMh"
      },
      "source": [
        "Script:\n",
        "* A dictionary can have any set of keys.\n",
        "* This is different from a list, where adding an entry one thousand means that entries zero to nine hundred ninety nine already are in the list.\n",
        "* And Python dictionaries have keys of all sorts of types.\n",
        "* I started with string keys, but the last one was an integer.\n"
      ]
    }
  ],
  "metadata": {
    "colab": {},
    "kernelspec": {
      "display_name": "Python 3",
      "name": "python3"
    },
    "language_info": {
      "codemirror_mode": {
        "name": "ipython",
        "version": 3
      },
      "file_extension": ".py",
      "mimetype": "text/x-python",
      "name": "python",
      "nbconvert_exporter": "python",
      "pygments_lexer": "ipython3",
      "version": "3.9.6"
    }
  },
  "nbformat": 4,
  "nbformat_minor": 0
}