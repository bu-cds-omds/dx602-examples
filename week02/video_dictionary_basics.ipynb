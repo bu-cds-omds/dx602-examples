{
  "cells": [
    {
      "cell_type": "markdown",
      "metadata": {
        "id": "_SFCBKZfqeNi"
      },
      "source": [
        "# Video: Dictionary Basics\n",
        "\n",
        "This video demonstrates basic usage of Python dictionaries to quickly look up data based on keys."
      ]
    },
    {
      "cell_type": "code",
      "execution_count": null,
      "metadata": {
        "colab": {
          "base_uri": "https://localhost:8080/"
        },
        "id": "S5FKPk5VXPIF",
        "outputId": "7b1aa9b8-0ed4-4b87-8bbe-b8e7264348d6"
      },
      "outputs": [
        {
          "data": {
            "text/plain": [
              "3"
            ]
          },
          "execution_count": null,
          "metadata": {},
          "output_type": "execute_result"
        }
      ],
      "source": [
        "hash(3)"
      ]
    },
    {
      "cell_type": "code",
      "execution_count": null,
      "metadata": {
        "colab": {
          "base_uri": "https://localhost:8080/"
        },
        "id": "8vqZU9-9XUQI",
        "outputId": "610eb4ea-fa62-4be7-c3dc-25e00bf1194f"
      },
      "outputs": [
        {
          "data": {
            "text/plain": [
              "-4759881779404656507"
            ]
          },
          "execution_count": null,
          "metadata": {},
          "output_type": "execute_result"
        }
      ],
      "source": [
        "hash(\"3\")"
      ]
    },
    {
      "cell_type": "code",
      "execution_count": null,
      "metadata": {
        "colab": {
          "base_uri": "https://localhost:8080/",
          "height": 144
        },
        "id": "bG0p0anCXZCP",
        "outputId": "b5151e66-87c9-4f29-c3f7-1762a2d143bb"
      },
      "outputs": [
        {
          "ename": "TypeError",
          "evalue": "unhashable type: 'list'",
          "execution_count": null,
          "output_type": "error",
          "traceback": [
            "\u001b[0;31m---------------------------------------------------------------------------\u001b[0m",
            "\u001b[0;31mTypeError\u001b[0m                                 Traceback (most recent call last)",
            "\u001b[0;32m<ipython-input-45-b1bd0fbc0b77>\u001b[0m in \u001b[0;36m<cell line: 1>\u001b[0;34m()\u001b[0m\n\u001b[0;32m----> 1\u001b[0;31m \u001b[0mhash\u001b[0m\u001b[0;34m(\u001b[0m\u001b[0;34m[\u001b[0m\u001b[0;36m3\u001b[0m\u001b[0;34m]\u001b[0m\u001b[0;34m)\u001b[0m\u001b[0;34m\u001b[0m\u001b[0;34m\u001b[0m\u001b[0m\n\u001b[0m",
            "\u001b[0;31mTypeError\u001b[0m: unhashable type: 'list'"
          ]
        }
      ],
      "source": [
        "hash([3])"
      ]
    },
    {
      "cell_type": "code",
      "execution_count": null,
      "metadata": {
        "id": "Uwijpk2ZXeri"
      },
      "outputs": [],
      "source": [
        "hash((3,))"
      ]
    },
    {
      "cell_type": "code",
      "execution_count": null,
      "metadata": {
        "id": "-VqsEkO7Xvdu"
      },
      "outputs": [],
      "source": [
        "my_data = {\"height\": 68, \"weight\": 166, \"city\": \"Boston\", \"state\": \"MA\"}"
      ]
    },
    {
      "cell_type": "code",
      "execution_count": null,
      "metadata": {
        "colab": {
          "base_uri": "https://localhost:8080/"
        },
        "id": "aFgntHXpX6f9",
        "outputId": "25c6d313-8b77-49c1-fe05-9f9aeabd923a"
      },
      "outputs": [
        {
          "data": {
            "text/plain": [
              "4"
            ]
          },
          "execution_count": null,
          "metadata": {},
          "output_type": "execute_result"
        }
      ],
      "source": [
        "len(my_data)"
      ]
    },
    {
      "cell_type": "code",
      "execution_count": null,
      "metadata": {
        "id": "jQpcVYQ7X_OR"
      },
      "outputs": [],
      "source": [
        "my_data[\"height\"]"
      ]
    },
    {
      "cell_type": "code",
      "execution_count": null,
      "metadata": {
        "id": "1AowhUCSYEct"
      },
      "outputs": [],
      "source": [
        "my_data[\"heigth\"]"
      ]
    },
    {
      "cell_type": "code",
      "execution_count": null,
      "metadata": {
        "colab": {
          "base_uri": "https://localhost:8080/"
        },
        "id": "KL5yzGh1YLrG",
        "outputId": "125112bb-50e5-4163-8a97-4723ca93d4e1"
      },
      "outputs": [
        {
          "data": {
            "text/plain": [
              "False"
            ]
          },
          "execution_count": null,
          "metadata": {},
          "output_type": "execute_result"
        }
      ],
      "source": [
        "\"heigth\" in my_data"
      ]
    },
    {
      "cell_type": "code",
      "execution_count": null,
      "metadata": {
        "colab": {
          "base_uri": "https://localhost:8080/"
        },
        "id": "lPFaUDwNYNrR",
        "outputId": "b567fb23-accf-4317-e9c9-5ade56731cb4"
      },
      "outputs": [
        {
          "data": {
            "text/plain": [
              "True"
            ]
          },
          "execution_count": null,
          "metadata": {},
          "output_type": "execute_result"
        }
      ],
      "source": [
        "\"height\" in my_data"
      ]
    },
    {
      "cell_type": "code",
      "execution_count": null,
      "metadata": {
        "colab": {
          "base_uri": "https://localhost:8080/"
        },
        "id": "FYg_TtW2YUH3",
        "outputId": "73fe34f3-faa4-46da-d5c5-e4aaf6187e5c"
      },
      "outputs": [
        {
          "data": {
            "text/plain": [
              "68"
            ]
          },
          "execution_count": null,
          "metadata": {},
          "output_type": "execute_result"
        }
      ],
      "source": [
        "my_data.get(\"height\")"
      ]
    },
    {
      "cell_type": "code",
      "execution_count": null,
      "metadata": {
        "id": "l0isdLiLYXtR"
      },
      "outputs": [],
      "source": [
        "my_data.get(\"heigth\")"
      ]
    },
    {
      "cell_type": "code",
      "execution_count": null,
      "metadata": {
        "colab": {
          "base_uri": "https://localhost:8080/"
        },
        "id": "WZAw2AaEY1Z6",
        "outputId": "43820536-c264-4a2a-a614-545c22a54cae"
      },
      "outputs": [
        {
          "data": {
            "text/plain": [
              "123"
            ]
          },
          "execution_count": null,
          "metadata": {},
          "output_type": "execute_result"
        }
      ],
      "source": [
        "my_data.get(\"heigth\", 123)"
      ]
    },
    {
      "cell_type": "code",
      "execution_count": null,
      "metadata": {
        "id": "nrgJVYp9ZBGh"
      },
      "outputs": [],
      "source": [
        "my_data[\"weight\"] = 150"
      ]
    },
    {
      "cell_type": "code",
      "execution_count": null,
      "metadata": {
        "id": "mnnWH-6NZKCB"
      },
      "outputs": [],
      "source": [
        "my_data[\"mood\"] = \"optimistic\""
      ]
    },
    {
      "cell_type": "code",
      "execution_count": null,
      "metadata": {
        "id": "aBcL2B8vZPve"
      },
      "outputs": [],
      "source": [
        "my_data[1000000] = \"trick\""
      ]
    }
  ],
  "metadata": {
    "colab": {},
    "kernelspec": {
      "display_name": "Python 3",
      "name": "python3"
    },
    "language_info": {
      "codemirror_mode": {
        "name": "ipython",
        "version": 3
      },
      "file_extension": ".py",
      "mimetype": "text/x-python",
      "name": "python",
      "nbconvert_exporter": "python",
      "pygments_lexer": "ipython3",
      "version": "3.9.6"
    }
  },
  "nbformat": 4,
  "nbformat_minor": 0
}