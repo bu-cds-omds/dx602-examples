{
 "cells": [
  {
   "cell_type": "markdown",
   "id": "06b6c949",
   "metadata": {},
   "source": [
    "Lists (a.k.a. \"arrays\")\n",
    "<li>collection of data elements (of any type)\n",
    "<li>contains 0 to many elements; order is maintained\n",
    "<li>element-access by index (starts at 0)\n"
   ]
  },
  {
   "cell_type": "code",
   "execution_count": 26,
   "id": "b6a77cd7",
   "metadata": {},
   "outputs": [
    {
     "data": {
      "text/plain": [
       "[77, 42, 9, 8, 7, 6, 5, 4, 3, 2, 1]"
      ]
     },
     "execution_count": 26,
     "metadata": {},
     "output_type": "execute_result"
    }
   ],
   "source": [
    "my_list = [1,2,3,4,5,6,7,8,9]\n",
    "my_list # evaluate and print out\n",
    "\n",
    "# examples: indexing, slicing, append, remove\n",
    "#my_list[0] # indexing item 0\n",
    "#my_list[1] # indexing item 1\n",
    "#len(my_list) # length of this list\n",
    "# my_list[8] # access last item\n",
    "#my_list[-1] # last element at the end\n",
    "\n",
    "my_list[0:5] # slicing\n",
    "my_list.append(42)\n",
    "my_list.insert(5, 77)\n",
    "\n",
    "my_list.sort()\n",
    "my_list.reverse()\n",
    "my_list"
   ]
  },
  {
   "cell_type": "markdown",
   "id": "223a990c",
   "metadata": {},
   "source": [
    "List comprehension:\n",
    "<li>Compact syntax to create a list from any sequence (e.g., string, list, range, dict)\n",
    "<li>Embedded for loop to iterate over sequence\n",
    "<li>Optional if/else logic\n",
    "\n"
   ]
  },
  {
   "cell_type": "code",
   "execution_count": 40,
   "id": "ea4b152b",
   "metadata": {},
   "outputs": [
    {
     "data": {
      "text/plain": [
       "[625, 400, 225, 100, 25, 0, 25, 100, 225, 400, 625]"
      ]
     },
     "execution_count": 40,
     "metadata": {},
     "output_type": "execute_result"
    }
   ],
   "source": [
    "evens = [x for x in range(10) if x % 2 == 0]\n",
    "#evens # evaluate and print out \n",
    "\n",
    "# examples: processing list, strings\n",
    "# examples: min/max, sum, booleans\n",
    "ascii_codes = [ (c, ord(c)) for c in \"hello, world!\" ]\n",
    "#ascii_codes\n",
    "\n",
    "import math\n",
    "sin_values = [(x/10, math.sin(x/10)) for x in range(-10,10)]\n",
    "# sin_values\n",
    "\n",
    "## range(start, stop, step)\n",
    "# Expected output: [1, 4, 9, 16, 25, 36, 49, 64, 81, 100]\n",
    "values = [i ** 2 for i in range(1, 11)]\n",
    "# values\n",
    "\n",
    "values = [i ** 2 for i in range(-25, 25+1, 5)]\n",
    "values"
   ]
  },
  {
   "cell_type": "markdown",
   "id": "555ad968",
   "metadata": {},
   "source": [
    "Dictionaries (a.k.a. \"maps\")\n",
    "<li>associatative collection of key-value pairs\n",
    "<li>keys must be \"hashable\"\n",
    "<li>order is note maintained\n",
    "<li>values can be any data type, including other objects (e.g., int, string, list, dict)"
   ]
  },
  {
   "cell_type": "code",
   "execution_count": null,
   "id": "74ee59c4",
   "metadata": {},
   "outputs": [],
   "source": [
    "drinks = {'coffee': 5, 'tea': 2, 'diet-coke': 4, 'monster': 3}\n",
    "drinks['coffee'] # extract the value for this key 'coffee'\n",
    "drinks['seltzer'] = 6 # store a value with the key 'seltzer'\n",
    "# print(drinks)\n",
    "\n",
    "# keys = [k for k in drinks]\n",
    "# print(keys)\n",
    "# # values = drinks.values()\n",
    "# values = [drinks[k] for k in drinks]\n",
    "# print(values)\n",
    "# hash(['coffee'])\n",
    "\n",
    "# count the lettters in this string\n",
    "s = 'the long and winding road to your heart'\n",
    "counts = {} # empty dictionary\n",
    "# iterate through each letter in the string s:\n",
    "for c in s:\n",
    "    # add to the count for this character 'c'\n",
    "    # check if c is a key in our dictionary of counts\n",
    "    if c in counts:\n",
    "        counts[c] = counts[c] + 1  # we've this character before\n",
    "    else:\n",
    "        counts[c] = 1 # this is the first time we're seeing this character\n",
    "# counts # evaluate and print out the counts\n",
    "\n",
    "# make a text-based histogram of the counts:\n",
    "for c in counts:\n",
    "    print(c, counts[c], counts[c] * '*')\n"
   ]
  },
  {
   "cell_type": "markdown",
   "id": "e259106c",
   "metadata": {},
   "source": [
    "Additional dictionary practice"
   ]
  },
  {
   "cell_type": "code",
   "execution_count": null,
   "id": "f49994da",
   "metadata": {},
   "outputs": [
    {
     "name": "stdout",
     "output_type": "stream",
     "text": [
      "dict1 {'a': 5, 'b': 1}\n",
      "dict2 {'b': 4, 'c': 6}\n",
      "result {'c': 6, 'b': 5, 'a': 5}\n",
      "copy {'c': 6, 'b': 5, 'a': 5, 'd': 42}\n"
     ]
    }
   ],
   "source": [
    "# combine two dictionaries\n",
    "dict1 = {'a': 5, 'b':1}\n",
    "dict2 = {'b': 4, 'c':6}\n",
    "\n",
    "# add these dictionaries together\n",
    "# dict1 + dict2 ## unsupported operand type(s) for +: 'dict' and 'dict'\n",
    "\n",
    "# find all keys from both dictionaries\n",
    "combined_keys = list(dict1.keys()) + list(dict2.keys())\n",
    "combined_keys = set(combined_keys)\n",
    "\n",
    "# combine both dictionaries into one result\n",
    "result = { k: 0 for k in combined_keys}\n",
    "# iterate through all keys:\n",
    "for k in combined_keys:\n",
    "    # grab values from each dictionary, put into result dict\n",
    "    if k in dict1:\n",
    "        result[k] = result[k] + dict1[k] # result[k] += dict1[k]\n",
    "    if k in dict2:\n",
    "        result[k] = result[k] + dict2[k]\n",
    "\n",
    "print('dict1', dict1)\n",
    "print('dict2', dict2)\n",
    "\n",
    "# copy = result # didn't create a copy; it copied the reference to the variable result\n",
    "copy = { k: result[k] for k in result} # create \"deep\" copy of result\n",
    "copy['d'] = 42 # add an element\n",
    "print('result', result)\n",
    "print(\"copy\", copy)\n"
   ]
  },
  {
   "cell_type": "code",
   "execution_count": null,
   "id": "f1ff0181",
   "metadata": {},
   "outputs": [],
   "source": []
  }
 ],
 "metadata": {
  "kernelspec": {
   "display_name": "base",
   "language": "python",
   "name": "python3"
  },
  "language_info": {
   "codemirror_mode": {
    "name": "ipython",
    "version": 3
   },
   "file_extension": ".py",
   "mimetype": "text/x-python",
   "name": "python",
   "nbconvert_exporter": "python",
   "pygments_lexer": "ipython3",
   "version": "3.9.12"
  }
 },
 "nbformat": 4,
 "nbformat_minor": 5
}
