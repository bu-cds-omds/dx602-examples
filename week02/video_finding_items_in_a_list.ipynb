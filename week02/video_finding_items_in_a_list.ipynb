{
  "cells": [
    {
      "cell_type": "markdown",
      "metadata": {
        "id": "cgie_n52obVN"
      },
      "source": [
        "# Video: Finding items in a list\n",
        "\n",
        "In this video, you will learn how to find an item in a list, and how to speedup that search for large lists."
      ]
    },
    {
      "cell_type": "markdown",
      "metadata": {
        "id": "S0LxfLouSFLD"
      },
      "source": [
        "Script:\n",
        "* In the previous video, there were several examples accessing an entry in a list using an index into the array, like this."
      ]
    },
    {
      "cell_type": "code",
      "execution_count": null,
      "metadata": {
        "id": "G6PiTWE-SMA_"
      },
      "outputs": [],
      "source": [
        "my_list = ['first', 2, 3, 'this is at three', 'five', 'five', 6, 7, 6, 7]"
      ]
    },
    {
      "cell_type": "code",
      "execution_count": null,
      "metadata": {
        "colab": {
          "base_uri": "https://localhost:8080/",
          "height": 35
        },
        "id": "LOP_5fl9SK2F",
        "outputId": "3b555c33-09d7-425b-95ba-4627db0d741c"
      },
      "outputs": [
        {
          "data": {
            "application/vnd.google.colaboratory.intrinsic+json": {
              "type": "string"
            },
            "text/plain": [
              "'this is at three'"
            ]
          },
          "execution_count": null,
          "metadata": {},
          "output_type": "execute_result"
        }
      ],
      "source": [
        "my_list[3]"
      ]
    },
    {
      "cell_type": "markdown",
      "metadata": {
        "id": "sIOICfdzSRD7"
      },
      "source": [
        "Script:\n",
        "* What if you do not know where the item is?\n",
        "* The index method will you lookup the first occurrence of a value in the list."
      ]
    },
    {
      "cell_type": "code",
      "execution_count": null,
      "metadata": {
        "colab": {
          "base_uri": "https://localhost:8080/",
          "height": 144
        },
        "id": "Odn9F8OSSTG5",
        "outputId": "ddbf9d28-0628-4952-e264-98618f3b8458"
      },
      "outputs": [
        {
          "ename": "ValueError",
          "evalue": "'four' is not in list",
          "execution_count": null,
          "output_type": "error",
          "traceback": [
            "\u001b[0;31m---------------------------------------------------------------------------\u001b[0m",
            "\u001b[0;31mValueError\u001b[0m                                Traceback (most recent call last)",
            "\u001b[0;32m<ipython-input-20-1bf368b5a49e>\u001b[0m in \u001b[0;36m<cell line: 1>\u001b[0;34m()\u001b[0m\n\u001b[0;32m----> 1\u001b[0;31m \u001b[0mmy_list\u001b[0m\u001b[0;34m.\u001b[0m\u001b[0mindex\u001b[0m\u001b[0;34m(\u001b[0m\u001b[0;34m\"four\"\u001b[0m\u001b[0;34m)\u001b[0m\u001b[0;34m\u001b[0m\u001b[0;34m\u001b[0m\u001b[0m\n\u001b[0m",
            "\u001b[0;31mValueError\u001b[0m: 'four' is not in list"
          ]
        }
      ],
      "source": [
        "my_list.index(\"four\")"
      ]
    },
    {
      "cell_type": "markdown",
      "metadata": {
        "id": "NsrrBRYnSXKU"
      },
      "source": [
        "Script:\n",
        "* Oops, that is not in the list."
      ]
    },
    {
      "cell_type": "code",
      "execution_count": null,
      "metadata": {
        "colab": {
          "base_uri": "https://localhost:8080/"
        },
        "id": "UIbzOfsqSaiQ",
        "outputId": "9a291fc6-1763-49c3-ac6c-329363d30f0e"
      },
      "outputs": [
        {
          "data": {
            "text/plain": [
              "0"
            ]
          },
          "execution_count": null,
          "metadata": {},
          "output_type": "execute_result"
        }
      ],
      "source": [
        "my_list.index(\"first\")"
      ]
    },
    {
      "cell_type": "markdown",
      "metadata": {
        "id": "rFlNs2T4Sm09"
      },
      "source": [
        "Script:\n",
        "* Or if you are not sure whether the item is in the list at all?"
      ]
    },
    {
      "cell_type": "code",
      "execution_count": null,
      "metadata": {
        "colab": {
          "base_uri": "https://localhost:8080/"
        },
        "id": "Z6SNHhW8SpNp",
        "outputId": "ef96d300-9b98-4d23-d947-c643ceeea67f"
      },
      "outputs": [
        {
          "data": {
            "text/plain": [
              "False"
            ]
          },
          "execution_count": null,
          "metadata": {},
          "output_type": "execute_result"
        }
      ],
      "source": [
        "2000 in my_list"
      ]
    },
    {
      "cell_type": "code",
      "execution_count": null,
      "metadata": {
        "colab": {
          "base_uri": "https://localhost:8080/"
        },
        "id": "Wle30p6eSqof",
        "outputId": "b27348f4-e483-425d-f81e-599fe5925e97"
      },
      "outputs": [
        {
          "data": {
            "text/plain": [
              "True"
            ]
          },
          "execution_count": null,
          "metadata": {},
          "output_type": "execute_result"
        }
      ],
      "source": [
        "3 in my_list"
      ]
    },
    {
      "cell_type": "markdown",
      "metadata": {
        "id": "2mGEjP-DSteW"
      },
      "source": [
        "Script:\n",
        "* These last two methods, dot index and the in operator, work by checking every item in the list.\n",
        "* So they are fast enough for this little list.\n",
        "* But they would be pretty slow if the list had thousands or millions of items and you are checking a lot of values.\n",
        "* There are many ways to speed up searching.\n",
        "* The most basic one would be to sort the list, and use a technique called binary search.\n",
        "* You can sort an existing list by calling .sort() on it."
      ]
    },
    {
      "cell_type": "code",
      "execution_count": null,
      "metadata": {
        "colab": {
          "base_uri": "https://localhost:8080/",
          "height": 144
        },
        "id": "ZUrOlHgGS1Fk",
        "outputId": "b345667a-8437-4232-bb11-fcc849480dc8"
      },
      "outputs": [
        {
          "ename": "TypeError",
          "evalue": "'<' not supported between instances of 'int' and 'str'",
          "execution_count": null,
          "output_type": "error",
          "traceback": [
            "\u001b[0;31m---------------------------------------------------------------------------\u001b[0m",
            "\u001b[0;31mTypeError\u001b[0m                                 Traceback (most recent call last)",
            "\u001b[0;32m<ipython-input-27-cbf3d7920d40>\u001b[0m in \u001b[0;36m<cell line: 1>\u001b[0;34m()\u001b[0m\n\u001b[0;32m----> 1\u001b[0;31m \u001b[0mmy_list\u001b[0m\u001b[0;34m.\u001b[0m\u001b[0msort\u001b[0m\u001b[0;34m(\u001b[0m\u001b[0;34m)\u001b[0m\u001b[0;34m\u001b[0m\u001b[0;34m\u001b[0m\u001b[0m\n\u001b[0m",
            "\u001b[0;31mTypeError\u001b[0m: '<' not supported between instances of 'int' and 'str'"
          ]
        }
      ],
      "source": [
        "my_list.sort()"
      ]
    },
    {
      "cell_type": "markdown",
      "metadata": {
        "id": "2az4PoDES4Bi"
      },
      "source": [
        "Script:\n",
        "* Though that only works if you can compare everything in the list.\n",
        "* Usually if you get that error, your list has different types in it.\n",
        "* Let's filter that out."
      ]
    },
    {
      "cell_type": "code",
      "execution_count": null,
      "metadata": {
        "id": "lH9teffXS8hY"
      },
      "outputs": [],
      "source": [
        "my_ints = [x for x in my_list if isinstance(x, int)]"
      ]
    },
    {
      "cell_type": "markdown",
      "metadata": {
        "id": "fdsGOSlmS-vu"
      },
      "source": [
        "Script:\n",
        "* That new list is just the entries of my old list that have type int."
      ]
    },
    {
      "cell_type": "code",
      "execution_count": null,
      "metadata": {
        "colab": {
          "base_uri": "https://localhost:8080/"
        },
        "id": "W5AWYeZZTAs2",
        "outputId": "1baf5e19-0b35-4436-fa0b-bdfb4571b75d"
      },
      "outputs": [
        {
          "data": {
            "text/plain": [
              "[2, 3, 6, 7, 6, 7]"
            ]
          },
          "execution_count": null,
          "metadata": {},
          "output_type": "execute_result"
        }
      ],
      "source": [
        "my_ints"
      ]
    },
    {
      "cell_type": "markdown",
      "metadata": {
        "id": "5XqwloAqTDAM"
      },
      "source": [
        "Script:\n",
        "* Now we can sort it."
      ]
    },
    {
      "cell_type": "code",
      "execution_count": null,
      "metadata": {
        "id": "wQ6M9vpTTEzi"
      },
      "outputs": [],
      "source": [
        "my_ints.sort()"
      ]
    },
    {
      "cell_type": "code",
      "execution_count": null,
      "metadata": {
        "colab": {
          "base_uri": "https://localhost:8080/"
        },
        "id": "V6uxWdWlTGWW",
        "outputId": "d890a5a9-4631-4dcc-840f-8b79fcceccc1"
      },
      "outputs": [
        {
          "data": {
            "text/plain": [
              "[2, 3, 6, 6, 7, 7]"
            ]
          },
          "execution_count": null,
          "metadata": {},
          "output_type": "execute_result"
        }
      ],
      "source": [
        "my_ints"
      ]
    },
    {
      "cell_type": "markdown",
      "metadata": {
        "id": "axcUsHI7TIrJ"
      },
      "source": [
        "Script:\n",
        "* There's also a function sorted which will take any iterable and return a list with the results of the iterable sorted."
      ]
    },
    {
      "cell_type": "code",
      "execution_count": null,
      "metadata": {
        "id": "UGHj3iFvTM3P"
      },
      "outputs": [],
      "source": [
        "my_ints = sorted(x for x in my_list if isinstance(x, int))"
      ]
    },
    {
      "cell_type": "markdown",
      "metadata": {
        "id": "_ISV615kTUKf"
      },
      "source": [
        "Script:\n",
        "* BEGIN VIDEO? LIGHTBOARD\n",
        "* Anyway, once you have a sorted list, you can use a technique binary search to find an item in the list pretty quickly.\n",
        "* The basic idea is that you start looking at the middle of the list, and compare the middle entry with what you are looking for.\n",
        "* If you are lucky, you just found it.\n",
        "* But probably, it is different, but you can compare and figure out if the item is in the first half because it comes before the middle item that you checked, or if it is in the last half because it comes after the middle item that you checked.\n",
        "* Either way, you just halved the area to search.\n",
        "* And if you keep halving the search area like that, then in about log base 2 of the list sizes halvings, you either found the item you want, or proved it is not in the list.\n",
        "* Congratulations, now you know binary search.\n",
        "* Python has a module called bisect to do this for you, so you shouldn't need to code this up.\n",
        "* END VIDEO\n",
        "\n"
      ]
    },
    {
      "cell_type": "code",
      "execution_count": null,
      "metadata": {
        "id": "d-DQ5MvzTeBK"
      },
      "outputs": [],
      "source": [
        "import bisect"
      ]
    },
    {
      "cell_type": "code",
      "execution_count": null,
      "metadata": {
        "colab": {
          "base_uri": "https://localhost:8080/"
        },
        "id": "br53qy7wTc2-",
        "outputId": "f514e2b5-a755-4870-de7b-12c9669605cb"
      },
      "outputs": [
        {
          "data": {
            "text/plain": [
              "2"
            ]
          },
          "execution_count": null,
          "metadata": {},
          "output_type": "execute_result"
        }
      ],
      "source": [
        "bisect.bisect_left(my_ints, 5)"
      ]
    },
    {
      "cell_type": "markdown",
      "metadata": {
        "id": "YWByC-IUTiiE"
      },
      "source": [
        "Script:\n",
        "* Why left?\n",
        "* Because the bisect functions are named assuming you will use the results to insert a new item, and inserting to the left of existing items means taking the existing item's position.\n",
        "* Because we have the convention of drawing our lists going left to write like we write.\n",
        "* Read the documentation for details."
      ]
    },
    {
      "cell_type": "code",
      "execution_count": null,
      "metadata": {
        "colab": {
          "base_uri": "https://localhost:8080/"
        },
        "id": "yTXQGsmOTuHu",
        "outputId": "4be15b92-c5af-4cce-ec4a-d216dd3ea22c"
      },
      "outputs": [
        {
          "data": {
            "text/plain": [
              "2"
            ]
          },
          "execution_count": null,
          "metadata": {},
          "output_type": "execute_result"
        }
      ],
      "source": [
        "bisect.bisect_left(my_ints, 4)"
      ]
    },
    {
      "cell_type": "markdown",
      "metadata": {
        "id": "pFBP5FFwovqq"
      },
      "source": [
        "Script:\n",
        "* Related to that assumption, the bisect_left function is telling you where the item was found, or where it would be inserted.\n",
        "* You need to check if it it was actually found.\n",
        "* Moving on, binary search lets you find an item in the list quickly if the list is sorted, but you'll need to keep sorting the lists between adding new entries and searching.\n",
        "* Python's sort is optimized for these repeated sort cases, but the total work to sort the list can still be quadratic if you sort after every item is added.\n",
        "* Dictionaries, which we will cover shortly, will be even faster if we know exactly what we are looking for, and they don't need repeated sorting.\n",
        "* So, lists are convenient for holding and looping over data, but not great for searching if it keeps changing.\n"
      ]
    }
  ],
  "metadata": {
    "colab": {},
    "kernelspec": {
      "display_name": "Python 3",
      "name": "python3"
    },
    "language_info": {
      "codemirror_mode": {
        "name": "ipython",
        "version": 3
      },
      "file_extension": ".py",
      "mimetype": "text/x-python",
      "name": "python",
      "nbconvert_exporter": "python",
      "pygments_lexer": "ipython3",
      "version": "3.9.6"
    }
  },
  "nbformat": 4,
  "nbformat_minor": 0
}