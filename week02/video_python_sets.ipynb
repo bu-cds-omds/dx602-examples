{
  "cells": [
    {
      "cell_type": "markdown",
      "metadata": {
        "id": "AaSyLifkUbDr"
      },
      "source": [
        "# Video: Python Sets\n",
        "\n",
        "This video describes Python's native set data structure."
      ]
    },
    {
      "cell_type": "markdown",
      "metadata": {
        "id": "yUMGkNroU7wO"
      },
      "source": [
        "Script:\n",
        "* BEGIN VIDEO?\n",
        "* In mathematics, sets are a mathematical object that can contain other objects.\n",
        "* For any possible object, either the object is in the set, or it is not in the set.\n",
        "* There are no counts or attached values, just set membership.\n",
        "* In or out of the set.\n",
        "* In Python, sets are similar to the mathematical objects.\n",
        "* Python sets are between lists and dictionaries in their behavior.\n",
        "* On one hand, they are like lists and just a list of elements with the additional requirement that there are no duplicates.\n",
        "* On the other hand, they are like dictionaries where only the keys are used, and the values are ignored.\n",
        "* Python set elements have the uniqueness of dictionary keys, and fast membership tests like dictionaries.\n",
        "* But like Python lists, there are no attached values.\n",
        "* END OF VIDEO\n",
        "* Python sets may be made from scratch in three different ways.\n",
        "* First, you can use the set function.\n"
      ]
    },
    {
      "cell_type": "code",
      "execution_count": null,
      "metadata": {
        "id": "2ZyxZwaJW0-S"
      },
      "outputs": [],
      "source": [
        "x = set()"
      ]
    },
    {
      "cell_type": "code",
      "execution_count": null,
      "metadata": {
        "colab": {
          "base_uri": "https://localhost:8080/"
        },
        "id": "PosikyowW4Yq",
        "outputId": "d7aa81cb-0dba-4801-cb8a-e6f8e454ad85"
      },
      "outputs": [
        {
          "data": {
            "text/plain": [
              "set()"
            ]
          },
          "execution_count": null,
          "metadata": {},
          "output_type": "execute_result"
        }
      ],
      "source": [
        "x"
      ]
    },
    {
      "cell_type": "markdown",
      "metadata": {
        "id": "SnEhrDqPW9vM"
      },
      "source": [
        "Script:\n",
        "* With no inputs, the set function returns an empty set.\n",
        "* The set function optionally takes in a sequence which will used to populate the set.\n"
      ]
    },
    {
      "cell_type": "code",
      "execution_count": null,
      "metadata": {
        "id": "aFhQMWv7XM7q"
      },
      "outputs": [],
      "source": [
        "x = set(range(6))"
      ]
    },
    {
      "cell_type": "code",
      "execution_count": null,
      "metadata": {
        "colab": {
          "base_uri": "https://localhost:8080/"
        },
        "id": "i5MWfnfvXPHb",
        "outputId": "8ac0bbd0-e063-4bc1-8b04-770faecacbdf"
      },
      "outputs": [
        {
          "data": {
            "text/plain": [
              "{0, 1, 2, 3, 4, 5}"
            ]
          },
          "execution_count": null,
          "metadata": {},
          "output_type": "execute_result"
        }
      ],
      "source": [
        "x"
      ]
    },
    {
      "cell_type": "markdown",
      "metadata": {
        "id": "-Xz9DLUMXXQX"
      },
      "source": [
        "Script:\n",
        "* Second, you can make a set using the same syntax just used to print the x variable, listing out values separated by commas and enclosed by braces.\n"
      ]
    },
    {
      "cell_type": "code",
      "execution_count": null,
      "metadata": {
        "id": "MYyUyqMzYCXY"
      },
      "outputs": [],
      "source": [
        "y = {0, 2, 4, 6}"
      ]
    },
    {
      "cell_type": "markdown",
      "metadata": {
        "id": "qirj5pGvZ_ql"
      },
      "source": [
        "Script:\n",
        "* Third, you can use a set comprehension.\n",
        "* The syntax for a set comprehension is a mix between list and dictionary comprehensions.\n",
        "* Set comprehensions are enclosed by braces like dictionary comprehensions, but they only use one value like list comprehensions."
      ]
    },
    {
      "cell_type": "code",
      "execution_count": null,
      "metadata": {
        "id": "wJrY4BLlaP8k"
      },
      "outputs": [],
      "source": [
        "z = {i for i in range(20) if i % 3 == 0}"
      ]
    },
    {
      "cell_type": "code",
      "execution_count": null,
      "metadata": {
        "colab": {
          "base_uri": "https://localhost:8080/"
        },
        "id": "SG_7ENKfaX9W",
        "outputId": "52aeca5b-fc14-4b72-9803-8bb6c69c59c7"
      },
      "outputs": [
        {
          "data": {
            "text/plain": [
              "{0, 3, 6, 9, 12, 15, 18}"
            ]
          },
          "execution_count": null,
          "metadata": {},
          "output_type": "execute_result"
        }
      ],
      "source": [
        "z"
      ]
    },
    {
      "cell_type": "markdown",
      "metadata": {
        "id": "liJwHKV-aY3y"
      },
      "source": [
        "Script:\n",
        "* That set z is integers less than 20 which have remainder zero when divided by 3.\n",
        "* Once you have a set, you can modify the set using the add and remove methods to change the set one element at a time."
      ]
    },
    {
      "cell_type": "code",
      "execution_count": null,
      "metadata": {
        "colab": {
          "base_uri": "https://localhost:8080/"
        },
        "id": "CraKSu6Ba1EC",
        "outputId": "c29264ab-2b9a-4ee5-d05d-f7fcb44e0a42"
      },
      "outputs": [
        {
          "data": {
            "text/plain": [
              "{0, 2, 4, 6, 7}"
            ]
          },
          "execution_count": null,
          "metadata": {},
          "output_type": "execute_result"
        }
      ],
      "source": [
        "y.add(7)\n",
        "y"
      ]
    },
    {
      "cell_type": "code",
      "execution_count": null,
      "metadata": {
        "colab": {
          "base_uri": "https://localhost:8080/"
        },
        "id": "mnoIdjyGathW",
        "outputId": "0776fbfe-67bf-49d1-b450-b118b3decc4b"
      },
      "outputs": [
        {
          "data": {
            "text/plain": [
              "{0, 2, 4, 6}"
            ]
          },
          "execution_count": null,
          "metadata": {},
          "output_type": "execute_result"
        }
      ],
      "source": [
        "y.remove(7)\n",
        "y"
      ]
    },
    {
      "cell_type": "markdown",
      "metadata": {
        "id": "31TsNjeJbCYU"
      },
      "source": [
        "Script:\n",
        "* Beware that trying to remove an element that is not in the set will raise an exception."
      ]
    },
    {
      "cell_type": "code",
      "execution_count": null,
      "metadata": {
        "colab": {
          "base_uri": "https://localhost:8080/",
          "height": 144
        },
        "id": "YhZQRbBwbAgJ",
        "outputId": "026ed07d-4eb7-4858-85c7-28f38c10fcdb"
      },
      "outputs": [
        {
          "ename": "KeyError",
          "evalue": "7",
          "output_type": "error",
          "traceback": [
            "\u001b[0;31m---------------------------------------------------------------------------\u001b[0m",
            "\u001b[0;31mKeyError\u001b[0m                                  Traceback (most recent call last)",
            "\u001b[0;32m<ipython-input-17-222e51ca7552>\u001b[0m in \u001b[0;36m<cell line: 1>\u001b[0;34m()\u001b[0m\n\u001b[0;32m----> 1\u001b[0;31m \u001b[0my\u001b[0m\u001b[0;34m.\u001b[0m\u001b[0mremove\u001b[0m\u001b[0;34m(\u001b[0m\u001b[0;36m7\u001b[0m\u001b[0;34m)\u001b[0m\u001b[0;34m\u001b[0m\u001b[0;34m\u001b[0m\u001b[0m\n\u001b[0m",
            "\u001b[0;31mKeyError\u001b[0m: 7"
          ]
        }
      ],
      "source": [
        "y.remove(7)"
      ]
    },
    {
      "cell_type": "markdown",
      "metadata": {
        "id": "Gib9FZGjbPtf"
      },
      "source": [
        "Script:\n",
        "* You can check if an element is in a set with an in expression."
      ]
    },
    {
      "cell_type": "code",
      "execution_count": null,
      "metadata": {
        "colab": {
          "base_uri": "https://localhost:8080/"
        },
        "id": "ObDQmH_TbWas",
        "outputId": "9efad5b0-b7af-4517-8f3c-aa4c23182472"
      },
      "outputs": [
        {
          "data": {
            "text/plain": [
              "True"
            ]
          },
          "execution_count": null,
          "metadata": {},
          "output_type": "execute_result"
        }
      ],
      "source": [
        "4 in y"
      ]
    },
    {
      "cell_type": "code",
      "execution_count": null,
      "metadata": {
        "colab": {
          "base_uri": "https://localhost:8080/"
        },
        "id": "I3rTJrlVbUpz",
        "outputId": "6a23a64d-a979-414d-8a9a-46fe9adec0cc"
      },
      "outputs": [
        {
          "data": {
            "text/plain": [
              "False"
            ]
          },
          "execution_count": null,
          "metadata": {},
          "output_type": "execute_result"
        }
      ],
      "source": [
        "3 in y"
      ]
    },
    {
      "cell_type": "markdown",
      "metadata": {
        "id": "bHGCUv1mbYT1"
      },
      "source": [
        "Script:\n",
        "* And you can reverse those checks with \"not in\" expressions."
      ]
    },
    {
      "cell_type": "code",
      "execution_count": null,
      "metadata": {
        "colab": {
          "base_uri": "https://localhost:8080/"
        },
        "id": "fh-TpvCWbdti",
        "outputId": "e519b799-54ea-4f2a-9632-d4b1a821cfad"
      },
      "outputs": [
        {
          "data": {
            "text/plain": [
              "False"
            ]
          },
          "execution_count": null,
          "metadata": {},
          "output_type": "execute_result"
        }
      ],
      "source": [
        "4 not in y"
      ]
    },
    {
      "cell_type": "code",
      "execution_count": null,
      "metadata": {
        "colab": {
          "base_uri": "https://localhost:8080/"
        },
        "id": "lgi84yP1bfVB",
        "outputId": "a4b58f1b-bfb6-4aaf-dbbb-4fa26598fd93"
      },
      "outputs": [
        {
          "data": {
            "text/plain": [
              "True"
            ]
          },
          "execution_count": null,
          "metadata": {},
          "output_type": "execute_result"
        }
      ],
      "source": [
        "3 not in y"
      ]
    },
    {
      "cell_type": "markdown",
      "metadata": {
        "id": "wmeHGMwibgzw"
      },
      "source": [
        "Script:\n",
        "* By the way, not in expressions generally work anywhere that an in expression would work.\n",
        "* And they are more legible than trying to reverse an in expression."
      ]
    },
    {
      "cell_type": "code",
      "execution_count": null,
      "metadata": {
        "colab": {
          "base_uri": "https://localhost:8080/"
        },
        "id": "b3hQ0AzAbviF",
        "outputId": "d04f5249-f014-46a6-ad29-97f30fc1d9e6"
      },
      "outputs": [
        {
          "data": {
            "text/plain": [
              "True"
            ]
          },
          "execution_count": null,
          "metadata": {},
          "output_type": "execute_result"
        }
      ],
      "source": [
        "not 3 in y"
      ]
    },
    {
      "cell_type": "markdown",
      "metadata": {
        "id": "IaG-5Dxkby6h"
      },
      "source": [
        "Script:\n",
        "* When I see an expression like that, I have to stop and think about whether the not or in has higher precedence.\n",
        "* The answer is in, so this is the same as using not in, but it is better not to stop to figure that out.\n",
        "* Moving on, once you have multiple sets, you can combine them in different ways."
      ]
    },
    {
      "cell_type": "code",
      "execution_count": null,
      "metadata": {
        "colab": {
          "base_uri": "https://localhost:8080/"
        },
        "id": "K6uxEka9dO6y",
        "outputId": "bd6fe207-f539-4865-cc4f-69d06b5d3897"
      },
      "outputs": [
        {
          "data": {
            "text/plain": [
              "{0, 1, 2, 3, 4, 5}"
            ]
          },
          "execution_count": null,
          "metadata": {},
          "output_type": "execute_result"
        }
      ],
      "source": [
        "x"
      ]
    },
    {
      "cell_type": "code",
      "execution_count": null,
      "metadata": {
        "colab": {
          "base_uri": "https://localhost:8080/"
        },
        "id": "Yhv2a2FjdPw9",
        "outputId": "d09f0f22-a589-4812-cd84-563ad4349a58"
      },
      "outputs": [
        {
          "data": {
            "text/plain": [
              "{0, 2, 4, 6}"
            ]
          },
          "execution_count": null,
          "metadata": {},
          "output_type": "execute_result"
        }
      ],
      "source": [
        "y"
      ]
    },
    {
      "cell_type": "markdown",
      "metadata": {
        "id": "FL5OWqQydezW"
      },
      "source": [
        "Script:\n",
        "* The bitwise-or operator using the pipe character becomes a union operator for sets."
      ]
    },
    {
      "cell_type": "code",
      "execution_count": null,
      "metadata": {
        "colab": {
          "base_uri": "https://localhost:8080/"
        },
        "id": "Swe7bku1cdIl",
        "outputId": "6e52febb-51c8-42f5-b148-57b30a4efdaa"
      },
      "outputs": [
        {
          "data": {
            "text/plain": [
              "{0, 1, 2, 3, 4, 5, 6}"
            ]
          },
          "execution_count": null,
          "metadata": {},
          "output_type": "execute_result"
        }
      ],
      "source": [
        "# bitwise-or operator => union of sets\n",
        "x | y"
      ]
    },
    {
      "cell_type": "markdown",
      "metadata": {
        "id": "yVp4mu1odoPr"
      },
      "source": [
        "Script:\n",
        "* The bitwise-and operator using the ampersand character becomes an intersection operator for sets."
      ]
    },
    {
      "cell_type": "code",
      "execution_count": null,
      "metadata": {
        "colab": {
          "base_uri": "https://localhost:8080/"
        },
        "id": "V4N4nXuodEO6",
        "outputId": "9bab8882-92ae-4234-8107-85d2e39a4d6c"
      },
      "outputs": [
        {
          "data": {
            "text/plain": [
              "{0, 2, 4}"
            ]
          },
          "execution_count": null,
          "metadata": {},
          "output_type": "execute_result"
        }
      ],
      "source": [
        "# bitwise-and operator => intersection of sets\n",
        "x & y"
      ]
    },
    {
      "cell_type": "markdown",
      "metadata": {
        "id": "7pFq3IZHdxNe"
      },
      "source": [
        "Script:\n",
        "* Subtraction becomes set difference."
      ]
    },
    {
      "cell_type": "code",
      "execution_count": null,
      "metadata": {
        "colab": {
          "base_uri": "https://localhost:8080/"
        },
        "id": "y5Vgjc0NdKcC",
        "outputId": "8ae83099-f9fb-4cda-d991-f0d6484a4c4a"
      },
      "outputs": [
        {
          "data": {
            "text/plain": [
              "{1, 3, 5}"
            ]
          },
          "execution_count": null,
          "metadata": {},
          "output_type": "execute_result"
        }
      ],
      "source": [
        "# subtraction => set difference\n",
        "x - y"
      ]
    },
    {
      "cell_type": "markdown",
      "metadata": {
        "id": "agpNmBrDeol9"
      },
      "source": [
        "Script:\n",
        "* There are also set methods to do the same operations if you prefer the explicit descriptions over the symbols."
      ]
    },
    {
      "cell_type": "code",
      "execution_count": null,
      "metadata": {
        "colab": {
          "base_uri": "https://localhost:8080/"
        },
        "id": "2zTjunnpd4AP",
        "outputId": "38d716ad-a6f1-4be9-fc0b-06e6906aa597"
      },
      "outputs": [
        {
          "data": {
            "text/plain": [
              "['add',\n",
              " 'clear',\n",
              " 'copy',\n",
              " 'difference',\n",
              " 'difference_update',\n",
              " 'discard',\n",
              " 'intersection',\n",
              " 'intersection_update',\n",
              " 'isdisjoint',\n",
              " 'issubset',\n",
              " 'issuperset',\n",
              " 'pop',\n",
              " 'remove',\n",
              " 'symmetric_difference',\n",
              " 'symmetric_difference_update',\n",
              " 'union',\n",
              " 'update']"
            ]
          },
          "execution_count": null,
          "metadata": {},
          "output_type": "execute_result"
        }
      ],
      "source": [
        "[m for m in dir(set) if not m.startswith(\"_\")]"
      ]
    },
    {
      "cell_type": "markdown",
      "metadata": {
        "id": "_ji3cKEleNZ8"
      },
      "source": [
        "Script:\n",
        "* The previous examples match the union, intersection, and difference methods respectively.\n",
        "* For example, here is how to use the difference method.\n"
      ]
    },
    {
      "cell_type": "code",
      "execution_count": null,
      "metadata": {
        "colab": {
          "base_uri": "https://localhost:8080/"
        },
        "id": "sFN4P6pHe2Hi",
        "outputId": "052b6e94-596a-4516-d810-c67ef4bec46d"
      },
      "outputs": [
        {
          "data": {
            "text/plain": [
              "{1, 3, 5}"
            ]
          },
          "execution_count": null,
          "metadata": {},
          "output_type": "execute_result"
        }
      ],
      "source": [
        "x.difference(y)"
      ]
    },
    {
      "cell_type": "markdown",
      "metadata": {
        "id": "AjLmrMATfHh4"
      },
      "source": [
        "Script:\n",
        "* There is also a read only version of sets called frozen set.\n",
        "* The frozen set interface is the same as for sets, except for the methods that would change the set.\n"
      ]
    },
    {
      "cell_type": "code",
      "execution_count": null,
      "metadata": {
        "colab": {
          "base_uri": "https://localhost:8080/"
        },
        "id": "EObquFBAfb4d",
        "outputId": "a1f1a255-0a5c-41e6-b681-1b4ae5386967"
      },
      "outputs": [
        {
          "data": {
            "text/plain": [
              "frozenset({0, 1, 2, 3, 4, 5})"
            ]
          },
          "execution_count": null,
          "metadata": {},
          "output_type": "execute_result"
        }
      ],
      "source": [
        "frozenset(x)"
      ]
    },
    {
      "cell_type": "markdown",
      "metadata": {
        "id": "2SYzsLGtfeO1"
      },
      "source": [
        "Script:\n",
        "* In practice, frozenset is not strictly necessary, but you can use it to remind yourself that it should not change, and to block accidental updates.\n",
        "* That covers the basic functionality of built in sets.\n",
        "* See the documentation linked in the references for details on the remaining functionality."
      ]
    }
  ],
  "metadata": {
    "colab": {},
    "kernelspec": {
      "display_name": "Python 3",
      "name": "python3"
    },
    "language_info": {
      "codemirror_mode": {
        "name": "ipython",
        "version": 3
      },
      "file_extension": ".py",
      "mimetype": "text/x-python",
      "name": "python",
      "nbconvert_exporter": "python",
      "pygments_lexer": "ipython3",
      "version": "3.9.6"
    }
  },
  "nbformat": 4,
  "nbformat_minor": 0
}