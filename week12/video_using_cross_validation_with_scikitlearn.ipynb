{
  "cells": [
    {
      "cell_type": "markdown",
      "metadata": {
        "id": "yHrte-7E6W9I"
      },
      "source": [
        "# Video: Using Cross Validation with Scikit-Learn\n",
        "\n",
        "This video shows how to use scikit-learn's support for cross validation."
      ]
    },
    {
      "cell_type": "code",
      "execution_count": null,
      "metadata": {
        "id": "0rYvU69HLjhi"
      },
      "outputs": [],
      "source": [
        "import pandas as pd"
      ]
    },
    {
      "cell_type": "code",
      "execution_count": null,
      "metadata": {
        "id": "3VQoJVHdLplp"
      },
      "outputs": [],
      "source": [
        "abalone = pd.read_csv(\"https://raw.githubusercontent.com/bu-cds-omds/dx602-examples/main/data/abalone.tsv\", sep=\"\\t\")"
      ]
    },
    {
      "cell_type": "code",
      "execution_count": null,
      "metadata": {
        "id": "Q2TyhxIKLwqR"
      },
      "outputs": [],
      "source": [
        "abalone_target = abalone[\"Rings\"]\n",
        "abalone_features = abalone.drop([\"Rings\", \"Sex\"], axis=1)"
      ]
    },
    {
      "cell_type": "markdown",
      "metadata": {
        "id": "ZkR_y3wFPVPa"
      },
      "source": [
        "Script:\n",
        "* Scikit-learn includes a number of classes and functions to support cross validation.\n",
        "* I will show you the `cross_validate` function now.\n",
        "* This function will wraps up the built-in classes for handling $k$ folds and will automatically use a fancier splitting method for stratified sampling to make sure classes are evenly distributed if that is appropriate."
      ]
    },
    {
      "cell_type": "code",
      "execution_count": null,
      "metadata": {
        "id": "jAGV5QUwRNA9"
      },
      "outputs": [],
      "source": [
        "from sklearn.model_selection import train_test_split"
      ]
    },
    {
      "cell_type": "code",
      "execution_count": null,
      "metadata": {
        "id": "zRnMkYtRPaGJ"
      },
      "outputs": [],
      "source": [
        "from sklearn.model_selection import cross_validate"
      ]
    },
    {
      "cell_type": "markdown",
      "metadata": {
        "id": "K0wfxPspQBIJ"
      },
      "source": [
        "Script:\n",
        "* Like the `train_test_split` function, `cross_validate` is in the subpackage `sklearn.model_selection`.\n",
        "* I will repeat the train test split from a previous video, and demonstrate the use of the cross validate function to pick between linear models, and a couple decision tree choices."
      ]
    },
    {
      "cell_type": "code",
      "execution_count": null,
      "metadata": {
        "id": "rpQkc4hNMo3Z"
      },
      "outputs": [],
      "source": [
        "train_features, test_features, train_target, test_target = train_test_split(abalone_features, abalone_target, test_size=0.2, random_state=2024)"
      ]
    },
    {
      "cell_type": "code",
      "execution_count": null,
      "metadata": {
        "colab": {
          "base_uri": "https://localhost:8080/"
        },
        "id": "adz9ZLHdMA9C",
        "outputId": "95bfc4da-2a52-4b68-b5e9-71d6409973f5"
      },
      "outputs": [
        {
          "data": {
            "text/plain": [
              "{'fit_time': array([0.03686595, 0.04597354, 0.03516054, 0.01233387, 0.00497794]),\n",
              " 'score_time': array([0.01032877, 0.00903773, 0.00328207, 0.00370979, 0.00520945]),\n",
              " 'test_score': array([0.56422239, 0.5031016 , 0.54365272, 0.53685935, 0.49316824])}"
            ]
          },
          "execution_count": null,
          "metadata": {},
          "output_type": "execute_result"
        }
      ],
      "source": [
        "import sklearn.linear_model\n",
        "\n",
        "linear_model = sklearn.linear_model.LinearRegression()\n",
        "linear_model_cv = cross_validate(linear_model, train_features, train_target)\n",
        "linear_model_cv"
      ]
    },
    {
      "cell_type": "markdown",
      "metadata": {
        "id": "G3p27M0hQh_e"
      },
      "source": [
        "Script:\n",
        "* The `cross_validate` function takes in a model, features, and a target, and has many optional features which I will skip now.\n",
        "* The model does not need to be trained.\n",
        "* In fact, you are expected to provide an untrained model which will be copied for each fold of the cross validation.\n",
        "* The output from `cross_validate` has some stats on the running time, and a `test_score` key with validation losses per fold.\n",
        "* That `test_score` key is what we are looking for.\n",
        "* Let's take the average of those values."
      ]
    },
    {
      "cell_type": "code",
      "execution_count": null,
      "metadata": {
        "colab": {
          "base_uri": "https://localhost:8080/"
        },
        "id": "_T8mE38EOG1E",
        "outputId": "8039a695-0162-42b9-b628-1564e009e45f"
      },
      "outputs": [
        {
          "data": {
            "text/plain": [
              "0.5282008608429815"
            ]
          },
          "execution_count": null,
          "metadata": {},
          "output_type": "execute_result"
        }
      ],
      "source": [
        "linear_model_cv['test_score'].mean()"
      ]
    },
    {
      "cell_type": "markdown",
      "metadata": {
        "id": "IYgqfIIkRajb"
      },
      "source": [
        "Script:\n",
        "* Let's repeat with a decision tree next."
      ]
    },
    {
      "cell_type": "code",
      "execution_count": null,
      "metadata": {
        "colab": {
          "base_uri": "https://localhost:8080/"
        },
        "id": "1Os-XzM4MKXQ",
        "outputId": "8678f7a9-6a74-44c2-d8f8-19a4beaff1b4"
      },
      "outputs": [
        {
          "data": {
            "text/plain": [
              "{'fit_time': array([0.05203772, 0.03475904, 0.04750347, 0.03187346, 0.11232376]),\n",
              " 'score_time': array([0.00450063, 0.00859714, 0.00474834, 0.00442433, 0.01538777]),\n",
              " 'test_score': array([0.17903315, 0.26667689, 0.12970868, 0.02829154, 0.13862586])}"
            ]
          },
          "execution_count": null,
          "metadata": {},
          "output_type": "execute_result"
        }
      ],
      "source": [
        "import sklearn.tree\n",
        "\n",
        "decision_tree_model = sklearn.tree.DecisionTreeRegressor()\n",
        "decision_tree_cv = cross_validate(decision_tree_model, train_features, train_target)\n",
        "decision_tree_cv"
      ]
    },
    {
      "cell_type": "code",
      "execution_count": null,
      "metadata": {
        "colab": {
          "base_uri": "https://localhost:8080/"
        },
        "id": "bcX7aey3MUvh",
        "outputId": "82f5e886-42dc-4031-da0c-48c21609de2f"
      },
      "outputs": [
        {
          "data": {
            "text/plain": [
              "0.1484672244623154"
            ]
          },
          "execution_count": null,
          "metadata": {},
          "output_type": "execute_result"
        }
      ],
      "source": [
        "decision_tree_cv['test_score'].mean()"
      ]
    },
    {
      "cell_type": "markdown",
      "metadata": {
        "id": "bUy49LhkRk-Q"
      },
      "source": [
        "Script:\n",
        "* That's a lot worse than the linear model.\n",
        "* I will make one more decision tree with some tweaks to generalize better.\n",
        "* You do not need to understand how this tweak works now."
      ]
    },
    {
      "cell_type": "code",
      "execution_count": null,
      "metadata": {
        "colab": {
          "base_uri": "https://localhost:8080/"
        },
        "id": "d8OGpg_2Okl2",
        "outputId": "15228f26-9341-462c-8d82-9deb6e676528"
      },
      "outputs": [
        {
          "data": {
            "text/plain": [
              "{'fit_time': array([0.00871205, 0.00624514, 0.0075264 , 0.00717497, 0.00568771]),\n",
              " 'score_time': array([0.00295758, 0.00264716, 0.00366211, 0.00299931, 0.00235558]),\n",
              " 'test_score': array([0.36439348, 0.35201534, 0.3657017 , 0.35338235, 0.36565501])}"
            ]
          },
          "execution_count": null,
          "metadata": {},
          "output_type": "execute_result"
        }
      ],
      "source": [
        "decision_tree_model_2 = sklearn.tree.DecisionTreeRegressor(max_depth=2)\n",
        "decision_tree_cv_2 = cross_validate(decision_tree_model_2, train_features, train_target)\n",
        "decision_tree_cv_2"
      ]
    },
    {
      "cell_type": "code",
      "execution_count": null,
      "metadata": {
        "colab": {
          "base_uri": "https://localhost:8080/"
        },
        "id": "-ZltbRbmOy3H",
        "outputId": "ff2a3e76-6ed2-4260-8113-68ec016a6057"
      },
      "outputs": [
        {
          "data": {
            "text/plain": [
              "0.36022957492304175"
            ]
          },
          "execution_count": null,
          "metadata": {},
          "output_type": "execute_result"
        }
      ],
      "source": [
        "decision_tree_cv_2['test_score'].mean()"
      ]
    },
    {
      "cell_type": "markdown",
      "metadata": {
        "id": "S9fOEdNJR41H"
      },
      "source": [
        "Script:\n",
        "* That is better than the original decision tree, but worse than the linear regression.\n",
        "* Based on these validation losses, the original decision tree is the worst, then the second decision tree is better, and the linear model is best.\n",
        "* Let's build the full models now.\n",
        "* Before I do that, I should emphasize that the proper practice would be to just go with the linear model and test just that one, but I will show you the others so you see how we would avoid bad choices."
      ]
    },
    {
      "cell_type": "code",
      "execution_count": null,
      "metadata": {
        "colab": {
          "base_uri": "https://localhost:8080/"
        },
        "id": "QMoOI4MDOXZi",
        "outputId": "e5be9a2c-9e50-496e-88a3-9aa4f6aa4555"
      },
      "outputs": [
        {
          "data": {
            "text/plain": [
              "0.03210371681153401"
            ]
          },
          "execution_count": null,
          "metadata": {},
          "output_type": "execute_result"
        }
      ],
      "source": [
        "decision_tree_model.fit(train_features, train_target)\n",
        "decision_tree_model.score(test_features, test_target)"
      ]
    },
    {
      "cell_type": "markdown",
      "metadata": {
        "id": "f3MGut5tSgsG"
      },
      "source": [
        "Script:\n",
        "* That's even worse than the previous 15%."
      ]
    },
    {
      "cell_type": "code",
      "execution_count": null,
      "metadata": {
        "colab": {
          "base_uri": "https://localhost:8080/"
        },
        "id": "2p4LNnYKO8Lb",
        "outputId": "8a0a3305-f59d-4408-835b-42ec733eb08c"
      },
      "outputs": [
        {
          "data": {
            "text/plain": [
              "0.3185606188329424"
            ]
          },
          "execution_count": null,
          "metadata": {},
          "output_type": "execute_result"
        }
      ],
      "source": [
        "decision_tree_model_2.fit(train_features, train_target)\n",
        "decision_tree_model_2.score(test_features, test_target)"
      ]
    },
    {
      "cell_type": "markdown",
      "metadata": {
        "id": "DipTN6G7SpHf"
      },
      "source": [
        "Script:\n",
        "* In comparison to the previous 36% in validation, this decision tree is relatively close.\n",
        "* Just 4% off."
      ]
    },
    {
      "cell_type": "code",
      "execution_count": null,
      "metadata": {
        "colab": {
          "base_uri": "https://localhost:8080/"
        },
        "id": "PGKwrCGKNoj9",
        "outputId": "e9319725-3ac1-46aa-dab9-089fa701afc0"
      },
      "outputs": [
        {
          "data": {
            "text/plain": [
              "0.47997882018702587"
            ]
          },
          "execution_count": null,
          "metadata": {},
          "output_type": "execute_result"
        }
      ],
      "source": [
        "linear_model.fit(train_features, train_target)\n",
        "linear_model.score(test_features, test_target)"
      ]
    },
    {
      "cell_type": "markdown",
      "metadata": {
        "id": "ZabG0qETS05t"
      },
      "source": [
        "Script:\n",
        "* The linear model is also relatively close to the previous 53% in validation.\n",
        "* So while the test scores all dropped compared to their validation scores, and the first decision tree dropped a huge amount, the orders were maintained between the different model parameter choices.\n",
        "* We do not expect the orders to be exactly the same, but we hope that the one that is best in validation is close to the best on test.\n"
      ]
    }
  ],
  "metadata": {
    "colab": {},
    "kernelspec": {
      "display_name": "Python 3",
      "name": "python3"
    },
    "language_info": {
      "codemirror_mode": {
        "name": "ipython",
        "version": 3
      },
      "file_extension": ".py",
      "mimetype": "text/x-python",
      "name": "python",
      "nbconvert_exporter": "python",
      "pygments_lexer": "ipython3",
      "version": "3.9.6"
    }
  },
  "nbformat": 4,
  "nbformat_minor": 0
}