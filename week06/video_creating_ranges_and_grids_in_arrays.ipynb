{
  "cells": [
    {
      "cell_type": "markdown",
      "metadata": {
        "id": "g5KybKnAFqc-"
      },
      "source": [
        "# Video: Creating Ranges and Grids in Arrays\n",
        "\n",
        "This video gives examples of creating arrays with numbers spanning a given range at regular intervals.\n",
        "This will generalize the use of the range function that you have already seen drive function inputs, particularly for making charts."
      ]
    },
    {
      "cell_type": "markdown",
      "metadata": {
        "id": "H55v1Cxq4F89"
      },
      "source": [
        "Script:\n",
        "* If you have been paying attention to the example code for making charts in this module, you probably noticed the use of the range function to generate data for charts.\n",
        "* Here is an example to refresh your memory."
      ]
    },
    {
      "cell_type": "code",
      "execution_count": null,
      "metadata": {
        "id": "oElvULd_V8NK"
      },
      "outputs": [],
      "source": [
        "import matplotlib.pyplot as plt\n",
        "import numpy as np"
      ]
    },
    {
      "cell_type": "code",
      "execution_count": null,
      "metadata": {
        "colab": {
          "base_uri": "https://localhost:8080/",
          "height": 448
        },
        "id": "a7HNr0Ht4c1g",
        "outputId": "43ac34a0-a1c7-435b-fed1-f67b5edfb9e6"
      },
      "outputs": [
        {
          "data": {
            "text/plain": [
              "[<matplotlib.lines.Line2D at 0x7c7c7539f3d0>]"
            ]
          },
          "execution_count": null,
          "metadata": {},
          "output_type": "execute_result"
        },
        {
          "data": {
            "image/png": "[encoded data removed]",
            "text/plain": [
              "<Figure size 640x480 with 1 Axes>"
            ]
          },
          "execution_count": null,
          "metadata": {},
          "output_type": "display_data"
        }
      ],
      "source": [
        "plt.plot(range(10), [x**2 for x in range(10)], \"*\")"
      ]
    },
    {
      "cell_type": "markdown",
      "metadata": {
        "id": "_9Abghbn4oAe"
      },
      "source": [
        "Script:\n",
        "* In this example, the range function returns an iterator whose values are 0 through 9.\n",
        "* The range function is directly used for the x coordinates in that plot.\n",
        "* The same range call is used in the list comprehension generating the y coordinates.\n",
        "* For this plot, I added that extra parameter, the string with the character asterisk, to change it from a line chart to marking the points individually.\n",
        "* That change was so you could see the exact values calculated for each example.\n",
        "* If you paid really close attention to the chart code, then you might have noticed another function being used instead of range.\n",
        "* For the wavy line example in week 4, a different function, numpy dot linspace was used."
      ]
    },
    {
      "cell_type": "code",
      "execution_count": null,
      "metadata": {
        "colab": {
          "base_uri": "https://localhost:8080/",
          "height": 448
        },
        "id": "I26qlff_5r1b",
        "outputId": "f74fad3f-5053-4ae2-ecd5-4249039e6b40"
      },
      "outputs": [
        {
          "data": {
            "text/plain": [
              "[<matplotlib.lines.Line2D at 0x7c7c752f55a0>]"
            ]
          },
          "execution_count": null,
          "metadata": {},
          "output_type": "execute_result"
        },
        {
          "data": {
            "image/png": "[encoded data removed]",
            "text/plain": [
              "<Figure size 640x480 with 1 Axes>"
            ]
          },
          "execution_count": null,
          "metadata": {},
          "output_type": "display_data"
        }
      ],
      "source": [
        "xs = np.linspace(0, 10)\n",
        "\n",
        "plt.plot(xs, [x**2 for x in xs], \"*\")"
      ]
    },
    {
      "cell_type": "markdown",
      "metadata": {
        "id": "eyU1yUjI53PC"
      },
      "source": [
        "Script:\n",
        "* Using linspace, we get a similar looking chart, but with a lot more points.\n",
        "* What does the linspace output look like?"
      ]
    },
    {
      "cell_type": "code",
      "execution_count": null,
      "metadata": {
        "colab": {
          "base_uri": "https://localhost:8080/"
        },
        "id": "sb1P3DyW6CLZ",
        "outputId": "15d90b24-9574-40bb-98c5-b8839e6172f1"
      },
      "outputs": [
        {
          "data": {
            "text/plain": [
              "array([ 0.        ,  0.20408163,  0.40816327,  0.6122449 ,  0.81632653,\n",
              "        1.02040816,  1.2244898 ,  1.42857143,  1.63265306,  1.83673469,\n",
              "        2.04081633,  2.24489796,  2.44897959,  2.65306122,  2.85714286,\n",
              "        3.06122449,  3.26530612,  3.46938776,  3.67346939,  3.87755102,\n",
              "        4.08163265,  4.28571429,  4.48979592,  4.69387755,  4.89795918,\n",
              "        5.10204082,  5.30612245,  5.51020408,  5.71428571,  5.91836735,\n",
              "        6.12244898,  6.32653061,  6.53061224,  6.73469388,  6.93877551,\n",
              "        7.14285714,  7.34693878,  7.55102041,  7.75510204,  7.95918367,\n",
              "        8.16326531,  8.36734694,  8.57142857,  8.7755102 ,  8.97959184,\n",
              "        9.18367347,  9.3877551 ,  9.59183673,  9.79591837, 10.        ])"
            ]
          },
          "execution_count": null,
          "metadata": {},
          "output_type": "execute_result"
        }
      ],
      "source": [
        "xs"
      ]
    },
    {
      "cell_type": "code",
      "execution_count": null,
      "metadata": {
        "colab": {
          "base_uri": "https://localhost:8080/"
        },
        "id": "1DErAZ156EUK",
        "outputId": "a0736127-796f-4eda-9e73-52b8b35a289e"
      },
      "outputs": [
        {
          "data": {
            "text/plain": [
              "(50,)"
            ]
          },
          "execution_count": null,
          "metadata": {},
          "output_type": "execute_result"
        }
      ],
      "source": [
        "xs.shape"
      ]
    },
    {
      "cell_type": "markdown",
      "metadata": {
        "id": "1rxTzqWH6Hb1"
      },
      "source": [
        "Script:\n",
        "* Numpy dot linspace returns an array of numbers.\n",
        "* The first number is the first argument.\n",
        "* The last number is the second argument.\n",
        "* The default output size is 50.\n",
        "* And the numbers in the middle are linearly interpolated between them.\n",
        "* So they are evenly spaced in the range between the first and last numbers.\n",
        "* You can override the output size too, if you want more numbers closer together, or fewer farther apart.\n"
      ]
    },
    {
      "cell_type": "code",
      "execution_count": null,
      "metadata": {
        "colab": {
          "base_uri": "https://localhost:8080/"
        },
        "id": "jkOWlPQf6_FH",
        "outputId": "af36a0f1-d252-4315-b048-ed0ab1b1042f"
      },
      "outputs": [
        {
          "data": {
            "text/plain": [
              "array([ 0. ,  2.5,  5. ,  7.5, 10. ])"
            ]
          },
          "execution_count": null,
          "metadata": {},
          "output_type": "execute_result"
        }
      ],
      "source": [
        "np.linspace(0, 10, 5)"
      ]
    },
    {
      "cell_type": "markdown",
      "metadata": {
        "id": "Yl5UNWTC7GEf"
      },
      "source": [
        "Script:\n",
        "* Numpy dot linspace is somewhat similar to the Python range function, with a few important differences.\n",
        "* With linspace, you specify the end points, and the number of points.\n",
        "* With range, you specify the start number, the number to stop before, and the spacing between them.\n",
        "* Here are some similar calls to compare."
      ]
    },
    {
      "cell_type": "code",
      "execution_count": null,
      "metadata": {
        "colab": {
          "base_uri": "https://localhost:8080/"
        },
        "id": "jB1Nr0Ga7jub",
        "outputId": "f9336d0c-6aab-4678-ee8b-5428e3f199a2"
      },
      "outputs": [
        {
          "data": {
            "text/plain": [
              "array([ 0.,  1.,  2.,  3.,  4.,  5.,  6.,  7.,  8.,  9., 10.])"
            ]
          },
          "execution_count": null,
          "metadata": {},
          "output_type": "execute_result"
        }
      ],
      "source": [
        "np.linspace(0, 10, 11)"
      ]
    },
    {
      "cell_type": "code",
      "execution_count": null,
      "metadata": {
        "colab": {
          "base_uri": "https://localhost:8080/"
        },
        "id": "KJf4FU4O7oEf",
        "outputId": "270fdcaf-98ae-4d9c-ad83-ca61b7547087"
      },
      "outputs": [
        {
          "data": {
            "text/plain": [
              "[0, 1, 2, 3, 4, 5, 6, 7, 8, 9]"
            ]
          },
          "execution_count": null,
          "metadata": {},
          "output_type": "execute_result"
        }
      ],
      "source": [
        "list(range(0, 10))"
      ]
    },
    {
      "cell_type": "markdown",
      "metadata": {
        "id": "FMPIyuBi73lV"
      },
      "source": [
        "Script:\n",
        "* Linspace includes the end value, while range does not.\n",
        "* Linspace defaults to floating point values, while range only works with integers.\n",
        "* Here's one more example spacing out the points more."
      ]
    },
    {
      "cell_type": "code",
      "execution_count": null,
      "metadata": {
        "colab": {
          "base_uri": "https://localhost:8080/"
        },
        "id": "NYzUboyC8VcE",
        "outputId": "b03262ed-4234-413b-e811-1f7e8669c7ed"
      },
      "outputs": [
        {
          "data": {
            "text/plain": [
              "array([ 0.,  2.,  4.,  6.,  8., 10.])"
            ]
          },
          "execution_count": null,
          "metadata": {},
          "output_type": "execute_result"
        }
      ],
      "source": [
        "np.linspace(0, 10, 6)"
      ]
    },
    {
      "cell_type": "code",
      "execution_count": null,
      "metadata": {
        "colab": {
          "base_uri": "https://localhost:8080/"
        },
        "id": "T-c-Qn5N8bQR",
        "outputId": "ca85d73a-f024-4189-eb6e-94d320fe0525"
      },
      "outputs": [
        {
          "data": {
            "text/plain": [
              "[0, 2, 4, 6, 8]"
            ]
          },
          "execution_count": null,
          "metadata": {},
          "output_type": "execute_result"
        }
      ],
      "source": [
        "list(range(0, 10, 2))"
      ]
    },
    {
      "cell_type": "markdown",
      "metadata": {
        "id": "73P6c8xp8OjJ"
      },
      "source": [
        "Script:\n",
        "* So you see the spacing is controlled differently.\n",
        "* The spacing is explicit for range, and computed with division for linspace.\n",
        "* If you want something just like range in an array, Numpy has a function arange.\n",
        "* The output of arange is much closer to the range function, and it can handle floating point too."
      ]
    },
    {
      "cell_type": "code",
      "execution_count": null,
      "metadata": {
        "colab": {
          "base_uri": "https://localhost:8080/"
        },
        "id": "RvaavxrD9DFx",
        "outputId": "7436ead1-506d-4128-e61c-1384716b80b0"
      },
      "outputs": [
        {
          "data": {
            "text/plain": [
              "array([0, 2, 4, 6, 8])"
            ]
          },
          "execution_count": null,
          "metadata": {},
          "output_type": "execute_result"
        }
      ],
      "source": [
        "np.arange(0, 10, 2)"
      ]
    },
    {
      "cell_type": "code",
      "execution_count": null,
      "metadata": {
        "colab": {
          "base_uri": "https://localhost:8080/"
        },
        "id": "-1chFN8S9HKD",
        "outputId": "79d445fc-7c6e-4c1c-a7db-b8defbe98629"
      },
      "outputs": [
        {
          "data": {
            "text/plain": [
              "array([0., 2., 4., 6., 8.])"
            ]
          },
          "execution_count": null,
          "metadata": {},
          "output_type": "execute_result"
        }
      ],
      "source": [
        "np.arange(0, 10, 2, dtype=\"float64\")"
      ]
    },
    {
      "cell_type": "markdown",
      "metadata": {
        "id": "S7HN6yJI7smC"
      },
      "source": [
        "Script:\n",
        "* Which one makes sense will depend a bit on the context.\n",
        "* For driving charts, I usually prefer linspace since setting the end points is more intuitive to me."
      ]
    }
  ],
  "metadata": {
    "colab": {},
    "kernelspec": {
      "display_name": "Python 3",
      "name": "python3"
    },
    "language_info": {
      "codemirror_mode": {
        "name": "ipython",
        "version": 3
      },
      "file_extension": ".py",
      "mimetype": "text/x-python",
      "name": "python",
      "nbconvert_exporter": "python",
      "pygments_lexer": "ipython3",
      "version": "3.9.6"
    }
  },
  "nbformat": 4,
  "nbformat_minor": 0
}