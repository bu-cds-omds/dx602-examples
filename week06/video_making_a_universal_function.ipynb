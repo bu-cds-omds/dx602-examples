{
  "cells": [
    {
      "cell_type": "markdown",
      "metadata": {
        "id": "qALTuNkyw4Sg"
      },
      "source": [
        "# Video: Making a Universal Function\n",
        "\n",
        "This video shows an example of making and testing a universal function to illustrate how NumPy builds up broad array and broadcast support from a simple function."
      ]
    },
    {
      "cell_type": "code",
      "execution_count": null,
      "metadata": {
        "id": "o3irXsgKzd64"
      },
      "outputs": [],
      "source": [
        "import numpy as np\n",
        "\n",
        "def my_add(x, y):\n",
        "    return x + y\n"
      ]
    },
    {
      "cell_type": "code",
      "execution_count": null,
      "metadata": {
        "id": "0HMSi-7X2U4F"
      },
      "outputs": [],
      "source": [
        "universal_my_add = np.frompyfunc(my_add, 2, 1)"
      ]
    },
    {
      "cell_type": "code",
      "execution_count": null,
      "metadata": {
        "colab": {
          "base_uri": "https://localhost:8080/"
        },
        "id": "DzO236QCzuVI",
        "outputId": "c7a9248a-dad2-4d8b-c32d-4256521c3e77"
      },
      "outputs": [
        {
          "data": {
            "text/plain": [
              "array([[ 0,  5, 10],\n",
              "       [ 3,  7, 11]])"
            ]
          },
          "execution_count": null,
          "metadata": {},
          "output_type": "execute_result"
        }
      ],
      "source": [
        "x = np.array([[0, 5, 10], [3, 7, 11]])\n",
        "x"
      ]
    },
    {
      "cell_type": "code",
      "execution_count": null,
      "metadata": {
        "colab": {
          "base_uri": "https://localhost:8080/"
        },
        "id": "EyE7SD2ez3Me",
        "outputId": "a690dbf1-7f79-492c-8f41-97bee3091495"
      },
      "outputs": [
        {
          "data": {
            "text/plain": [
              "array([[0, 10, 20],\n",
              "       [6, 14, 22]], dtype=object)"
            ]
          },
          "execution_count": null,
          "metadata": {},
          "output_type": "execute_result"
        }
      ],
      "source": [
        "universal_my_add(x, x)"
      ]
    },
    {
      "cell_type": "code",
      "execution_count": null,
      "metadata": {
        "colab": {
          "base_uri": "https://localhost:8080/"
        },
        "id": "T3hj7jR31Tpu",
        "outputId": "ebf34f81-94db-4343-f81c-92b69301b2a8"
      },
      "outputs": [
        {
          "data": {
            "text/plain": [
              "array([3, 12, 21], dtype=object)"
            ]
          },
          "execution_count": null,
          "metadata": {},
          "output_type": "execute_result"
        }
      ],
      "source": [
        "universal_my_add.reduce(x)"
      ]
    },
    {
      "cell_type": "code",
      "execution_count": null,
      "metadata": {
        "colab": {
          "base_uri": "https://localhost:8080/"
        },
        "id": "MdY_wisH3ud_",
        "outputId": "cdbcb3b5-a76b-4527-d8c5-13b56d41f51d"
      },
      "outputs": [
        {
          "data": {
            "text/plain": [
              "array([15, 21], dtype=object)"
            ]
          },
          "execution_count": null,
          "metadata": {},
          "output_type": "execute_result"
        }
      ],
      "source": [
        "universal_my_add.reduce(x, axis=1)"
      ]
    },
    {
      "cell_type": "code",
      "execution_count": null,
      "metadata": {
        "colab": {
          "base_uri": "https://localhost:8080/"
        },
        "id": "A81jBw651sRv",
        "outputId": "8cb8bccb-74ab-496c-91d5-eaa98917d4f4"
      },
      "outputs": [
        {
          "data": {
            "text/plain": [
              "<numpy.vectorize at 0x7c7c751228c0>"
            ]
          },
          "execution_count": null,
          "metadata": {},
          "output_type": "execute_result"
        }
      ],
      "source": [
        "vectorized_my_add = np.vectorize(my_add, otypes=[\"float64\"])\n",
        "vectorized_my_add"
      ]
    },
    {
      "cell_type": "code",
      "execution_count": null,
      "metadata": {
        "colab": {
          "base_uri": "https://localhost:8080/"
        },
        "id": "hc2soJF31-Rs",
        "outputId": "3b7b053d-90fd-4346-ca6d-c9073ccf5e3e"
      },
      "outputs": [
        {
          "data": {
            "text/plain": [
              "array([[ 0., 10., 20.],\n",
              "       [ 6., 14., 22.]])"
            ]
          },
          "execution_count": null,
          "metadata": {},
          "output_type": "execute_result"
        }
      ],
      "source": [
        "vectorized_my_add(x, x)"
      ]
    },
    {
      "cell_type": "code",
      "execution_count": null,
      "metadata": {
        "colab": {
          "base_uri": "https://localhost:8080/"
        },
        "id": "g7ua-alT2BqB",
        "outputId": "830c1bd0-f76f-410f-9413-11ce30ba094b"
      },
      "outputs": [
        {
          "data": {
            "text/plain": [
              "array([[101., 102., 103.],\n",
              "       [201., 202., 203.],\n",
              "       [301., 302., 303.]])"
            ]
          },
          "execution_count": null,
          "metadata": {},
          "output_type": "execute_result"
        }
      ],
      "source": [
        "vectorized_my_add([[1, 2, 3]], [[100], [200], [300]])"
      ]
    }
  ],
  "metadata": {
    "colab": {},
    "kernelspec": {
      "display_name": "Python 3",
      "name": "python3"
    },
    "language_info": {
      "codemirror_mode": {
        "name": "ipython",
        "version": 3
      },
      "file_extension": ".py",
      "mimetype": "text/x-python",
      "name": "python",
      "nbconvert_exporter": "python",
      "pygments_lexer": "ipython3",
      "version": "3.9.6"
    }
  },
  "nbformat": 4,
  "nbformat_minor": 0
}