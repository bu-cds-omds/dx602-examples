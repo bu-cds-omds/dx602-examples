{
 "cells": [
  {
   "cell_type": "code",
   "execution_count": 118,
   "id": "8db9714e",
   "metadata": {},
   "outputs": [],
   "source": [
    "import numpy as np\n",
    "import matplotlib.pyplot as plt\n"
   ]
  },
  {
   "cell_type": "markdown",
   "id": "c60afa95",
   "metadata": {},
   "source": [
    "Basic np.arrays:\n",
    "- creation, arithmetic\n",
    "- element-wise product, dot product\n",
    "- aggregate functions: sum, mean, std"
   ]
  },
  {
   "cell_type": "code",
   "execution_count": 129,
   "id": "e2b769f5",
   "metadata": {},
   "outputs": [
    {
     "name": "stdout",
     "output_type": "stream",
     "text": [
      "a = [1 2 3 4 5], b = [10  9  8  7  6]\n",
      "sum = 15\n",
      "mean = 3.0\n",
      "std = 1.4142135623730951\n"
     ]
    }
   ],
   "source": [
    "# np.array from list or range\n",
    "a = np.array([1,2,3,4,5])\n",
    "b = np.array([10,9,8,7,6])\n",
    "print(f'a = {a}, b = {b}')\n",
    "# a = a * 4\n",
    "\n",
    "# element-wise operation\n",
    "# c = a + b\n",
    "# c = a * b # element-wise multiplication\n",
    "c = a @ b # dot-product multiplication\n",
    "# print(f'c = {c}')\n",
    "\n",
    "# aggregate operations\n",
    "print(f'sum = {a.sum()}')\n",
    "print(f'mean = {a.mean()}')\n",
    "print(f'std = {a.std()}')\n",
    "\n",
    "\n"
   ]
  },
  {
   "cell_type": "markdown",
   "id": "d5afc5d5",
   "metadata": {},
   "source": [
    "Generating sequences:\n",
    "- np.zeros, np.ones, np.full, np.random\n",
    "- np.arange, np.linspace\n",
    "- from list comprehensions"
   ]
  },
  {
   "cell_type": "code",
   "execution_count": 196,
   "id": "be4edab6",
   "metadata": {},
   "outputs": [
    {
     "name": "stdout",
     "output_type": "stream",
     "text": [
      "[1.   1.25 1.5  1.75 2.   2.25 2.5  2.75 3.   3.25 3.5  3.75 4.   4.25\n",
      " 4.5  4.75]\n",
      "[1.         1.1025641  1.20512821 1.30769231 1.41025641 1.51282051\n",
      " 1.61538462 1.71794872 1.82051282 1.92307692 2.02564103 2.12820513\n",
      " 2.23076923 2.33333333 2.43589744 2.53846154 2.64102564 2.74358974\n",
      " 2.84615385 2.94871795 3.05128205 3.15384615 3.25641026 3.35897436\n",
      " 3.46153846 3.56410256 3.66666667 3.76923077 3.87179487 3.97435897\n",
      " 4.07692308 4.17948718 4.28205128 4.38461538 4.48717949 4.58974359\n",
      " 4.69230769 4.79487179 4.8974359  5.        ]\n"
     ]
    }
   ],
   "source": [
    "z = np.zeros(shape=(5,3))\n",
    "# print(f'z = {z}')\n",
    "o = np.ones(shape=(2,10))\n",
    "# print(f'o = {o}')\n",
    "values = (2, 5, 13) # image that your p16 function returns this tuple\n",
    "rows, cols, value = values # simultaneous assignment\n",
    "f = np.full((rows, cols), value) # 2x5 array filled with the value 13\n",
    "# print(f'f = {f}')\n",
    "\n",
    "r = np.random.random((10,10) )\n",
    "# print(f'r = {r}')\n",
    "# print(f'mean of r: {r.mean()}')\n",
    "\n",
    "# values = list(range(10)) # obtain a list of values\n",
    "# values = np.array(range(10)) # obtain an array of values\n",
    "# values = np.arange(10) # directly creates an array of values in a range-like sequence\n",
    "# print(values)\n",
    "# values = values * 5\n",
    "# print(values)\n",
    "\n",
    "# a sequence of floating point numbers\n",
    "# values = np.array([ i / 100 for i in range(101)])\n",
    "# values = np.linspace(0, 1, 101) # start at 0, stop at 1, with 101 steps\n",
    "# values = np.linspace(1, 5, 23) \n",
    "# print(values)\n",
    "\n",
    "\n",
    "# arange:\n",
    "print(np.arange(1, 5, 0.25)) # increments of 0.25\n",
    "print(np.linspace(1, 5, 40)) # give me 40 discrete steps"
   ]
  },
  {
   "cell_type": "markdown",
   "id": "a92d024a",
   "metadata": {},
   "source": [
    "Row/column operations\n",
    "- indexing\n",
    "- sum by row/column axis\n"
   ]
  },
  {
   "cell_type": "code",
   "execution_count": null,
   "id": "2e41b8a1",
   "metadata": {},
   "outputs": [
    {
     "name": "stdout",
     "output_type": "stream",
     "text": [
      "values[3] = [ 4  8 12 16 20]\n",
      "values[2,3] = 12\n",
      "values[0:2, 0:2] = \n",
      " [[1 2]\n",
      " [2 4]]\n",
      "values[:, 2] = \n",
      " [[ 3]\n",
      " [ 6]\n",
      " [ 9]\n",
      " [12]]\n"
     ]
    }
   ],
   "source": [
    "# row/column operations\n",
    "values = np.array([[ i*j for i in range(1, 6)] \n",
    "                          for j in range(1, 5)] )\n",
    "# print(values)\n",
    "print(f'values[3] = {values[3]}') # index row 3\n",
    "print(f'values[2,3] = {values[2,3]}') # indexing the value at row 2, col 3\n",
    "print(f'values[0:2, 0:2] = \\n {values[0:2, 0:2]}') # slice rows 0:2 and cols 0:2\n",
    "\n",
    "# extract a column of values\n",
    "print(f'values[:, 2:3] = \\n {values[:, 2:3]}') # full slice of all rows, column 2 only \n"
   ]
  },
  {
   "cell_type": "markdown",
   "id": "995ff57c",
   "metadata": {},
   "source": [
    "Broadcasting"
   ]
  },
  {
   "cell_type": "code",
   "execution_count": 194,
   "id": "ac9333d3",
   "metadata": {},
   "outputs": [
    {
     "name": "stdout",
     "output_type": "stream",
     "text": [
      "[[ 50  60  70  80]\n",
      " [ 60  70  80  90]\n",
      " [ 70  80  90 100]\n",
      " [ 80  90 100 110]]\n",
      "c.sum() = 1280\n",
      "c.sum(axis=0) = [260 300 340 380]\n",
      "c.sum(axis=1) = [260 300 340 380]\n",
      "c.sum(axis=-1) = [260 300 340 380]\n"
     ]
    }
   ],
   "source": [
    "# element-wise operations\n",
    "a = np.array([10, 20, 30, 40]) # row vector\n",
    "b = np.array([40, 50, 60, 70]).reshape(len(a), 1) # column vector\n",
    "\n",
    "# a @ b # dot product\n",
    "# print(a + b)\n",
    "c = a + b\n",
    "print(c)\n",
    "print(f'c.sum() = {c.sum()}')\n",
    "print(f'c.sum(axis=0) = {c.sum(axis=0)}') # column-wise sum\n",
    "print(f'c.sum(axis=1) = {c.sum(axis=1)}') # row-wise sum\n",
    "print(f'c.sum(axis=-1) = {c.sum(axis=-1)}') \n"
   ]
  },
  {
   "cell_type": "markdown",
   "id": "6f5d6518",
   "metadata": {},
   "source": [
    "Putting the pieces together...\n",
    "- numpy\n",
    "- function calls\n",
    "- plotting"
   ]
  },
  {
   "cell_type": "code",
   "execution_count": 188,
   "id": "1f85da72",
   "metadata": {},
   "outputs": [
    {
     "data": {
      "text/plain": [
       "[<matplotlib.lines.Line2D at 0x7fa58876da90>,\n",
       " <matplotlib.lines.Line2D at 0x7fa58876daf0>]"
      ]
     },
     "execution_count": 188,
     "metadata": {},
     "output_type": "execute_result"
    },
    {
     "data": {
      "image/png": "[encoded data removed]",
      "text/plain": [
       "<Figure size 640x480 with 1 Axes>"
      ]
     },
     "metadata": {},
     "output_type": "display_data"
    }
   ],
   "source": [
    "import math\n",
    "# plain python way first:\n",
    "# xs = [ i / 10 for i in range(51)]\n",
    "# print(xs)\n",
    "# sines = [ math.sin(x) for x in xs]\n",
    "# print(sines)\n",
    "# plt.plot(xs, sines)\n",
    "\n",
    "# numpy way\n",
    "xs = np.linspace(0, 5, 51)\n",
    "# print(xs)\n",
    "sines = np.sin(xs) # apply the function to each element in the array\n",
    "cosines = np.cos(xs)\n",
    "# plt.plot(xs, sines)\n",
    "# does not work correctly! mixes values between the two series\n",
    "# ys = np.array([sines, cosines]).reshape((51,2)) \n",
    "ys = np.array([sines, cosines]).transpose()\n",
    "plt.plot(xs, ys)\n",
    "\n"
   ]
  },
  {
   "cell_type": "code",
   "execution_count": 206,
   "id": "21c86041",
   "metadata": {},
   "outputs": [
    {
     "name": "stdout",
     "output_type": "stream",
     "text": [
      "values = \n",
      "[[0 1 2 3 4 5]\n",
      " [1 2 3 4 5 6]\n",
      " [2 3 4 5 6 7]\n",
      " [3 4 5 6 7 8]\n",
      " [4 5 6 7 8 9]]\n",
      "values.transpose = \n",
      "[[0 1 2 3 4]\n",
      " [1 2 3 4 5]\n",
      " [2 3 4 5 6]\n",
      " [3 4 5 6 7]\n",
      " [4 5 6 7 8]\n",
      " [5 6 7 8 9]]\n"
     ]
    }
   ],
   "source": [
    "\n",
    "\n",
    "# row/column operations\n",
    "values = np.array([[ i+j for i in range(0, 6)] \n",
    "                          for j in range(0, 5)] )\n",
    "\n",
    "print(f'values = \\n{values}')\n",
    "# print(values.reshape((2,15)))\n",
    "print(f'values.transpose = \\n{values.transpose()}')"
   ]
  }
 ],
 "metadata": {
  "kernelspec": {
   "display_name": "base",
   "language": "python",
   "name": "python3"
  },
  "language_info": {
   "codemirror_mode": {
    "name": "ipython",
    "version": 3
   },
   "file_extension": ".py",
   "mimetype": "text/x-python",
   "name": "python",
   "nbconvert_exporter": "python",
   "pygments_lexer": "ipython3",
   "version": "3.9.12"
  }
 },
 "nbformat": 4,
 "nbformat_minor": 5
}
