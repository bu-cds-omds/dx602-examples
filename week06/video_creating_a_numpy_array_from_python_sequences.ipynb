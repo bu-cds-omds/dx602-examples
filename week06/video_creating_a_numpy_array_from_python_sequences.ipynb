{
  "cells": [
    {
      "cell_type": "markdown",
      "metadata": {
        "id": "Te3ixj1BJnBN"
      },
      "source": [
        "# Video: Creating a NumPy Array from Python Sequences\n",
        "\n",
        "This video gives examples of creating NumPy arrays from Python sequences.\n",
        "This is the simplest way to take advantage of NumPy efficiency in an existing Python program that already has data.\n",
        "We will look at what data types and shapes NumPy picks based on different inputs, and discuss the implied reasons.\n"
      ]
    },
    {
      "cell_type": "markdown",
      "metadata": {
        "id": "ia6uNVR1NUKI"
      },
      "source": [
        "Script:\n",
        "* Let's make some NumPy arrays now, and ask NumPy to make all the decisions about data types and shapes.\n",
        "* We will do this by making our own sequences of data in Python, then passing them to NumPy functions to convert into arrays.\n",
        "* We will start with the function numpy.array and give it a list of integers to start."
      ]
    },
    {
      "cell_type": "code",
      "execution_count": null,
      "metadata": {
        "id": "yYhu9LoFV3aZ"
      },
      "outputs": [],
      "source": [
        "import numpy as np"
      ]
    },
    {
      "cell_type": "code",
      "execution_count": null,
      "metadata": {
        "colab": {
          "base_uri": "https://localhost:8080/"
        },
        "id": "-tEoZT2ROFT4",
        "outputId": "55b6b269-f809-4187-913c-30e56f0fa1ff"
      },
      "outputs": [
        {
          "data": {
            "text/plain": [
              "array([1, 2, 3])"
            ]
          },
          "execution_count": null,
          "metadata": {},
          "output_type": "execute_result"
        }
      ],
      "source": [
        "my_data_array = np.array([1, 2, 3])\n",
        "my_data_array"
      ]
    },
    {
      "cell_type": "markdown",
      "metadata": {
        "id": "Vq-BdkCrPqW8"
      },
      "source": [
        "Script:\n",
        "* We called NP array with a list of three integers, and that looks like an array of three integers.\n",
        "* Let's double check the data type."
      ]
    },
    {
      "cell_type": "code",
      "execution_count": null,
      "metadata": {
        "colab": {
          "base_uri": "https://localhost:8080/"
        },
        "id": "TpzmCrscOMz-",
        "outputId": "62c5eb7c-2cd8-4401-c053-98bf2f7edd0d"
      },
      "outputs": [
        {
          "data": {
            "text/plain": [
              "dtype('int64')"
            ]
          },
          "execution_count": null,
          "metadata": {},
          "output_type": "execute_result"
        }
      ],
      "source": [
        "my_data_array.dtype"
      ]
    },
    {
      "cell_type": "markdown",
      "metadata": {
        "id": "iFMg4uwTP1b3"
      },
      "source": [
        "Script:\n",
        "* And the integer type is confirmed.\n",
        "* NumPy picked the signed 64 bit integer type.\n",
        "* Let's check the shape now."
      ]
    },
    {
      "cell_type": "code",
      "execution_count": null,
      "metadata": {
        "colab": {
          "base_uri": "https://localhost:8080/"
        },
        "id": "6Nt0FedPOO_V",
        "outputId": "93f696a2-45d3-45ca-90cd-4871a74aa53a"
      },
      "outputs": [
        {
          "data": {
            "text/plain": [
              "(3,)"
            ]
          },
          "execution_count": null,
          "metadata": {},
          "output_type": "execute_result"
        }
      ],
      "source": [
        "my_data_array.shape"
      ]
    },
    {
      "cell_type": "markdown",
      "metadata": {
        "id": "toMaNKIsQAaK"
      },
      "source": [
        "Script:\n",
        "* The shape has one size, so this array is 1-dimensional, and has length 3 along that dimension.\n",
        "* So we should be able to index it with indexes 0, 1, and 2 to look at each entry individually."
      ]
    },
    {
      "cell_type": "code",
      "execution_count": null,
      "metadata": {
        "colab": {
          "base_uri": "https://localhost:8080/"
        },
        "id": "UUFFsoXuOSay",
        "outputId": "8dd67651-fc5c-43e1-b83e-17f27b8707d3"
      },
      "outputs": [
        {
          "data": {
            "text/plain": [
              "1"
            ]
          },
          "execution_count": null,
          "metadata": {},
          "output_type": "execute_result"
        }
      ],
      "source": [
        "my_data_array[0]"
      ]
    },
    {
      "cell_type": "code",
      "execution_count": null,
      "metadata": {
        "colab": {
          "base_uri": "https://localhost:8080/"
        },
        "id": "aXxyGlTIQOZf",
        "outputId": "d0df4183-b85a-4f3f-bb7d-3d74eaee2ad4"
      },
      "outputs": [
        {
          "data": {
            "text/plain": [
              "2"
            ]
          },
          "execution_count": null,
          "metadata": {},
          "output_type": "execute_result"
        }
      ],
      "source": [
        "my_data_array[1]"
      ]
    },
    {
      "cell_type": "code",
      "execution_count": null,
      "metadata": {
        "colab": {
          "base_uri": "https://localhost:8080/"
        },
        "id": "2mpbdhD8OWJ7",
        "outputId": "cf6c366b-42a8-4dd9-ae0d-59a31606adf0"
      },
      "outputs": [
        {
          "data": {
            "text/plain": [
              "3"
            ]
          },
          "execution_count": null,
          "metadata": {},
          "output_type": "execute_result"
        }
      ],
      "source": [
        "my_data_array[2]"
      ]
    },
    {
      "cell_type": "markdown",
      "metadata": {
        "id": "mF3SQ81nQRI6"
      },
      "source": [
        "Script:\n",
        "* We can also index backwards, like Python lists and tuples allow."
      ]
    },
    {
      "cell_type": "code",
      "execution_count": null,
      "metadata": {
        "colab": {
          "base_uri": "https://localhost:8080/"
        },
        "id": "xb2QY9UBQXBD",
        "outputId": "62368553-c164-4586-817f-86bde6833bfa"
      },
      "outputs": [
        {
          "data": {
            "text/plain": [
              "3"
            ]
          },
          "execution_count": null,
          "metadata": {},
          "output_type": "execute_result"
        }
      ],
      "source": [
        "my_data_array[-1]"
      ]
    },
    {
      "cell_type": "code",
      "execution_count": null,
      "metadata": {
        "colab": {
          "base_uri": "https://localhost:8080/"
        },
        "id": "koJbPBeAQaYf",
        "outputId": "5d11d659-67ce-4f51-a431-13f0a0ea1c6a"
      },
      "outputs": [
        {
          "data": {
            "text/plain": [
              "2"
            ]
          },
          "execution_count": null,
          "metadata": {},
          "output_type": "execute_result"
        }
      ],
      "source": [
        "my_data_array[-2]"
      ]
    },
    {
      "cell_type": "code",
      "execution_count": null,
      "metadata": {
        "colab": {
          "base_uri": "https://localhost:8080/"
        },
        "id": "cEsoNfxkQb4I",
        "outputId": "f7b8da56-70f0-4324-cb20-c233be35093b"
      },
      "outputs": [
        {
          "data": {
            "text/plain": [
              "1"
            ]
          },
          "execution_count": null,
          "metadata": {},
          "output_type": "execute_result"
        }
      ],
      "source": [
        "my_data_array[-3]"
      ]
    },
    {
      "cell_type": "markdown",
      "metadata": {
        "id": "b4p8sC0EQeJ4"
      },
      "source": [
        "Script:\n",
        "* That's all the indexing choices with this small array.\n",
        "* Let's try some different data now.\n",
        "* What needs to change to make a floating point array?"
      ]
    },
    {
      "cell_type": "code",
      "execution_count": null,
      "metadata": {
        "colab": {
          "base_uri": "https://localhost:8080/"
        },
        "id": "HugZEpwgOqiu",
        "outputId": "66399db1-a2aa-4224-9ffc-72a9d5157f53"
      },
      "outputs": [
        {
          "data": {
            "text/plain": [
              "array([1., 2., 3.])"
            ]
          },
          "execution_count": null,
          "metadata": {},
          "output_type": "execute_result"
        }
      ],
      "source": [
        "my_data_array = np.array([1.0, 2.0, 3.0])\n",
        "my_data_array"
      ]
    },
    {
      "cell_type": "markdown",
      "metadata": {
        "id": "7OZACxsXRBi7"
      },
      "source": [
        "Script:\n",
        "* I changed the list values to floating point numbers, and printing the array visibly changed to show decimal points.\n",
        "* Let's check the type now."
      ]
    },
    {
      "cell_type": "code",
      "execution_count": null,
      "metadata": {
        "colab": {
          "base_uri": "https://localhost:8080/"
        },
        "id": "0P0JxcxDO0wC",
        "outputId": "1ed1db20-f539-48ee-9330-cb4693537b47"
      },
      "outputs": [
        {
          "data": {
            "text/plain": [
              "dtype('float64')"
            ]
          },
          "execution_count": null,
          "metadata": {},
          "output_type": "execute_result"
        }
      ],
      "source": [
        "my_data_array.dtype"
      ]
    },
    {
      "cell_type": "markdown",
      "metadata": {
        "id": "0efO92UCRRF1"
      },
      "source": [
        "Script:\n",
        "* As expected, the data type changed to floating point.\n",
        "* For both examples, the data type choice had 64 bits.\n",
        "* That's probably a safe choice for the NumPy default, since the 64 bit calculations will be no worse than using smaller data types.\n",
        "* The 64 bit versions will just take more memory than the smaller versions.\n",
        "* They will let us pick whether we want to use smaller, less expressive types, instead of guessing we will want one and surprising us with a calculation error.\n",
        "* Let's look at one more example of how NumPy is picking types before moving on.\n",
        "* This time, I will be tricky and pass mostly integers and hide the floating point number at the end.\n",
        "* Do you think NumPy will notice and pick float64?\n",
        "* Or will NumPy be lazy and just go with int64 after just checking the first number?\n"
      ]
    },
    {
      "cell_type": "code",
      "execution_count": null,
      "metadata": {
        "colab": {
          "base_uri": "https://localhost:8080/"
        },
        "id": "C7bHKvNGSN9N",
        "outputId": "601fbb01-3a68-451d-adf0-a8640ef585ae"
      },
      "outputs": [
        {
          "data": {
            "text/plain": [
              "array([1., 2., 3.])"
            ]
          },
          "execution_count": null,
          "metadata": {},
          "output_type": "execute_result"
        }
      ],
      "source": [
        "my_data_array = np.array([1, 2, 3.0])\n",
        "my_data_array"
      ]
    },
    {
      "cell_type": "markdown",
      "metadata": {
        "id": "aFDC8nCTSniP"
      },
      "source": [
        "Script:\n",
        "* Those look like floats, that is floating point numbers."
      ]
    },
    {
      "cell_type": "code",
      "execution_count": null,
      "metadata": {
        "colab": {
          "base_uri": "https://localhost:8080/"
        },
        "id": "XPBFv5LgSmEB",
        "outputId": "2bd67fbc-220c-4a45-aee3-ef777d3354d1"
      },
      "outputs": [
        {
          "data": {
            "text/plain": [
              "dtype('float64')"
            ]
          },
          "execution_count": null,
          "metadata": {},
          "output_type": "execute_result"
        }
      ],
      "source": [
        "my_data_array.dtype"
      ]
    },
    {
      "cell_type": "markdown",
      "metadata": {
        "id": "ZWqLhS6cSvIR"
      },
      "source": [
        "Script:\n",
        "* Let's move on to more interesting examples and try different shapes.\n",
        "* I will try a list of three entries, each of which is a list of two numbers.\n",
        "* What shape do you think this will be? 3 by 2? Or 2 by 3?"
      ]
    },
    {
      "cell_type": "code",
      "execution_count": null,
      "metadata": {
        "colab": {
          "base_uri": "https://localhost:8080/"
        },
        "id": "6LtIrhA7S_AF",
        "outputId": "e4a13df3-ce95-4ebe-c9b3-7d82d7903683"
      },
      "outputs": [
        {
          "data": {
            "text/plain": [
              "array([[1, 2],\n",
              "       [3, 4],\n",
              "       [5, 6]])"
            ]
          },
          "execution_count": null,
          "metadata": {},
          "output_type": "execute_result"
        }
      ],
      "source": [
        "my_data_array = np.array([[1, 2], [3, 4], [5, 6]])\n",
        "my_data_array"
      ]
    },
    {
      "cell_type": "markdown",
      "metadata": {
        "id": "BJuSLfNMTJGx"
      },
      "source": [
        "Script:\n",
        "* Visually, that looks like 3 rows and 2 columns.\n",
        "* Let's confirm that shape."
      ]
    },
    {
      "cell_type": "code",
      "execution_count": null,
      "metadata": {
        "colab": {
          "base_uri": "https://localhost:8080/"
        },
        "id": "4KJ-b6IdSuRb",
        "outputId": "53deb901-5ce2-4a07-d5da-9e2bd25a6ef4"
      },
      "outputs": [
        {
          "data": {
            "text/plain": [
              "(3, 2)"
            ]
          },
          "execution_count": null,
          "metadata": {},
          "output_type": "execute_result"
        }
      ],
      "source": [
        "my_data_array.shape"
      ]
    },
    {
      "cell_type": "markdown",
      "metadata": {
        "id": "kkP4ONe5TSgV"
      },
      "source": [
        "Script:\n",
        "* Three by two is confirmed.\n",
        "* One way you can think of this is that you can index the NumPy version the same way as the input sequence.\n",
        "* Let's look at that input list again."
      ]
    },
    {
      "cell_type": "code",
      "execution_count": null,
      "metadata": {
        "colab": {
          "base_uri": "https://localhost:8080/"
        },
        "id": "laPB_iFOToAT",
        "outputId": "3e22fcfd-1c29-4de9-8487-309e1ef82fda"
      },
      "outputs": [
        {
          "data": {
            "text/plain": [
              "[[1, 2], [3, 4], [5, 6]]"
            ]
          },
          "execution_count": null,
          "metadata": {},
          "output_type": "execute_result"
        }
      ],
      "source": [
        " my_data_list = [[1, 2], [3, 4], [5, 6]]\n",
        " my_data_list"
      ]
    },
    {
      "cell_type": "markdown",
      "metadata": {
        "id": "w2EuicscT2EA"
      },
      "source": [
        "Script:\n",
        "* We can index that input list with 0, 1, or 2 to get one of the inner lists."
      ]
    },
    {
      "cell_type": "code",
      "execution_count": null,
      "metadata": {
        "colab": {
          "base_uri": "https://localhost:8080/"
        },
        "id": "LbXHcezRTvBv",
        "outputId": "e394c2c3-b591-4337-af75-04f312ed565f"
      },
      "outputs": [
        {
          "data": {
            "text/plain": [
              "[1, 2]"
            ]
          },
          "execution_count": null,
          "metadata": {},
          "output_type": "execute_result"
        }
      ],
      "source": [
        "my_data_list[0]"
      ]
    },
    {
      "cell_type": "code",
      "execution_count": null,
      "metadata": {
        "colab": {
          "base_uri": "https://localhost:8080/"
        },
        "id": "b-jT981cTw6K",
        "outputId": "cccafdf2-4def-496d-d993-64dac89ff936"
      },
      "outputs": [
        {
          "data": {
            "text/plain": [
              "[3, 4]"
            ]
          },
          "execution_count": null,
          "metadata": {},
          "output_type": "execute_result"
        }
      ],
      "source": [
        "my_data_list[1]"
      ]
    },
    {
      "cell_type": "code",
      "execution_count": null,
      "metadata": {
        "colab": {
          "base_uri": "https://localhost:8080/"
        },
        "id": "ljqzUwFnTys5",
        "outputId": "2eaff241-69b4-423c-f968-293c32ddbbd0"
      },
      "outputs": [
        {
          "data": {
            "text/plain": [
              "[5, 6]"
            ]
          },
          "execution_count": null,
          "metadata": {},
          "output_type": "execute_result"
        }
      ],
      "source": [
        "my_data_list[2]"
      ]
    },
    {
      "cell_type": "markdown",
      "metadata": {
        "id": "yHbpe6dFT_hD"
      },
      "source": [
        "Script:\n",
        "* We can do the same with the NumPy array.\n",
        "* NumPy has this neat feature where you can index at a time, and it will select that part of the array.\n",
        "* For a 2-dimensional array, indexing with just one number will select you a 1-dimensional sub array.\n",
        "* We will talk about how that works next week."
      ]
    },
    {
      "cell_type": "code",
      "execution_count": null,
      "metadata": {
        "colab": {
          "base_uri": "https://localhost:8080/"
        },
        "id": "ckk5BLYbUDmm",
        "outputId": "9f968f00-4d20-4d48-f0aa-b5a72069ead6"
      },
      "outputs": [
        {
          "data": {
            "text/plain": [
              "array([1, 2])"
            ]
          },
          "execution_count": null,
          "metadata": {},
          "output_type": "execute_result"
        }
      ],
      "source": [
        "my_data_array[0]"
      ]
    },
    {
      "cell_type": "code",
      "execution_count": null,
      "metadata": {
        "colab": {
          "base_uri": "https://localhost:8080/"
        },
        "id": "muhUSlAgUFq0",
        "outputId": "e21cd1cc-f7fe-4ac6-a45e-eb64c927757c"
      },
      "outputs": [
        {
          "data": {
            "text/plain": [
              "array([3, 4])"
            ]
          },
          "execution_count": null,
          "metadata": {},
          "output_type": "execute_result"
        }
      ],
      "source": [
        "my_data_array[1]"
      ]
    },
    {
      "cell_type": "code",
      "execution_count": null,
      "metadata": {
        "colab": {
          "base_uri": "https://localhost:8080/"
        },
        "id": "dw-LNUPIUHZ1",
        "outputId": "9551cdd6-6684-4549-f603-af8c3911e136"
      },
      "outputs": [
        {
          "data": {
            "text/plain": [
              "array([5, 6])"
            ]
          },
          "execution_count": null,
          "metadata": {},
          "output_type": "execute_result"
        }
      ],
      "source": [
        "my_data_array[2]"
      ]
    },
    {
      "cell_type": "markdown",
      "metadata": {
        "id": "u_fz06wAUJ5c"
      },
      "source": [
        "Script:\n",
        "* So that sure looks like the first axis should have length 3.\n",
        "* Returning to the question of how NumPy picks the shape from a sequence, the outside length determines the length first axis, the next layer inside picks the length of the second axis, and so on.\n",
        "* What if we do something weird and the inside lengths do not match?\n"
      ]
    },
    {
      "cell_type": "code",
      "execution_count": null,
      "metadata": {
        "colab": {
          "base_uri": "https://localhost:8080/",
          "height": 180
        },
        "id": "XTJNK1JgVEJs",
        "outputId": "7a1e133b-48b6-4558-9f47-c4b36605226d"
      },
      "outputs": [
        {
          "ename": "ValueError",
          "evalue": "setting an array element with a sequence. The requested array has an inhomogeneous shape after 1 dimensions. The detected shape was (2,) + inhomogeneous part.",
          "output_type": "error",
          "traceback": [
            "\u001b[0;31m---------------------------------------------------------------------------\u001b[0m",
            "\u001b[0;31mValueError\u001b[0m                                Traceback (most recent call last)",
            "\u001b[0;32m<ipython-input-53-322a9604ebd0>\u001b[0m in \u001b[0;36m<cell line: 1>\u001b[0;34m()\u001b[0m\n\u001b[0;32m----> 1\u001b[0;31m \u001b[0mnp\u001b[0m\u001b[0;34m.\u001b[0m\u001b[0marray\u001b[0m\u001b[0;34m(\u001b[0m\u001b[0;34m[\u001b[0m\u001b[0;34m[\u001b[0m\u001b[0;36m1\u001b[0m\u001b[0;34m,\u001b[0m \u001b[0;36m2\u001b[0m\u001b[0;34m]\u001b[0m\u001b[0;34m,\u001b[0m \u001b[0;34m[\u001b[0m\u001b[0;36m3\u001b[0m\u001b[0;34m]\u001b[0m\u001b[0;34m]\u001b[0m\u001b[0;34m)\u001b[0m\u001b[0;34m\u001b[0m\u001b[0;34m\u001b[0m\u001b[0m\n\u001b[0m",
            "\u001b[0;31mValueError\u001b[0m: setting an array element with a sequence. The requested array has an inhomogeneous shape after 1 dimensions. The detected shape was (2,) + inhomogeneous part."
          ]
        }
      ],
      "source": [
        "np.array([[1, 2], [3]])"
      ]
    },
    {
      "cell_type": "markdown",
      "metadata": {
        "id": "oe36F0_nVTph"
      },
      "source": [
        "Script:\n",
        "* See NumPy chastizing me?\n",
        "* Wrapping up, numpy dot array will take in a sequence and try to turn it into a new NumPy array.\n",
        "* If all the values are integers, it will have data type int64.\n",
        "* If any floating point values are found, it will have data type float64.\n",
        "* The next function to convert Python data is numpy dot asarray.\n",
        "* I've seen a lot more using this function than numpy dot array.\n",
        "* What does it do differently?"
      ]
    },
    {
      "cell_type": "code",
      "execution_count": null,
      "metadata": {
        "colab": {
          "base_uri": "https://localhost:8080/"
        },
        "id": "BYGYAY4SOsde",
        "outputId": "db06c71f-e258-4769-da71-de2d85c8cf0d"
      },
      "outputs": [
        {
          "data": {
            "text/plain": [
              "array([[1, 2],\n",
              "       [3, 4],\n",
              "       [5, 6]])"
            ]
          },
          "execution_count": null,
          "metadata": {},
          "output_type": "execute_result"
        }
      ],
      "source": [
        "my_data_array = np.asarray([[1, 2], [3, 4], [5, 6]])\n",
        "my_data_array"
      ]
    },
    {
      "cell_type": "markdown",
      "metadata": {
        "id": "z0BXgGRFWUD8"
      },
      "source": [
        "Script:\n",
        "* That looks the same.\n",
        "* There is a subtle hint in the name.\n",
        "* numpy dot array and numpy dot asarray behave differently when you pass in a numpy array.\n",
        "* numpy dot array's default behavior is to always copy the data and make a fresh array.\n",
        "* numpy dot asarray's default behavior is to just return the input array, because you already have the data as an array.\n",
        "* Sorry, it's really the name, not my joke.\n",
        "* We can spot check these behaviors with the id function to see if it is the same object or a copy that looks the same."
      ]
    },
    {
      "cell_type": "code",
      "execution_count": null,
      "metadata": {
        "colab": {
          "base_uri": "https://localhost:8080/"
        },
        "id": "WCoh-wBSW0Vp",
        "outputId": "3aa963ec-23f3-4775-aff7-0797de190b5e"
      },
      "outputs": [
        {
          "data": {
            "text/plain": [
              "136263992969712"
            ]
          },
          "execution_count": null,
          "metadata": {},
          "output_type": "execute_result"
        }
      ],
      "source": [
        "id(my_data_array)"
      ]
    },
    {
      "cell_type": "code",
      "execution_count": null,
      "metadata": {
        "colab": {
          "base_uri": "https://localhost:8080/"
        },
        "id": "ew4_Fdu5W3Fx",
        "outputId": "e3e61d8e-3c90-41f5-c144-b32c1fc737be"
      },
      "outputs": [
        {
          "data": {
            "text/plain": [
              "136263992878032"
            ]
          },
          "execution_count": null,
          "metadata": {},
          "output_type": "execute_result"
        }
      ],
      "source": [
        "my_data_array_2 = np.array(my_data_array)\n",
        "id(my_data_array_2)"
      ]
    },
    {
      "cell_type": "markdown",
      "metadata": {
        "id": "uGvaB4KGXO9j"
      },
      "source": [
        "Script:\n",
        "* The id changed when we called numpy dot array.\n",
        "* There is an option to avoid copying the data when possible, but the default is"
      ]
    },
    {
      "cell_type": "code",
      "execution_count": null,
      "metadata": {
        "colab": {
          "base_uri": "https://localhost:8080/"
        },
        "id": "uOxUibX7XADG",
        "outputId": "44a3a3f3-0896-4f75-fe2f-4d0338737118"
      },
      "outputs": [
        {
          "data": {
            "text/plain": [
              "136263992969712"
            ]
          },
          "execution_count": null,
          "metadata": {},
          "output_type": "execute_result"
        }
      ],
      "source": [
        "my_data_array_3 = np.asarray(my_data_array)\n",
        "id(my_data_array_3)"
      ]
    },
    {
      "cell_type": "markdown",
      "metadata": {
        "id": "0F3PnxfzYSFc"
      },
      "source": [
        "Script:\n",
        "* When we passed the original NumPy array to numpy dot asarray, we got the same array back.\n",
        "* Both numpy dot array and numpy dot asarray will act up if you pass an iterator without a length."
      ]
    },
    {
      "cell_type": "code",
      "execution_count": null,
      "metadata": {
        "colab": {
          "base_uri": "https://localhost:8080/"
        },
        "id": "qGwfwcihYbgk",
        "outputId": "6c0a148b-4ed6-4485-9c65-ecad37aa1aff"
      },
      "outputs": [
        {
          "data": {
            "text/plain": [
              "array([1.2, 1.2, 1.2, 1.2, 1.2, 1.2, 1.2, 1.2, 1.2, 1.2])"
            ]
          },
          "execution_count": null,
          "metadata": {},
          "output_type": "execute_result"
        }
      ],
      "source": [
        "np.array([1.2 for i in range(10)])"
      ]
    },
    {
      "cell_type": "markdown",
      "metadata": {
        "id": "xWLH6WkRYgpI"
      },
      "source": [
        "Script:\n",
        "* List comprehensions have lengths because they are lists."
      ]
    },
    {
      "cell_type": "code",
      "execution_count": null,
      "metadata": {
        "colab": {
          "base_uri": "https://localhost:8080/"
        },
        "id": "z45thsTHYmIB",
        "outputId": "a8e079a2-b51d-409b-8f52-b06a82337249"
      },
      "outputs": [
        {
          "data": {
            "text/plain": [
              "array([0, 1, 2, 3, 4, 5, 6, 7, 8, 9])"
            ]
          },
          "execution_count": null,
          "metadata": {},
          "output_type": "execute_result"
        }
      ],
      "source": [
        "np.array(range(10))"
      ]
    },
    {
      "cell_type": "markdown",
      "metadata": {
        "id": "wA6c8nl9YoeH"
      },
      "source": [
        "Script:\n",
        "* Range works too, because the range object supports len."
      ]
    },
    {
      "cell_type": "code",
      "execution_count": null,
      "metadata": {
        "colab": {
          "base_uri": "https://localhost:8080/"
        },
        "id": "2LFG-2lFYszA",
        "outputId": "77af57c7-5ba8-43b3-a882-f236b0185dc2"
      },
      "outputs": [
        {
          "data": {
            "text/plain": [
              "array(<generator object <genexpr> at 0x7bee6eeea3b0>, dtype=object)"
            ]
          },
          "execution_count": null,
          "metadata": {},
          "output_type": "execute_result"
        }
      ],
      "source": [
        "np.array(i for i in range(10))"
      ]
    },
    {
      "cell_type": "markdown",
      "metadata": {
        "id": "xfVxjYe5Y_46"
      },
      "source": [
        "Script:\n",
        "* If you pass a generator object by accident, you will get a zero-dimension scalar array with data type object.\n",
        "* That is almost certainly not what you wanted.\n",
        "* If you need to pass a generator without a length, there is another function, numpy dot fromiter for this.\n",
        "* You will need to pass it the dtype too; this function will not try to guess the type.\n"
      ]
    },
    {
      "cell_type": "code",
      "execution_count": null,
      "metadata": {
        "colab": {
          "base_uri": "https://localhost:8080/"
        },
        "id": "uQYr8zm3Y2f1",
        "outputId": "acbdfd5a-881d-4909-86fa-e9abffc91366"
      },
      "outputs": [
        {
          "data": {
            "text/plain": [
              "array([0., 1., 2., 3., 4., 5., 6., 7., 8., 9.])"
            ]
          },
          "execution_count": null,
          "metadata": {},
          "output_type": "execute_result"
        }
      ],
      "source": [
        "np.fromiter((i for i in range(10)), dtype=np.dtype(\"float64\"))"
      ]
    },
    {
      "cell_type": "markdown",
      "metadata": {
        "id": "l3V60c9CbC2D"
      },
      "source": [
        "Script:\n",
        "* There is also an optional `count` argument to fromiter.\n",
        "* This will limit how many values are read from the iterator, and the documentation says that it will make fromiter since it can allocate memory once instead of repeatedly resizing as more values are read.\n",
        "* So which one of these three functions should you use?\n",
        "* I have seen numpy dot asarray used the most.\n",
        "* Usually this is inside a function that other people call, and you want to support all the different kinds of array like input.\n",
        "* Most of numpy's functions like this; they just convert everything into arrays as they are passed in.\n",
        "* Using numpy dot asarray on these inputs, Numpy arrays are unchanged and everything is converted.\n",
        "* Skipping the conversion for Numpy arrays is nice.\n",
        "* What is not nice is writing all over the data of someone who nicely passed you an array.\n",
        "* So, if you are going to write to the array, you probably should use numpy dot array and make your own copy to write to.\n",
        "* What about fromiter?\n",
        "* Save fromiter for cases where you are stuck with just a generator.\n",
        "* And double check if you can get the count to avoid resizing the array as you build it.\n",
        "* TLDR: use numpy dot array to write, numpy dot as array otherwise unless you are stuck with a generator.\n"
      ]
    }
  ],
  "metadata": {
    "colab": {},
    "kernelspec": {
      "display_name": "Python 3",
      "name": "python3"
    },
    "language_info": {
      "codemirror_mode": {
        "name": "ipython",
        "version": 3
      },
      "file_extension": ".py",
      "mimetype": "text/x-python",
      "name": "python",
      "nbconvert_exporter": "python",
      "pygments_lexer": "ipython3",
      "version": "3.9.6"
    }
  },
  "nbformat": 4,
  "nbformat_minor": 0
}