{
  "cells": [
    {
      "cell_type": "markdown",
      "metadata": {
        "id": "G4hqNn-Rz9qk"
      },
      "source": [
        "# Video: Comparing Memory Usage of NumPy Arrays vs Python lists\n",
        "\n",
        "This video compares the memory usage of NumPy arrays and Python lists, and exactly quantifies the differences in space usage."
      ]
    },
    {
      "cell_type": "markdown",
      "metadata": {
        "id": "twgR_cvOAIQn"
      },
      "source": [
        "* At the beginning of this module, we saw that current 64 bit floating numbers which should take 8 bytes are taking 24 bytes."
      ]
    },
    {
      "cell_type": "code",
      "execution_count": null,
      "metadata": {
        "colab": {
          "base_uri": "https://localhost:8080/"
        },
        "id": "XaIoXkQmASPK",
        "outputId": "9a396f9b-804f-444b-ea24-22c217890344"
      },
      "outputs": [
        {
          "data": {
            "text/plain": [
              "24"
            ]
          },
          "execution_count": 11,
          "metadata": {},
          "output_type": "execute_result"
        }
      ],
      "source": [
        "import sys\n",
        "sys.getsizeof(3.0)"
      ]
    },
    {
      "cell_type": "markdown",
      "metadata": {
        "id": "0ibeGLAdAYPQ"
      },
      "source": [
        "* What if we convert that to NumPy?"
      ]
    },
    {
      "cell_type": "code",
      "execution_count": null,
      "metadata": {
        "colab": {
          "base_uri": "https://localhost:8080/"
        },
        "id": "WqckYrpbAce7",
        "outputId": "827e1eb0-6395-498a-f06a-7295f802067d"
      },
      "outputs": [
        {
          "data": {
            "text/plain": [
              "104"
            ]
          },
          "execution_count": 12,
          "metadata": {},
          "output_type": "execute_result"
        }
      ],
      "source": [
        "import numpy as np\n",
        "sys.getsizeof(np.asarray(3.0))"
      ]
    },
    {
      "cell_type": "markdown",
      "metadata": {
        "id": "tSgZOzTjAhqD"
      },
      "source": [
        "* Eek!\n",
        "* NumPy is not the most efficient way to handle individual numbers.\n",
        "* That is thirteen x overhead.\n",
        "* Let's look at a bigger array, since we have been saying that NumPy will be more efficient for lots of numbers."
      ]
    },
    {
      "cell_type": "code",
      "execution_count": null,
      "metadata": {
        "colab": {
          "base_uri": "https://localhost:8080/"
        },
        "id": "C7x-pCBYxThb",
        "outputId": "8291411e-24e7-477b-9a97-732584e2bd29"
      },
      "outputs": [
        {
          "data": {
            "text/plain": [
              "8000112"
            ]
          },
          "execution_count": 29,
          "metadata": {},
          "output_type": "execute_result"
        }
      ],
      "source": [
        "test_array = np.arange(1_000_000, dtype=np.float64)\n",
        "sys.getsizeof(test_array)"
      ]
    },
    {
      "cell_type": "markdown",
      "metadata": {
        "id": "3NWsYLqvBFxh"
      },
      "source": [
        "* That test array just created has one million numbers, counting up from zero like the range function.\n",
        "* The dtype parameter is to be explicit about what type of array we are making, so we can be 100% certain.\n",
        "* Since each of those values takes 8 bytes, the minimum space to store them is 8 million bytes.\n",
        "* The total size for the array is 8 million one hundred and twelve.\n",
        "* So only one hundred and twelve bytes of overhead here."
      ]
    },
    {
      "cell_type": "markdown",
      "metadata": {
        "id": "O6YRsmBiBz-D"
      },
      "source": [
        "* What about storing the same numbers in a list?\n"
      ]
    },
    {
      "cell_type": "code",
      "execution_count": null,
      "metadata": {
        "colab": {
          "base_uri": "https://localhost:8080/"
        },
        "id": "HYuwOTyOCE5V",
        "outputId": "8cb50f7a-91ed-4aca-c6a1-0f4cf9d57393"
      },
      "outputs": [
        {
          "data": {
            "text/plain": [
              "8448728"
            ]
          },
          "execution_count": 27,
          "metadata": {},
          "output_type": "execute_result"
        }
      ],
      "source": [
        "test_list = [float(v) for v in range(1_000_000)]\n",
        "sys.getsizeof(test_list)"
      ]
    },
    {
      "cell_type": "markdown",
      "metadata": {
        "id": "d8WXncqJCMiV"
      },
      "source": [
        "* The size of the list is less than 6% bigger than the NumPy array, but there's an important disclaimer - that does not include the size of all the numbers in the list.\n",
        "* Reading the documentation of `getsizeof`,\n",
        "\n",
        "https://docs.python.org/3/library/sys.html\n",
        "> Only the memory consumption directly attributed to the object is accounted for, not the memory consumption of objects it refers to.\n",
        "\n",
        "* So a Python list's size reported does not include the sizes of the objects inside the list."
      ]
    },
    {
      "cell_type": "code",
      "execution_count": null,
      "metadata": {
        "colab": {
          "base_uri": "https://localhost:8080/"
        },
        "id": "LjwHbyV-Df9l",
        "outputId": "8b0bf061-67b9-4d9a-b8a2-5f18cd93c18e"
      },
      "outputs": [
        {
          "data": {
            "text/plain": [
              "32448728"
            ]
          },
          "execution_count": 25,
          "metadata": {},
          "output_type": "execute_result"
        }
      ],
      "source": [
        "sys.getsizeof(test_list) + sum(sys.getsizeof(v) for v in test_list)"
      ]
    },
    {
      "cell_type": "markdown",
      "metadata": {
        "id": "yg5hEMPmzOUF"
      },
      "source": [
        "* So storing the same numbers actually takes about 4 times as much space with a Python list compared to a NumPy array.\n",
        "* The exact ratios will depend based on how many numbers are involved, and the ratio will be a bit worse for more dimensions, since that will add more overhead on the Python side.\n",
        "* This should be enough for now.\n",
        "* We will circle back to this in a couple weeks as a visualization example. **<font color=\"red\">TODO Add this visualization here now that Matplotlib is first.</font>**"
      ]
    }
  ],
  "metadata": {
    "colab": {},
    "kernelspec": {
      "display_name": "Python 3",
      "name": "python3"
    },
    "language_info": {
      "codemirror_mode": {
        "name": "ipython",
        "version": 3
      },
      "file_extension": ".py",
      "mimetype": "text/x-python",
      "name": "python",
      "nbconvert_exporter": "python",
      "pygments_lexer": "ipython3",
      "version": "3.9.6"
    }
  },
  "nbformat": 4,
  "nbformat_minor": 0
}