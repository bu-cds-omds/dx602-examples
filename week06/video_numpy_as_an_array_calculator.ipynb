{
  "cells": [
    {
      "cell_type": "markdown",
      "metadata": {
        "id": "jT879egYLsox"
      },
      "source": [
        "# Video: NumPy as an Array Calculator\n",
        "\n",
        "This video will show off NumPy arrays to perform bulk calculations quickly, similar to using Python as a calculator in week 1, but with thousands or millions of numbers at once.\n",
        "Basic math operations and NumPy's large library of functions will both be highlighted."
      ]
    },
    {
      "cell_type": "markdown",
      "metadata": {
        "id": "rlXDpVYsCwBT"
      },
      "source": [
        "Script:\n",
        "* At the beginning of this module, there was a demonstration using Python as a calculator.\n",
        "* The point of that demonstration was to get you started with basic calculations, and let you see that you could express a lot in Python without knowing a lot of Python yet,\n",
        "* We will do a similar demonstration with NumPy now."
      ]
    },
    {
      "cell_type": "code",
      "execution_count": null,
      "metadata": {
        "id": "09pDe0MKDOic"
      },
      "outputs": [],
      "source": [
        "import numpy as np"
      ]
    },
    {
      "cell_type": "markdown",
      "metadata": {
        "id": "zlYO6vGLDRlk"
      },
      "source": [
        "Script:\n",
        "* This is our standard NumPy import.\n",
        "* I don't love the smushed name pattern, but it saves a lot of typing.\n",
        "* It is the most common usage online by far, and most blogs and even NumPy's own official documentation use it, so we will be using it in this module.\n",
        "* Let's start making a couple arrays with data to demonstrate.\n",
        "* These will be small so they don't take much space on screen, but you will be able to run the same operations and functions on much larger arrays with thousands and millions of numbers."
      ]
    },
    {
      "cell_type": "code",
      "execution_count": null,
      "metadata": {
        "colab": {
          "base_uri": "https://localhost:8080/"
        },
        "id": "_qyIBAhPDx1D",
        "outputId": "c20da1cb-067a-47f1-ac1a-1c254b14ec08"
      },
      "outputs": [
        {
          "data": {
            "text/plain": [
              "array([[1, 2, 3],\n",
              "       [4, 5, 6]])"
            ]
          },
          "execution_count": null,
          "metadata": {},
          "output_type": "execute_result"
        }
      ],
      "source": [
        "x = np.array([[1, 2, 3], [4, 5, 6]])\n",
        "x"
      ]
    },
    {
      "cell_type": "code",
      "execution_count": null,
      "metadata": {
        "colab": {
          "base_uri": "https://localhost:8080/"
        },
        "id": "8sW7PydxWuww",
        "outputId": "bcca646c-7c95-4959-ed4c-2ceb5fd3da38"
      },
      "outputs": [
        {
          "data": {
            "text/plain": [
              "array([[ 7,  8,  9],\n",
              "       [10, 11, 12]])"
            ]
          },
          "execution_count": null,
          "metadata": {},
          "output_type": "execute_result"
        }
      ],
      "source": [
        "y = np.array([[7, 8, 9], [10, 11, 12]])\n",
        "y"
      ]
    },
    {
      "cell_type": "markdown",
      "metadata": {
        "id": "pDw-q1dRXNH6"
      },
      "source": [
        "Script:\n",
        "* Let's try so basic arithmetic first."
      ]
    },
    {
      "cell_type": "code",
      "execution_count": null,
      "metadata": {
        "colab": {
          "base_uri": "https://localhost:8080/"
        },
        "id": "CnVLMZGBW0ms",
        "outputId": "dfaf067f-83c4-42ed-839d-b72599129b9f"
      },
      "outputs": [
        {
          "data": {
            "text/plain": [
              "array([[ 8, 10, 12],\n",
              "       [14, 16, 18]])"
            ]
          },
          "execution_count": null,
          "metadata": {},
          "output_type": "execute_result"
        }
      ],
      "source": [
        "x + y"
      ]
    },
    {
      "cell_type": "markdown",
      "metadata": {
        "id": "w9kTHiKJaXHo"
      },
      "source": [
        "Script:\n",
        "* When we added the arrays together, the addition was on an element-wise basis.\n",
        "* That means that the first element of x was added to the first element of y.\n",
        "* Or more generally, a number from x is added to the number with the same index in y to set the number with the same index in z.\n",
        "* The same pattern happens with other arithmetic operators of combining values with the same index."
      ]
    },
    {
      "cell_type": "code",
      "execution_count": null,
      "metadata": {
        "colab": {
          "base_uri": "https://localhost:8080/"
        },
        "id": "IiVQCLupXRkV",
        "outputId": "ac4c13c0-3bc7-4f93-9fb5-eb1db585e8ee"
      },
      "outputs": [
        {
          "data": {
            "text/plain": [
              "array([[-6, -6, -6],\n",
              "       [-6, -6, -6]])"
            ]
          },
          "execution_count": null,
          "metadata": {},
          "output_type": "execute_result"
        }
      ],
      "source": [
        "x - y"
      ]
    },
    {
      "cell_type": "code",
      "execution_count": null,
      "metadata": {
        "colab": {
          "base_uri": "https://localhost:8080/"
        },
        "id": "KjuBb2BgXTFi",
        "outputId": "d7fbaccb-3563-481a-bf95-630f85fada87"
      },
      "outputs": [
        {
          "data": {
            "text/plain": [
              "array([[ 7, 16, 27],\n",
              "       [40, 55, 72]])"
            ]
          },
          "execution_count": null,
          "metadata": {},
          "output_type": "execute_result"
        }
      ],
      "source": [
        "x * y"
      ]
    },
    {
      "cell_type": "code",
      "execution_count": null,
      "metadata": {
        "colab": {
          "base_uri": "https://localhost:8080/"
        },
        "id": "me2PyrpKXUbS",
        "outputId": "3950f222-9573-4ade-f5f5-3e52b8fb947f"
      },
      "outputs": [
        {
          "data": {
            "text/plain": [
              "array([[0.14285714, 0.25      , 0.33333333],\n",
              "       [0.4       , 0.45454545, 0.5       ]])"
            ]
          },
          "execution_count": null,
          "metadata": {},
          "output_type": "execute_result"
        }
      ],
      "source": [
        "x / y"
      ]
    },
    {
      "cell_type": "markdown",
      "metadata": {
        "id": "ZRo8pn9TXYep"
      },
      "source": [
        "Script:\n",
        "* Note that the types switched to floating point for division, just like normal Python integers.\n",
        "* If you want to stick to integer values, you can still do the division with double slash."
      ]
    },
    {
      "cell_type": "code",
      "execution_count": null,
      "metadata": {
        "colab": {
          "base_uri": "https://localhost:8080/"
        },
        "id": "qfPBtZkPXgUR",
        "outputId": "8d824276-0737-4061-8e90-8171de4ccc78"
      },
      "outputs": [
        {
          "data": {
            "text/plain": [
              "array([[0, 0, 0],\n",
              "       [0, 0, 0]])"
            ]
          },
          "execution_count": null,
          "metadata": {},
          "output_type": "execute_result"
        }
      ],
      "source": [
        "x // y"
      ]
    },
    {
      "cell_type": "markdown",
      "metadata": {
        "id": "-BJIMcGtXho8"
      },
      "source": [
        "Script:\n",
        "* Again, that is just like normal Python integer handling.\n",
        "* After the initial calculator usage, we used several functions in Python's math library.\n",
        "* For NumPy arrays, those functions are in the NumPy library.\n",
        "* Here is one example."
      ]
    },
    {
      "cell_type": "code",
      "execution_count": null,
      "metadata": {
        "colab": {
          "base_uri": "https://localhost:8080/"
        },
        "id": "hAMkSTmWaOpL",
        "outputId": "09b1dca9-8d79-4b2f-93d3-faa7ae362410"
      },
      "outputs": [
        {
          "data": {
            "text/plain": [
              "array([[ 0.84147098,  0.90929743,  0.14112001],\n",
              "       [-0.7568025 , -0.95892427, -0.2794155 ]])"
            ]
          },
          "execution_count": null,
          "metadata": {},
          "output_type": "execute_result"
        }
      ],
      "source": [
        "np.sin(x)"
      ]
    },
    {
      "cell_type": "markdown",
      "metadata": {
        "id": "gnFtoC48bLXU"
      },
      "source": [
        "Script:\n",
        "* I won't bore you trying out every function now.\n",
        "* Instead, there is a link to the NumPy documentation listing them in the resources list following this video.\n",
        "* I will give you a quick peak now.\n",
        "* https://numpy.org/doc/stable/reference/routines.math.html (scroll to the bottom)"
      ]
    }
  ],
  "metadata": {
    "colab": {},
    "kernelspec": {
      "display_name": "Python 3",
      "name": "python3"
    },
    "language_info": {
      "codemirror_mode": {
        "name": "ipython",
        "version": 3
      },
      "file_extension": ".py",
      "mimetype": "text/x-python",
      "name": "python",
      "nbconvert_exporter": "python",
      "pygments_lexer": "ipython3",
      "version": "3.9.6"
    }
  },
  "nbformat": 4,
  "nbformat_minor": 0
}