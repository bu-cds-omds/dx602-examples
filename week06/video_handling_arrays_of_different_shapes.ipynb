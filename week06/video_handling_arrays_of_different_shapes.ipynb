{
  "cells": [
    {
      "cell_type": "markdown",
      "metadata": {
        "id": "OHKB4VZdMi10"
      },
      "source": [
        "# Video: Handling Arrays of Different Shapes\n",
        "\n",
        "This video introduces NumPy's handling of arrays with different shapes.\n",
        "Combining arrays with individual scalars have a simple intuitive behavior.\n",
        "Broadcasting generalizes that behavior in a powerful way."
      ]
    },
    {
      "cell_type": "markdown",
      "metadata": {
        "id": "WC2kgUHCcTmC"
      },
      "source": [
        "Script:\n",
        "* We looked at some examples of NumPy working with multiple arrays at once, and combining their data.\n",
        "* All the examples before used arrays of the same shape.\n",
        "* This let us describe the computation based on numbers with the same index being combined.\n",
        "* NumPy can handle more array combinations than this.\n",
        "* The simplest case is combining an array with a scalar."
      ]
    },
    {
      "cell_type": "code",
      "execution_count": null,
      "metadata": {
        "colab": {
          "base_uri": "https://localhost:8080/"
        },
        "id": "IZPC8HvDc1Nx",
        "outputId": "a1edf74c-76d2-4280-f226-66ac5192da60"
      },
      "outputs": [
        {
          "data": {
            "text/plain": [
              "array([[0, 1, 2, 3, 4, 5]])"
            ]
          },
          "execution_count": null,
          "metadata": {},
          "output_type": "execute_result"
        }
      ],
      "source": [
        "import numpy as np\n",
        "\n",
        "x = np.array([[0, 1, 2, 3, 4, 5]])\n",
        "x"
      ]
    },
    {
      "cell_type": "code",
      "execution_count": null,
      "metadata": {
        "colab": {
          "base_uri": "https://localhost:8080/"
        },
        "id": "bidAHfc7c8ec",
        "outputId": "5cc6717d-f1f6-4db6-9909-b10b75ed6653"
      },
      "outputs": [
        {
          "data": {
            "text/plain": [
              "array([[10, 11, 12, 13, 14]])"
            ]
          },
          "execution_count": null,
          "metadata": {},
          "output_type": "execute_result"
        }
      ],
      "source": [
        "x + 10"
      ]
    },
    {
      "cell_type": "markdown",
      "metadata": {
        "id": "ERbowkPSc-4b"
      },
      "source": [
        "Script:\n",
        "* If you combine an array with a scalar, we say that scalar is broadcast and combined with every number in the array.\n",
        "* This works with other dimensions too."
      ]
    },
    {
      "cell_type": "code",
      "execution_count": null,
      "metadata": {
        "colab": {
          "base_uri": "https://localhost:8080/"
        },
        "id": "o9JoOJ7FdY64",
        "outputId": "748b8637-3fae-4779-af8b-d49af289b4ee"
      },
      "outputs": [
        {
          "data": {
            "text/plain": [
              "array([[  0],\n",
              "       [100],\n",
              "       [200],\n",
              "       [300],\n",
              "       [400]])"
            ]
          },
          "execution_count": null,
          "metadata": {},
          "output_type": "execute_result"
        }
      ],
      "source": [
        "y = np.array([[0], [100], [200], [300], [400]])\n",
        "y"
      ]
    },
    {
      "cell_type": "code",
      "execution_count": null,
      "metadata": {
        "colab": {
          "base_uri": "https://localhost:8080/"
        },
        "id": "lGtToyKLdjmV",
        "outputId": "44274fb3-e85e-45ce-ef99-bf13207ad919"
      },
      "outputs": [
        {
          "data": {
            "text/plain": [
              "array([[  0,   1,   2,   3,   4,   5],\n",
              "       [100, 101, 102, 103, 104, 105],\n",
              "       [200, 201, 202, 203, 204, 205],\n",
              "       [300, 301, 302, 303, 304, 305],\n",
              "       [400, 401, 402, 403, 404, 405]])"
            ]
          },
          "execution_count": null,
          "metadata": {},
          "output_type": "execute_result"
        }
      ],
      "source": [
        "x + y"
      ]
    },
    {
      "cell_type": "markdown",
      "metadata": {
        "id": "wbR2Dc3-dopP"
      },
      "source": [
        "Script:\n",
        "* This just combined `x` with 1 row of 6 columns, with `y` with 5 rows of 1 column.\n",
        "* The result had 5 rows and 6 columns.\n",
        "* If you look at the output values, you can see that the values were adding an `x` value from the same column with a `y` value from the same row.\n",
        "* How did this work?\n",
        "* First, let's look at the shapes of `x` and `y`."
      ]
    },
    {
      "cell_type": "code",
      "execution_count": null,
      "metadata": {
        "colab": {
          "base_uri": "https://localhost:8080/"
        },
        "id": "0brCwpS_eXEj",
        "outputId": "989a2973-dbd6-495e-fc98-ea5ceec39f56"
      },
      "outputs": [
        {
          "data": {
            "text/plain": [
              "(1, 6)"
            ]
          },
          "execution_count": null,
          "metadata": {},
          "output_type": "execute_result"
        }
      ],
      "source": [
        "x.shape"
      ]
    },
    {
      "cell_type": "code",
      "execution_count": null,
      "metadata": {
        "colab": {
          "base_uri": "https://localhost:8080/"
        },
        "id": "4iwvpm4yeaQj",
        "outputId": "45a10423-3251-4a74-f39b-2da055423a90"
      },
      "outputs": [
        {
          "data": {
            "text/plain": [
              "(5, 1)"
            ]
          },
          "execution_count": null,
          "metadata": {},
          "output_type": "execute_result"
        }
      ],
      "source": [
        "y.shape"
      ]
    },
    {
      "cell_type": "markdown",
      "metadata": {
        "id": "b1oqWUtSeZk6"
      },
      "source": [
        "Script:\n",
        "* Those shapes definitely do not match, but for both axes, one of the arrays has a length 1 for that axis.\n",
        "* Informally, broadcasting will work if for each axis, both arrays have the same length or at least one of them has length 1.\n",
        "* Then the output shape will be the shared or non-zero length for each axis.\n",
        "* So shapes 1 and 6 combined with 5 and 1 produced shape 5 and 6."
      ]
    },
    {
      "cell_type": "code",
      "execution_count": null,
      "metadata": {
        "colab": {
          "base_uri": "https://localhost:8080/"
        },
        "id": "Zit89vt-fXIF",
        "outputId": "0f096836-eacd-4b58-f906-d0641179d45c"
      },
      "outputs": [
        {
          "data": {
            "text/plain": [
              "(5, 6)"
            ]
          },
          "execution_count": null,
          "metadata": {},
          "output_type": "execute_result"
        }
      ],
      "source": [
        "(x + y).shape"
      ]
    },
    {
      "cell_type": "markdown",
      "metadata": {
        "id": "V7oHaR-rfdIf"
      },
      "source": [
        "Script:\n",
        "* After determining the shape, you can imagine the NumPy algorithm looping every set of indexes in the output and grabbing input values from each side.\n",
        "* When it grabs the input from each side, it adjusts the index to zero out and ignore the axes where that side only has length 1.\n",
        "* Let's look at those numbers again."
      ]
    },
    {
      "cell_type": "code",
      "execution_count": null,
      "metadata": {
        "colab": {
          "base_uri": "https://localhost:8080/"
        },
        "id": "PKbO3PxVf90H",
        "outputId": "92396d88-779e-4605-f6ee-6802fe084b69"
      },
      "outputs": [
        {
          "data": {
            "text/plain": [
              "array([[0, 1, 2, 3, 4, 5]])"
            ]
          },
          "execution_count": null,
          "metadata": {},
          "output_type": "execute_result"
        }
      ],
      "source": [
        "x"
      ]
    },
    {
      "cell_type": "code",
      "execution_count": null,
      "metadata": {
        "colab": {
          "base_uri": "https://localhost:8080/"
        },
        "id": "O6T1mFKcgBRM",
        "outputId": "d5666bd4-9150-4a9e-e5e6-a25d2b26ce4e"
      },
      "outputs": [
        {
          "data": {
            "text/plain": [
              "array([[  0],\n",
              "       [100],\n",
              "       [200],\n",
              "       [300],\n",
              "       [400]])"
            ]
          },
          "execution_count": null,
          "metadata": {},
          "output_type": "execute_result"
        }
      ],
      "source": [
        "y"
      ]
    },
    {
      "cell_type": "code",
      "execution_count": null,
      "metadata": {
        "colab": {
          "base_uri": "https://localhost:8080/"
        },
        "id": "hKm4-Tzqf_SL",
        "outputId": "01fd52bc-e44c-479d-a4e5-147acab35742"
      },
      "outputs": [
        {
          "data": {
            "text/plain": [
              "array([[  0,   1,   2,   3,   4,   5],\n",
              "       [100, 101, 102, 103, 104, 105],\n",
              "       [200, 201, 202, 203, 204, 205],\n",
              "       [300, 301, 302, 303, 304, 305],\n",
              "       [400, 401, 402, 403, 404, 405]])"
            ]
          },
          "execution_count": null,
          "metadata": {},
          "output_type": "execute_result"
        }
      ],
      "source": [
        "x + y"
      ]
    },
    {
      "cell_type": "markdown",
      "metadata": {
        "id": "NvzBZMGIgFQm"
      },
      "source": [
        "Script:\n",
        "* Since all the x values are below ten, and all the y values are multiples of a hundred, you can look at any entry of x + y and see which x and y values were added together.\n",
        "* The first column always used value 0 from the x side.\n",
        "* That is because x has length 1 in the first axis, the row axis.\n",
        "* So the one row of x was repeatedly used for each row of the output.\n",
        "* The second column always used value 1 from the x side.\n",
        "* The third column always used value 2, and so on.\n",
        "* Similarly, the y array has length 1 for the second axis.\n",
        "* y has just one column.\n",
        "* So the one column of y was repeatedly used for each column of the output.\n",
        "* That is the basic gist of how broadcasting works.\n",
        "* There are a few more rules to get a full description, particularly for arrays with different dimensions.\n",
        "* The NumPy documentation for broadcasting is pretty good, and has some nice illustrations of the process.\n",
        "* That documentation is linked in the resources section after this video.\n",
        "* One last comment about broadcasting.\n",
        "* We saw that we could combine a one row array with a one column array, and get an array with all combinations of their values.\n",
        "* That means that we got an output whose size was the product of the input sizes.\n",
        "* Which can be very powerful.\n",
        "* But also very big in memory usage and time to compute.\n",
        "* So use it when it matches your problem, but don't go overboard, especially if you won't be keeping the result."
      ]
    }
  ],
  "metadata": {
    "colab": {},
    "kernelspec": {
      "display_name": "Python 3",
      "name": "python3"
    },
    "language_info": {
      "codemirror_mode": {
        "name": "ipython",
        "version": 3
      },
      "file_extension": ".py",
      "mimetype": "text/x-python",
      "name": "python",
      "nbconvert_exporter": "python",
      "pygments_lexer": "ipython3",
      "version": "3.9.6"
    }
  },
  "nbformat": 4,
  "nbformat_minor": 0
}