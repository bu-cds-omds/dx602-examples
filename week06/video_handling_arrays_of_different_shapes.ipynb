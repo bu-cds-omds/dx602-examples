{
  "cells": [
    {
      "cell_type": "markdown",
      "metadata": {
        "id": "OHKB4VZdMi10"
      },
      "source": [
        "# Video: Handling Arrays of Different Shapes\n",
        "\n",
        "This video introduces NumPy's handling of arrays with different shapes.\n",
        "Combining arrays with individual scalars have a simple intuitive behavior.\n",
        "Broadcasting generalizes that behavior in a powerful way."
      ]
    },
    {
      "cell_type": "code",
      "execution_count": null,
      "metadata": {
        "colab": {
          "base_uri": "https://localhost:8080/"
        },
        "id": "IZPC8HvDc1Nx",
        "outputId": "a1edf74c-76d2-4280-f226-66ac5192da60"
      },
      "outputs": [
        {
          "data": {
            "text/plain": [
              "array([[0, 1, 2, 3, 4, 5]])"
            ]
          },
          "execution_count": 62,
          "metadata": {},
          "output_type": "execute_result"
        }
      ],
      "source": [
        "import numpy as np\n",
        "\n",
        "x = np.array([[0, 1, 2, 3, 4, 5]])\n",
        "x"
      ]
    },
    {
      "cell_type": "code",
      "execution_count": null,
      "metadata": {
        "colab": {
          "base_uri": "https://localhost:8080/"
        },
        "id": "bidAHfc7c8ec",
        "outputId": "5cc6717d-f1f6-4db6-9909-b10b75ed6653"
      },
      "outputs": [
        {
          "data": {
            "text/plain": [
              "array([[10, 11, 12, 13, 14]])"
            ]
          },
          "execution_count": 59,
          "metadata": {},
          "output_type": "execute_result"
        }
      ],
      "source": [
        "x + 10"
      ]
    },
    {
      "cell_type": "code",
      "execution_count": null,
      "metadata": {
        "colab": {
          "base_uri": "https://localhost:8080/"
        },
        "id": "o9JoOJ7FdY64",
        "outputId": "748b8637-3fae-4779-af8b-d49af289b4ee"
      },
      "outputs": [
        {
          "data": {
            "text/plain": [
              "array([[  0],\n",
              "       [100],\n",
              "       [200],\n",
              "       [300],\n",
              "       [400]])"
            ]
          },
          "execution_count": 60,
          "metadata": {},
          "output_type": "execute_result"
        }
      ],
      "source": [
        "y = np.array([[0], [100], [200], [300], [400]])\n",
        "y"
      ]
    },
    {
      "cell_type": "code",
      "execution_count": null,
      "metadata": {
        "colab": {
          "base_uri": "https://localhost:8080/"
        },
        "id": "lGtToyKLdjmV",
        "outputId": "44274fb3-e85e-45ce-ef99-bf13207ad919"
      },
      "outputs": [
        {
          "data": {
            "text/plain": [
              "array([[  0,   1,   2,   3,   4,   5],\n",
              "       [100, 101, 102, 103, 104, 105],\n",
              "       [200, 201, 202, 203, 204, 205],\n",
              "       [300, 301, 302, 303, 304, 305],\n",
              "       [400, 401, 402, 403, 404, 405]])"
            ]
          },
          "execution_count": 63,
          "metadata": {},
          "output_type": "execute_result"
        }
      ],
      "source": [
        "x + y"
      ]
    },
    {
      "cell_type": "code",
      "execution_count": null,
      "metadata": {
        "colab": {
          "base_uri": "https://localhost:8080/"
        },
        "id": "0brCwpS_eXEj",
        "outputId": "989a2973-dbd6-495e-fc98-ea5ceec39f56"
      },
      "outputs": [
        {
          "data": {
            "text/plain": [
              "(1, 6)"
            ]
          },
          "execution_count": 64,
          "metadata": {},
          "output_type": "execute_result"
        }
      ],
      "source": [
        "x.shape"
      ]
    },
    {
      "cell_type": "code",
      "execution_count": null,
      "metadata": {
        "colab": {
          "base_uri": "https://localhost:8080/"
        },
        "id": "4iwvpm4yeaQj",
        "outputId": "45a10423-3251-4a74-f39b-2da055423a90"
      },
      "outputs": [
        {
          "data": {
            "text/plain": [
              "(5, 1)"
            ]
          },
          "execution_count": 65,
          "metadata": {},
          "output_type": "execute_result"
        }
      ],
      "source": [
        "y.shape"
      ]
    },
    {
      "cell_type": "code",
      "execution_count": null,
      "metadata": {
        "colab": {
          "base_uri": "https://localhost:8080/"
        },
        "id": "Zit89vt-fXIF",
        "outputId": "0f096836-eacd-4b58-f906-d0641179d45c"
      },
      "outputs": [
        {
          "data": {
            "text/plain": [
              "(5, 6)"
            ]
          },
          "execution_count": 66,
          "metadata": {},
          "output_type": "execute_result"
        }
      ],
      "source": [
        "(x + y).shape"
      ]
    },
    {
      "cell_type": "code",
      "execution_count": null,
      "metadata": {
        "colab": {
          "base_uri": "https://localhost:8080/"
        },
        "id": "PKbO3PxVf90H",
        "outputId": "92396d88-779e-4605-f6ee-6802fe084b69"
      },
      "outputs": [
        {
          "data": {
            "text/plain": [
              "array([[0, 1, 2, 3, 4, 5]])"
            ]
          },
          "execution_count": 67,
          "metadata": {},
          "output_type": "execute_result"
        }
      ],
      "source": [
        "x"
      ]
    },
    {
      "cell_type": "code",
      "execution_count": null,
      "metadata": {
        "colab": {
          "base_uri": "https://localhost:8080/"
        },
        "id": "O6T1mFKcgBRM",
        "outputId": "d5666bd4-9150-4a9e-e5e6-a25d2b26ce4e"
      },
      "outputs": [
        {
          "data": {
            "text/plain": [
              "array([[  0],\n",
              "       [100],\n",
              "       [200],\n",
              "       [300],\n",
              "       [400]])"
            ]
          },
          "execution_count": 69,
          "metadata": {},
          "output_type": "execute_result"
        }
      ],
      "source": [
        "y"
      ]
    },
    {
      "cell_type": "code",
      "execution_count": null,
      "metadata": {
        "colab": {
          "base_uri": "https://localhost:8080/"
        },
        "id": "hKm4-Tzqf_SL",
        "outputId": "01fd52bc-e44c-479d-a4e5-147acab35742"
      },
      "outputs": [
        {
          "data": {
            "text/plain": [
              "array([[  0,   1,   2,   3,   4,   5],\n",
              "       [100, 101, 102, 103, 104, 105],\n",
              "       [200, 201, 202, 203, 204, 205],\n",
              "       [300, 301, 302, 303, 304, 305],\n",
              "       [400, 401, 402, 403, 404, 405]])"
            ]
          },
          "execution_count": 68,
          "metadata": {},
          "output_type": "execute_result"
        }
      ],
      "source": [
        "x + y"
      ]
    }
  ],
  "metadata": {
    "colab": {},
    "kernelspec": {
      "display_name": "Python 3",
      "name": "python3"
    },
    "language_info": {
      "codemirror_mode": {
        "name": "ipython",
        "version": 3
      },
      "file_extension": ".py",
      "mimetype": "text/x-python",
      "name": "python",
      "nbconvert_exporter": "python",
      "pygments_lexer": "ipython3",
      "version": "3.9.6"
    }
  },
  "nbformat": 4,
  "nbformat_minor": 0
}