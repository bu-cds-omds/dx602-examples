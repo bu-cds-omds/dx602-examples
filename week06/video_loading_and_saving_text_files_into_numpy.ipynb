{
  "cells": [
    {
      "cell_type": "markdown",
      "metadata": {
        "id": "Y1WH-n2BIZSu"
      },
      "source": [
        "# Video: Loading and Saving Text Files into NumPy\n",
        "\n",
        "This video gives examples of how to load and save text files into NumPy.\n",
        "This will allow direct loading of the TSV and CSV files covered in week 4 into NumPy arrays which will be more efficient in your time and computer time."
      ]
    },
    {
      "cell_type": "markdown",
      "metadata": {
        "id": "PXkN0PClAkQD"
      },
      "source": [
        "Script:\n",
        "* Let's try out NumPy's file saving functionality."
      ]
    },
    {
      "cell_type": "code",
      "execution_count": null,
      "metadata": {
        "id": "DWMpEkV08jI4"
      },
      "outputs": [],
      "source": [
        "import numpy as np\n",
        "\n",
        "x = np.array([[1,2,3], [4,5,6]])"
      ]
    },
    {
      "cell_type": "code",
      "execution_count": null,
      "metadata": {
        "id": "n1ecPLQr8-A3"
      },
      "outputs": [],
      "source": [
        "np.savetxt(\"x.txt\", x)"
      ]
    },
    {
      "cell_type": "markdown",
      "metadata": {
        "id": "cwiUuK0V9OSv"
      },
      "source": [
        "Script:\n",
        "* Let's look at the contents of the save file."
      ]
    },
    {
      "cell_type": "code",
      "execution_count": null,
      "metadata": {
        "colab": {
          "base_uri": "https://localhost:8080/"
        },
        "id": "JEBdaWAc9MHa",
        "outputId": "7e92b171-b37a-4bb7-e557-a0bd82e9113e"
      },
      "outputs": [
        {
          "name": "stdout",
          "output_type": "stream",
          "text": [
            "1.000000000000000000e+00 2.000000000000000000e+00 3.000000000000000000e+00\n",
            "4.000000000000000000e+00 5.000000000000000000e+00 6.000000000000000000e+00\n"
          ]
        }
      ],
      "source": [
        "!cat x.txt"
      ]
    },
    {
      "cell_type": "markdown",
      "metadata": {
        "id": "h9n2SE7c9Ve2"
      },
      "source": [
        "Script:\n",
        "* That line there is not Python code.\n",
        "* In a Jupyter notebook, if you start a cell with an exclamation point, you can run a shell command.\n",
        "* That command basically prints out a file.\n",
        "* So there is our file.\n",
        "* We can see all the numbers.\n",
        "* They are human readable.\n",
        "* And very long.\n",
        "* NumPy dot savetxt has some options to tweak the formatting."
      ]
    },
    {
      "cell_type": "code",
      "execution_count": null,
      "metadata": {
        "id": "p2lPO5Oi9yiA"
      },
      "outputs": [],
      "source": [
        "np.savetxt(\"x.txt\", x, fmt=\"%.3f\")"
      ]
    },
    {
      "cell_type": "code",
      "execution_count": null,
      "metadata": {
        "colab": {
          "base_uri": "https://localhost:8080/"
        },
        "id": "UaEwmv5795R5",
        "outputId": "60ec5f6c-620d-409a-c660-cda46f4a43df"
      },
      "outputs": [
        {
          "name": "stdout",
          "output_type": "stream",
          "text": [
            "1.000 2.000 3.000\n",
            "4.000 5.000 6.000\n"
          ]
        }
      ],
      "source": [
        "!cat x.txt"
      ]
    },
    {
      "cell_type": "markdown",
      "metadata": {
        "id": "dxlDZT-s-aU5"
      },
      "source": [
        "Script:\n",
        "* And maybe we should make that into a TSV or CSV so other tools can read it easily."
      ]
    },
    {
      "cell_type": "code",
      "execution_count": null,
      "metadata": {
        "id": "Pzo4v-Lj-gg7"
      },
      "outputs": [],
      "source": [
        "np.savetxt(\"x.txt\", x, delimiter=\",\", fmt=\"%.3f\")"
      ]
    },
    {
      "cell_type": "code",
      "execution_count": null,
      "metadata": {
        "colab": {
          "base_uri": "https://localhost:8080/"
        },
        "id": "REb7lwzi-nHB",
        "outputId": "621c1675-7e02-4702-90ae-178f28c942d3"
      },
      "outputs": [
        {
          "name": "stdout",
          "output_type": "stream",
          "text": [
            "1.000,2.000,3.000\n",
            "4.000,5.000,6.000\n"
          ]
        }
      ],
      "source": [
        "!cat x.txt"
      ]
    },
    {
      "cell_type": "markdown",
      "metadata": {
        "id": "hcFPyiTp9yB8"
      },
      "source": [
        "Script:\n",
        "* That file looks reasonable to me.\n",
        "* Let's load it now."
      ]
    },
    {
      "cell_type": "code",
      "execution_count": null,
      "metadata": {
        "colab": {
          "base_uri": "https://localhost:8080/"
        },
        "id": "mnnARolO-v0G",
        "outputId": "6c99caf3-3f90-4ab2-d0b6-8b5eb6dafd5e"
      },
      "outputs": [
        {
          "data": {
            "text/plain": [
              "array([[1., 2., 3.],\n",
              "       [4., 5., 6.]])"
            ]
          },
          "execution_count": null,
          "metadata": {},
          "output_type": "execute_result"
        }
      ],
      "source": [
        "np.loadtxt(\"x.txt\", delimiter=\",\")"
      ]
    },
    {
      "cell_type": "markdown",
      "metadata": {
        "id": "eyIdFUIm-3f9"
      },
      "source": [
        "Script:\n",
        "* The delimiter argument was needed because we used to save.\n",
        "* Overall, this is pretty self explanatory.\n",
        "* The format details are easy to tweak if you look at the function documentation.\n",
        "* We didn't do anything for error checking this time.\n",
        "* NumPy has another function genfromtxt with a lot of options to handle missing data, so check that out if you need it."
      ]
    }
  ],
  "metadata": {
    "colab": {},
    "kernelspec": {
      "display_name": "Python 3",
      "name": "python3"
    },
    "language_info": {
      "codemirror_mode": {
        "name": "ipython",
        "version": 3
      },
      "file_extension": ".py",
      "mimetype": "text/x-python",
      "name": "python",
      "nbconvert_exporter": "python",
      "pygments_lexer": "ipython3",
      "version": "3.9.6"
    }
  },
  "nbformat": 4,
  "nbformat_minor": 0
}