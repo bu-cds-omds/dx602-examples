{
  "cells": [
    {
      "cell_type": "markdown",
      "metadata": {
        "id": "ydsUICK35vUy"
      },
      "source": [
        "# Video: Creating Arrays of Zeros and Other Constants\n",
        "\n",
        "This video give examples of creating arrays of zeros which are convenient as a blank slate to start your calculations from scratch.\n",
        "Examples of creating arrays of all ones and other constants are also included."
      ]
    },
    {
      "cell_type": "markdown",
      "metadata": {
        "id": "zRvw7fwepwd7"
      },
      "source": [
        "Script:\n",
        "* We just talked about making a NumPy array from data that you already had in some Python data structure.\n",
        "* Now, let's make some empty or blank arrays, to start something new from scratch."
      ]
    },
    {
      "cell_type": "code",
      "execution_count": null,
      "metadata": {
        "id": "Xa-tsitOqSBS"
      },
      "outputs": [],
      "source": [
        "import numpy as np"
      ]
    },
    {
      "cell_type": "markdown",
      "metadata": {
        "id": "QEj3UPT6rS9h"
      },
      "source": [
        "Script:\n",
        "* The Numpy zeros function will make a new NumPy array full of zeros."
      ]
    },
    {
      "cell_type": "code",
      "execution_count": null,
      "metadata": {
        "colab": {
          "base_uri": "https://localhost:8080/"
        },
        "id": "uORaL8JRqjXu",
        "outputId": "470de0ce-a353-4bba-d6e4-d0822a365474"
      },
      "outputs": [
        {
          "data": {
            "text/plain": [
              "array([0., 0., 0., 0., 0., 0., 0., 0., 0., 0.])"
            ]
          },
          "execution_count": null,
          "metadata": {},
          "output_type": "execute_result"
        }
      ],
      "source": [
        "z = np.zeros(10)\n",
        "z"
      ]
    },
    {
      "cell_type": "markdown",
      "metadata": {
        "id": "7rkK4HzNqqgJ"
      },
      "source": [
        "Script:\n",
        "* The main argument is how big it should be.\n",
        "* If you pass in an integer, like I just did, then you will get a one dimensional array with that length.\n",
        "* If you pass in a tuple, that will be the length."
      ]
    },
    {
      "cell_type": "code",
      "execution_count": null,
      "metadata": {
        "colab": {
          "base_uri": "https://localhost:8080/"
        },
        "id": "aX83gfdLq-hM",
        "outputId": "bdc38023-6c1d-4bf9-885b-d060d6d616da"
      },
      "outputs": [
        {
          "data": {
            "text/plain": [
              "array([[0., 0., 0., 0., 0.],\n",
              "       [0., 0., 0., 0., 0.]])"
            ]
          },
          "execution_count": null,
          "metadata": {},
          "output_type": "execute_result"
        }
      ],
      "source": [
        "z = np.zeros((2, 5))\n",
        "z"
      ]
    },
    {
      "cell_type": "markdown",
      "metadata": {
        "id": "-TYN905drbik"
      },
      "source": [
        "Script:\n",
        "* As you can probably guess from the decimal points in that display, numpy dot zeros defaults to floating point values.\n",
        "* Let's spot check which type was used."
      ]
    },
    {
      "cell_type": "code",
      "execution_count": null,
      "metadata": {
        "colab": {
          "base_uri": "https://localhost:8080/"
        },
        "id": "gzDRECZeq5ty",
        "outputId": "efc5181e-3cf1-4309-cd35-c80ab0739af0"
      },
      "outputs": [
        {
          "data": {
            "text/plain": [
              "dtype('float64')"
            ]
          },
          "execution_count": null,
          "metadata": {},
          "output_type": "execute_result"
        }
      ],
      "source": [
        "z.dtype"
      ]
    },
    {
      "cell_type": "markdown",
      "metadata": {
        "id": "jjdnYFeMrvCw"
      },
      "source": [
        "Script:\n",
        "* So the default is float64.\n",
        "* You can override the data type by using the optional dtype argument."
      ]
    },
    {
      "cell_type": "code",
      "execution_count": null,
      "metadata": {
        "colab": {
          "base_uri": "https://localhost:8080/"
        },
        "id": "A2DcHOtBr5U4",
        "outputId": "d6b1c6b4-7994-482c-91d8-611e531874bd"
      },
      "outputs": [
        {
          "data": {
            "text/plain": [
              "array([[0, 0, 0, 0, 0],\n",
              "       [0, 0, 0, 0, 0]], dtype=int32)"
            ]
          },
          "execution_count": null,
          "metadata": {},
          "output_type": "execute_result"
        }
      ],
      "source": [
        "z = np.zeros((2, 5), dtype=\"int32\")\n",
        "z"
      ]
    },
    {
      "cell_type": "markdown",
      "metadata": {
        "id": "H-2eqb8Er-ox"
      },
      "source": [
        "Script:\n",
        "* Conveniently, it showed the dtype too.\n",
        "* I believe that will always happen if the data type is not float64 or int64, to call attention to non-default types.\n",
        "* Almost every NumPy function has that dtype parameter, so it is easy to change the output data type.\n",
        "* You will mostly use the dtype parameter when the NumPy function does not take any arrays as inputs.\n",
        "* NumPy functions taking arrays as inputs generally use the data types of their inputs.\n",
        "* If you want to match the size and data type of an existing array, there is another Numpy function zeros_like that will do that.\n"
      ]
    },
    {
      "cell_type": "code",
      "execution_count": null,
      "metadata": {
        "colab": {
          "base_uri": "https://localhost:8080/"
        },
        "id": "b8OPMAzFsQBj",
        "outputId": "ddae160c-3aad-4792-f4bc-462813da46b0"
      },
      "outputs": [
        {
          "data": {
            "text/plain": [
              "array([[0, 0, 0, 0, 0],\n",
              "       [0, 0, 0, 0, 0]], dtype=int32)"
            ]
          },
          "execution_count": null,
          "metadata": {},
          "output_type": "execute_result"
        }
      ],
      "source": [
        "z2 = np.zeros_like(z)\n",
        "z2"
      ]
    },
    {
      "cell_type": "markdown",
      "metadata": {
        "id": "Hv4tV8sDtQZN"
      },
      "source": [
        "Script:\n",
        "* Zeros and zeros_like are the most common functions to create a new array.\n",
        "* There are also functions called ones and ones_like.\n",
        "* These are just like zeros but they fill their output with ones instead of zeros."
      ]
    },
    {
      "cell_type": "code",
      "execution_count": null,
      "metadata": {
        "colab": {
          "base_uri": "https://localhost:8080/"
        },
        "id": "t1E4OYXFtpte",
        "outputId": "c1968a4d-9d71-49cd-d890-01d2d1028c59"
      },
      "outputs": [
        {
          "data": {
            "text/plain": [
              "array([[1., 1., 1., 1., 1.],\n",
              "       [1., 1., 1., 1., 1.]])"
            ]
          },
          "execution_count": null,
          "metadata": {},
          "output_type": "execute_result"
        }
      ],
      "source": [
        "o3 = np.ones((2, 5))\n",
        "o3"
      ]
    },
    {
      "cell_type": "markdown",
      "metadata": {
        "id": "D6f8LT_duPbd"
      },
      "source": [
        "Script:\n",
        "* ones and ones like also default to float64.\n",
        "* And two more functions full and full like, that take in one more argument that is filled in."
      ]
    },
    {
      "cell_type": "code",
      "execution_count": null,
      "metadata": {
        "colab": {
          "base_uri": "https://localhost:8080/"
        },
        "id": "2L8UVEJBt99u",
        "outputId": "64b41eb6-4210-4a88-b5d1-5ab5cd991f07"
      },
      "outputs": [
        {
          "data": {
            "text/plain": [
              "array([[3, 3, 3, 3, 3],\n",
              "       [3, 3, 3, 3, 3]])"
            ]
          },
          "execution_count": null,
          "metadata": {},
          "output_type": "execute_result"
        }
      ],
      "source": [
        "f = np.full((2, 5), 3)\n",
        "f"
      ]
    },
    {
      "cell_type": "markdown",
      "metadata": {
        "id": "7VxGtGSJucBr"
      },
      "source": [
        "Script:\n",
        "* Numpy full and full like pick their data type based on the value you provide.\n",
        "* If the value is a floating point number, it will be float64.\n",
        "* If the value is an integer, it will be int64.\n",
        "* You could avoid using full and full_like by using ones and ones_like and multiplying them by the value, but that is inefficient in two ways.\n",
        "* First, you have to write more code, and you have to think more about the data types to set them properly in the ones or ones like call, where full or full_like would pick based on the value provided.\n",
        "* Second, you are asking your program to create an array of ones, multiplying it by the value to make a second array, then throwing away the first one.\n",
        "* If you want an array full of a value besides zero or one, just use full and skip the extra work.\n",
        "* Now you can create a new array initialized to the value of your choice, and you know a few different functions to do so clearly and concisely."
      ]
    }
  ],
  "metadata": {
    "colab": {},
    "kernelspec": {
      "display_name": "Python 3",
      "name": "python3"
    },
    "language_info": {
      "codemirror_mode": {
        "name": "ipython",
        "version": 3
      },
      "file_extension": ".py",
      "mimetype": "text/x-python",
      "name": "python",
      "nbconvert_exporter": "python",
      "pygments_lexer": "ipython3",
      "version": "3.9.6"
    }
  },
  "nbformat": 4,
  "nbformat_minor": 0
}