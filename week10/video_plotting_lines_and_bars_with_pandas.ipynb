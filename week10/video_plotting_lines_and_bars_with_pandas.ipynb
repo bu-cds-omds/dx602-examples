{
  "cells": [
    {
      "cell_type": "markdown",
      "metadata": {
        "id": "7sStl-7oPrgt"
      },
      "source": [
        "# Video: Plotting Lines and Bars with Pandas\n",
        "\n",
        "This video covers the more generic plotting support in pandas with a focus on line and bar charts."
      ]
    },
    {
      "cell_type": "markdown",
      "metadata": {
        "id": "g-w56VXLIA6M"
      },
      "source": [
        "TODO"
      ]
    },
    {
      "cell_type": "markdown",
      "metadata": {
        "id": "QkC-X1HSPz0D"
      },
      "source": [
        "## Grouping before Plotting\n",
        "\n",
        "TODO"
      ]
    },
    {
      "cell_type": "code",
      "execution_count": 33,
      "metadata": {
        "colab": {
          "base_uri": "https://localhost:8080/",
          "height": 139
        },
        "id": "lxY4LxQo7Ge0",
        "outputId": "8b838455-5fa1-4f85-a5b7-f6ecd9dfa63c"
      },
      "outputs": [
        {
          "ename": "NameError",
          "evalue": "name 'species_groups' is not defined",
          "output_type": "error",
          "traceback": [
            "\u001b[0;31m---------------------------------------------------------------------------\u001b[0m",
            "\u001b[0;31mNameError\u001b[0m                                 Traceback (most recent call last)",
            "\u001b[0;32m<ipython-input-33-b7d2e032fa7f>\u001b[0m in \u001b[0;36m<cell line: 1>\u001b[0;34m()\u001b[0m\n\u001b[0;32m----> 1\u001b[0;31m \u001b[0mspecies_groups\u001b[0m\u001b[0;34m.\u001b[0m\u001b[0mplot\u001b[0m\u001b[0;34m(\u001b[0m\u001b[0;34m)\u001b[0m\u001b[0;34m\u001b[0m\u001b[0;34m\u001b[0m\u001b[0m\n\u001b[0m",
            "\u001b[0;31mNameError\u001b[0m: name 'species_groups' is not defined"
          ]
        }
      ],
      "source": [
        "species_groups.plot()"
      ]
    }
  ],
  "metadata": {
    "colab": {},
    "kernelspec": {
      "display_name": "Python 3",
      "name": "python3"
    },
    "language_info": {
      "codemirror_mode": {
        "name": "ipython",
        "version": 3
      },
      "file_extension": ".py",
      "mimetype": "text/x-python",
      "name": "python",
      "nbconvert_exporter": "python",
      "pygments_lexer": "ipython3",
      "version": "3.9.6"
    }
  },
  "nbformat": 4,
  "nbformat_minor": 0
}