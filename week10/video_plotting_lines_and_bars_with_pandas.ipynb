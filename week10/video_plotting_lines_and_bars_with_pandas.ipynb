{
  "cells": [
    {
      "cell_type": "markdown",
      "metadata": {
        "id": "7sStl-7oPrgt"
      },
      "source": [
        "# Video: Plotting Lines and Bars with Pandas\n",
        "\n",
        "This video covers the more generic plotting support in pandas with a focus on line and bar charts."
      ]
    },
    {
      "cell_type": "markdown",
      "metadata": {
        "id": "g-w56VXLIA6M"
      },
      "source": [
        "TODO"
      ]
    },
    {
      "cell_type": "markdown",
      "metadata": {
        "id": "QkC-X1HSPz0D"
      },
      "source": [
        "## Grouping before Plotting\n",
        "\n",
        "TODO"
      ]
    },
    {
      "cell_type": "code",
      "execution_count": null,
      "metadata": {
        "id": "lxY4LxQo7Ge0"
      },
      "outputs": [],
      "source": [
        "species_groups.plot()"
      ]
    }
  ],
  "metadata": {
    "colab": {},
    "kernelspec": {
      "display_name": "Python 3",
      "name": "python3"
    },
    "language_info": {
      "codemirror_mode": {
        "name": "ipython",
        "version": 3
      },
      "file_extension": ".py",
      "mimetype": "text/x-python",
      "name": "python",
      "nbconvert_exporter": "python",
      "pygments_lexer": "ipython3",
      "version": "3.9.6"
    }
  },
  "nbformat": 4,
  "nbformat_minor": 0
}