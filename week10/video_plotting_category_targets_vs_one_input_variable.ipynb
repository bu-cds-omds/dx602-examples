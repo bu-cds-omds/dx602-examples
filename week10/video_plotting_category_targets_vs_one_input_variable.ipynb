{
  "cells": [
    {
      "cell_type": "markdown",
      "metadata": {
        "id": "WUi6jWLVcKAK"
      },
      "source": [
        "# Video: Plotting Category Targets vs One Input Variable\n",
        "\n",
        "This video shows how to plot the relationship between a single input variable and a category target variable."
      ]
    },
    {
      "cell_type": "markdown",
      "metadata": {
        "id": "QnkONWdMGf-4"
      },
      "source": [
        "TODO barchart version, cdfs"
      ]
    },
    {
      "cell_type": "code",
      "execution_count": null,
      "metadata": {
        "id": "gy14xx7CFbnD"
      },
      "outputs": [],
      "source": [
        "import pandas as pd"
      ]
    },
    {
      "cell_type": "code",
      "execution_count": null,
      "metadata": {
        "id": "BtV8buylFa-Q"
      },
      "outputs": [],
      "source": [
        "abalone = pd.read_csv(\"https://raw.githubusercontent.com/bu-cds-omds/dx602-examples/main/data/abalone.tsv\", sep=\"\\t\")"
      ]
    },
    {
      "cell_type": "markdown",
      "metadata": {
        "id": "Oc9SsKb2KOJx"
      },
      "source": [
        "## Category Breakdowns by One Input Variable\n",
        "\n",
        "TODO"
      ]
    },
    {
      "cell_type": "markdown",
      "metadata": {
        "id": "iQ_3JIN7KZkd"
      },
      "source": [
        "## Normalized Category Breakdowns by One Input Variable\n",
        "\n",
        "TODO"
      ]
    },
    {
      "cell_type": "markdown",
      "metadata": {
        "id": "J-cVJ3AmKgLj"
      },
      "source": [
        "## Scatterplots of Target vs One Input Variable\n",
        "\n",
        "TODO"
      ]
    },
    {
      "cell_type": "markdown",
      "metadata": {
        "id": "UwD2JXsYKrqd"
      },
      "source": [
        "## Target Average vs One Input Variable\n",
        "\n",
        "TODO"
      ]
    },
    {
      "cell_type": "markdown",
      "metadata": {
        "id": "OQ3_LqXjK2Rj"
      },
      "source": [
        "## Overlay Target Average vs One Input Variable\n",
        "\n",
        "TODO over scatter plots and volume barchart"
      ]
    }
  ],
  "metadata": {
    "colab": {},
    "kernelspec": {
      "display_name": "Python 3",
      "name": "python3"
    },
    "language_info": {
      "codemirror_mode": {
        "name": "ipython",
        "version": 3
      },
      "file_extension": ".py",
      "mimetype": "text/x-python",
      "name": "python",
      "nbconvert_exporter": "python",
      "pygments_lexer": "ipython3",
      "version": "3.9.6"
    }
  },
  "nbformat": 4,
  "nbformat_minor": 0
}